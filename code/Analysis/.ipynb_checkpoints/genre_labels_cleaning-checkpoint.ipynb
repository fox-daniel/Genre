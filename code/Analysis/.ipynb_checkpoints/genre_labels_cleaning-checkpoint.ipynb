{
 "cells": [
  {
   "cell_type": "markdown",
   "metadata": {},
   "source": [
    "- [ ]  the list of genres using the script is length 1493, before 1494. Find missing?"
   ]
  },
  {
   "cell_type": "markdown",
   "metadata": {},
   "source": [
    "## This notebook is used to clean and prepare the genre label data for analysis."
   ]
  },
  {
   "cell_type": "markdown",
   "metadata": {},
   "source": [
    "- [ ] switch CSV import to use dtype list\n",
    "- [ ] move individual case respells to a script\n",
    "- [ ] reformat respell function to take a dictionary of all the cases"
   ]
  },
  {
   "cell_type": "markdown",
   "metadata": {},
   "source": [
    "## Outline of Cleaning:\n",
    "\n",
    "1. - [x] remove artists for which 'retrieved' value is 'none'\n",
    "2. - [x] remove the url prefix from the retrieved artist names \n",
    "3. - [x] replace ' ' in the artist column with '_'\n",
    "4. - [x] remove the '(singer)', '(rapper)', '(musician)' designation from the 'retrieved' column\n",
    "5. - [x] remove the artists for which the retrieved-artist != searched-artist. \n",
    "    - inspect mismatches to look for typos and different versions\n",
    "6. - [x] Deal with genre label problems\n",
    "7. - [x] Normalize genre label spelling: e.g. r&b vs rhythm and blues vs rhythm & blues\n",
    "    - [x] 'rock n roll' = 'rock & roll' etc, but 'rock' separate.\n",
    "    - [x] remove _music\n",
    "    - [x] hip hop and hip--hop -> hip-hop\n",
    "    - [ ] separate lists: look at why they aren't separated\n",
    "8. - [x] convert genre column values into lists of strings\n",
    "9. - [x] remove bands (as opposed to individuals)\n",
    "10. - [x] remove old columns\n",
    "11. - [x] extract unique genres as a list"
   ]
  },
  {
   "cell_type": "code",
   "execution_count": 1,
   "metadata": {},
   "outputs": [],
   "source": [
    "import numpy as np\n",
    "np.random.seed(23)\n",
    "import pandas as pd\n",
    "import re\n",
    "from datetime import datetime"
   ]
  },
  {
   "cell_type": "code",
   "execution_count": 2,
   "metadata": {},
   "outputs": [],
   "source": [
    "# %ls -lt /Users/Daniel/Code/Genre/data/genre_lists/data_to_be_cleaned/"
   ]
  },
  {
   "cell_type": "markdown",
   "metadata": {},
   "source": [
    "### The data set with the genders of music artists\n",
    "\n",
    "The file singers_gender.csv is from Kaggle and lists music artists and their gender. "
   ]
  },
  {
   "cell_type": "code",
   "execution_count": 3,
   "metadata": {},
   "outputs": [],
   "source": [
    "# kaggle_data = pd.read_csv('singers_gender.csv', encoding = 'latin-1')"
   ]
  },
  {
   "cell_type": "code",
   "execution_count": 4,
   "metadata": {},
   "outputs": [],
   "source": [
    "from genre_scripts.genre_cleaning import clean_genre_data"
   ]
  },
  {
   "cell_type": "markdown",
   "metadata": {},
   "source": [
    "# Caution: \n",
    "\n",
    "1. in respell_dict in genre_cleaning script: rhythm and blues --> r&b, which is a mistake, I think. Look at rules from Tom\n",
    "2. in switching to \\_and\\_ from &, sometimes introduced \"\\__\"; fix this\n",
    "3. get artist names as index from train/test split, and use this to remake the split but with the re-cleaned data"
   ]
  },
  {
   "cell_type": "code",
   "execution_count": 5,
   "metadata": {},
   "outputs": [],
   "source": [
    "data = clean_genre_data()"
   ]
  },
  {
   "cell_type": "code",
   "execution_count": 6,
   "metadata": {},
   "outputs": [
    {
     "data": {
      "text/html": [
       "<div>\n",
       "<style scoped>\n",
       "    .dataframe tbody tr th:only-of-type {\n",
       "        vertical-align: middle;\n",
       "    }\n",
       "\n",
       "    .dataframe tbody tr th {\n",
       "        vertical-align: top;\n",
       "    }\n",
       "\n",
       "    .dataframe thead th {\n",
       "        text-align: right;\n",
       "    }\n",
       "</style>\n",
       "<table border=\"1\" class=\"dataframe\">\n",
       "  <thead>\n",
       "    <tr style=\"text-align: right;\">\n",
       "      <th></th>\n",
       "      <th>artist</th>\n",
       "      <th>gender</th>\n",
       "      <th>genrelist</th>\n",
       "      <th>genrelist_length</th>\n",
       "    </tr>\n",
       "  </thead>\n",
       "  <tbody>\n",
       "    <tr>\n",
       "      <th>1</th>\n",
       "      <td>Christopher_Willits</td>\n",
       "      <td>male</td>\n",
       "      <td>[electronic, glitch, ambient, electro_acoustic...</td>\n",
       "      <td>5</td>\n",
       "    </tr>\n",
       "    <tr>\n",
       "      <th>3</th>\n",
       "      <td>Shawn_Hook</td>\n",
       "      <td>male</td>\n",
       "      <td>[pop, electronic, rock]</td>\n",
       "      <td>3</td>\n",
       "    </tr>\n",
       "    <tr>\n",
       "      <th>4</th>\n",
       "      <td>Steve_Poltz</td>\n",
       "      <td>male</td>\n",
       "      <td>[pop_rock, indie_rock, folk_rock]</td>\n",
       "      <td>3</td>\n",
       "    </tr>\n",
       "    <tr>\n",
       "      <th>6</th>\n",
       "      <td>Marvin_Isley</td>\n",
       "      <td>male</td>\n",
       "      <td>[r&amp;b, funk, soul, funk_rock]</td>\n",
       "      <td>4</td>\n",
       "    </tr>\n",
       "    <tr>\n",
       "      <th>7</th>\n",
       "      <td>Povel_Ramel</td>\n",
       "      <td>male</td>\n",
       "      <td>[vaudeville]</td>\n",
       "      <td>1</td>\n",
       "    </tr>\n",
       "  </tbody>\n",
       "</table>\n",
       "</div>"
      ],
      "text/plain": [
       "                artist gender  \\\n",
       "1  Christopher_Willits   male   \n",
       "3           Shawn_Hook   male   \n",
       "4          Steve_Poltz   male   \n",
       "6         Marvin_Isley   male   \n",
       "7          Povel_Ramel   male   \n",
       "\n",
       "                                           genrelist  genrelist_length  \n",
       "1  [electronic, glitch, ambient, electro_acoustic...                 5  \n",
       "3                            [pop, electronic, rock]                 3  \n",
       "4                  [pop_rock, indie_rock, folk_rock]                 3  \n",
       "6                       [r&b, funk, soul, funk_rock]                 4  \n",
       "7                                       [vaudeville]                 1  "
      ]
     },
     "execution_count": 6,
     "metadata": {},
     "output_type": "execute_result"
    }
   ],
   "source": [
    "data.head()"
   ]
  },
  {
   "cell_type": "markdown",
   "metadata": {},
   "source": [
    "### Extracting the unique genre labels:"
   ]
  },
  {
   "cell_type": "code",
   "execution_count": 7,
   "metadata": {},
   "outputs": [],
   "source": [
    "genre_list = data.genrelist.values.tolist()\n",
    "genre_list = [x for y in genre_list for x in y]\n",
    "genre_list = list(set(genre_list))\n",
    "genre_list = sorted(genre_list)"
   ]
  },
  {
   "cell_type": "code",
   "execution_count": 8,
   "metadata": {},
   "outputs": [
    {
     "data": {
      "text/plain": [
       "['1960s', '2_step', '2_step_garage', '2_tone', 'a_cappella']"
      ]
     },
     "execution_count": 8,
     "metadata": {},
     "output_type": "execute_result"
    }
   ],
   "source": [
    "genre_list[:5]"
   ]
  },
  {
   "cell_type": "code",
   "execution_count": 9,
   "metadata": {},
   "outputs": [
    {
     "data": {
      "text/plain": [
       "1492"
      ]
     },
     "execution_count": 9,
     "metadata": {},
     "output_type": "execute_result"
    }
   ],
   "source": [
    "len(genre_list)"
   ]
  },
  {
   "cell_type": "markdown",
   "metadata": {},
   "source": [
    "Previous list of genres had 1494. Let's import that and compare."
   ]
  },
  {
   "cell_type": "code",
   "execution_count": 10,
   "metadata": {},
   "outputs": [],
   "source": [
    "genre_list_old = pd.read_csv('../../data/genre_lists/data_ready_for_model/genre_list_2020-05-18-10-06.csv')\n",
    "genre_list_old = genre_list_old.genre_list.tolist()\n",
    "genre_list_old = sorted(genre_list_old)"
   ]
  },
  {
   "cell_type": "code",
   "execution_count": 11,
   "metadata": {},
   "outputs": [],
   "source": [
    "genre_set = set(genre_list)\n",
    "genre_set_old = set(genre_list_old)\n",
    "diff = genre_set.symmetric_difference(genre_set_old)"
   ]
  },
  {
   "cell_type": "code",
   "execution_count": 12,
   "metadata": {},
   "outputs": [
    {
     "data": {
      "text/plain": [
       "44"
      ]
     },
     "execution_count": 12,
     "metadata": {},
     "output_type": "execute_result"
    }
   ],
   "source": [
    "len(diff)"
   ]
  },
  {
   "cell_type": "code",
   "execution_count": 13,
   "metadata": {},
   "outputs": [
    {
     "data": {
      "text/plain": [
       "{'alternative_r&b',\n",
       " 'alternative_r_and_b',\n",
       " 'british_rock&roll',\n",
       " 'british_rock_and_roll',\n",
       " 'c&w',\n",
       " 'c_and_w',\n",
       " 'christian_r&b',\n",
       " 'christian_r_and_b',\n",
       " 'contemporary_r&b',\n",
       " 'contemporary_r_and_b',\n",
       " 'country&western',\n",
       " 'country_and_western',\n",
       " 'cuidado!',\n",
       " 'drum&bass',\n",
       " 'drum_and_bass',\n",
       " 'electronic_r&b',\n",
       " 'electronic_r_and_b',\n",
       " 'era',\n",
       " 'mellow_&_acoustic_rock',\n",
       " 'mellow__and__acoustic_rock',\n",
       " 'new_orleans_r&b',\n",
       " 'new_orleans_r_and_b',\n",
       " 'opera_&_musical',\n",
       " 'opera__and__musical',\n",
       " 'orgasmic_r&b',\n",
       " 'orgasmic_r_and_b',\n",
       " 'praise&worship',\n",
       " 'praise_and_worship',\n",
       " 'r&b',\n",
       " 'r&bang',\n",
       " 'r&g',\n",
       " 'r_and_b',\n",
       " 'r_and_bang',\n",
       " 'r_and_g',\n",
       " 'rhythm_&_grime',\n",
       " 'rhythm__and__grime',\n",
       " 'rock&roll',\n",
       " 'rock&roll_revival',\n",
       " 'rock_and_roll',\n",
       " 'rock_and_roll_revival',\n",
       " 'screwed_&_chopped',\n",
       " 'screwed__and__chopped',\n",
       " 'struggle_&_protest',\n",
       " 'struggle__and__protest'}"
      ]
     },
     "execution_count": 13,
     "metadata": {},
     "output_type": "execute_result"
    }
   ],
   "source": [
    "diff"
   ]
  },
  {
   "cell_type": "markdown",
   "metadata": {},
   "source": [
    "Issues:\n",
    "\n",
    "& vs. and\n",
    "\n",
    "Old - New:\n",
    "'era'\n",
    "'cuidado!'\n",
    "\n",
    "These last two are not genres. See https://en.wikipedia.org/wiki/Lob%C3%A3o for details."
   ]
  },
  {
   "cell_type": "code",
   "execution_count": null,
   "metadata": {},
   "outputs": [],
   "source": []
  },
  {
   "cell_type": "code",
   "execution_count": null,
   "metadata": {},
   "outputs": [],
   "source": []
  },
  {
   "cell_type": "code",
   "execution_count": 19,
   "metadata": {},
   "outputs": [
    {
     "name": "stdout",
     "output_type": "stream",
     "text": [
      "There are 15470 artists with genre and binary-gender labels.\n",
      "There are 1493 unique genre labels.\n"
     ]
    }
   ],
   "source": [
    "print('There are {} artists with genre and binary-gender labels.'.format(data.shape[0]))\n",
    "print('There are {} unique genre labels.'.format(len(genre_list)))"
   ]
  },
  {
   "cell_type": "markdown",
   "metadata": {},
   "source": [
    "### Export full data set for further use:"
   ]
  },
  {
   "cell_type": "code",
   "execution_count": 179,
   "metadata": {},
   "outputs": [],
   "source": [
    "today = datetime.today()\n",
    "now = today.strftime('%Y-%m-%d-%H-%M')\n",
    "#now = 'temp'"
   ]
  },
  {
   "cell_type": "code",
   "execution_count": 180,
   "metadata": {},
   "outputs": [],
   "source": [
    "data.to_csv('/Users/Daniel/Code/Genre/data/genre_lists/data_ready_for_model/wiki-kaggle_genres_gender_cleaned_{}.csv'.format(now))"
   ]
  },
  {
   "cell_type": "markdown",
   "metadata": {},
   "source": [
    "### Export the list of genres:"
   ]
  },
  {
   "cell_type": "code",
   "execution_count": 181,
   "metadata": {},
   "outputs": [],
   "source": [
    "genre_list_df = pd.DataFrame({'genre_list':genre_list})"
   ]
  },
  {
   "cell_type": "code",
   "execution_count": 182,
   "metadata": {},
   "outputs": [],
   "source": [
    "genre_list_df.to_csv('/Users/Daniel/Code/Genre/data/genre_lists/data_ready_for_model/genre_list_{}.csv'.format(now))"
   ]
  },
  {
   "cell_type": "code",
   "execution_count": 183,
   "metadata": {},
   "outputs": [
    {
     "name": "stdout",
     "output_type": "stream",
     "text": [
      "total 30960\r\n",
      "-rw-r--r--  1 Daniel  staff    24591 May 11 14:34 genre_list_2020-05-11-14-34.csv\r\n",
      "-rw-r--r--  1 Daniel  staff   951681 May 11 14:34 wiki-kaggle_genres_gender_cleaned_2020-05-11-14-34.csv\r\n",
      "-rw-r--r--  1 Daniel  staff    25112 May  7 15:49 genre_list_2020-05-07-15-49.csv\r\n",
      "-rw-r--r--  1 Daniel  staff  1501714 May  7 15:49 wiki-kaggle_genres_gender_cleaned_2020-05-07-15-49.csv\r\n",
      "-rw-r--r--  1 Daniel  staff    25150 May  7 15:47 genre_list_2020-05-07-15-47.csv\r\n",
      "-rw-r--r--  1 Daniel  staff  1501728 May  7 15:47 wiki-kaggle_genres_gender_cleaned_2020-05-07-15-47.csv\r\n",
      "-rw-r--r--  1 Daniel  staff    25179 May  7 15:45 genre_list_2020-05-07-15-45.csv\r\n",
      "-rw-r--r--  1 Daniel  staff  1501719 May  7 15:45 wiki-kaggle_genres_gender_cleaned_2020-05-07-15-45.csv\r\n",
      "-rw-r--r--  1 Daniel  staff    25197 May  7 15:32 genre_list_2020-05-07-15-32.csv\r\n",
      "-rw-r--r--  1 Daniel  staff  1501722 May  7 15:32 wiki-kaggle_genres_gender_cleaned_2020-05-07-15-32.csv\r\n",
      "-rw-r--r--  1 Daniel  staff    25286 May  7 15:22 genre_list_2020-05-07-15-22.csv\r\n",
      "-rw-r--r--  1 Daniel  staff  1501698 May  7 15:22 wiki-kaggle_genres_gender_cleaned_2020-05-07-15-22.csv\r\n",
      "-rw-r--r--  1 Daniel  staff    25349 May  7 15:20 genre_list_2020-05-07-15-20.csv\r\n",
      "-rw-r--r--  1 Daniel  staff  1501692 May  7 15:20 wiki-kaggle_genres_gender_cleaned_2020-05-07-15-20.csv\r\n",
      "-rw-r--r--  1 Daniel  staff    25380 May  7 15:16 genre_list_2020-05-07-15-16.csv\r\n",
      "-rw-r--r--  1 Daniel  staff  1501704 May  7 15:16 wiki-kaggle_genres_gender_cleaned_2020-05-07-15-16.csv\r\n",
      "-rw-r--r--  1 Daniel  staff     8756 May  6 07:44 genre_list_issues.csv\r\n",
      "-rw-r--r--  1 Daniel  staff    28796 May  5 14:03 genre_list_2020-05-05-14-03.csv\r\n",
      "-rw-r--r--  1 Daniel  staff   954255 May  5 14:03 wiki-kaggle_genres_gender_cleaned_2020-05-05-14-03.csv\r\n",
      "-rw-r--r--  1 Daniel  staff    28584 May  4 13:32 genre_list_training_2020-05-04-09-42.csv\r\n",
      "-rw-r--r--  1 Daniel  staff    12435 May  4 09:48 genre_label_non-lonely_2020-05-04-09-42.csv\r\n",
      "-rw-r--r--  1 Daniel  staff    12624 May  4 09:47 genre_label_lonely_2020-05-04-09-42.csv\r\n",
      "-rw-r--r--  1 Daniel  staff    25056 May  4 09:47 genre_label_counts_2020-05-04-09-42.csv\r\n",
      "-rw-r--r--  1 Daniel  staff    58329 May  4 09:42 wiki-kaggle_y_test_2020-05-04-09-42.csv\r\n",
      "-rw-r--r--  1 Daniel  staff   158698 May  4 09:42 wiki-kaggle_X_test_2020-05-04-09-42.csv\r\n",
      "-rw-r--r--  1 Daniel  staff   233198 May  4 09:42 wiki-kaggle_y_train_2020-05-04-09-42.csv\r\n",
      "-rw-r--r--  1 Daniel  staff   629408 May  4 09:42 wiki-kaggle_X_train_2020-05-04-09-42.csv\r\n",
      "-rw-r--r--  1 Daniel  staff    31816 May  4 09:39 genre_list_2020-05-04-09-39.csv\r\n",
      "-rw-r--r--  1 Daniel  staff   960526 May  4 09:39 wiki-kaggle_genres_gender_cleaned_2020-05-04-09-39.csv\r\n",
      "-rw-r--r--  1 Daniel  staff     1508 May  1 09:19 dan_sample_to_verify_2020-05-01-09-16.csv\r\n",
      "-rw-r--r--  1 Daniel  staff     1470 May  1 09:19 tom_sample_to_verify_2020-05-01-09-16.csv\r\n",
      "-rw-r--r--  1 Daniel  staff   963617 May  1 09:16 wiki-kaggle_genres_gender_cleaned_2020-05-01-09-16.csv\r\n"
     ]
    }
   ],
   "source": [
    "%ls -lt ../../data/genre_lists/data_ready_for_model/"
   ]
  },
  {
   "cell_type": "markdown",
   "metadata": {},
   "source": [
    "## Viewing the genre list:"
   ]
  },
  {
   "cell_type": "code",
   "execution_count": 184,
   "metadata": {},
   "outputs": [],
   "source": [
    "glist = pd.read_csv('/Users/Daniel/Code/Genre/data/genre_lists/data_ready_for_model/genre_list_{}.csv'.format(now))"
   ]
  },
  {
   "cell_type": "code",
   "execution_count": 185,
   "metadata": {},
   "outputs": [],
   "source": [
    "glist.drop(['Unnamed: 0'], axis =1, inplace = True)"
   ]
  },
  {
   "cell_type": "code",
   "execution_count": 186,
   "metadata": {},
   "outputs": [],
   "source": [
    "glist = glist.sort_values('genre_list')"
   ]
  },
  {
   "cell_type": "code",
   "execution_count": 187,
   "metadata": {},
   "outputs": [],
   "source": [
    "pd.set_option('display.max_rows', None)\n",
    "pd.options.display.max_rows"
   ]
  },
  {
   "cell_type": "markdown",
   "metadata": {},
   "source": [
    "Display the list of unique genre labels:"
   ]
  },
  {
   "cell_type": "code",
   "execution_count": 8,
   "metadata": {
    "scrolled": false
   },
   "outputs": [],
   "source": [
    "#glist"
   ]
  },
  {
   "cell_type": "markdown",
   "metadata": {},
   "source": [
    "issues --all are dealt with\n"
   ]
  },
  {
   "cell_type": "code",
   "execution_count": 189,
   "metadata": {},
   "outputs": [
    {
     "data": {
      "text/plain": [
       "692    ['medieval folk rock', 'folk rock', 'hard rock...\n",
       "Name: genre_respell, dtype: object"
      ]
     },
     "execution_count": 189,
     "metadata": {},
     "output_type": "execute_result"
    }
   ],
   "source": [
    "data_full.genre_respell[data_full.genre.str.contains(r\"medieval.{0,1}folk\")]"
   ]
  },
  {
   "cell_type": "code",
   "execution_count": 190,
   "metadata": {},
   "outputs": [
    {
     "data": {
      "text/plain": [
       "'Shirley_Murdock'"
      ]
     },
     "execution_count": 190,
     "metadata": {},
     "output_type": "execute_result"
    }
   ],
   "source": [
    "data.artist.loc[22047]"
   ]
  },
  {
   "cell_type": "code",
   "execution_count": 191,
   "metadata": {},
   "outputs": [
    {
     "data": {
      "text/plain": [
       "['r&b', 'soul', 'jazz_funk', 'gospel', 'smooth_soul']"
      ]
     },
     "execution_count": 191,
     "metadata": {},
     "output_type": "execute_result"
    }
   ],
   "source": [
    "data_full.genrelist.loc[22047]"
   ]
  },
  {
   "cell_type": "code",
   "execution_count": 192,
   "metadata": {},
   "outputs": [
    {
     "data": {
      "text/plain": [
       "['pop', 'r&b', 'electro_pop', 'alternative_pop']"
      ]
     },
     "execution_count": 192,
     "metadata": {},
     "output_type": "execute_result"
    }
   ],
   "source": [
    "data_full.genrelist.loc[19082]"
   ]
  },
  {
   "cell_type": "code",
   "execution_count": null,
   "metadata": {},
   "outputs": [],
   "source": []
  },
  {
   "cell_type": "code",
   "execution_count": 193,
   "metadata": {},
   "outputs": [
    {
     "data": {
      "text/plain": [
       "3                           east_coast_blues\n",
       "14                          avant_garde_jazz\n",
       "17                          bossa_nova_samba\n",
       "23                          new_york_hip_hop\n",
       "24                        funeral_doom_metal\n",
       "63                           new_orleans_r&b\n",
       "69                     childrens_book_author\n",
       "73                         post_punk_revival\n",
       "87                       neue_deutsche_härte\n",
       "88                    alternative_guitar_pop\n",
       "89                        industrial_hip_hop\n",
       "101                         new_orleans_jazz\n",
       "102                     new_age_instrumental\n",
       "103                        christian_new_age\n",
       "114                          french_pop_rock\n",
       "136                          rock_en_español\n",
       "179                           new_jack_swing\n",
       "186                         west_coast_blues\n",
       "192                   neoclassical_dark_wave\n",
       "204                   mellow_&_acoustic_rock\n",
       "213                              pop_hip_hop\n",
       "217                        british_folk_rock\n",
       "220                          afro_punk_blues\n",
       "223                    symphonic_power_metal\n",
       "253                     classic_female_blues\n",
       "254                          brown_eyed_soul\n",
       "255                        puerto_rican_folk\n",
       "260                      alternative_hip_hop\n",
       "268                  traditional_pop_country\n",
       "287                        country_and_irish\n",
       "293                           old_time_radio\n",
       "296                       spoken_word_comedy\n",
       "297                        country_folk_rock\n",
       "313                         pop_rock_electro\n",
       "334                        mardi_gras_indian\n",
       "372                       british_dance_band\n",
       "375                american_primitive_guitar\n",
       "379         fingerstyle_and_classical_guitar\n",
       "386                        new_weird_america\n",
       "387                           jewish_hip_hop\n",
       "388                urban_contemporary_gospel\n",
       "390                          opera_&_musical\n",
       "399                     neo_progressive_rock\n",
       "407                  great_american_songbook\n",
       "408         contemporary_catholic_liturgical\n",
       "417                         juke_joint_blues\n",
       "420                         nerdcore_hip_hop\n",
       "424                        old_time_american\n",
       "425                       european_free_jazz\n",
       "444                         kansas_city_jazz\n",
       "448               traditional_acoustic_blues\n",
       "467                         avant_garde_prog\n",
       "483                        screwed_&_chopped\n",
       "490                      garage_rock_revival\n",
       "498                           blue_eyed_soul\n",
       "502                      underground_hip_hop\n",
       "509             avant_garde_progressive_rock\n",
       "515                          east_bay_grease\n",
       "528                             neo_bop_jazz\n",
       "537                      americana_folk_song\n",
       "538                      scrumpy_and_western\n",
       "546                         white_power_rock\n",
       "555                         avant_garde_rock\n",
       "568                 show_tunes__contemporary\n",
       "572                          blues_and_roots\n",
       "576     north_mississippi_hill_country_blues\n",
       "608                            latin_hip_hop\n",
       "634                    hong_kong_english_pop\n",
       "641                            fife_and_drum\n",
       "644                   rock_against_communism\n",
       "647                     experimental_hip_hop\n",
       "649                       middle_of_the_road\n",
       "660                        conscious_hip_hop\n",
       "679              the_great_american_songbook\n",
       "683                       piano_pop_and_rock\n",
       "692                       medieval_folk_rock\n",
       "694       industrial_tinged_alternative_folk\n",
       "722                            folk_pop_rock\n",
       "727                      chopped_and_screwed\n",
       "730                         southern_hip_hop\n",
       "740                         hardcore_hip_hop\n",
       "745            baltimiddle_of_the_roade_club\n",
       "748                       old_school_hip_hop\n",
       "769               christian_alternative_rock\n",
       "776             satirical_and_musical_comedy\n",
       "813                             death_n_roll\n",
       "815                     jimi_hendrix_tribute\n",
       "840             surreal_humiddle_of_the_road\n",
       "863                   american_sign_language\n",
       "874                        new_orleans_blues\n",
       "879                         gulf_and_western\n",
       "901                        christian_hip_hop\n",
       "908                       golden_age_hip_hop\n",
       "913                          avant_garde_rap\n",
       "915                          avant_garde_pop\n",
       "919                           korean_hip_hop\n",
       "935                               uk_hip_hop\n",
       "944                         jazz_rock_fusion\n",
       "947            contemporary_jewish_religious\n",
       "950                    nueva_cancion_chilena\n",
       "966                      neue_deutsche_welle\n",
       "983                            space_age_pop\n",
       "986                            2_step_garage\n",
       "988                        music_of_hawaiian\n",
       "992                           west_coast_rap\n",
       "1005                          comedy_hip_hop\n",
       "1023                         british_hip_hop\n",
       "1027                traditional_black_gospel\n",
       "1029               acoustic_progressive_rock\n",
       "1043               música_popular_brasileira\n",
       "1052                         atlanta_hip_hop\n",
       "1055                      east_coast_hip_hop\n",
       "1059                          old_style_jazz\n",
       "1071       folk_influenced_singer_songwriter\n",
       "1075                        canadian_hip_hop\n",
       "1076                   symphonic_black_metal\n",
       "1077                      struggle_&_protest\n",
       "1093            professional_wrestling_theme\n",
       "1094                         midwest_hip_hop\n",
       "1103                          rhythm_&_grime\n",
       "1127                      rock_in_opposition\n",
       "1128             french_contemporary_chanson\n",
       "1142                       political_hip_hop\n",
       "1148                   blackened_death_metal\n",
       "1163                    tuvan_throat_singing\n",
       "1196                    western_european_art\n",
       "1205                          french_hip_hop\n",
       "1206                         afro_cuban_jazz\n",
       "1216                               lo_fi_rap\n",
       "1225                          east_coast_rap\n",
       "1241                 progressive_death_metal\n",
       "1242                         proto_surf_rock\n",
       "1252                   technical_death_metal\n",
       "1253                    instrumental_hip_hop\n",
       "1256                           kan_ha_diskan\n",
       "1261                     melodic_death_metal\n",
       "1264                       avant_garde_metal\n",
       "1268                  industrial_black_metal\n",
       "1270                          german_hip_hop\n",
       "1273                            hip_hop_soul\n",
       "1288                    electronic_indie_pop\n",
       "1307                          third_wave_ska\n",
       "1319                           folk_art_rock\n",
       "1326                          big_room_house\n",
       "1333                      west_coast_hip_hop\n",
       "1338               pacific_northwest_hip_hop\n",
       "1344                     urban__contemporary\n",
       "1349                     melodic_black_metal\n",
       "1356                        bossa_and_others\n",
       "1357                         māori_show_band\n",
       "1392                       northwest_hip_hop\n",
       "1422                       rock_celtic_blues\n",
       "1433               musica_popular_brasileira\n",
       "1441                      hill_country_blues\n",
       "1444                             cha_cha_cha\n",
       "1455                          st_louis_blues\n",
       "1462                   truck_driving_country\n",
       "1463                        show_tuness_jazz\n",
       "1480                         west_coast_jazz\n",
       "1483                         epic_doom_metal\n",
       "1493                       music_of_colombia\n",
       "Name: genre_list, dtype: object"
      ]
     },
     "execution_count": 193,
     "metadata": {},
     "output_type": "execute_result"
    }
   ],
   "source": [
    "genre_list_df.genre_list[genre_list_df.genre_list.str.contains(r\".*_.*_.*\")]"
   ]
  },
  {
   "cell_type": "code",
   "execution_count": null,
   "metadata": {},
   "outputs": [],
   "source": []
  },
  {
   "cell_type": "code",
   "execution_count": null,
   "metadata": {},
   "outputs": [],
   "source": []
  },
  {
   "cell_type": "code",
   "execution_count": null,
   "metadata": {},
   "outputs": [],
   "source": []
  },
  {
   "cell_type": "raw",
   "metadata": {},
   "source": []
  }
 ],
 "metadata": {
  "kernelspec": {
   "display_name": "Python 3",
   "language": "python",
   "name": "python3"
  },
  "language_info": {
   "codemirror_mode": {
    "name": "ipython",
    "version": 3
   },
   "file_extension": ".py",
   "mimetype": "text/x-python",
   "name": "python",
   "nbconvert_exporter": "python",
   "pygments_lexer": "ipython3",
   "version": "3.7.3"
  }
 },
 "nbformat": 4,
 "nbformat_minor": 4
}
