{
 "cells": [
  {
   "cell_type": "markdown",
   "metadata": {},
   "source": [
    "This notebook calculates the following:\n",
    "### <p><center>For each genre, what is the gender split among all artists that are labeled with that genre?</center></p> \n",
    "\n",
    "- Part 1 compiles a dataframe ('genre_stats') with this information along with some other stats on each genre label from the training set.\n",
    "- Part 2 further analyzes this information.\n",
    "\n",
    "Unless something needs to be recalculated, start at Part 2 where a copy of the dataframe 'genre_stats' is imported; the calculation of it is ~5 min. "
   ]
  },
  {
   "cell_type": "code",
   "execution_count": 44,
   "metadata": {
    "scrolled": true
   },
   "outputs": [],
   "source": [
    "import numpy as np\n",
    "import pandas as pd\n",
    "\n",
    "import matplotlib.pyplot as plt\n",
    "import seaborn as sns; sns.set()\n",
    "%matplotlib inline\n",
    "#%matplotlib notebook\n",
    "\n",
    "\n",
    "import re\n",
    "\n",
    "from functools import partial\n",
    "\n",
    "import plotly.graph_objects as go"
   ]
  },
  {
   "cell_type": "markdown",
   "metadata": {},
   "source": [
    "# Part 1"
   ]
  },
  {
   "cell_type": "markdown",
   "metadata": {},
   "source": [
    "Import the cleaned data:"
   ]
  },
  {
   "cell_type": "code",
   "execution_count": 45,
   "metadata": {
    "scrolled": true
   },
   "outputs": [],
   "source": [
    "#%ls -lt ../../data/genre_lists/data_ready_for_model/"
   ]
  },
  {
   "cell_type": "code",
   "execution_count": 46,
   "metadata": {
    "scrolled": true
   },
   "outputs": [
    {
     "data": {
      "text/plain": [
       "'2020-05-18-10-06'"
      ]
     },
     "execution_count": 46,
     "metadata": {},
     "output_type": "execute_result"
    }
   ],
   "source": [
    "%store -r now\n",
    "now\n",
    "#now = '2020-05-11-14-35'"
   ]
  },
  {
   "cell_type": "code",
   "execution_count": 47,
   "metadata": {
    "scrolled": true
   },
   "outputs": [],
   "source": [
    "X_train = pd.read_csv('/Users/Daniel/Code/Genre/data/genre_lists/data_ready_for_model/wiki-kaggle_X_train_{}.csv'.format(now), index_col = ['artist'])\n",
    "y_train = pd.read_csv('/Users/Daniel/Code/Genre/data/genre_lists/data_ready_for_model/wiki-kaggle_y_train_{}.csv'.format(now), index_col = ['artist'])"
   ]
  },
  {
   "cell_type": "markdown",
   "metadata": {},
   "source": [
    "### Genre Labels -- as a list\n",
    "\n",
    "Each value of the genre column is a _string_ of comma separated genre labels using the spotify abbreviations. We want to convert it to a _list_ of strings."
   ]
  },
  {
   "cell_type": "code",
   "execution_count": 48,
   "metadata": {},
   "outputs": [],
   "source": [
    "\"\"\"This function takes in a string of the form\n",
    "appearing in the genrelist of the dataframe.\n",
    "It strips the square brackets and extra quotes and\n",
    "returns a list of strings where each string is a genre label.\"\"\"\n",
    "def genrelist(string):\n",
    "    string = string.strip(\"[\").strip(\"]\").replace(\"'\",\"\")\n",
    "    L = [s for s in string.split(',')]\n",
    "    L_new = []\n",
    "    for x in L:\n",
    "        L_new.append(x.replace(\" \",\"_\").lstrip(\"_\").rstrip(\"_\"))\n",
    "    while (str(\"\") in L_new):\n",
    "        L_new.remove(\"\")\n",
    "    return L_new"
   ]
  },
  {
   "cell_type": "markdown",
   "metadata": {},
   "source": [
    "Now we apply\n",
    "- it to the whole column and put the lists in a new column\n",
    "- assemble X,y into DF\n",
    "-reset index to 'artist_id'"
   ]
  },
  {
   "cell_type": "code",
   "execution_count": 49,
   "metadata": {},
   "outputs": [],
   "source": [
    "X_train['genrelist']= X_train['genrelist'].apply(genrelist)\n",
    "\n",
    "data = X_train.join(y_train, how = 'inner', on = 'artist')\n",
    "\n",
    "data.reset_index(inplace = True)\n",
    "data.index.name = 'artist_id'\n",
    "data_set_size = data.shape[0]"
   ]
  },
  {
   "cell_type": "code",
   "execution_count": 50,
   "metadata": {},
   "outputs": [
    {
     "data": {
      "text/html": [
       "<div>\n",
       "<style scoped>\n",
       "    .dataframe tbody tr th:only-of-type {\n",
       "        vertical-align: middle;\n",
       "    }\n",
       "\n",
       "    .dataframe tbody tr th {\n",
       "        vertical-align: top;\n",
       "    }\n",
       "\n",
       "    .dataframe thead th {\n",
       "        text-align: right;\n",
       "    }\n",
       "</style>\n",
       "<table border=\"1\" class=\"dataframe\">\n",
       "  <thead>\n",
       "    <tr style=\"text-align: right;\">\n",
       "      <th></th>\n",
       "      <th>artist</th>\n",
       "      <th>genrelist</th>\n",
       "      <th>genrelist_length</th>\n",
       "      <th>gender</th>\n",
       "    </tr>\n",
       "    <tr>\n",
       "      <th>artist_id</th>\n",
       "      <th></th>\n",
       "      <th></th>\n",
       "      <th></th>\n",
       "      <th></th>\n",
       "    </tr>\n",
       "  </thead>\n",
       "  <tbody>\n",
       "    <tr>\n",
       "      <th>0</th>\n",
       "      <td>Pablo_Holman</td>\n",
       "      <td>[pop, rock, emo_pop]</td>\n",
       "      <td>3</td>\n",
       "      <td>male</td>\n",
       "    </tr>\n",
       "    <tr>\n",
       "      <th>1</th>\n",
       "      <td>Bobby_Edwards</td>\n",
       "      <td>[country]</td>\n",
       "      <td>1</td>\n",
       "      <td>male</td>\n",
       "    </tr>\n",
       "    <tr>\n",
       "      <th>2</th>\n",
       "      <td>La_Palabra</td>\n",
       "      <td>[afro_cuban_jazz, son_montuno, guaracha, salsa...</td>\n",
       "      <td>4</td>\n",
       "      <td>male</td>\n",
       "    </tr>\n",
       "    <tr>\n",
       "      <th>3</th>\n",
       "      <td>Sherrick</td>\n",
       "      <td>[r_and_b, soul]</td>\n",
       "      <td>2</td>\n",
       "      <td>male</td>\n",
       "    </tr>\n",
       "    <tr>\n",
       "      <th>4</th>\n",
       "      <td>Allen_Collins</td>\n",
       "      <td>[southern_rock]</td>\n",
       "      <td>1</td>\n",
       "      <td>male</td>\n",
       "    </tr>\n",
       "  </tbody>\n",
       "</table>\n",
       "</div>"
      ],
      "text/plain": [
       "                  artist                                          genrelist  \\\n",
       "artist_id                                                                     \n",
       "0           Pablo_Holman                               [pop, rock, emo_pop]   \n",
       "1          Bobby_Edwards                                          [country]   \n",
       "2             La_Palabra  [afro_cuban_jazz, son_montuno, guaracha, salsa...   \n",
       "3               Sherrick                                    [r_and_b, soul]   \n",
       "4          Allen_Collins                                    [southern_rock]   \n",
       "\n",
       "           genrelist_length gender  \n",
       "artist_id                           \n",
       "0                         3   male  \n",
       "1                         1   male  \n",
       "2                         4   male  \n",
       "3                         2   male  \n",
       "4                         1   male  "
      ]
     },
     "execution_count": 50,
     "metadata": {},
     "output_type": "execute_result"
    }
   ],
   "source": [
    "data.head()"
   ]
  },
  {
   "cell_type": "markdown",
   "metadata": {},
   "source": [
    "- Full genre_list (not just that for the training set)\n",
    "- Vocab Dict and Size\n",
    "- max length of lists"
   ]
  },
  {
   "cell_type": "code",
   "execution_count": 51,
   "metadata": {},
   "outputs": [],
   "source": [
    "genre_list = pd.read_csv('/Users/Daniel/Code/Genre/data/genre_lists/data_ready_for_model/genre_list_{}.csv'.format(now))\n",
    "genre_list.drop(['Unnamed: 0'], axis = 1, inplace = True)\n",
    "genre_list['genre_id'] = list(range(1,genre_list.shape[0]+1))\n",
    "\n",
    "#Size of the vocab:\n",
    "vocab_size = genre_list.shape[0]\n",
    "\n",
    "#Create a dictionary {genre_label: genre_id}\n",
    "label_id_dict = genre_list.set_index(['genre_list'])['genre_id'].to_dict()\n",
    "id_label_dict = genre_list.set_index(['genre_id'])['genre_list'].to_dict()\n",
    "\n",
    "\n",
    "\n",
    "#Find max length of genre lists:\n",
    "max_list_length = data.genrelist_length.max()"
   ]
  },
  {
   "cell_type": "markdown",
   "metadata": {},
   "source": [
    "### Count thefrequency of each label and prepare other columns\n",
    "\n",
    "(This deals only with the training data, not the test data.)"
   ]
  },
  {
   "cell_type": "code",
   "execution_count": 52,
   "metadata": {
    "scrolled": true
   },
   "outputs": [],
   "source": [
    "genre_list_1 = data.genrelist.values.tolist()\n",
    "genre_list_1 = [x for y in genre_list_1 for x in y]\n",
    "genre_counts = pd.Series(genre_list_1, name = 'frequency')\n",
    "genre_stats = genre_counts.value_counts().to_frame()\n",
    "genre_stats.index.name = 'label'"
   ]
  },
  {
   "cell_type": "code",
   "execution_count": 53,
   "metadata": {},
   "outputs": [],
   "source": [
    "# encode labels as ints within the list\n",
    "def encode_list(row):\n",
    "    return [label_id_dict[item] for item in row.genrelist]\n",
    "\n",
    "data['genres_encoded_as_list'] = data.apply(encode_list, axis = 1)\n",
    "\n",
    "#Check that the encoding is consistent: \n",
    "# n = np.random.randint(data.shape[0])\n",
    "# [label_id_dict[item] for item in data.genrelist.iloc[n]], data.genres_encoded_as_list.iloc[n]\n",
    "\n",
    "# Encode targets. The categories still appear as strings. To see the encoding use df.column.cat.codes.\n",
    "data['gender'] = data.gender.apply(lambda x: 1 if x == 'female' else 0)"
   ]
  },
  {
   "cell_type": "code",
   "execution_count": 10,
   "metadata": {
    "scrolled": true
   },
   "outputs": [],
   "source": [
    "max_num_male = 73\n",
    "max_num_female = 11\n",
    "max_num = max(max_num_female, max_num_male)"
   ]
  },
  {
   "cell_type": "markdown",
   "metadata": {},
   "source": [
    "### Stats by that genre label\n",
    "- [ ] do this using sparse dataframe with one-hot encoding for speed up?"
   ]
  },
  {
   "cell_type": "code",
   "execution_count": 11,
   "metadata": {},
   "outputs": [],
   "source": [
    "# fnc used with apply to data to select artists with a given label\n",
    "def indicate(row):\n",
    "    if label in row.genrelist:\n",
    "        return 1\n",
    "    else:\n",
    "        return 0"
   ]
  },
  {
   "cell_type": "code",
   "execution_count": 18,
   "metadata": {},
   "outputs": [
    {
     "data": {
      "text/plain": [
       "Index(['artist', 'genrelist', 'genrelist_length', 'gender'], dtype='object')"
      ]
     },
     "execution_count": 18,
     "metadata": {},
     "output_type": "execute_result"
    }
   ],
   "source": [
    "data.columns"
   ]
  },
  {
   "cell_type": "code",
   "execution_count": 13,
   "metadata": {},
   "outputs": [],
   "source": [
    "# produce stats for each label: male, female; mean number of labels; max, min number of labels\n",
    "idx_list = []\n",
    "for label in genre_stats.index: # use labels ordered by their frequency of appearance\n",
    "    data['indicator'] = data.apply(indicate, axis = 1)\n",
    "    label_artists = data[data.indicator == 1]\n",
    "    genre_stats.loc[label,'female'] = int(label_artists.gender.sum())\n",
    "    genre_stats.loc[label,'male'] = label_artists.shape[0]-label_artists.gender.sum()\n",
    "    genre_stats.loc[label,'max_list_length'] = label_artists.genrelist_length.max()\n",
    "    genre_stats.loc[label,'min_list_length'] = label_artists.genrelist_length.min()\n",
    "    genre_stats.loc[label,'mean_list_length'] = label_artists.genrelist_length.mean()\n",
    "    #data.drop(['indicator'], inplace = True)\n",
    "\n",
    "# calculated columns\n",
    "genre_stats['female%'] = genre_stats['female']/genre_stats['frequency']\n",
    "genre_stats['male%'] = genre_stats['male']/genre_stats['frequency']\n",
    "# reorder columns\n",
    "genre_stats = genre_stats[['frequency','female','male','female%','male%','max_list_length','min_list_length','mean_list_length']]"
   ]
  },
  {
   "cell_type": "markdown",
   "metadata": {},
   "source": [
    "Write to csv:"
   ]
  },
  {
   "cell_type": "code",
   "execution_count": 15,
   "metadata": {},
   "outputs": [],
   "source": [
    "genre_stats.to_csv('/Users/Daniel/Code/Genre/data/genre_lists/data_ready_for_model/genre_stats.csv')"
   ]
  },
  {
   "cell_type": "markdown",
   "metadata": {},
   "source": [
    "# Part 2"
   ]
  },
  {
   "cell_type": "code",
   "execution_count": 54,
   "metadata": {},
   "outputs": [],
   "source": [
    "genre_stats = pd.read_csv('/Users/Daniel/Code/Genre/data/genre_lists/data_ready_for_model/genre_stats.csv', index_col = 'label')"
   ]
  },
  {
   "cell_type": "code",
   "execution_count": 55,
   "metadata": {},
   "outputs": [
    {
     "data": {
      "text/html": [
       "<div>\n",
       "<style scoped>\n",
       "    .dataframe tbody tr th:only-of-type {\n",
       "        vertical-align: middle;\n",
       "    }\n",
       "\n",
       "    .dataframe tbody tr th {\n",
       "        vertical-align: top;\n",
       "    }\n",
       "\n",
       "    .dataframe thead th {\n",
       "        text-align: right;\n",
       "    }\n",
       "</style>\n",
       "<table border=\"1\" class=\"dataframe\">\n",
       "  <thead>\n",
       "    <tr style=\"text-align: right;\">\n",
       "      <th></th>\n",
       "      <th>frequency</th>\n",
       "      <th>female</th>\n",
       "      <th>male</th>\n",
       "      <th>female%</th>\n",
       "      <th>male%</th>\n",
       "      <th>max_list_length</th>\n",
       "      <th>min_list_length</th>\n",
       "      <th>mean_list_length</th>\n",
       "    </tr>\n",
       "    <tr>\n",
       "      <th>label</th>\n",
       "      <th></th>\n",
       "      <th></th>\n",
       "      <th></th>\n",
       "      <th></th>\n",
       "      <th></th>\n",
       "      <th></th>\n",
       "      <th></th>\n",
       "      <th></th>\n",
       "    </tr>\n",
       "  </thead>\n",
       "  <tbody>\n",
       "    <tr>\n",
       "      <th>pop</th>\n",
       "      <td>2617</td>\n",
       "      <td>1321.0</td>\n",
       "      <td>1294.0</td>\n",
       "      <td>0.504776</td>\n",
       "      <td>0.494459</td>\n",
       "      <td>73.0</td>\n",
       "      <td>1.0</td>\n",
       "      <td>3.065392</td>\n",
       "    </tr>\n",
       "    <tr>\n",
       "      <th>rock</th>\n",
       "      <td>1765</td>\n",
       "      <td>356.0</td>\n",
       "      <td>1409.0</td>\n",
       "      <td>0.201700</td>\n",
       "      <td>0.798300</td>\n",
       "      <td>13.0</td>\n",
       "      <td>1.0</td>\n",
       "      <td>3.373371</td>\n",
       "    </tr>\n",
       "    <tr>\n",
       "      <th>r_and_b</th>\n",
       "      <td>1647</td>\n",
       "      <td>760.0</td>\n",
       "      <td>887.0</td>\n",
       "      <td>0.461445</td>\n",
       "      <td>0.538555</td>\n",
       "      <td>13.0</td>\n",
       "      <td>1.0</td>\n",
       "      <td>3.585914</td>\n",
       "    </tr>\n",
       "    <tr>\n",
       "      <th>country</th>\n",
       "      <td>1613</td>\n",
       "      <td>504.0</td>\n",
       "      <td>1108.0</td>\n",
       "      <td>0.312461</td>\n",
       "      <td>0.686919</td>\n",
       "      <td>12.0</td>\n",
       "      <td>1.0</td>\n",
       "      <td>2.358561</td>\n",
       "    </tr>\n",
       "    <tr>\n",
       "      <th>hip_hop</th>\n",
       "      <td>1114</td>\n",
       "      <td>187.0</td>\n",
       "      <td>927.0</td>\n",
       "      <td>0.167864</td>\n",
       "      <td>0.832136</td>\n",
       "      <td>73.0</td>\n",
       "      <td>1.0</td>\n",
       "      <td>2.538600</td>\n",
       "    </tr>\n",
       "  </tbody>\n",
       "</table>\n",
       "</div>"
      ],
      "text/plain": [
       "         frequency  female    male   female%     male%  max_list_length  \\\n",
       "label                                                                     \n",
       "pop           2617  1321.0  1294.0  0.504776  0.494459             73.0   \n",
       "rock          1765   356.0  1409.0  0.201700  0.798300             13.0   \n",
       "r_and_b       1647   760.0   887.0  0.461445  0.538555             13.0   \n",
       "country       1613   504.0  1108.0  0.312461  0.686919             12.0   \n",
       "hip_hop       1114   187.0   927.0  0.167864  0.832136             73.0   \n",
       "\n",
       "         min_list_length  mean_list_length  \n",
       "label                                       \n",
       "pop                  1.0          3.065392  \n",
       "rock                 1.0          3.373371  \n",
       "r_and_b              1.0          3.585914  \n",
       "country              1.0          2.358561  \n",
       "hip_hop              1.0          2.538600  "
      ]
     },
     "execution_count": 55,
     "metadata": {},
     "output_type": "execute_result"
    }
   ],
   "source": [
    "genre_stats.head()"
   ]
  },
  {
   "cell_type": "code",
   "execution_count": 56,
   "metadata": {},
   "outputs": [],
   "source": [
    "genre_stats.to_html('/Users/Daniel/Code/Genre/data/genre_lists/data_ready_for_model/genre_stats.html')"
   ]
  },
  {
   "cell_type": "markdown",
   "metadata": {},
   "source": [
    "Overall ratio to total of female and male artists:"
   ]
  },
  {
   "cell_type": "code",
   "execution_count": 57,
   "metadata": {},
   "outputs": [
    {
     "data": {
      "text/plain": [
       "(0.3108435681965094, 0.6891564318034906)"
      ]
     },
     "execution_count": 57,
     "metadata": {},
     "output_type": "execute_result"
    }
   ],
   "source": [
    "fem = data.gender.sum()/data.shape[0]\n",
    "mal = (1-data.gender).sum()/data.shape[0]\n",
    "fem, mal"
   ]
  },
  {
   "cell_type": "markdown",
   "metadata": {},
   "source": [
    "The following quantities will be useful:\n",
    "\n",
    "\\begin{align}\n",
    "\\text{freq(c)} &= \\text{number of artists with the genre label c }\\\\\n",
    "\\text{freq_fem(c)} &= \\text{number of female artists with the genre label c }\\\\\n",
    "\\text{freq_mal(c)} &= \\text{number of male artists with the genre label c }\\\\\n",
    "\\text{mal} &= \\text{percentage of male artists in the sample}\\\\\n",
    "\\text{fem} &= \\text{percentage of female artists in the sample}\\\\\n",
    "\\text{fem(c)} &= \\text{percentage of female artists with genre label c}\\\\\n",
    "\\text{mal(c)} &= \\text{percentage of male artists with genre label c}\\\\\n",
    "\\text{fem_exp(c)} &= (\\text{freq(c)}) \\cdot (\\text{mal})\\\\\n",
    "\\text{mal_exp(c)} &= (\\text{freq(c)}) \\cdot (\\text{fem})\n",
    "\\end{align}\n",
    "\n",
    "We now introduce a measure of gender bias referred to as fem_bias / mal_bias:\n",
    "\\begin{align}\n",
    "\\text{fem_bias(c)} &= \\frac{\\text{freq_fem(c)}}{\\text{fem_exp(c)}} = \\frac{\\text{fem(c)}}{\\text{fem}}\\\\\n",
    "\\end{align}"
   ]
  },
  {
   "cell_type": "code",
   "execution_count": 58,
   "metadata": {},
   "outputs": [],
   "source": [
    "genre_stats['f_bias'] = genre_stats['female%']/fem\n",
    "genre_stats['m_bias'] = genre_stats['male%']/mal"
   ]
  },
  {
   "cell_type": "markdown",
   "metadata": {},
   "source": [
    "Rank male_biased genres (with frequency >= 100) by male_bias descending:"
   ]
  },
  {
   "cell_type": "code",
   "execution_count": 59,
   "metadata": {},
   "outputs": [],
   "source": [
    "male_bias_freq100 = genre_stats[(genre_stats.frequency >= 100) & (genre_stats['m_bias'] > 1)].sort_values(['m_bias'], ascending = False)"
   ]
  },
  {
   "cell_type": "markdown",
   "metadata": {},
   "source": [
    "Rank female_biased genres (with frequency >= 100) by female_bias descending:"
   ]
  },
  {
   "cell_type": "code",
   "execution_count": 60,
   "metadata": {},
   "outputs": [],
   "source": [
    "female_bias_freq100 = genre_stats[(genre_stats.frequency >= 100) & (genre_stats['f_bias'] > 1)].sort_values(['f_bias'], ascending = False)"
   ]
  },
  {
   "cell_type": "markdown",
   "metadata": {},
   "source": [
    "Rank male_biased genres (with frequency >= 50) by overall male_bias descending:"
   ]
  },
  {
   "cell_type": "code",
   "execution_count": 61,
   "metadata": {},
   "outputs": [],
   "source": [
    "maleness_freq50 = genre_stats[(genre_stats.frequency >= 50) & (genre_stats['m_bias'] > 1)].sort_values(['male%'], ascending = False)"
   ]
  },
  {
   "cell_type": "markdown",
   "metadata": {},
   "source": [
    "Rank female_biased genres (with frequency >= 50) by overall female_bias descending:"
   ]
  },
  {
   "cell_type": "code",
   "execution_count": 62,
   "metadata": {},
   "outputs": [],
   "source": [
    "femaleness_freq50 = genre_stats[(genre_stats.frequency >= 50) & (genre_stats['f_bias'] > 1)].sort_values(['female%'], ascending = False)"
   ]
  },
  {
   "cell_type": "code",
   "execution_count": 63,
   "metadata": {},
   "outputs": [],
   "source": [
    "maleness_freq50.to_html('/Users/Daniel/Code/Genre/data/genre_lists/data_ready_for_model/maleness_freq50.html') \n",
    "femaleness_freq50.to_html('/Users/Daniel/Code/Genre/data/genre_lists/data_ready_for_model/femaleness_freq50.html') \n",
    "male_bias_freq100.to_html('/Users/Daniel/Code/Genre/data/genre_lists/data_ready_for_model/male_bias_freq100.html')\n",
    "female_bias_freq100.to_html('/Users/Daniel/Code/Genre/data/genre_lists/data_ready_for_model/female_bias_freq100.html')"
   ]
  },
  {
   "cell_type": "code",
   "execution_count": null,
   "metadata": {},
   "outputs": [],
   "source": []
  }
 ],
 "metadata": {
  "kernelspec": {
   "display_name": "Python 3",
   "language": "python",
   "name": "python3"
  },
  "language_info": {
   "codemirror_mode": {
    "name": "ipython",
    "version": 3
   },
   "file_extension": ".py",
   "mimetype": "text/x-python",
   "name": "python",
   "nbconvert_exporter": "python",
   "pygments_lexer": "ipython3",
   "version": "3.7.3"
  }
 },
 "nbformat": 4,
 "nbformat_minor": 4
}
