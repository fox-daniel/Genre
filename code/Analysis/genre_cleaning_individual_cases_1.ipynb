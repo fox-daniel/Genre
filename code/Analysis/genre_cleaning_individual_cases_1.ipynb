{
 "cells": [
  {
   "cell_type": "code",
   "execution_count": null,
   "metadata": {},
   "outputs": [],
   "source": [
    "import numpy as np\n",
    "np.random.seed(23)\n",
    "import pandas as pd\n",
    "import re\n",
    "from datetime import datetime\n",
    "\n",
    "# indices are loc\n",
    "\n",
    "def cleaning_individual_cases_1(data):\n",
    "    data.genre.at[6650] = \"['ambient pop', 'folktronica', 'indietronica', 'indie folk']\"\n",
    "    data.genre.at[17600] = \"['alternative rock', 'alternative metal', 'nu metal', 'gothic metal']\"\n",
    "    data.genre.at[11961] = \"['celticana']\"\n",
    "    data.genre.at[13278] = \"['pop', 'house music']\"\n",
    "    data.genre.at[15232] = \"['pop', 'rock', 'folk-rock', rock-electronic, ballad']\"\n",
    "    data.genre.at[15556] = \"['cajun', 'country', ' hillbilly, rockabilly, r&b']\"\n",
    "    data.genre.at[11935] = '[rock, active rock, country, jazz standards, childrens folk]'\n",
    "    data.at[13009, 'genre'] = \"['punk rock', 'art rock', 'jewish rock', 'garage punk', 'obscuro', 'metal','marching band', 'jewish music', 'jazz',  'pitbash', 'jewish punk', 'thrash', 'opera']\"\n",
    "    data.at[11170,'genre'] = \"['aor', 'pop_rock', 'pop', 'disco', 'soul']\"\n",
    "    data.at[3535,'genre'] = \"['praise&worship']\"\n",
    "    data.at[22536, 'genre'] = \"['observational', 'blue comedy', 'musical_comedy']\"\n",
    "    data.at[12183, 'genre'] = \"['jazz', 'blues', 'jump_blues', 'rock']\"\n",
    "    data.at[9679, 'genre'] = \"['singer-songwriter', 'world beat', 'alternative pop', 'lounge', 'electronic', 'world music', 'indie pop', 'j-synth', 'cool jazz', 'fusion', 'electro-pop']\"\n",
    "    data.at[2374, 'genre'] = \"['blues', 'ballads', 'rock & roll']\"\n",
    "    data.at[7946, 'genre'] = \"['dancehall', 'reggae fusion', 'eurodance']\"\n",
    "    data.at[12500, 'genre'] = \"['classical', 'folk']\"\n",
    "    data.at[9732, 'genre'] = \"['pop', 'r&b', ' electropop', 'alternative pop']\"\n",
    "    data.at[19082, 'genre'] = \"['pop', 'r&b', ' electropop', 'alternative pop']\"\n",
    "    data.at[3843, 'genre'] = \"['gospel','gospel blues']\"\n",
    "    data.at[17494, 'genre'] = \"['lo-fi','diy','indie','popcore', 'beat poetry']\"\n",
    "    data.at[10414, 'genre'] = \"['cabaret', 'pop', 'contemporary opera']\"\n",
    "    data.at[14600, 'genre'] = \"['rock', 'pop', 'jazz', 'r&b', 'country', ' blues', 'roots']\"\n",
    "    data.at[10022, 'genre'] = \"['indie','alternative rock', 'pop punk']\"\n",
    "    data.at[13433, 'genre'] = \"['blues', 'roots', ' rock and roll', 'americana', 'rhythm and blues', 'alternative']\"\n",
    "    data.at[2295, 'genre'] = \"['r&b', ' jazz', 'funk', 'rock']\"\n",
    "    data.at[3017, 'genre'] = \"['jazz fusion', 'jazz funk', 'bluegrass pop']\"\n",
    "    data.at[18667, 'genre'] = \"['jazz', 'latin-jazz', 'pop']\"\n",
    "    \n",
    "    return data"
   ]
  }
 ],
 "metadata": {
  "kernelspec": {
   "display_name": "Python 3",
   "language": "python",
   "name": "python3"
  },
  "language_info": {
   "codemirror_mode": {
    "name": "ipython",
    "version": 3
   },
   "file_extension": ".py",
   "mimetype": "text/x-python",
   "name": "python",
   "nbconvert_exporter": "python",
   "pygments_lexer": "ipython3",
   "version": "3.7.3"
  }
 },
 "nbformat": 4,
 "nbformat_minor": 4
}
