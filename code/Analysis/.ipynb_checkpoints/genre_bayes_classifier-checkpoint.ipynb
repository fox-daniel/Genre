{
 "cells": [
  {
   "cell_type": "markdown",
   "metadata": {},
   "source": [
    "# Create a Bayes Classifier as a baseline for our modeling"
   ]
  },
  {
   "cell_type": "code",
   "execution_count": 9,
   "metadata": {},
   "outputs": [],
   "source": [
    "import numpy as np\n",
    "import pandas as pd\n",
    "\n",
    "import matplotlib.pyplot as plt\n",
    "import seaborn as sns; sns.set()\n",
    "\n",
    "import re"
   ]
  },
  {
   "cell_type": "markdown",
   "metadata": {},
   "source": [
    "Import the cleaned data:"
   ]
  },
  {
   "cell_type": "code",
   "execution_count": 10,
   "metadata": {
    "scrolled": true
   },
   "outputs": [],
   "source": [
    "#%ls -lt ../../data/genre_lists/data_ready_for_model/"
   ]
  },
  {
   "cell_type": "code",
   "execution_count": 11,
   "metadata": {
    "scrolled": true
   },
   "outputs": [
    {
     "data": {
      "text/plain": [
       "'2020-05-18-10-06'"
      ]
     },
     "execution_count": 11,
     "metadata": {},
     "output_type": "execute_result"
    }
   ],
   "source": [
    "%store -r now\n",
    "now\n",
    "#now = '2020-05-11-14-35'"
   ]
  },
  {
   "cell_type": "code",
   "execution_count": 12,
   "metadata": {
    "scrolled": true
   },
   "outputs": [],
   "source": [
    "X_train = pd.read_csv('/Users/Daniel/Code/Genre/data/genre_lists/data_ready_for_model/wiki-kaggle_X_train_{}.csv'.format(now), index_col = ['artist'])\n",
    "y_train = pd.read_csv('/Users/Daniel/Code/Genre/data/genre_lists/data_ready_for_model/wiki-kaggle_y_train_{}.csv'.format(now), index_col = ['artist'])"
   ]
  },
  {
   "cell_type": "markdown",
   "metadata": {},
   "source": [
    "### Genre Labels -- as a set\n",
    "\n",
    "Each value of the genre column is a _string_ of comma separated genre labels using the spotify abbreviations. We want to convert it to a _set_ of strings."
   ]
  },
  {
   "cell_type": "code",
   "execution_count": 13,
   "metadata": {},
   "outputs": [],
   "source": [
    "\"\"\"This function takes in a string of the form\n",
    "appearing in the genrelist of the dataframe.\n",
    "It strips the square brackets and extra quotes and\n",
    "returns a list of strings where each string is a genre label.\"\"\"\n",
    "def genrelist(string):\n",
    "    string = string.strip(\"[\").strip(\"]\").replace(\"'\",\"\")\n",
    "    L = [s for s in string.split(',')]\n",
    "    L_new = []\n",
    "    for x in L:\n",
    "        L_new.append(x.replace(\" \",\"_\").lstrip(\"_\").rstrip(\"_\"))\n",
    "    while (str(\"\") in L_new):\n",
    "        L_new.remove(\"\")\n",
    "    return set(L_new)"
   ]
  },
  {
   "cell_type": "markdown",
   "metadata": {},
   "source": [
    "Now we apply\n",
    "- it to the whole column and put the lists in a new column\n",
    "- assemble X,y into DF\n",
    "-reset index to 'artist_id'"
   ]
  },
  {
   "cell_type": "code",
   "execution_count": 14,
   "metadata": {},
   "outputs": [],
   "source": [
    "X_train['genre_set']= X_train['genrelist'].apply(genrelist)\n",
    "\n",
    "data = X_train.join(y_train, how = 'inner', on = 'artist')\n",
    "\n",
    "data.reset_index(inplace = True)\n",
    "data.index.name = 'artist_id'\n",
    "data_set_size = data.shape[0]"
   ]
  },
  {
   "cell_type": "code",
   "execution_count": 15,
   "metadata": {},
   "outputs": [
    {
     "data": {
      "text/html": [
       "<div>\n",
       "<style scoped>\n",
       "    .dataframe tbody tr th:only-of-type {\n",
       "        vertical-align: middle;\n",
       "    }\n",
       "\n",
       "    .dataframe tbody tr th {\n",
       "        vertical-align: top;\n",
       "    }\n",
       "\n",
       "    .dataframe thead th {\n",
       "        text-align: right;\n",
       "    }\n",
       "</style>\n",
       "<table border=\"1\" class=\"dataframe\">\n",
       "  <thead>\n",
       "    <tr style=\"text-align: right;\">\n",
       "      <th></th>\n",
       "      <th>artist</th>\n",
       "      <th>genrelist</th>\n",
       "      <th>genrelist_length</th>\n",
       "      <th>genre_set</th>\n",
       "      <th>gender</th>\n",
       "    </tr>\n",
       "    <tr>\n",
       "      <th>artist_id</th>\n",
       "      <th></th>\n",
       "      <th></th>\n",
       "      <th></th>\n",
       "      <th></th>\n",
       "      <th></th>\n",
       "    </tr>\n",
       "  </thead>\n",
       "  <tbody>\n",
       "    <tr>\n",
       "      <th>0</th>\n",
       "      <td>Pablo_Holman</td>\n",
       "      <td>['pop', 'rock', 'emo_pop']</td>\n",
       "      <td>3</td>\n",
       "      <td>{rock, pop, emo_pop}</td>\n",
       "      <td>male</td>\n",
       "    </tr>\n",
       "    <tr>\n",
       "      <th>1</th>\n",
       "      <td>Bobby_Edwards</td>\n",
       "      <td>['country']</td>\n",
       "      <td>1</td>\n",
       "      <td>{country}</td>\n",
       "      <td>male</td>\n",
       "    </tr>\n",
       "    <tr>\n",
       "      <th>2</th>\n",
       "      <td>La_Palabra</td>\n",
       "      <td>['afro_cuban_jazz', 'son_montuno', 'guaracha',...</td>\n",
       "      <td>4</td>\n",
       "      <td>{salsa_romántica, guaracha, son_montuno, afro_...</td>\n",
       "      <td>male</td>\n",
       "    </tr>\n",
       "    <tr>\n",
       "      <th>3</th>\n",
       "      <td>Sherrick</td>\n",
       "      <td>['r_and_b', 'soul']</td>\n",
       "      <td>2</td>\n",
       "      <td>{soul, r_and_b}</td>\n",
       "      <td>male</td>\n",
       "    </tr>\n",
       "    <tr>\n",
       "      <th>4</th>\n",
       "      <td>Allen_Collins</td>\n",
       "      <td>['southern_rock']</td>\n",
       "      <td>1</td>\n",
       "      <td>{southern_rock}</td>\n",
       "      <td>male</td>\n",
       "    </tr>\n",
       "  </tbody>\n",
       "</table>\n",
       "</div>"
      ],
      "text/plain": [
       "                  artist                                          genrelist  \\\n",
       "artist_id                                                                     \n",
       "0           Pablo_Holman                         ['pop', 'rock', 'emo_pop']   \n",
       "1          Bobby_Edwards                                        ['country']   \n",
       "2             La_Palabra  ['afro_cuban_jazz', 'son_montuno', 'guaracha',...   \n",
       "3               Sherrick                                ['r_and_b', 'soul']   \n",
       "4          Allen_Collins                                  ['southern_rock']   \n",
       "\n",
       "           genrelist_length  \\\n",
       "artist_id                     \n",
       "0                         3   \n",
       "1                         1   \n",
       "2                         4   \n",
       "3                         2   \n",
       "4                         1   \n",
       "\n",
       "                                                   genre_set gender  \n",
       "artist_id                                                            \n",
       "0                                       {rock, pop, emo_pop}   male  \n",
       "1                                                  {country}   male  \n",
       "2          {salsa_romántica, guaracha, son_montuno, afro_...   male  \n",
       "3                                            {soul, r_and_b}   male  \n",
       "4                                            {southern_rock}   male  "
      ]
     },
     "execution_count": 15,
     "metadata": {},
     "output_type": "execute_result"
    }
   ],
   "source": [
    "data.head()"
   ]
  },
  {
   "cell_type": "markdown",
   "metadata": {},
   "source": [
    "- Full genre_list (not just that for the training set)\n",
    "- Vocab Dict and Size\n",
    "- max length of lists"
   ]
  },
  {
   "cell_type": "code",
   "execution_count": 17,
   "metadata": {},
   "outputs": [],
   "source": [
    "genre_list = pd.read_csv('/Users/Daniel/Code/Genre/data/genre_lists/data_ready_for_model/genre_list_{}.csv'.format(now))\n",
    "genre_list.drop(['Unnamed: 0'], axis = 1, inplace = True)\n",
    "genre_list['genre_id'] = list(range(1,genre_list.shape[0]+1))\n",
    "\n",
    "#Size of the vocab:\n",
    "vocab_size = genre_list.shape[0]\n",
    "\n",
    "#Create a dictionary {genre_label: genre_id}\n",
    "genre_list.set_index(['genre_list'], inplace = True)\n",
    "label_id_dict = genre_list['genre_id'].to_dict()\n",
    "\n",
    "#Find max length of genre lists:\n",
    "max_list_length = data.genrelist_length.max()"
   ]
  },
  {
   "cell_type": "code",
   "execution_count": 28,
   "metadata": {},
   "outputs": [],
   "source": [
    "# encode labels as ints within the list\n",
    "def encode_list(row):\n",
    "    return {label_id_dict[item] for item in row.genre_set}\n",
    "\n",
    "data['genre_set_encoded'] = data.apply(encode_list, axis = 1)\n",
    "\n",
    "#Check that the encoding is consistent: \n",
    "# n = np.random.randint(data.shape[0])\n",
    "# [label_id_dict[item] for item in data.genrelist.iloc[n]], data.genres_encoded_as_list.iloc[n]\n",
    "\n",
    "# Encode targets. The categories still appear as strings. To see the encoding use df.column.cat.codes.\n",
    "data['gender'] = data.gender.apply(lambda x: 1 if x == 'female' else 0)"
   ]
  },
  {
   "cell_type": "code",
   "execution_count": 29,
   "metadata": {},
   "outputs": [
    {
     "data": {
      "text/html": [
       "<div>\n",
       "<style scoped>\n",
       "    .dataframe tbody tr th:only-of-type {\n",
       "        vertical-align: middle;\n",
       "    }\n",
       "\n",
       "    .dataframe tbody tr th {\n",
       "        vertical-align: top;\n",
       "    }\n",
       "\n",
       "    .dataframe thead th {\n",
       "        text-align: right;\n",
       "    }\n",
       "</style>\n",
       "<table border=\"1\" class=\"dataframe\">\n",
       "  <thead>\n",
       "    <tr style=\"text-align: right;\">\n",
       "      <th></th>\n",
       "      <th>artist</th>\n",
       "      <th>genrelist</th>\n",
       "      <th>genrelist_length</th>\n",
       "      <th>genre_set</th>\n",
       "      <th>gender</th>\n",
       "      <th>genre_set_encoded</th>\n",
       "    </tr>\n",
       "    <tr>\n",
       "      <th>artist_id</th>\n",
       "      <th></th>\n",
       "      <th></th>\n",
       "      <th></th>\n",
       "      <th></th>\n",
       "      <th></th>\n",
       "      <th></th>\n",
       "    </tr>\n",
       "  </thead>\n",
       "  <tbody>\n",
       "    <tr>\n",
       "      <th>0</th>\n",
       "      <td>Pablo_Holman</td>\n",
       "      <td>['pop', 'rock', 'emo_pop']</td>\n",
       "      <td>3</td>\n",
       "      <td>{rock, pop, emo_pop}</td>\n",
       "      <td>0</td>\n",
       "      <td>{794, 1007, 1431}</td>\n",
       "    </tr>\n",
       "    <tr>\n",
       "      <th>1</th>\n",
       "      <td>Bobby_Edwards</td>\n",
       "      <td>['country']</td>\n",
       "      <td>1</td>\n",
       "      <td>{country}</td>\n",
       "      <td>0</td>\n",
       "      <td>{465}</td>\n",
       "    </tr>\n",
       "    <tr>\n",
       "      <th>2</th>\n",
       "      <td>La_Palabra</td>\n",
       "      <td>['afro_cuban_jazz', 'son_montuno', 'guaracha',...</td>\n",
       "      <td>4</td>\n",
       "      <td>{salsa_romántica, guaracha, son_montuno, afro_...</td>\n",
       "      <td>0</td>\n",
       "      <td>{809, 1442, 1004, 1357}</td>\n",
       "    </tr>\n",
       "    <tr>\n",
       "      <th>3</th>\n",
       "      <td>Sherrick</td>\n",
       "      <td>['r_and_b', 'soul']</td>\n",
       "      <td>2</td>\n",
       "      <td>{soul, r_and_b}</td>\n",
       "      <td>0</td>\n",
       "      <td>{1426, 359}</td>\n",
       "    </tr>\n",
       "    <tr>\n",
       "      <th>4</th>\n",
       "      <td>Allen_Collins</td>\n",
       "      <td>['southern_rock']</td>\n",
       "      <td>1</td>\n",
       "      <td>{southern_rock}</td>\n",
       "      <td>0</td>\n",
       "      <td>{1186}</td>\n",
       "    </tr>\n",
       "  </tbody>\n",
       "</table>\n",
       "</div>"
      ],
      "text/plain": [
       "                  artist                                          genrelist  \\\n",
       "artist_id                                                                     \n",
       "0           Pablo_Holman                         ['pop', 'rock', 'emo_pop']   \n",
       "1          Bobby_Edwards                                        ['country']   \n",
       "2             La_Palabra  ['afro_cuban_jazz', 'son_montuno', 'guaracha',...   \n",
       "3               Sherrick                                ['r_and_b', 'soul']   \n",
       "4          Allen_Collins                                  ['southern_rock']   \n",
       "\n",
       "           genrelist_length  \\\n",
       "artist_id                     \n",
       "0                         3   \n",
       "1                         1   \n",
       "2                         4   \n",
       "3                         2   \n",
       "4                         1   \n",
       "\n",
       "                                                   genre_set  gender  \\\n",
       "artist_id                                                              \n",
       "0                                       {rock, pop, emo_pop}       0   \n",
       "1                                                  {country}       0   \n",
       "2          {salsa_romántica, guaracha, son_montuno, afro_...       0   \n",
       "3                                            {soul, r_and_b}       0   \n",
       "4                                            {southern_rock}       0   \n",
       "\n",
       "                 genre_set_encoded  \n",
       "artist_id                           \n",
       "0                {794, 1007, 1431}  \n",
       "1                            {465}  \n",
       "2          {809, 1442, 1004, 1357}  \n",
       "3                      {1426, 359}  \n",
       "4                           {1186}  "
      ]
     },
     "execution_count": 29,
     "metadata": {},
     "output_type": "execute_result"
    }
   ],
   "source": [
    "data.head()"
   ]
  },
  {
   "cell_type": "code",
   "execution_count": null,
   "metadata": {},
   "outputs": [],
   "source": []
  },
  {
   "cell_type": "markdown",
   "metadata": {},
   "source": [
    "Create column with genre_set"
   ]
  },
  {
   "cell_type": "markdown",
   "metadata": {},
   "source": [
    "Need to create set of sets and check membership:"
   ]
  },
  {
   "cell_type": "code",
   "execution_count": 4,
   "metadata": {},
   "outputs": [
    {
     "data": {
      "text/plain": [
       "False"
      ]
     },
     "execution_count": 4,
     "metadata": {},
     "output_type": "execute_result"
    }
   ],
   "source": [
    "s1 = {1,2,3}\n",
    "s2 = {2,3,4}\n",
    "ss = [s1, s2]\n",
    "{1,3,4} in ss"
   ]
  },
  {
   "cell_type": "markdown",
   "metadata": {},
   "source": [
    "List of genre sets:"
   ]
  },
  {
   "cell_type": "code",
   "execution_count": 5,
   "metadata": {},
   "outputs": [],
   "source": [
    "genre_sets = []\n",
    "set_counts = "
   ]
  },
  {
   "cell_type": "code",
   "execution_count": null,
   "metadata": {},
   "outputs": [],
   "source": [
    "def set_counting(row):\n",
    "    if row.genre_set in genre_sets:"
   ]
  }
 ],
 "metadata": {
  "kernelspec": {
   "display_name": "Python 3",
   "language": "python",
   "name": "python3"
  },
  "language_info": {
   "codemirror_mode": {
    "name": "ipython",
    "version": 3
   },
   "file_extension": ".py",
   "mimetype": "text/x-python",
   "name": "python",
   "nbconvert_exporter": "python",
   "pygments_lexer": "ipython3",
   "version": "3.7.3"
  }
 },
 "nbformat": 4,
 "nbformat_minor": 4
}
