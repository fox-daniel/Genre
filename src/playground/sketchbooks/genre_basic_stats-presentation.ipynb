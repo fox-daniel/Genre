{
 "cells": [
  {
   "cell_type": "markdown",
   "metadata": {},
   "source": [
    "This notebook examines the basic stats and shape of the data."
   ]
  },
  {
   "cell_type": "code",
   "execution_count": 1,
   "metadata": {},
   "outputs": [
    {
     "name": "stdout",
     "output_type": "stream",
     "text": [
      "Stored 'now' (str)\n"
     ]
    }
   ],
   "source": [
    "import numpy as np\n",
    "import pandas as pd\n",
    "from sklearn.model_selection import train_test_split \n",
    "np.random.seed(23)\n",
    "import matplotlib.pyplot as plt\n",
    "# the variable 'now' references the datetime that the data was saved. \n",
    "# Other notebooks call it to reference the most recent version of the cleaned data.\n",
    "now = '2020-07-07-09-58'\n",
    "%store now"
   ]
  },
  {
   "cell_type": "code",
   "execution_count": 2,
   "metadata": {},
   "outputs": [],
   "source": [
    "# this is only needed if the genre_data_loader.py script is not in the directory of the nb or script from which you call it\n",
    "import importlib.util\n",
    "spec = importlib.util.spec_from_file_location(\"genre_data_loader\", \"/Users/Daniel/Code/Genre/src/genre_scripts/genre_data_loader.py\")\n",
    "genre_data_loader = importlib.util.module_from_spec(spec)\n",
    "spec.loader.exec_module(genre_data_loader)\n",
    "# if the genre_data_loader.py script is in the directory in which you are calling it, only the next line is needed:\n",
    "LoadGenreData = genre_data_loader.LoadGenreData"
   ]
  },
  {
   "cell_type": "code",
   "execution_count": 3,
   "metadata": {},
   "outputs": [],
   "source": [
    "# get currrent date for latest version of data set\n",
    "# %store -r now # not needed in this nb where 'now' is defined\n",
    "\n",
    "X_path_train = '/Users/Daniel/Code/Genre/data/genre_lists/data_ready_for_model/wiki-kaggle_X_train_{}.csv'.format(now)\n",
    "y_path_train = '/Users/Daniel/Code/Genre/data/genre_lists/data_ready_for_model/wiki-kaggle_y_train_{}.csv'.format(now)\n",
    "X_path_test = '/Users/Daniel/Code/Genre/data/genre_lists/data_ready_for_model/wiki-kaggle_X_test_{}.csv'.format(now)\n",
    "y_path_test = '/Users/Daniel/Code/Genre/data/genre_lists/data_ready_for_model/wiki-kaggle_y_test_{}.csv'.format(now)"
   ]
  },
  {
   "cell_type": "code",
   "execution_count": 4,
   "metadata": {},
   "outputs": [],
   "source": [
    "# call data loader script\n",
    "genre_data = LoadGenreData(now, X_path_train = X_path_train, y_path_train = y_path_train, \n",
    "                                             X_path_test = X_path_test, y_path_test = y_path_test)\n",
    "# get currrent date for latest version of data set\n",
    "# %store -r now # not needed in this nb where 'now' is defined\n",
    "\n",
    "X_path_train = '/Users/Daniel/Code/Genre/data/genre_lists/data_ready_for_model/wiki-kaggle_X_train_{}.csv'.format(now)\n",
    "y_path_train = '/Users/Daniel/Code/Genre/data/genre_lists/data_ready_for_model/wiki-kaggle_y_train_{}.csv'.format(now)\n",
    "X_path_test = '/Users/Daniel/Code/Genre/data/genre_lists/data_ready_for_model/wiki-kaggle_X_test_{}.csv'.format(now)\n",
    "y_path_test = '/Users/Daniel/Code/Genre/data/genre_lists/data_ready_for_model/wiki-kaggle_y_test_{}.csv'.format(now)\n",
    "data = genre_data.data\n",
    "genre_list = genre_data.get_list_of_genres()"
   ]
  },
  {
   "cell_type": "code",
   "execution_count": 5,
   "metadata": {
    "scrolled": true
   },
   "outputs": [
    {
     "name": "stdout",
     "output_type": "stream",
     "text": [
      "There are 15470 artists with genre and binary-gender labels.\n",
      "There are 1491 unique genre labels.\n",
      "Previously there were 1669 unique genre lables.\n"
     ]
    }
   ],
   "source": [
    "print('There are {} artists with genre and binary-gender labels.'.format(data.shape[0]))\n",
    "print('There are {} unique genre labels.'.format(len(genre_list)))\n",
    "print('Previously there were 1669 unique genre lables.')"
   ]
  },
  {
   "cell_type": "code",
   "execution_count": 6,
   "metadata": {
    "scrolled": true
   },
   "outputs": [],
   "source": [
    "data_male = data[data.gender == 'male']\n",
    "data_female = data[data.gender == 'female']"
   ]
  },
  {
   "cell_type": "code",
   "execution_count": 7,
   "metadata": {
    "scrolled": true
   },
   "outputs": [
    {
     "name": "stdout",
     "output_type": "stream",
     "text": [
      "15470 total artists\n",
      "4855 female artists, or 31%\n",
      "10615 male artists, or 69%\n"
     ]
    }
   ],
   "source": [
    "tot = data.shape[0]\n",
    "m = data_male.shape[0]\n",
    "f = data_female.shape[0]\n",
    "print('{} total artists'.format(tot))\n",
    "print('{} female artists, or {:0.0f}%'.format(f, 100*f/(f+m)))\n",
    "print('{} male artists, or {:0.0f}%'.format(m, 100*m/(f+m)))"
   ]
  },
  {
   "cell_type": "markdown",
   "metadata": {},
   "source": [
    "### Count the min, mean, max of number of genres:"
   ]
  },
  {
   "cell_type": "code",
   "execution_count": 8,
   "metadata": {
    "scrolled": true
   },
   "outputs": [
    {
     "name": "stdout",
     "output_type": "stream",
     "text": [
      "Total:\n",
      "15470 Artists.\n",
      "Mean number of genre labels: 2.71.\n",
      "STD of the number of genre labels: 1.8.\n",
      "Max number of genre labels: 73.\n"
     ]
    }
   ],
   "source": [
    "n = data.shape[0]\n",
    "a,b,c = data.genrelist_length.mean(), data.genrelist_length.std(), data.genrelist_length.max()\n",
    "print('Total:')\n",
    "print(f'{n} Artists.')\n",
    "print(f'Mean number of genre labels: {round(a,2)}.')\n",
    "print(f'STD of the number of genre labels: {round(b,2)}.')\n",
    "print(f'Max number of genre labels: {c}.')"
   ]
  },
  {
   "cell_type": "markdown",
   "metadata": {},
   "source": [
    "### Count the min, mean, max of number of genres for male and female artists:"
   ]
  },
  {
   "cell_type": "code",
   "execution_count": 9,
   "metadata": {
    "scrolled": true
   },
   "outputs": [
    {
     "name": "stdout",
     "output_type": "stream",
     "text": [
      "Female:\n",
      "4855 Artists.\n",
      "Mean number of genre labels: 2.63.\n",
      "STD of the number of genre labels: 1.53.\n",
      "Max number of genre labels: 11.\n"
     ]
    }
   ],
   "source": [
    "data_female = data[data.gender == 'female']\n",
    "n = data_female.shape[0]\n",
    "a,b,c = data_female.genrelist_length.mean(), data_female.genrelist_length.std(), data_female.genrelist_length.max()\n",
    "print('Female:')\n",
    "print(f'{n} Artists.')\n",
    "print(f'Mean number of genre labels: {round(a,2)}.')\n",
    "print(f'STD of the number of genre labels: {round(b,2)}.')\n",
    "print(f'Max number of genre labels: {c}.')"
   ]
  },
  {
   "cell_type": "code",
   "execution_count": 10,
   "metadata": {
    "scrolled": true
   },
   "outputs": [
    {
     "data": {
      "image/png": "[encoded data removed]",
      "text/plain": [
       "<Figure size 432x288 with 1 Axes>"
      ]
     },
     "metadata": {
      "needs_background": "light"
     },
     "output_type": "display_data"
    }
   ],
   "source": [
    "plt.hist(data_female.genrelist_length, bins = 25, density = True)\n",
    "plt.show()"
   ]
  },
  {
   "cell_type": "code",
   "execution_count": 11,
   "metadata": {
    "scrolled": true
   },
   "outputs": [
    {
     "name": "stdout",
     "output_type": "stream",
     "text": [
      "Male:\n",
      "10615 Artists.\n",
      "Mean number of genre labels: 2.74.\n",
      "STD of the number of genre labels: 1.92.\n",
      "Max number of genre labels: 73.\n"
     ]
    }
   ],
   "source": [
    "data_male = data[data.gender == 'male']\n",
    "m = data_male.shape[0]\n",
    "a,b,c = data_male.genrelist_length.mean(), data_male.genrelist_length.std(), data_male.genrelist_length.max()\n",
    "print('Male:')\n",
    "print(f'{m} Artists.')\n",
    "print(f'Mean number of genre labels: {round(a,2)}.')\n",
    "print(f'STD of the number of genre labels: {round(b,2)}.')\n",
    "print(f'Max number of genre labels: {c}.')"
   ]
  },
  {
   "cell_type": "code",
   "execution_count": 12,
   "metadata": {
    "scrolled": true
   },
   "outputs": [
    {
     "data": {
      "image/png": "[encoded data removed]",
      "text/plain": [
       "<Figure size 432x288 with 1 Axes>"
      ]
     },
     "metadata": {
      "needs_background": "light"
     },
     "output_type": "display_data"
    }
   ],
   "source": [
    "plt.hist(data_male.genrelist_length, bins = 25, density = True)\n",
    "plt.show()"
   ]
  },
  {
   "cell_type": "markdown",
   "metadata": {},
   "source": [
    "Set variables:"
   ]
  },
  {
   "cell_type": "code",
   "execution_count": 13,
   "metadata": {
    "scrolled": true
   },
   "outputs": [],
   "source": [
    "max_num_male = 73\n",
    "max_num_female = 11\n",
    "max_num = max(max_num_female, max_num_male)"
   ]
  },
  {
   "cell_type": "markdown",
   "metadata": {},
   "source": [
    "### The histograms for genre labels for male and female artists. "
   ]
  },
  {
   "cell_type": "code",
   "execution_count": 14,
   "metadata": {
    "scrolled": true
   },
   "outputs": [
    {
     "data": {
      "image/png": "[encoded data removed]",
      "text/plain": [
       "<Figure size 720x360 with 1 Axes>"
      ]
     },
     "metadata": {
      "needs_background": "light"
     },
     "output_type": "display_data"
    }
   ],
   "source": [
    "plt.figure(figsize = (10, 5))\n",
    "plt.hist(data.genrelist_length, bins = range(1,max_num), density = False, color = 'pink', alpha = .5, label = 'total')\n",
    "plt.hist(data_male.genrelist_length, bins = range(1,max_num), density = False, color = 'orange', alpha = .5, label = 'male')\n",
    "plt.vlines(x = max_num_male, ymin = 0 , ymax = 5000, label = 'max number of genres for male', color = 'orange')\n",
    "plt.vlines(x = max_num_female, ymin = 0 , ymax = 5000, label = 'max number of genres for female', color = 'blue')\n",
    "plt.hist(data_female.genrelist_length, bins = range(1,max_num), density = False, color = 'blue', alpha = .5,label = 'female')\n",
    "plt.legend()\n",
    "plt.show()"
   ]
  },
  {
   "cell_type": "markdown",
   "metadata": {},
   "source": [
    "Here are the histograms as densities: the heights are scaled so as the sum of all heights is 1."
   ]
  },
  {
   "cell_type": "code",
   "execution_count": 15,
   "metadata": {
    "scrolled": false
   },
   "outputs": [
    {
     "data": {
      "image/png": "[encoded data removed]",
      "text/plain": [
       "<Figure size 720x360 with 1 Axes>"
      ]
     },
     "metadata": {
      "needs_background": "light"
     },
     "output_type": "display_data"
    }
   ],
   "source": [
    "plt.figure(figsize = (10, 5))\n",
    "plt.hist(data_male.genrelist_length, bins = range(1,max_num), density = True, color = 'orange', alpha = .5, label = 'male')\n",
    "plt.vlines(x = max_num_male, ymin = 0 , ymax = .3, label = 'max number of genres for male', color = 'orange')\n",
    "plt.vlines(x = max_num_female, ymin = 0 , ymax = .3, label = 'max number of genres for female', color = 'blue')\n",
    "plt.hist(data_female.genrelist_length, bins = range(1,max_num), density = True, color = 'blue', alpha = .5,label = 'female')\n",
    "plt.legend()\n",
    "plt.show()"
   ]
  },
  {
   "cell_type": "markdown",
   "metadata": {},
   "source": [
    "Here are the histograms as densities; three bins: $[1, mean)$, $[mean,2 \\cdot mean)$, $[2 \\cdot mean,max]$"
   ]
  },
  {
   "cell_type": "code",
   "execution_count": 16,
   "metadata": {
    "scrolled": true
   },
   "outputs": [],
   "source": [
    "# plt.figure(figsize = (10, 5))\n",
    "# plt.hist(data_male.genrelist_length, bins = [0,data_male.genrelist_length.mean(),2*data_male.genrelist_length.mean(),max_num], density = False, color = 'orange', alpha = .5, label = 'male')\n",
    "# plt.hist(data_female.genrelist_length, bins = [0,data_female.genrelist_length.mean(),2*data_female.genrelist_length.mean(),max_num], density = False, color = 'blue', alpha = .5, label = 'female')\n",
    "# plt.legend()\n",
    "# plt.show()"
   ]
  },
  {
   "cell_type": "markdown",
   "metadata": {},
   "source": [
    "## What are the most common genre labels? \n",
    "\n",
    "\n",
    "\n",
    "### Count the number of times that a label occurs:"
   ]
  },
  {
   "cell_type": "markdown",
   "metadata": {},
   "source": [
    "### Take a look at the most frequent genres:"
   ]
  },
  {
   "cell_type": "code",
   "execution_count": 17,
   "metadata": {},
   "outputs": [],
   "source": [
    "# import a UDF to create a DataFrame with the frequencies of genres\n",
    "spec = importlib.util.spec_from_file_location(\"genre_frequency_by_gender\", \"/Users/Daniel/Code/Genre/src/genre_scripts/genre_frequency_by_gender.py\")\n",
    "genre_frequency_by_gender = importlib.util.module_from_spec(spec)\n",
    "spec.loader.exec_module(genre_frequency_by_gender)\n",
    "frequency_by_gender = genre_frequency_by_gender.frequency_by_gender\n",
    "# from src.genre_scripts.genre_frequency_by_gender import frequency_by_gender"
   ]
  },
  {
   "cell_type": "code",
   "execution_count": 19,
   "metadata": {},
   "outputs": [],
   "source": [
    "genre_frequencies = frequency_by_gender(genre_data.get_sparse_X_vector(), data, genre_data.get_dict_id_to_genre())\n",
    "# sort by frequences descending\n",
    "genre_frequencies.sort_values(['frequency'], ascending = False, inplace = True)\n",
    "genre_frequencies.set_index('genre', inplace = True)"
   ]
  },
  {
   "cell_type": "code",
   "execution_count": 21,
   "metadata": {},
   "outputs": [
    {
     "data": {
      "text/html": [
       "<div>\n",
       "<style scoped>\n",
       "    .dataframe tbody tr th:only-of-type {\n",
       "        vertical-align: middle;\n",
       "    }\n",
       "\n",
       "    .dataframe tbody tr th {\n",
       "        vertical-align: top;\n",
       "    }\n",
       "\n",
       "    .dataframe thead th {\n",
       "        text-align: right;\n",
       "    }\n",
       "</style>\n",
       "<table border=\"1\" class=\"dataframe\">\n",
       "  <thead>\n",
       "    <tr style=\"text-align: right;\">\n",
       "      <th></th>\n",
       "      <th>frequency</th>\n",
       "      <th>female</th>\n",
       "      <th>male</th>\n",
       "    </tr>\n",
       "    <tr>\n",
       "      <th>genre</th>\n",
       "      <th></th>\n",
       "      <th></th>\n",
       "      <th></th>\n",
       "    </tr>\n",
       "  </thead>\n",
       "  <tbody>\n",
       "    <tr>\n",
       "      <th>pop</th>\n",
       "      <td>3279</td>\n",
       "      <td>1669</td>\n",
       "      <td>1610</td>\n",
       "    </tr>\n",
       "    <tr>\n",
       "      <th>rock</th>\n",
       "      <td>2208</td>\n",
       "      <td>461</td>\n",
       "      <td>1747</td>\n",
       "    </tr>\n",
       "    <tr>\n",
       "      <th>country</th>\n",
       "      <td>2026</td>\n",
       "      <td>634</td>\n",
       "      <td>1392</td>\n",
       "    </tr>\n",
       "    <tr>\n",
       "      <th>r_and_b</th>\n",
       "      <td>1926</td>\n",
       "      <td>940</td>\n",
       "      <td>986</td>\n",
       "    </tr>\n",
       "    <tr>\n",
       "      <th>hip_hop</th>\n",
       "      <td>1395</td>\n",
       "      <td>248</td>\n",
       "      <td>1147</td>\n",
       "    </tr>\n",
       "    <tr>\n",
       "      <th>soul</th>\n",
       "      <td>1304</td>\n",
       "      <td>676</td>\n",
       "      <td>628</td>\n",
       "    </tr>\n",
       "    <tr>\n",
       "      <th>folk</th>\n",
       "      <td>1283</td>\n",
       "      <td>530</td>\n",
       "      <td>753</td>\n",
       "    </tr>\n",
       "    <tr>\n",
       "      <th>jazz</th>\n",
       "      <td>1173</td>\n",
       "      <td>489</td>\n",
       "      <td>684</td>\n",
       "    </tr>\n",
       "    <tr>\n",
       "      <th>alternative_rock</th>\n",
       "      <td>1151</td>\n",
       "      <td>242</td>\n",
       "      <td>909</td>\n",
       "    </tr>\n",
       "    <tr>\n",
       "      <th>blues</th>\n",
       "      <td>1067</td>\n",
       "      <td>245</td>\n",
       "      <td>822</td>\n",
       "    </tr>\n",
       "    <tr>\n",
       "      <th>pop_rock</th>\n",
       "      <td>801</td>\n",
       "      <td>284</td>\n",
       "      <td>517</td>\n",
       "    </tr>\n",
       "    <tr>\n",
       "      <th>hard_rock</th>\n",
       "      <td>789</td>\n",
       "      <td>55</td>\n",
       "      <td>734</td>\n",
       "    </tr>\n",
       "    <tr>\n",
       "      <th>indie_rock</th>\n",
       "      <td>612</td>\n",
       "      <td>168</td>\n",
       "      <td>444</td>\n",
       "    </tr>\n",
       "    <tr>\n",
       "      <th>heavy_metal</th>\n",
       "      <td>587</td>\n",
       "      <td>40</td>\n",
       "      <td>547</td>\n",
       "    </tr>\n",
       "    <tr>\n",
       "      <th>folk_rock</th>\n",
       "      <td>498</td>\n",
       "      <td>151</td>\n",
       "      <td>347</td>\n",
       "    </tr>\n",
       "    <tr>\n",
       "      <th>punk_rock</th>\n",
       "      <td>470</td>\n",
       "      <td>78</td>\n",
       "      <td>392</td>\n",
       "    </tr>\n",
       "    <tr>\n",
       "      <th>gospel</th>\n",
       "      <td>450</td>\n",
       "      <td>226</td>\n",
       "      <td>224</td>\n",
       "    </tr>\n",
       "    <tr>\n",
       "      <th>blues_rock</th>\n",
       "      <td>412</td>\n",
       "      <td>38</td>\n",
       "      <td>374</td>\n",
       "    </tr>\n",
       "    <tr>\n",
       "      <th>dance</th>\n",
       "      <td>388</td>\n",
       "      <td>256</td>\n",
       "      <td>132</td>\n",
       "    </tr>\n",
       "    <tr>\n",
       "      <th>funk</th>\n",
       "      <td>386</td>\n",
       "      <td>103</td>\n",
       "      <td>283</td>\n",
       "    </tr>\n",
       "  </tbody>\n",
       "</table>\n",
       "</div>"
      ],
      "text/plain": [
       "                  frequency  female  male\n",
       "genre                                    \n",
       "pop                    3279    1669  1610\n",
       "rock                   2208     461  1747\n",
       "country                2026     634  1392\n",
       "r_and_b                1926     940   986\n",
       "hip_hop                1395     248  1147\n",
       "soul                   1304     676   628\n",
       "folk                   1283     530   753\n",
       "jazz                   1173     489   684\n",
       "alternative_rock       1151     242   909\n",
       "blues                  1067     245   822\n",
       "pop_rock                801     284   517\n",
       "hard_rock               789      55   734\n",
       "indie_rock              612     168   444\n",
       "heavy_metal             587      40   547\n",
       "folk_rock               498     151   347\n",
       "punk_rock               470      78   392\n",
       "gospel                  450     226   224\n",
       "blues_rock              412      38   374\n",
       "dance                   388     256   132\n",
       "funk                    386     103   283"
      ]
     },
     "execution_count": 21,
     "metadata": {},
     "output_type": "execute_result"
    }
   ],
   "source": [
    "genre_frequencies.head(20)"
   ]
  }
 ],
 "metadata": {
  "kernelspec": {
   "display_name": "Python 3",
   "language": "python",
   "name": "python3"
  },
  "language_info": {
   "codemirror_mode": {
    "name": "ipython",
    "version": 3
   },
   "file_extension": ".py",
   "mimetype": "text/x-python",
   "name": "python",
   "nbconvert_exporter": "python",
   "pygments_lexer": "ipython3",
   "version": "3.7.3"
  }
 },
 "nbformat": 4,
 "nbformat_minor": 4
}
