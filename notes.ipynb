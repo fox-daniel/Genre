{
 "cells": [
  {
   "cell_type": "markdown",
   "metadata": {},
   "source": [
    "Current Data Set: use the 2020-05-18-10-06 version of the train/test data\n",
    "=================="
   ]
  },
  {
   "cell_type": "markdown",
   "metadata": {},
   "source": [
    "This notebook (nb) has notes pertaining to the exploration of the relationship between binary gender labels {female, male} and genre labels (pop, rock, country, hip-hop, etc...) used by Wikipedia.\n",
    "\n",
    "* There are X artists; X femaile, X male.\n",
    "* There are X unique genre labels\n",
    "* The mean number of labels are X for female and X for male.\n",
    "* Density histograms show that the distribution of the number of labels per artist is fairly similar for male and female artists (check this)\n",
    "\n",
    "Three questions:\n",
    "\n",
    "1. numbers of genre labels for gender\n",
    "2. predict gender for genre\n",
    "3. With network data, predict gender from network graph\n",
    "\n",
    "\n",
    "### Data Pipeline:\n",
    "\n",
    "This needs to be elaborated.\n",
    "\n",
    "- use tf_genre conda environment for tensorflow\n",
    "- genre_lists.txt is generated from the X_train data in genre_convert_genre_data_to_single_line_docs.ipynb"
   ]
  },
  {
   "cell_type": "markdown",
   "metadata": {},
   "source": [
    "### For gender verification of 1% sample. \n",
    "\n",
    "Put agency primarily on the musician themselves. If 1. is inconclusve use 2., then mark verified. Else, mark unverified.\n",
    "\n",
    "1. Musician social media, bandcamp, or website.\n",
    "2. Wikipedia\n",
    "3. Press\n",
    "\n",
    "Tom and Dan each verified 0.5%. Tom found 100% accuracy; Dan found 76/77 correct genders; the incorrect assigned male to a band of multiple people; all bands were subsequently dropped."
   ]
  },
  {
   "cell_type": "markdown",
   "metadata": {},
   "source": [
    "### Things to do:\n",
    "\n",
    "Tom: \n",
    "\n",
    "- [ ] Tom: contact Horvat\n",
    "- [ ] Tom: associated acts networks\n",
    "\n",
    "Dan: \n",
    "\n",
    "- [x] Dan: Create cleaned data set from Wikipedia scrape\n",
    "\n",
    "Begin Analyzing\n",
    "\n",
    "- [x] Dan: make train-test split\n",
    "- [ ] Basic Stats:\n",
    "    - [x] Dan: what are most common genre labels in data\n",
    "    - [ ] Dan: remove genre/artist pairs for which the genre label appears only for that artist and that artist only has one genre label?\n",
    "    - [ ] Dan: tag cloud?\n",
    "    - [x] which genres are most likely to be present in large genre lists?\n",
    "        - [x] for heat map, use relative measure\n",
    "        - [ ] use cardinality of >= n\n",
    "    - [ ] correlation matrix: x,y is number of times that x and y appear in a list; absolute and relative\n",
    "    - [ ] groupings from word embeddings\n",
    "        - [ ] apply k-means on top of word2vec and other vector representations\n",
    "        - [ ] how do the clusters above correlate with gender?\n",
    "        - [ ] transformations between clusters? subtract gender from male dominated genre? find gender analogous\n",
    "        - [ ] evaluate the difference between pretrained word embeddings and those learned with our tasks\n",
    "- [ ] Dan: graph to visualize genre-promiscuous artists using colored clusters: \n",
    "    - x-axis is number of time a genre label appears (ordered bins)\n",
    "    - y-axis sample distribution of size of genre label bags in which it appears (use heat map)\n",
    "- [ ] Dan: which genres are present in genre-promiscuous artists?\n",
    "\n",
    "Modeling\n",
    "\n",
    "- [ ] bayesian\n",
    "- [ ] logistic regression\n",
    " - [ ] standard with L_1 (when N <30p want to try L_1, otherwise statistics aren't good)\n",
    " - [ ] use pairs of labels with L_1 regularization\n",
    "- [ ] use word embedding/clustering to define relatedness of genres: define omnivorous index\n",
    "- [ ] for linear model, expect single label appearances to not give much weight to features in model\n",
    "- [ ] create streamlit interface so that Tom can run queries (practice for Dan!)\n",
    "\n",
    "Presentation:\n",
    "\n",
    "- [ ] stats from different models\n",
    "- [ ] visuals to show how gender and genre omnivorousness relate\n",
    "- [ ] make interactive site with streamlit: user can input an artist, genres from wikipedia will be displayed or network via Tom's graphing will be displayed, and the gender prediction from our model is displayed\n",
    "\n",
    "Later: \n",
    "- [ ] Dan: find out input data structure for neural net to analyze graph\n",
    "- [ ] carry out analysis for other platforms: spotify, tidal \n",
    "- [ ] __How does genre label interact with race?__"
   ]
  },
  {
   "cell_type": "markdown",
   "metadata": {},
   "source": [
    "### Notes on change to genre label spelling\n",
    "\n",
    "Word2Vec doesn't deal with '&' well, so all '&' are being changed to \"\\_and_\" even though 'r&b' or \"r 'n b\" is the term in use, not \"r and b\"."
   ]
  },
  {
   "cell_type": "markdown",
   "metadata": {},
   "source": [
    "### Notes from discussion 2020-04-29\n",
    "\n",
    "- in methodology, describe scraping: 'stoner-prog' became 'stoner rock' + 'progressive rock' because of how the html was structured; can we count the number of times this happened? "
   ]
  },
  {
   "cell_type": "markdown",
   "metadata": {},
   "source": [
    "### Notes from discussion 2020-04-20\n",
    "\n",
    "- [ ] ask Horvat about using Spotify data?\n",
    "\n",
    "Revised research plan:\n",
    "\n",
    "- Does Wikipedia encode gender and genre differently than Spotify/Horvat? Is the gender encoding robust accross different databases?\n",
    "\n",
    "- Scraper is working on Wikipedia\n",
    "\n",
    "Networks\n",
    "\n",
    "- find clusters and sparse connections -- who are the sparse connectors?\n",
    "- which way to network edges point: \n",
    "    -if two dense clusters are connected by a few directed edges, \n",
    "    -through which artists are the connections made and which way do they point"
   ]
  },
  {
   "cell_type": "markdown",
   "metadata": {},
   "source": [
    "### Notes from discussion on 2020-04-09\n",
    "\n",
    "Tom's script: search name, then return first results of that: sometimes gives wrong band\n",
    "\n",
    "problems with data: \n",
    "\n",
    "may not return correct band info\n",
    "\n",
    "look at >5 genre tag bins, which genre labels are in there? rock, indie? \n",
    "Can we correlate genres in high cardinality with male dominated labels?\n",
    "\n",
    "ask Horvat for data?\n",
    "\n",
    "intergenre promiscuity is higher for male dominated genre; \n",
    "link to omnivorous listeners\n",
    "\n",
    "can use network analysis to show that the genre promiscuity is artificially imposed/ superfluous : all links could be made by rock/indie rather than subgenres\n",
    "\n",
    "have to separate genre tags and recommendation system\n",
    "\n",
    "is there directionaly in genre labels: carribean + rock -> rock and not to carribean; rock attracts carribean, but \n",
    "\n",
    "could test experimentally by creating listeners?\n",
    "\n",
    "Book: Spotify Teardown\n",
    "\n",
    "Goals and Steps\n",
    "\n",
    "- clean data, verify data, get more data\n",
    "- random sample of 10%, give tom half and we will verify by hand\n",
    "- google for more artist gender data\n",
    "- reach out to Horvat? have our methodology worked out first\n",
    "- scrape incidence matrix for graph of artist network  \n",
    "\n",
    "gethi for graph analysis\n",
    "\n",
    "return to intersection of graphs of two artists later\n",
    "\n",
    "\n",
    "Three questions:\n",
    "\n",
    "1. numbers of genre labels for gender\n",
    "2. predict gender for genre\n",
    "3. predict gender from network graph\n",
    "\n",
    "How do we move beyond the musicological knowledge, or how are these biases embedded in the algorithms, algorithms not neutral...\n",
    "\n",
    "Are genders lumped together?"
   ]
  }
 ],
 "metadata": {
  "kernelspec": {
   "display_name": "Python 3",
   "language": "python",
   "name": "python3"
  },
  "language_info": {
   "codemirror_mode": {
    "name": "ipython",
    "version": 3
   },
   "file_extension": ".py",
   "mimetype": "text/x-python",
   "name": "python",
   "nbconvert_exporter": "python",
   "pygments_lexer": "ipython3",
   "version": "3.7.3"
  }
 },
 "nbformat": 4,
 "nbformat_minor": 4
}
