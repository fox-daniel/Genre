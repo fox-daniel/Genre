{
 "cells": [
  {
   "cell_type": "markdown",
   "metadata": {},
   "source": [
    "This creates a model using the training data set."
   ]
  },
  {
   "cell_type": "code",
   "execution_count": 1,
   "metadata": {},
   "outputs": [],
   "source": [
    "from __future__ import absolute_import, division, print_function, unicode_literals\n",
    "\n",
    "seed = 23\n",
    "\n",
    "import tensorflow as tf\n",
    "import tensorflow_addons as tfa\n",
    "from tensorflow import keras \n",
    "from tensorflow.keras import Input, layers\n",
    "tf.keras.backend.clear_session() # for easy reset of notebook state\n",
    "\n",
    "import numpy as np\n",
    "np.random.random_seed = 23\n",
    "import pandas as pd\n",
    "\n",
    "from sklearn.model_selection import KFold\n",
    "\n",
    "from matplotlib import pyplot as plt\n",
    "from IPython import display\n",
    "import pydot\n",
    "from graphviz import Digraph\n",
    "from matplotlib import pyplot as plt\n",
    "from IPython import display"
   ]
  },
  {
   "cell_type": "markdown",
   "metadata": {},
   "source": [
    "Notes:"
   ]
  },
  {
   "cell_type": "markdown",
   "metadata": {},
   "source": [
    "Import the DF of genre lists and gender:"
   ]
  },
  {
   "cell_type": "code",
   "execution_count": 2,
   "metadata": {},
   "outputs": [],
   "source": [
    "%store -r now\n",
    "now\n",
    "X_train = pd.read_csv('/Users/Daniel/Code/Genre/data/genre_lists/data_ready_for_model/wiki-kaggle_X_train_{}.csv'.format(now), index_col = ['artist'])\n",
    "y_train = pd.read_csv('/Users/Daniel/Code/Genre/data/genre_lists/data_ready_for_model/wiki-kaggle_y_train_{}.csv'.format(now), index_col = ['artist'])"
   ]
  },
  {
   "cell_type": "markdown",
   "metadata": {},
   "source": [
    "### Genre Labels -- as a list\n",
    "\n",
    "Each value of the genre column is a _string_ of comma separated genre labels using the spotify abbreviations. We want to convert it to a _list_ of strings."
   ]
  },
  {
   "cell_type": "code",
   "execution_count": 3,
   "metadata": {},
   "outputs": [],
   "source": [
    "\"\"\"This function takes in a string of the form\n",
    "appearing in the genrelist of the dataframe.\n",
    "It strips the square brackets and extra quotes and\n",
    "returns a list of strings where each string is a genre label.\"\"\"\n",
    "def genrelist(string):\n",
    "    string = string.strip(\"[\").strip(\"]\").replace(\"'\",\"\")\n",
    "    L = [s for s in string.split(',')]\n",
    "    L_new = []\n",
    "    for x in L:\n",
    "        L_new.append(x.replace(\" \",\"_\").lstrip(\"_\").rstrip(\"_\"))\n",
    "    while (str(\"\") in L_new):\n",
    "        L_new.remove(\"\")\n",
    "    return L_new"
   ]
  },
  {
   "cell_type": "markdown",
   "metadata": {},
   "source": [
    "Now we apply\n",
    "- it to the whole column and put the lists in a new column\n",
    "- assemble X,y into DF\n",
    "-reset index to 'artist_id'"
   ]
  },
  {
   "cell_type": "code",
   "execution_count": 4,
   "metadata": {},
   "outputs": [],
   "source": [
    "X_train['genrelist']= X_train['genrelist'].apply(genrelist)\n",
    "\n",
    "data = X_train.join(y_train, how = 'inner', on = 'artist')\n",
    "\n",
    "data.reset_index(inplace = True)\n",
    "data.index.name = 'artist_id'\n",
    "data_set_size = data.shape[0]"
   ]
  },
  {
   "cell_type": "markdown",
   "metadata": {},
   "source": [
    "- Full genre_list (not just that for the training set)\n",
    "- Vocab Dict and Size\n",
    "- max length of lists"
   ]
  },
  {
   "cell_type": "code",
   "execution_count": 5,
   "metadata": {},
   "outputs": [],
   "source": [
    "genre_list = pd.read_csv('/Users/Daniel/Code/Genre/data/genre_lists/data_ready_for_model/genre_list_{}.csv'.format(now))\n",
    "genre_list.drop(['Unnamed: 0'], axis = 1, inplace = True)\n",
    "genre_list['genre_id'] = list(range(1,genre_list.shape[0]+1))\n",
    "\n",
    "#Size of the vocab:\n",
    "vocab_size = genre_list.shape[0]\n",
    "\n",
    "#Create a dictionary {genre_label: genre_id}\n",
    "genre_list.set_index(['genre_list'], inplace = True)\n",
    "label_id_dict = genre_list['genre_id'].to_dict()\n",
    "\n",
    "#Find max length of genre lists:\n",
    "max_list_length = data.genrelist_length.max()"
   ]
  },
  {
   "cell_type": "code",
   "execution_count": 6,
   "metadata": {},
   "outputs": [],
   "source": [
    "# encode labels as ints within the list\n",
    "def encode_list(row):\n",
    "    return [label_id_dict[item] for item in row.genrelist]\n",
    "\n",
    "data['genres_encoded_as_list'] = data.apply(encode_list, axis = 1)\n",
    "\n",
    "#Check that the encoding is consistent: \n",
    "# n = np.random.randint(data.shape[0])\n",
    "# [label_id_dict[item] for item in data.genrelist.iloc[n]], data.genres_encoded_as_list.iloc[n]\n",
    "\n",
    "#Encode into new columns\n",
    "\n",
    "#create columns with zeros\n",
    "for i in range(73):\n",
    "    data['label_{}'.format(i)] = np.zeros((data.shape[0]), dtype = 'int64')\n",
    "    \n",
    "def encode_columns(row):\n",
    "    for i, id in enumerate(row.genres_encoded_as_list):\n",
    "        row.loc['label_{}'.format(i)] = id\n",
    "    return row\n",
    "\n",
    "data = data.apply(encode_columns, axis = 1)\n",
    "\n",
    "# Encode targets. The categories still appear as strings. To see the encoding use df.column.cat.codes.\n",
    "data['gender'] = data.gender.apply(lambda x: 1 if x == 'female' else 0)"
   ]
  },
  {
   "cell_type": "markdown",
   "metadata": {},
   "source": [
    "### Scale genrelist_length\n",
    "- currently use sqrt to separate low values"
   ]
  },
  {
   "cell_type": "code",
   "execution_count": 7,
   "metadata": {},
   "outputs": [
    {
     "data": {
      "text/plain": [
       "artist_id\n",
       "11822    73\n",
       "5533     45\n",
       "8669     15\n",
       "258      15\n",
       "1226     14\n",
       "Name: genrelist_length, dtype: int64"
      ]
     },
     "execution_count": 7,
     "metadata": {},
     "output_type": "execute_result"
    }
   ],
   "source": [
    "data.genrelist_length.sort_values(ascending = False).head()"
   ]
  },
  {
   "cell_type": "markdown",
   "metadata": {},
   "source": [
    "Flatten out the outliers:"
   ]
  },
  {
   "cell_type": "code",
   "execution_count": 8,
   "metadata": {},
   "outputs": [],
   "source": [
    "def smoosh(row):\n",
    "    if row.genrelist_length > 60:\n",
    "        return 16\n",
    "    if row.genrelist_length > 14:\n",
    "        return 15\n",
    "    else:\n",
    "        return row.genrelist_length\n",
    "\n",
    "data['genrelist_length'] = data.apply(smoosh, axis = 1)\n",
    "#data.genrelist_length.sort_values(ascending = False)"
   ]
  },
  {
   "cell_type": "code",
   "execution_count": 9,
   "metadata": {
    "scrolled": true
   },
   "outputs": [
    {
     "data": {
      "text/plain": [
       "<matplotlib.axes._subplots.AxesSubplot at 0x13edc8730>"
      ]
     },
     "execution_count": 9,
     "metadata": {},
     "output_type": "execute_result"
    },
    {
     "data": {
      "image/png": "[encoded data removed]",
      "text/plain": [
       "<Figure size 432x288 with 1 Axes>"
      ]
     },
     "metadata": {
      "needs_background": "light"
     },
     "output_type": "display_data"
    }
   ],
   "source": [
    "data.genrelist_length.hist(bins = 16)"
   ]
  },
  {
   "cell_type": "markdown",
   "metadata": {},
   "source": [
    "Normalize on copy of data:"
   ]
  },
  {
   "cell_type": "code",
   "execution_count": 10,
   "metadata": {},
   "outputs": [],
   "source": [
    "data_norm = data.copy()"
   ]
  },
  {
   "cell_type": "markdown",
   "metadata": {},
   "source": [
    "### Nonlinear scaling seems to be helpful!"
   ]
  },
  {
   "cell_type": "code",
   "execution_count": 11,
   "metadata": {},
   "outputs": [],
   "source": [
    "# this is chosen to match the min, max of the untrained embedding layer\n",
    "def normalize_length(x):\n",
    "    #x = .1*np.power(x/x.max(),1)-.05\n",
    "    x = .1*np.power(x/x.max(),.5)-.05\n",
    "    return x"
   ]
  },
  {
   "cell_type": "code",
   "execution_count": 12,
   "metadata": {},
   "outputs": [
    {
     "data": {
      "text/plain": [
       "array([-0.05      , -0.02418011, -0.01348516, -0.00527864,  0.00163978,\n",
       "        0.00773503,  0.01324555,  0.01831301,  0.02302967,  0.02745967,\n",
       "        0.03164966,  0.03563488,  0.03944272,  0.04309493,  0.04660918,\n",
       "        0.05      ])"
      ]
     },
     "execution_count": 12,
     "metadata": {},
     "output_type": "execute_result"
    }
   ],
   "source": [
    "normalize_length(np.array(range(16)))"
   ]
  },
  {
   "cell_type": "code",
   "execution_count": 13,
   "metadata": {},
   "outputs": [],
   "source": [
    "data_norm['length_scaled'] = normalize_length(data_norm['genrelist_length'])"
   ]
  },
  {
   "cell_type": "code",
   "execution_count": 14,
   "metadata": {},
   "outputs": [],
   "source": [
    "data_norm = data_norm.drop(['artist','genrelist', 'genres_encoded_as_list', 'genrelist_length'], axis = 1)\n",
    "cols = ['gender','length_scaled']+['label_{}'.format(i) for i in range(73)]\n",
    "cols\n",
    "data_norm = data_norm[cols]\n",
    "# Shuffle the data:\n",
    "data_norm = data_norm.sample(frac = 1)"
   ]
  },
  {
   "cell_type": "code",
   "execution_count": 15,
   "metadata": {},
   "outputs": [
    {
     "data": {
      "text/html": [
       "<div>\n",
       "<style scoped>\n",
       "    .dataframe tbody tr th:only-of-type {\n",
       "        vertical-align: middle;\n",
       "    }\n",
       "\n",
       "    .dataframe tbody tr th {\n",
       "        vertical-align: top;\n",
       "    }\n",
       "\n",
       "    .dataframe thead th {\n",
       "        text-align: right;\n",
       "    }\n",
       "</style>\n",
       "<table border=\"1\" class=\"dataframe\">\n",
       "  <thead>\n",
       "    <tr style=\"text-align: right;\">\n",
       "      <th></th>\n",
       "      <th>gender</th>\n",
       "      <th>length_scaled</th>\n",
       "      <th>label_0</th>\n",
       "      <th>label_1</th>\n",
       "      <th>label_2</th>\n",
       "      <th>label_3</th>\n",
       "      <th>label_4</th>\n",
       "      <th>label_5</th>\n",
       "      <th>label_6</th>\n",
       "      <th>label_7</th>\n",
       "      <th>...</th>\n",
       "      <th>label_63</th>\n",
       "      <th>label_64</th>\n",
       "      <th>label_65</th>\n",
       "      <th>label_66</th>\n",
       "      <th>label_67</th>\n",
       "      <th>label_68</th>\n",
       "      <th>label_69</th>\n",
       "      <th>label_70</th>\n",
       "      <th>label_71</th>\n",
       "      <th>label_72</th>\n",
       "    </tr>\n",
       "    <tr>\n",
       "      <th>artist_id</th>\n",
       "      <th></th>\n",
       "      <th></th>\n",
       "      <th></th>\n",
       "      <th></th>\n",
       "      <th></th>\n",
       "      <th></th>\n",
       "      <th></th>\n",
       "      <th></th>\n",
       "      <th></th>\n",
       "      <th></th>\n",
       "      <th></th>\n",
       "      <th></th>\n",
       "      <th></th>\n",
       "      <th></th>\n",
       "      <th></th>\n",
       "      <th></th>\n",
       "      <th></th>\n",
       "      <th></th>\n",
       "      <th></th>\n",
       "      <th></th>\n",
       "      <th></th>\n",
       "    </tr>\n",
       "  </thead>\n",
       "  <tbody>\n",
       "    <tr>\n",
       "      <th>5577</th>\n",
       "      <td>1</td>\n",
       "      <td>0.016144</td>\n",
       "      <td>1431</td>\n",
       "      <td>1007</td>\n",
       "      <td>359</td>\n",
       "      <td>1220</td>\n",
       "      <td>1081</td>\n",
       "      <td>354</td>\n",
       "      <td>449</td>\n",
       "      <td>0</td>\n",
       "      <td>...</td>\n",
       "      <td>0</td>\n",
       "      <td>0</td>\n",
       "      <td>0</td>\n",
       "      <td>0</td>\n",
       "      <td>0</td>\n",
       "      <td>0</td>\n",
       "      <td>0</td>\n",
       "      <td>0</td>\n",
       "      <td>0</td>\n",
       "      <td>0</td>\n",
       "    </tr>\n",
       "    <tr>\n",
       "      <th>8786</th>\n",
       "      <td>0</td>\n",
       "      <td>-0.014645</td>\n",
       "      <td>1282</td>\n",
       "      <td>783</td>\n",
       "      <td>0</td>\n",
       "      <td>0</td>\n",
       "      <td>0</td>\n",
       "      <td>0</td>\n",
       "      <td>0</td>\n",
       "      <td>0</td>\n",
       "      <td>...</td>\n",
       "      <td>0</td>\n",
       "      <td>0</td>\n",
       "      <td>0</td>\n",
       "      <td>0</td>\n",
       "      <td>0</td>\n",
       "      <td>0</td>\n",
       "      <td>0</td>\n",
       "      <td>0</td>\n",
       "      <td>0</td>\n",
       "      <td>0</td>\n",
       "    </tr>\n",
       "    <tr>\n",
       "      <th>6410</th>\n",
       "      <td>0</td>\n",
       "      <td>-0.006699</td>\n",
       "      <td>128</td>\n",
       "      <td>54</td>\n",
       "      <td>931</td>\n",
       "      <td>0</td>\n",
       "      <td>0</td>\n",
       "      <td>0</td>\n",
       "      <td>0</td>\n",
       "      <td>0</td>\n",
       "      <td>...</td>\n",
       "      <td>0</td>\n",
       "      <td>0</td>\n",
       "      <td>0</td>\n",
       "      <td>0</td>\n",
       "      <td>0</td>\n",
       "      <td>0</td>\n",
       "      <td>0</td>\n",
       "      <td>0</td>\n",
       "      <td>0</td>\n",
       "      <td>0</td>\n",
       "    </tr>\n",
       "    <tr>\n",
       "      <th>7405</th>\n",
       "      <td>0</td>\n",
       "      <td>0.020711</td>\n",
       "      <td>502</td>\n",
       "      <td>1081</td>\n",
       "      <td>449</td>\n",
       "      <td>806</td>\n",
       "      <td>673</td>\n",
       "      <td>1345</td>\n",
       "      <td>1270</td>\n",
       "      <td>1481</td>\n",
       "      <td>...</td>\n",
       "      <td>0</td>\n",
       "      <td>0</td>\n",
       "      <td>0</td>\n",
       "      <td>0</td>\n",
       "      <td>0</td>\n",
       "      <td>0</td>\n",
       "      <td>0</td>\n",
       "      <td>0</td>\n",
       "      <td>0</td>\n",
       "      <td>0</td>\n",
       "    </tr>\n",
       "    <tr>\n",
       "      <th>5633</th>\n",
       "      <td>1</td>\n",
       "      <td>0.000000</td>\n",
       "      <td>1089</td>\n",
       "      <td>650</td>\n",
       "      <td>10</td>\n",
       "      <td>1007</td>\n",
       "      <td>0</td>\n",
       "      <td>0</td>\n",
       "      <td>0</td>\n",
       "      <td>0</td>\n",
       "      <td>...</td>\n",
       "      <td>0</td>\n",
       "      <td>0</td>\n",
       "      <td>0</td>\n",
       "      <td>0</td>\n",
       "      <td>0</td>\n",
       "      <td>0</td>\n",
       "      <td>0</td>\n",
       "      <td>0</td>\n",
       "      <td>0</td>\n",
       "      <td>0</td>\n",
       "    </tr>\n",
       "  </tbody>\n",
       "</table>\n",
       "<p>5 rows × 75 columns</p>\n",
       "</div>"
      ],
      "text/plain": [
       "           gender  length_scaled  label_0  label_1  label_2  label_3  label_4  \\\n",
       "artist_id                                                                       \n",
       "5577            1       0.016144     1431     1007      359     1220     1081   \n",
       "8786            0      -0.014645     1282      783        0        0        0   \n",
       "6410            0      -0.006699      128       54      931        0        0   \n",
       "7405            0       0.020711      502     1081      449      806      673   \n",
       "5633            1       0.000000     1089      650       10     1007        0   \n",
       "\n",
       "           label_5  label_6  label_7  ...  label_63  label_64  label_65  \\\n",
       "artist_id                             ...                                 \n",
       "5577           354      449        0  ...         0         0         0   \n",
       "8786             0        0        0  ...         0         0         0   \n",
       "6410             0        0        0  ...         0         0         0   \n",
       "7405          1345     1270     1481  ...         0         0         0   \n",
       "5633             0        0        0  ...         0         0         0   \n",
       "\n",
       "           label_66  label_67  label_68  label_69  label_70  label_71  \\\n",
       "artist_id                                                               \n",
       "5577              0         0         0         0         0         0   \n",
       "8786              0         0         0         0         0         0   \n",
       "6410              0         0         0         0         0         0   \n",
       "7405              0         0         0         0         0         0   \n",
       "5633              0         0         0         0         0         0   \n",
       "\n",
       "           label_72  \n",
       "artist_id            \n",
       "5577              0  \n",
       "8786              0  \n",
       "6410              0  \n",
       "7405              0  \n",
       "5633              0  \n",
       "\n",
       "[5 rows x 75 columns]"
      ]
     },
     "execution_count": 15,
     "metadata": {},
     "output_type": "execute_result"
    }
   ],
   "source": [
    "data_norm.head()"
   ]
  },
  {
   "cell_type": "markdown",
   "metadata": {},
   "source": [
    "Now split into X,y DFs"
   ]
  },
  {
   "cell_type": "code",
   "execution_count": 16,
   "metadata": {},
   "outputs": [],
   "source": [
    "y = data_norm.pop('gender')\n",
    "X = data_norm.copy()"
   ]
  },
  {
   "cell_type": "markdown",
   "metadata": {},
   "source": [
    "Baseline:"
   ]
  },
  {
   "cell_type": "code",
   "execution_count": 75,
   "metadata": {},
   "outputs": [
    {
     "name": "stdout",
     "output_type": "stream",
     "text": [
      "68.9% of artists are male.\n"
     ]
    }
   ],
   "source": [
    "print(f'{round(100*(1-y.sum()/y.shape[0]),1)}% of artists are male.') "
   ]
  },
  {
   "cell_type": "markdown",
   "metadata": {},
   "source": [
    "## Define Models"
   ]
  },
  {
   "cell_type": "code",
   "execution_count": 137,
   "metadata": {},
   "outputs": [],
   "source": [
    "# # list only as input\n",
    "# # GAP seems to work better than GMP; Flatten may also be competetive\n",
    "\n",
    "\n",
    "# def create_model():\n",
    "#     loss_fcn = keras.losses.BinaryCrossentropy(from_logits=True)\n",
    "#     lr = .0002 # was .001\n",
    "    \n",
    "#     opt = tf.keras.optimizers.Adam(learning_rate = lr)\n",
    "    \n",
    "#     # the list input; use vocab_size+1 since 0 is saved to indicate no label\n",
    "#     list_input = layers.Input(shape = (max_list_length,), name = 'list_input')\n",
    "#     embed = layers.Embedding(input_dim = vocab_size+1, output_dim = 128, input_length = max_list_length, name = 'list_embed')(list_input)\n",
    "#     # flatten or pool layer\n",
    "#     fop = layers.GlobalAveragePooling1D()(embed)\n",
    "#     #fop = layers.GlobalMaxPooling1D()(embed)\n",
    "#     #fop = layers.Flatten()(embed)\n",
    "#     # add dense layers\n",
    "#     x = layers.Dense(64, activation = 'relu')(fop)\n",
    "#     x = layers.Dropout(.5)(x)\n",
    "#     #x = layers.concatenate([x, fop])\n",
    "#     x = layers.Dense(128, activation = 'relu')(x)\n",
    "#     x = layers.Add()([x,fop]) # requires output of embedding and of last dense are equal\n",
    "#     x = layers.Dropout(.5)(x)\n",
    "#     x = layers.Dense(128, activation = 'relu')(x)\n",
    "#     x = layers.Dropout(.5)(x)\n",
    "#     x = layers.Dense(64, activation = 'relu')(x) \n",
    "#     pred = layers.Dense(1, name = 'predictions')(x)\n",
    "\n",
    "#     model = keras.Model(inputs = [list_input], outputs = [pred])\n",
    "    \n",
    "    \n",
    "#     model.compile(loss=loss_fcn,\n",
    "#                   optimizer=opt,\n",
    "#                   metrics=['accuracy'])\n",
    "    \n",
    "#     return model"
   ]
  },
  {
   "cell_type": "code",
   "execution_count": 211,
   "metadata": {},
   "outputs": [],
   "source": [
    "# # list only as input\n",
    "# # GAP seems to work better than GMP; Flatten may also be competetive\n",
    "\n",
    "# lr = .00025 # .0002-.0003 seem good\n",
    "\n",
    "# def create_model():\n",
    "#     loss_fcn = keras.losses.BinaryCrossentropy(from_logits=True)\n",
    "    \n",
    "    \n",
    "#     opt = tf.keras.optimizers.Adam(learning_rate = lr)\n",
    "    \n",
    "#     # the list input; use vocab_size+1 since 0 is saved to indicate no label\n",
    "#     list_input = layers.Input(shape = (max_list_length,), name = 'list_input')\n",
    "#     embed = layers.Embedding(input_dim = vocab_size+1, output_dim = 128, input_length = max_list_length, name = 'list_embed')(list_input)\n",
    "#     # pool layer\n",
    "#     fop = layers.GlobalAveragePooling1D()(embed)\n",
    "#     # add dense layers\n",
    "#     k = 32\n",
    "#     x = layers.Dense(k, activation = 'relu')(fop)\n",
    "#     x = layers.Dropout(.5)(x)\n",
    "#     #x = layers.concatenate([x, fop])\n",
    "#     x = layers.Dense(k, activation = 'relu')(x)\n",
    "#     x = layers.Dropout(.5)(x)\n",
    "#     # reshape pool layer to add to Dense\n",
    "#     #y = layers.Dense(k, activation = None)(fop)\n",
    "#     z = layers.Dense(k, activation = 'sigmoid')(fop)\n",
    "#     x = layers.Add()([x,z]) # requires output of embedding and of last dense are equal\n",
    "#     x = layers.Dense(k, activation = 'relu')(x)\n",
    "#     x = layers.Dropout(.5)(x)\n",
    "#     x = layers.Add()([x,z]) # requires output of embedding and of last dense are equal\n",
    "#     x = layers.Dense(k, activation = 'relu')(x)\n",
    "#     x = layers.Dropout(.5)(x)\n",
    "#     x = layers.Add()([x,z]) # requires output of embedding and of last dense are equal\n",
    "#     x = layers.Dense(k, activation = 'relu')(x) \n",
    "#     pred = layers.Dense(1, name = 'predictions')(x)\n",
    "\n",
    "#     model = keras.Model(inputs = [list_input], outputs = [pred])\n",
    "    \n",
    "    \n",
    "#     model.compile(loss=loss_fcn,\n",
    "#                   optimizer=opt,\n",
    "#                   metrics=['accuracy'])\n",
    "    \n",
    "#     return model"
   ]
  },
  {
   "cell_type": "code",
   "execution_count": 315,
   "metadata": {},
   "outputs": [],
   "source": [
    "# list only as input\n",
    "# GAP seems to work better than GMP; Flatten may also be competetive\n",
    "\n",
    "lr = .0003 # .0002-.0003 seem good\n",
    "\n",
    "def create_model():\n",
    "    loss_fcn = keras.losses.BinaryCrossentropy(from_logits=True)\n",
    "    \n",
    "    \n",
    "    opt = tf.keras.optimizers.Adam(learning_rate = lr)\n",
    "    \n",
    "    # the list input; use vocab_size+1 since 0 is saved to indicate no label\n",
    "    list_input = layers.Input(shape = (max_list_length,), name = 'list_input')\n",
    "    embed = layers.Embedding(input_dim = vocab_size+1, output_dim = 256, input_length = max_list_length, name = 'list_embed')(list_input)\n",
    "    # pool layer\n",
    "    fop = layers.GlobalAveragePooling1D()(embed)\n",
    "    # add dense layers\n",
    "    k = 64\n",
    "    \n",
    "    # resize from fop layer\n",
    "    y = layers.Dense(k, activation = None)(fop)\n",
    "    z = layers.Dense(k, activation = 'sigmoid')(fop)\n",
    "    x = layers.Dense(k, activation = 'relu')(fop)\n",
    "    \n",
    "    x = layers.Dense(k, activation = 'relu')(x)\n",
    "    x = layers.Dropout(.4)(x)\n",
    "    x = layers.Multiply()([x,z])\n",
    "    x = layers.Dropout(.4)(x)\n",
    "    # reshape pool layer to add to Dense\n",
    "    x = layers.Add()([x,y]) # requires output of embedding and of last dense are equal\n",
    "    x = layers.Dense(k, activation = 'relu')(x)\n",
    "    x = layers.Dropout(.4)(x)\n",
    "    x = layers.Multiply()([x,z]) # requires output of embedding and of last dense are equal\n",
    "    x = layers.Dense(k, activation = 'relu')(x) \n",
    "    x = layers.Dropout(.4)(x)\n",
    "    pred = layers.Dense(1, name = 'predictions')(x)\n",
    "\n",
    "    model = keras.Model(inputs = [list_input], outputs = [pred])\n",
    "    \n",
    "    \n",
    "    model.compile(loss=loss_fcn,\n",
    "                  optimizer=opt,\n",
    "                  metrics=['accuracy'])\n",
    "    \n",
    "    return model"
   ]
  },
  {
   "cell_type": "code",
   "execution_count": 316,
   "metadata": {},
   "outputs": [],
   "source": [
    "# # list only as input\n",
    "# # using Flatten \n",
    "\n",
    "# lr = .0003 # .0002-.0003 seem good\n",
    "\n",
    "# def create_model():\n",
    "#     loss_fcn = keras.losses.BinaryCrossentropy(from_logits=True)\n",
    "    \n",
    "    \n",
    "#     opt = tf.keras.optimizers.Adam(learning_rate = lr)\n",
    "    \n",
    "#     # the list input; use vocab_size+1 since 0 is saved to indicate no label\n",
    "#     list_input = layers.Input(shape = (max_list_length,), name = 'list_input')\n",
    "#     embed = layers.Embedding(input_dim = vocab_size+1, output_dim = 128, input_length = max_list_length, name = 'list_embed')(list_input)\n",
    "#     # pool layer\n",
    "#     fop = layers.Flatten()(embed)\n",
    "#     #fop = layers.GlobalAveragePooling1D()(embed)\n",
    "#     # add dense layers\n",
    "#     k = 16\n",
    "#     y = layers.Dense(k, activation = None)(fop)\n",
    "#     z = layers.Dense(k, activation = 'sigmoid')(fop)\n",
    "#     x = layers.Dense(k, activation = 'relu')(fop)\n",
    "#     x = layers.Multiply()([x,z])\n",
    "#     #x = layers.Dropout(.2)(x)\n",
    "#     x = layers.Dense(k, activation = 'relu')(x)\n",
    "#     x = layers.Dropout(.2)(x)\n",
    "#     # reshape pool layer to add to Dense\n",
    "#     x = layers.Add()([x,y]) # requires output of embedding and of last dense are equal\n",
    "#     x = layers.Dense(k, activation = 'relu')(x)\n",
    "#     x = layers.Dropout(.5)(x)\n",
    "#     x = layers.Add()([x,y]) # requires output of embedding and of last dense are equal\n",
    "#     x = layers.Dense(k, activation = 'relu')(x)\n",
    "#     x = layers.Dropout(.5)(x)\n",
    "#     x = layers.Multiply()([x,z]) # requires output of embedding and of last dense are equal\n",
    "#     x = layers.Dense(2*k, activation = 'relu')(x) \n",
    "#     pred = layers.Dense(1, name = 'predictions')(x)\n",
    "\n",
    "#     model = keras.Model(inputs = [list_input], outputs = [pred])\n",
    "    \n",
    "    \n",
    "#     model.compile(loss=loss_fcn,\n",
    "#                   optimizer=opt,\n",
    "#                   metrics=['accuracy'])\n",
    "    \n",
    "#     return model"
   ]
  },
  {
   "cell_type": "code",
   "execution_count": 317,
   "metadata": {},
   "outputs": [],
   "source": [
    "# embed = layers.Embedding(input_dim = vocab_size+1, output_dim = 125, input_length = max_list_length, name = 'list_embed')\n",
    "\n",
    "# X_values = X.values\n",
    "\n",
    "# X_0_train = X_values[:,0:1]\n",
    "# X_1_train = X_values[:,1:74]"
   ]
  },
  {
   "cell_type": "code",
   "execution_count": 318,
   "metadata": {},
   "outputs": [],
   "source": [
    "# min([embed(X_1_train[i]).numpy().min() for i in range(X_1_train.shape[0])]), max([embed(X_1_train[i]).numpy().max() for i in range(X_1_train.shape[0])])"
   ]
  },
  {
   "cell_type": "markdown",
   "metadata": {},
   "source": [
    "### Train Model"
   ]
  },
  {
   "cell_type": "code",
   "execution_count": 319,
   "metadata": {},
   "outputs": [
    {
     "name": "stdout",
     "output_type": "stream",
     "text": [
      "Epoch 1/30\n",
      "310/310 - 2s - loss: 0.6328 - accuracy: 0.6887 - val_loss: 0.6166 - val_accuracy: 0.6910\n",
      "Epoch 2/30\n",
      "310/310 - 2s - loss: 0.6175 - accuracy: 0.6887 - val_loss: 0.6029 - val_accuracy: 0.6910\n",
      "Epoch 3/30\n",
      "310/310 - 2s - loss: 0.5724 - accuracy: 0.6886 - val_loss: 0.5432 - val_accuracy: 0.6910\n",
      "Epoch 4/30\n",
      "310/310 - 2s - loss: 0.5301 - accuracy: 0.6943 - val_loss: 0.5258 - val_accuracy: 0.6955\n",
      "Epoch 5/30\n",
      "310/310 - 2s - loss: 0.5150 - accuracy: 0.7085 - val_loss: 0.5214 - val_accuracy: 0.6991\n",
      "Epoch 6/30\n",
      "310/310 - 2s - loss: 0.5076 - accuracy: 0.7064 - val_loss: 0.5199 - val_accuracy: 0.7116\n",
      "Epoch 7/30\n",
      "310/310 - 2s - loss: 0.5029 - accuracy: 0.7176 - val_loss: 0.5230 - val_accuracy: 0.7056\n",
      "Epoch 8/30\n",
      "310/310 - 2s - loss: 0.4983 - accuracy: 0.7152 - val_loss: 0.5188 - val_accuracy: 0.7165\n",
      "Epoch 9/30\n",
      "310/310 - 2s - loss: 0.4932 - accuracy: 0.7203 - val_loss: 0.5186 - val_accuracy: 0.7213\n",
      "Epoch 10/30\n",
      "310/310 - 2s - loss: 0.4899 - accuracy: 0.7198 - val_loss: 0.5197 - val_accuracy: 0.7233\n",
      "Epoch 11/30\n",
      "310/310 - 2s - loss: 0.4867 - accuracy: 0.7210 - val_loss: 0.5214 - val_accuracy: 0.7242\n",
      "Epoch 12/30\n",
      "310/310 - 2s - loss: 0.4833 - accuracy: 0.7238 - val_loss: 0.5166 - val_accuracy: 0.7161\n",
      "Epoch 13/30\n",
      "310/310 - 2s - loss: 0.4816 - accuracy: 0.7266 - val_loss: 0.5182 - val_accuracy: 0.7229\n",
      "Epoch 14/30\n",
      "310/310 - 2s - loss: 0.4800 - accuracy: 0.7281 - val_loss: 0.5186 - val_accuracy: 0.7310\n",
      "Epoch 15/30\n",
      "310/310 - 2s - loss: 0.4754 - accuracy: 0.7320 - val_loss: 0.5338 - val_accuracy: 0.7330\n",
      "Epoch 16/30\n",
      "310/310 - 2s - loss: 0.4744 - accuracy: 0.7311 - val_loss: 0.5378 - val_accuracy: 0.7314\n",
      "Epoch 17/30\n",
      "310/310 - 2s - loss: 0.4743 - accuracy: 0.7346 - val_loss: 0.5189 - val_accuracy: 0.7282\n",
      "Epoch 18/30\n",
      "310/310 - 2s - loss: 0.4690 - accuracy: 0.7393 - val_loss: 0.5190 - val_accuracy: 0.7278\n",
      "Epoch 19/30\n",
      "310/310 - 2s - loss: 0.4700 - accuracy: 0.7430 - val_loss: 0.5201 - val_accuracy: 0.7282\n",
      "Epoch 20/30\n",
      "310/310 - 2s - loss: 0.4671 - accuracy: 0.7457 - val_loss: 0.5267 - val_accuracy: 0.7338\n",
      "Epoch 21/30\n",
      "310/310 - 2s - loss: 0.4655 - accuracy: 0.7446 - val_loss: 0.5388 - val_accuracy: 0.7169\n",
      "Epoch 22/30\n",
      "310/310 - 2s - loss: 0.4648 - accuracy: 0.7521 - val_loss: 0.5331 - val_accuracy: 0.7314\n",
      "Epoch 23/30\n",
      "310/310 - 2s - loss: 0.4612 - accuracy: 0.7510 - val_loss: 0.5351 - val_accuracy: 0.7306\n",
      "Epoch 24/30\n",
      "310/310 - 2s - loss: 0.4576 - accuracy: 0.7529 - val_loss: 0.5274 - val_accuracy: 0.7242\n",
      "Epoch 25/30\n",
      "310/310 - 2s - loss: 0.4588 - accuracy: 0.7545 - val_loss: 0.5374 - val_accuracy: 0.7298\n",
      "Epoch 26/30\n",
      "310/310 - 2s - loss: 0.4535 - accuracy: 0.7608 - val_loss: 0.5486 - val_accuracy: 0.7193\n",
      "Epoch 27/30\n",
      "310/310 - 2s - loss: 0.4530 - accuracy: 0.7595 - val_loss: 0.5387 - val_accuracy: 0.7282\n",
      "Epoch 28/30\n",
      "310/310 - 2s - loss: 0.4537 - accuracy: 0.7584 - val_loss: 0.5320 - val_accuracy: 0.7270\n",
      "Epoch 29/30\n",
      "310/310 - 2s - loss: 0.4523 - accuracy: 0.7601 - val_loss: 0.5426 - val_accuracy: 0.7314\n",
      "Epoch 30/30\n",
      "310/310 - 2s - loss: 0.4475 - accuracy: 0.7631 - val_loss: 0.5402 - val_accuracy: 0.7266\n"
     ]
    }
   ],
   "source": [
    "X_values = X.values\n",
    "y_values = y.values\n",
    "\n",
    "X_1_train = X_values[:,1:74]\n",
    "y_train = np.asarray(y_values)\n",
    "\n",
    "model = create_model()\n",
    "\n",
    "history = model.fit({'list_input':X_1_train},\n",
    "                    {'predictions':y_train},\n",
    "                    batch_size=32,\n",
    "                    epochs=30,\n",
    "                    validation_split = .2,\n",
    "                    verbose = 2\n",
    "                    )"
   ]
  },
  {
   "cell_type": "code",
   "execution_count": 320,
   "metadata": {},
   "outputs": [
    {
     "data": {
      "image/png": "[encoded data removed]",
      "text/plain": [
       "<Figure size 1440x720 with 2 Axes>"
      ]
     },
     "metadata": {
      "needs_background": "light"
     },
     "output_type": "display_data"
    }
   ],
   "source": [
    "fig, axs = plt.subplots(1,2, figsize = (20,10))\n",
    "\n",
    "fig.suptitle(f'lr = {lr}', fontsize = 22)\n",
    "axs[0].plot(history.history['accuracy'], label = 'Training Accuracy')\n",
    "axs[0].plot(history.history['val_accuracy'], label = 'Validation Accuracy')\n",
    "\n",
    "axs[1].plot(history.history['loss'], label = 'Training Loss')\n",
    "axs[1].plot(history.history['val_loss'], label = 'Validation Loss')\n",
    "\n",
    "axs[0].hlines(0.689,0,len(history.history['accuracy']), label = 'Random Baseline')\n",
    "#plt.ylim(0,.1)\n",
    "axs[0].legend()\n",
    "axs[1].legend()\n",
    "\n",
    "plt.show()\n",
    "#print(min(history.history['accuracy']))"
   ]
  },
  {
   "cell_type": "markdown",
   "metadata": {},
   "source": [
    "Train with cross validation:"
   ]
  },
  {
   "cell_type": "code",
   "execution_count": 92,
   "metadata": {},
   "outputs": [
    {
     "name": "stdout",
     "output_type": "stream",
     "text": [
      "Accuracy = 0.6874663233757019.\n"
     ]
    },
    {
     "ename": "KeyboardInterrupt",
     "evalue": "",
     "output_type": "error",
     "traceback": [
      "\u001b[0;31m---------------------------------------------------------------------------\u001b[0m",
      "\u001b[0;31mKeyboardInterrupt\u001b[0m                         Traceback (most recent call last)",
      "\u001b[0;32m<ipython-input-92-c3092057df9b>\u001b[0m in \u001b[0;36m<module>\u001b[0;34m\u001b[0m\n\u001b[1;32m     19\u001b[0m \u001b[0;31m#     dataset_list_train = tf.data.Dataset.from_tensor_slices((X_1_train, y_train))\u001b[0m\u001b[0;34m\u001b[0m\u001b[0;34m\u001b[0m\u001b[0;34m\u001b[0m\u001b[0m\n\u001b[1;32m     20\u001b[0m \u001b[0;34m\u001b[0m\u001b[0m\n\u001b[0;32m---> 21\u001b[0;31m     history = model.fit({'list_input':X_1_train, 'length_input':X_0_train},\n\u001b[0m\u001b[1;32m     22\u001b[0m                     \u001b[0;34m{\u001b[0m\u001b[0;34m'predictions'\u001b[0m\u001b[0;34m:\u001b[0m\u001b[0my_train\u001b[0m\u001b[0;34m}\u001b[0m\u001b[0;34m,\u001b[0m\u001b[0;34m\u001b[0m\u001b[0;34m\u001b[0m\u001b[0m\n\u001b[1;32m     23\u001b[0m                     \u001b[0mbatch_size\u001b[0m\u001b[0;34m=\u001b[0m\u001b[0;36m16\u001b[0m\u001b[0;34m,\u001b[0m\u001b[0;34m\u001b[0m\u001b[0;34m\u001b[0m\u001b[0m\n",
      "\u001b[0;32m~/anaconda3/envs/tf_genre/lib/python3.8/site-packages/tensorflow/python/keras/engine/training.py\u001b[0m in \u001b[0;36m_method_wrapper\u001b[0;34m(self, *args, **kwargs)\u001b[0m\n\u001b[1;32m     64\u001b[0m   \u001b[0;32mdef\u001b[0m \u001b[0m_method_wrapper\u001b[0m\u001b[0;34m(\u001b[0m\u001b[0mself\u001b[0m\u001b[0;34m,\u001b[0m \u001b[0;34m*\u001b[0m\u001b[0margs\u001b[0m\u001b[0;34m,\u001b[0m \u001b[0;34m**\u001b[0m\u001b[0mkwargs\u001b[0m\u001b[0;34m)\u001b[0m\u001b[0;34m:\u001b[0m\u001b[0;34m\u001b[0m\u001b[0;34m\u001b[0m\u001b[0m\n\u001b[1;32m     65\u001b[0m     \u001b[0;32mif\u001b[0m \u001b[0;32mnot\u001b[0m \u001b[0mself\u001b[0m\u001b[0;34m.\u001b[0m\u001b[0m_in_multi_worker_mode\u001b[0m\u001b[0;34m(\u001b[0m\u001b[0;34m)\u001b[0m\u001b[0;34m:\u001b[0m  \u001b[0;31m# pylint: disable=protected-access\u001b[0m\u001b[0;34m\u001b[0m\u001b[0;34m\u001b[0m\u001b[0m\n\u001b[0;32m---> 66\u001b[0;31m       \u001b[0;32mreturn\u001b[0m \u001b[0mmethod\u001b[0m\u001b[0;34m(\u001b[0m\u001b[0mself\u001b[0m\u001b[0;34m,\u001b[0m \u001b[0;34m*\u001b[0m\u001b[0margs\u001b[0m\u001b[0;34m,\u001b[0m \u001b[0;34m**\u001b[0m\u001b[0mkwargs\u001b[0m\u001b[0;34m)\u001b[0m\u001b[0;34m\u001b[0m\u001b[0;34m\u001b[0m\u001b[0m\n\u001b[0m\u001b[1;32m     67\u001b[0m \u001b[0;34m\u001b[0m\u001b[0m\n\u001b[1;32m     68\u001b[0m     \u001b[0;31m# Running inside `run_distribute_coordinator` already.\u001b[0m\u001b[0;34m\u001b[0m\u001b[0;34m\u001b[0m\u001b[0;34m\u001b[0m\u001b[0m\n",
      "\u001b[0;32m~/anaconda3/envs/tf_genre/lib/python3.8/site-packages/tensorflow/python/keras/engine/training.py\u001b[0m in \u001b[0;36mfit\u001b[0;34m(self, x, y, batch_size, epochs, verbose, callbacks, validation_split, validation_data, shuffle, class_weight, sample_weight, initial_epoch, steps_per_epoch, validation_steps, validation_batch_size, validation_freq, max_queue_size, workers, use_multiprocessing)\u001b[0m\n\u001b[1;32m    846\u001b[0m                 batch_size=batch_size):\n\u001b[1;32m    847\u001b[0m               \u001b[0mcallbacks\u001b[0m\u001b[0;34m.\u001b[0m\u001b[0mon_train_batch_begin\u001b[0m\u001b[0;34m(\u001b[0m\u001b[0mstep\u001b[0m\u001b[0;34m)\u001b[0m\u001b[0;34m\u001b[0m\u001b[0;34m\u001b[0m\u001b[0m\n\u001b[0;32m--> 848\u001b[0;31m               \u001b[0mtmp_logs\u001b[0m \u001b[0;34m=\u001b[0m \u001b[0mtrain_function\u001b[0m\u001b[0;34m(\u001b[0m\u001b[0miterator\u001b[0m\u001b[0;34m)\u001b[0m\u001b[0;34m\u001b[0m\u001b[0;34m\u001b[0m\u001b[0m\n\u001b[0m\u001b[1;32m    849\u001b[0m               \u001b[0;31m# Catch OutOfRangeError for Datasets of unknown size.\u001b[0m\u001b[0;34m\u001b[0m\u001b[0;34m\u001b[0m\u001b[0;34m\u001b[0m\u001b[0m\n\u001b[1;32m    850\u001b[0m               \u001b[0;31m# This blocks until the batch has finished executing.\u001b[0m\u001b[0;34m\u001b[0m\u001b[0;34m\u001b[0m\u001b[0;34m\u001b[0m\u001b[0m\n",
      "\u001b[0;32m~/anaconda3/envs/tf_genre/lib/python3.8/site-packages/tensorflow/python/eager/def_function.py\u001b[0m in \u001b[0;36m__call__\u001b[0;34m(self, *args, **kwds)\u001b[0m\n\u001b[1;32m    578\u001b[0m         \u001b[0mxla_context\u001b[0m\u001b[0;34m.\u001b[0m\u001b[0mExit\u001b[0m\u001b[0;34m(\u001b[0m\u001b[0;34m)\u001b[0m\u001b[0;34m\u001b[0m\u001b[0;34m\u001b[0m\u001b[0m\n\u001b[1;32m    579\u001b[0m     \u001b[0;32melse\u001b[0m\u001b[0;34m:\u001b[0m\u001b[0;34m\u001b[0m\u001b[0;34m\u001b[0m\u001b[0m\n\u001b[0;32m--> 580\u001b[0;31m       \u001b[0mresult\u001b[0m \u001b[0;34m=\u001b[0m \u001b[0mself\u001b[0m\u001b[0;34m.\u001b[0m\u001b[0m_call\u001b[0m\u001b[0;34m(\u001b[0m\u001b[0;34m*\u001b[0m\u001b[0margs\u001b[0m\u001b[0;34m,\u001b[0m \u001b[0;34m**\u001b[0m\u001b[0mkwds\u001b[0m\u001b[0;34m)\u001b[0m\u001b[0;34m\u001b[0m\u001b[0;34m\u001b[0m\u001b[0m\n\u001b[0m\u001b[1;32m    581\u001b[0m \u001b[0;34m\u001b[0m\u001b[0m\n\u001b[1;32m    582\u001b[0m     \u001b[0;32mif\u001b[0m \u001b[0mtracing_count\u001b[0m \u001b[0;34m==\u001b[0m \u001b[0mself\u001b[0m\u001b[0;34m.\u001b[0m\u001b[0m_get_tracing_count\u001b[0m\u001b[0;34m(\u001b[0m\u001b[0;34m)\u001b[0m\u001b[0;34m:\u001b[0m\u001b[0;34m\u001b[0m\u001b[0;34m\u001b[0m\u001b[0m\n",
      "\u001b[0;32m~/anaconda3/envs/tf_genre/lib/python3.8/site-packages/tensorflow/python/eager/def_function.py\u001b[0m in \u001b[0;36m_call\u001b[0;34m(self, *args, **kwds)\u001b[0m\n\u001b[1;32m    609\u001b[0m       \u001b[0;31m# In this case we have created variables on the first call, so we run the\u001b[0m\u001b[0;34m\u001b[0m\u001b[0;34m\u001b[0m\u001b[0;34m\u001b[0m\u001b[0m\n\u001b[1;32m    610\u001b[0m       \u001b[0;31m# defunned version which is guaranteed to never create variables.\u001b[0m\u001b[0;34m\u001b[0m\u001b[0;34m\u001b[0m\u001b[0;34m\u001b[0m\u001b[0m\n\u001b[0;32m--> 611\u001b[0;31m       \u001b[0;32mreturn\u001b[0m \u001b[0mself\u001b[0m\u001b[0;34m.\u001b[0m\u001b[0m_stateless_fn\u001b[0m\u001b[0;34m(\u001b[0m\u001b[0;34m*\u001b[0m\u001b[0margs\u001b[0m\u001b[0;34m,\u001b[0m \u001b[0;34m**\u001b[0m\u001b[0mkwds\u001b[0m\u001b[0;34m)\u001b[0m  \u001b[0;31m# pylint: disable=not-callable\u001b[0m\u001b[0;34m\u001b[0m\u001b[0;34m\u001b[0m\u001b[0m\n\u001b[0m\u001b[1;32m    612\u001b[0m     \u001b[0;32melif\u001b[0m \u001b[0mself\u001b[0m\u001b[0;34m.\u001b[0m\u001b[0m_stateful_fn\u001b[0m \u001b[0;32mis\u001b[0m \u001b[0;32mnot\u001b[0m \u001b[0;32mNone\u001b[0m\u001b[0;34m:\u001b[0m\u001b[0;34m\u001b[0m\u001b[0;34m\u001b[0m\u001b[0m\n\u001b[1;32m    613\u001b[0m       \u001b[0;31m# Release the lock early so that multiple threads can perform the call\u001b[0m\u001b[0;34m\u001b[0m\u001b[0;34m\u001b[0m\u001b[0;34m\u001b[0m\u001b[0m\n",
      "\u001b[0;32m~/anaconda3/envs/tf_genre/lib/python3.8/site-packages/tensorflow/python/eager/function.py\u001b[0m in \u001b[0;36m__call__\u001b[0;34m(self, *args, **kwargs)\u001b[0m\n\u001b[1;32m   2418\u001b[0m     \u001b[0;32mwith\u001b[0m \u001b[0mself\u001b[0m\u001b[0;34m.\u001b[0m\u001b[0m_lock\u001b[0m\u001b[0;34m:\u001b[0m\u001b[0;34m\u001b[0m\u001b[0;34m\u001b[0m\u001b[0m\n\u001b[1;32m   2419\u001b[0m       \u001b[0mgraph_function\u001b[0m\u001b[0;34m,\u001b[0m \u001b[0margs\u001b[0m\u001b[0;34m,\u001b[0m \u001b[0mkwargs\u001b[0m \u001b[0;34m=\u001b[0m \u001b[0mself\u001b[0m\u001b[0;34m.\u001b[0m\u001b[0m_maybe_define_function\u001b[0m\u001b[0;34m(\u001b[0m\u001b[0margs\u001b[0m\u001b[0;34m,\u001b[0m \u001b[0mkwargs\u001b[0m\u001b[0;34m)\u001b[0m\u001b[0;34m\u001b[0m\u001b[0;34m\u001b[0m\u001b[0m\n\u001b[0;32m-> 2420\u001b[0;31m     \u001b[0;32mreturn\u001b[0m \u001b[0mgraph_function\u001b[0m\u001b[0;34m.\u001b[0m\u001b[0m_filtered_call\u001b[0m\u001b[0;34m(\u001b[0m\u001b[0margs\u001b[0m\u001b[0;34m,\u001b[0m \u001b[0mkwargs\u001b[0m\u001b[0;34m)\u001b[0m  \u001b[0;31m# pylint: disable=protected-access\u001b[0m\u001b[0;34m\u001b[0m\u001b[0;34m\u001b[0m\u001b[0m\n\u001b[0m\u001b[1;32m   2421\u001b[0m \u001b[0;34m\u001b[0m\u001b[0m\n\u001b[1;32m   2422\u001b[0m   \u001b[0;34m@\u001b[0m\u001b[0mproperty\u001b[0m\u001b[0;34m\u001b[0m\u001b[0;34m\u001b[0m\u001b[0m\n",
      "\u001b[0;32m~/anaconda3/envs/tf_genre/lib/python3.8/site-packages/tensorflow/python/eager/function.py\u001b[0m in \u001b[0;36m_filtered_call\u001b[0;34m(self, args, kwargs)\u001b[0m\n\u001b[1;32m   1659\u001b[0m       \u001b[0;31m`\u001b[0m\u001b[0margs\u001b[0m\u001b[0;31m`\u001b[0m \u001b[0;32mand\u001b[0m\u001b[0;31m \u001b[0m\u001b[0;31m`\u001b[0m\u001b[0mkwargs\u001b[0m\u001b[0;31m`\u001b[0m\u001b[0;34m.\u001b[0m\u001b[0;34m\u001b[0m\u001b[0;34m\u001b[0m\u001b[0m\n\u001b[1;32m   1660\u001b[0m     \"\"\"\n\u001b[0;32m-> 1661\u001b[0;31m     return self._call_flat(\n\u001b[0m\u001b[1;32m   1662\u001b[0m         (t for t in nest.flatten((args, kwargs), expand_composites=True)\n\u001b[1;32m   1663\u001b[0m          if isinstance(t, (ops.Tensor,\n",
      "\u001b[0;32m~/anaconda3/envs/tf_genre/lib/python3.8/site-packages/tensorflow/python/eager/function.py\u001b[0m in \u001b[0;36m_call_flat\u001b[0;34m(self, args, captured_inputs, cancellation_manager)\u001b[0m\n\u001b[1;32m   1743\u001b[0m         and executing_eagerly):\n\u001b[1;32m   1744\u001b[0m       \u001b[0;31m# No tape is watching; skip to running the function.\u001b[0m\u001b[0;34m\u001b[0m\u001b[0;34m\u001b[0m\u001b[0;34m\u001b[0m\u001b[0m\n\u001b[0;32m-> 1745\u001b[0;31m       return self._build_call_outputs(self._inference_function.call(\n\u001b[0m\u001b[1;32m   1746\u001b[0m           ctx, args, cancellation_manager=cancellation_manager))\n\u001b[1;32m   1747\u001b[0m     forward_backward = self._select_forward_and_backward_functions(\n",
      "\u001b[0;32m~/anaconda3/envs/tf_genre/lib/python3.8/site-packages/tensorflow/python/eager/function.py\u001b[0m in \u001b[0;36mcall\u001b[0;34m(self, ctx, args, cancellation_manager)\u001b[0m\n\u001b[1;32m    591\u001b[0m       \u001b[0;32mwith\u001b[0m \u001b[0m_InterpolateFunctionError\u001b[0m\u001b[0;34m(\u001b[0m\u001b[0mself\u001b[0m\u001b[0;34m)\u001b[0m\u001b[0;34m:\u001b[0m\u001b[0;34m\u001b[0m\u001b[0;34m\u001b[0m\u001b[0m\n\u001b[1;32m    592\u001b[0m         \u001b[0;32mif\u001b[0m \u001b[0mcancellation_manager\u001b[0m \u001b[0;32mis\u001b[0m \u001b[0;32mNone\u001b[0m\u001b[0;34m:\u001b[0m\u001b[0;34m\u001b[0m\u001b[0;34m\u001b[0m\u001b[0m\n\u001b[0;32m--> 593\u001b[0;31m           outputs = execute.execute(\n\u001b[0m\u001b[1;32m    594\u001b[0m               \u001b[0mstr\u001b[0m\u001b[0;34m(\u001b[0m\u001b[0mself\u001b[0m\u001b[0;34m.\u001b[0m\u001b[0msignature\u001b[0m\u001b[0;34m.\u001b[0m\u001b[0mname\u001b[0m\u001b[0;34m)\u001b[0m\u001b[0;34m,\u001b[0m\u001b[0;34m\u001b[0m\u001b[0;34m\u001b[0m\u001b[0m\n\u001b[1;32m    595\u001b[0m               \u001b[0mnum_outputs\u001b[0m\u001b[0;34m=\u001b[0m\u001b[0mself\u001b[0m\u001b[0;34m.\u001b[0m\u001b[0m_num_outputs\u001b[0m\u001b[0;34m,\u001b[0m\u001b[0;34m\u001b[0m\u001b[0;34m\u001b[0m\u001b[0m\n",
      "\u001b[0;32m~/anaconda3/envs/tf_genre/lib/python3.8/site-packages/tensorflow/python/eager/execute.py\u001b[0m in \u001b[0;36mquick_execute\u001b[0;34m(op_name, num_outputs, inputs, attrs, ctx, name)\u001b[0m\n\u001b[1;32m     57\u001b[0m   \u001b[0;32mtry\u001b[0m\u001b[0;34m:\u001b[0m\u001b[0;34m\u001b[0m\u001b[0;34m\u001b[0m\u001b[0m\n\u001b[1;32m     58\u001b[0m     \u001b[0mctx\u001b[0m\u001b[0;34m.\u001b[0m\u001b[0mensure_initialized\u001b[0m\u001b[0;34m(\u001b[0m\u001b[0;34m)\u001b[0m\u001b[0;34m\u001b[0m\u001b[0;34m\u001b[0m\u001b[0m\n\u001b[0;32m---> 59\u001b[0;31m     tensors = pywrap_tfe.TFE_Py_Execute(ctx._handle, device_name, op_name,\n\u001b[0m\u001b[1;32m     60\u001b[0m                                         inputs, attrs, num_outputs)\n\u001b[1;32m     61\u001b[0m   \u001b[0;32mexcept\u001b[0m \u001b[0mcore\u001b[0m\u001b[0;34m.\u001b[0m\u001b[0m_NotOkStatusException\u001b[0m \u001b[0;32mas\u001b[0m \u001b[0me\u001b[0m\u001b[0;34m:\u001b[0m\u001b[0;34m\u001b[0m\u001b[0;34m\u001b[0m\u001b[0m\n",
      "\u001b[0;31mKeyboardInterrupt\u001b[0m: "
     ]
    }
   ],
   "source": [
    "kf = KFold(n_splits = 10, shuffle = True, random_state = seed)\n",
    "\n",
    "cvscores_acc = []\n",
    "\n",
    "X_values = X.values\n",
    "y_values = y.values\n",
    "\n",
    "for train, test in kf.split(X_values,y_values):\n",
    "    \n",
    "    X_0_train = X_values[train,0:1]\n",
    "    X_1_train = X_values[train,1:74]\n",
    "    y_train = np.asarray(y_values[train])\n",
    "    \n",
    "    #print(X_0_train.shape, X_1_train.shape, y_train.shape)\n",
    "    \n",
    "    model = create_model()\n",
    "    \n",
    "#     dataset_length_train = tf.data.Dataset.from_tensor_slices((X_0_train, y_train)) \n",
    "#     dataset_list_train = tf.data.Dataset.from_tensor_slices((X_1_train, y_train)) \n",
    "    \n",
    "    history = model.fit({'list_input':X_1_train, 'length_input':X_0_train},\n",
    "                    {'predictions':y_train},\n",
    "                    batch_size=16,\n",
    "                    epochs=33,\n",
    "                    verbose = 0 \n",
    "                    )\n",
    "    \n",
    "    \n",
    "    X_0_test = X_values[test,0:1]\n",
    "    X_1_test = X_values[test,1:73]\n",
    "    y_test = y_values[test]\n",
    "    \n",
    "#     dataset_length_test = tf.data.Dataset.from_tensor_slices((X_0_test, y_test)) \n",
    "#     dataset_list_test = tf.data.Dataset.from_tensor_slices((X_1_test, y_test)) \n",
    "    \n",
    "    scores = model.evaluate(\n",
    "                    {'list_input':X_1_train, 'length_input':X_0_train},\n",
    "                    {'predictions':y_train},\n",
    "                    verbose = 0)\n",
    "    \n",
    "    print(f'Accuracy = {scores[1]}.')\n",
    "    cvscores_acc.append(scores[1])\n",
    "    \n",
    "\n",
    "print(f'Mean Accuracy is {np.mean(cvscores_acc):.4f} and STD of Accuracy is {np.std(cvscores_acc):.4f}')"
   ]
  },
  {
   "cell_type": "code",
   "execution_count": null,
   "metadata": {},
   "outputs": [],
   "source": []
  },
  {
   "cell_type": "markdown",
   "metadata": {},
   "source": [
    "Ignore for now: Another possibility: Create TF Dataset using the corpus from gensim as a generator: Another possibility: Create TF Dataset using the corpus from gensim as a generator:"
   ]
  },
  {
   "cell_type": "code",
   "execution_count": null,
   "metadata": {},
   "outputs": [],
   "source": [
    "def corpus_gen():\n",
    "    for i in len(corpus):\n",
    "        yield (i, corpus[i])"
   ]
  },
  {
   "cell_type": "code",
   "execution_count": null,
   "metadata": {},
   "outputs": [],
   "source": [
    "dataset = tf.data.Dataset.from_generator(\n",
    "    corpus_gen,\n",
    "    (tf.int64, --tensor_one_hot--)\n",
    ")"
   ]
  }
 ],
 "metadata": {
  "kernelspec": {
   "display_name": "tf_genre",
   "language": "python",
   "name": "tf_genre"
  },
  "language_info": {
   "codemirror_mode": {
    "name": "ipython",
    "version": 3
   },
   "file_extension": ".py",
   "mimetype": "text/x-python",
   "name": "python",
   "nbconvert_exporter": "python",
   "pygments_lexer": "ipython3",
   "version": "3.8.3"
  }
 },
 "nbformat": 4,
 "nbformat_minor": 4
}
