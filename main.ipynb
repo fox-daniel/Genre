{
 "cells": [
  {
   "cell_type": "code",
   "execution_count": 1,
   "metadata": {},
   "outputs": [
    {
     "name": "stdout",
     "output_type": "stream",
     "text": [
      "Stored 'now' (str)\n"
     ]
    }
   ],
   "source": [
    "import numpy as np\n",
    "import pandas as pd\n",
    "from sklearn.model_selection import train_test_split \n",
    "np.random.seed(23)\n",
    "\n",
    "# the variable 'now' references the datetime that the data was saved. \n",
    "# Other notebooks call it to reference the most recent version of the cleaned data.\n",
    "now = '2020-07-07-09-58'\n",
    "%store now"
   ]
  },
  {
   "cell_type": "markdown",
   "metadata": {},
   "source": [
    "## Data Preprocessing"
   ]
  },
  {
   "cell_type": "markdown",
   "metadata": {},
   "source": [
    "### The data set with the genders of music artists\n",
    "\n",
    "The file singers_gender.csv is from Kaggle and lists music artists and their gender: \n",
    "\n",
    "https://www.kaggle.com/rkibria/singersgender \n",
    "\n",
    "This csv file containing the name and gender of singers was used to scrape genre metadata for each artist from Wikipedia and stored in the csv file here: \n",
    "\n",
    "'../../data/genre_lists/data_to_be_cleaned/wiki-kaggle_genres_rescrape.csv/wiki-kaggle_genres_rescrape.csv'\n",
    "\n",
    "We verified the gender of the artists for a 1% sample.\n",
    "\n",
    "### We next clean the data. This involves \n",
    "- removing artists for which no genre information was obtained\n",
    "- removing bands (which do not have a singular gender)\n",
    "- correcting spelling irregularities for names of genres (sometimes referred to as genre labels)\n",
    "- normalizing and aggregating genres\n",
    "- organizing genres into a list (in the csv this is a string, but in the data frame it is a list)\n",
    "\n",
    "The 'cleaning' process also involved making calls about which genre labels should be considered spelling variants of a single genre. For example, 'rock n roll' and 'rock and roll' were aggregated into a single genre, but kept separate from 'rock'. The labels 'r & b' and 'r n b' were combined but kept separarte from 'rhythm and blues'.\n",
    "\n",
    "In addition to cleaning the data, a new column is added with the number of genres for each artist."
   ]
  },
  {
   "cell_type": "code",
   "execution_count": 2,
   "metadata": {},
   "outputs": [],
   "source": [
    "from src.genre_scripts.genre_cleaning import clean_genre_data"
   ]
  },
  {
   "cell_type": "code",
   "execution_count": 3,
   "metadata": {},
   "outputs": [],
   "source": [
    "data = clean_genre_data()"
   ]
  },
  {
   "cell_type": "code",
   "execution_count": 4,
   "metadata": {},
   "outputs": [
    {
     "data": {
      "text/html": [
       "<div>\n",
       "<style scoped>\n",
       "    .dataframe tbody tr th:only-of-type {\n",
       "        vertical-align: middle;\n",
       "    }\n",
       "\n",
       "    .dataframe tbody tr th {\n",
       "        vertical-align: top;\n",
       "    }\n",
       "\n",
       "    .dataframe thead th {\n",
       "        text-align: right;\n",
       "    }\n",
       "</style>\n",
       "<table border=\"1\" class=\"dataframe\">\n",
       "  <thead>\n",
       "    <tr style=\"text-align: right;\">\n",
       "      <th></th>\n",
       "      <th>artist</th>\n",
       "      <th>gender</th>\n",
       "      <th>genrelist</th>\n",
       "      <th>genrelist_length</th>\n",
       "    </tr>\n",
       "  </thead>\n",
       "  <tbody>\n",
       "    <tr>\n",
       "      <th>1</th>\n",
       "      <td>Christopher_Willits</td>\n",
       "      <td>male</td>\n",
       "      <td>[electronic, glitch, ambient, electro_acoustic...</td>\n",
       "      <td>5</td>\n",
       "    </tr>\n",
       "    <tr>\n",
       "      <th>3</th>\n",
       "      <td>Shawn_Hook</td>\n",
       "      <td>male</td>\n",
       "      <td>[pop, electronic, rock]</td>\n",
       "      <td>3</td>\n",
       "    </tr>\n",
       "    <tr>\n",
       "      <th>4</th>\n",
       "      <td>Steve_Poltz</td>\n",
       "      <td>male</td>\n",
       "      <td>[pop_rock, indie_rock, folk_rock]</td>\n",
       "      <td>3</td>\n",
       "    </tr>\n",
       "    <tr>\n",
       "      <th>6</th>\n",
       "      <td>Marvin_Isley</td>\n",
       "      <td>male</td>\n",
       "      <td>[r_and_b, funk, soul, funk_rock]</td>\n",
       "      <td>4</td>\n",
       "    </tr>\n",
       "    <tr>\n",
       "      <th>7</th>\n",
       "      <td>Povel_Ramel</td>\n",
       "      <td>male</td>\n",
       "      <td>[vaudeville]</td>\n",
       "      <td>1</td>\n",
       "    </tr>\n",
       "  </tbody>\n",
       "</table>\n",
       "</div>"
      ],
      "text/plain": [
       "                artist gender  \\\n",
       "1  Christopher_Willits   male   \n",
       "3           Shawn_Hook   male   \n",
       "4          Steve_Poltz   male   \n",
       "6         Marvin_Isley   male   \n",
       "7          Povel_Ramel   male   \n",
       "\n",
       "                                           genrelist  genrelist_length  \n",
       "1  [electronic, glitch, ambient, electro_acoustic...                 5  \n",
       "3                            [pop, electronic, rock]                 3  \n",
       "4                  [pop_rock, indie_rock, folk_rock]                 3  \n",
       "6                   [r_and_b, funk, soul, funk_rock]                 4  \n",
       "7                                       [vaudeville]                 1  "
      ]
     },
     "execution_count": 4,
     "metadata": {},
     "output_type": "execute_result"
    }
   ],
   "source": [
    "data.head()"
   ]
  },
  {
   "cell_type": "markdown",
   "metadata": {},
   "source": [
    "### Export the cleaned data set:"
   ]
  },
  {
   "cell_type": "code",
   "execution_count": 5,
   "metadata": {},
   "outputs": [],
   "source": [
    "# today = datetime.today()\n",
    "# now = today.strftime('%Y-%m-%d-%H-%M')"
   ]
  },
  {
   "cell_type": "code",
   "execution_count": 6,
   "metadata": {},
   "outputs": [],
   "source": [
    "# data.to_csv('/Users/Daniel/Code/Genre/data/genre_lists/data_ready_for_model/wiki-kaggle_genres_gender_cleaned_{}.csv'.format(now))"
   ]
  },
  {
   "cell_type": "markdown",
   "metadata": {},
   "source": [
    "### Extract the list of unique genres:"
   ]
  },
  {
   "cell_type": "code",
   "execution_count": 7,
   "metadata": {},
   "outputs": [],
   "source": [
    "genre_list = data.genrelist.values.tolist()\n",
    "genre_list = [x for y in genre_list for x in y]\n",
    "genre_list = list(set(genre_list))\n",
    "genre_list = sorted(genre_list)"
   ]
  },
  {
   "cell_type": "markdown",
   "metadata": {},
   "source": [
    "### Export the list of genres:"
   ]
  },
  {
   "cell_type": "code",
   "execution_count": 8,
   "metadata": {},
   "outputs": [],
   "source": [
    "# genre_list_df = pd.DataFrame({'genre_list':genre_list})\n",
    "# genre_list_df.to_csv('/Users/Daniel/Code/Genre/data/genre_lists/data_ready_for_model/genre_list_{}.csv'.format(now))"
   ]
  },
  {
   "cell_type": "markdown",
   "metadata": {},
   "source": [
    "### Create the train test split\n",
    "\n",
    "This train-test split will be used for ML modeling. "
   ]
  },
  {
   "cell_type": "code",
   "execution_count": 9,
   "metadata": {},
   "outputs": [],
   "source": [
    "data = pd.read_csv('/Users/Daniel/Code/Genre/data/genre_lists/data_ready_for_model/wiki-kaggle_genres_gender_cleaned_2020-07-07-09-58.csv', index_col = ['artist'])\n",
    "data.drop(['Unnamed: 0'], axis = 1,  inplace = True)\n",
    "\n",
    "X = data[['genrelist', 'genrelist_length']]\n",
    "y = data.gender\n",
    "\n",
    "X_train, X_test, y_train, y_test = train_test_split(X, y, test_size = 0.2)\n",
    "\n",
    "# # export for further use\n",
    "# X_train.to_csv('/Users/Daniel/Code/Genre/data/genre_lists/data_ready_for_model/wiki-kaggle_X_train_{}.csv'.format(now))\n",
    "# y_train.to_csv('/Users/Daniel/Code/Genre/data/genre_lists/data_ready_for_model/wiki-kaggle_y_train_{}.csv'.format(now))\n",
    "\n",
    "# X_test.to_csv('/Users/Daniel/Code/Genre/data/genre_lists/data_ready_for_model/wiki-kaggle_X_test_{}.csv'.format(now))\n",
    "# y_test.to_csv('/Users/Daniel/Code/Genre/data/genre_lists/data_ready_for_model/wiki-kaggle_y_test_{}.csv'.format(now))"
   ]
  },
  {
   "cell_type": "markdown",
   "metadata": {},
   "source": [
    "## The basic shape of the data\n",
    "\n",
    "Although in this notebook the DataFrame 'data' is already loaded, we reimport the data using the LoadDataClass as this is the method used in other notebooks and in the scripts. It also enables more functionality."
   ]
  },
  {
   "cell_type": "markdown",
   "metadata": {},
   "source": [
    "### Load the data"
   ]
  },
  {
   "cell_type": "code",
   "execution_count": 10,
   "metadata": {},
   "outputs": [],
   "source": [
    "from src.genre_scripts.genre_data_loader import LoadGenreData"
   ]
  },
  {
   "cell_type": "code",
   "execution_count": 11,
   "metadata": {},
   "outputs": [],
   "source": [
    "# get currrent date for latest version of data set\n",
    "# %store -r now # not needed in this nb where 'now' is defined\n",
    "\n",
    "X_path_train = '/Users/Daniel/Code/Genre/data/genre_lists/data_ready_for_model/wiki-kaggle_X_train_{}.csv'.format(now)\n",
    "y_path_train = '/Users/Daniel/Code/Genre/data/genre_lists/data_ready_for_model/wiki-kaggle_y_train_{}.csv'.format(now)\n",
    "X_path_test = '/Users/Daniel/Code/Genre/data/genre_lists/data_ready_for_model/wiki-kaggle_X_test_{}.csv'.format(now)\n",
    "y_path_test = '/Users/Daniel/Code/Genre/data/genre_lists/data_ready_for_model/wiki-kaggle_y_test_{}.csv'.format(now)"
   ]
  },
  {
   "cell_type": "code",
   "execution_count": 12,
   "metadata": {},
   "outputs": [],
   "source": [
    "# call data loader script\n",
    "genre_data = LoadGenreData(now, X_path_train = X_path_train, y_path_train = y_path_train, \n",
    "                                             X_path_test = X_path_test, y_path_test = y_path_test)\n",
    "\n",
    "data = genre_data.data\n",
    "genre_list = genre_data.get_list_of_genres()"
   ]
  },
  {
   "cell_type": "markdown",
   "metadata": {},
   "source": [
    "### Basic shape of the data"
   ]
  },
  {
   "cell_type": "code",
   "execution_count": 13,
   "metadata": {},
   "outputs": [
    {
     "name": "stdout",
     "output_type": "stream",
     "text": [
      "There are 15470 artists with genre and binary-gender labels.\n",
      "31.4% are female artists.\n",
      "68.6% are male artists.\n",
      "There are 1491 unique genre labels.\n"
     ]
    }
   ],
   "source": [
    "p_fem = genre_data.get_percent_female()\n",
    "p_mal = genre_data.get_percent_male()\n",
    "print(f'There are {data.shape[0]} artists with genre and binary-gender labels.')\n",
    "print(f'{round(100*p_fem,1)}% are female artists.')\n",
    "print(f'{round(100*p_mal,1)}% are male artists.')\n",
    "print(f'There are {len(genre_list)} unique genre labels.')"
   ]
  },
  {
   "cell_type": "code",
   "execution_count": 14,
   "metadata": {},
   "outputs": [
    {
     "name": "stdout",
     "output_type": "stream",
     "text": [
      "Mean number of genre labels: 2.71.\n",
      "STD of the number of genre labels: 1.8.\n",
      "Max number of genre labels: 73.\n"
     ]
    }
   ],
   "source": [
    "a,b,c = data.genrelist_length.mean(), data.genrelist_length.std(), data.genrelist_length.max()\n",
    "print(f'Mean number of genre labels: {round(a,2)}.')\n",
    "print(f'STD of the number of genre labels: {round(b,2)}.')\n",
    "print(f'Max number of genre labels: {c}.')"
   ]
  },
  {
   "cell_type": "markdown",
   "metadata": {},
   "source": [
    "### Take a look at the most frequent genres:"
   ]
  },
  {
   "cell_type": "code",
   "execution_count": 15,
   "metadata": {},
   "outputs": [],
   "source": [
    "# import a UDF to create a DataFrame with the frequencies of genres\n",
    "from src.genre_scripts.genre_frequency_by_gender import frequency_by_gender"
   ]
  },
  {
   "cell_type": "code",
   "execution_count": 16,
   "metadata": {},
   "outputs": [],
   "source": [
    "genre_frequencies = frequency_by_gender(genre_data.get_sparse_X_vector(), data, genre_data.get_dict_id_to_genre())\n",
    "# sort by frequences descending\n",
    "genre_frequencies.sort_values(['frequency'], ascending = False, inplace = True)\n",
    "genre_frequencies.set_index('genre', inplace = True)"
   ]
  },
  {
   "cell_type": "code",
   "execution_count": 17,
   "metadata": {},
   "outputs": [
    {
     "data": {
      "text/html": [
       "<div>\n",
       "<style scoped>\n",
       "    .dataframe tbody tr th:only-of-type {\n",
       "        vertical-align: middle;\n",
       "    }\n",
       "\n",
       "    .dataframe tbody tr th {\n",
       "        vertical-align: top;\n",
       "    }\n",
       "\n",
       "    .dataframe thead th {\n",
       "        text-align: right;\n",
       "    }\n",
       "</style>\n",
       "<table border=\"1\" class=\"dataframe\">\n",
       "  <thead>\n",
       "    <tr style=\"text-align: right;\">\n",
       "      <th></th>\n",
       "      <th>frequency</th>\n",
       "      <th>female</th>\n",
       "      <th>male</th>\n",
       "    </tr>\n",
       "    <tr>\n",
       "      <th>genre</th>\n",
       "      <th></th>\n",
       "      <th></th>\n",
       "      <th></th>\n",
       "    </tr>\n",
       "  </thead>\n",
       "  <tbody>\n",
       "    <tr>\n",
       "      <th>pop</th>\n",
       "      <td>3279</td>\n",
       "      <td>1669</td>\n",
       "      <td>1610</td>\n",
       "    </tr>\n",
       "    <tr>\n",
       "      <th>rock</th>\n",
       "      <td>2208</td>\n",
       "      <td>461</td>\n",
       "      <td>1747</td>\n",
       "    </tr>\n",
       "    <tr>\n",
       "      <th>country</th>\n",
       "      <td>2026</td>\n",
       "      <td>634</td>\n",
       "      <td>1392</td>\n",
       "    </tr>\n",
       "    <tr>\n",
       "      <th>r_and_b</th>\n",
       "      <td>1926</td>\n",
       "      <td>940</td>\n",
       "      <td>986</td>\n",
       "    </tr>\n",
       "    <tr>\n",
       "      <th>hip_hop</th>\n",
       "      <td>1395</td>\n",
       "      <td>248</td>\n",
       "      <td>1147</td>\n",
       "    </tr>\n",
       "    <tr>\n",
       "      <th>soul</th>\n",
       "      <td>1304</td>\n",
       "      <td>676</td>\n",
       "      <td>628</td>\n",
       "    </tr>\n",
       "    <tr>\n",
       "      <th>folk</th>\n",
       "      <td>1283</td>\n",
       "      <td>530</td>\n",
       "      <td>753</td>\n",
       "    </tr>\n",
       "    <tr>\n",
       "      <th>jazz</th>\n",
       "      <td>1173</td>\n",
       "      <td>489</td>\n",
       "      <td>684</td>\n",
       "    </tr>\n",
       "    <tr>\n",
       "      <th>alternative_rock</th>\n",
       "      <td>1151</td>\n",
       "      <td>242</td>\n",
       "      <td>909</td>\n",
       "    </tr>\n",
       "    <tr>\n",
       "      <th>blues</th>\n",
       "      <td>1067</td>\n",
       "      <td>245</td>\n",
       "      <td>822</td>\n",
       "    </tr>\n",
       "  </tbody>\n",
       "</table>\n",
       "</div>"
      ],
      "text/plain": [
       "                  frequency  female  male\n",
       "genre                                    \n",
       "pop                    3279    1669  1610\n",
       "rock                   2208     461  1747\n",
       "country                2026     634  1392\n",
       "r_and_b                1926     940   986\n",
       "hip_hop                1395     248  1147\n",
       "soul                   1304     676   628\n",
       "folk                   1283     530   753\n",
       "jazz                   1173     489   684\n",
       "alternative_rock       1151     242   909\n",
       "blues                  1067     245   822"
      ]
     },
     "execution_count": 17,
     "metadata": {},
     "output_type": "execute_result"
    }
   ],
   "source": [
    "genre_frequencies.head(10)"
   ]
  },
  {
   "cell_type": "markdown",
   "metadata": {},
   "source": [
    "## Gender bias in the length of genre lists of artists"
   ]
  },
  {
   "cell_type": "markdown",
   "metadata": {},
   "source": [
    "_How does the number of genres assigned to an artist depend on gender?_ In this section we'll see that male artists are over represented, and female artists under represented, among all artists with 5 or more genres. We aggregate the statistics on male and female artists for each bin. The counts for 12 or more genres are grouped together so that the $\\chi^2$-test can be applied (using the requirement that the expected count in each cell of the contingency table should be at least 50). Furthermore, there are no female artists with 12 or more genres in the data set, a fact which is of interest in itself in the exploration of gender bias."
   ]
  },
  {
   "cell_type": "code",
   "execution_count": 18,
   "metadata": {},
   "outputs": [
    {
     "data": {
      "text/html": [
       "<div>\n",
       "<style scoped>\n",
       "    .dataframe tbody tr th:only-of-type {\n",
       "        vertical-align: middle;\n",
       "    }\n",
       "\n",
       "    .dataframe tbody tr th {\n",
       "        vertical-align: top;\n",
       "    }\n",
       "\n",
       "    .dataframe thead th {\n",
       "        text-align: right;\n",
       "    }\n",
       "</style>\n",
       "<table border=\"1\" class=\"dataframe\">\n",
       "  <thead>\n",
       "    <tr style=\"text-align: right;\">\n",
       "      <th></th>\n",
       "      <th>female artist count</th>\n",
       "      <th>male artist count</th>\n",
       "      <th>total</th>\n",
       "      <th>female artist expected</th>\n",
       "      <th>male artist expected</th>\n",
       "      <th>female bias</th>\n",
       "      <th>male bias</th>\n",
       "    </tr>\n",
       "    <tr>\n",
       "      <th>genre list length</th>\n",
       "      <th></th>\n",
       "      <th></th>\n",
       "      <th></th>\n",
       "      <th></th>\n",
       "      <th></th>\n",
       "      <th></th>\n",
       "      <th></th>\n",
       "    </tr>\n",
       "  </thead>\n",
       "  <tbody>\n",
       "    <tr>\n",
       "      <th>1</th>\n",
       "      <td>1306</td>\n",
       "      <td>3149</td>\n",
       "      <td>4455</td>\n",
       "      <td>1398.127020</td>\n",
       "      <td>3056.872980</td>\n",
       "      <td>0.934107</td>\n",
       "      <td>1.030138</td>\n",
       "    </tr>\n",
       "    <tr>\n",
       "      <th>2</th>\n",
       "      <td>1299</td>\n",
       "      <td>2521</td>\n",
       "      <td>3820</td>\n",
       "      <td>1198.842922</td>\n",
       "      <td>2621.157078</td>\n",
       "      <td>1.083545</td>\n",
       "      <td>0.961789</td>\n",
       "    </tr>\n",
       "    <tr>\n",
       "      <th>3</th>\n",
       "      <td>1072</td>\n",
       "      <td>2043</td>\n",
       "      <td>3115</td>\n",
       "      <td>977.590498</td>\n",
       "      <td>2137.409502</td>\n",
       "      <td>1.096574</td>\n",
       "      <td>0.955830</td>\n",
       "    </tr>\n",
       "    <tr>\n",
       "      <th>4</th>\n",
       "      <td>629</td>\n",
       "      <td>1367</td>\n",
       "      <td>1996</td>\n",
       "      <td>626.411118</td>\n",
       "      <td>1369.588882</td>\n",
       "      <td>1.004133</td>\n",
       "      <td>0.998110</td>\n",
       "    </tr>\n",
       "    <tr>\n",
       "      <th>5</th>\n",
       "      <td>305</td>\n",
       "      <td>755</td>\n",
       "      <td>1060</td>\n",
       "      <td>332.663219</td>\n",
       "      <td>727.336781</td>\n",
       "      <td>0.916843</td>\n",
       "      <td>1.038034</td>\n",
       "    </tr>\n",
       "    <tr>\n",
       "      <th>6</th>\n",
       "      <td>155</td>\n",
       "      <td>410</td>\n",
       "      <td>565</td>\n",
       "      <td>177.315772</td>\n",
       "      <td>387.684228</td>\n",
       "      <td>0.874147</td>\n",
       "      <td>1.057562</td>\n",
       "    </tr>\n",
       "    <tr>\n",
       "      <th>7</th>\n",
       "      <td>49</td>\n",
       "      <td>189</td>\n",
       "      <td>238</td>\n",
       "      <td>74.692308</td>\n",
       "      <td>163.307692</td>\n",
       "      <td>0.656025</td>\n",
       "      <td>1.157325</td>\n",
       "    </tr>\n",
       "    <tr>\n",
       "      <th>8</th>\n",
       "      <td>20</td>\n",
       "      <td>99</td>\n",
       "      <td>119</td>\n",
       "      <td>37.346154</td>\n",
       "      <td>81.653846</td>\n",
       "      <td>0.535530</td>\n",
       "      <td>1.212435</td>\n",
       "    </tr>\n",
       "    <tr>\n",
       "      <th>9</th>\n",
       "      <td>10</td>\n",
       "      <td>39</td>\n",
       "      <td>49</td>\n",
       "      <td>15.377828</td>\n",
       "      <td>33.622172</td>\n",
       "      <td>0.650287</td>\n",
       "      <td>1.159949</td>\n",
       "    </tr>\n",
       "    <tr>\n",
       "      <th>10</th>\n",
       "      <td>3</td>\n",
       "      <td>18</td>\n",
       "      <td>21</td>\n",
       "      <td>6.590498</td>\n",
       "      <td>14.409502</td>\n",
       "      <td>0.455201</td>\n",
       "      <td>1.249176</td>\n",
       "    </tr>\n",
       "    <tr>\n",
       "      <th>11</th>\n",
       "      <td>7</td>\n",
       "      <td>6</td>\n",
       "      <td>13</td>\n",
       "      <td>4.079832</td>\n",
       "      <td>8.920168</td>\n",
       "      <td>1.715757</td>\n",
       "      <td>0.672633</td>\n",
       "    </tr>\n",
       "    <tr>\n",
       "      <th>12+</th>\n",
       "      <td>0</td>\n",
       "      <td>19</td>\n",
       "      <td>19</td>\n",
       "      <td>5.962831</td>\n",
       "      <td>13.037169</td>\n",
       "      <td>0.000000</td>\n",
       "      <td>1.457372</td>\n",
       "    </tr>\n",
       "  </tbody>\n",
       "</table>\n",
       "</div>"
      ],
      "text/plain": [
       "                   female artist count  male artist count  total  \\\n",
       "genre list length                                                  \n",
       "1                                 1306               3149   4455   \n",
       "2                                 1299               2521   3820   \n",
       "3                                 1072               2043   3115   \n",
       "4                                  629               1367   1996   \n",
       "5                                  305                755   1060   \n",
       "6                                  155                410    565   \n",
       "7                                   49                189    238   \n",
       "8                                   20                 99    119   \n",
       "9                                   10                 39     49   \n",
       "10                                   3                 18     21   \n",
       "11                                   7                  6     13   \n",
       "12+                                  0                 19     19   \n",
       "\n",
       "                   female artist expected  male artist expected  female bias  \\\n",
       "genre list length                                                              \n",
       "1                             1398.127020           3056.872980     0.934107   \n",
       "2                             1198.842922           2621.157078     1.083545   \n",
       "3                              977.590498           2137.409502     1.096574   \n",
       "4                              626.411118           1369.588882     1.004133   \n",
       "5                              332.663219            727.336781     0.916843   \n",
       "6                              177.315772            387.684228     0.874147   \n",
       "7                               74.692308            163.307692     0.656025   \n",
       "8                               37.346154             81.653846     0.535530   \n",
       "9                               15.377828             33.622172     0.650287   \n",
       "10                               6.590498             14.409502     0.455201   \n",
       "11                               4.079832              8.920168     1.715757   \n",
       "12+                              5.962831             13.037169     0.000000   \n",
       "\n",
       "                   male bias  \n",
       "genre list length             \n",
       "1                   1.030138  \n",
       "2                   0.961789  \n",
       "3                   0.955830  \n",
       "4                   0.998110  \n",
       "5                   1.038034  \n",
       "6                   1.057562  \n",
       "7                   1.157325  \n",
       "8                   1.212435  \n",
       "9                   1.159949  \n",
       "10                  1.249176  \n",
       "11                  0.672633  \n",
       "12+                 1.457372  "
      ]
     },
     "execution_count": 18,
     "metadata": {},
     "output_type": "execute_result"
    }
   ],
   "source": [
    "from src.genre_scripts.genre_list_length_bias import generate_bias_plots, p_value_chi_sq, bias_12_bins\n",
    "lcbg_12_bin = bias_12_bins(data[['genrelist_length','gender','genrelist']], p_fem, p_mal)\n",
    "lcbg_12_bin"
   ]
  },
  {
   "cell_type": "markdown",
   "metadata": {},
   "source": [
    "## 12 Bins"
   ]
  },
  {
   "cell_type": "markdown",
   "metadata": {},
   "source": [
    "Using a $\\chi^2$-test we calculate the $p$-value for the observed counts vs. the expected frequencies."
   ]
  },
  {
   "cell_type": "code",
   "execution_count": null,
   "metadata": {},
   "outputs": [],
   "source": [
    "p_value = p_value_chi_sq(lcbg_12_bin)\n",
    "f\"The p-value of {round(p_value,13)}, much smaller than 1%, shows that this empirical distribution of male and \\\n",
    "female genre list lengths is highly improbable. We conclude that there is a correlation between gender and genre \\\n",
    "list length.\""
   ]
  },
  {
   "cell_type": "markdown",
   "metadata": {},
   "source": [
    "To visualize the bias, we claculate the following ratios. For each bin (either an integer or a range of integers), calculate\n",
    "$$\\frac{\\text{actual # of male artists in bin}}{\\text{expected # of male artists in bin}}$$\n",
    "where the expected number of male artists in a bin is ${\\% \\text{male in total sample} \\cdot \\text{total in bin}}$. The same ratio is calculated for female artists. If the number of genres and gender did not correlate, we would expect the ratios to be close to one. \n",
    "\n",
    "We plot the values:"
   ]
  },
  {
   "cell_type": "code",
   "execution_count": 20,
   "metadata": {},
   "outputs": [
    {
     "ename": "NameError",
     "evalue": "name 'bias_11_bins' is not defined",
     "output_type": "error",
     "traceback": [
      "\u001b[0;31m---------------------------------------------------------------------------\u001b[0m",
      "\u001b[0;31mNameError\u001b[0m                                 Traceback (most recent call last)",
      "\u001b[0;32m<ipython-input-20-b23ad7f4fb5c>\u001b[0m in \u001b[0;36m<module>\u001b[0;34m\u001b[0m\n\u001b[0;32m----> 1\u001b[0;31m \u001b[0mfig_12_bins\u001b[0m\u001b[0;34m,\u001b[0m \u001b[0mfig_paths\u001b[0m\u001b[0;34m,\u001b[0m \u001b[0mfig_means\u001b[0m\u001b[0;34m,\u001b[0m \u001b[0mfig_means_select\u001b[0m \u001b[0;34m=\u001b[0m \u001b[0mgenerate_bias_plots\u001b[0m\u001b[0;34m(\u001b[0m\u001b[0;34m)\u001b[0m\u001b[0;34m\u001b[0m\u001b[0;34m\u001b[0m\u001b[0m\n\u001b[0m",
      "\u001b[0;32m~/Code/Genre/src/genre_scripts/genre_list_length_bias.py\u001b[0m in \u001b[0;36mgenerate_bias_plots\u001b[0;34m()\u001b[0m\n\u001b[1;32m     72\u001b[0m \u001b[0;34m\u001b[0m\u001b[0m\n\u001b[1;32m     73\u001b[0m     \u001b[0;31m# generate figure with bias_11_bins\u001b[0m\u001b[0;34m\u001b[0m\u001b[0;34m\u001b[0m\u001b[0;34m\u001b[0m\u001b[0m\n\u001b[0;32m---> 74\u001b[0;31m     \u001b[0mlcbg_11_bins\u001b[0m \u001b[0;34m=\u001b[0m \u001b[0mbias_11_bins\u001b[0m\u001b[0;34m(\u001b[0m\u001b[0mdata\u001b[0m\u001b[0;34m,\u001b[0m \u001b[0mpercent_fem\u001b[0m\u001b[0;34m,\u001b[0m \u001b[0mpercent_mal\u001b[0m\u001b[0;34m)\u001b[0m\u001b[0;34m\u001b[0m\u001b[0;34m\u001b[0m\u001b[0m\n\u001b[0m\u001b[1;32m     75\u001b[0m     \u001b[0mfig_11_bins\u001b[0m \u001b[0;34m=\u001b[0m \u001b[0mplot_bias_11_bins\u001b[0m\u001b[0;34m(\u001b[0m\u001b[0mlcbg_11_bins\u001b[0m\u001b[0;34m)\u001b[0m\u001b[0;34m\u001b[0m\u001b[0;34m\u001b[0m\u001b[0m\n\u001b[1;32m     76\u001b[0m \u001b[0;34m\u001b[0m\u001b[0m\n",
      "\u001b[0;31mNameError\u001b[0m: name 'bias_11_bins' is not defined"
     ]
    }
   ],
   "source": [
    "fig_12_bins, fig_paths, fig_means, fig_means_select = generate_bias_plots()"
   ]
  },
  {
   "cell_type": "code",
   "execution_count": null,
   "metadata": {
    "scrolled": false
   },
   "outputs": [],
   "source": [
    "fig_12_bins"
   ]
  },
  {
   "cell_type": "markdown",
   "metadata": {},
   "source": [
    "### Two Bins"
   ]
  },
  {
   "cell_type": "markdown",
   "metadata": {},
   "source": [
    "A more succint but less detailed picture arises by aggregating into just two bins. Split the genre lists into two bins: those with length $\\leq 5$ and those with length $\\geq 6$. For each bin, calculate\n",
    "\n",
    "$$\\frac{\\text{actual # of male artists in bin}}{\\text{expected # of male artists in bin}}$$\n",
    "\n",
    "where the expected number of male artists in a bin is ${(\\% \\text{male in total sample)} \\cdot \\text{(total in bin)}}$. Do the same for female artists. This gives another measure of bias. \n",
    "\n",
    "We find that for genre list lengths $\\leq 5$, the ratio is close to $1$ for male and female artists. However, for list lengths $\\geq 6$, male artists are over represented and female artists are under represented.\n"
   ]
  },
  {
   "cell_type": "markdown",
   "metadata": {},
   "source": [
    "The figure below shows the bias for females and males in the two categories defined above.\n",
    "\n",
    "The first measures gender bias for artists with $\\leq 5$ genres for a) the mean over 100 random subsamples of size 4648 and b) the whole data set. In this case, there is extremely little bias.\n",
    "\n",
    "The second measures gender bias for artists with $\\geq 6$ genres for a) the mean over 100 random subsamples of size 4648 and b) the whole data set. In this case, there is significant bias: .8 for females (under represented) and 1.1 for males (over represented). The mean bias over 100 random subsets of size 4648 (~30% of the full sample) is close to that calculated over the full sample. This suggests that if we were to collect a larger sample the level of bias would remain stable. \n",
    "\n",
    "Another measure of the statistical significance of the gender bias is through the p-value. Given that for the data set as a whole there are 31.4% female artists, we would expect that same percentage among artists with $\\geq 6$ genres."
   ]
  },
  {
   "cell_type": "code",
   "execution_count": null,
   "metadata": {},
   "outputs": [],
   "source": [
    "fig_means_select"
   ]
  },
  {
   "cell_type": "markdown",
   "metadata": {},
   "source": [
    "The next figure looks at how the bias varies with the size of the subsample in more depth. 100 random nested subsamples (whose sizes are labeled on the x-axis) were generated and the mean and standard deviation of the bias were calculated for each size. We see that the mean bias stabalizes before the subset is even half the size of the full data set. "
   ]
  },
  {
   "cell_type": "code",
   "execution_count": null,
   "metadata": {},
   "outputs": [],
   "source": [
    "fig_means"
   ]
  },
  {
   "cell_type": "markdown",
   "metadata": {},
   "source": [
    "The next figure plots the bias for each of the 100 nested subsets: each path shows the bias for a particular sequence of nested subsets. The significance of the geometry of the paths is 1) that the bias with $\\geq 6$ labels is safely away from 1.0 even when less than half of the data is used and 2) that the paths oscillate around a line of zero slope. If they oscillated around a curve that had non-zero slope at the full data set (right hand side of the plot), that would have suggested that the data had not captured the full distribution. The convergence of all paths to the same point is of no significance: at size 15470 all paths use the full data set."
   ]
  },
  {
   "cell_type": "code",
   "execution_count": null,
   "metadata": {},
   "outputs": [],
   "source": [
    "fig_paths"
   ]
  },
  {
   "cell_type": "markdown",
   "metadata": {},
   "source": [
    "## Limits of predictive modeling"
   ]
  },
  {
   "cell_type": "markdown",
   "metadata": {},
   "source": [
    "Given any input, a model that always predicts male will be correct 69% of the time as that is the percentage of males in the sample. A model using a majority vote for each genre-set that appears has an in-sample accuracy of 86%. This is an upper bound for the full in-sample accuracy of any model. On subsets, such as a validation or test set, the upper bound is higher.\n",
    "\n",
    "![Upper Bound to Accuracy](../../visualizations/upperbound_curves.png)\n",
    "\n",
    "When evaluating the accuracy of any model, its accuracy should be compared to 86%. If a model scores P%, then P/86 is a measure of how close the model is to the optimal model."
   ]
  },
  {
   "cell_type": "markdown",
   "metadata": {},
   "source": [
    "Calculate the mean upper bound on subsamples of size 2000 over 100 different subsamples:"
   ]
  },
  {
   "cell_type": "code",
   "execution_count": null,
   "metadata": {},
   "outputs": [],
   "source": [
    "from src.genre_scripts.genre_upperbound import UpperBound\n",
    "uppers_2000 = []\n",
    "data = genre_data.as_sets() # create a column in data with the genres for each artists as sets\n",
    "for i in range(100):\n",
    "    subsample = data.sample(2000)\n",
    "    set_counts, error = UpperBound(subsample)\n",
    "    uppers_2000.append(1 - error)\n",
    "uppers_2000 = np.array(uppers_2000)\n",
    "print(f'The mean upperbound is {np.mean(uppers_2000)}.')"
   ]
  },
  {
   "cell_type": "markdown",
   "metadata": {},
   "source": [
    "### Summary\n",
    "\n"
   ]
  },
  {
   "cell_type": "markdown",
   "metadata": {},
   "source": [
    "We have shown that in this data set of 15470 music artists, there is a significant correlation between the number of genres assigned to an artist and their gender. In particular, male artists are more likely than female artists to have 6 or more genre labels assigned to them.\n",
    "\n",
    "We also show that there is a nontrivial upper bound for the accuracy of any model that tries to predict gender based on the genre labels of an artist. On the full sample the bound is 86%; on subsamples of size 2000 the expected value of the upper bound is 90%."
   ]
  }
 ],
 "metadata": {
  "kernelspec": {
   "display_name": "genre_env",
   "language": "python",
   "name": "genre_env"
  },
  "language_info": {
   "codemirror_mode": {
    "name": "ipython",
    "version": 3
   },
   "file_extension": ".py",
   "mimetype": "text/x-python",
   "name": "python",
   "nbconvert_exporter": "python",
   "pygments_lexer": "ipython3",
   "version": "3.7.3"
  }
 },
 "nbformat": 4,
 "nbformat_minor": 4
}
