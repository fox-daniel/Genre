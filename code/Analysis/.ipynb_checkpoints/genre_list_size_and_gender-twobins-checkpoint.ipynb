{
 "cells": [
  {
   "cell_type": "markdown",
   "metadata": {},
   "source": [
    "This notebook examines how genre list length correlates with gender.\n",
    "\n",
    "The model that looks to be statistically significant splits the data into two bins: length $\\leq 5$ and length $\\geq 6$. For each bin, calculate\n",
    "$$\\frac{\\text{actual # of male artists in bin}}{\\text{expected # of male artists in bin}}$$\n",
    "where the expected number of male artists in a bin is ${\\% \\text{male in total sample} \\cdot \\text{total in bin}}$. For the first bin, with the number of genre labels $\\leq 5$, the ratio is $1$ within expected error rates. However, for the second bin, male artists are over represented and female artists are under represented.\n"
   ]
  },
  {
   "cell_type": "code",
   "execution_count": 1,
   "metadata": {
    "scrolled": true
   },
   "outputs": [],
   "source": [
    "# import numpy as np\n",
    "# import pandas as pd\n",
    "\n",
    "# seed = 23\n",
    "\n",
    "# import matplotlib.pyplot as plt\n",
    "# import seaborn as sns; sns.set()\n",
    "# %matplotlib inline\n",
    "# #%matplotlib notebook\n",
    "\n",
    "# from sklearn.model_selection import KFold\n",
    "\n",
    "# import re\n",
    "\n",
    "# from functools import partial\n",
    "\n",
    "# import plotly.graph_objects as go\n",
    "\n",
    "# from nested_subsets import NestedSubsets"
   ]
  },
  {
   "cell_type": "markdown",
   "metadata": {},
   "source": [
    "Import the cleaned data:"
   ]
  },
  {
   "cell_type": "code",
   "execution_count": 2,
   "metadata": {
    "scrolled": true
   },
   "outputs": [],
   "source": [
    "# %store -r now\n",
    "\n",
    "# X_train = pd.read_csv('/Users/Daniel/Code/Genre/data/genre_lists/data_ready_for_model/wiki-kaggle_X_train_{}.csv'.format(now), index_col = ['artist'])\n",
    "# y_train = pd.read_csv('/Users/Daniel/Code/Genre/data/genre_lists/data_ready_for_model/wiki-kaggle_y_train_{}.csv'.format(now), index_col = ['artist'])\n",
    "\n",
    "# data = y_train.join( [X_train], how = 'outer')"
   ]
  },
  {
   "cell_type": "markdown",
   "metadata": {},
   "source": [
    "### Genre Labels\n",
    "\n",
    "Each value of the genre column is a _string_ of comma separated genre labels. We want to convert it to a _list_ of strings."
   ]
  },
  {
   "cell_type": "code",
   "execution_count": 3,
   "metadata": {
    "scrolled": true
   },
   "outputs": [],
   "source": [
    "# \"\"\"This function takes in a string of the form\n",
    "# appearing in the genrelist of the dataframe.\n",
    "# It strips the square brackets and extra quotes and\n",
    "# returns a list of strings where each string is a genre label.\"\"\"\n",
    "# def genrelist(string):\n",
    "#     string = string.strip(\"[\").strip(\"]\").replace(\"'\",\"\")\n",
    "#     L = [s for s in string.split(',')]\n",
    "#     L_new = []\n",
    "#     for x in L:\n",
    "#         L_new.append(x.replace(\" \",\"_\").lstrip(\"_\").rstrip(\"_\"))\n",
    "#     while (str(\"\") in L_new):\n",
    "#         L_new.remove(\"\")\n",
    "#     return L_new"
   ]
  },
  {
   "cell_type": "markdown",
   "metadata": {},
   "source": [
    "Now we apply it to the whole column and put the lists in a new column:"
   ]
  },
  {
   "cell_type": "code",
   "execution_count": 4,
   "metadata": {
    "scrolled": true
   },
   "outputs": [],
   "source": [
    "# data['genrelist']= data['genrelist'].apply(genrelist)"
   ]
  },
  {
   "cell_type": "code",
   "execution_count": 1,
   "metadata": {},
   "outputs": [],
   "source": [
    "import genre_data_loader\n",
    "from nested_subsets import NestedSubsets\n",
    "\n",
    "import numpy as np\n",
    "import pandas as pd\n",
    "\n",
    "import matplotlib.pyplot as plt\n",
    "import seaborn as sns; sns.set()"
   ]
  },
  {
   "cell_type": "code",
   "execution_count": 2,
   "metadata": {},
   "outputs": [],
   "source": [
    "# get currrent date for latest version of data set\n",
    "%store -r now\n",
    "\n",
    "X_path_train = '/Users/Daniel/Code/Genre/data/genre_lists/data_ready_for_model/wiki-kaggle_X_train_{}.csv'.format(now)\n",
    "y_path_train = '/Users/Daniel/Code/Genre/data/genre_lists/data_ready_for_model/wiki-kaggle_y_train_{}.csv'.format(now)\n",
    "X_path_test = '/Users/Daniel/Code/Genre/data/genre_lists/data_ready_for_model/wiki-kaggle_X_test_{}.csv'.format(now)\n",
    "y_path_test = '/Users/Daniel/Code/Genre/data/genre_lists/data_ready_for_model/wiki-kaggle_y_test_{}.csv'.format(now)"
   ]
  },
  {
   "cell_type": "code",
   "execution_count": 3,
   "metadata": {},
   "outputs": [],
   "source": [
    "# call data loader script\n",
    "genre_data = genre_data_loader.LoadGenreData(now, X_path_train = X_path_train, y_path_train = y_path_train, \n",
    "                                             X_path_test = X_path_test, y_path_test = y_path_test)"
   ]
  },
  {
   "cell_type": "code",
   "execution_count": 4,
   "metadata": {},
   "outputs": [],
   "source": [
    "# load data with genre sets\n",
    "data = genre_data.as_sets()\n",
    "# create list of all genres\n",
    "list_of_genres = genre_data.get_list_of_genres()"
   ]
  },
  {
   "cell_type": "markdown",
   "metadata": {},
   "source": [
    "### Import the labels from the whole data set:"
   ]
  },
  {
   "cell_type": "code",
   "execution_count": 5,
   "metadata": {},
   "outputs": [],
   "source": [
    "genrelist = genre_data.get_list_of_genres()"
   ]
  },
  {
   "cell_type": "markdown",
   "metadata": {},
   "source": [
    "Get percentages of male and female:"
   ]
  },
  {
   "cell_type": "code",
   "execution_count": 6,
   "metadata": {},
   "outputs": [],
   "source": [
    "percent_fem = genre_data.get_percent_female()\n",
    "percent_mal = genre_data.get_percent_male()"
   ]
  },
  {
   "cell_type": "code",
   "execution_count": 7,
   "metadata": {},
   "outputs": [
    {
     "data": {
      "text/plain": [
       "(0.3138332255979315, 0.6861667744020685)"
      ]
     },
     "execution_count": 7,
     "metadata": {},
     "output_type": "execute_result"
    }
   ],
   "source": [
    "percent_fem, percent_mal"
   ]
  },
  {
   "cell_type": "code",
   "execution_count": 8,
   "metadata": {
    "scrolled": true
   },
   "outputs": [
    {
     "name": "stdout",
     "output_type": "stream",
     "text": [
      "15470 total artists\n",
      "There are 1494 unique genre labels.\n",
      "4855 female artists, or 31%\n",
      "10615 male artists, or 69%\n"
     ]
    }
   ],
   "source": [
    "tot = data.shape[0]\n",
    "mal = genre_data.get_number_of_male()\n",
    "fem = genre_data.get_number_of_female()\n",
    "print('{} total artists'.format(tot))\n",
    "print('There are {} unique genre labels.'.format(len(genrelist)))\n",
    "print('{} female artists, or {:0.0f}%'.format(fem, 100*percent_fem))\n",
    "print('{} male artists, or {:0.0f}%'.format(mal, 100*percent_mal))"
   ]
  },
  {
   "cell_type": "markdown",
   "metadata": {},
   "source": [
    "## Calculate ratios of actual to expected for male and female using two bins for list lengths: <6 and >5 "
   ]
  },
  {
   "cell_type": "markdown",
   "metadata": {},
   "source": [
    "### This function creates a DF with the frequencies of the lengths of lists by gender for a df of the type of \"data\" above. It is used in the bin_cv_est function below."
   ]
  },
  {
   "cell_type": "code",
   "execution_count": 9,
   "metadata": {
    "scrolled": true
   },
   "outputs": [],
   "source": [
    "def create_length_counts_by_gender(df):\n",
    "    \"\"\"\n",
    "    Input: df = genre data for artists:\n",
    "        columns: 'genrelist_length','gender'\n",
    "        index: 'artist'\n",
    "    \n",
    "    Output: dataframe with counts by gender and total for each \n",
    "        length of genre list in the dataset\n",
    "    \n",
    "    Use: called by bin_bias to calculate gender bias in two bins,\n",
    "    small (<6) and large (>5) genre list lengths\n",
    "    \"\"\"\n",
    "    \n",
    "    df = df.copy(deep = True)\n",
    "    \n",
    "    # length counts by gender\n",
    "    df = df.groupby(['genrelist_length','gender']).count()\n",
    "    df.columns = ['artist_count']\n",
    "\n",
    "    df.reset_index(inplace = True)\n",
    "    df.set_index(['genrelist_length'], inplace = True)\n",
    "    df.index.name = 'genre list length'\n",
    "    df = df.pivot(columns = 'gender')\n",
    "    \n",
    "    #flatten index and replace with single strings\n",
    "    df.columns = df.columns.to_flat_index()\n",
    "    df.columns = [f'{name[1]} '+f'{name[0]}'.replace(\"_\",\" \") for name in df.columns]\n",
    "    df.fillna(value = 0, inplace = True)\n",
    "    #create total count\n",
    "    df['total'] = df[df.columns[0]]+df[df.columns[1]]\n",
    "    df = df.astype('int32')\n",
    "    \n",
    "    return df"
   ]
  },
  {
   "cell_type": "code",
   "execution_count": 10,
   "metadata": {
    "scrolled": true
   },
   "outputs": [],
   "source": [
    "lcbg = create_length_counts_by_gender(data)"
   ]
  },
  {
   "cell_type": "code",
   "execution_count": 11,
   "metadata": {},
   "outputs": [
    {
     "data": {
      "text/html": [
       "<div>\n",
       "<style scoped>\n",
       "    .dataframe tbody tr th:only-of-type {\n",
       "        vertical-align: middle;\n",
       "    }\n",
       "\n",
       "    .dataframe tbody tr th {\n",
       "        vertical-align: top;\n",
       "    }\n",
       "\n",
       "    .dataframe thead th {\n",
       "        text-align: right;\n",
       "    }\n",
       "</style>\n",
       "<table border=\"1\" class=\"dataframe\">\n",
       "  <thead>\n",
       "    <tr style=\"text-align: right;\">\n",
       "      <th></th>\n",
       "      <th>female artist count</th>\n",
       "      <th>male artist count</th>\n",
       "      <th>total</th>\n",
       "    </tr>\n",
       "    <tr>\n",
       "      <th>genre list length</th>\n",
       "      <th></th>\n",
       "      <th></th>\n",
       "      <th></th>\n",
       "    </tr>\n",
       "  </thead>\n",
       "  <tbody>\n",
       "    <tr>\n",
       "      <th>1</th>\n",
       "      <td>1306</td>\n",
       "      <td>3149</td>\n",
       "      <td>4455</td>\n",
       "    </tr>\n",
       "    <tr>\n",
       "      <th>2</th>\n",
       "      <td>1299</td>\n",
       "      <td>2521</td>\n",
       "      <td>3820</td>\n",
       "    </tr>\n",
       "    <tr>\n",
       "      <th>3</th>\n",
       "      <td>1072</td>\n",
       "      <td>2043</td>\n",
       "      <td>3115</td>\n",
       "    </tr>\n",
       "    <tr>\n",
       "      <th>4</th>\n",
       "      <td>629</td>\n",
       "      <td>1367</td>\n",
       "      <td>1996</td>\n",
       "    </tr>\n",
       "    <tr>\n",
       "      <th>5</th>\n",
       "      <td>305</td>\n",
       "      <td>755</td>\n",
       "      <td>1060</td>\n",
       "    </tr>\n",
       "    <tr>\n",
       "      <th>6</th>\n",
       "      <td>155</td>\n",
       "      <td>410</td>\n",
       "      <td>565</td>\n",
       "    </tr>\n",
       "    <tr>\n",
       "      <th>7</th>\n",
       "      <td>49</td>\n",
       "      <td>189</td>\n",
       "      <td>238</td>\n",
       "    </tr>\n",
       "    <tr>\n",
       "      <th>8</th>\n",
       "      <td>20</td>\n",
       "      <td>98</td>\n",
       "      <td>118</td>\n",
       "    </tr>\n",
       "    <tr>\n",
       "      <th>9</th>\n",
       "      <td>10</td>\n",
       "      <td>39</td>\n",
       "      <td>49</td>\n",
       "    </tr>\n",
       "    <tr>\n",
       "      <th>10</th>\n",
       "      <td>3</td>\n",
       "      <td>19</td>\n",
       "      <td>22</td>\n",
       "    </tr>\n",
       "    <tr>\n",
       "      <th>11</th>\n",
       "      <td>7</td>\n",
       "      <td>6</td>\n",
       "      <td>13</td>\n",
       "    </tr>\n",
       "    <tr>\n",
       "      <th>12</th>\n",
       "      <td>0</td>\n",
       "      <td>8</td>\n",
       "      <td>8</td>\n",
       "    </tr>\n",
       "    <tr>\n",
       "      <th>13</th>\n",
       "      <td>0</td>\n",
       "      <td>5</td>\n",
       "      <td>5</td>\n",
       "    </tr>\n",
       "    <tr>\n",
       "      <th>14</th>\n",
       "      <td>0</td>\n",
       "      <td>1</td>\n",
       "      <td>1</td>\n",
       "    </tr>\n",
       "    <tr>\n",
       "      <th>15</th>\n",
       "      <td>0</td>\n",
       "      <td>3</td>\n",
       "      <td>3</td>\n",
       "    </tr>\n",
       "    <tr>\n",
       "      <th>45</th>\n",
       "      <td>0</td>\n",
       "      <td>1</td>\n",
       "      <td>1</td>\n",
       "    </tr>\n",
       "    <tr>\n",
       "      <th>73</th>\n",
       "      <td>0</td>\n",
       "      <td>1</td>\n",
       "      <td>1</td>\n",
       "    </tr>\n",
       "  </tbody>\n",
       "</table>\n",
       "</div>"
      ],
      "text/plain": [
       "                   female artist count  male artist count  total\n",
       "genre list length                                               \n",
       "1                                 1306               3149   4455\n",
       "2                                 1299               2521   3820\n",
       "3                                 1072               2043   3115\n",
       "4                                  629               1367   1996\n",
       "5                                  305                755   1060\n",
       "6                                  155                410    565\n",
       "7                                   49                189    238\n",
       "8                                   20                 98    118\n",
       "9                                   10                 39     49\n",
       "10                                   3                 19     22\n",
       "11                                   7                  6     13\n",
       "12                                   0                  8      8\n",
       "13                                   0                  5      5\n",
       "14                                   0                  1      1\n",
       "15                                   0                  3      3\n",
       "45                                   0                  1      1\n",
       "73                                   0                  1      1"
      ]
     },
     "execution_count": 11,
     "metadata": {},
     "output_type": "execute_result"
    }
   ],
   "source": [
    "lcbg"
   ]
  },
  {
   "cell_type": "markdown",
   "metadata": {},
   "source": [
    "### The bin_est function estimates actual/expected ratios for male and female by genre list length by binning the data into < 6 and > 5 bins."
   ]
  },
  {
   "cell_type": "code",
   "execution_count": 12,
   "metadata": {},
   "outputs": [],
   "source": [
    "def bin_bias(df, percent_fem, percent_mal):\n",
    "    \"\"\"\n",
    "    Input: \n",
    "        df = genre data for artists:\n",
    "            columns: 'genrelist_length','gender'\n",
    "            index: 'artist';\n",
    "        percentage of female artists in dataset;\n",
    "        percentage of male artists in dataset\n",
    "    \n",
    "    Output: dataframe with gender biases for two bins:\n",
    "        small (<6) and large (>5) genre list lengths\n",
    "        \n",
    "    Use: used alone or in bias_est_ \n",
    "    \"\"\"\n",
    "    # create length counts by gender\n",
    "    lcbg = create_length_counts_by_gender(df)\n",
    "\n",
    "    # mark rows by their class (uses ordering; could be done with masking)\n",
    "    lcbg['classify'] = '1-5'\n",
    "    lcbg.loc[6:,'classify'] = '>5'\n",
    "    # calculate totals for each bin\n",
    "    twobins = lcbg.groupby(['classify']).agg('sum')\n",
    "    \n",
    "    # calculated columns: expected and ratios \n",
    "    twobins['expected female'] = (.31*twobins['total']).astype('int64')\n",
    "    twobins['expected male'] = (.69*twobins['total']).astype('int64')\n",
    "    twobins['male_act_exp_ratio'] =twobins['male artist count']/ twobins['expected male']\n",
    "    twobins['female_act_exp_ratio'] =  twobins['female artist count']/ twobins['expected female']\n",
    "\n",
    "    # only keep needed columns\n",
    "    twobins = twobins[['female_act_exp_ratio','male_act_exp_ratio']]\n",
    "\n",
    "    return twobins"
   ]
  },
  {
   "cell_type": "code",
   "execution_count": 13,
   "metadata": {},
   "outputs": [],
   "source": [
    "twobins = bin_bias(data, percent_fem, percent_mal)"
   ]
  },
  {
   "cell_type": "markdown",
   "metadata": {},
   "source": [
    "Calculate twobin biases for nested subsets over multiple runs (random selection of subsets). Store the results and calculate the mean and std for each size over the runs."
   ]
  },
  {
   "cell_type": "code",
   "execution_count": 22,
   "metadata": {},
   "outputs": [],
   "source": [
    "def bias_on_subsets(data, k, step_size = None, percentage = .1):\n",
    "    \"\"\"Calculate the gender biases for the small (<6) \n",
    "    and large (>5) genre list lengths.\n",
    "    Inputs:\n",
    "        data = dataframe with genre data for artists:\n",
    "            columns: 'genrelist_length','gender'\n",
    "            index: 'artist';\n",
    "        k = number of times nested subsets are created (number of runs)\n",
    "        step_size = difference in sizes between subsets (except for remainder)\n",
    "        percentage = percentage of full set to use to define step_size\n",
    "        \n",
    "    Output:\n",
    "        dataframe with biases, mean, and std\n",
    "    \"\"\"\n",
    "\n",
    "    # initialize a DataFrame to save biases calculated for each nested subsample\n",
    "    # call NestedSubsets to get the_number_of_subsets and step_size\n",
    "    subsets = NestedSubsets(data, step_size, percentage = percentage)\n",
    "    number_of_steps = subsets.get_number_of_steps()\n",
    "    step_size = subsets.get_step_size()\n",
    "\n",
    "    # create list of sizes of subsets to use as level in MultiIndex\n",
    "    sizes = [data.shape[0]-j*step_size for j in range(number_of_steps)]\n",
    "\n",
    "    # create empty DF with MultiIndex\n",
    "    indices = [sizes, ['1-5','>5']]\n",
    "    columns = [[f'run_{i}' for i in range(k)], ['female_act_exp_ratio','male_act_exp_ratio']]\n",
    "    biases = pd.DataFrame(index = pd.MultiIndex.from_product(indices), columns = pd.MultiIndex.from_product(columns), dtype = float)\n",
    "    biases.index.names = ['size','bin']\n",
    "    biases.columns.names = ['runs','gender']\n",
    "\n",
    "    # define slicer for accessing slices of multi-indexed DF\n",
    "    idx = pd.IndexSlice\n",
    "\n",
    "    for i in range(k): # perform k runs\n",
    "        # create the subset generator\n",
    "        subsets = NestedSubsets(data, step_size, percentage = percentage)\n",
    "        # get the step_size from the subset generator\n",
    "        step_size = subsets.get_step_size()\n",
    "\n",
    "        # loop through subsets\n",
    "        for subset in subsets:\n",
    "            size = subset.shape[0]\n",
    "            if size >= step_size: # excluding the remainder samples\n",
    "                twobins = bin_bias(subset, percent_fem, percent_mal) # calculate biases\n",
    "\n",
    "                # set indices of twobins to match the slice of relevant biases \n",
    "                indices = [[size],['1-5', '>5']]\n",
    "                columns = [[f'run_{i}'],['female_act_exp_ratio','male_act_exp_ratio']]\n",
    "                twobins.index = pd.MultiIndex.from_product(indices)\n",
    "                twobins.columns = pd.MultiIndex.from_product(columns)\n",
    "\n",
    "                # set values\n",
    "                biases.loc[idx[[size],['1-5', '>5']],idx[[f'run_{i}'],['female_act_exp_ratio','male_act_exp_ratio']]] = twobins\n",
    "\n",
    "    biases.sort_index(ascending = False)\n",
    "    means = biases.groupby(['gender'], axis = 1).mean()\n",
    "    means.columns = pd.MultiIndex.from_product([['means'],['fem mean','mal mean']])\n",
    "    stds = biases.groupby(['gender'], axis = 1).std()\n",
    "    stds.columns = pd.MultiIndex.from_product([['stds'],['fem std','mal std']])\n",
    "    biases = biases.join([means, stds])\n",
    "    return biases"
   ]
  },
  {
   "cell_type": "code",
   "execution_count": 23,
   "metadata": {},
   "outputs": [
    {
     "data": {
      "text/html": [
       "<div>\n",
       "<style scoped>\n",
       "    .dataframe tbody tr th:only-of-type {\n",
       "        vertical-align: middle;\n",
       "    }\n",
       "\n",
       "    .dataframe tbody tr th {\n",
       "        vertical-align: top;\n",
       "    }\n",
       "\n",
       "    .dataframe thead th {\n",
       "        text-align: right;\n",
       "    }\n",
       "</style>\n",
       "<table border=\"1\" class=\"dataframe\">\n",
       "  <thead>\n",
       "    <tr style=\"text-align: right;\">\n",
       "      <th></th>\n",
       "      <th>genrelist_length</th>\n",
       "      <th>gender</th>\n",
       "      <th>genre_set</th>\n",
       "    </tr>\n",
       "    <tr>\n",
       "      <th>artist</th>\n",
       "      <th></th>\n",
       "      <th></th>\n",
       "      <th></th>\n",
       "    </tr>\n",
       "  </thead>\n",
       "  <tbody>\n",
       "    <tr>\n",
       "      <th>Pablo_Holman</th>\n",
       "      <td>3</td>\n",
       "      <td>male</td>\n",
       "      <td>{rock, pop, emo_pop}</td>\n",
       "    </tr>\n",
       "    <tr>\n",
       "      <th>Bobby_Edwards</th>\n",
       "      <td>1</td>\n",
       "      <td>male</td>\n",
       "      <td>{country}</td>\n",
       "    </tr>\n",
       "    <tr>\n",
       "      <th>La_Palabra</th>\n",
       "      <td>4</td>\n",
       "      <td>male</td>\n",
       "      <td>{afro_cuban_jazz, salsa_romántica, guaracha, s...</td>\n",
       "    </tr>\n",
       "    <tr>\n",
       "      <th>Sherrick</th>\n",
       "      <td>2</td>\n",
       "      <td>male</td>\n",
       "      <td>{soul, r_and_b}</td>\n",
       "    </tr>\n",
       "    <tr>\n",
       "      <th>Allen_Collins</th>\n",
       "      <td>1</td>\n",
       "      <td>male</td>\n",
       "      <td>{southern_rock}</td>\n",
       "    </tr>\n",
       "    <tr>\n",
       "      <th>...</th>\n",
       "      <td>...</td>\n",
       "      <td>...</td>\n",
       "      <td>...</td>\n",
       "    </tr>\n",
       "    <tr>\n",
       "      <th>Katy_Perry</th>\n",
       "      <td>3</td>\n",
       "      <td>female</td>\n",
       "      <td>{rock, pop, disco}</td>\n",
       "    </tr>\n",
       "    <tr>\n",
       "      <th>Tyler_Joseph</th>\n",
       "      <td>7</td>\n",
       "      <td>male</td>\n",
       "      <td>{indie_pop, rap_rock, pop_rock, electro_pop, a...</td>\n",
       "    </tr>\n",
       "    <tr>\n",
       "      <th>Delta_Goodrem</th>\n",
       "      <td>3</td>\n",
       "      <td>female</td>\n",
       "      <td>{pop, contemporary, pop_rock}</td>\n",
       "    </tr>\n",
       "    <tr>\n",
       "      <th>Chosen_Effect</th>\n",
       "      <td>4</td>\n",
       "      <td>male</td>\n",
       "      <td>{dance, pop, hip_hop, r_and_b}</td>\n",
       "    </tr>\n",
       "    <tr>\n",
       "      <th>Nikki_Yanofsky</th>\n",
       "      <td>2</td>\n",
       "      <td>female</td>\n",
       "      <td>{pop, jazz}</td>\n",
       "    </tr>\n",
       "  </tbody>\n",
       "</table>\n",
       "<p>15470 rows × 3 columns</p>\n",
       "</div>"
      ],
      "text/plain": [
       "                genrelist_length  gender  \\\n",
       "artist                                     \n",
       "Pablo_Holman                   3    male   \n",
       "Bobby_Edwards                  1    male   \n",
       "La_Palabra                     4    male   \n",
       "Sherrick                       2    male   \n",
       "Allen_Collins                  1    male   \n",
       "...                          ...     ...   \n",
       "Katy_Perry                     3  female   \n",
       "Tyler_Joseph                   7    male   \n",
       "Delta_Goodrem                  3  female   \n",
       "Chosen_Effect                  4    male   \n",
       "Nikki_Yanofsky                 2  female   \n",
       "\n",
       "                                                        genre_set  \n",
       "artist                                                             \n",
       "Pablo_Holman                                 {rock, pop, emo_pop}  \n",
       "Bobby_Edwards                                           {country}  \n",
       "La_Palabra      {afro_cuban_jazz, salsa_romántica, guaracha, s...  \n",
       "Sherrick                                          {soul, r_and_b}  \n",
       "Allen_Collins                                     {southern_rock}  \n",
       "...                                                           ...  \n",
       "Katy_Perry                                     {rock, pop, disco}  \n",
       "Tyler_Joseph    {indie_pop, rap_rock, pop_rock, electro_pop, a...  \n",
       "Delta_Goodrem                       {pop, contemporary, pop_rock}  \n",
       "Chosen_Effect                      {dance, pop, hip_hop, r_and_b}  \n",
       "Nikki_Yanofsky                                        {pop, jazz}  \n",
       "\n",
       "[15470 rows x 3 columns]"
      ]
     },
     "execution_count": 23,
     "metadata": {},
     "output_type": "execute_result"
    }
   ],
   "source": [
    "data"
   ]
  },
  {
   "cell_type": "code",
   "execution_count": 24,
   "metadata": {},
   "outputs": [],
   "source": [
    "# set the number of runs\n",
    "k = 100\n",
    "# set percentage for step size of subsets\n",
    "percentage = .05\n",
    "# calculate biases and mean and std over runs for each subset\n",
    "biases = bias_on_subsets(data, k = 2, percentage = .5)"
   ]
  },
  {
   "cell_type": "markdown",
   "metadata": {},
   "source": [
    "Show a plot of the biases over multiple runs"
   ]
  },
  {
   "cell_type": "code",
   "execution_count": 26,
   "metadata": {},
   "outputs": [
    {
     "ename": "ValueError",
     "evalue": "all input arrays must have the same shape",
     "output_type": "error",
     "traceback": [
      "\u001b[0;31m---------------------------------------------------------------------------\u001b[0m",
      "\u001b[0;31mValueError\u001b[0m                                Traceback (most recent call last)",
      "\u001b[0;32m<ipython-input-26-9b51dcbaeebd>\u001b[0m in \u001b[0;36m<module>\u001b[0;34m\u001b[0m\n\u001b[1;32m     14\u001b[0m \u001b[0;34m\u001b[0m\u001b[0m\n\u001b[1;32m     15\u001b[0m \u001b[0;31m# generate arrays in which each row is a run, from small subset to large\u001b[0m\u001b[0;34m\u001b[0m\u001b[0;34m\u001b[0m\u001b[0;34m\u001b[0m\u001b[0m\n\u001b[0;32m---> 16\u001b[0;31m \u001b[0mfem_small_runs\u001b[0m \u001b[0;34m=\u001b[0m \u001b[0mnp\u001b[0m\u001b[0;34m.\u001b[0m\u001b[0mstack\u001b[0m\u001b[0;34m(\u001b[0m\u001b[0;34m[\u001b[0m\u001b[0mnp\u001b[0m\u001b[0;34m.\u001b[0m\u001b[0mflip\u001b[0m\u001b[0;34m(\u001b[0m\u001b[0mdf\u001b[0m\u001b[0;34m.\u001b[0m\u001b[0mloc\u001b[0m\u001b[0;34m[\u001b[0m \u001b[0midx\u001b[0m\u001b[0;34m[\u001b[0m\u001b[0;34m:\u001b[0m\u001b[0;34m,\u001b[0m\u001b[0;34m'1-5'\u001b[0m\u001b[0;34m]\u001b[0m\u001b[0;34m,\u001b[0m \u001b[0midx\u001b[0m\u001b[0;34m[\u001b[0m\u001b[0;34m[\u001b[0m\u001b[0;34mf'run_{i}'\u001b[0m\u001b[0;34m]\u001b[0m\u001b[0;34m,\u001b[0m\u001b[0;34m[\u001b[0m\u001b[0;34m'female_act_exp_ratio'\u001b[0m\u001b[0;34m]\u001b[0m\u001b[0;34m]\u001b[0m \u001b[0;34m]\u001b[0m\u001b[0;34m.\u001b[0m\u001b[0mvalues\u001b[0m\u001b[0;34m.\u001b[0m\u001b[0mflatten\u001b[0m\u001b[0;34m(\u001b[0m\u001b[0;34m)\u001b[0m\u001b[0;34m)\u001b[0m \u001b[0;32mfor\u001b[0m \u001b[0mi\u001b[0m \u001b[0;32min\u001b[0m \u001b[0mrange\u001b[0m\u001b[0;34m(\u001b[0m\u001b[0mk\u001b[0m\u001b[0;34m)\u001b[0m\u001b[0;34m]\u001b[0m\u001b[0;34m)\u001b[0m\u001b[0;34m\u001b[0m\u001b[0;34m\u001b[0m\u001b[0m\n\u001b[0m\u001b[1;32m     17\u001b[0m \u001b[0mmal_small_runs\u001b[0m \u001b[0;34m=\u001b[0m \u001b[0mnp\u001b[0m\u001b[0;34m.\u001b[0m\u001b[0mstack\u001b[0m\u001b[0;34m(\u001b[0m\u001b[0;34m[\u001b[0m\u001b[0mnp\u001b[0m\u001b[0;34m.\u001b[0m\u001b[0mflip\u001b[0m\u001b[0;34m(\u001b[0m\u001b[0mdf\u001b[0m\u001b[0;34m.\u001b[0m\u001b[0mloc\u001b[0m\u001b[0;34m[\u001b[0m \u001b[0midx\u001b[0m\u001b[0;34m[\u001b[0m\u001b[0;34m:\u001b[0m\u001b[0;34m,\u001b[0m\u001b[0;34m'1-5'\u001b[0m\u001b[0;34m]\u001b[0m\u001b[0;34m,\u001b[0m \u001b[0midx\u001b[0m\u001b[0;34m[\u001b[0m\u001b[0;34m[\u001b[0m\u001b[0;34mf'run_{i}'\u001b[0m\u001b[0;34m]\u001b[0m\u001b[0;34m,\u001b[0m\u001b[0;34m[\u001b[0m\u001b[0;34m'male_act_exp_ratio'\u001b[0m\u001b[0;34m]\u001b[0m\u001b[0;34m]\u001b[0m \u001b[0;34m]\u001b[0m\u001b[0;34m.\u001b[0m\u001b[0mvalues\u001b[0m\u001b[0;34m.\u001b[0m\u001b[0mflatten\u001b[0m\u001b[0;34m(\u001b[0m\u001b[0;34m)\u001b[0m\u001b[0;34m)\u001b[0m \u001b[0;32mfor\u001b[0m \u001b[0mi\u001b[0m \u001b[0;32min\u001b[0m \u001b[0mrange\u001b[0m\u001b[0;34m(\u001b[0m\u001b[0mk\u001b[0m\u001b[0;34m)\u001b[0m\u001b[0;34m]\u001b[0m\u001b[0;34m)\u001b[0m\u001b[0;34m\u001b[0m\u001b[0;34m\u001b[0m\u001b[0m\n\u001b[1;32m     18\u001b[0m \u001b[0mfem_large_runs\u001b[0m \u001b[0;34m=\u001b[0m \u001b[0mnp\u001b[0m\u001b[0;34m.\u001b[0m\u001b[0mstack\u001b[0m\u001b[0;34m(\u001b[0m\u001b[0;34m[\u001b[0m\u001b[0mnp\u001b[0m\u001b[0;34m.\u001b[0m\u001b[0mflip\u001b[0m\u001b[0;34m(\u001b[0m\u001b[0mdf\u001b[0m\u001b[0;34m.\u001b[0m\u001b[0mloc\u001b[0m\u001b[0;34m[\u001b[0m \u001b[0midx\u001b[0m\u001b[0;34m[\u001b[0m\u001b[0;34m:\u001b[0m\u001b[0;34m,\u001b[0m\u001b[0;34m'>5'\u001b[0m\u001b[0;34m]\u001b[0m\u001b[0;34m,\u001b[0m \u001b[0midx\u001b[0m\u001b[0;34m[\u001b[0m\u001b[0;34m[\u001b[0m\u001b[0;34mf'run_{i}'\u001b[0m\u001b[0;34m]\u001b[0m\u001b[0;34m,\u001b[0m\u001b[0;34m[\u001b[0m\u001b[0;34m'female_act_exp_ratio'\u001b[0m\u001b[0;34m]\u001b[0m\u001b[0;34m]\u001b[0m \u001b[0;34m]\u001b[0m\u001b[0;34m.\u001b[0m\u001b[0mvalues\u001b[0m\u001b[0;34m.\u001b[0m\u001b[0mflatten\u001b[0m\u001b[0;34m(\u001b[0m\u001b[0;34m)\u001b[0m\u001b[0;34m)\u001b[0m \u001b[0;32mfor\u001b[0m \u001b[0mi\u001b[0m \u001b[0;32min\u001b[0m \u001b[0mrange\u001b[0m\u001b[0;34m(\u001b[0m\u001b[0mk\u001b[0m\u001b[0;34m)\u001b[0m\u001b[0;34m]\u001b[0m\u001b[0;34m)\u001b[0m\u001b[0;34m\u001b[0m\u001b[0;34m\u001b[0m\u001b[0m\n",
      "\u001b[0;32m<__array_function__ internals>\u001b[0m in \u001b[0;36mstack\u001b[0;34m(*args, **kwargs)\u001b[0m\n",
      "\u001b[0;32m~/anaconda3/lib/python3.7/site-packages/numpy/core/shape_base.py\u001b[0m in \u001b[0;36mstack\u001b[0;34m(arrays, axis, out)\u001b[0m\n\u001b[1;32m    424\u001b[0m     \u001b[0mshapes\u001b[0m \u001b[0;34m=\u001b[0m \u001b[0;34m{\u001b[0m\u001b[0marr\u001b[0m\u001b[0;34m.\u001b[0m\u001b[0mshape\u001b[0m \u001b[0;32mfor\u001b[0m \u001b[0marr\u001b[0m \u001b[0;32min\u001b[0m \u001b[0marrays\u001b[0m\u001b[0;34m}\u001b[0m\u001b[0;34m\u001b[0m\u001b[0;34m\u001b[0m\u001b[0m\n\u001b[1;32m    425\u001b[0m     \u001b[0;32mif\u001b[0m \u001b[0mlen\u001b[0m\u001b[0;34m(\u001b[0m\u001b[0mshapes\u001b[0m\u001b[0;34m)\u001b[0m \u001b[0;34m!=\u001b[0m \u001b[0;36m1\u001b[0m\u001b[0;34m:\u001b[0m\u001b[0;34m\u001b[0m\u001b[0;34m\u001b[0m\u001b[0m\n\u001b[0;32m--> 426\u001b[0;31m         \u001b[0;32mraise\u001b[0m \u001b[0mValueError\u001b[0m\u001b[0;34m(\u001b[0m\u001b[0;34m'all input arrays must have the same shape'\u001b[0m\u001b[0;34m)\u001b[0m\u001b[0;34m\u001b[0m\u001b[0;34m\u001b[0m\u001b[0m\n\u001b[0m\u001b[1;32m    427\u001b[0m \u001b[0;34m\u001b[0m\u001b[0m\n\u001b[1;32m    428\u001b[0m     \u001b[0mresult_ndim\u001b[0m \u001b[0;34m=\u001b[0m \u001b[0marrays\u001b[0m\u001b[0;34m[\u001b[0m\u001b[0;36m0\u001b[0m\u001b[0;34m]\u001b[0m\u001b[0;34m.\u001b[0m\u001b[0mndim\u001b[0m \u001b[0;34m+\u001b[0m \u001b[0;36m1\u001b[0m\u001b[0;34m\u001b[0m\u001b[0;34m\u001b[0m\u001b[0m\n",
      "\u001b[0;31mValueError\u001b[0m: all input arrays must have the same shape"
     ]
    },
    {
     "data": {
      "image/png": "[encoded data removed]",
      "text/plain": [
       "<Figure size 1008x720 with 2 Axes>"
      ]
     },
     "metadata": {},
     "output_type": "display_data"
    }
   ],
   "source": [
    "# plot the paths for the runs of each nested subsets\n",
    "fig, axs = plt.subplots(2,1, figsize = (14,10))\n",
    "fig.suptitle('The ratio of actual to expected numbers of artists over 100 nested subsets.', fontsize = 20)\n",
    "fig.tight_layout(pad = 6.0)\n",
    "\n",
    "idx = pd.IndexSlice\n",
    "# the data set\n",
    "df = biases\n",
    "df.sort_index(ascending = False) # needed for slicing\n",
    "\n",
    "# x-values for paths\n",
    "runs_index = np.flip(df.loc[idx[:,'1-5'],:].index.get_level_values(0).values)\n",
    "runs_index = runs_index[1:] # leave off the remainder subset\n",
    "\n",
    "# generate arrays in which each row is a run, from small subset to large\n",
    "fem_small_runs = np.stack([np.flip(df.loc[ idx[:,'1-5'], idx[[f'run_{i}'],['female_act_exp_ratio']] ].values.flatten()) for i in range(k)])\n",
    "mal_small_runs = np.stack([np.flip(df.loc[ idx[:,'1-5'], idx[[f'run_{i}'],['male_act_exp_ratio']] ].values.flatten()) for i in range(k)])\n",
    "fem_large_runs = np.stack([np.flip(df.loc[ idx[:,'>5'], idx[[f'run_{i}'],['female_act_exp_ratio']] ].values.flatten()) for i in range(k)])\n",
    "mal_large_runs = np.stack([np.flip(df.loc[ idx[:,'>5'], idx[[f'run_{i}'],['male_act_exp_ratio']] ].values.flatten()) for i in range(k)])\n",
    "\n",
    "# drop first value which is for the remainder set\n",
    "fem_small_runs = fem_small_runs[:,1:]\n",
    "mal_small_runs = mal_small_runs[:,1:]\n",
    "fem_large_runs = fem_large_runs[:,1:]\n",
    "mal_large_runs = mal_large_runs[:,1:]\n",
    "\n",
    "# plot paths\n",
    "for i in range(k):\n",
    "    axs[0].plot(runs_index,fem_small_runs[i], color = 'orange', label = f'fem_small_runs_{i}' )\n",
    "\n",
    "for i in range(k):\n",
    "    axs[0].plot(runs_index,mal_small_runs[i], color = 'purple', label = f'mal_small_runs_{i}')\n",
    "    \n",
    "for i in range(k):\n",
    "    axs[1].plot(runs_index,fem_large_runs[i], color = 'orange', label = f'fem_large_runs_{i}')\n",
    "\n",
    "for i in range(k):\n",
    "    axs[1].plot(runs_index,mal_large_runs[i], color = 'purple', label = f'mal_large_runs_{i}')\n",
    "\n",
    "# y range\n",
    "axs[0].set_ylim(bottom = .85, top = 1.15)\n",
    "axs[1].set_ylim(bottom = 0,top = 1.6)\n",
    "\n",
    "# set xticklabels; flip so order is small to large, as above\n",
    "xticklabels = runs_index\n",
    "xlabel_pos = runs_index # set the positions for labels\n",
    "\n",
    "# styling\n",
    "axs[0].set_xticks(xlabel_pos)\n",
    "axs[0].set_xticklabels(xticklabels, fontsize = 12, rotation = 0)\n",
    "axs[1].set_xticks(xlabel_pos)\n",
    "axs[1].set_xticklabels(xticklabels, fontsize = 12, rotation = 0)\n",
    "axs[0].set_xlabel('1-5 genre labels'.title(), fontsize = 16)\n",
    "axs[1].set_xlabel('6 or more genre labels'.title(), fontsize = 16)\n",
    "axs[0].set_xlabel('subset sizes', fontsize = 12)\n",
    "axs[1].set_xlabel('subset sizes', fontsize = 12)\n",
    "\n",
    "handles, labels = axs[0].get_legend_handles_labels()\n",
    "axs[0].legend(handles = [handles[0], handles[k]], labels = ['female', 'male'])\n",
    "handles, labels = axs[1].get_legend_handles_labels()\n",
    "axs[1].legend(handles = [handles[0], handles[k]], labels = ['female', 'male'])"
   ]
  },
  {
   "cell_type": "code",
   "execution_count": 21,
   "metadata": {},
   "outputs": [],
   "source": [
    "fig.savefig('/Users/Daniel/Code/Genre/visualizations/twobin_paths.png')"
   ]
  },
  {
   "cell_type": "markdown",
   "metadata": {},
   "source": [
    "The significance of the geometry of the paths is that the bias for f/m with >5 labels is safely away from 1.0 even when only half of the data is used and that the paths oscillate around a line of zero slope. If they oscillated around a curve that had non-zero slope at the full data set, that would have suggested that the data had not captured the full distribution. The convergence to the same point is of no significance: at (12376, the full data set) all paths use the same data for the bias estimate."
   ]
  },
  {
   "cell_type": "markdown",
   "metadata": {},
   "source": [
    "Plot the mean and std over the runs for each subset set "
   ]
  },
  {
   "cell_type": "code",
   "execution_count": 58,
   "metadata": {
    "scrolled": true
   },
   "outputs": [
    {
     "data": {
      "text/plain": [
       "<matplotlib.legend.Legend at 0x1a23d92dd8>"
      ]
     },
     "execution_count": 58,
     "metadata": {},
     "output_type": "execute_result"
    },
    {
     "data": {
      "image/png": "[encoded data removed]",
      "text/plain": [
       "<Figure size 1008x720 with 2 Axes>"
      ]
     },
     "metadata": {
      "needs_background": "light"
     },
     "output_type": "display_data"
    }
   ],
   "source": [
    "idx = pd.IndexSlice\n",
    "df = biases\n",
    "# extract lists of values for the means of each category\n",
    "# flip arrays so that subset size increases left to right\n",
    "df_fem_small = np.flip(df.loc[ idx[:,'1-5'], idx[['means'],['fem mean']] ].values.flatten())\n",
    "df_fem_large = np.flip(df.loc[ idx[:,'>5'], idx[['means'],['fem mean']] ].values.flatten())\n",
    "df_mal_small = np.flip(df.loc[ idx[:,'1-5'], idx[['means'],['mal mean']] ].values.flatten())\n",
    "df_mal_large = np.flip(df.loc[ idx[:,'>5'], idx[['means'],['mal mean']] ].values.flatten())\n",
    "\n",
    "# extract the stds\n",
    "eb_fem_small = np.flip(df.loc[ idx[:,'1-5'], idx[['stds'],['fem std']] ].values.flatten())\n",
    "eb_fem_large = np.flip(df.loc[ idx[:,'>5'], idx[['stds'],['fem std']] ].values.flatten())\n",
    "eb_mal_small = np.flip(df.loc[ idx[:,'1-5'], idx[['stds'],['mal std']] ].values.flatten())\n",
    "eb_mal_large = np.flip(df.loc[ idx[:,'>5'], idx[['stds'],['mal std']] ].values.flatten())\n",
    "\n",
    "# indices for bars\n",
    "number_of_bars = len(df_fem_small)\n",
    "ind_fem = np.arange(0,3*number_of_bars,3)\n",
    "ind_mal = np.arange(1,3*number_of_bars+1,3)\n",
    "xlabel_pos = np.arange(0,3*number_of_bars+1,3)+.5\n",
    "\n",
    "# set xticklabels; flip so order is small to large, as above\n",
    "xticklabels = np.flip(df.loc[idx[:,'1-5'],:].index.get_level_values(0).values)\n",
    "\n",
    "fig, axs = plt.subplots(2,1, sharey = True, figsize = (14,10))\n",
    "fig.tight_layout(pad = 6.0)\n",
    "fig.suptitle('The ratio of actual to expected percentages of artists. The error bars show one STD', fontsize = 20)\n",
    "axs[0].bar(ind_fem,df_fem_small, color = 'orange', yerr = eb_fem_small, capsize = 4, label = 'female')\n",
    "axs[0].bar(ind_mal,df_mal_small, color = 'purple', yerr = eb_mal_small, capsize = 4, label = 'male')\n",
    "axs[1].bar(ind_fem,df_fem_large, color = 'orange', yerr = eb_fem_large, capsize = 4, label = 'female')\n",
    "axs[1].bar(ind_mal,df_mal_large, color = 'purple', yerr = eb_mal_large, capsize = 4, label = 'male')\n",
    "\n",
    "# y range\n",
    "axs[0].set_ylim(0,1.7)\n",
    "axs[1].set_ylim(0,1.7)\n",
    "\n",
    "# styles\n",
    "axs[0].set_title('Gender Bias for 1-5 genre labels'.title(), fontsize = 14)\n",
    "axs[1].set_title('Gender Bias for 6 or more genre labels'.title(), fontsize = 14)\n",
    "\n",
    "axs[0].set_xticks(xlabel_pos)\n",
    "axs[0].set_xticklabels(xticklabels, fontsize = 14, rotation = 0)\n",
    "axs[1].set_xticks(xlabel_pos)\n",
    "axs[1].set_xticklabels(xticklabels, fontsize = 14, rotation = 0)\n",
    "axs[0].set_xlabel('subset sizes', fontsize = 12)\n",
    "axs[1].set_xlabel('subset sizes', fontsize = 12)\n",
    "axs[0].legend()\n",
    "axs[1].legend()"
   ]
  },
  {
   "cell_type": "code",
   "execution_count": 60,
   "metadata": {},
   "outputs": [],
   "source": [
    "fig.savefig('/Users/Daniel/Code/Genre/visualizations/twobin_means.png')"
   ]
  },
  {
   "cell_type": "code",
   "execution_count": null,
   "metadata": {},
   "outputs": [],
   "source": []
  },
  {
   "cell_type": "code",
   "execution_count": null,
   "metadata": {},
   "outputs": [],
   "source": []
  },
  {
   "cell_type": "code",
   "execution_count": null,
   "metadata": {},
   "outputs": [],
   "source": []
  },
  {
   "cell_type": "code",
   "execution_count": null,
   "metadata": {},
   "outputs": [],
   "source": []
  }
 ],
 "metadata": {
  "kernelspec": {
   "display_name": "Python 3",
   "language": "python",
   "name": "python3"
  },
  "language_info": {
   "codemirror_mode": {
    "name": "ipython",
    "version": 3
   },
   "file_extension": ".py",
   "mimetype": "text/x-python",
   "name": "python",
   "nbconvert_exporter": "python",
   "pygments_lexer": "ipython3",
   "version": "3.7.3"
  }
 },
 "nbformat": 4,
 "nbformat_minor": 4
}
