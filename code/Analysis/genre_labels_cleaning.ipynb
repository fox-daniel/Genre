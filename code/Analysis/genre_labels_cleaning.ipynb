{
 "cells": [
  {
   "cell_type": "markdown",
   "metadata": {},
   "source": [
    "## This notebook is used to clean and prepare the genre label data for analysis."
   ]
  },
  {
   "cell_type": "markdown",
   "metadata": {},
   "source": [
    "- [ ] switch CSV import to use dtype list\n",
    "- [ ] move individual case respells to a script\n",
    "- [ ] reformat respell function to take a dictionary of all the cases"
   ]
  },
  {
   "cell_type": "markdown",
   "metadata": {},
   "source": [
    "## Outline of Cleaning:\n",
    "\n",
    "1. - [x] remove artists for which 'retrieved' value is 'none'\n",
    "2. - [x] remove the url prefix from the retrieved artist names \n",
    "3. - [x] replace ' ' in the artist column with '_'\n",
    "4. - [x] remove the '(singer)', '(rapper)', '(musician)' designation from the 'retrieved' column\n",
    "5. - [x] remove the artists for which the retrieved-artist != searched-artist. \n",
    "    - inspect mismatches to look for typos and different versions\n",
    "6. - [x] Deal with genre label problems\n",
    "7. - [x] Normalize genre label spelling: e.g. r&b vs rhythm and blues vs rhythm & blues\n",
    "    - [x] 'rock n roll' = 'rock & roll' etc, but 'rock' separate.\n",
    "    - [x] remove _music\n",
    "    - [x] hip hop and hip--hop -> hip-hop\n",
    "    - [ ] separate lists: look at why they aren't separated\n",
    "8. - [x] convert genre column values into lists of strings\n",
    "9. - [x] remove bands (as opposed to individuals)\n",
    "10. - [x] remove old columns\n",
    "11. - [x] extract unique genres as a list"
   ]
  },
  {
   "cell_type": "code",
   "execution_count": 1,
   "metadata": {},
   "outputs": [],
   "source": [
    "import numpy as np\n",
    "np.random.seed(23)\n",
    "import pandas as pd\n",
    "import re\n",
    "from datetime import datetime"
   ]
  },
  {
   "cell_type": "code",
   "execution_count": 2,
   "metadata": {},
   "outputs": [],
   "source": [
    "# %ls -lt /Users/Daniel/Code/Genre/data/genre_lists/data_to_be_cleaned/"
   ]
  },
  {
   "cell_type": "markdown",
   "metadata": {},
   "source": [
    "### The data set with the genders of music artists\n",
    "\n",
    "The file singers_gender.csv is from Kaggle and lists music artists and their gender. "
   ]
  },
  {
   "cell_type": "code",
   "execution_count": 3,
   "metadata": {},
   "outputs": [],
   "source": [
    "# kaggle_data = pd.read_csv('singers_gender.csv', encoding = 'latin-1')"
   ]
  },
  {
   "cell_type": "markdown",
   "metadata": {},
   "source": [
    "### Adding genre labels\n",
    "\n",
    "Genre labels were scraped from Wikipedia info boxes for the artists in the Kaggle dataset. The dataset that joins that info to the gender of the singers is in: 'wiki-kaggle_genres_rescrape.csv'"
   ]
  },
  {
   "cell_type": "markdown",
   "metadata": {},
   "source": [
    "- [ ] Add in a converter that splits the genre list on commas:\n",
    "https://stackoverflow.com/questions/32742976/how-to-read-a-column-of-csv-as-dtype-list-using-pandas"
   ]
  },
  {
   "cell_type": "code",
   "execution_count": 4,
   "metadata": {},
   "outputs": [
    {
     "name": "stdout",
     "output_type": "stream",
     "text": [
      "Shape of the data: (23177, 4)\n",
      "Null values in each column\n",
      "artist       0\n",
      "gender       0\n",
      "retrieved    0\n",
      "genre        0\n",
      "dtype: int64\n"
     ]
    }
   ],
   "source": [
    "data = pd.read_csv('../../data/genre_lists/data_to_be_cleaned/wiki-kaggle_genres_rescrape.csv', header = 0)\n",
    "data.drop(['Unnamed: 0'], axis = 1, inplace = True)\n",
    "print(f'Shape of the data: {data.shape}')\n",
    "print('Null values in each column')\n",
    "print(data.isnull().sum())"
   ]
  },
  {
   "cell_type": "code",
   "execution_count": 5,
   "metadata": {
    "scrolled": true
   },
   "outputs": [
    {
     "data": {
      "text/html": [
       "<div>\n",
       "<style scoped>\n",
       "    .dataframe tbody tr th:only-of-type {\n",
       "        vertical-align: middle;\n",
       "    }\n",
       "\n",
       "    .dataframe tbody tr th {\n",
       "        vertical-align: top;\n",
       "    }\n",
       "\n",
       "    .dataframe thead th {\n",
       "        text-align: right;\n",
       "    }\n",
       "</style>\n",
       "<table border=\"1\" class=\"dataframe\">\n",
       "  <thead>\n",
       "    <tr style=\"text-align: right;\">\n",
       "      <th></th>\n",
       "      <th>artist</th>\n",
       "      <th>gender</th>\n",
       "      <th>retrieved</th>\n",
       "      <th>genre</th>\n",
       "    </tr>\n",
       "  </thead>\n",
       "  <tbody>\n",
       "    <tr>\n",
       "      <th>0</th>\n",
       "      <td>Jimmy Boyd</td>\n",
       "      <td>male</td>\n",
       "      <td>none</td>\n",
       "      <td>none</td>\n",
       "    </tr>\n",
       "    <tr>\n",
       "      <th>1</th>\n",
       "      <td>Christopher Willits</td>\n",
       "      <td>male</td>\n",
       "      <td>https://en.wikipedia.org/wiki/Christopher_Willits</td>\n",
       "      <td>['electronic', 'glitch', 'ambient', 'electroac...</td>\n",
       "    </tr>\n",
       "    <tr>\n",
       "      <th>2</th>\n",
       "      <td>Henry Frayne</td>\n",
       "      <td>male</td>\n",
       "      <td>none</td>\n",
       "      <td>none</td>\n",
       "    </tr>\n",
       "    <tr>\n",
       "      <th>3</th>\n",
       "      <td>Shawn Hook</td>\n",
       "      <td>male</td>\n",
       "      <td>https://en.wikipedia.org/wiki/Shawn_Hook</td>\n",
       "      <td>['pop', 'electronic', 'rock']</td>\n",
       "    </tr>\n",
       "    <tr>\n",
       "      <th>4</th>\n",
       "      <td>Steve Poltz</td>\n",
       "      <td>male</td>\n",
       "      <td>https://en.wikipedia.org/wiki/Steve_Poltz</td>\n",
       "      <td>['pop rock', 'indie-rock', 'folk rock']</td>\n",
       "    </tr>\n",
       "  </tbody>\n",
       "</table>\n",
       "</div>"
      ],
      "text/plain": [
       "                artist gender  \\\n",
       "0           Jimmy Boyd   male   \n",
       "1  Christopher Willits   male   \n",
       "2         Henry Frayne   male   \n",
       "3           Shawn Hook   male   \n",
       "4          Steve Poltz   male   \n",
       "\n",
       "                                           retrieved  \\\n",
       "0                                               none   \n",
       "1  https://en.wikipedia.org/wiki/Christopher_Willits   \n",
       "2                                               none   \n",
       "3           https://en.wikipedia.org/wiki/Shawn_Hook   \n",
       "4          https://en.wikipedia.org/wiki/Steve_Poltz   \n",
       "\n",
       "                                               genre  \n",
       "0                                               none  \n",
       "1  ['electronic', 'glitch', 'ambient', 'electroac...  \n",
       "2                                               none  \n",
       "3                      ['pop', 'electronic', 'rock']  \n",
       "4            ['pop rock', 'indie-rock', 'folk rock']  "
      ]
     },
     "execution_count": 5,
     "metadata": {},
     "output_type": "execute_result"
    }
   ],
   "source": [
    "data.head()"
   ]
  },
  {
   "cell_type": "markdown",
   "metadata": {},
   "source": [
    "### Remove artists for which 'retrieved' value is 'none'"
   ]
  },
  {
   "cell_type": "markdown",
   "metadata": {},
   "source": [
    "For how many artists is the scraped genre 'none'?"
   ]
  },
  {
   "cell_type": "code",
   "execution_count": 6,
   "metadata": {},
   "outputs": [
    {
     "data": {
      "text/plain": [
       "7677"
      ]
     },
     "execution_count": 6,
     "metadata": {},
     "output_type": "execute_result"
    }
   ],
   "source": [
    "(data.genre == 'none').sum()"
   ]
  },
  {
   "cell_type": "markdown",
   "metadata": {},
   "source": [
    "For how many artists is the 'retrieved' value 'none':"
   ]
  },
  {
   "cell_type": "code",
   "execution_count": 7,
   "metadata": {},
   "outputs": [
    {
     "data": {
      "text/plain": [
       "7677"
      ]
     },
     "execution_count": 7,
     "metadata": {},
     "output_type": "execute_result"
    }
   ],
   "source": [
    "(data.retrieved == 'none').sum()"
   ]
  },
  {
   "cell_type": "markdown",
   "metadata": {},
   "source": [
    "Convert none to null:"
   ]
  },
  {
   "cell_type": "code",
   "execution_count": 8,
   "metadata": {},
   "outputs": [],
   "source": [
    "data['retrieved'] = data['retrieved'].replace('none', np.nan)"
   ]
  },
  {
   "cell_type": "code",
   "execution_count": 9,
   "metadata": {},
   "outputs": [
    {
     "data": {
      "text/html": [
       "<div>\n",
       "<style scoped>\n",
       "    .dataframe tbody tr th:only-of-type {\n",
       "        vertical-align: middle;\n",
       "    }\n",
       "\n",
       "    .dataframe tbody tr th {\n",
       "        vertical-align: top;\n",
       "    }\n",
       "\n",
       "    .dataframe thead th {\n",
       "        text-align: right;\n",
       "    }\n",
       "</style>\n",
       "<table border=\"1\" class=\"dataframe\">\n",
       "  <thead>\n",
       "    <tr style=\"text-align: right;\">\n",
       "      <th></th>\n",
       "      <th>artist</th>\n",
       "      <th>gender</th>\n",
       "      <th>retrieved</th>\n",
       "      <th>genre</th>\n",
       "    </tr>\n",
       "  </thead>\n",
       "  <tbody>\n",
       "    <tr>\n",
       "      <th>0</th>\n",
       "      <td>Jimmy Boyd</td>\n",
       "      <td>male</td>\n",
       "      <td>NaN</td>\n",
       "      <td>none</td>\n",
       "    </tr>\n",
       "    <tr>\n",
       "      <th>1</th>\n",
       "      <td>Christopher Willits</td>\n",
       "      <td>male</td>\n",
       "      <td>https://en.wikipedia.org/wiki/Christopher_Willits</td>\n",
       "      <td>['electronic', 'glitch', 'ambient', 'electroac...</td>\n",
       "    </tr>\n",
       "    <tr>\n",
       "      <th>2</th>\n",
       "      <td>Henry Frayne</td>\n",
       "      <td>male</td>\n",
       "      <td>NaN</td>\n",
       "      <td>none</td>\n",
       "    </tr>\n",
       "    <tr>\n",
       "      <th>3</th>\n",
       "      <td>Shawn Hook</td>\n",
       "      <td>male</td>\n",
       "      <td>https://en.wikipedia.org/wiki/Shawn_Hook</td>\n",
       "      <td>['pop', 'electronic', 'rock']</td>\n",
       "    </tr>\n",
       "    <tr>\n",
       "      <th>4</th>\n",
       "      <td>Steve Poltz</td>\n",
       "      <td>male</td>\n",
       "      <td>https://en.wikipedia.org/wiki/Steve_Poltz</td>\n",
       "      <td>['pop rock', 'indie-rock', 'folk rock']</td>\n",
       "    </tr>\n",
       "  </tbody>\n",
       "</table>\n",
       "</div>"
      ],
      "text/plain": [
       "                artist gender  \\\n",
       "0           Jimmy Boyd   male   \n",
       "1  Christopher Willits   male   \n",
       "2         Henry Frayne   male   \n",
       "3           Shawn Hook   male   \n",
       "4          Steve Poltz   male   \n",
       "\n",
       "                                           retrieved  \\\n",
       "0                                                NaN   \n",
       "1  https://en.wikipedia.org/wiki/Christopher_Willits   \n",
       "2                                                NaN   \n",
       "3           https://en.wikipedia.org/wiki/Shawn_Hook   \n",
       "4          https://en.wikipedia.org/wiki/Steve_Poltz   \n",
       "\n",
       "                                               genre  \n",
       "0                                               none  \n",
       "1  ['electronic', 'glitch', 'ambient', 'electroac...  \n",
       "2                                               none  \n",
       "3                      ['pop', 'electronic', 'rock']  \n",
       "4            ['pop rock', 'indie-rock', 'folk rock']  "
      ]
     },
     "execution_count": 9,
     "metadata": {},
     "output_type": "execute_result"
    }
   ],
   "source": [
    "data.head()"
   ]
  },
  {
   "cell_type": "code",
   "execution_count": 10,
   "metadata": {},
   "outputs": [
    {
     "data": {
      "text/plain": [
       "artist          0\n",
       "gender          0\n",
       "retrieved    7677\n",
       "genre           0\n",
       "dtype: int64"
      ]
     },
     "execution_count": 10,
     "metadata": {},
     "output_type": "execute_result"
    }
   ],
   "source": [
    "data.isnull().sum()"
   ]
  },
  {
   "cell_type": "markdown",
   "metadata": {},
   "source": [
    "Drop rows with nulls:"
   ]
  },
  {
   "cell_type": "code",
   "execution_count": 11,
   "metadata": {},
   "outputs": [],
   "source": [
    "data.dropna(axis = 0, inplace = True)"
   ]
  },
  {
   "cell_type": "code",
   "execution_count": 12,
   "metadata": {},
   "outputs": [
    {
     "data": {
      "text/plain": [
       "(15500, 4)"
      ]
     },
     "execution_count": 12,
     "metadata": {},
     "output_type": "execute_result"
    }
   ],
   "source": [
    "data.shape"
   ]
  },
  {
   "cell_type": "markdown",
   "metadata": {},
   "source": [
    "### Take a glance at random artist and retrieved values to determine necessary cleaning:"
   ]
  },
  {
   "cell_type": "code",
   "execution_count": 13,
   "metadata": {},
   "outputs": [
    {
     "name": "stdout",
     "output_type": "stream",
     "text": [
      "artist: Berner        retrieved: https://en.wikipedia.org/wiki/Berner_(rapper)\n",
      "artist: Chad Kroeger        retrieved: https://en.wikipedia.org/wiki/Chad_Kroeger\n",
      "artist: Zoogz Rift        retrieved: https://en.wikipedia.org/wiki/Zoogz_Rift\n",
      "artist: Gábor Szabó        retrieved: https://en.wikipedia.org/wiki/Gábor_Szabó\n",
      "artist: Lloyd        retrieved: https://en.wikipedia.org/wiki/Lloyd_(singer)\n",
      "artist: Dale McBride        retrieved: https://en.wikipedia.org/wiki/Dale_McBride\n",
      "artist: Nomy Lamm        retrieved: https://en.wikipedia.org/wiki/Nomy_Lamm\n",
      "artist: Ray Stevens        retrieved: https://en.wikipedia.org/wiki/Ray_Stevens\n",
      "artist: Betty Clooney        retrieved: https://en.wikipedia.org/wiki/Betty_Clooney\n",
      "artist: Martin Bramah        retrieved: https://en.wikipedia.org/wiki/Martin_Bramah\n",
      "artist: Merry Clayton        retrieved: https://en.wikipedia.org/wiki/Merry_Clayton\n",
      "artist: Francisco Céspedes        retrieved: https://en.wikipedia.org/wiki/Francisco_Céspedes\n",
      "artist: Jim Messina        retrieved: https://en.wikipedia.org/wiki/Jim_Messina_(musician)\n",
      "artist: Peter Schilperoort        retrieved: https://en.wikipedia.org/wiki/Peter_Schilperoort\n",
      "artist: Pat Green        retrieved: https://en.wikipedia.org/wiki/Pat_Green\n"
     ]
    }
   ],
   "source": [
    "rints = np.random.randint(0,data.shape[0],15) # generate 15 random numbers from 0 to k-1, with k = # of rows\n",
    "\n",
    "for n in rints:\n",
    "    print('artist: {}        retrieved: {}'.format(data.artist.iloc[n], data.retrieved.iloc[n]))"
   ]
  },
  {
   "cell_type": "markdown",
   "metadata": {},
   "source": [
    "Notes on Retrieved:\n",
    "\n",
    "- Underscore is used to separate parts of the name\n",
    "- '.' are allowed in names \n",
    "- '(singer)' and '(musician)' are sometimes included and need to be stripped (probably to distinguish from othe people in wikipedia)\n",
    "- double quotes are allowed in names\n",
    "- hyphens appear"
   ]
  },
  {
   "cell_type": "markdown",
   "metadata": {},
   "source": [
    "## Remove the URL prefix from the 'retrieved' values"
   ]
  },
  {
   "cell_type": "code",
   "execution_count": 14,
   "metadata": {},
   "outputs": [],
   "source": [
    "\"\"\"This function extracts artist name from the url.\n",
    "Apply it to the 'retrieved' values.\"\"\"\n",
    "def retrieved_artist(text):\n",
    "    try:\n",
    "        retrieved = text\n",
    "        p = re.compile(r'(https://en.wikipedia.org/wiki/)(.*)')\n",
    "        result = re.match(p, retrieved)\n",
    "        return result.group(2)\n",
    "    except:\n",
    "        if text == 'none':\n",
    "            return 'none'\n",
    "    else:\n",
    "        return 'None'"
   ]
  },
  {
   "cell_type": "code",
   "execution_count": 15,
   "metadata": {},
   "outputs": [],
   "source": [
    "data['retrieved'] = data.retrieved.apply(retrieved_artist)"
   ]
  },
  {
   "cell_type": "code",
   "execution_count": 16,
   "metadata": {},
   "outputs": [
    {
     "data": {
      "text/html": [
       "<div>\n",
       "<style scoped>\n",
       "    .dataframe tbody tr th:only-of-type {\n",
       "        vertical-align: middle;\n",
       "    }\n",
       "\n",
       "    .dataframe tbody tr th {\n",
       "        vertical-align: top;\n",
       "    }\n",
       "\n",
       "    .dataframe thead th {\n",
       "        text-align: right;\n",
       "    }\n",
       "</style>\n",
       "<table border=\"1\" class=\"dataframe\">\n",
       "  <thead>\n",
       "    <tr style=\"text-align: right;\">\n",
       "      <th></th>\n",
       "      <th>artist</th>\n",
       "      <th>gender</th>\n",
       "      <th>retrieved</th>\n",
       "      <th>genre</th>\n",
       "    </tr>\n",
       "  </thead>\n",
       "  <tbody>\n",
       "    <tr>\n",
       "      <th>1</th>\n",
       "      <td>Christopher Willits</td>\n",
       "      <td>male</td>\n",
       "      <td>Christopher_Willits</td>\n",
       "      <td>['electronic', 'glitch', 'ambient', 'electroac...</td>\n",
       "    </tr>\n",
       "    <tr>\n",
       "      <th>3</th>\n",
       "      <td>Shawn Hook</td>\n",
       "      <td>male</td>\n",
       "      <td>Shawn_Hook</td>\n",
       "      <td>['pop', 'electronic', 'rock']</td>\n",
       "    </tr>\n",
       "    <tr>\n",
       "      <th>4</th>\n",
       "      <td>Steve Poltz</td>\n",
       "      <td>male</td>\n",
       "      <td>Steve_Poltz</td>\n",
       "      <td>['pop rock', 'indie-rock', 'folk rock']</td>\n",
       "    </tr>\n",
       "    <tr>\n",
       "      <th>6</th>\n",
       "      <td>Marvin Isley</td>\n",
       "      <td>male</td>\n",
       "      <td>Marvin_Isley</td>\n",
       "      <td>['r&amp;b', 'funk', 'soul', 'funk rock']</td>\n",
       "    </tr>\n",
       "    <tr>\n",
       "      <th>7</th>\n",
       "      <td>Povel Ramel</td>\n",
       "      <td>male</td>\n",
       "      <td>Povel_Ramel</td>\n",
       "      <td>['vaudeville']</td>\n",
       "    </tr>\n",
       "  </tbody>\n",
       "</table>\n",
       "</div>"
      ],
      "text/plain": [
       "                artist gender            retrieved  \\\n",
       "1  Christopher Willits   male  Christopher_Willits   \n",
       "3           Shawn Hook   male           Shawn_Hook   \n",
       "4          Steve Poltz   male          Steve_Poltz   \n",
       "6         Marvin Isley   male         Marvin_Isley   \n",
       "7          Povel Ramel   male          Povel_Ramel   \n",
       "\n",
       "                                               genre  \n",
       "1  ['electronic', 'glitch', 'ambient', 'electroac...  \n",
       "3                      ['pop', 'electronic', 'rock']  \n",
       "4            ['pop rock', 'indie-rock', 'folk rock']  \n",
       "6               ['r&b', 'funk', 'soul', 'funk rock']  \n",
       "7                                     ['vaudeville']  "
      ]
     },
     "execution_count": 16,
     "metadata": {},
     "output_type": "execute_result"
    }
   ],
   "source": [
    "data.head()"
   ]
  },
  {
   "cell_type": "markdown",
   "metadata": {},
   "source": [
    "Take a glance at artist and retrieved values after cleaning retrieved to determine further cleaning:"
   ]
  },
  {
   "cell_type": "code",
   "execution_count": 17,
   "metadata": {},
   "outputs": [
    {
     "name": "stdout",
     "output_type": "stream",
     "text": [
      "artist: Lisa Brokop        retrieved: Lisa_Brokop\n",
      "artist: Shani Rigsbee        retrieved: Shani_Rigsbee\n",
      "artist: Hamish Stuart        retrieved: Hamish_Stuart\n",
      "artist: Dominique Eade        retrieved: Dominique_Eade\n",
      "artist: John C. J. Taylor        retrieved: John_C._J._Taylor\n",
      "artist: Phillip Mitchell        retrieved: Phillip_Mitchell\n",
      "artist: Meja        retrieved: Meja\n",
      "artist: Simon Underwood        retrieved: Simon_Underwood\n",
      "artist: Del Reeves        retrieved: Del_Reeves\n",
      "artist: Syleena Johnson        retrieved: Syleena_Johnson\n",
      "artist: Jimi Jamison        retrieved: Jimi_Jamison\n",
      "artist: John Spiker        retrieved: John_Spiker\n",
      "artist: Melissa Sgambelluri        retrieved: Melissa_Sgambelluri\n",
      "artist: Justin Hayford        retrieved: Justin_Hayford\n",
      "artist: Markus Fagervall        retrieved: Markus_Fagervall\n"
     ]
    }
   ],
   "source": [
    "rints = np.random.randint(0,data.shape[0],15) # generate 15 random numbers from 0 to k-1, with k = # of rows\n",
    "\n",
    "for n in rints:\n",
    "    print('artist: {}        retrieved: {}'.format(data.artist.iloc[n], data.retrieved.iloc[n]))"
   ]
  },
  {
   "cell_type": "markdown",
   "metadata": {},
   "source": [
    "## Replace spaces with _ in the artist column:"
   ]
  },
  {
   "cell_type": "code",
   "execution_count": 18,
   "metadata": {},
   "outputs": [],
   "source": [
    "\"\"\"This function replaces white space in the values of\n",
    "the column artist with an underscore.\"\"\"\n",
    "def underscore(text):\n",
    "    try:\n",
    "        split_name = text.split(' ')\n",
    "        return '_'.join(split_name)  \n",
    "    except:\n",
    "        return 'error'"
   ]
  },
  {
   "cell_type": "code",
   "execution_count": 19,
   "metadata": {},
   "outputs": [],
   "source": [
    "data['artist'] = data.artist.apply(underscore)"
   ]
  },
  {
   "cell_type": "code",
   "execution_count": 20,
   "metadata": {},
   "outputs": [
    {
     "data": {
      "text/html": [
       "<div>\n",
       "<style scoped>\n",
       "    .dataframe tbody tr th:only-of-type {\n",
       "        vertical-align: middle;\n",
       "    }\n",
       "\n",
       "    .dataframe tbody tr th {\n",
       "        vertical-align: top;\n",
       "    }\n",
       "\n",
       "    .dataframe thead th {\n",
       "        text-align: right;\n",
       "    }\n",
       "</style>\n",
       "<table border=\"1\" class=\"dataframe\">\n",
       "  <thead>\n",
       "    <tr style=\"text-align: right;\">\n",
       "      <th></th>\n",
       "      <th>artist</th>\n",
       "      <th>gender</th>\n",
       "      <th>retrieved</th>\n",
       "      <th>genre</th>\n",
       "    </tr>\n",
       "  </thead>\n",
       "  <tbody>\n",
       "    <tr>\n",
       "      <th>1</th>\n",
       "      <td>Christopher_Willits</td>\n",
       "      <td>male</td>\n",
       "      <td>Christopher_Willits</td>\n",
       "      <td>['electronic', 'glitch', 'ambient', 'electroac...</td>\n",
       "    </tr>\n",
       "    <tr>\n",
       "      <th>3</th>\n",
       "      <td>Shawn_Hook</td>\n",
       "      <td>male</td>\n",
       "      <td>Shawn_Hook</td>\n",
       "      <td>['pop', 'electronic', 'rock']</td>\n",
       "    </tr>\n",
       "    <tr>\n",
       "      <th>4</th>\n",
       "      <td>Steve_Poltz</td>\n",
       "      <td>male</td>\n",
       "      <td>Steve_Poltz</td>\n",
       "      <td>['pop rock', 'indie-rock', 'folk rock']</td>\n",
       "    </tr>\n",
       "    <tr>\n",
       "      <th>6</th>\n",
       "      <td>Marvin_Isley</td>\n",
       "      <td>male</td>\n",
       "      <td>Marvin_Isley</td>\n",
       "      <td>['r&amp;b', 'funk', 'soul', 'funk rock']</td>\n",
       "    </tr>\n",
       "    <tr>\n",
       "      <th>7</th>\n",
       "      <td>Povel_Ramel</td>\n",
       "      <td>male</td>\n",
       "      <td>Povel_Ramel</td>\n",
       "      <td>['vaudeville']</td>\n",
       "    </tr>\n",
       "  </tbody>\n",
       "</table>\n",
       "</div>"
      ],
      "text/plain": [
       "                artist gender            retrieved  \\\n",
       "1  Christopher_Willits   male  Christopher_Willits   \n",
       "3           Shawn_Hook   male           Shawn_Hook   \n",
       "4          Steve_Poltz   male          Steve_Poltz   \n",
       "6         Marvin_Isley   male         Marvin_Isley   \n",
       "7          Povel_Ramel   male          Povel_Ramel   \n",
       "\n",
       "                                               genre  \n",
       "1  ['electronic', 'glitch', 'ambient', 'electroac...  \n",
       "3                      ['pop', 'electronic', 'rock']  \n",
       "4            ['pop rock', 'indie-rock', 'folk rock']  \n",
       "6               ['r&b', 'funk', 'soul', 'funk rock']  \n",
       "7                                     ['vaudeville']  "
      ]
     },
     "execution_count": 20,
     "metadata": {},
     "output_type": "execute_result"
    }
   ],
   "source": [
    "data.head()"
   ]
  },
  {
   "cell_type": "markdown",
   "metadata": {},
   "source": [
    "## Remove the \\_(singer) type designation from retrieved"
   ]
  },
  {
   "cell_type": "code",
   "execution_count": 21,
   "metadata": {},
   "outputs": [],
   "source": [
    "\"\"\"This function uses re. to remove any parenthetical designations\n",
    "form the retrieved artist name\"\"\"\n",
    "def remove_designation(text):\n",
    "    designations = [r'_\\(singer\\)', r'_\\(musician\\)', r'_\\(rapper\\)', r'_\\(band\\)', r'_\\(composer\\)', r'_\\(music_producer\\)', r'_\\(singer-songwriter\\)' ]\n",
    "    x = text\n",
    "    for des in designations:\n",
    "        if re.search(des, x):\n",
    "            x = re.sub(r'{}'.format(des),'',text)\n",
    "    return x"
   ]
  },
  {
   "cell_type": "markdown",
   "metadata": {},
   "source": [
    "Apply the function:"
   ]
  },
  {
   "cell_type": "code",
   "execution_count": 22,
   "metadata": {},
   "outputs": [],
   "source": [
    "data['retrieved_clean'] = data.retrieved.apply(remove_designation)"
   ]
  },
  {
   "cell_type": "markdown",
   "metadata": {},
   "source": [
    "Take a glance at artist and retrieved_clean values:"
   ]
  },
  {
   "cell_type": "code",
   "execution_count": 23,
   "metadata": {},
   "outputs": [
    {
     "data": {
      "text/html": [
       "<div>\n",
       "<style scoped>\n",
       "    .dataframe tbody tr th:only-of-type {\n",
       "        vertical-align: middle;\n",
       "    }\n",
       "\n",
       "    .dataframe tbody tr th {\n",
       "        vertical-align: top;\n",
       "    }\n",
       "\n",
       "    .dataframe thead th {\n",
       "        text-align: right;\n",
       "    }\n",
       "</style>\n",
       "<table border=\"1\" class=\"dataframe\">\n",
       "  <thead>\n",
       "    <tr style=\"text-align: right;\">\n",
       "      <th></th>\n",
       "      <th>artist</th>\n",
       "      <th>retrieved_clean</th>\n",
       "    </tr>\n",
       "  </thead>\n",
       "  <tbody>\n",
       "    <tr>\n",
       "      <th>4639</th>\n",
       "      <td>John_Schlitt</td>\n",
       "      <td>John_Schlitt</td>\n",
       "    </tr>\n",
       "    <tr>\n",
       "      <th>6657</th>\n",
       "      <td>Jack_Hues</td>\n",
       "      <td>Jack_Hues</td>\n",
       "    </tr>\n",
       "    <tr>\n",
       "      <th>8250</th>\n",
       "      <td>Paris_Bennett</td>\n",
       "      <td>Paris_Bennett</td>\n",
       "    </tr>\n",
       "    <tr>\n",
       "      <th>3281</th>\n",
       "      <td>Julian_Velard</td>\n",
       "      <td>Julian_Velard</td>\n",
       "    </tr>\n",
       "    <tr>\n",
       "      <th>9987</th>\n",
       "      <td>Chingy</td>\n",
       "      <td>Chingy</td>\n",
       "    </tr>\n",
       "    <tr>\n",
       "      <th>12032</th>\n",
       "      <td>Deesha</td>\n",
       "      <td>Deesha</td>\n",
       "    </tr>\n",
       "    <tr>\n",
       "      <th>9981</th>\n",
       "      <td>Jamie_Oldaker</td>\n",
       "      <td>Jamie_Oldaker</td>\n",
       "    </tr>\n",
       "    <tr>\n",
       "      <th>6919</th>\n",
       "      <td>Pearl_Future</td>\n",
       "      <td>Pearl_Future</td>\n",
       "    </tr>\n",
       "    <tr>\n",
       "      <th>10485</th>\n",
       "      <td>Vince_Taylor</td>\n",
       "      <td>Vince_Taylor</td>\n",
       "    </tr>\n",
       "    <tr>\n",
       "      <th>15091</th>\n",
       "      <td>Tarsame_Singh_Saini</td>\n",
       "      <td>Tarsame_Singh_Saini</td>\n",
       "    </tr>\n",
       "    <tr>\n",
       "      <th>16312</th>\n",
       "      <td>Bradford_Cox</td>\n",
       "      <td>Bradford_Cox</td>\n",
       "    </tr>\n",
       "    <tr>\n",
       "      <th>3036</th>\n",
       "      <td>Chubby_Checker</td>\n",
       "      <td>Chubby_Checker</td>\n",
       "    </tr>\n",
       "    <tr>\n",
       "      <th>12532</th>\n",
       "      <td>Charlie_Dominici</td>\n",
       "      <td>Charlie_Dominici</td>\n",
       "    </tr>\n",
       "    <tr>\n",
       "      <th>1680</th>\n",
       "      <td>C._P._Spencer</td>\n",
       "      <td>C._P._Spencer</td>\n",
       "    </tr>\n",
       "    <tr>\n",
       "      <th>5639</th>\n",
       "      <td>La_Grande_Sophie</td>\n",
       "      <td>La_Grande_Sophie</td>\n",
       "    </tr>\n",
       "  </tbody>\n",
       "</table>\n",
       "</div>"
      ],
      "text/plain": [
       "                    artist      retrieved_clean\n",
       "4639          John_Schlitt         John_Schlitt\n",
       "6657             Jack_Hues            Jack_Hues\n",
       "8250         Paris_Bennett        Paris_Bennett\n",
       "3281         Julian_Velard        Julian_Velard\n",
       "9987                Chingy               Chingy\n",
       "12032               Deesha               Deesha\n",
       "9981         Jamie_Oldaker        Jamie_Oldaker\n",
       "6919          Pearl_Future         Pearl_Future\n",
       "10485         Vince_Taylor         Vince_Taylor\n",
       "15091  Tarsame_Singh_Saini  Tarsame_Singh_Saini\n",
       "16312         Bradford_Cox         Bradford_Cox\n",
       "3036        Chubby_Checker       Chubby_Checker\n",
       "12532     Charlie_Dominici     Charlie_Dominici\n",
       "1680         C._P._Spencer        C._P._Spencer\n",
       "5639      La_Grande_Sophie     La_Grande_Sophie"
      ]
     },
     "execution_count": 23,
     "metadata": {},
     "output_type": "execute_result"
    }
   ],
   "source": [
    "rints = np.random.randint(0,data.shape[0],15) # generate 15 random numbers from 0 to k-1, with k = # of rows\n",
    "\n",
    "data[['artist','retrieved_clean']].iloc[rints]"
   ]
  },
  {
   "cell_type": "markdown",
   "metadata": {},
   "source": [
    "### Mark the rows for which retrieved_clean is different from artist"
   ]
  },
  {
   "cell_type": "code",
   "execution_count": 24,
   "metadata": {},
   "outputs": [],
   "source": [
    "\"\"\"This function takes a pair of strings and checks\n",
    "if they are equivalent (case insensitive)\n",
    "\n",
    ".casefold is used to be case insensitive; \n",
    "still might have problems on some characters\"\"\"\n",
    "\n",
    "def verify_artist(x,y):\n",
    "    if x.casefold() == y.casefold(): \n",
    "        return 1\n",
    "    else:\n",
    "        return 0"
   ]
  },
  {
   "cell_type": "markdown",
   "metadata": {},
   "source": [
    "Introduce a mismatch just to make sure we can properly remove these:"
   ]
  },
  {
   "cell_type": "code",
   "execution_count": 25,
   "metadata": {},
   "outputs": [],
   "source": [
    "# use an iloc index larger than the size of the original dataframe\n",
    "#data.iloc[data.shape[0]+1] = ['test','test_wrong','universal','test_wrong']"
   ]
  },
  {
   "cell_type": "markdown",
   "metadata": {},
   "source": [
    "Apply the function:"
   ]
  },
  {
   "cell_type": "code",
   "execution_count": 26,
   "metadata": {},
   "outputs": [],
   "source": [
    "data['match'] = (data.artist.apply(lambda x: x.casefold()) != data.retrieved_clean.apply(lambda x: x.casefold())).astype('int64')"
   ]
  },
  {
   "cell_type": "code",
   "execution_count": 27,
   "metadata": {},
   "outputs": [
    {
     "data": {
      "text/html": [
       "<div>\n",
       "<style scoped>\n",
       "    .dataframe tbody tr th:only-of-type {\n",
       "        vertical-align: middle;\n",
       "    }\n",
       "\n",
       "    .dataframe tbody tr th {\n",
       "        vertical-align: top;\n",
       "    }\n",
       "\n",
       "    .dataframe thead th {\n",
       "        text-align: right;\n",
       "    }\n",
       "</style>\n",
       "<table border=\"1\" class=\"dataframe\">\n",
       "  <thead>\n",
       "    <tr style=\"text-align: right;\">\n",
       "      <th></th>\n",
       "      <th>artist</th>\n",
       "      <th>gender</th>\n",
       "      <th>retrieved</th>\n",
       "      <th>genre</th>\n",
       "      <th>retrieved_clean</th>\n",
       "      <th>match</th>\n",
       "    </tr>\n",
       "  </thead>\n",
       "  <tbody>\n",
       "    <tr>\n",
       "      <th>1</th>\n",
       "      <td>Christopher_Willits</td>\n",
       "      <td>male</td>\n",
       "      <td>Christopher_Willits</td>\n",
       "      <td>['electronic', 'glitch', 'ambient', 'electroac...</td>\n",
       "      <td>Christopher_Willits</td>\n",
       "      <td>0</td>\n",
       "    </tr>\n",
       "    <tr>\n",
       "      <th>3</th>\n",
       "      <td>Shawn_Hook</td>\n",
       "      <td>male</td>\n",
       "      <td>Shawn_Hook</td>\n",
       "      <td>['pop', 'electronic', 'rock']</td>\n",
       "      <td>Shawn_Hook</td>\n",
       "      <td>0</td>\n",
       "    </tr>\n",
       "    <tr>\n",
       "      <th>4</th>\n",
       "      <td>Steve_Poltz</td>\n",
       "      <td>male</td>\n",
       "      <td>Steve_Poltz</td>\n",
       "      <td>['pop rock', 'indie-rock', 'folk rock']</td>\n",
       "      <td>Steve_Poltz</td>\n",
       "      <td>0</td>\n",
       "    </tr>\n",
       "    <tr>\n",
       "      <th>6</th>\n",
       "      <td>Marvin_Isley</td>\n",
       "      <td>male</td>\n",
       "      <td>Marvin_Isley</td>\n",
       "      <td>['r&amp;b', 'funk', 'soul', 'funk rock']</td>\n",
       "      <td>Marvin_Isley</td>\n",
       "      <td>0</td>\n",
       "    </tr>\n",
       "    <tr>\n",
       "      <th>7</th>\n",
       "      <td>Povel_Ramel</td>\n",
       "      <td>male</td>\n",
       "      <td>Povel_Ramel</td>\n",
       "      <td>['vaudeville']</td>\n",
       "      <td>Povel_Ramel</td>\n",
       "      <td>0</td>\n",
       "    </tr>\n",
       "  </tbody>\n",
       "</table>\n",
       "</div>"
      ],
      "text/plain": [
       "                artist gender            retrieved  \\\n",
       "1  Christopher_Willits   male  Christopher_Willits   \n",
       "3           Shawn_Hook   male           Shawn_Hook   \n",
       "4          Steve_Poltz   male          Steve_Poltz   \n",
       "6         Marvin_Isley   male         Marvin_Isley   \n",
       "7          Povel_Ramel   male          Povel_Ramel   \n",
       "\n",
       "                                               genre      retrieved_clean  \\\n",
       "1  ['electronic', 'glitch', 'ambient', 'electroac...  Christopher_Willits   \n",
       "3                      ['pop', 'electronic', 'rock']           Shawn_Hook   \n",
       "4            ['pop rock', 'indie-rock', 'folk rock']          Steve_Poltz   \n",
       "6               ['r&b', 'funk', 'soul', 'funk rock']         Marvin_Isley   \n",
       "7                                     ['vaudeville']          Povel_Ramel   \n",
       "\n",
       "   match  \n",
       "1      0  \n",
       "3      0  \n",
       "4      0  \n",
       "6      0  \n",
       "7      0  "
      ]
     },
     "execution_count": 27,
     "metadata": {},
     "output_type": "execute_result"
    }
   ],
   "source": [
    "data.head()"
   ]
  },
  {
   "cell_type": "code",
   "execution_count": 28,
   "metadata": {},
   "outputs": [
    {
     "data": {
      "text/plain": [
       "0"
      ]
     },
     "execution_count": 28,
     "metadata": {},
     "output_type": "execute_result"
    }
   ],
   "source": [
    "data.match.sum()"
   ]
  },
  {
   "cell_type": "markdown",
   "metadata": {},
   "source": [
    "Now remove artists where retrieved_clean doesn't match artist:"
   ]
  },
  {
   "cell_type": "code",
   "execution_count": 29,
   "metadata": {},
   "outputs": [],
   "source": [
    "data = data[data.match == 0].copy(deep = True)"
   ]
  },
  {
   "cell_type": "code",
   "execution_count": 30,
   "metadata": {
    "scrolled": true
   },
   "outputs": [
    {
     "data": {
      "text/html": [
       "<div>\n",
       "<style scoped>\n",
       "    .dataframe tbody tr th:only-of-type {\n",
       "        vertical-align: middle;\n",
       "    }\n",
       "\n",
       "    .dataframe tbody tr th {\n",
       "        vertical-align: top;\n",
       "    }\n",
       "\n",
       "    .dataframe thead th {\n",
       "        text-align: right;\n",
       "    }\n",
       "</style>\n",
       "<table border=\"1\" class=\"dataframe\">\n",
       "  <thead>\n",
       "    <tr style=\"text-align: right;\">\n",
       "      <th></th>\n",
       "      <th>artist</th>\n",
       "      <th>gender</th>\n",
       "      <th>retrieved</th>\n",
       "      <th>genre</th>\n",
       "      <th>retrieved_clean</th>\n",
       "      <th>match</th>\n",
       "    </tr>\n",
       "  </thead>\n",
       "  <tbody>\n",
       "    <tr>\n",
       "      <th>1</th>\n",
       "      <td>Christopher_Willits</td>\n",
       "      <td>male</td>\n",
       "      <td>Christopher_Willits</td>\n",
       "      <td>['electronic', 'glitch', 'ambient', 'electroac...</td>\n",
       "      <td>Christopher_Willits</td>\n",
       "      <td>0</td>\n",
       "    </tr>\n",
       "    <tr>\n",
       "      <th>3</th>\n",
       "      <td>Shawn_Hook</td>\n",
       "      <td>male</td>\n",
       "      <td>Shawn_Hook</td>\n",
       "      <td>['pop', 'electronic', 'rock']</td>\n",
       "      <td>Shawn_Hook</td>\n",
       "      <td>0</td>\n",
       "    </tr>\n",
       "    <tr>\n",
       "      <th>4</th>\n",
       "      <td>Steve_Poltz</td>\n",
       "      <td>male</td>\n",
       "      <td>Steve_Poltz</td>\n",
       "      <td>['pop rock', 'indie-rock', 'folk rock']</td>\n",
       "      <td>Steve_Poltz</td>\n",
       "      <td>0</td>\n",
       "    </tr>\n",
       "    <tr>\n",
       "      <th>6</th>\n",
       "      <td>Marvin_Isley</td>\n",
       "      <td>male</td>\n",
       "      <td>Marvin_Isley</td>\n",
       "      <td>['r&amp;b', 'funk', 'soul', 'funk rock']</td>\n",
       "      <td>Marvin_Isley</td>\n",
       "      <td>0</td>\n",
       "    </tr>\n",
       "    <tr>\n",
       "      <th>7</th>\n",
       "      <td>Povel_Ramel</td>\n",
       "      <td>male</td>\n",
       "      <td>Povel_Ramel</td>\n",
       "      <td>['vaudeville']</td>\n",
       "      <td>Povel_Ramel</td>\n",
       "      <td>0</td>\n",
       "    </tr>\n",
       "  </tbody>\n",
       "</table>\n",
       "</div>"
      ],
      "text/plain": [
       "                artist gender            retrieved  \\\n",
       "1  Christopher_Willits   male  Christopher_Willits   \n",
       "3           Shawn_Hook   male           Shawn_Hook   \n",
       "4          Steve_Poltz   male          Steve_Poltz   \n",
       "6         Marvin_Isley   male         Marvin_Isley   \n",
       "7          Povel_Ramel   male          Povel_Ramel   \n",
       "\n",
       "                                               genre      retrieved_clean  \\\n",
       "1  ['electronic', 'glitch', 'ambient', 'electroac...  Christopher_Willits   \n",
       "3                      ['pop', 'electronic', 'rock']           Shawn_Hook   \n",
       "4            ['pop rock', 'indie-rock', 'folk rock']          Steve_Poltz   \n",
       "6               ['r&b', 'funk', 'soul', 'funk rock']         Marvin_Isley   \n",
       "7                                     ['vaudeville']          Povel_Ramel   \n",
       "\n",
       "   match  \n",
       "1      0  \n",
       "3      0  \n",
       "4      0  \n",
       "6      0  \n",
       "7      0  "
      ]
     },
     "execution_count": 30,
     "metadata": {},
     "output_type": "execute_result"
    }
   ],
   "source": [
    "data.head()"
   ]
  },
  {
   "cell_type": "markdown",
   "metadata": {},
   "source": [
    "Now the remaining artists are verified and have non-null genre label. "
   ]
  },
  {
   "cell_type": "code",
   "execution_count": 31,
   "metadata": {},
   "outputs": [],
   "source": [
    "data = data.copy( deep = True)"
   ]
  },
  {
   "cell_type": "markdown",
   "metadata": {},
   "source": [
    "# Genre Labels\n",
    "\n",
    "Each value of the genre column is a _string_ of comma separated genre labels using the spotify abbreviations. We want to convert it to a _list_ of strings."
   ]
  },
  {
   "cell_type": "markdown",
   "metadata": {},
   "source": [
    "### Problems! \n",
    "\n",
    "Strings to search for to possibly correct:\n",
    "\n",
    "- [ ] 'and' -- too many!\n",
    "- [x] '\\'\n",
    "- [x] 'r&g' -- OK - rhythm and grime\n",
    "- [x] '*'\n",
    "- [x] '_·_' -- added genrelist function; replaced with comma\n",
    "- [ ] search for all non-letters\n",
    "- [x] 'descriptors'- '|'\n",
    "- [x] 'rock_folk_-rock_rock_-electronic_ballad'\n",
    "- [x] 'hillbilly_rockabilly_r&b'\n",
    "- [x] '-' at the beggining of a string\n",
    "- [x] '\\xa0' (no break space)\n",
    "\n",
    "More examples:\n",
    "\n",
    "- [x] 'hardcore\\\\\\\\xa0punk'\n",
    "- [x] 'country_·_americana_·_folk_·_singer_songwriter'\n",
    "- [x] 'blues_soul_r_&_b_gospel_funk_folk'\n",
    "- [x] 'college\\\\\\\\xa0rock'\n",
    "- [ ] 'gospel_and_gospel_blues'\n",
    "\n",
    "Clearly some of these need to be parsed into common genres. "
   ]
  },
  {
   "cell_type": "code",
   "execution_count": 32,
   "metadata": {},
   "outputs": [],
   "source": [
    "#data.artist[data.genre.str.contains(\"christian\")]"
   ]
  },
  {
   "cell_type": "code",
   "execution_count": 33,
   "metadata": {},
   "outputs": [
    {
     "data": {
      "text/html": [
       "<div>\n",
       "<style scoped>\n",
       "    .dataframe tbody tr th:only-of-type {\n",
       "        vertical-align: middle;\n",
       "    }\n",
       "\n",
       "    .dataframe tbody tr th {\n",
       "        vertical-align: top;\n",
       "    }\n",
       "\n",
       "    .dataframe thead th {\n",
       "        text-align: right;\n",
       "    }\n",
       "</style>\n",
       "<table border=\"1\" class=\"dataframe\">\n",
       "  <thead>\n",
       "    <tr style=\"text-align: right;\">\n",
       "      <th></th>\n",
       "      <th>artist</th>\n",
       "      <th>gender</th>\n",
       "      <th>retrieved</th>\n",
       "      <th>genre</th>\n",
       "      <th>retrieved_clean</th>\n",
       "      <th>match</th>\n",
       "    </tr>\n",
       "  </thead>\n",
       "  <tbody>\n",
       "    <tr>\n",
       "      <th>1</th>\n",
       "      <td>Christopher_Willits</td>\n",
       "      <td>male</td>\n",
       "      <td>Christopher_Willits</td>\n",
       "      <td>['electronic', 'glitch', 'ambient', 'electroac...</td>\n",
       "      <td>Christopher_Willits</td>\n",
       "      <td>0</td>\n",
       "    </tr>\n",
       "    <tr>\n",
       "      <th>3</th>\n",
       "      <td>Shawn_Hook</td>\n",
       "      <td>male</td>\n",
       "      <td>Shawn_Hook</td>\n",
       "      <td>['pop', 'electronic', 'rock']</td>\n",
       "      <td>Shawn_Hook</td>\n",
       "      <td>0</td>\n",
       "    </tr>\n",
       "    <tr>\n",
       "      <th>4</th>\n",
       "      <td>Steve_Poltz</td>\n",
       "      <td>male</td>\n",
       "      <td>Steve_Poltz</td>\n",
       "      <td>['pop rock', 'indie-rock', 'folk rock']</td>\n",
       "      <td>Steve_Poltz</td>\n",
       "      <td>0</td>\n",
       "    </tr>\n",
       "    <tr>\n",
       "      <th>6</th>\n",
       "      <td>Marvin_Isley</td>\n",
       "      <td>male</td>\n",
       "      <td>Marvin_Isley</td>\n",
       "      <td>['r&amp;b', 'funk', 'soul', 'funk rock']</td>\n",
       "      <td>Marvin_Isley</td>\n",
       "      <td>0</td>\n",
       "    </tr>\n",
       "    <tr>\n",
       "      <th>7</th>\n",
       "      <td>Povel_Ramel</td>\n",
       "      <td>male</td>\n",
       "      <td>Povel_Ramel</td>\n",
       "      <td>['vaudeville']</td>\n",
       "      <td>Povel_Ramel</td>\n",
       "      <td>0</td>\n",
       "    </tr>\n",
       "  </tbody>\n",
       "</table>\n",
       "</div>"
      ],
      "text/plain": [
       "                artist gender            retrieved  \\\n",
       "1  Christopher_Willits   male  Christopher_Willits   \n",
       "3           Shawn_Hook   male           Shawn_Hook   \n",
       "4          Steve_Poltz   male          Steve_Poltz   \n",
       "6         Marvin_Isley   male         Marvin_Isley   \n",
       "7          Povel_Ramel   male          Povel_Ramel   \n",
       "\n",
       "                                               genre      retrieved_clean  \\\n",
       "1  ['electronic', 'glitch', 'ambient', 'electroac...  Christopher_Willits   \n",
       "3                      ['pop', 'electronic', 'rock']           Shawn_Hook   \n",
       "4            ['pop rock', 'indie-rock', 'folk rock']          Steve_Poltz   \n",
       "6               ['r&b', 'funk', 'soul', 'funk rock']         Marvin_Isley   \n",
       "7                                     ['vaudeville']          Povel_Ramel   \n",
       "\n",
       "   match  \n",
       "1      0  \n",
       "3      0  \n",
       "4      0  \n",
       "6      0  \n",
       "7      0  "
      ]
     },
     "execution_count": 33,
     "metadata": {},
     "output_type": "execute_result"
    }
   ],
   "source": [
    "data.head()"
   ]
  },
  {
   "cell_type": "code",
   "execution_count": 34,
   "metadata": {},
   "outputs": [
    {
     "data": {
      "text/plain": [
       "0"
      ]
     },
     "execution_count": 34,
     "metadata": {},
     "output_type": "execute_result"
    }
   ],
   "source": [
    "data.genre.isnull().sum()"
   ]
  },
  {
   "cell_type": "code",
   "execution_count": null,
   "metadata": {},
   "outputs": [],
   "source": []
  },
  {
   "cell_type": "markdown",
   "metadata": {},
   "source": [
    "# Move this section into a script that is run here"
   ]
  },
  {
   "cell_type": "markdown",
   "metadata": {},
   "source": [
    "## Deal with unusual cases by hand:"
   ]
  },
  {
   "cell_type": "markdown",
   "metadata": {},
   "source": [
    "Remove any '*' (moved to general cleaning function below)"
   ]
  },
  {
   "cell_type": "code",
   "execution_count": 42,
   "metadata": {},
   "outputs": [
    {
     "data": {
      "text/html": [
       "<div>\n",
       "<style scoped>\n",
       "    .dataframe tbody tr th:only-of-type {\n",
       "        vertical-align: middle;\n",
       "    }\n",
       "\n",
       "    .dataframe tbody tr th {\n",
       "        vertical-align: top;\n",
       "    }\n",
       "\n",
       "    .dataframe thead th {\n",
       "        text-align: right;\n",
       "    }\n",
       "</style>\n",
       "<table border=\"1\" class=\"dataframe\">\n",
       "  <thead>\n",
       "    <tr style=\"text-align: right;\">\n",
       "      <th></th>\n",
       "      <th>artist</th>\n",
       "      <th>gender</th>\n",
       "      <th>retrieved</th>\n",
       "      <th>genre</th>\n",
       "      <th>retrieved_clean</th>\n",
       "      <th>match</th>\n",
       "    </tr>\n",
       "  </thead>\n",
       "  <tbody>\n",
       "    <tr>\n",
       "      <th>6650</th>\n",
       "      <td>RY_X</td>\n",
       "      <td>male</td>\n",
       "      <td>RY_X</td>\n",
       "      <td>['ambient pop', 'folktronica', 'indietronica',...</td>\n",
       "      <td>RY_X</td>\n",
       "      <td>0</td>\n",
       "    </tr>\n",
       "  </tbody>\n",
       "</table>\n",
       "</div>"
      ],
      "text/plain": [
       "     artist gender retrieved  \\\n",
       "6650   RY_X   male      RY_X   \n",
       "\n",
       "                                                  genre retrieved_clean  match  \n",
       "6650  ['ambient pop', 'folktronica', 'indietronica',...            RY_X      0  "
      ]
     },
     "execution_count": 42,
     "metadata": {},
     "output_type": "execute_result"
    }
   ],
   "source": [
    "data[data.genre.str.contains(r'descriptors\\\\')]"
   ]
  },
  {
   "cell_type": "code",
   "execution_count": 43,
   "metadata": {},
   "outputs": [],
   "source": [
    "data.genre.at[6650] = \"['ambient pop', 'folktronica', 'indietronica', 'indie folk']\""
   ]
  },
  {
   "cell_type": "code",
   "execution_count": 44,
   "metadata": {},
   "outputs": [
    {
     "data": {
      "text/html": [
       "<div>\n",
       "<style scoped>\n",
       "    .dataframe tbody tr th:only-of-type {\n",
       "        vertical-align: middle;\n",
       "    }\n",
       "\n",
       "    .dataframe tbody tr th {\n",
       "        vertical-align: top;\n",
       "    }\n",
       "\n",
       "    .dataframe thead th {\n",
       "        text-align: right;\n",
       "    }\n",
       "</style>\n",
       "<table border=\"1\" class=\"dataframe\">\n",
       "  <thead>\n",
       "    <tr style=\"text-align: right;\">\n",
       "      <th></th>\n",
       "      <th>artist</th>\n",
       "      <th>gender</th>\n",
       "      <th>retrieved</th>\n",
       "      <th>genre</th>\n",
       "      <th>retrieved_clean</th>\n",
       "      <th>match</th>\n",
       "    </tr>\n",
       "  </thead>\n",
       "  <tbody>\n",
       "    <tr>\n",
       "      <th>17600</th>\n",
       "      <td>Ben_Moody</td>\n",
       "      <td>male</td>\n",
       "      <td>Ben_Moody</td>\n",
       "      <td>['alternative rock', 'alternative metal', '\\u2...</td>\n",
       "      <td>Ben_Moody</td>\n",
       "      <td>0</td>\n",
       "    </tr>\n",
       "  </tbody>\n",
       "</table>\n",
       "</div>"
      ],
      "text/plain": [
       "          artist gender  retrieved  \\\n",
       "17600  Ben_Moody   male  Ben_Moody   \n",
       "\n",
       "                                                   genre retrieved_clean  \\\n",
       "17600  ['alternative rock', 'alternative metal', '\\u2...       Ben_Moody   \n",
       "\n",
       "       match  \n",
       "17600      0  "
      ]
     },
     "execution_count": 44,
     "metadata": {},
     "output_type": "execute_result"
    }
   ],
   "source": [
    "data[data.genre.str.contains(r'\\\\u2060')]"
   ]
  },
  {
   "cell_type": "code",
   "execution_count": 45,
   "metadata": {},
   "outputs": [
    {
     "data": {
      "text/plain": [
       "\"['alternative rock', 'alternative metal', '\\\\u2060', 'nu metal', 'gothic metal']\""
      ]
     },
     "execution_count": 45,
     "metadata": {},
     "output_type": "execute_result"
    }
   ],
   "source": [
    "data.genre.loc[17600]"
   ]
  },
  {
   "cell_type": "code",
   "execution_count": 46,
   "metadata": {},
   "outputs": [],
   "source": [
    "data.genre.at[17600] = \"['alternative rock', 'alternative metal', 'nu metal', 'gothic metal']\""
   ]
  },
  {
   "cell_type": "code",
   "execution_count": 47,
   "metadata": {},
   "outputs": [
    {
     "data": {
      "text/html": [
       "<div>\n",
       "<style scoped>\n",
       "    .dataframe tbody tr th:only-of-type {\n",
       "        vertical-align: middle;\n",
       "    }\n",
       "\n",
       "    .dataframe tbody tr th {\n",
       "        vertical-align: top;\n",
       "    }\n",
       "\n",
       "    .dataframe thead th {\n",
       "        text-align: right;\n",
       "    }\n",
       "</style>\n",
       "<table border=\"1\" class=\"dataframe\">\n",
       "  <thead>\n",
       "    <tr style=\"text-align: right;\">\n",
       "      <th></th>\n",
       "      <th>artist</th>\n",
       "      <th>gender</th>\n",
       "      <th>retrieved</th>\n",
       "      <th>genre</th>\n",
       "      <th>retrieved_clean</th>\n",
       "      <th>match</th>\n",
       "    </tr>\n",
       "  </thead>\n",
       "  <tbody>\n",
       "    <tr>\n",
       "      <th>646</th>\n",
       "      <td>Gabriel_Wilson</td>\n",
       "      <td>male</td>\n",
       "      <td>Gabriel_Wilson</td>\n",
       "      <td>['christian &amp; gospel', 'independent\\nsinger/so...</td>\n",
       "      <td>Gabriel_Wilson</td>\n",
       "      <td>0</td>\n",
       "    </tr>\n",
       "    <tr>\n",
       "      <th>1306</th>\n",
       "      <td>Eric_Gaffney</td>\n",
       "      <td>male</td>\n",
       "      <td>Eric_Gaffney</td>\n",
       "      <td>['alternative rock', 'indie rock', 'lo-fi', 'h...</td>\n",
       "      <td>Eric_Gaffney</td>\n",
       "      <td>0</td>\n",
       "    </tr>\n",
       "    <tr>\n",
       "      <th>3015</th>\n",
       "      <td>Michael_Stipe</td>\n",
       "      <td>male</td>\n",
       "      <td>Michael_Stipe</td>\n",
       "      <td>['alternative\\xa0rock', 'folk rock', 'college\\...</td>\n",
       "      <td>Michael_Stipe</td>\n",
       "      <td>0</td>\n",
       "    </tr>\n",
       "    <tr>\n",
       "      <th>8147</th>\n",
       "      <td>John_Wesley_Harding</td>\n",
       "      <td>male</td>\n",
       "      <td>John_Wesley_Harding_(singer)</td>\n",
       "      <td>['singer-songwriter rock\\npop', 'folk']</td>\n",
       "      <td>John_Wesley_Harding</td>\n",
       "      <td>0</td>\n",
       "    </tr>\n",
       "    <tr>\n",
       "      <th>9899</th>\n",
       "      <td>Marcus_Singletary</td>\n",
       "      <td>male</td>\n",
       "      <td>Marcus_Singletary</td>\n",
       "      <td>['rock', 'progressive\\xa0rock', 'jazz', 'jazz ...</td>\n",
       "      <td>Marcus_Singletary</td>\n",
       "      <td>0</td>\n",
       "    </tr>\n",
       "    <tr>\n",
       "      <th>16275</th>\n",
       "      <td>Patrick_Dennis</td>\n",
       "      <td>male</td>\n",
       "      <td>Patrick_Dennis_(musician)</td>\n",
       "      <td>['alternative rock', 'indie rock', 'alternativ...</td>\n",
       "      <td>Patrick_Dennis</td>\n",
       "      <td>0</td>\n",
       "    </tr>\n",
       "    <tr>\n",
       "      <th>16726</th>\n",
       "      <td>Jamal_Millner</td>\n",
       "      <td>male</td>\n",
       "      <td>Jamal_Millner</td>\n",
       "      <td>['black american music \\nwestern european art ...</td>\n",
       "      <td>Jamal_Millner</td>\n",
       "      <td>0</td>\n",
       "    </tr>\n",
       "    <tr>\n",
       "      <th>19018</th>\n",
       "      <td>Lance_King</td>\n",
       "      <td>male</td>\n",
       "      <td>Lance_King</td>\n",
       "      <td>['heavy metal', 'power metal', 'progressive me...</td>\n",
       "      <td>Lance_King</td>\n",
       "      <td>0</td>\n",
       "    </tr>\n",
       "  </tbody>\n",
       "</table>\n",
       "</div>"
      ],
      "text/plain": [
       "                    artist gender                     retrieved  \\\n",
       "646         Gabriel_Wilson   male                Gabriel_Wilson   \n",
       "1306          Eric_Gaffney   male                  Eric_Gaffney   \n",
       "3015         Michael_Stipe   male                 Michael_Stipe   \n",
       "8147   John_Wesley_Harding   male  John_Wesley_Harding_(singer)   \n",
       "9899     Marcus_Singletary   male             Marcus_Singletary   \n",
       "16275       Patrick_Dennis   male     Patrick_Dennis_(musician)   \n",
       "16726        Jamal_Millner   male                 Jamal_Millner   \n",
       "19018           Lance_King   male                    Lance_King   \n",
       "\n",
       "                                                   genre      retrieved_clean  \\\n",
       "646    ['christian & gospel', 'independent\\nsinger/so...       Gabriel_Wilson   \n",
       "1306   ['alternative rock', 'indie rock', 'lo-fi', 'h...         Eric_Gaffney   \n",
       "3015   ['alternative\\xa0rock', 'folk rock', 'college\\...        Michael_Stipe   \n",
       "8147             ['singer-songwriter rock\\npop', 'folk']  John_Wesley_Harding   \n",
       "9899   ['rock', 'progressive\\xa0rock', 'jazz', 'jazz ...    Marcus_Singletary   \n",
       "16275  ['alternative rock', 'indie rock', 'alternativ...       Patrick_Dennis   \n",
       "16726  ['black american music \\nwestern european art ...        Jamal_Millner   \n",
       "19018  ['heavy metal', 'power metal', 'progressive me...           Lance_King   \n",
       "\n",
       "       match  \n",
       "646        0  \n",
       "1306       0  \n",
       "3015       0  \n",
       "8147       0  \n",
       "9899       0  \n",
       "16275      0  \n",
       "16726      0  \n",
       "19018      0  "
      ]
     },
     "execution_count": 47,
     "metadata": {},
     "output_type": "execute_result"
    }
   ],
   "source": [
    "data[data.genre.str.contains(r'\\\\')]"
   ]
  },
  {
   "cell_type": "code",
   "execution_count": 48,
   "metadata": {},
   "outputs": [
    {
     "data": {
      "text/html": [
       "<div>\n",
       "<style scoped>\n",
       "    .dataframe tbody tr th:only-of-type {\n",
       "        vertical-align: middle;\n",
       "    }\n",
       "\n",
       "    .dataframe tbody tr th {\n",
       "        vertical-align: top;\n",
       "    }\n",
       "\n",
       "    .dataframe thead th {\n",
       "        text-align: right;\n",
       "    }\n",
       "</style>\n",
       "<table border=\"1\" class=\"dataframe\">\n",
       "  <thead>\n",
       "    <tr style=\"text-align: right;\">\n",
       "      <th></th>\n",
       "      <th>artist</th>\n",
       "      <th>gender</th>\n",
       "      <th>retrieved</th>\n",
       "      <th>genre</th>\n",
       "      <th>retrieved_clean</th>\n",
       "      <th>match</th>\n",
       "    </tr>\n",
       "  </thead>\n",
       "  <tbody>\n",
       "    <tr>\n",
       "      <th>11961</th>\n",
       "      <td>Sarana_VerLin</td>\n",
       "      <td>female</td>\n",
       "      <td>Sarana_VerLin</td>\n",
       "      <td>['celticana - a blend of rock', 'pop', 'folk',...</td>\n",
       "      <td>Sarana_VerLin</td>\n",
       "      <td>0</td>\n",
       "    </tr>\n",
       "    <tr>\n",
       "      <th>13278</th>\n",
       "      <td>Jane_Castro</td>\n",
       "      <td>female</td>\n",
       "      <td>Jane_Castro</td>\n",
       "      <td>['pop', ' house music - latin american']</td>\n",
       "      <td>Jane_Castro</td>\n",
       "      <td>0</td>\n",
       "    </tr>\n",
       "    <tr>\n",
       "      <th>15232</th>\n",
       "      <td>Declan_Galbraith</td>\n",
       "      <td>male</td>\n",
       "      <td>Declan_Galbraith</td>\n",
       "      <td>['pop', 'rock folk -rock rock -electronic ball...</td>\n",
       "      <td>Declan_Galbraith</td>\n",
       "      <td>0</td>\n",
       "    </tr>\n",
       "  </tbody>\n",
       "</table>\n",
       "</div>"
      ],
      "text/plain": [
       "                 artist  gender         retrieved  \\\n",
       "11961     Sarana_VerLin  female     Sarana_VerLin   \n",
       "13278       Jane_Castro  female       Jane_Castro   \n",
       "15232  Declan_Galbraith    male  Declan_Galbraith   \n",
       "\n",
       "                                                   genre   retrieved_clean  \\\n",
       "11961  ['celticana - a blend of rock', 'pop', 'folk',...     Sarana_VerLin   \n",
       "13278           ['pop', ' house music - latin american']       Jane_Castro   \n",
       "15232  ['pop', 'rock folk -rock rock -electronic ball...  Declan_Galbraith   \n",
       "\n",
       "       match  \n",
       "11961      0  \n",
       "13278      0  \n",
       "15232      0  "
      ]
     },
     "execution_count": 48,
     "metadata": {},
     "output_type": "execute_result"
    }
   ],
   "source": [
    "data[data.genre.str.contains(r' -')]"
   ]
  },
  {
   "cell_type": "code",
   "execution_count": 49,
   "metadata": {},
   "outputs": [
    {
     "data": {
      "text/plain": [
       "\"['celticana - a blend of rock', 'pop', 'folk', 'celtic and americana']\""
      ]
     },
     "execution_count": 49,
     "metadata": {},
     "output_type": "execute_result"
    }
   ],
   "source": [
    "data.genre.loc[11961]"
   ]
  },
  {
   "cell_type": "code",
   "execution_count": 50,
   "metadata": {},
   "outputs": [],
   "source": [
    "data.genre.at[11961] = \"['celticana']\""
   ]
  },
  {
   "cell_type": "code",
   "execution_count": 51,
   "metadata": {},
   "outputs": [
    {
     "data": {
      "text/plain": [
       "\"['pop', ' house music - latin american']\""
      ]
     },
     "execution_count": 51,
     "metadata": {},
     "output_type": "execute_result"
    }
   ],
   "source": [
    "data.genre.loc[13278]"
   ]
  },
  {
   "cell_type": "code",
   "execution_count": 52,
   "metadata": {},
   "outputs": [],
   "source": [
    "data.genre.at[13278] = \"['pop', 'house music']\""
   ]
  },
  {
   "cell_type": "code",
   "execution_count": 53,
   "metadata": {},
   "outputs": [
    {
     "data": {
      "text/plain": [
       "\"['pop', 'rock folk -rock rock -electronic ballad']\""
      ]
     },
     "execution_count": 53,
     "metadata": {},
     "output_type": "execute_result"
    }
   ],
   "source": [
    "data.genre.loc[15232]"
   ]
  },
  {
   "cell_type": "code",
   "execution_count": 54,
   "metadata": {},
   "outputs": [],
   "source": [
    "data.genre.at[15232] = \"['pop', 'rock', 'folk-rock', rock-electronic, ballad']\""
   ]
  },
  {
   "cell_type": "code",
   "execution_count": 55,
   "metadata": {},
   "outputs": [
    {
     "data": {
      "text/html": [
       "<div>\n",
       "<style scoped>\n",
       "    .dataframe tbody tr th:only-of-type {\n",
       "        vertical-align: middle;\n",
       "    }\n",
       "\n",
       "    .dataframe tbody tr th {\n",
       "        vertical-align: top;\n",
       "    }\n",
       "\n",
       "    .dataframe thead th {\n",
       "        text-align: right;\n",
       "    }\n",
       "</style>\n",
       "<table border=\"1\" class=\"dataframe\">\n",
       "  <thead>\n",
       "    <tr style=\"text-align: right;\">\n",
       "      <th></th>\n",
       "      <th>artist</th>\n",
       "      <th>gender</th>\n",
       "      <th>retrieved</th>\n",
       "      <th>genre</th>\n",
       "      <th>retrieved_clean</th>\n",
       "      <th>match</th>\n",
       "    </tr>\n",
       "  </thead>\n",
       "  <tbody>\n",
       "    <tr>\n",
       "      <th>6897</th>\n",
       "      <td>Webb_Pierce</td>\n",
       "      <td>male</td>\n",
       "      <td>Webb_Pierce</td>\n",
       "      <td>['country', 'honky-tonk', 'western swing', 'co...</td>\n",
       "      <td>Webb_Pierce</td>\n",
       "      <td>0</td>\n",
       "    </tr>\n",
       "    <tr>\n",
       "      <th>7743</th>\n",
       "      <td>Boyden_Carpenter</td>\n",
       "      <td>male</td>\n",
       "      <td>Boyden_Carpenter</td>\n",
       "      <td>['bluegrass', 'bluegrass gospel', 'hillbilly']</td>\n",
       "      <td>Boyden_Carpenter</td>\n",
       "      <td>0</td>\n",
       "    </tr>\n",
       "    <tr>\n",
       "      <th>8854</th>\n",
       "      <td>Harvie_June_Van</td>\n",
       "      <td>female</td>\n",
       "      <td>Harvie_June_Van</td>\n",
       "      <td>['country', 'hillbilly']</td>\n",
       "      <td>Harvie_June_Van</td>\n",
       "      <td>0</td>\n",
       "    </tr>\n",
       "    <tr>\n",
       "      <th>15556</th>\n",
       "      <td>Bill_Holford</td>\n",
       "      <td>male</td>\n",
       "      <td>Bill_Holford</td>\n",
       "      <td>['cajun', 'country', ' hillbilly rockabilly r&amp;b']</td>\n",
       "      <td>Bill_Holford</td>\n",
       "      <td>0</td>\n",
       "    </tr>\n",
       "  </tbody>\n",
       "</table>\n",
       "</div>"
      ],
      "text/plain": [
       "                 artist  gender         retrieved  \\\n",
       "6897        Webb_Pierce    male       Webb_Pierce   \n",
       "7743   Boyden_Carpenter    male  Boyden_Carpenter   \n",
       "8854    Harvie_June_Van  female   Harvie_June_Van   \n",
       "15556      Bill_Holford    male      Bill_Holford   \n",
       "\n",
       "                                                   genre   retrieved_clean  \\\n",
       "6897   ['country', 'honky-tonk', 'western swing', 'co...       Webb_Pierce   \n",
       "7743      ['bluegrass', 'bluegrass gospel', 'hillbilly']  Boyden_Carpenter   \n",
       "8854                            ['country', 'hillbilly']   Harvie_June_Van   \n",
       "15556  ['cajun', 'country', ' hillbilly rockabilly r&b']      Bill_Holford   \n",
       "\n",
       "       match  \n",
       "6897       0  \n",
       "7743       0  \n",
       "8854       0  \n",
       "15556      0  "
      ]
     },
     "execution_count": 55,
     "metadata": {},
     "output_type": "execute_result"
    }
   ],
   "source": [
    "data[data.genre.str.contains(r'hillbilly')]"
   ]
  },
  {
   "cell_type": "code",
   "execution_count": 56,
   "metadata": {},
   "outputs": [
    {
     "data": {
      "text/plain": [
       "\"['cajun', 'country', ' hillbilly rockabilly r&b']\""
      ]
     },
     "execution_count": 56,
     "metadata": {},
     "output_type": "execute_result"
    }
   ],
   "source": [
    "data.genre.loc[15556]"
   ]
  },
  {
   "cell_type": "code",
   "execution_count": 57,
   "metadata": {},
   "outputs": [],
   "source": [
    "data.genre.at[15556] = \"['cajun', 'country', ' hillbilly, rockabilly, r&b']\""
   ]
  },
  {
   "cell_type": "code",
   "execution_count": 58,
   "metadata": {
    "scrolled": false
   },
   "outputs": [
    {
     "data": {
      "text/html": [
       "<div>\n",
       "<style scoped>\n",
       "    .dataframe tbody tr th:only-of-type {\n",
       "        vertical-align: middle;\n",
       "    }\n",
       "\n",
       "    .dataframe tbody tr th {\n",
       "        vertical-align: top;\n",
       "    }\n",
       "\n",
       "    .dataframe thead th {\n",
       "        text-align: right;\n",
       "    }\n",
       "</style>\n",
       "<table border=\"1\" class=\"dataframe\">\n",
       "  <thead>\n",
       "    <tr style=\"text-align: right;\">\n",
       "      <th></th>\n",
       "      <th>artist</th>\n",
       "      <th>gender</th>\n",
       "      <th>retrieved</th>\n",
       "      <th>genre</th>\n",
       "      <th>retrieved_clean</th>\n",
       "      <th>match</th>\n",
       "    </tr>\n",
       "  </thead>\n",
       "  <tbody>\n",
       "    <tr>\n",
       "      <th>2599</th>\n",
       "      <td>Larissa_Lam</td>\n",
       "      <td>female</td>\n",
       "      <td>Larissa_Lam</td>\n",
       "      <td>['dance-pop', 'r &amp; b', 'jazz']</td>\n",
       "      <td>Larissa_Lam</td>\n",
       "      <td>0</td>\n",
       "    </tr>\n",
       "    <tr>\n",
       "      <th>6853</th>\n",
       "      <td>Nick_Clemons</td>\n",
       "      <td>male</td>\n",
       "      <td>Nick_Clemons</td>\n",
       "      <td>['rock', 'funk', 'r &amp; b']</td>\n",
       "      <td>Nick_Clemons</td>\n",
       "      <td>0</td>\n",
       "    </tr>\n",
       "    <tr>\n",
       "      <th>14153</th>\n",
       "      <td>A._J._Ghent</td>\n",
       "      <td>male</td>\n",
       "      <td>A._J._Ghent</td>\n",
       "      <td>['funk', 'soul', 'jam', 'gospel', 'sacred stee...</td>\n",
       "      <td>A._J._Ghent</td>\n",
       "      <td>0</td>\n",
       "    </tr>\n",
       "    <tr>\n",
       "      <th>14654</th>\n",
       "      <td>Thomasina_Winslow</td>\n",
       "      <td>female</td>\n",
       "      <td>Thomasina_Winslow</td>\n",
       "      <td>['blues soul r &amp; b gospel funk folk', 'african...</td>\n",
       "      <td>Thomasina_Winslow</td>\n",
       "      <td>0</td>\n",
       "    </tr>\n",
       "    <tr>\n",
       "      <th>16319</th>\n",
       "      <td>Jeff_Pehrson</td>\n",
       "      <td>male</td>\n",
       "      <td>Jeff_Pehrson</td>\n",
       "      <td>['rock', 'psychedelic rock', 'r &amp; b', 'folk ro...</td>\n",
       "      <td>Jeff_Pehrson</td>\n",
       "      <td>0</td>\n",
       "    </tr>\n",
       "  </tbody>\n",
       "</table>\n",
       "</div>"
      ],
      "text/plain": [
       "                  artist  gender          retrieved  \\\n",
       "2599         Larissa_Lam  female        Larissa_Lam   \n",
       "6853        Nick_Clemons    male       Nick_Clemons   \n",
       "14153        A._J._Ghent    male        A._J._Ghent   \n",
       "14654  Thomasina_Winslow  female  Thomasina_Winslow   \n",
       "16319       Jeff_Pehrson    male       Jeff_Pehrson   \n",
       "\n",
       "                                                   genre    retrieved_clean  \\\n",
       "2599                      ['dance-pop', 'r & b', 'jazz']        Larissa_Lam   \n",
       "6853                           ['rock', 'funk', 'r & b']       Nick_Clemons   \n",
       "14153  ['funk', 'soul', 'jam', 'gospel', 'sacred stee...        A._J._Ghent   \n",
       "14654  ['blues soul r & b gospel funk folk', 'african...  Thomasina_Winslow   \n",
       "16319  ['rock', 'psychedelic rock', 'r & b', 'folk ro...       Jeff_Pehrson   \n",
       "\n",
       "       match  \n",
       "2599       0  \n",
       "6853       0  \n",
       "14153      0  \n",
       "14654      0  \n",
       "16319      0  "
      ]
     },
     "execution_count": 58,
     "metadata": {},
     "output_type": "execute_result"
    }
   ],
   "source": [
    "data[data.genre.str.contains(r'r & b')]"
   ]
  },
  {
   "cell_type": "code",
   "execution_count": 59,
   "metadata": {},
   "outputs": [
    {
     "data": {
      "text/plain": [
       "11935    ['rock', \" active rock country jazz standards ...\n",
       "Name: genre, dtype: object"
      ]
     },
     "execution_count": 59,
     "metadata": {},
     "output_type": "execute_result"
    }
   ],
   "source": [
    "data.genre[data.genre.str.contains('active')]"
   ]
  },
  {
   "cell_type": "code",
   "execution_count": 60,
   "metadata": {},
   "outputs": [
    {
     "data": {
      "text/plain": [
       "'[\\'rock\\', \" active rock country jazz standards children\\'s folk\"]'"
      ]
     },
     "execution_count": 60,
     "metadata": {},
     "output_type": "execute_result"
    }
   ],
   "source": [
    "data.genre.loc[11935]"
   ]
  },
  {
   "cell_type": "code",
   "execution_count": 61,
   "metadata": {},
   "outputs": [],
   "source": [
    "data.genre.at[11935] = '[rock, active rock, country, jazz standards, childrens folk]'"
   ]
  },
  {
   "cell_type": "code",
   "execution_count": 62,
   "metadata": {},
   "outputs": [
    {
     "data": {
      "text/plain": [
       "13009    ['punk rock', 'art rock', 'jewish rock', 'gara...\n",
       "Name: genre, dtype: object"
      ]
     },
     "execution_count": 62,
     "metadata": {},
     "output_type": "execute_result"
    }
   ],
   "source": [
    "data.genre[data.genre.str.contains('pitbash')]"
   ]
  },
  {
   "cell_type": "code",
   "execution_count": 63,
   "metadata": {},
   "outputs": [
    {
     "data": {
      "text/plain": [
       "'[\\'punk rock\\', \\'art rock\\', \\'jewish rock\\', \\'garage punk\\', \\'obscuro\\', \\'metal\\', \\'marching band\\', \\'jewish music\\', \\'jazz\\', \\' pitbash jewish punk \"thrash opera\"\\']'"
      ]
     },
     "execution_count": 63,
     "metadata": {},
     "output_type": "execute_result"
    }
   ],
   "source": [
    "data.genre.loc[13009]"
   ]
  },
  {
   "cell_type": "code",
   "execution_count": 64,
   "metadata": {},
   "outputs": [],
   "source": [
    "data.at[13009, 'genre'] = \"['punk rock', 'art rock', 'jewish rock', 'garage punk', 'obscuro', 'metal','marching band', 'jewish music', 'jazz',  'pitbash', 'jewish punk', 'thrash', 'opera']\""
   ]
  },
  {
   "cell_type": "markdown",
   "metadata": {},
   "source": [
    "Remove 'earlier:'"
   ]
  },
  {
   "cell_type": "code",
   "execution_count": 65,
   "metadata": {},
   "outputs": [
    {
     "data": {
      "text/plain": [
       "\"['aor', 'pop rock', '; earlier:', 'pop', 'disco', 'soul']\""
      ]
     },
     "execution_count": 65,
     "metadata": {},
     "output_type": "execute_result"
    }
   ],
   "source": [
    "data.genre.loc[11170]"
   ]
  },
  {
   "cell_type": "code",
   "execution_count": 66,
   "metadata": {},
   "outputs": [],
   "source": [
    "data.at[11170,'genre'] = \"['aor', 'pop_rock', 'pop', 'disco', 'soul']\""
   ]
  },
  {
   "cell_type": "code",
   "execution_count": 67,
   "metadata": {},
   "outputs": [
    {
     "data": {
      "text/plain": [
       "\"['praise &', 'worship']\""
      ]
     },
     "execution_count": 67,
     "metadata": {},
     "output_type": "execute_result"
    }
   ],
   "source": [
    "data.genre.loc[3535]"
   ]
  },
  {
   "cell_type": "code",
   "execution_count": 68,
   "metadata": {},
   "outputs": [],
   "source": [
    "data.at[3535,'genre'] = \"['praise&worship']\""
   ]
  },
  {
   "cell_type": "code",
   "execution_count": 69,
   "metadata": {},
   "outputs": [],
   "source": [
    "pd.set_option('display.max_rows', None)\n",
    "pd.options.display.max_rows\n",
    "#data.genre[data.genre.str.contains(r\"\\balt\\b\")]"
   ]
  },
  {
   "cell_type": "code",
   "execution_count": 70,
   "metadata": {},
   "outputs": [
    {
     "data": {
      "text/plain": [
       "artist                                          Billy_Connolly\n",
       "gender                                                    male\n",
       "retrieved                                       Billy_Connolly\n",
       "genre              ['observational', 'blue', 'musical comedy']\n",
       "retrieved_clean                                 Billy_Connolly\n",
       "match                                                        0\n",
       "Name: 22536, dtype: object"
      ]
     },
     "execution_count": 70,
     "metadata": {},
     "output_type": "execute_result"
    }
   ],
   "source": [
    "data.loc[22536]"
   ]
  },
  {
   "cell_type": "code",
   "execution_count": 71,
   "metadata": {},
   "outputs": [],
   "source": [
    "data.at[22536, 'genre'] = \"['observational', 'blue comedy', 'musical_comedy']\""
   ]
  },
  {
   "cell_type": "code",
   "execution_count": 72,
   "metadata": {},
   "outputs": [
    {
     "data": {
      "text/plain": [
       "artist                                                Billy_Connolly\n",
       "gender                                                          male\n",
       "retrieved                                             Billy_Connolly\n",
       "genre              ['observational', 'blue comedy', 'musical_come...\n",
       "retrieved_clean                                       Billy_Connolly\n",
       "match                                                              0\n",
       "Name: 22536, dtype: object"
      ]
     },
     "execution_count": 72,
     "metadata": {},
     "output_type": "execute_result"
    }
   ],
   "source": [
    "data.loc[22536]"
   ]
  },
  {
   "cell_type": "code",
   "execution_count": 73,
   "metadata": {},
   "outputs": [
    {
     "data": {
      "text/plain": [
       "\"['jazz', ' blue jump blues rock']\""
      ]
     },
     "execution_count": 73,
     "metadata": {},
     "output_type": "execute_result"
    }
   ],
   "source": [
    "data.genre.loc[12183]"
   ]
  },
  {
   "cell_type": "code",
   "execution_count": 74,
   "metadata": {},
   "outputs": [],
   "source": [
    "data.at[12183, 'genre'] = \"['jazz', 'blues', 'jump_blues', 'rock']\""
   ]
  },
  {
   "cell_type": "code",
   "execution_count": 75,
   "metadata": {},
   "outputs": [
    {
     "data": {
      "text/plain": [
       "\"['jazz', 'blues', 'jump_blues', 'rock']\""
      ]
     },
     "execution_count": 75,
     "metadata": {},
     "output_type": "execute_result"
    }
   ],
   "source": [
    "data.genre.loc[12183]"
   ]
  },
  {
   "cell_type": "code",
   "execution_count": 76,
   "metadata": {},
   "outputs": [
    {
     "data": {
      "text/plain": [
       "\"['singer-songwriter', 'world beat', 'alternative pop', 'lounge', 'electronic', 'world music', 'indie pop', 'j-synth', 'cool', 'fusion', 'electro-pop']\""
      ]
     },
     "execution_count": 76,
     "metadata": {},
     "output_type": "execute_result"
    }
   ],
   "source": [
    "data.genre.loc[9679]"
   ]
  },
  {
   "cell_type": "code",
   "execution_count": 77,
   "metadata": {},
   "outputs": [],
   "source": [
    "data.at[9679, 'genre'] = \"['singer-songwriter', 'world beat', 'alternative pop', 'lounge', 'electronic', 'world music', 'indie pop', 'j-synth', 'cool jazz', 'fusion', 'electro-pop']\""
   ]
  },
  {
   "cell_type": "code",
   "execution_count": 78,
   "metadata": {},
   "outputs": [
    {
     "data": {
      "text/plain": [
       "\"['singer-songwriter', 'world beat', 'alternative pop', 'lounge', 'electronic', 'world music', 'indie pop', 'j-synth', 'cool jazz', 'fusion', 'electro-pop']\""
      ]
     },
     "execution_count": 78,
     "metadata": {},
     "output_type": "execute_result"
    }
   ],
   "source": [
    "data.genre.loc[9679]"
   ]
  },
  {
   "cell_type": "code",
   "execution_count": 79,
   "metadata": {},
   "outputs": [
    {
     "data": {
      "text/plain": [
       "\"['blues', 'ballads and rock & roll']\""
      ]
     },
     "execution_count": 79,
     "metadata": {},
     "output_type": "execute_result"
    }
   ],
   "source": [
    "data.genre.loc[2374]"
   ]
  },
  {
   "cell_type": "code",
   "execution_count": 80,
   "metadata": {},
   "outputs": [],
   "source": [
    "data.at[2374, 'genre'] = \"['blues', 'ballads', 'rock & roll']\""
   ]
  },
  {
   "cell_type": "code",
   "execution_count": 81,
   "metadata": {},
   "outputs": [
    {
     "data": {
      "text/plain": [
       "\"['blues', 'ballads', 'rock & roll']\""
      ]
     },
     "execution_count": 81,
     "metadata": {},
     "output_type": "execute_result"
    }
   ],
   "source": [
    "data.genre.loc[2374]"
   ]
  },
  {
   "cell_type": "code",
   "execution_count": 82,
   "metadata": {},
   "outputs": [
    {
     "data": {
      "text/plain": [
       "\"['bhangramuffin', 'reggae fusion', 'eurodance']\""
      ]
     },
     "execution_count": 82,
     "metadata": {},
     "output_type": "execute_result"
    }
   ],
   "source": [
    "data.genre.loc[7946]"
   ]
  },
  {
   "cell_type": "code",
   "execution_count": 83,
   "metadata": {},
   "outputs": [],
   "source": [
    "data.at[7946, 'genre'] = \"['dancehall', 'reggae fusion', 'eurodance']\""
   ]
  },
  {
   "cell_type": "code",
   "execution_count": 84,
   "metadata": {},
   "outputs": [
    {
     "data": {
      "text/plain": [
       "\"['dancehall', 'reggae fusion', 'eurodance']\""
      ]
     },
     "execution_count": 84,
     "metadata": {},
     "output_type": "execute_result"
    }
   ],
   "source": [
    "data.genre.loc[7946]"
   ]
  },
  {
   "cell_type": "code",
   "execution_count": 85,
   "metadata": {},
   "outputs": [
    {
     "data": {
      "text/plain": [
       "\"['classical and folk']\""
      ]
     },
     "execution_count": 85,
     "metadata": {},
     "output_type": "execute_result"
    }
   ],
   "source": [
    "data.genre.loc[12500]"
   ]
  },
  {
   "cell_type": "code",
   "execution_count": 86,
   "metadata": {},
   "outputs": [],
   "source": [
    "data.at[12500, 'genre'] = \"['classical', 'folk']\""
   ]
  },
  {
   "cell_type": "code",
   "execution_count": 87,
   "metadata": {},
   "outputs": [
    {
     "data": {
      "text/plain": [
       "\"['classical', 'folk']\""
      ]
     },
     "execution_count": 87,
     "metadata": {},
     "output_type": "execute_result"
    }
   ],
   "source": [
    "data.genre.loc[12500]"
   ]
  },
  {
   "cell_type": "code",
   "execution_count": 88,
   "metadata": {},
   "outputs": [
    {
     "data": {
      "text/plain": [
       "\"['pop', 'r&b', ' electropop alternative pop']\""
      ]
     },
     "execution_count": 88,
     "metadata": {},
     "output_type": "execute_result"
    }
   ],
   "source": [
    "data.genre.loc[9732]"
   ]
  },
  {
   "cell_type": "code",
   "execution_count": 89,
   "metadata": {},
   "outputs": [],
   "source": [
    "data.at[9732, 'genre'] = \"['pop', 'r&b', ' electropop', 'alternative pop']\""
   ]
  },
  {
   "cell_type": "code",
   "execution_count": 90,
   "metadata": {},
   "outputs": [
    {
     "data": {
      "text/plain": [
       "\"['pop', 'r&b', ' electropop alternative pop']\""
      ]
     },
     "execution_count": 90,
     "metadata": {},
     "output_type": "execute_result"
    }
   ],
   "source": [
    "data.genre.loc[19082]"
   ]
  },
  {
   "cell_type": "code",
   "execution_count": 91,
   "metadata": {},
   "outputs": [],
   "source": [
    "data.at[19082, 'genre'] = \"['pop', 'r&b', ' electropop', 'alternative pop']\""
   ]
  },
  {
   "cell_type": "code",
   "execution_count": 92,
   "metadata": {},
   "outputs": [
    {
     "data": {
      "text/plain": [
       "\"['gospel and gospel blues']\""
      ]
     },
     "execution_count": 92,
     "metadata": {},
     "output_type": "execute_result"
    }
   ],
   "source": [
    "data.genre.loc[3843]"
   ]
  },
  {
   "cell_type": "code",
   "execution_count": 93,
   "metadata": {},
   "outputs": [],
   "source": [
    "data.at[3843, 'genre'] = \"['gospel','gospel blues']\""
   ]
  },
  {
   "cell_type": "code",
   "execution_count": 94,
   "metadata": {
    "scrolled": true
   },
   "outputs": [
    {
     "data": {
      "text/plain": [
       "\"['gospel','gospel blues']\""
      ]
     },
     "execution_count": 94,
     "metadata": {},
     "output_type": "execute_result"
    }
   ],
   "source": [
    "data.genre.loc[3843]"
   ]
  },
  {
   "cell_type": "code",
   "execution_count": 95,
   "metadata": {},
   "outputs": [
    {
     "data": {
      "text/plain": [
       "\"['lo-fi-diy-indie-pop-core', 'beat poetry']\""
      ]
     },
     "execution_count": 95,
     "metadata": {},
     "output_type": "execute_result"
    }
   ],
   "source": [
    "data.genre.loc[17494]"
   ]
  },
  {
   "cell_type": "code",
   "execution_count": 96,
   "metadata": {},
   "outputs": [],
   "source": [
    "data.at[17494, 'genre'] = \"['lo-fi','diy','indie','popcore', 'beat poetry']\""
   ]
  },
  {
   "cell_type": "code",
   "execution_count": 97,
   "metadata": {},
   "outputs": [
    {
     "data": {
      "text/plain": [
       "\"['lo-fi','diy','indie','popcore', 'beat poetry']\""
      ]
     },
     "execution_count": 97,
     "metadata": {},
     "output_type": "execute_result"
    }
   ],
   "source": [
    "data.genre.loc[17494]"
   ]
  },
  {
   "cell_type": "code",
   "execution_count": 98,
   "metadata": {},
   "outputs": [
    {
     "data": {
      "text/plain": [
       "\"['cabaret', ' pop contemporary opera']\""
      ]
     },
     "execution_count": 98,
     "metadata": {},
     "output_type": "execute_result"
    }
   ],
   "source": [
    "data.genre.loc[10414]"
   ]
  },
  {
   "cell_type": "code",
   "execution_count": 99,
   "metadata": {},
   "outputs": [],
   "source": [
    "data.at[10414, 'genre'] = \"['cabaret', 'pop', 'contemporary opera']\""
   ]
  },
  {
   "cell_type": "code",
   "execution_count": 100,
   "metadata": {},
   "outputs": [
    {
     "data": {
      "text/plain": [
       "\"['cabaret', 'pop', 'contemporary opera']\""
      ]
     },
     "execution_count": 100,
     "metadata": {},
     "output_type": "execute_result"
    }
   ],
   "source": [
    "data.genre.loc[10414]"
   ]
  },
  {
   "cell_type": "code",
   "execution_count": 101,
   "metadata": {},
   "outputs": [
    {
     "data": {
      "text/plain": [
       "\"['rock', 'pop', 'jazz', 'r&b', 'country', ' streets—blues roots']\""
      ]
     },
     "execution_count": 101,
     "metadata": {},
     "output_type": "execute_result"
    }
   ],
   "source": [
    "data.genre.loc[14600]"
   ]
  },
  {
   "cell_type": "code",
   "execution_count": 102,
   "metadata": {},
   "outputs": [],
   "source": [
    "data.at[14600, 'genre'] = \"['rock', 'pop', 'jazz', 'r&b', 'country', ' blues', 'roots']\""
   ]
  },
  {
   "cell_type": "code",
   "execution_count": 103,
   "metadata": {},
   "outputs": [
    {
     "data": {
      "text/plain": [
       "'Doug_Pettibone'"
      ]
     },
     "execution_count": 103,
     "metadata": {},
     "output_type": "execute_result"
    }
   ],
   "source": [
    "data.artist.loc[14600]"
   ]
  },
  {
   "cell_type": "code",
   "execution_count": 104,
   "metadata": {},
   "outputs": [
    {
     "data": {
      "text/plain": [
       "\"['indie-alternative rock', 'pop punk']\""
      ]
     },
     "execution_count": 104,
     "metadata": {},
     "output_type": "execute_result"
    }
   ],
   "source": [
    "data.genre.loc[10022]"
   ]
  },
  {
   "cell_type": "code",
   "execution_count": 105,
   "metadata": {},
   "outputs": [],
   "source": [
    "data.at[10022, 'genre'] = \"['indie','alternative rock', 'pop punk']\""
   ]
  },
  {
   "cell_type": "code",
   "execution_count": 106,
   "metadata": {},
   "outputs": [
    {
     "data": {
      "text/plain": [
       "\"['indie','alternative rock', 'pop punk']\""
      ]
     },
     "execution_count": 106,
     "metadata": {},
     "output_type": "execute_result"
    }
   ],
   "source": [
    "data.genre.loc[10022]"
   ]
  },
  {
   "cell_type": "code",
   "execution_count": 107,
   "metadata": {},
   "outputs": [
    {
     "data": {
      "text/plain": [
       "\"['blues', 'roots', ' rock and roll americana rhythm and blues alternative']\""
      ]
     },
     "execution_count": 107,
     "metadata": {},
     "output_type": "execute_result"
    }
   ],
   "source": [
    "data.genre.loc[13433]"
   ]
  },
  {
   "cell_type": "code",
   "execution_count": 108,
   "metadata": {},
   "outputs": [],
   "source": [
    "data.at[13433, 'genre'] = \"['blues', 'roots', ' rock and roll', 'americana', 'rhythm and blues', 'alternative']\""
   ]
  },
  {
   "cell_type": "code",
   "execution_count": 109,
   "metadata": {},
   "outputs": [
    {
     "data": {
      "text/plain": [
       "\"['blues', 'roots', ' rock and roll', 'americana', 'rhythm and blues', 'alternative']\""
      ]
     },
     "execution_count": 109,
     "metadata": {},
     "output_type": "execute_result"
    }
   ],
   "source": [
    "data.genre.loc[13433]"
   ]
  },
  {
   "cell_type": "code",
   "execution_count": 110,
   "metadata": {},
   "outputs": [
    {
     "data": {
      "text/plain": [
       "\"['r&b', ' jazz funk rock']\""
      ]
     },
     "execution_count": 110,
     "metadata": {},
     "output_type": "execute_result"
    }
   ],
   "source": [
    "data.genre.loc[2295]"
   ]
  },
  {
   "cell_type": "code",
   "execution_count": 111,
   "metadata": {},
   "outputs": [],
   "source": [
    "data.at[2295, 'genre'] = \"['r&b', ' jazz', 'funk', 'rock']\""
   ]
  },
  {
   "cell_type": "code",
   "execution_count": 112,
   "metadata": {},
   "outputs": [
    {
     "data": {
      "text/plain": [
       "\"['r&b', ' jazz', 'funk', 'rock']\""
      ]
     },
     "execution_count": 112,
     "metadata": {},
     "output_type": "execute_result"
    }
   ],
   "source": [
    "data.genre.loc[2295]"
   ]
  },
  {
   "cell_type": "code",
   "execution_count": 113,
   "metadata": {},
   "outputs": [
    {
     "data": {
      "text/plain": [
       "\"['jazz fusion', ' jazz funk bluegrass pop']\""
      ]
     },
     "execution_count": 113,
     "metadata": {},
     "output_type": "execute_result"
    }
   ],
   "source": [
    "data.genre.loc[3017]"
   ]
  },
  {
   "cell_type": "code",
   "execution_count": 114,
   "metadata": {},
   "outputs": [],
   "source": [
    "data.at[3017, 'genre'] = \"['jazz fusion', 'jazz funk', 'bluegrass pop']\""
   ]
  },
  {
   "cell_type": "code",
   "execution_count": 115,
   "metadata": {},
   "outputs": [
    {
     "data": {
      "text/plain": [
       "\"['jazz fusion', 'jazz funk', 'bluegrass pop']\""
      ]
     },
     "execution_count": 115,
     "metadata": {},
     "output_type": "execute_result"
    }
   ],
   "source": [
    "data.genre.loc[3017]"
   ]
  },
  {
   "cell_type": "code",
   "execution_count": 116,
   "metadata": {},
   "outputs": [
    {
     "data": {
      "text/plain": [
       "\"['jazz', 'latin-jazz pop']\""
      ]
     },
     "execution_count": 116,
     "metadata": {},
     "output_type": "execute_result"
    }
   ],
   "source": [
    "data.genre.loc[18667]"
   ]
  },
  {
   "cell_type": "code",
   "execution_count": 117,
   "metadata": {},
   "outputs": [],
   "source": [
    "data.at[18667, 'genre'] = \"['jazz', 'latin-jazz', 'pop']\""
   ]
  },
  {
   "cell_type": "code",
   "execution_count": 118,
   "metadata": {},
   "outputs": [
    {
     "data": {
      "text/plain": [
       "\"['jazz', 'latin-jazz', 'pop']\""
      ]
     },
     "execution_count": 118,
     "metadata": {},
     "output_type": "execute_result"
    }
   ],
   "source": [
    "data.genre.loc[18667]"
   ]
  },
  {
   "cell_type": "code",
   "execution_count": null,
   "metadata": {},
   "outputs": [],
   "source": []
  },
  {
   "cell_type": "markdown",
   "metadata": {},
   "source": [
    "## Spelling normalizations:"
   ]
  },
  {
   "cell_type": "markdown",
   "metadata": {},
   "source": [
    "Make genre label spelling replacements: (and, &, n, 'n, 'n')\n",
    "\n",
    "- rock and roll\n",
    "- rhythm and blues\n",
    "- rhythm and grime\n",
    "- country and western\n",
    "- RnB"
   ]
  },
  {
   "cell_type": "markdown",
   "metadata": {},
   "source": [
    "- [x] Tom will supply further normalizations"
   ]
  },
  {
   "cell_type": "markdown",
   "metadata": {},
   "source": [
    "Now we use the list of issues flagged by Tom to augment the respelling."
   ]
  },
  {
   "cell_type": "code",
   "execution_count": 36,
   "metadata": {},
   "outputs": [
    {
     "data": {
      "text/plain": [
       "artist                          Fanny_J\n",
       "gender                           female\n",
       "retrieved                       Fanny_J\n",
       "genre              ['zouk', '*', 'r&b']\n",
       "retrieved_clean                 Fanny_J\n",
       "match                                 0\n",
       "Name: 18410, dtype: object"
      ]
     },
     "execution_count": 36,
     "metadata": {},
     "output_type": "execute_result"
    }
   ],
   "source": [
    "data.loc[18410]"
   ]
  },
  {
   "cell_type": "markdown",
   "metadata": {},
   "source": [
    "# Create a dictionary of {regex: respell} and iterate through here instead of explicit list"
   ]
  },
  {
   "cell_type": "code",
   "execution_count": 37,
   "metadata": {},
   "outputs": [],
   "source": [
    "\"\"\"This function takes normalizes genre spellings.\"\"\"\n",
    "def genrespelling(string):\n",
    "    string = re.sub(r'r & b','r&b', string) \n",
    "    string = re.sub(r'rhythm\\s{0,1}(and|&)\\s{0,1}blues','r&b', string) \n",
    "    string = re.sub(r'rhythm and grime','r&g', string) \n",
    "    string = re.sub(\"electronic dance music\", \"edm\", string)\n",
    "    string = re.sub(r'country\\s{0,1}(and|&)\\s{0,1}western','country&western', string) \n",
    "    string = re.sub(r\"rock[\\w. &''-]{0,5}roll\",'rock&roll', string) \n",
    "    string = re.sub(r\"r.{0,1}n.{0,1}b\",\"r&b\", string)\n",
    "    string = re.sub(r\"hip.{0,1}hop\",\"hip-hop\", string)\n",
    "    string = re.sub(r\"hip.{0,1}house\",\"hip-house\", string)\n",
    "    string = re.sub(r\"adult\",\"\", string)\n",
    "    string = re.sub(r\"afrobeats\",\"afrobeat\", string)\n",
    "    string = re.sub(r\"boleros\",\"bolero\", string)\n",
    "    string = re.sub(r\"musicals\",\"musical\", string)\n",
    "    string = re.sub(r\"neo_souls\",\"neo_soul\", string)\n",
    "    string = re.sub(r\"protest_songs\",\"protest_song\", string)\n",
    "    string = re.sub(r\"spirituals\",\"spiritual\", string)\n",
    "    string = re.sub(r\"television_scores\",\"television_score\", string)\n",
    "    string = re.sub(r\"show tune\",\"show_tunes\", string)\n",
    "    string = re.sub(r\"showtunes\",\"show_tunes\", string)\n",
    "    string = re.sub(r\"showtunes adult contemporary\", \"show_tunes, adult_contemporary\", string)\n",
    "    string = re.sub(r\"ballad\\b\",\"ballads\", string)\n",
    "    string = re.sub(r\"soundtracks\",\"soundtrack\", string)\n",
    "    string = re.sub(r\"afropop\",\"afro-pop\", string)\n",
    "    \n",
    "    string = re.sub(r\"alt/rock\",\"alternative-rock\", string)\n",
    "    string = re.sub(r\"alt.\\s{0,1}country\",\"alternative-country\", string)\n",
    "    string = re.sub(r\"\\balt-\",\"alternative-\", string)\n",
    "    string = re.sub(r\"\\balt\\b\",\"alternative\", string)\n",
    "    string = re.sub(r\"alternative \",\"alternative-\", string)\n",
    "    \n",
    "    string = re.sub(r\"antifolk\",\"anti-folk\", string)\n",
    "    \n",
    "    string = re.sub(r\"avant(-|\\s)pop\",\"avant-garde_pop\", string)\n",
    "    string = re.sub(r\"avant-rock\",\"avant-garde_rock\", string)\n",
    "    string = re.sub(r\"avant-prog\",\"avant-garde_prog\", string)\n",
    "    string = re.sub(r\"avant\\s{0,1}garde\",\"avant-garde\", string)\n",
    "    string = re.sub(r\"\\bavant\\s\\b\",\"avant-garde\", string)\n",
    "    string = re.sub(r\"\\bavant[^-]\",\"avant-garde\", string)\n",
    "    \n",
    "    string = re.sub(r\"avantgarde\",\"avant-garde\", string)\n",
    "    \n",
    "    string = re.sub(r\"balladeer\",\"ballads\", string)\n",
    "    string = re.sub(r\"bossanova\",\"bossa_nova\", string)\n",
    "    string = re.sub(r\"brazilian {0,1}music\",\"brazilian\", string)\n",
    "    string = re.sub(r\"broadway musicals{0,1}\",\"broadway\", string)\n",
    "    string = re.sub(r\"broadway music\",\"broadway\", string)\n",
    "    string = re.sub(r\"broadway theatre\",\"broadway\", string)\n",
    "    string = re.sub(r\"broadway theatre\",\"broadway\", string)\n",
    "    \n",
    "    string = re.sub(r\"breton singing\",\"breton\", string)\n",
    "    string = re.sub(r\"canterbury scene\",\"canterbury_sound\", string)\n",
    "    string = re.sub(r\"chansonnier\",\"chanson\", string)\n",
    "    string = re.sub(r\"children.{0,2} songs\",\"childrens\", string)\n",
    "    string = re.sub(r\"chill-out\",\"chillout\", string)\n",
    "    string = re.sub(r\"christian and gospel\",\"christian, gospel\", string)\n",
    "    string = re.sub(r\"christian & gospel\",\"christian, gospel\", string)\n",
    "    \n",
    "    string = re.sub(r\"citation needed\",\"\", string)\n",
    "    string = re.sub(r\"clarification needed\",\"\", string)\n",
    "    \n",
    "    string = re.sub(r\"concerts\",\"concert\", string)\n",
    "    string = re.sub(r\"cpop\",\"c-pop\", string)\n",
    "    string = re.sub(r\"\",\"\", string)\n",
    "    string = re.sub(r\"crooning\",\"crooner\", string)\n",
    "    string = re.sub(r\"darkwave\",\"dark_wave\", string)\n",
    "    string = re.sub(r\"downtempo\",\"down_tempo\", string)\n",
    "    string = re.sub(r\"dreampop\",\"dream_pop\", string)\n",
    "    string = re.sub(r\"drum\\s{0,1}(and|&)\\s{0,1}bass\",\"drum&bass\", string)\n",
    "    string = re.sub(r\"electroacoustic\",\"electro-acoustic\", string)\n",
    "    string = re.sub(r\"electropop\",\"electro pop\", string)\n",
    "    string = re.sub(r\"electro\\s{0,1}pop\\s{0,1}alternative\\spop\",\"electro_pop, alternative_pop\", string)\n",
    "    string = re.sub(r\"electro-pop dance-rock\",\"electro_pop, dance_rock\", string)\n",
    "    string = re.sub(r\"electropunk\",\"electro_punk\", string)\n",
    "    string = re.sub(r\"experimental & brazilian jazz\",\"experimental, brazilian_jazz\", string)\n",
    "    string = re.sub(r\"expressionist\",\"expressionism\", string)\n",
    "    \n",
    "    string = re.sub(r\"film scores\",\"film\", string)\n",
    "    string = re.sub(r\"film score\",\"film\", string)\n",
    "    string = re.sub(r\"film soundtrack\",\"film\", string)\n",
    "    \n",
    "    string = re.sub(r\"fingerstyle_and_classical_guitar\",\"fingerstyle, classical_guitar\", string)\n",
    "    string = re.sub(r\"folk and country\",\"folk, country\", string)\n",
    "    string = re.sub(r\"folk rock folk pop\",\"folk_rock, folk_pop\", string)\n",
    "    \n",
    "    string = re.sub(r\"free improv\\b\",\"free_improvisation\", string)\n",
    "    string = re.sub(r\"freestyling\",\"freestyle\", string)\n",
    "    string = re.sub(r\"french variÃ©tÃ©\",\"french variety\", string)\n",
    "    string = re.sub(r\"french variété\",\"french variety\", string)\n",
    "    string = re.sub(r\"french varieties\",\"french variety\", string)\n",
    "    \n",
    "    string = re.sub(r\"futurepop\",\"future_pop\", string)\n",
    "    string = re.sub(r\"gospel_and_gospel_blues\",\"gospel, gospel_blues\", string)\n",
    "    string = re.sub(r\"hard core\",\"hardcore\", string)\n",
    "    string = re.sub(r\"hawaii\",\"hawaiian\", string)\n",
    "    string = re.sub(r\"hymnal\",\"hymns\", string)\n",
    "\n",
    "    string = re.sub(r\"hip-hop_soulhip-hop, soul\",\"hip-hop, soul\", string)\n",
    "    string = re.sub(r\"indipop\",\"indie_pop\", string)\n",
    "    string = re.sub(r\"indiepop\",\"indie_pop\", string)\n",
    "    string = re.sub(r\"lo fi\",\"lo-fi\", string)\n",
    "    string = re.sub(r\"lofi\",\"lo-fi\", string)\n",
    "    string = re.sub(r\"mellow_&_acoustic_rock\",\"mellow, acoustic_rock\", string)\n",
    "    string = re.sub(r\"minimalist\",\"minimalism\", string)\n",
    "    string = re.sub(r\"mor\",\"middle_of_the_road\", string)\n",
    "    string = re.sub(r\"motown sound\",\"motown\", string)\n",
    "    \n",
    "    string = re.sub(r\"music pop rock\",\"pop_rock\", string)\n",
    "    string = re.sub(r\"musical theater\",\"musical\", string)\n",
    "    string = re.sub(r\"musical theatre\",\"musical\", string)\n",
    "    string = re.sub(r\"musical theatre pop\",\"musical_pop\", string)\n",
    "    string = re.sub(r\"musicals\",\"musical\", string)\n",
    "    string = re.sub(r\"music-jewish liturgy\",\"jewish_liturgy\", string)\n",
    "    string = re.sub(r\"musique concrÃ¨te\",\"musique_concrete\", string)\n",
    "    string = re.sub(r\"musique concrÃ©te\",\"musique_concrete\", string)\n",
    "    string = re.sub(r\"musique concrète\",\"musique_concrete\", string)\n",
    "    string = re.sub(r\"musique concréte\",\"musique_concrete\", string)\n",
    "    \n",
    "    string = re.sub(r\"neo souls\", \"neo_soul\", string)\n",
    "    string = re.sub(r\"neo-cla\", \"neocla\", string)\n",
    "    \n",
    "    string = re.sub(r\"neofolk\", \"neo_folk\", string)\n",
    "    string = re.sub(r\"neo-prog\\b\", \"neo-progressive_rock\", string)\n",
    "    string = re.sub(r\"prog.{0,1}rock\", \"progressive rock\", string)\n",
    "    string = re.sub(r\"neotraditionalist country\", \"neotraditional country\", string)\n",
    "    string = re.sub(r\"pacific northwest hip-hop\", \"pacific_northwest_hip-hop\", string)\n",
    "    string = re.sub(r\"\\snorthwest hip-hop\", \"pacific_northwest_hip-hop\", string)\n",
    "    string = re.sub(r\"hip-hop music in the pacific northwest\",\"pacific_northwest_hip-hop\", string)\n",
    "    string = re.sub(r\"old-school\", \"old school\", string)\n",
    "    string = re.sub(r\"old school rap\", \"old_school_hip-hop\", string)\n",
    "    \n",
    "    string = re.sub(r\"oldtime\", \"old-time\", string)\n",
    "    string = re.sub(r\"old-timey\", \"old-time\", string)\n",
    "    string = re.sub(r\"opera\\s(&|and)\\smusical theatre\", \"opera, musical\", string)\n",
    "    string = re.sub(r\"opera and comic opera\", \"opera, comic_opera\", string)\n",
    "    string = re.sub(r\"opera arias\", \"opera\", string)\n",
    "    string = re.sub(r\"operatic\", \"opera\", string)\n",
    "\n",
    "    string = re.sub(r\"pitbash jewish punk thrash opera\", \"jewish_punk, thrash, opera\", string)\n",
    "    string = re.sub(r\"pbr&b\", \"alternative r&b\", string)\n",
    "    string = re.sub(r\"pop  dance\", \"pop_dance\", string)\n",
    "    string = re.sub(r\"pop dance rock jazz\", \"pop, dance, rock, jazz\", string)\n",
    "    string = re.sub(r\"pop edm hip-hop\", \"pop, edm, hip-hop\", string)\n",
    "    string = re.sub(r\"pop folksinger songwriter\", \"pop_folk, singer-songwriter\", string)\n",
    "    string = re.sub(r\"pop rock dance\", \"pop, rock, dance\", string)\n",
    "    string = re.sub(r\"pop rock soul\", \"pop, rock, soul\", string)\n",
    "    string = re.sub(r\"pop traditional pop\", \"pop, traditional_pop\", string)\n",
    "    \n",
    "    string = re.sub(r\"poprock\", \"pop_rock\", string)\n",
    "    string = re.sub(r\"backing\", \"\", string)\n",
    "    string = re.sub(r\"post \", \"post-\", string)\n",
    "    string = re.sub(r\"powerpop\", \"power_pop\", string)\n",
    "    string = re.sub(r\"praise & worship\", \"praise&worship\", string)\n",
    "    string = re.sub(r\"protest songs\", \"protest song\", string)\n",
    "    string = re.sub(r\"proto punk\", \"proto-punk\", string)\n",
    "    string = re.sub(r\"protopunk\", \"proto-punk\", string)\n",
    "    string = re.sub(r\"singer[ -/]{0,1}songwriter\", \"singer-songwriter\", string)\n",
    "    \n",
    "    string = re.sub(r\"psych \", \"psychedelic \", string)\n",
    "    string = re.sub(r\"psychedelia\", \"psychedelic\", string)\n",
    "    \n",
    "    string = re.sub(r\"punk-{0,1}rock\", \"punk_rock\", string)\n",
    "    string = re.sub(r\"r&b soul dance\", \"r&b, soul, dance\", string)\n",
    "    string = re.sub(r\"reggae cultural influence\", \"reggae\", string)\n",
    "    string = re.sub(r\"revival punk psycho blues\", \"revival_punk, psycho_blues\", string)\n",
    "    string = re.sub(r\"rock&roll_americana_rhythm_and_blues_alternative\", \"rock&roll, americana, rhythm_and_blues, alternative\", string)\n",
    "    string = re.sub(r\"rock&roll blues\", \"rock&roll, blues\", string)\n",
    "    string = re.sub(r\"sea shanty\", \"sea_shanties\", string)\n",
    "    string = re.sub(r\"shoegazing\", \"shoe gaze\", string)\n",
    "    string = re.sub(r\"singer-songwriter rock\", \"singer-songwriter, rock\", string)\n",
    "\n",
    "    string = re.sub(r\"soundtracks\", \"soundtrack\", string)\n",
    "    string = re.sub(r\"spirituals\", \"spiritual\", string)\n",
    "    string = re.sub(r\"surreal humour\", \"surreal_humor\", string)\n",
    "    string = re.sub(r\"synthpop\", \"synth_pop\", string)\n",
    "    string = re.sub(r\"synthpunk\", \"synth_punk\", string)\n",
    "    string = re.sub(r\"television scores\", \"television_score\", string)\n",
    "    string = re.sub(r\"the motown sound\", \"the_motown_sound\", string)\n",
    "    string = re.sub(r\"theatre\", \"theater\", string)\n",
    "    string = re.sub(r\"theatre performer\", \"theater\", string)\n",
    "    \n",
    "    string = re.sub(r\"torch singer\", \"torch\", string)\n",
    "    string = re.sub(r\"torch songs{0,1}\", \"torch\", string)\n",
    "    string = re.sub(r\"trad\\b\", \"traditional\", string)\n",
    "    string = re.sub(r\"traditional irish early\", \"traditional_irish\", string)\n",
    "    string = re.sub(r\"trance-blues r&b\", \"trance-blues, r&b\", string)\n",
    "    string = re.sub(r\"various styles\", \"various\", string)\n",
    "    string = re.sub(r\"vaudevillian\", \"vaudeville\", string)\n",
    "    string = re.sub(r\"western movies\", \"western films\", string)\n",
    "    string = re.sub(r\"with\", \"\", string)\n",
    "    string = re.sub(r\"with electronics\", \"electronics\", string)\n",
    "    string = re.sub(r\"world music deep-house quiet storm\", \"world, deep-house, quiet_storm\", string)\n",
    "    string = re.sub(r\"world music folk world jazz\", \"world, folk, worl_jazz\", string)\n",
    "    string = re.sub(r\"worldbeat\", \"world_beat\", string)\n",
    "    string = re.sub(r\"yéyé\", \"yé-yé\", string)\n",
    "    string = re.sub(r\"yodelling\", \"yodeling\", string)\n",
    "    \n",
    "    string = re.sub(r\"alternative.{0,1}rock.{0,1}garage.{0,1}rock\", \"alternative_rock,garage_rock\", string)\n",
    "    string = re.sub(r\"americana folk alternative country garage rock\", \"americana,folk, alternative_country,garage_rock\", string)\n",
    "    string = re.sub(r\"acoustic rock folk rock\", \"acoustic_rock,folk_rock\", string)\n",
    "    string = re.sub(r\"americana.{0,1}folk.{0,1}alternative.{0,1}country.{0,1}garage.{0,1}rock\", \"americana,folk,alternative_country,garage_rock\", string)\n",
    "    string = re.sub(r\"'blues soul r & b gospel funk folk', 'african american music'\", \"blues,soul,r&b,gospel,funk,folk,african_american\", string)\n",
    "    string = re.sub(r\"jazz funk bluegrass pop\", \"jazz,funk,bluegrass,pop\", string)\n",
    "    \n",
    "    string = re.sub(r\" music\\b\", \"\", string)\n",
    "    string = re.sub(\" songs\", \"\", string)\n",
    "    string = re.sub(r\"\\bsinger[^- ]\", \"\", string)\n",
    "    return string"
   ]
  },
  {
   "cell_type": "code",
   "execution_count": 38,
   "metadata": {},
   "outputs": [],
   "source": [
    "data['genre_respell']= data['genre'].apply(genrespelling)"
   ]
  },
  {
   "cell_type": "code",
   "execution_count": 121,
   "metadata": {},
   "outputs": [
    {
     "data": {
      "text/plain": [
       "827                       ['hip hop', 'northwest hip hop']\n",
       "3613                      ['hip hop', 'northwest hip hop']\n",
       "19450    ['hip hop', 'west coast hip hop', 'hip hop mus...\n",
       "23139    ['hip hop', 'alternative hip hop', 'pacific no...\n",
       "Name: genre, dtype: object"
      ]
     },
     "execution_count": 121,
     "metadata": {},
     "output_type": "execute_result"
    }
   ],
   "source": [
    "data.genre[data.genre.str.contains(r\"northwest\")]"
   ]
  },
  {
   "cell_type": "code",
   "execution_count": 122,
   "metadata": {},
   "outputs": [
    {
     "data": {
      "text/plain": [
       "8471    ['pop', 'hip', 'hop', 'r&b']\n",
       "Name: genre_respell, dtype: object"
      ]
     },
     "execution_count": 122,
     "metadata": {},
     "output_type": "execute_result"
    }
   ],
   "source": [
    "data.genre_respell[data.genre_respell.str.contains(r\"\\bhip[^-]\")]"
   ]
  },
  {
   "cell_type": "code",
   "execution_count": 123,
   "metadata": {},
   "outputs": [
    {
     "data": {
      "text/plain": [
       "\"['pop', 'hip', 'hop', 'r&b']\""
      ]
     },
     "execution_count": 123,
     "metadata": {},
     "output_type": "execute_result"
    }
   ],
   "source": [
    "data.genre.loc[8471]"
   ]
  },
  {
   "cell_type": "code",
   "execution_count": 124,
   "metadata": {},
   "outputs": [
    {
     "data": {
      "text/plain": [
       "\"['blues soul r&b gospel funk folk', 'african american']\""
      ]
     },
     "execution_count": 124,
     "metadata": {},
     "output_type": "execute_result"
    }
   ],
   "source": [
    "data.genre_respell.loc[14654]"
   ]
  },
  {
   "cell_type": "markdown",
   "metadata": {},
   "source": [
    "## General String Cleaning"
   ]
  },
  {
   "cell_type": "markdown",
   "metadata": {},
   "source": [
    "The following function will systematically reformat the genre lists to a great extent. After applying it, there are still a few cases that are dealt with individually and some that are dropped."
   ]
  },
  {
   "cell_type": "code",
   "execution_count": 42,
   "metadata": {},
   "outputs": [],
   "source": [
    "\"\"\"This function takes in a string of the form\n",
    "appearing in the genrelist of the dataframe.\n",
    "It strips the square brackets and extra quotes and\n",
    "returns a list of strings where each string is a genre label.\n",
    "It also removes strings in parentheses and removes \\( or \\) that are isolated.\n",
    "It replaces 'singer/songwriter' with 'singer-songwriter' and replaces forward slashes with commas.\"\"\"\n",
    "\n",
    "def genrelist(string):\n",
    "    string = string.strip(\"[\").strip(\"]\").replace(\"'\",\"\").replace('\"',\"\") \\\n",
    "    .replace(\"/\",\",\").replace(\"·\",\",\") \\\n",
    "    .replace(r\";\",\",\").replace(r\"|\",\",\").replace(u\"\\xa0\",u\" \")\\\n",
    "    .replace(u\"\\\\xa0\",u\" \")\\\n",
    "    .replace(r\"\\n\",\",\")\n",
    "    L = [s for s in string.split(',')]\n",
    "    L_new = []\n",
    "    for x in L:\n",
    "        x = re.sub(r\"\\(.*?\\)\", \"\", x) \n",
    "        x = re.sub(r\"\\(\", \"\", x) \n",
    "        x = re.sub(r\"\\)\", \"\", x) \n",
    "        x = re.sub(r\":\", \"\", x)\n",
    "        x = re.sub(r\"\\.\", \"\", x)\n",
    "        x = re.sub(r\"\\]\", \"\", x)\n",
    "        x = re.sub(r\"\\[\", \"\", x)\n",
    "        x = x.replace(\" \",\"_\").lstrip(\"_\").rstrip(\"_\").lstrip(\"-\").rstrip(\"-\")\n",
    "        x = re.sub(r\"\\band_{0,1}\", \"\", x)\n",
    "        x = re.sub(r\"_music\\b\", \"\", x)\n",
    "        x = re.sub(r\"_musician\\b\", \"\", x)\n",
    "        x = re.sub(r\"_with\\b\", \"\", x)\n",
    "        x = re.sub(r\"-\", \"_\", x)\n",
    "        x = re.sub(r\"\\*\",\"\", x)\n",
    "        L_new.append(x)\n",
    "    while (str(\"\") in L_new):\n",
    "        L_new.remove(\"\")\n",
    "    return L_new"
   ]
  },
  {
   "cell_type": "code",
   "execution_count": 43,
   "metadata": {},
   "outputs": [],
   "source": [
    "data['genrelist']= data['genre_respell'].apply(genrelist)"
   ]
  },
  {
   "cell_type": "code",
   "execution_count": 44,
   "metadata": {},
   "outputs": [
    {
     "data": {
      "text/plain": [
       "artist                          Fanny_J\n",
       "gender                           female\n",
       "retrieved                       Fanny_J\n",
       "genre              ['zouk', '*', 'r&b']\n",
       "retrieved_clean                 Fanny_J\n",
       "match                                 0\n",
       "genre_respell      ['zouk', '*', 'r&b']\n",
       "genrelist                   [zouk, r&b]\n",
       "Name: 18410, dtype: object"
      ]
     },
     "execution_count": 44,
     "metadata": {},
     "output_type": "execute_result"
    }
   ],
   "source": [
    "data.loc[18410]"
   ]
  },
  {
   "cell_type": "markdown",
   "metadata": {},
   "source": [
    "We can still use 'genre' column for str.contains searches. For example:"
   ]
  },
  {
   "cell_type": "code",
   "execution_count": 127,
   "metadata": {},
   "outputs": [
    {
     "data": {
      "text/plain": [
       "12100    ['funk', 'blues', 'swamp', 'soul', 'reggae.']\n",
       "Name: genre, dtype: object"
      ]
     },
     "execution_count": 127,
     "metadata": {},
     "output_type": "execute_result"
    }
   ],
   "source": [
    "data.genre[data.genre.str.contains(\"reggae\\.\")]"
   ]
  },
  {
   "cell_type": "code",
   "execution_count": 128,
   "metadata": {},
   "outputs": [
    {
     "data": {
      "text/plain": [
       "12100    [funk, blues, swamp, soul, reggae]\n",
       "Name: genrelist, dtype: object"
      ]
     },
     "execution_count": 128,
     "metadata": {},
     "output_type": "execute_result"
    }
   ],
   "source": [
    "data.genrelist[data.genre.str.contains(\"reggae\\.\")]"
   ]
  },
  {
   "cell_type": "markdown",
   "metadata": {},
   "source": [
    "### There are a few more issues to fix by hand:"
   ]
  },
  {
   "cell_type": "code",
   "execution_count": 129,
   "metadata": {},
   "outputs": [
    {
     "data": {
      "text/plain": [
       "\"['blues soul r & b gospel funk folk', 'african american music']\""
      ]
     },
     "execution_count": 129,
     "metadata": {},
     "output_type": "execute_result"
    }
   ],
   "source": [
    "data.genre.loc[14654]"
   ]
  },
  {
   "cell_type": "code",
   "execution_count": 130,
   "metadata": {},
   "outputs": [],
   "source": [
    "data.at[14654, 'genrelist'] = ['blues','soul','r&b','gospel','funk','folk','african_american']"
   ]
  },
  {
   "cell_type": "code",
   "execution_count": 131,
   "metadata": {},
   "outputs": [
    {
     "data": {
      "text/plain": [
       "['blues', 'soul', 'r&b', 'gospel', 'funk', 'folk', 'african_american']"
      ]
     },
     "execution_count": 131,
     "metadata": {},
     "output_type": "execute_result"
    }
   ],
   "source": [
    "data.genrelist.loc[14654]"
   ]
  },
  {
   "cell_type": "code",
   "execution_count": 132,
   "metadata": {},
   "outputs": [
    {
     "data": {
      "text/plain": [
       "\"['pop', 'hip', 'hop', 'r&b']\""
      ]
     },
     "execution_count": 132,
     "metadata": {},
     "output_type": "execute_result"
    }
   ],
   "source": [
    "data.genre.loc[8471]"
   ]
  },
  {
   "cell_type": "code",
   "execution_count": 133,
   "metadata": {},
   "outputs": [],
   "source": [
    "data.at[8471, 'genrelist'] = ['pop','hip_hop','r&b']"
   ]
  },
  {
   "cell_type": "code",
   "execution_count": 134,
   "metadata": {},
   "outputs": [
    {
     "data": {
      "text/plain": [
       "\"['pop', 'hip', 'hop', 'r&b']\""
      ]
     },
     "execution_count": 134,
     "metadata": {},
     "output_type": "execute_result"
    }
   ],
   "source": [
    "data.genre.loc[8471]"
   ]
  },
  {
   "cell_type": "markdown",
   "metadata": {},
   "source": [
    "Two entries with .mw-parser... -- Fix by hand."
   ]
  },
  {
   "cell_type": "code",
   "execution_count": 135,
   "metadata": {},
   "outputs": [
    {
     "data": {
      "text/plain": [
       "2416    [mw_parser_output_divcolumns_2_divcolumn{float...\n",
       "7861    [mw_parser_output_divcolumns_2_divcolumn{float...\n",
       "Name: genrelist, dtype: object"
      ]
     },
     "execution_count": 135,
     "metadata": {},
     "output_type": "execute_result"
    }
   ],
   "source": [
    "data.genrelist[data.genre[data.genre.str.contains(r'\\.mw-.*')].index]"
   ]
  },
  {
   "cell_type": "code",
   "execution_count": 136,
   "metadata": {},
   "outputs": [
    {
     "data": {
      "text/plain": [
       "['mw_parser_output_divcolumns_2_divcolumn{floatleft',\n",
       " 'width50%',\n",
       " 'min_width300px}mw_parser_output_divcolumns_3_divcolumn{floatleft',\n",
       " 'width333%',\n",
       " 'min_width200px}mw_parser_output_divcolumns_4_divcolumn{floatleft',\n",
       " 'width25%',\n",
       " 'min_width150px}mw_parser_output_divcolumns_5_divcolumn{floatleft',\n",
       " 'width20%',\n",
       " 'min_width120px}',\n",
       " 'disco',\n",
       " 'funk',\n",
       " 'electric',\n",
       " 'latin_soul']"
      ]
     },
     "execution_count": 136,
     "metadata": {},
     "output_type": "execute_result"
    }
   ],
   "source": [
    "data.genrelist.loc[2416]"
   ]
  },
  {
   "cell_type": "code",
   "execution_count": 137,
   "metadata": {},
   "outputs": [],
   "source": [
    "data.at[2416,'genrelist'] = ['disco', 'funk', 'electric', 'latin_soul']"
   ]
  },
  {
   "cell_type": "code",
   "execution_count": 138,
   "metadata": {},
   "outputs": [
    {
     "data": {
      "text/plain": [
       "['mw_parser_output_divcolumns_2_divcolumn{floatleft',\n",
       " 'width50%',\n",
       " 'min_width300px}mw_parser_output_divcolumns_3_divcolumn{floatleft',\n",
       " 'width333%',\n",
       " 'min_width200px}mw_parser_output_divcolumns_4_divcolumn{floatleft',\n",
       " 'width25%',\n",
       " 'min_width150px}mw_parser_output_divcolumns_5_divcolumn{floatleft',\n",
       " 'width20%',\n",
       " 'min_width120px}',\n",
       " 'torch']"
      ]
     },
     "execution_count": 138,
     "metadata": {},
     "output_type": "execute_result"
    }
   ],
   "source": [
    "data.genrelist.loc[7861]"
   ]
  },
  {
   "cell_type": "code",
   "execution_count": 139,
   "metadata": {},
   "outputs": [],
   "source": [
    "data.at[7861,'genrelist'] = ['torch_song']"
   ]
  },
  {
   "cell_type": "markdown",
   "metadata": {},
   "source": [
    "Let's look at the list of genre labels that we have just dealt with in detail:"
   ]
  },
  {
   "cell_type": "code",
   "execution_count": 140,
   "metadata": {},
   "outputs": [],
   "source": [
    "trouble_index = data.genre[data.genre.str.contains(r'[;)(/\\\\]')].index"
   ]
  },
  {
   "cell_type": "code",
   "execution_count": 141,
   "metadata": {},
   "outputs": [],
   "source": [
    "trouble = data.loc[trouble_index]"
   ]
  },
  {
   "cell_type": "code",
   "execution_count": 142,
   "metadata": {},
   "outputs": [
    {
     "data": {
      "text/html": [
       "<div>\n",
       "<style scoped>\n",
       "    .dataframe tbody tr th:only-of-type {\n",
       "        vertical-align: middle;\n",
       "    }\n",
       "\n",
       "    .dataframe tbody tr th {\n",
       "        vertical-align: top;\n",
       "    }\n",
       "\n",
       "    .dataframe thead th {\n",
       "        text-align: right;\n",
       "    }\n",
       "</style>\n",
       "<table border=\"1\" class=\"dataframe\">\n",
       "  <thead>\n",
       "    <tr style=\"text-align: right;\">\n",
       "      <th></th>\n",
       "      <th>artist</th>\n",
       "      <th>gender</th>\n",
       "      <th>retrieved</th>\n",
       "      <th>genre</th>\n",
       "      <th>retrieved_clean</th>\n",
       "      <th>match</th>\n",
       "      <th>genre_respell</th>\n",
       "      <th>genrelist</th>\n",
       "    </tr>\n",
       "  </thead>\n",
       "  <tbody>\n",
       "    <tr>\n",
       "      <th>254</th>\n",
       "      <td>Eddy_Oh</td>\n",
       "      <td>male</td>\n",
       "      <td>Eddy_Oh</td>\n",
       "      <td>['k-pop', ';', 'hip hop', ';', 'dance']</td>\n",
       "      <td>Eddy_Oh</td>\n",
       "      <td>0</td>\n",
       "      <td>['k-pop', ';', 'hip-hop', ';', 'dance']</td>\n",
       "      <td>[k_pop, hip_hop, dance]</td>\n",
       "    </tr>\n",
       "    <tr>\n",
       "      <th>331</th>\n",
       "      <td>Jillian_Wheeler</td>\n",
       "      <td>female</td>\n",
       "      <td>Jillian_Wheeler</td>\n",
       "      <td>['indie rock/pop/electronic']</td>\n",
       "      <td>Jillian_Wheeler</td>\n",
       "      <td>0</td>\n",
       "      <td>['indie rock/pop/electronic']</td>\n",
       "      <td>[indie_rock, pop, electronic]</td>\n",
       "    </tr>\n",
       "    <tr>\n",
       "      <th>349</th>\n",
       "      <td>Caleb_Shomo</td>\n",
       "      <td>male</td>\n",
       "      <td>Caleb_Shomo</td>\n",
       "      <td>['metalcore', 'electronic', 'electropop', 'har...</td>\n",
       "      <td>Caleb_Shomo</td>\n",
       "      <td>0</td>\n",
       "      <td>['metalcore', 'electronic', 'electro pop', 'ha...</td>\n",
       "      <td>[metalcore, electronic, electro_pop, hardcore_...</td>\n",
       "    </tr>\n",
       "    <tr>\n",
       "      <th>503</th>\n",
       "      <td>Amy_Black</td>\n",
       "      <td>female</td>\n",
       "      <td>Amy_Black_(singer)</td>\n",
       "      <td>['roots/blues/soul']</td>\n",
       "      <td>Amy_Black</td>\n",
       "      <td>0</td>\n",
       "      <td>['roots/blues/soul']</td>\n",
       "      <td>[roots, blues, soul]</td>\n",
       "    </tr>\n",
       "    <tr>\n",
       "      <th>646</th>\n",
       "      <td>Gabriel_Wilson</td>\n",
       "      <td>male</td>\n",
       "      <td>Gabriel_Wilson</td>\n",
       "      <td>['christian &amp; gospel', 'independent\\nsinger/so...</td>\n",
       "      <td>Gabriel_Wilson</td>\n",
       "      <td>0</td>\n",
       "      <td>['christian, gospel', 'independent\\nsinger-son...</td>\n",
       "      <td>[christian, gospel, independent, singer_songwr...</td>\n",
       "    </tr>\n",
       "  </tbody>\n",
       "</table>\n",
       "</div>"
      ],
      "text/plain": [
       "              artist  gender           retrieved  \\\n",
       "254          Eddy_Oh    male             Eddy_Oh   \n",
       "331  Jillian_Wheeler  female     Jillian_Wheeler   \n",
       "349      Caleb_Shomo    male         Caleb_Shomo   \n",
       "503        Amy_Black  female  Amy_Black_(singer)   \n",
       "646   Gabriel_Wilson    male      Gabriel_Wilson   \n",
       "\n",
       "                                                 genre  retrieved_clean  \\\n",
       "254            ['k-pop', ';', 'hip hop', ';', 'dance']          Eddy_Oh   \n",
       "331                      ['indie rock/pop/electronic']  Jillian_Wheeler   \n",
       "349  ['metalcore', 'electronic', 'electropop', 'har...      Caleb_Shomo   \n",
       "503                               ['roots/blues/soul']        Amy_Black   \n",
       "646  ['christian & gospel', 'independent\\nsinger/so...   Gabriel_Wilson   \n",
       "\n",
       "     match                                      genre_respell  \\\n",
       "254      0            ['k-pop', ';', 'hip-hop', ';', 'dance']   \n",
       "331      0                      ['indie rock/pop/electronic']   \n",
       "349      0  ['metalcore', 'electronic', 'electro pop', 'ha...   \n",
       "503      0                               ['roots/blues/soul']   \n",
       "646      0  ['christian, gospel', 'independent\\nsinger-son...   \n",
       "\n",
       "                                             genrelist  \n",
       "254                            [k_pop, hip_hop, dance]  \n",
       "331                      [indie_rock, pop, electronic]  \n",
       "349  [metalcore, electronic, electro_pop, hardcore_...  \n",
       "503                               [roots, blues, soul]  \n",
       "646  [christian, gospel, independent, singer_songwr...  "
      ]
     },
     "execution_count": 142,
     "metadata": {},
     "output_type": "execute_result"
    }
   ],
   "source": [
    "trouble.head()"
   ]
  },
  {
   "cell_type": "code",
   "execution_count": 143,
   "metadata": {},
   "outputs": [],
   "source": [
    "trouble_genre_list = trouble.genrelist.values.tolist()\n",
    "trouble_genre_list = [x for y in trouble_genre_list for x in y]\n",
    "trouble_genre_list = list(set(trouble_genre_list))"
   ]
  },
  {
   "cell_type": "code",
   "execution_count": 144,
   "metadata": {},
   "outputs": [
    {
     "data": {
      "text/plain": [
       "209"
      ]
     },
     "execution_count": 144,
     "metadata": {},
     "output_type": "execute_result"
    }
   ],
   "source": [
    "len(trouble_genre_list)"
   ]
  },
  {
   "cell_type": "markdown",
   "metadata": {},
   "source": [
    "We find that 'era' appears and explore further. Find that one instance exists and we remove it."
   ]
  },
  {
   "cell_type": "code",
   "execution_count": 145,
   "metadata": {},
   "outputs": [],
   "source": [
    "era = trouble.genre[trouble.genre.str.contains(r'\\bera')]"
   ]
  },
  {
   "cell_type": "code",
   "execution_count": 146,
   "metadata": {},
   "outputs": [
    {
     "data": {
      "text/plain": [
       "7908    ['rock', 'alternative rock', 'experimental', '...\n",
       "Name: genre, dtype: object"
      ]
     },
     "execution_count": 146,
     "metadata": {},
     "output_type": "execute_result"
    }
   ],
   "source": [
    "era"
   ]
  },
  {
   "cell_type": "code",
   "execution_count": 147,
   "metadata": {},
   "outputs": [
    {
     "data": {
      "text/plain": [
       "['rock',\n",
       " 'alternative_rock',\n",
       " 'experimental',\n",
       " 'mpb',\n",
       " 'progressive_rock',\n",
       " 'post_punk',\n",
       " 'new_wave',\n",
       " 'samba_rock',\n",
       " 'cuidado!',\n",
       " 'era']"
      ]
     },
     "execution_count": 147,
     "metadata": {},
     "output_type": "execute_result"
    }
   ],
   "source": [
    "data.genrelist.loc[7908]"
   ]
  },
  {
   "cell_type": "code",
   "execution_count": 148,
   "metadata": {},
   "outputs": [],
   "source": [
    "data.at[7908,'genrelist'] = ['rock',\n",
    " 'alternative_rock',\n",
    " 'experimental',\n",
    " 'mpb',\n",
    " 'progressive_rock',\n",
    " 'post-punk',\n",
    " 'new_wave',\n",
    " 'samba_rock',\n",
    " ]"
   ]
  },
  {
   "cell_type": "code",
   "execution_count": 149,
   "metadata": {},
   "outputs": [
    {
     "data": {
      "text/plain": [
       "['rock',\n",
       " 'alternative_rock',\n",
       " 'experimental',\n",
       " 'mpb',\n",
       " 'progressive_rock',\n",
       " 'post-punk',\n",
       " 'new_wave',\n",
       " 'samba_rock']"
      ]
     },
     "execution_count": 149,
     "metadata": {},
     "output_type": "execute_result"
    }
   ],
   "source": [
    "data.genrelist.loc[7908]"
   ]
  },
  {
   "cell_type": "code",
   "execution_count": 150,
   "metadata": {},
   "outputs": [
    {
     "data": {
      "text/plain": [
       "artist                                                Billy_Connolly\n",
       "gender                                                          male\n",
       "retrieved                                             Billy_Connolly\n",
       "genre              ['observational', 'blue comedy', 'musical_come...\n",
       "retrieved_clean                                       Billy_Connolly\n",
       "match                                                              0\n",
       "genre_respell      ['observational', 'blue comedy', 'musical_come...\n",
       "genrelist               [observational, blue_comedy, musical_comedy]\n",
       "Name: 22536, dtype: object"
      ]
     },
     "execution_count": 150,
     "metadata": {},
     "output_type": "execute_result"
    }
   ],
   "source": [
    "data.loc[22536]"
   ]
  },
  {
   "cell_type": "markdown",
   "metadata": {},
   "source": [
    "We look through the list of genres that were causing trouble due to special characters:"
   ]
  },
  {
   "cell_type": "code",
   "execution_count": 151,
   "metadata": {},
   "outputs": [
    {
     "data": {
      "text/plain": [
       "['aor',\n",
       " 'inspirational',\n",
       " 'nu_metal',\n",
       " 'teen_pop',\n",
       " 'rap_metal',\n",
       " 'christian_metal',\n",
       " 'alternative',\n",
       " 'art_rock',\n",
       " 'heavy_metal']"
      ]
     },
     "execution_count": 151,
     "metadata": {},
     "output_type": "execute_result"
    }
   ],
   "source": [
    "n = 8\n",
    "trouble_genre_list[25*n:25*(n+1)]"
   ]
  },
  {
   "cell_type": "markdown",
   "metadata": {},
   "source": [
    "- [ ] Check that all of the problematic symbols are removed."
   ]
  },
  {
   "cell_type": "markdown",
   "metadata": {},
   "source": [
    "- [ ] Search for labels with two or more \"_\" as these might be multiple labels stuck together"
   ]
  },
  {
   "cell_type": "code",
   "execution_count": 152,
   "metadata": {},
   "outputs": [
    {
     "data": {
      "text/plain": [
       "(15500, 8)"
      ]
     },
     "execution_count": 152,
     "metadata": {},
     "output_type": "execute_result"
    }
   ],
   "source": [
    "data.shape"
   ]
  },
  {
   "cell_type": "markdown",
   "metadata": {},
   "source": [
    "### Remove all artists with null values for genre :"
   ]
  },
  {
   "cell_type": "code",
   "execution_count": 153,
   "metadata": {},
   "outputs": [
    {
     "data": {
      "text/plain": [
       "artist             0\n",
       "gender             0\n",
       "retrieved          0\n",
       "genre              0\n",
       "retrieved_clean    0\n",
       "match              0\n",
       "genre_respell      0\n",
       "genrelist          0\n",
       "dtype: int64"
      ]
     },
     "execution_count": 153,
     "metadata": {},
     "output_type": "execute_result"
    }
   ],
   "source": [
    "data.isnull().sum(axis = 0)"
   ]
  },
  {
   "cell_type": "code",
   "execution_count": 154,
   "metadata": {},
   "outputs": [],
   "source": [
    "data = data[data['genrelist'].notnull()].copy(deep = True)"
   ]
  },
  {
   "cell_type": "code",
   "execution_count": 155,
   "metadata": {},
   "outputs": [
    {
     "data": {
      "text/plain": [
       "artist             0\n",
       "gender             0\n",
       "retrieved          0\n",
       "genre              0\n",
       "retrieved_clean    0\n",
       "match              0\n",
       "genre_respell      0\n",
       "genrelist          0\n",
       "dtype: int64"
      ]
     },
     "execution_count": 155,
     "metadata": {},
     "output_type": "execute_result"
    }
   ],
   "source": [
    "data.isnull().sum(axis = 0)"
   ]
  },
  {
   "cell_type": "code",
   "execution_count": 156,
   "metadata": {},
   "outputs": [
    {
     "data": {
      "text/plain": [
       "(15500, 8)"
      ]
     },
     "execution_count": 156,
     "metadata": {},
     "output_type": "execute_result"
    }
   ],
   "source": [
    "data.shape"
   ]
  },
  {
   "cell_type": "markdown",
   "metadata": {},
   "source": [
    "### Create column with length of genre lists:"
   ]
  },
  {
   "cell_type": "code",
   "execution_count": 157,
   "metadata": {},
   "outputs": [],
   "source": [
    "data['genrelist_length'] = data.genrelist.apply(lambda x: len(x))"
   ]
  },
  {
   "cell_type": "code",
   "execution_count": 158,
   "metadata": {},
   "outputs": [
    {
     "data": {
      "text/plain": [
       "(15500, 9)"
      ]
     },
     "execution_count": 158,
     "metadata": {},
     "output_type": "execute_result"
    }
   ],
   "source": [
    "data.shape"
   ]
  },
  {
   "cell_type": "markdown",
   "metadata": {},
   "source": [
    "### Remove artists for which the genre list is empty:"
   ]
  },
  {
   "cell_type": "code",
   "execution_count": 159,
   "metadata": {},
   "outputs": [
    {
     "data": {
      "text/html": [
       "<div>\n",
       "<style scoped>\n",
       "    .dataframe tbody tr th:only-of-type {\n",
       "        vertical-align: middle;\n",
       "    }\n",
       "\n",
       "    .dataframe tbody tr th {\n",
       "        vertical-align: top;\n",
       "    }\n",
       "\n",
       "    .dataframe thead th {\n",
       "        text-align: right;\n",
       "    }\n",
       "</style>\n",
       "<table border=\"1\" class=\"dataframe\">\n",
       "  <thead>\n",
       "    <tr style=\"text-align: right;\">\n",
       "      <th></th>\n",
       "      <th>artist</th>\n",
       "      <th>gender</th>\n",
       "      <th>retrieved</th>\n",
       "      <th>genre</th>\n",
       "      <th>retrieved_clean</th>\n",
       "      <th>match</th>\n",
       "      <th>genre_respell</th>\n",
       "      <th>genrelist</th>\n",
       "      <th>genrelist_length</th>\n",
       "    </tr>\n",
       "  </thead>\n",
       "  <tbody>\n",
       "    <tr>\n",
       "      <th>610</th>\n",
       "      <td>Erick_Baker</td>\n",
       "      <td>male</td>\n",
       "      <td>Erick_Baker</td>\n",
       "      <td>['clarification needed', ']']</td>\n",
       "      <td>Erick_Baker</td>\n",
       "      <td>0</td>\n",
       "      <td>['', ']']</td>\n",
       "      <td>[]</td>\n",
       "      <td>0</td>\n",
       "    </tr>\n",
       "    <tr>\n",
       "      <th>4024</th>\n",
       "      <td>Cupid</td>\n",
       "      <td>male</td>\n",
       "      <td>Cupid_(singer)</td>\n",
       "      <td>[]</td>\n",
       "      <td>Cupid</td>\n",
       "      <td>0</td>\n",
       "      <td>[]</td>\n",
       "      <td>[]</td>\n",
       "      <td>0</td>\n",
       "    </tr>\n",
       "    <tr>\n",
       "      <th>15255</th>\n",
       "      <td>Mary_Zilba</td>\n",
       "      <td>female</td>\n",
       "      <td>Mary_Zilba</td>\n",
       "      <td>[]</td>\n",
       "      <td>Mary_Zilba</td>\n",
       "      <td>0</td>\n",
       "      <td>[]</td>\n",
       "      <td>[]</td>\n",
       "      <td>0</td>\n",
       "    </tr>\n",
       "    <tr>\n",
       "      <th>17487</th>\n",
       "      <td>Betty_Clooney</td>\n",
       "      <td>female</td>\n",
       "      <td>Betty_Clooney</td>\n",
       "      <td>[]</td>\n",
       "      <td>Betty_Clooney</td>\n",
       "      <td>0</td>\n",
       "      <td>[]</td>\n",
       "      <td>[]</td>\n",
       "      <td>0</td>\n",
       "    </tr>\n",
       "  </tbody>\n",
       "</table>\n",
       "</div>"
      ],
      "text/plain": [
       "              artist  gender       retrieved                          genre  \\\n",
       "610      Erick_Baker    male     Erick_Baker  ['clarification needed', ']']   \n",
       "4024           Cupid    male  Cupid_(singer)                             []   \n",
       "15255     Mary_Zilba  female      Mary_Zilba                             []   \n",
       "17487  Betty_Clooney  female   Betty_Clooney                             []   \n",
       "\n",
       "      retrieved_clean  match genre_respell genrelist  genrelist_length  \n",
       "610       Erick_Baker      0     ['', ']']        []                 0  \n",
       "4024            Cupid      0            []        []                 0  \n",
       "15255      Mary_Zilba      0            []        []                 0  \n",
       "17487   Betty_Clooney      0            []        []                 0  "
      ]
     },
     "execution_count": 159,
     "metadata": {},
     "output_type": "execute_result"
    }
   ],
   "source": [
    "data[data.genrelist_length == 0]"
   ]
  },
  {
   "cell_type": "markdown",
   "metadata": {},
   "source": [
    "Note: Cupid, Mary Zilba, Betty Clooney have made it to this point but actually have no genres listed in wikipedia."
   ]
  },
  {
   "cell_type": "code",
   "execution_count": 160,
   "metadata": {},
   "outputs": [],
   "source": [
    "data = data[data.genrelist_length > 0].copy(deep = True)"
   ]
  },
  {
   "cell_type": "code",
   "execution_count": 161,
   "metadata": {},
   "outputs": [
    {
     "data": {
      "text/plain": [
       "(15496, 9)"
      ]
     },
     "execution_count": 161,
     "metadata": {},
     "output_type": "execute_result"
    }
   ],
   "source": [
    "data.shape"
   ]
  },
  {
   "cell_type": "markdown",
   "metadata": {},
   "source": [
    "### Remove bands"
   ]
  },
  {
   "cell_type": "code",
   "execution_count": 162,
   "metadata": {},
   "outputs": [
    {
     "data": {
      "text/html": [
       "<div>\n",
       "<style scoped>\n",
       "    .dataframe tbody tr th:only-of-type {\n",
       "        vertical-align: middle;\n",
       "    }\n",
       "\n",
       "    .dataframe tbody tr th {\n",
       "        vertical-align: top;\n",
       "    }\n",
       "\n",
       "    .dataframe thead th {\n",
       "        text-align: right;\n",
       "    }\n",
       "</style>\n",
       "<table border=\"1\" class=\"dataframe\">\n",
       "  <thead>\n",
       "    <tr style=\"text-align: right;\">\n",
       "      <th></th>\n",
       "      <th>artist</th>\n",
       "      <th>gender</th>\n",
       "      <th>retrieved</th>\n",
       "      <th>genre</th>\n",
       "      <th>retrieved_clean</th>\n",
       "      <th>match</th>\n",
       "      <th>genre_respell</th>\n",
       "      <th>genrelist</th>\n",
       "      <th>genrelist_length</th>\n",
       "    </tr>\n",
       "  </thead>\n",
       "  <tbody>\n",
       "    <tr>\n",
       "      <th>250</th>\n",
       "      <td>Midori</td>\n",
       "      <td>female</td>\n",
       "      <td>Midori_(band)</td>\n",
       "      <td>['punk jazz', 'noise rock', 'jazz fusion', 'ex...</td>\n",
       "      <td>Midori</td>\n",
       "      <td>0</td>\n",
       "      <td>['punk jazz', 'noise rock', 'jazz fusion', 'ex...</td>\n",
       "      <td>[punk_jazz, noise_rock, jazz_fusion, experimen...</td>\n",
       "      <td>5</td>\n",
       "    </tr>\n",
       "    <tr>\n",
       "      <th>537</th>\n",
       "      <td>Sissy_Spacek</td>\n",
       "      <td>female</td>\n",
       "      <td>Sissy_Spacek_(band)</td>\n",
       "      <td>['noisecore']</td>\n",
       "      <td>Sissy_Spacek</td>\n",
       "      <td>0</td>\n",
       "      <td>['noisecore']</td>\n",
       "      <td>[noisecore]</td>\n",
       "      <td>1</td>\n",
       "    </tr>\n",
       "    <tr>\n",
       "      <th>895</th>\n",
       "      <td>Dr._Know</td>\n",
       "      <td>male</td>\n",
       "      <td>Dr._Know_(band)</td>\n",
       "      <td>['nardcore', 'crossover thrash', 'punk']</td>\n",
       "      <td>Dr._Know</td>\n",
       "      <td>0</td>\n",
       "      <td>['nardcore', 'crossover thrash', 'punk']</td>\n",
       "      <td>[nardcore, crossover_thrash, punk]</td>\n",
       "      <td>3</td>\n",
       "    </tr>\n",
       "    <tr>\n",
       "      <th>2243</th>\n",
       "      <td>Atlanta</td>\n",
       "      <td>female</td>\n",
       "      <td>Atlanta_(band)</td>\n",
       "      <td>['country']</td>\n",
       "      <td>Atlanta</td>\n",
       "      <td>0</td>\n",
       "      <td>['country']</td>\n",
       "      <td>[country]</td>\n",
       "      <td>1</td>\n",
       "    </tr>\n",
       "    <tr>\n",
       "      <th>4238</th>\n",
       "      <td>Newton</td>\n",
       "      <td>male</td>\n",
       "      <td>Newton_(band)</td>\n",
       "      <td>['mákina']</td>\n",
       "      <td>Newton</td>\n",
       "      <td>0</td>\n",
       "      <td>['mákina']</td>\n",
       "      <td>[mákina]</td>\n",
       "      <td>1</td>\n",
       "    </tr>\n",
       "    <tr>\n",
       "      <th>4691</th>\n",
       "      <td>Northcote</td>\n",
       "      <td>male</td>\n",
       "      <td>Northcote_(band)</td>\n",
       "      <td>['folk rock', 'punk rock', 'post-hardcore']</td>\n",
       "      <td>Northcote</td>\n",
       "      <td>0</td>\n",
       "      <td>['folk rock', 'punk rock', 'post-hardcore']</td>\n",
       "      <td>[folk_rock, punk_rock, post_hardcore]</td>\n",
       "      <td>3</td>\n",
       "    </tr>\n",
       "    <tr>\n",
       "      <th>5667</th>\n",
       "      <td>Stone</td>\n",
       "      <td>female</td>\n",
       "      <td>Stone_(band)</td>\n",
       "      <td>['thrash metal', 'progressive metal', 'speed m...</td>\n",
       "      <td>Stone</td>\n",
       "      <td>0</td>\n",
       "      <td>['thrash metal', 'progressive metal', 'speed m...</td>\n",
       "      <td>[thrash_metal, progressive_metal, speed_metal]</td>\n",
       "      <td>3</td>\n",
       "    </tr>\n",
       "    <tr>\n",
       "      <th>6043</th>\n",
       "      <td>Envy</td>\n",
       "      <td>female</td>\n",
       "      <td>Envy_(band)</td>\n",
       "      <td>['post-hardcore', 'screamo', 'post-rock']</td>\n",
       "      <td>Envy</td>\n",
       "      <td>0</td>\n",
       "      <td>['post-hardcore', 'screamo', 'post-rock']</td>\n",
       "      <td>[post_hardcore, screamo, post_rock]</td>\n",
       "      <td>3</td>\n",
       "    </tr>\n",
       "    <tr>\n",
       "      <th>6084</th>\n",
       "      <td>Muna</td>\n",
       "      <td>female</td>\n",
       "      <td>Muna_(band)</td>\n",
       "      <td>['dark pop', 'pop rock']</td>\n",
       "      <td>Muna</td>\n",
       "      <td>0</td>\n",
       "      <td>['dark pop', 'pop rock']</td>\n",
       "      <td>[dark_pop, pop_rock]</td>\n",
       "      <td>2</td>\n",
       "    </tr>\n",
       "    <tr>\n",
       "      <th>7017</th>\n",
       "      <td>Ó</td>\n",
       "      <td>female</td>\n",
       "      <td>Ó_(band)</td>\n",
       "      <td>['indie pop', 'indie rock', 'folk', ' bedroom ...</td>\n",
       "      <td>Ó</td>\n",
       "      <td>0</td>\n",
       "      <td>['indie pop', 'indie rock', 'folk', ' bedroom ...</td>\n",
       "      <td>[indie_pop, indie_rock, folk, bedroom_pop]</td>\n",
       "      <td>4</td>\n",
       "    </tr>\n",
       "    <tr>\n",
       "      <th>7174</th>\n",
       "      <td>Brownstone</td>\n",
       "      <td>female</td>\n",
       "      <td>Brownstone_(band)</td>\n",
       "      <td>['r&amp;b']</td>\n",
       "      <td>Brownstone</td>\n",
       "      <td>0</td>\n",
       "      <td>['r&amp;b']</td>\n",
       "      <td>[r&amp;b]</td>\n",
       "      <td>1</td>\n",
       "    </tr>\n",
       "    <tr>\n",
       "      <th>7420</th>\n",
       "      <td>Beulah</td>\n",
       "      <td>female</td>\n",
       "      <td>Beulah_(band)</td>\n",
       "      <td>['indie rock']</td>\n",
       "      <td>Beulah</td>\n",
       "      <td>0</td>\n",
       "      <td>['indie rock']</td>\n",
       "      <td>[indie_rock]</td>\n",
       "      <td>1</td>\n",
       "    </tr>\n",
       "    <tr>\n",
       "      <th>7587</th>\n",
       "      <td>Beef</td>\n",
       "      <td>male</td>\n",
       "      <td>Beef_(band)</td>\n",
       "      <td>['reggae', 'ska', 'funk', 'rock']</td>\n",
       "      <td>Beef</td>\n",
       "      <td>0</td>\n",
       "      <td>['reggae', 'ska', 'funk', 'rock']</td>\n",
       "      <td>[reggae, ska, funk, rock]</td>\n",
       "      <td>4</td>\n",
       "    </tr>\n",
       "    <tr>\n",
       "      <th>8368</th>\n",
       "      <td>Tank</td>\n",
       "      <td>male</td>\n",
       "      <td>Tank_(band)</td>\n",
       "      <td>['heavy metal']</td>\n",
       "      <td>Tank</td>\n",
       "      <td>0</td>\n",
       "      <td>['heavy metal']</td>\n",
       "      <td>[heavy_metal]</td>\n",
       "      <td>1</td>\n",
       "    </tr>\n",
       "    <tr>\n",
       "      <th>8810</th>\n",
       "      <td>Quincy</td>\n",
       "      <td>male</td>\n",
       "      <td>Quincy_(band)</td>\n",
       "      <td>['new wave', 'power pop', 'punk rock']</td>\n",
       "      <td>Quincy</td>\n",
       "      <td>0</td>\n",
       "      <td>['new wave', 'power pop', 'punk rock']</td>\n",
       "      <td>[new_wave, power_pop, punk_rock]</td>\n",
       "      <td>3</td>\n",
       "    </tr>\n",
       "    <tr>\n",
       "      <th>9692</th>\n",
       "      <td>Ours</td>\n",
       "      <td>male</td>\n",
       "      <td>Ours_(band)</td>\n",
       "      <td>['alternative rock', 'post-grunge', 'progressi...</td>\n",
       "      <td>Ours</td>\n",
       "      <td>0</td>\n",
       "      <td>['alternative-rock', 'post-grunge', 'progressi...</td>\n",
       "      <td>[alternative_rock, post_grunge, progressive_rock]</td>\n",
       "      <td>3</td>\n",
       "    </tr>\n",
       "    <tr>\n",
       "      <th>10509</th>\n",
       "      <td>The_Teardrops</td>\n",
       "      <td>female</td>\n",
       "      <td>The_Teardrops_(band)</td>\n",
       "      <td>['punk rock', 'post-punk', 'new wave']</td>\n",
       "      <td>The_Teardrops</td>\n",
       "      <td>0</td>\n",
       "      <td>['punk rock', 'post-punk', 'new wave']</td>\n",
       "      <td>[punk_rock, post_punk, new_wave]</td>\n",
       "      <td>3</td>\n",
       "    </tr>\n",
       "    <tr>\n",
       "      <th>16178</th>\n",
       "      <td>Chop_Chop</td>\n",
       "      <td>female</td>\n",
       "      <td>Chop_Chop_(band)</td>\n",
       "      <td>['electropop']</td>\n",
       "      <td>Chop_Chop</td>\n",
       "      <td>0</td>\n",
       "      <td>['electro pop']</td>\n",
       "      <td>[electro_pop]</td>\n",
       "      <td>1</td>\n",
       "    </tr>\n",
       "    <tr>\n",
       "      <th>16548</th>\n",
       "      <td>Hoover</td>\n",
       "      <td>male</td>\n",
       "      <td>Hoover_(band)</td>\n",
       "      <td>['post-hardcore', 'emo']</td>\n",
       "      <td>Hoover</td>\n",
       "      <td>0</td>\n",
       "      <td>['post-hardcore', 'emo']</td>\n",
       "      <td>[post_hardcore, emo]</td>\n",
       "      <td>2</td>\n",
       "    </tr>\n",
       "    <tr>\n",
       "      <th>16574</th>\n",
       "      <td>Troja</td>\n",
       "      <td>female</td>\n",
       "      <td>Troja_(band)</td>\n",
       "      <td>['heavy metal', 'thrash metal', 'hard rock']</td>\n",
       "      <td>Troja</td>\n",
       "      <td>0</td>\n",
       "      <td>['heavy metal', 'thrash metal', 'hard rock']</td>\n",
       "      <td>[heavy_metal, thrash_metal, hard_rock]</td>\n",
       "      <td>3</td>\n",
       "    </tr>\n",
       "    <tr>\n",
       "      <th>16740</th>\n",
       "      <td>Angel</td>\n",
       "      <td>male</td>\n",
       "      <td>Angel_(band)</td>\n",
       "      <td>['glam rock', 'progressive rock', 'hard rock']</td>\n",
       "      <td>Angel</td>\n",
       "      <td>0</td>\n",
       "      <td>['glam rock', 'progressive rock', 'hard rock']</td>\n",
       "      <td>[glam_rock, progressive_rock, hard_rock]</td>\n",
       "      <td>3</td>\n",
       "    </tr>\n",
       "    <tr>\n",
       "      <th>19188</th>\n",
       "      <td>Anna</td>\n",
       "      <td>female</td>\n",
       "      <td>Anna_(band)</td>\n",
       "      <td>['nu metal', 'hardcore']</td>\n",
       "      <td>Anna</td>\n",
       "      <td>0</td>\n",
       "      <td>['nu metal', 'hardcore']</td>\n",
       "      <td>[nu_metal, hardcore]</td>\n",
       "      <td>2</td>\n",
       "    </tr>\n",
       "    <tr>\n",
       "      <th>19635</th>\n",
       "      <td>Millionaires</td>\n",
       "      <td>female</td>\n",
       "      <td>Millionaires_(band)</td>\n",
       "      <td>['electropop', 'hip hop', 'crunkcore']</td>\n",
       "      <td>Millionaires</td>\n",
       "      <td>0</td>\n",
       "      <td>['electro pop', 'hip-hop', 'crunkcore']</td>\n",
       "      <td>[electro_pop, hip_hop, crunkcore]</td>\n",
       "      <td>3</td>\n",
       "    </tr>\n",
       "    <tr>\n",
       "      <th>21711</th>\n",
       "      <td>Dorian_Gray</td>\n",
       "      <td>male</td>\n",
       "      <td>Dorian_Gray_(band)</td>\n",
       "      <td>['art rock']</td>\n",
       "      <td>Dorian_Gray</td>\n",
       "      <td>0</td>\n",
       "      <td>['art rock']</td>\n",
       "      <td>[art_rock]</td>\n",
       "      <td>1</td>\n",
       "    </tr>\n",
       "    <tr>\n",
       "      <th>22808</th>\n",
       "      <td>Goat</td>\n",
       "      <td>male</td>\n",
       "      <td>Goat_(band)</td>\n",
       "      <td>['experimental rock', 'psychedelic rock', 'har...</td>\n",
       "      <td>Goat</td>\n",
       "      <td>0</td>\n",
       "      <td>['experimental rock', 'psychedelic rock', 'har...</td>\n",
       "      <td>[experimental_rock, psychedelic_rock, hard_roc...</td>\n",
       "      <td>5</td>\n",
       "    </tr>\n",
       "    <tr>\n",
       "      <th>22911</th>\n",
       "      <td>Jawbone</td>\n",
       "      <td>male</td>\n",
       "      <td>Jawbone_(band)</td>\n",
       "      <td>['christian hardcore', 'hardcore punk']</td>\n",
       "      <td>Jawbone</td>\n",
       "      <td>0</td>\n",
       "      <td>['christian hardcore', 'hardcore punk']</td>\n",
       "      <td>[christian_hardcore, hardcore_punk]</td>\n",
       "      <td>2</td>\n",
       "    </tr>\n",
       "  </tbody>\n",
       "</table>\n",
       "</div>"
      ],
      "text/plain": [
       "              artist  gender             retrieved  \\\n",
       "250           Midori  female         Midori_(band)   \n",
       "537     Sissy_Spacek  female   Sissy_Spacek_(band)   \n",
       "895         Dr._Know    male       Dr._Know_(band)   \n",
       "2243         Atlanta  female        Atlanta_(band)   \n",
       "4238          Newton    male         Newton_(band)   \n",
       "4691       Northcote    male      Northcote_(band)   \n",
       "5667           Stone  female          Stone_(band)   \n",
       "6043            Envy  female           Envy_(band)   \n",
       "6084            Muna  female           Muna_(band)   \n",
       "7017               Ó  female              Ó_(band)   \n",
       "7174      Brownstone  female     Brownstone_(band)   \n",
       "7420          Beulah  female         Beulah_(band)   \n",
       "7587            Beef    male           Beef_(band)   \n",
       "8368            Tank    male           Tank_(band)   \n",
       "8810          Quincy    male         Quincy_(band)   \n",
       "9692            Ours    male           Ours_(band)   \n",
       "10509  The_Teardrops  female  The_Teardrops_(band)   \n",
       "16178      Chop_Chop  female      Chop_Chop_(band)   \n",
       "16548         Hoover    male         Hoover_(band)   \n",
       "16574          Troja  female          Troja_(band)   \n",
       "16740          Angel    male          Angel_(band)   \n",
       "19188           Anna  female           Anna_(band)   \n",
       "19635   Millionaires  female   Millionaires_(band)   \n",
       "21711    Dorian_Gray    male    Dorian_Gray_(band)   \n",
       "22808           Goat    male           Goat_(band)   \n",
       "22911        Jawbone    male        Jawbone_(band)   \n",
       "\n",
       "                                                   genre retrieved_clean  \\\n",
       "250    ['punk jazz', 'noise rock', 'jazz fusion', 'ex...          Midori   \n",
       "537                                        ['noisecore']    Sissy_Spacek   \n",
       "895             ['nardcore', 'crossover thrash', 'punk']        Dr._Know   \n",
       "2243                                         ['country']         Atlanta   \n",
       "4238                                          ['mákina']          Newton   \n",
       "4691         ['folk rock', 'punk rock', 'post-hardcore']       Northcote   \n",
       "5667   ['thrash metal', 'progressive metal', 'speed m...           Stone   \n",
       "6043           ['post-hardcore', 'screamo', 'post-rock']            Envy   \n",
       "6084                            ['dark pop', 'pop rock']            Muna   \n",
       "7017   ['indie pop', 'indie rock', 'folk', ' bedroom ...               Ó   \n",
       "7174                                             ['r&b']      Brownstone   \n",
       "7420                                      ['indie rock']          Beulah   \n",
       "7587                   ['reggae', 'ska', 'funk', 'rock']            Beef   \n",
       "8368                                     ['heavy metal']            Tank   \n",
       "8810              ['new wave', 'power pop', 'punk rock']          Quincy   \n",
       "9692   ['alternative rock', 'post-grunge', 'progressi...            Ours   \n",
       "10509             ['punk rock', 'post-punk', 'new wave']   The_Teardrops   \n",
       "16178                                     ['electropop']       Chop_Chop   \n",
       "16548                           ['post-hardcore', 'emo']          Hoover   \n",
       "16574       ['heavy metal', 'thrash metal', 'hard rock']           Troja   \n",
       "16740     ['glam rock', 'progressive rock', 'hard rock']           Angel   \n",
       "19188                           ['nu metal', 'hardcore']            Anna   \n",
       "19635             ['electropop', 'hip hop', 'crunkcore']    Millionaires   \n",
       "21711                                       ['art rock']     Dorian_Gray   \n",
       "22808  ['experimental rock', 'psychedelic rock', 'har...            Goat   \n",
       "22911            ['christian hardcore', 'hardcore punk']         Jawbone   \n",
       "\n",
       "       match                                      genre_respell  \\\n",
       "250        0  ['punk jazz', 'noise rock', 'jazz fusion', 'ex...   \n",
       "537        0                                      ['noisecore']   \n",
       "895        0           ['nardcore', 'crossover thrash', 'punk']   \n",
       "2243       0                                        ['country']   \n",
       "4238       0                                         ['mákina']   \n",
       "4691       0        ['folk rock', 'punk rock', 'post-hardcore']   \n",
       "5667       0  ['thrash metal', 'progressive metal', 'speed m...   \n",
       "6043       0          ['post-hardcore', 'screamo', 'post-rock']   \n",
       "6084       0                           ['dark pop', 'pop rock']   \n",
       "7017       0  ['indie pop', 'indie rock', 'folk', ' bedroom ...   \n",
       "7174       0                                            ['r&b']   \n",
       "7420       0                                     ['indie rock']   \n",
       "7587       0                  ['reggae', 'ska', 'funk', 'rock']   \n",
       "8368       0                                    ['heavy metal']   \n",
       "8810       0             ['new wave', 'power pop', 'punk rock']   \n",
       "9692       0  ['alternative-rock', 'post-grunge', 'progressi...   \n",
       "10509      0             ['punk rock', 'post-punk', 'new wave']   \n",
       "16178      0                                    ['electro pop']   \n",
       "16548      0                           ['post-hardcore', 'emo']   \n",
       "16574      0       ['heavy metal', 'thrash metal', 'hard rock']   \n",
       "16740      0     ['glam rock', 'progressive rock', 'hard rock']   \n",
       "19188      0                           ['nu metal', 'hardcore']   \n",
       "19635      0            ['electro pop', 'hip-hop', 'crunkcore']   \n",
       "21711      0                                       ['art rock']   \n",
       "22808      0  ['experimental rock', 'psychedelic rock', 'har...   \n",
       "22911      0            ['christian hardcore', 'hardcore punk']   \n",
       "\n",
       "                                               genrelist  genrelist_length  \n",
       "250    [punk_jazz, noise_rock, jazz_fusion, experimen...                 5  \n",
       "537                                          [noisecore]                 1  \n",
       "895                   [nardcore, crossover_thrash, punk]                 3  \n",
       "2243                                           [country]                 1  \n",
       "4238                                            [mákina]                 1  \n",
       "4691               [folk_rock, punk_rock, post_hardcore]                 3  \n",
       "5667      [thrash_metal, progressive_metal, speed_metal]                 3  \n",
       "6043                 [post_hardcore, screamo, post_rock]                 3  \n",
       "6084                                [dark_pop, pop_rock]                 2  \n",
       "7017          [indie_pop, indie_rock, folk, bedroom_pop]                 4  \n",
       "7174                                               [r&b]                 1  \n",
       "7420                                        [indie_rock]                 1  \n",
       "7587                           [reggae, ska, funk, rock]                 4  \n",
       "8368                                       [heavy_metal]                 1  \n",
       "8810                    [new_wave, power_pop, punk_rock]                 3  \n",
       "9692   [alternative_rock, post_grunge, progressive_rock]                 3  \n",
       "10509                   [punk_rock, post_punk, new_wave]                 3  \n",
       "16178                                      [electro_pop]                 1  \n",
       "16548                               [post_hardcore, emo]                 2  \n",
       "16574             [heavy_metal, thrash_metal, hard_rock]                 3  \n",
       "16740           [glam_rock, progressive_rock, hard_rock]                 3  \n",
       "19188                               [nu_metal, hardcore]                 2  \n",
       "19635                  [electro_pop, hip_hop, crunkcore]                 3  \n",
       "21711                                         [art_rock]                 1  \n",
       "22808  [experimental_rock, psychedelic_rock, hard_roc...                 5  \n",
       "22911                [christian_hardcore, hardcore_punk]                 2  "
      ]
     },
     "execution_count": 162,
     "metadata": {},
     "output_type": "execute_result"
    }
   ],
   "source": [
    "data[data.retrieved.str.contains('band')]"
   ]
  },
  {
   "cell_type": "code",
   "execution_count": 163,
   "metadata": {},
   "outputs": [
    {
     "data": {
      "text/plain": [
       "((15496, 9), (15470, 9), (26, 9))"
      ]
     },
     "execution_count": 163,
     "metadata": {},
     "output_type": "execute_result"
    }
   ],
   "source": [
    "data.shape, data[~data.retrieved.str.contains('band')].shape, data[data.retrieved.str.contains('band')].shape"
   ]
  },
  {
   "cell_type": "code",
   "execution_count": 164,
   "metadata": {},
   "outputs": [],
   "source": [
    "data = data[~data.retrieved.str.contains('band')].copy(deep = True)"
   ]
  },
  {
   "cell_type": "code",
   "execution_count": 165,
   "metadata": {},
   "outputs": [
    {
     "data": {
      "text/plain": [
       "(15470, 9)"
      ]
     },
     "execution_count": 165,
     "metadata": {},
     "output_type": "execute_result"
    }
   ],
   "source": [
    "data.shape"
   ]
  },
  {
   "cell_type": "markdown",
   "metadata": {},
   "source": [
    "Version with all columns:"
   ]
  },
  {
   "cell_type": "code",
   "execution_count": 166,
   "metadata": {},
   "outputs": [],
   "source": [
    "data_full = data.copy(deep = True)"
   ]
  },
  {
   "cell_type": "markdown",
   "metadata": {},
   "source": [
    "Remove old columns:"
   ]
  },
  {
   "cell_type": "code",
   "execution_count": 167,
   "metadata": {},
   "outputs": [
    {
     "data": {
      "text/plain": [
       "Index(['artist', 'gender', 'retrieved', 'genre', 'retrieved_clean', 'match',\n",
       "       'genre_respell', 'genrelist', 'genrelist_length'],\n",
       "      dtype='object')"
      ]
     },
     "execution_count": 167,
     "metadata": {},
     "output_type": "execute_result"
    }
   ],
   "source": [
    "data.columns"
   ]
  },
  {
   "cell_type": "code",
   "execution_count": 168,
   "metadata": {},
   "outputs": [],
   "source": [
    "data.drop(['retrieved','genre','retrieved_clean', 'match', 'genre_respell'], axis = 1, inplace = True)"
   ]
  },
  {
   "cell_type": "code",
   "execution_count": 169,
   "metadata": {},
   "outputs": [
    {
     "data": {
      "text/html": [
       "<div>\n",
       "<style scoped>\n",
       "    .dataframe tbody tr th:only-of-type {\n",
       "        vertical-align: middle;\n",
       "    }\n",
       "\n",
       "    .dataframe tbody tr th {\n",
       "        vertical-align: top;\n",
       "    }\n",
       "\n",
       "    .dataframe thead th {\n",
       "        text-align: right;\n",
       "    }\n",
       "</style>\n",
       "<table border=\"1\" class=\"dataframe\">\n",
       "  <thead>\n",
       "    <tr style=\"text-align: right;\">\n",
       "      <th></th>\n",
       "      <th>artist</th>\n",
       "      <th>gender</th>\n",
       "      <th>genrelist</th>\n",
       "      <th>genrelist_length</th>\n",
       "    </tr>\n",
       "  </thead>\n",
       "  <tbody>\n",
       "    <tr>\n",
       "      <th>1</th>\n",
       "      <td>Christopher_Willits</td>\n",
       "      <td>male</td>\n",
       "      <td>[electronic, glitch, ambient, electro_acoustic...</td>\n",
       "      <td>5</td>\n",
       "    </tr>\n",
       "    <tr>\n",
       "      <th>3</th>\n",
       "      <td>Shawn_Hook</td>\n",
       "      <td>male</td>\n",
       "      <td>[pop, electronic, rock]</td>\n",
       "      <td>3</td>\n",
       "    </tr>\n",
       "    <tr>\n",
       "      <th>4</th>\n",
       "      <td>Steve_Poltz</td>\n",
       "      <td>male</td>\n",
       "      <td>[pop_rock, indie_rock, folk_rock]</td>\n",
       "      <td>3</td>\n",
       "    </tr>\n",
       "    <tr>\n",
       "      <th>6</th>\n",
       "      <td>Marvin_Isley</td>\n",
       "      <td>male</td>\n",
       "      <td>[r&amp;b, funk, soul, funk_rock]</td>\n",
       "      <td>4</td>\n",
       "    </tr>\n",
       "    <tr>\n",
       "      <th>7</th>\n",
       "      <td>Povel_Ramel</td>\n",
       "      <td>male</td>\n",
       "      <td>[vaudeville]</td>\n",
       "      <td>1</td>\n",
       "    </tr>\n",
       "  </tbody>\n",
       "</table>\n",
       "</div>"
      ],
      "text/plain": [
       "                artist gender  \\\n",
       "1  Christopher_Willits   male   \n",
       "3           Shawn_Hook   male   \n",
       "4          Steve_Poltz   male   \n",
       "6         Marvin_Isley   male   \n",
       "7          Povel_Ramel   male   \n",
       "\n",
       "                                           genrelist  genrelist_length  \n",
       "1  [electronic, glitch, ambient, electro_acoustic...                 5  \n",
       "3                            [pop, electronic, rock]                 3  \n",
       "4                  [pop_rock, indie_rock, folk_rock]                 3  \n",
       "6                       [r&b, funk, soul, funk_rock]                 4  \n",
       "7                                       [vaudeville]                 1  "
      ]
     },
     "execution_count": 169,
     "metadata": {},
     "output_type": "execute_result"
    }
   ],
   "source": [
    "data.head()"
   ]
  },
  {
   "cell_type": "code",
   "execution_count": 170,
   "metadata": {},
   "outputs": [
    {
     "data": {
      "text/plain": [
       "(15470, 4)"
      ]
     },
     "execution_count": 170,
     "metadata": {},
     "output_type": "execute_result"
    }
   ],
   "source": [
    "data.shape"
   ]
  },
  {
   "cell_type": "markdown",
   "metadata": {},
   "source": [
    "## Gender\n",
    "\n",
    "Remove any artists without gender value"
   ]
  },
  {
   "cell_type": "code",
   "execution_count": 171,
   "metadata": {},
   "outputs": [
    {
     "data": {
      "text/plain": [
       "0"
      ]
     },
     "execution_count": 171,
     "metadata": {},
     "output_type": "execute_result"
    }
   ],
   "source": [
    "data.gender.isnull().sum()"
   ]
  },
  {
   "cell_type": "code",
   "execution_count": 172,
   "metadata": {},
   "outputs": [
    {
     "data": {
      "text/plain": [
       "array(['male', 'female'], dtype=object)"
      ]
     },
     "execution_count": 172,
     "metadata": {},
     "output_type": "execute_result"
    }
   ],
   "source": [
    "data.gender.unique()"
   ]
  },
  {
   "cell_type": "markdown",
   "metadata": {},
   "source": [
    "### Extracting the unique genre labels:"
   ]
  },
  {
   "cell_type": "code",
   "execution_count": 173,
   "metadata": {},
   "outputs": [],
   "source": [
    "genre_list = data.genrelist.values.tolist()\n",
    "genre_list = [x for y in genre_list for x in y]\n",
    "genre_list = list(set(genre_list))"
   ]
  },
  {
   "cell_type": "code",
   "execution_count": 174,
   "metadata": {},
   "outputs": [
    {
     "data": {
      "text/plain": [
       "['twee_pop',\n",
       " 'chanson_française',\n",
       " 'venezuelan_folk',\n",
       " 'east_coast_blues',\n",
       " 'power_pop']"
      ]
     },
     "execution_count": 174,
     "metadata": {},
     "output_type": "execute_result"
    }
   ],
   "source": [
    "genre_list[:5]"
   ]
  },
  {
   "cell_type": "code",
   "execution_count": 175,
   "metadata": {},
   "outputs": [
    {
     "data": {
      "text/plain": [
       "1494"
      ]
     },
     "execution_count": 175,
     "metadata": {},
     "output_type": "execute_result"
    }
   ],
   "source": [
    "len(genre_list)"
   ]
  },
  {
   "cell_type": "code",
   "execution_count": 176,
   "metadata": {},
   "outputs": [
    {
     "name": "stdout",
     "output_type": "stream",
     "text": [
      "There are 15470 artists with genre and binary-gender labels.\n",
      "There are 1494 unique genre labels.\n"
     ]
    }
   ],
   "source": [
    "print('There are {} artists with genre and binary-gender labels.'.format(data.shape[0]))\n",
    "print('There are {} unique genre labels.'.format(len(genre_list)))"
   ]
  },
  {
   "cell_type": "markdown",
   "metadata": {},
   "source": [
    "Check to see if there are artists with len(genrelist) = 0"
   ]
  },
  {
   "cell_type": "code",
   "execution_count": 177,
   "metadata": {},
   "outputs": [
    {
     "data": {
      "text/html": [
       "<div>\n",
       "<style scoped>\n",
       "    .dataframe tbody tr th:only-of-type {\n",
       "        vertical-align: middle;\n",
       "    }\n",
       "\n",
       "    .dataframe tbody tr th {\n",
       "        vertical-align: top;\n",
       "    }\n",
       "\n",
       "    .dataframe thead th {\n",
       "        text-align: right;\n",
       "    }\n",
       "</style>\n",
       "<table border=\"1\" class=\"dataframe\">\n",
       "  <thead>\n",
       "    <tr style=\"text-align: right;\">\n",
       "      <th></th>\n",
       "      <th>artist</th>\n",
       "      <th>gender</th>\n",
       "      <th>genrelist</th>\n",
       "      <th>genrelist_length</th>\n",
       "    </tr>\n",
       "  </thead>\n",
       "  <tbody>\n",
       "  </tbody>\n",
       "</table>\n",
       "</div>"
      ],
      "text/plain": [
       "Empty DataFrame\n",
       "Columns: [artist, gender, genrelist, genrelist_length]\n",
       "Index: []"
      ]
     },
     "execution_count": 177,
     "metadata": {},
     "output_type": "execute_result"
    }
   ],
   "source": [
    "data[data.genrelist.apply(lambda x: True if len(x) == 0 else False)]"
   ]
  },
  {
   "cell_type": "code",
   "execution_count": 178,
   "metadata": {},
   "outputs": [
    {
     "data": {
      "text/html": [
       "<div>\n",
       "<style scoped>\n",
       "    .dataframe tbody tr th:only-of-type {\n",
       "        vertical-align: middle;\n",
       "    }\n",
       "\n",
       "    .dataframe tbody tr th {\n",
       "        vertical-align: top;\n",
       "    }\n",
       "\n",
       "    .dataframe thead th {\n",
       "        text-align: right;\n",
       "    }\n",
       "</style>\n",
       "<table border=\"1\" class=\"dataframe\">\n",
       "  <thead>\n",
       "    <tr style=\"text-align: right;\">\n",
       "      <th></th>\n",
       "      <th>artist</th>\n",
       "      <th>gender</th>\n",
       "      <th>genrelist</th>\n",
       "      <th>genrelist_length</th>\n",
       "    </tr>\n",
       "  </thead>\n",
       "  <tbody>\n",
       "    <tr>\n",
       "      <th>1</th>\n",
       "      <td>Christopher_Willits</td>\n",
       "      <td>male</td>\n",
       "      <td>[electronic, glitch, ambient, electro_acoustic...</td>\n",
       "      <td>5</td>\n",
       "    </tr>\n",
       "    <tr>\n",
       "      <th>3</th>\n",
       "      <td>Shawn_Hook</td>\n",
       "      <td>male</td>\n",
       "      <td>[pop, electronic, rock]</td>\n",
       "      <td>3</td>\n",
       "    </tr>\n",
       "    <tr>\n",
       "      <th>4</th>\n",
       "      <td>Steve_Poltz</td>\n",
       "      <td>male</td>\n",
       "      <td>[pop_rock, indie_rock, folk_rock]</td>\n",
       "      <td>3</td>\n",
       "    </tr>\n",
       "    <tr>\n",
       "      <th>6</th>\n",
       "      <td>Marvin_Isley</td>\n",
       "      <td>male</td>\n",
       "      <td>[r&amp;b, funk, soul, funk_rock]</td>\n",
       "      <td>4</td>\n",
       "    </tr>\n",
       "    <tr>\n",
       "      <th>7</th>\n",
       "      <td>Povel_Ramel</td>\n",
       "      <td>male</td>\n",
       "      <td>[vaudeville]</td>\n",
       "      <td>1</td>\n",
       "    </tr>\n",
       "  </tbody>\n",
       "</table>\n",
       "</div>"
      ],
      "text/plain": [
       "                artist gender  \\\n",
       "1  Christopher_Willits   male   \n",
       "3           Shawn_Hook   male   \n",
       "4          Steve_Poltz   male   \n",
       "6         Marvin_Isley   male   \n",
       "7          Povel_Ramel   male   \n",
       "\n",
       "                                           genrelist  genrelist_length  \n",
       "1  [electronic, glitch, ambient, electro_acoustic...                 5  \n",
       "3                            [pop, electronic, rock]                 3  \n",
       "4                  [pop_rock, indie_rock, folk_rock]                 3  \n",
       "6                       [r&b, funk, soul, funk_rock]                 4  \n",
       "7                                       [vaudeville]                 1  "
      ]
     },
     "execution_count": 178,
     "metadata": {},
     "output_type": "execute_result"
    }
   ],
   "source": [
    "data.head()"
   ]
  },
  {
   "cell_type": "markdown",
   "metadata": {},
   "source": [
    "### Export full data set for further use:"
   ]
  },
  {
   "cell_type": "code",
   "execution_count": 179,
   "metadata": {},
   "outputs": [],
   "source": [
    "today = datetime.today()\n",
    "now = today.strftime('%Y-%m-%d-%H-%M')\n",
    "#now = 'temp'"
   ]
  },
  {
   "cell_type": "code",
   "execution_count": 180,
   "metadata": {},
   "outputs": [],
   "source": [
    "data.to_csv('/Users/Daniel/Code/Genre/data/genre_lists/data_ready_for_model/wiki-kaggle_genres_gender_cleaned_{}.csv'.format(now))"
   ]
  },
  {
   "cell_type": "markdown",
   "metadata": {},
   "source": [
    "### Export the list of genres:"
   ]
  },
  {
   "cell_type": "code",
   "execution_count": 181,
   "metadata": {},
   "outputs": [],
   "source": [
    "genre_list_df = pd.DataFrame({'genre_list':genre_list})"
   ]
  },
  {
   "cell_type": "code",
   "execution_count": 182,
   "metadata": {},
   "outputs": [],
   "source": [
    "genre_list_df.to_csv('/Users/Daniel/Code/Genre/data/genre_lists/data_ready_for_model/genre_list_{}.csv'.format(now))"
   ]
  },
  {
   "cell_type": "code",
   "execution_count": 183,
   "metadata": {},
   "outputs": [
    {
     "name": "stdout",
     "output_type": "stream",
     "text": [
      "total 30960\r\n",
      "-rw-r--r--  1 Daniel  staff    24591 May 11 14:34 genre_list_2020-05-11-14-34.csv\r\n",
      "-rw-r--r--  1 Daniel  staff   951681 May 11 14:34 wiki-kaggle_genres_gender_cleaned_2020-05-11-14-34.csv\r\n",
      "-rw-r--r--  1 Daniel  staff    25112 May  7 15:49 genre_list_2020-05-07-15-49.csv\r\n",
      "-rw-r--r--  1 Daniel  staff  1501714 May  7 15:49 wiki-kaggle_genres_gender_cleaned_2020-05-07-15-49.csv\r\n",
      "-rw-r--r--  1 Daniel  staff    25150 May  7 15:47 genre_list_2020-05-07-15-47.csv\r\n",
      "-rw-r--r--  1 Daniel  staff  1501728 May  7 15:47 wiki-kaggle_genres_gender_cleaned_2020-05-07-15-47.csv\r\n",
      "-rw-r--r--  1 Daniel  staff    25179 May  7 15:45 genre_list_2020-05-07-15-45.csv\r\n",
      "-rw-r--r--  1 Daniel  staff  1501719 May  7 15:45 wiki-kaggle_genres_gender_cleaned_2020-05-07-15-45.csv\r\n",
      "-rw-r--r--  1 Daniel  staff    25197 May  7 15:32 genre_list_2020-05-07-15-32.csv\r\n",
      "-rw-r--r--  1 Daniel  staff  1501722 May  7 15:32 wiki-kaggle_genres_gender_cleaned_2020-05-07-15-32.csv\r\n",
      "-rw-r--r--  1 Daniel  staff    25286 May  7 15:22 genre_list_2020-05-07-15-22.csv\r\n",
      "-rw-r--r--  1 Daniel  staff  1501698 May  7 15:22 wiki-kaggle_genres_gender_cleaned_2020-05-07-15-22.csv\r\n",
      "-rw-r--r--  1 Daniel  staff    25349 May  7 15:20 genre_list_2020-05-07-15-20.csv\r\n",
      "-rw-r--r--  1 Daniel  staff  1501692 May  7 15:20 wiki-kaggle_genres_gender_cleaned_2020-05-07-15-20.csv\r\n",
      "-rw-r--r--  1 Daniel  staff    25380 May  7 15:16 genre_list_2020-05-07-15-16.csv\r\n",
      "-rw-r--r--  1 Daniel  staff  1501704 May  7 15:16 wiki-kaggle_genres_gender_cleaned_2020-05-07-15-16.csv\r\n",
      "-rw-r--r--  1 Daniel  staff     8756 May  6 07:44 genre_list_issues.csv\r\n",
      "-rw-r--r--  1 Daniel  staff    28796 May  5 14:03 genre_list_2020-05-05-14-03.csv\r\n",
      "-rw-r--r--  1 Daniel  staff   954255 May  5 14:03 wiki-kaggle_genres_gender_cleaned_2020-05-05-14-03.csv\r\n",
      "-rw-r--r--  1 Daniel  staff    28584 May  4 13:32 genre_list_training_2020-05-04-09-42.csv\r\n",
      "-rw-r--r--  1 Daniel  staff    12435 May  4 09:48 genre_label_non-lonely_2020-05-04-09-42.csv\r\n",
      "-rw-r--r--  1 Daniel  staff    12624 May  4 09:47 genre_label_lonely_2020-05-04-09-42.csv\r\n",
      "-rw-r--r--  1 Daniel  staff    25056 May  4 09:47 genre_label_counts_2020-05-04-09-42.csv\r\n",
      "-rw-r--r--  1 Daniel  staff    58329 May  4 09:42 wiki-kaggle_y_test_2020-05-04-09-42.csv\r\n",
      "-rw-r--r--  1 Daniel  staff   158698 May  4 09:42 wiki-kaggle_X_test_2020-05-04-09-42.csv\r\n",
      "-rw-r--r--  1 Daniel  staff   233198 May  4 09:42 wiki-kaggle_y_train_2020-05-04-09-42.csv\r\n",
      "-rw-r--r--  1 Daniel  staff   629408 May  4 09:42 wiki-kaggle_X_train_2020-05-04-09-42.csv\r\n",
      "-rw-r--r--  1 Daniel  staff    31816 May  4 09:39 genre_list_2020-05-04-09-39.csv\r\n",
      "-rw-r--r--  1 Daniel  staff   960526 May  4 09:39 wiki-kaggle_genres_gender_cleaned_2020-05-04-09-39.csv\r\n",
      "-rw-r--r--  1 Daniel  staff     1508 May  1 09:19 dan_sample_to_verify_2020-05-01-09-16.csv\r\n",
      "-rw-r--r--  1 Daniel  staff     1470 May  1 09:19 tom_sample_to_verify_2020-05-01-09-16.csv\r\n",
      "-rw-r--r--  1 Daniel  staff   963617 May  1 09:16 wiki-kaggle_genres_gender_cleaned_2020-05-01-09-16.csv\r\n"
     ]
    }
   ],
   "source": [
    "%ls -lt ../../data/genre_lists/data_ready_for_model/"
   ]
  },
  {
   "cell_type": "markdown",
   "metadata": {},
   "source": [
    "## Viewing the genre list:"
   ]
  },
  {
   "cell_type": "code",
   "execution_count": 184,
   "metadata": {},
   "outputs": [],
   "source": [
    "glist = pd.read_csv('/Users/Daniel/Code/Genre/data/genre_lists/data_ready_for_model/genre_list_{}.csv'.format(now))"
   ]
  },
  {
   "cell_type": "code",
   "execution_count": 185,
   "metadata": {},
   "outputs": [],
   "source": [
    "glist.drop(['Unnamed: 0'], axis =1, inplace = True)"
   ]
  },
  {
   "cell_type": "code",
   "execution_count": 186,
   "metadata": {},
   "outputs": [],
   "source": [
    "glist = glist.sort_values('genre_list')"
   ]
  },
  {
   "cell_type": "code",
   "execution_count": 187,
   "metadata": {},
   "outputs": [],
   "source": [
    "pd.set_option('display.max_rows', None)\n",
    "pd.options.display.max_rows"
   ]
  },
  {
   "cell_type": "markdown",
   "metadata": {},
   "source": [
    "Display the list of unique genre labels:"
   ]
  },
  {
   "cell_type": "code",
   "execution_count": 8,
   "metadata": {
    "scrolled": false
   },
   "outputs": [],
   "source": [
    "#glist"
   ]
  },
  {
   "cell_type": "markdown",
   "metadata": {},
   "source": [
    "issues --all are dealt with\n"
   ]
  },
  {
   "cell_type": "code",
   "execution_count": 189,
   "metadata": {},
   "outputs": [
    {
     "data": {
      "text/plain": [
       "692    ['medieval folk rock', 'folk rock', 'hard rock...\n",
       "Name: genre_respell, dtype: object"
      ]
     },
     "execution_count": 189,
     "metadata": {},
     "output_type": "execute_result"
    }
   ],
   "source": [
    "data_full.genre_respell[data_full.genre.str.contains(r\"medieval.{0,1}folk\")]"
   ]
  },
  {
   "cell_type": "code",
   "execution_count": 190,
   "metadata": {},
   "outputs": [
    {
     "data": {
      "text/plain": [
       "'Shirley_Murdock'"
      ]
     },
     "execution_count": 190,
     "metadata": {},
     "output_type": "execute_result"
    }
   ],
   "source": [
    "data.artist.loc[22047]"
   ]
  },
  {
   "cell_type": "code",
   "execution_count": 191,
   "metadata": {},
   "outputs": [
    {
     "data": {
      "text/plain": [
       "['r&b', 'soul', 'jazz_funk', 'gospel', 'smooth_soul']"
      ]
     },
     "execution_count": 191,
     "metadata": {},
     "output_type": "execute_result"
    }
   ],
   "source": [
    "data_full.genrelist.loc[22047]"
   ]
  },
  {
   "cell_type": "code",
   "execution_count": 192,
   "metadata": {},
   "outputs": [
    {
     "data": {
      "text/plain": [
       "['pop', 'r&b', 'electro_pop', 'alternative_pop']"
      ]
     },
     "execution_count": 192,
     "metadata": {},
     "output_type": "execute_result"
    }
   ],
   "source": [
    "data_full.genrelist.loc[19082]"
   ]
  },
  {
   "cell_type": "code",
   "execution_count": null,
   "metadata": {},
   "outputs": [],
   "source": []
  },
  {
   "cell_type": "code",
   "execution_count": 193,
   "metadata": {},
   "outputs": [
    {
     "data": {
      "text/plain": [
       "3                           east_coast_blues\n",
       "14                          avant_garde_jazz\n",
       "17                          bossa_nova_samba\n",
       "23                          new_york_hip_hop\n",
       "24                        funeral_doom_metal\n",
       "63                           new_orleans_r&b\n",
       "69                     childrens_book_author\n",
       "73                         post_punk_revival\n",
       "87                       neue_deutsche_härte\n",
       "88                    alternative_guitar_pop\n",
       "89                        industrial_hip_hop\n",
       "101                         new_orleans_jazz\n",
       "102                     new_age_instrumental\n",
       "103                        christian_new_age\n",
       "114                          french_pop_rock\n",
       "136                          rock_en_español\n",
       "179                           new_jack_swing\n",
       "186                         west_coast_blues\n",
       "192                   neoclassical_dark_wave\n",
       "204                   mellow_&_acoustic_rock\n",
       "213                              pop_hip_hop\n",
       "217                        british_folk_rock\n",
       "220                          afro_punk_blues\n",
       "223                    symphonic_power_metal\n",
       "253                     classic_female_blues\n",
       "254                          brown_eyed_soul\n",
       "255                        puerto_rican_folk\n",
       "260                      alternative_hip_hop\n",
       "268                  traditional_pop_country\n",
       "287                        country_and_irish\n",
       "293                           old_time_radio\n",
       "296                       spoken_word_comedy\n",
       "297                        country_folk_rock\n",
       "313                         pop_rock_electro\n",
       "334                        mardi_gras_indian\n",
       "372                       british_dance_band\n",
       "375                american_primitive_guitar\n",
       "379         fingerstyle_and_classical_guitar\n",
       "386                        new_weird_america\n",
       "387                           jewish_hip_hop\n",
       "388                urban_contemporary_gospel\n",
       "390                          opera_&_musical\n",
       "399                     neo_progressive_rock\n",
       "407                  great_american_songbook\n",
       "408         contemporary_catholic_liturgical\n",
       "417                         juke_joint_blues\n",
       "420                         nerdcore_hip_hop\n",
       "424                        old_time_american\n",
       "425                       european_free_jazz\n",
       "444                         kansas_city_jazz\n",
       "448               traditional_acoustic_blues\n",
       "467                         avant_garde_prog\n",
       "483                        screwed_&_chopped\n",
       "490                      garage_rock_revival\n",
       "498                           blue_eyed_soul\n",
       "502                      underground_hip_hop\n",
       "509             avant_garde_progressive_rock\n",
       "515                          east_bay_grease\n",
       "528                             neo_bop_jazz\n",
       "537                      americana_folk_song\n",
       "538                      scrumpy_and_western\n",
       "546                         white_power_rock\n",
       "555                         avant_garde_rock\n",
       "568                 show_tunes__contemporary\n",
       "572                          blues_and_roots\n",
       "576     north_mississippi_hill_country_blues\n",
       "608                            latin_hip_hop\n",
       "634                    hong_kong_english_pop\n",
       "641                            fife_and_drum\n",
       "644                   rock_against_communism\n",
       "647                     experimental_hip_hop\n",
       "649                       middle_of_the_road\n",
       "660                        conscious_hip_hop\n",
       "679              the_great_american_songbook\n",
       "683                       piano_pop_and_rock\n",
       "692                       medieval_folk_rock\n",
       "694       industrial_tinged_alternative_folk\n",
       "722                            folk_pop_rock\n",
       "727                      chopped_and_screwed\n",
       "730                         southern_hip_hop\n",
       "740                         hardcore_hip_hop\n",
       "745            baltimiddle_of_the_roade_club\n",
       "748                       old_school_hip_hop\n",
       "769               christian_alternative_rock\n",
       "776             satirical_and_musical_comedy\n",
       "813                             death_n_roll\n",
       "815                     jimi_hendrix_tribute\n",
       "840             surreal_humiddle_of_the_road\n",
       "863                   american_sign_language\n",
       "874                        new_orleans_blues\n",
       "879                         gulf_and_western\n",
       "901                        christian_hip_hop\n",
       "908                       golden_age_hip_hop\n",
       "913                          avant_garde_rap\n",
       "915                          avant_garde_pop\n",
       "919                           korean_hip_hop\n",
       "935                               uk_hip_hop\n",
       "944                         jazz_rock_fusion\n",
       "947            contemporary_jewish_religious\n",
       "950                    nueva_cancion_chilena\n",
       "966                      neue_deutsche_welle\n",
       "983                            space_age_pop\n",
       "986                            2_step_garage\n",
       "988                        music_of_hawaiian\n",
       "992                           west_coast_rap\n",
       "1005                          comedy_hip_hop\n",
       "1023                         british_hip_hop\n",
       "1027                traditional_black_gospel\n",
       "1029               acoustic_progressive_rock\n",
       "1043               música_popular_brasileira\n",
       "1052                         atlanta_hip_hop\n",
       "1055                      east_coast_hip_hop\n",
       "1059                          old_style_jazz\n",
       "1071       folk_influenced_singer_songwriter\n",
       "1075                        canadian_hip_hop\n",
       "1076                   symphonic_black_metal\n",
       "1077                      struggle_&_protest\n",
       "1093            professional_wrestling_theme\n",
       "1094                         midwest_hip_hop\n",
       "1103                          rhythm_&_grime\n",
       "1127                      rock_in_opposition\n",
       "1128             french_contemporary_chanson\n",
       "1142                       political_hip_hop\n",
       "1148                   blackened_death_metal\n",
       "1163                    tuvan_throat_singing\n",
       "1196                    western_european_art\n",
       "1205                          french_hip_hop\n",
       "1206                         afro_cuban_jazz\n",
       "1216                               lo_fi_rap\n",
       "1225                          east_coast_rap\n",
       "1241                 progressive_death_metal\n",
       "1242                         proto_surf_rock\n",
       "1252                   technical_death_metal\n",
       "1253                    instrumental_hip_hop\n",
       "1256                           kan_ha_diskan\n",
       "1261                     melodic_death_metal\n",
       "1264                       avant_garde_metal\n",
       "1268                  industrial_black_metal\n",
       "1270                          german_hip_hop\n",
       "1273                            hip_hop_soul\n",
       "1288                    electronic_indie_pop\n",
       "1307                          third_wave_ska\n",
       "1319                           folk_art_rock\n",
       "1326                          big_room_house\n",
       "1333                      west_coast_hip_hop\n",
       "1338               pacific_northwest_hip_hop\n",
       "1344                     urban__contemporary\n",
       "1349                     melodic_black_metal\n",
       "1356                        bossa_and_others\n",
       "1357                         māori_show_band\n",
       "1392                       northwest_hip_hop\n",
       "1422                       rock_celtic_blues\n",
       "1433               musica_popular_brasileira\n",
       "1441                      hill_country_blues\n",
       "1444                             cha_cha_cha\n",
       "1455                          st_louis_blues\n",
       "1462                   truck_driving_country\n",
       "1463                        show_tuness_jazz\n",
       "1480                         west_coast_jazz\n",
       "1483                         epic_doom_metal\n",
       "1493                       music_of_colombia\n",
       "Name: genre_list, dtype: object"
      ]
     },
     "execution_count": 193,
     "metadata": {},
     "output_type": "execute_result"
    }
   ],
   "source": [
    "genre_list_df.genre_list[genre_list_df.genre_list.str.contains(r\".*_.*_.*\")]"
   ]
  },
  {
   "cell_type": "code",
   "execution_count": null,
   "metadata": {},
   "outputs": [],
   "source": []
  },
  {
   "cell_type": "code",
   "execution_count": null,
   "metadata": {},
   "outputs": [],
   "source": []
  },
  {
   "cell_type": "code",
   "execution_count": null,
   "metadata": {},
   "outputs": [],
   "source": []
  },
  {
   "cell_type": "raw",
   "metadata": {},
   "source": []
  }
 ],
 "metadata": {
  "kernelspec": {
   "display_name": "Python 3",
   "language": "python",
   "name": "python3"
  },
  "language_info": {
   "codemirror_mode": {
    "name": "ipython",
    "version": 3
   },
   "file_extension": ".py",
   "mimetype": "text/x-python",
   "name": "python",
   "nbconvert_exporter": "python",
   "pygments_lexer": "ipython3",
   "version": "3.7.3"
  }
 },
 "nbformat": 4,
 "nbformat_minor": 4
}
