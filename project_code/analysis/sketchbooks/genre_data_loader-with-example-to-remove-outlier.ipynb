{
 "cells": [
  {
   "cell_type": "markdown",
   "metadata": {},
   "source": [
    "# Data Loader Class\n",
    "\n",
    "Here are the basics of loading the data set and removing outliers."
   ]
  },
  {
   "cell_type": "code",
   "execution_count": 1,
   "metadata": {},
   "outputs": [],
   "source": [
    "# get currrent date for latest version of data set\n",
    "%store -r now\n",
    "\n",
    "X_path_train = '/Users/Daniel/Code/Genre/data/genre_lists/data_ready_for_model/wiki-kaggle_X_train_{}.csv'.format(now)\n",
    "y_path_train = '/Users/Daniel/Code/Genre/data/genre_lists/data_ready_for_model/wiki-kaggle_y_train_{}.csv'.format(now)\n",
    "X_path_test = '/Users/Daniel/Code/Genre/data/genre_lists/data_ready_for_model/wiki-kaggle_X_test_{}.csv'.format(now)\n",
    "y_path_test = '/Users/Daniel/Code/Genre/data/genre_lists/data_ready_for_model/wiki-kaggle_y_test_{}.csv'.format(now)"
   ]
  },
  {
   "cell_type": "code",
   "execution_count": 2,
   "metadata": {},
   "outputs": [],
   "source": [
    "# this is only needed if the genre_data_loader.py script is not in the directory of the nb or script from which you call it\n",
    "import importlib.util\n",
    "spec = importlib.util.spec_from_file_location(\"genre_data_loader\", \"/Users/Daniel/Code/Genre/project_code/analysis/genre_scripts/genre_data_loader.py\")\n",
    "genre_data_loader = importlib.util.module_from_spec(spec)\n",
    "spec.loader.exec_module(genre_data_loader)\n",
    "# if the genre_data_loader.py script is in the directory in which you are calling it, only the next line is needed:\n",
    "LoadGenreData = genre_data_loader.LoadGenreData"
   ]
  },
  {
   "cell_type": "markdown",
   "metadata": {},
   "source": [
    "This instantiates a genre_data object and a genre_data_train object. These objects have methods which return the data in a dataframe with various formats as well as some other info."
   ]
  },
  {
   "cell_type": "code",
   "execution_count": 3,
   "metadata": {},
   "outputs": [],
   "source": [
    "genre_data = LoadGenreData(now, X_path_train = X_path_train, y_path_train = y_path_train,\n",
    "                          X_path_test = X_path_test, y_path_test = y_path_test)\n",
    "\n",
    "genre_data_train = LoadGenreData(now, X_path_train = X_path_train, y_path_train = y_path_train)"
   ]
  },
  {
   "cell_type": "markdown",
   "metadata": {},
   "source": [
    "Put the cursor at the end of the next cell and hit tab; the available methods will display:"
   ]
  },
  {
   "cell_type": "code",
   "execution_count": null,
   "metadata": {},
   "outputs": [],
   "source": [
    "genre_data."
   ]
  },
  {
   "cell_type": "code",
   "execution_count": 5,
   "metadata": {},
   "outputs": [],
   "source": [
    "data = genre_data.as_lists()"
   ]
  },
  {
   "cell_type": "code",
   "execution_count": 6,
   "metadata": {},
   "outputs": [
    {
     "data": {
      "text/html": [
       "<div>\n",
       "<style scoped>\n",
       "    .dataframe tbody tr th:only-of-type {\n",
       "        vertical-align: middle;\n",
       "    }\n",
       "\n",
       "    .dataframe tbody tr th {\n",
       "        vertical-align: top;\n",
       "    }\n",
       "\n",
       "    .dataframe thead th {\n",
       "        text-align: right;\n",
       "    }\n",
       "</style>\n",
       "<table border=\"1\" class=\"dataframe\">\n",
       "  <thead>\n",
       "    <tr style=\"text-align: right;\">\n",
       "      <th></th>\n",
       "      <th>genrelist_length</th>\n",
       "      <th>gender</th>\n",
       "      <th>genre_list</th>\n",
       "    </tr>\n",
       "    <tr>\n",
       "      <th>artist</th>\n",
       "      <th></th>\n",
       "      <th></th>\n",
       "      <th></th>\n",
       "    </tr>\n",
       "  </thead>\n",
       "  <tbody>\n",
       "    <tr>\n",
       "      <th>Pablo_Holman</th>\n",
       "      <td>3</td>\n",
       "      <td>male</td>\n",
       "      <td>[rock, emo_pop, pop]</td>\n",
       "    </tr>\n",
       "    <tr>\n",
       "      <th>Bobby_Edwards</th>\n",
       "      <td>1</td>\n",
       "      <td>male</td>\n",
       "      <td>[country]</td>\n",
       "    </tr>\n",
       "    <tr>\n",
       "      <th>La_Palabra</th>\n",
       "      <td>4</td>\n",
       "      <td>male</td>\n",
       "      <td>[guaracha, son_montuno, salsa_romántica, afro_...</td>\n",
       "    </tr>\n",
       "    <tr>\n",
       "      <th>Sherrick</th>\n",
       "      <td>2</td>\n",
       "      <td>male</td>\n",
       "      <td>[r_and_b, soul]</td>\n",
       "    </tr>\n",
       "    <tr>\n",
       "      <th>Allen_Collins</th>\n",
       "      <td>1</td>\n",
       "      <td>male</td>\n",
       "      <td>[southern_rock]</td>\n",
       "    </tr>\n",
       "    <tr>\n",
       "      <th>...</th>\n",
       "      <td>...</td>\n",
       "      <td>...</td>\n",
       "      <td>...</td>\n",
       "    </tr>\n",
       "    <tr>\n",
       "      <th>Katy_Perry</th>\n",
       "      <td>3</td>\n",
       "      <td>female</td>\n",
       "      <td>[rock, disco, pop]</td>\n",
       "    </tr>\n",
       "    <tr>\n",
       "      <th>Tyler_Joseph</th>\n",
       "      <td>7</td>\n",
       "      <td>male</td>\n",
       "      <td>[reggae, pop_rock, alternative_rock, indie_pop...</td>\n",
       "    </tr>\n",
       "    <tr>\n",
       "      <th>Delta_Goodrem</th>\n",
       "      <td>3</td>\n",
       "      <td>female</td>\n",
       "      <td>[pop, pop_rock, contemporary]</td>\n",
       "    </tr>\n",
       "    <tr>\n",
       "      <th>Chosen_Effect</th>\n",
       "      <td>4</td>\n",
       "      <td>male</td>\n",
       "      <td>[hip_hop, dance, r_and_b, pop]</td>\n",
       "    </tr>\n",
       "    <tr>\n",
       "      <th>Nikki_Yanofsky</th>\n",
       "      <td>2</td>\n",
       "      <td>female</td>\n",
       "      <td>[jazz, pop]</td>\n",
       "    </tr>\n",
       "  </tbody>\n",
       "</table>\n",
       "<p>15470 rows × 3 columns</p>\n",
       "</div>"
      ],
      "text/plain": [
       "                genrelist_length  gender  \\\n",
       "artist                                     \n",
       "Pablo_Holman                   3    male   \n",
       "Bobby_Edwards                  1    male   \n",
       "La_Palabra                     4    male   \n",
       "Sherrick                       2    male   \n",
       "Allen_Collins                  1    male   \n",
       "...                          ...     ...   \n",
       "Katy_Perry                     3  female   \n",
       "Tyler_Joseph                   7    male   \n",
       "Delta_Goodrem                  3  female   \n",
       "Chosen_Effect                  4    male   \n",
       "Nikki_Yanofsky                 2  female   \n",
       "\n",
       "                                                       genre_list  \n",
       "artist                                                             \n",
       "Pablo_Holman                                 [rock, emo_pop, pop]  \n",
       "Bobby_Edwards                                           [country]  \n",
       "La_Palabra      [guaracha, son_montuno, salsa_romántica, afro_...  \n",
       "Sherrick                                          [r_and_b, soul]  \n",
       "Allen_Collins                                     [southern_rock]  \n",
       "...                                                           ...  \n",
       "Katy_Perry                                     [rock, disco, pop]  \n",
       "Tyler_Joseph    [reggae, pop_rock, alternative_rock, indie_pop...  \n",
       "Delta_Goodrem                       [pop, pop_rock, contemporary]  \n",
       "Chosen_Effect                      [hip_hop, dance, r_and_b, pop]  \n",
       "Nikki_Yanofsky                                        [jazz, pop]  \n",
       "\n",
       "[15470 rows x 3 columns]"
      ]
     },
     "execution_count": 6,
     "metadata": {},
     "output_type": "execute_result"
    }
   ],
   "source": [
    "data"
   ]
  },
  {
   "cell_type": "markdown",
   "metadata": {},
   "source": [
    "Create the dataframe:"
   ]
  },
  {
   "cell_type": "code",
   "execution_count": 7,
   "metadata": {},
   "outputs": [],
   "source": [
    "data = genre_data.data"
   ]
  },
  {
   "cell_type": "code",
   "execution_count": 8,
   "metadata": {},
   "outputs": [
    {
     "data": {
      "text/html": [
       "<div>\n",
       "<style scoped>\n",
       "    .dataframe tbody tr th:only-of-type {\n",
       "        vertical-align: middle;\n",
       "    }\n",
       "\n",
       "    .dataframe tbody tr th {\n",
       "        vertical-align: top;\n",
       "    }\n",
       "\n",
       "    .dataframe thead th {\n",
       "        text-align: right;\n",
       "    }\n",
       "</style>\n",
       "<table border=\"1\" class=\"dataframe\">\n",
       "  <thead>\n",
       "    <tr style=\"text-align: right;\">\n",
       "      <th></th>\n",
       "      <th>genrelist</th>\n",
       "      <th>genrelist_length</th>\n",
       "      <th>gender</th>\n",
       "      <th>genre_list</th>\n",
       "    </tr>\n",
       "    <tr>\n",
       "      <th>artist</th>\n",
       "      <th></th>\n",
       "      <th></th>\n",
       "      <th></th>\n",
       "      <th></th>\n",
       "    </tr>\n",
       "  </thead>\n",
       "  <tbody>\n",
       "    <tr>\n",
       "      <th>Pablo_Holman</th>\n",
       "      <td>['pop', 'rock', 'emo_pop']</td>\n",
       "      <td>3</td>\n",
       "      <td>male</td>\n",
       "      <td>[rock, emo_pop, pop]</td>\n",
       "    </tr>\n",
       "    <tr>\n",
       "      <th>Bobby_Edwards</th>\n",
       "      <td>['country']</td>\n",
       "      <td>1</td>\n",
       "      <td>male</td>\n",
       "      <td>[country]</td>\n",
       "    </tr>\n",
       "    <tr>\n",
       "      <th>La_Palabra</th>\n",
       "      <td>['afro_cuban_jazz', 'son_montuno', 'guaracha',...</td>\n",
       "      <td>4</td>\n",
       "      <td>male</td>\n",
       "      <td>[guaracha, son_montuno, salsa_romántica, afro_...</td>\n",
       "    </tr>\n",
       "    <tr>\n",
       "      <th>Sherrick</th>\n",
       "      <td>['r_and_b', 'soul']</td>\n",
       "      <td>2</td>\n",
       "      <td>male</td>\n",
       "      <td>[r_and_b, soul]</td>\n",
       "    </tr>\n",
       "    <tr>\n",
       "      <th>Allen_Collins</th>\n",
       "      <td>['southern_rock']</td>\n",
       "      <td>1</td>\n",
       "      <td>male</td>\n",
       "      <td>[southern_rock]</td>\n",
       "    </tr>\n",
       "  </tbody>\n",
       "</table>\n",
       "</div>"
      ],
      "text/plain": [
       "                                                       genrelist  \\\n",
       "artist                                                             \n",
       "Pablo_Holman                          ['pop', 'rock', 'emo_pop']   \n",
       "Bobby_Edwards                                        ['country']   \n",
       "La_Palabra     ['afro_cuban_jazz', 'son_montuno', 'guaracha',...   \n",
       "Sherrick                                     ['r_and_b', 'soul']   \n",
       "Allen_Collins                                  ['southern_rock']   \n",
       "\n",
       "               genrelist_length gender  \\\n",
       "artist                                   \n",
       "Pablo_Holman                  3   male   \n",
       "Bobby_Edwards                 1   male   \n",
       "La_Palabra                    4   male   \n",
       "Sherrick                      2   male   \n",
       "Allen_Collins                 1   male   \n",
       "\n",
       "                                                      genre_list  \n",
       "artist                                                            \n",
       "Pablo_Holman                                [rock, emo_pop, pop]  \n",
       "Bobby_Edwards                                          [country]  \n",
       "La_Palabra     [guaracha, son_montuno, salsa_romántica, afro_...  \n",
       "Sherrick                                         [r_and_b, soul]  \n",
       "Allen_Collins                                    [southern_rock]  "
      ]
     },
     "execution_count": 8,
     "metadata": {},
     "output_type": "execute_result"
    }
   ],
   "source": [
    "data.head()"
   ]
  },
  {
   "cell_type": "markdown",
   "metadata": {},
   "source": [
    "What is the max list length?"
   ]
  },
  {
   "cell_type": "code",
   "execution_count": 9,
   "metadata": {},
   "outputs": [
    {
     "data": {
      "text/plain": [
       "73"
      ]
     },
     "execution_count": 9,
     "metadata": {},
     "output_type": "execute_result"
    }
   ],
   "source": [
    "data.genrelist_length.max()"
   ]
  },
  {
   "cell_type": "markdown",
   "metadata": {},
   "source": [
    "Call the method that removes outliers and specify the threshold. Only artists with less genre labels than the threshold will remain in the dataframe."
   ]
  },
  {
   "cell_type": "code",
   "execution_count": 10,
   "metadata": {},
   "outputs": [],
   "source": [
    "data = genre_data.remove_outliers(70)"
   ]
  },
  {
   "cell_type": "markdown",
   "metadata": {},
   "source": [
    "What is the new max length?"
   ]
  },
  {
   "cell_type": "code",
   "execution_count": 11,
   "metadata": {},
   "outputs": [
    {
     "data": {
      "text/plain": [
       "45"
      ]
     },
     "execution_count": 11,
     "metadata": {},
     "output_type": "execute_result"
    }
   ],
   "source": [
    "data.genrelist_length.max()"
   ]
  },
  {
   "cell_type": "code",
   "execution_count": 12,
   "metadata": {},
   "outputs": [],
   "source": [
    "data = genre_data.as_sets()"
   ]
  },
  {
   "cell_type": "code",
   "execution_count": 13,
   "metadata": {},
   "outputs": [
    {
     "data": {
      "text/plain": [
       "45"
      ]
     },
     "execution_count": 13,
     "metadata": {},
     "output_type": "execute_result"
    }
   ],
   "source": [
    "data.genrelist_length.max()"
   ]
  },
  {
   "cell_type": "code",
   "execution_count": null,
   "metadata": {},
   "outputs": [],
   "source": []
  }
 ],
 "metadata": {
  "kernelspec": {
   "display_name": "Python 3",
   "language": "python",
   "name": "python3"
  },
  "language_info": {
   "codemirror_mode": {
    "name": "ipython",
    "version": 3
   },
   "file_extension": ".py",
   "mimetype": "text/x-python",
   "name": "python",
   "nbconvert_exporter": "python",
   "pygments_lexer": "ipython3",
   "version": "3.7.3"
  }
 },
 "nbformat": 4,
 "nbformat_minor": 4
}
