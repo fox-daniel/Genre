{
 "cells": [
  {
   "cell_type": "markdown",
   "metadata": {},
   "source": [
    "This notebook builds a function such that:\n",
    "- input: a genre occurring in our data set\n",
    "- output: (list of all genres it occurs with and the frequencies, the list sizes it occurs in as histogram, the gender breakdown for that genre)\n",
    "\n",
    "Run all the cells leading up to the function and then you can put a genre into the function and run that cell.\n",
    "\n",
    "\n",
    "This function will be turned into a web app using streamlit for publisc exploration of the dataset"
   ]
  },
  {
   "cell_type": "code",
   "execution_count": 23,
   "metadata": {
    "scrolled": true
   },
   "outputs": [],
   "source": [
    "import numpy as np\n",
    "import pandas as pd\n",
    "\n",
    "import matplotlib.pyplot as plt\n",
    "import seaborn as sns; sns.set()\n",
    "%matplotlib inline\n",
    "#%matplotlib notebook\n",
    "\n",
    "\n",
    "import re\n",
    "\n",
    "from functools import partial\n",
    "\n",
    "import plotly.graph_objects as go"
   ]
  },
  {
   "cell_type": "markdown",
   "metadata": {},
   "source": [
    "Import the cleaned data:"
   ]
  },
  {
   "cell_type": "code",
   "execution_count": 24,
   "metadata": {
    "scrolled": true
   },
   "outputs": [
    {
     "name": "stdout",
     "output_type": "stream",
     "text": [
      "total 39824\r\n",
      "-rw-r--r--  1 Daniel  staff    21724 Jun  9 11:47 genre_label_counts_TOTAL_2020-05-18-10-06.csv\r\n",
      "-rw-r--r--@ 1 Daniel  staff   287510 Jun  4 13:42 genre_stats.html\r\n",
      "-rw-r--r--@ 1 Daniel  staff   911587 Jun  4 13:39 genre_set_counts.html\r\n",
      "-rw-r--r--@ 1 Daniel  staff     1845 Jun  4 13:11 female_bias_freq500.html\r\n",
      "-rw-r--r--@ 1 Daniel  staff     1459 Jun  4 13:11 male_bias_freq500.html\r\n",
      "-rw-r--r--  1 Daniel  staff    73746 May 29 10:19 genre_stats.csv\r\n",
      "-rw-r--r--  1 Daniel  staff    66235 May 21 11:00 promiscuity_table.csv\r\n",
      "-rw-r--r--  1 Daniel  staff    57474 May 20 12:47 corpus.mm.index\r\n",
      "-rw-r--r--  1 Daniel  staff   382436 May 20 12:47 corpus.mm\r\n",
      "-rw-r--r--  1 Daniel  staff    49966 May 20 12:47 genre_dictionary.dict\r\n",
      "drwxr-xr-x  5 Daniel  staff      160 May 20 10:59 \u001b[34mlogistic_model_data\u001b[m\u001b[m/\r\n",
      "-rw-r--r--  1 Daniel  staff    10926 May 18 11:10 genre_label_non-lonely_TRAINING_2020-05-18-10-06.csv\r\n",
      "-rw-r--r--  1 Daniel  staff     8664 May 18 11:09 genre_label_lonely_TRAINING_2020-05-18-10-06.csv\r\n",
      "-rw-r--r--  1 Daniel  staff    19587 May 18 11:09 genre_label_counts_TRAINING_2020-05-18-10-06.csv\r\n",
      "-rw-r--r--  1 Daniel  staff   312423 May 18 10:47 genre_lists.txt\r\n",
      "-rw-r--r--  1 Daniel  staff    19795 May 18 10:46 unique_genres.txt\r\n",
      "-rw-r--r--  1 Daniel  staff   233078 May 18 10:36 wiki-kaggle_y_train_2020-05-18-10-06.csv\r\n",
      "-rw-r--r--  1 Daniel  staff    58432 May 18 10:36 wiki-kaggle_y_test_2020-05-18-10-06.csv\r\n",
      "-rw-r--r--  1 Daniel  staff   631177 May 18 10:36 wiki-kaggle_X_train_2020-05-18-10-06.csv\r\n",
      "-rw-r--r--  1 Daniel  staff   158269 May 18 10:36 wiki-kaggle_X_test_2020-05-18-10-06.csv\r\n",
      "-rw-r--r--  1 Daniel  staff    24675 May 18 10:36 genre_list_2020-05-18-10-06.csv\r\n",
      "-rw-r--r--  1 Daniel  staff    10882 May 11 14:42 genre_label_non-lonely_TRAINING_2020-05-11-14-35.csv\r\n",
      "-rw-r--r--  1 Daniel  staff     8632 May 11 14:42 genre_label_lonely_TRAINING_2020-05-11-14-35.csv\r\n",
      "-rw-r--r--  1 Daniel  staff    19511 May 11 14:42 genre_label_counts_TRAINING_2020-05-11-14-35.csv\r\n",
      "-rw-r--r--  1 Daniel  staff    24606 May 11 14:41 genre_list_training_2020-05-11-14-35.csv\r\n",
      "-rw-r--r--  1 Daniel  staff    58432 May 11 14:35 wiki-kaggle_y_test_2020-05-11-14-35.csv\r\n",
      "-rw-r--r--  1 Daniel  staff   156249 May 11 14:35 wiki-kaggle_X_test_2020-05-11-14-35.csv\r\n",
      "-rw-r--r--  1 Daniel  staff   233078 May 11 14:35 wiki-kaggle_y_train_2020-05-11-14-35.csv\r\n",
      "-rw-r--r--  1 Daniel  staff   623021 May 11 14:35 wiki-kaggle_X_train_2020-05-11-14-35.csv\r\n",
      "-rw-r--r--  1 Daniel  staff    24591 May 11 14:34 genre_list_2020-05-11-14-34.csv\r\n",
      "-rw-r--r--  1 Daniel  staff   951681 May 11 14:34 wiki-kaggle_genres_gender_cleaned_2020-05-11-14-34.csv\r\n",
      "-rw-r--r--  1 Daniel  staff    25112 May  7 15:49 genre_list_2020-05-07-15-49.csv\r\n",
      "-rw-r--r--  1 Daniel  staff  1501714 May  7 15:49 wiki-kaggle_genres_gender_cleaned_2020-05-07-15-49.csv\r\n",
      "-rw-r--r--  1 Daniel  staff    25150 May  7 15:47 genre_list_2020-05-07-15-47.csv\r\n",
      "-rw-r--r--  1 Daniel  staff  1501728 May  7 15:47 wiki-kaggle_genres_gender_cleaned_2020-05-07-15-47.csv\r\n",
      "-rw-r--r--  1 Daniel  staff    25179 May  7 15:45 genre_list_2020-05-07-15-45.csv\r\n",
      "-rw-r--r--  1 Daniel  staff  1501719 May  7 15:45 wiki-kaggle_genres_gender_cleaned_2020-05-07-15-45.csv\r\n",
      "-rw-r--r--  1 Daniel  staff    25197 May  7 15:32 genre_list_2020-05-07-15-32.csv\r\n",
      "-rw-r--r--  1 Daniel  staff  1501722 May  7 15:32 wiki-kaggle_genres_gender_cleaned_2020-05-07-15-32.csv\r\n",
      "-rw-r--r--  1 Daniel  staff    25286 May  7 15:22 genre_list_2020-05-07-15-22.csv\r\n",
      "-rw-r--r--  1 Daniel  staff  1501698 May  7 15:22 wiki-kaggle_genres_gender_cleaned_2020-05-07-15-22.csv\r\n",
      "-rw-r--r--  1 Daniel  staff    25349 May  7 15:20 genre_list_2020-05-07-15-20.csv\r\n",
      "-rw-r--r--  1 Daniel  staff  1501692 May  7 15:20 wiki-kaggle_genres_gender_cleaned_2020-05-07-15-20.csv\r\n",
      "-rw-r--r--  1 Daniel  staff    25380 May  7 15:16 genre_list_2020-05-07-15-16.csv\r\n",
      "-rw-r--r--  1 Daniel  staff  1501704 May  7 15:16 wiki-kaggle_genres_gender_cleaned_2020-05-07-15-16.csv\r\n",
      "-rw-r--r--  1 Daniel  staff     8756 May  6 07:44 genre_list_issues.csv\r\n",
      "-rw-r--r--  1 Daniel  staff    28796 May  5 14:03 genre_list_2020-05-05-14-03.csv\r\n",
      "-rw-r--r--  1 Daniel  staff   954255 May  5 14:03 wiki-kaggle_genres_gender_cleaned_2020-05-05-14-03.csv\r\n",
      "-rw-r--r--  1 Daniel  staff    28584 May  4 13:32 genre_list_training_2020-05-04-09-42.csv\r\n",
      "-rw-r--r--  1 Daniel  staff    12435 May  4 09:48 genre_label_non-lonely_2020-05-04-09-42.csv\r\n",
      "-rw-r--r--  1 Daniel  staff    12624 May  4 09:47 genre_label_lonely_2020-05-04-09-42.csv\r\n",
      "-rw-r--r--  1 Daniel  staff    25056 May  4 09:47 genre_label_counts_2020-05-04-09-42.csv\r\n",
      "-rw-r--r--  1 Daniel  staff    58329 May  4 09:42 wiki-kaggle_y_test_2020-05-04-09-42.csv\r\n",
      "-rw-r--r--  1 Daniel  staff   158698 May  4 09:42 wiki-kaggle_X_test_2020-05-04-09-42.csv\r\n",
      "-rw-r--r--  1 Daniel  staff   233198 May  4 09:42 wiki-kaggle_y_train_2020-05-04-09-42.csv\r\n",
      "-rw-r--r--  1 Daniel  staff   629408 May  4 09:42 wiki-kaggle_X_train_2020-05-04-09-42.csv\r\n",
      "-rw-r--r--  1 Daniel  staff    31816 May  4 09:39 genre_list_2020-05-04-09-39.csv\r\n",
      "-rw-r--r--  1 Daniel  staff   960526 May  4 09:39 wiki-kaggle_genres_gender_cleaned_2020-05-04-09-39.csv\r\n",
      "-rw-r--r--  1 Daniel  staff     1508 May  1 09:19 dan_sample_to_verify_2020-05-01-09-16.csv\r\n",
      "-rw-r--r--  1 Daniel  staff     1470 May  1 09:19 tom_sample_to_verify_2020-05-01-09-16.csv\r\n",
      "-rw-r--r--  1 Daniel  staff   963617 May  1 09:16 wiki-kaggle_genres_gender_cleaned_2020-05-01-09-16.csv\r\n"
     ]
    }
   ],
   "source": [
    "%ls -lt ../../data/genre_lists/data_ready_for_model/"
   ]
  },
  {
   "cell_type": "code",
   "execution_count": 25,
   "metadata": {
    "scrolled": true
   },
   "outputs": [
    {
     "data": {
      "text/plain": [
       "'2020-05-18-10-06'"
      ]
     },
     "execution_count": 25,
     "metadata": {},
     "output_type": "execute_result"
    }
   ],
   "source": [
    "%store -r now\n",
    "now\n",
    "#now = '2020-05-11-14-35'"
   ]
  },
  {
   "cell_type": "code",
   "execution_count": 26,
   "metadata": {
    "scrolled": true
   },
   "outputs": [],
   "source": [
    "X_train = pd.read_csv('/Users/Daniel/Code/Genre/data/genre_lists/data_ready_for_model/wiki-kaggle_X_train_{}.csv'.format(now), index_col = ['artist'])\n",
    "y_train = pd.read_csv('/Users/Daniel/Code/Genre/data/genre_lists/data_ready_for_model/wiki-kaggle_y_train_{}.csv'.format(now), index_col = ['artist'])\n",
    "X_test = pd.read_csv('/Users/Daniel/Code/Genre/data/genre_lists/data_ready_for_model/wiki-kaggle_X_test_{}.csv'.format(now), index_col = ['artist'])\n",
    "y_test = pd.read_csv('/Users/Daniel/Code/Genre/data/genre_lists/data_ready_for_model/wiki-kaggle_y_test_{}.csv'.format(now), index_col = ['artist'])"
   ]
  },
  {
   "cell_type": "code",
   "execution_count": 27,
   "metadata": {
    "scrolled": true
   },
   "outputs": [],
   "source": [
    "X_tot = pd.concat([X_train,X_test])\n",
    "y_tot = pd.concat([y_train,y_test])"
   ]
  },
  {
   "cell_type": "code",
   "execution_count": 28,
   "metadata": {
    "scrolled": true
   },
   "outputs": [
    {
     "data": {
      "text/plain": [
       "((15470, 2), (15470, 1))"
      ]
     },
     "execution_count": 28,
     "metadata": {},
     "output_type": "execute_result"
    }
   ],
   "source": [
    "X_tot.shape, y_tot.shape"
   ]
  },
  {
   "cell_type": "code",
   "execution_count": 29,
   "metadata": {},
   "outputs": [],
   "source": [
    "data = y_tot.join([X_tot], how = 'outer')"
   ]
  },
  {
   "cell_type": "code",
   "execution_count": 30,
   "metadata": {
    "scrolled": true
   },
   "outputs": [
    {
     "data": {
      "text/html": [
       "<div>\n",
       "<style scoped>\n",
       "    .dataframe tbody tr th:only-of-type {\n",
       "        vertical-align: middle;\n",
       "    }\n",
       "\n",
       "    .dataframe tbody tr th {\n",
       "        vertical-align: top;\n",
       "    }\n",
       "\n",
       "    .dataframe thead th {\n",
       "        text-align: right;\n",
       "    }\n",
       "</style>\n",
       "<table border=\"1\" class=\"dataframe\">\n",
       "  <thead>\n",
       "    <tr style=\"text-align: right;\">\n",
       "      <th></th>\n",
       "      <th>gender</th>\n",
       "      <th>genrelist</th>\n",
       "      <th>genrelist_length</th>\n",
       "    </tr>\n",
       "    <tr>\n",
       "      <th>artist</th>\n",
       "      <th></th>\n",
       "      <th></th>\n",
       "      <th></th>\n",
       "    </tr>\n",
       "  </thead>\n",
       "  <tbody>\n",
       "    <tr>\n",
       "      <th>Pablo_Holman</th>\n",
       "      <td>male</td>\n",
       "      <td>['pop', 'rock', 'emo_pop']</td>\n",
       "      <td>3</td>\n",
       "    </tr>\n",
       "    <tr>\n",
       "      <th>Bobby_Edwards</th>\n",
       "      <td>male</td>\n",
       "      <td>['country']</td>\n",
       "      <td>1</td>\n",
       "    </tr>\n",
       "    <tr>\n",
       "      <th>La_Palabra</th>\n",
       "      <td>male</td>\n",
       "      <td>['afro_cuban_jazz', 'son_montuno', 'guaracha',...</td>\n",
       "      <td>4</td>\n",
       "    </tr>\n",
       "    <tr>\n",
       "      <th>Sherrick</th>\n",
       "      <td>male</td>\n",
       "      <td>['r_and_b', 'soul']</td>\n",
       "      <td>2</td>\n",
       "    </tr>\n",
       "    <tr>\n",
       "      <th>Allen_Collins</th>\n",
       "      <td>male</td>\n",
       "      <td>['southern_rock']</td>\n",
       "      <td>1</td>\n",
       "    </tr>\n",
       "  </tbody>\n",
       "</table>\n",
       "</div>"
      ],
      "text/plain": [
       "              gender                                          genrelist  \\\n",
       "artist                                                                    \n",
       "Pablo_Holman    male                         ['pop', 'rock', 'emo_pop']   \n",
       "Bobby_Edwards   male                                        ['country']   \n",
       "La_Palabra      male  ['afro_cuban_jazz', 'son_montuno', 'guaracha',...   \n",
       "Sherrick        male                                ['r_and_b', 'soul']   \n",
       "Allen_Collins   male                                  ['southern_rock']   \n",
       "\n",
       "               genrelist_length  \n",
       "artist                           \n",
       "Pablo_Holman                  3  \n",
       "Bobby_Edwards                 1  \n",
       "La_Palabra                    4  \n",
       "Sherrick                      2  \n",
       "Allen_Collins                 1  "
      ]
     },
     "execution_count": 30,
     "metadata": {},
     "output_type": "execute_result"
    }
   ],
   "source": [
    "data.head()"
   ]
  },
  {
   "cell_type": "code",
   "execution_count": 31,
   "metadata": {
    "scrolled": true
   },
   "outputs": [
    {
     "data": {
      "text/plain": [
       "((15470, 3),\n",
       " gender              0\n",
       " genrelist           0\n",
       " genrelist_length    0\n",
       " dtype: int64)"
      ]
     },
     "execution_count": 31,
     "metadata": {},
     "output_type": "execute_result"
    }
   ],
   "source": [
    "data.shape, data.isnull().sum()"
   ]
  },
  {
   "cell_type": "markdown",
   "metadata": {},
   "source": [
    "### Genre Labels\n",
    "\n",
    "Each value of the genre column is a _string_ of comma separated genre labels. We want to convert it to a _list_ of strings."
   ]
  },
  {
   "cell_type": "code",
   "execution_count": 32,
   "metadata": {
    "scrolled": true
   },
   "outputs": [],
   "source": [
    "\"\"\"This function takes in a string of the form\n",
    "appearing in the genrelist of the dataframe.\n",
    "It strips the square brackets and extra quotes and\n",
    "returns a list of strings where each string is a genre label.\"\"\"\n",
    "def genrelist(string):\n",
    "    string = string.strip(\"[\").strip(\"]\").replace(\"'\",\"\")\n",
    "    L = [s for s in string.split(',')]\n",
    "    L_new = []\n",
    "    for x in L:\n",
    "        L_new.append(x.replace(\" \",\"_\").lstrip(\"_\").rstrip(\"_\"))\n",
    "    while (str(\"\") in L_new):\n",
    "        L_new.remove(\"\")\n",
    "    return L_new"
   ]
  },
  {
   "cell_type": "markdown",
   "metadata": {},
   "source": [
    "Now we apply it to the whole column and put the lists in a new column:"
   ]
  },
  {
   "cell_type": "code",
   "execution_count": 33,
   "metadata": {
    "scrolled": true
   },
   "outputs": [],
   "source": [
    "data['genrelist']= data['genrelist'].apply(genrelist)"
   ]
  },
  {
   "cell_type": "code",
   "execution_count": 34,
   "metadata": {
    "scrolled": true
   },
   "outputs": [
    {
     "data": {
      "text/html": [
       "<div>\n",
       "<style scoped>\n",
       "    .dataframe tbody tr th:only-of-type {\n",
       "        vertical-align: middle;\n",
       "    }\n",
       "\n",
       "    .dataframe tbody tr th {\n",
       "        vertical-align: top;\n",
       "    }\n",
       "\n",
       "    .dataframe thead th {\n",
       "        text-align: right;\n",
       "    }\n",
       "</style>\n",
       "<table border=\"1\" class=\"dataframe\">\n",
       "  <thead>\n",
       "    <tr style=\"text-align: right;\">\n",
       "      <th></th>\n",
       "      <th>gender</th>\n",
       "      <th>genrelist</th>\n",
       "      <th>genrelist_length</th>\n",
       "    </tr>\n",
       "    <tr>\n",
       "      <th>artist</th>\n",
       "      <th></th>\n",
       "      <th></th>\n",
       "      <th></th>\n",
       "    </tr>\n",
       "  </thead>\n",
       "  <tbody>\n",
       "    <tr>\n",
       "      <th>Pablo_Holman</th>\n",
       "      <td>male</td>\n",
       "      <td>[pop, rock, emo_pop]</td>\n",
       "      <td>3</td>\n",
       "    </tr>\n",
       "    <tr>\n",
       "      <th>Bobby_Edwards</th>\n",
       "      <td>male</td>\n",
       "      <td>[country]</td>\n",
       "      <td>1</td>\n",
       "    </tr>\n",
       "    <tr>\n",
       "      <th>La_Palabra</th>\n",
       "      <td>male</td>\n",
       "      <td>[afro_cuban_jazz, son_montuno, guaracha, salsa...</td>\n",
       "      <td>4</td>\n",
       "    </tr>\n",
       "    <tr>\n",
       "      <th>Sherrick</th>\n",
       "      <td>male</td>\n",
       "      <td>[r_and_b, soul]</td>\n",
       "      <td>2</td>\n",
       "    </tr>\n",
       "    <tr>\n",
       "      <th>Allen_Collins</th>\n",
       "      <td>male</td>\n",
       "      <td>[southern_rock]</td>\n",
       "      <td>1</td>\n",
       "    </tr>\n",
       "  </tbody>\n",
       "</table>\n",
       "</div>"
      ],
      "text/plain": [
       "              gender                                          genrelist  \\\n",
       "artist                                                                    \n",
       "Pablo_Holman    male                               [pop, rock, emo_pop]   \n",
       "Bobby_Edwards   male                                          [country]   \n",
       "La_Palabra      male  [afro_cuban_jazz, son_montuno, guaracha, salsa...   \n",
       "Sherrick        male                                    [r_and_b, soul]   \n",
       "Allen_Collins   male                                    [southern_rock]   \n",
       "\n",
       "               genrelist_length  \n",
       "artist                           \n",
       "Pablo_Holman                  3  \n",
       "Bobby_Edwards                 1  \n",
       "La_Palabra                    4  \n",
       "Sherrick                      2  \n",
       "Allen_Collins                 1  "
      ]
     },
     "execution_count": 34,
     "metadata": {},
     "output_type": "execute_result"
    }
   ],
   "source": [
    "data.head()"
   ]
  },
  {
   "cell_type": "markdown",
   "metadata": {},
   "source": [
    "### Import the genre labels from the whole data set:"
   ]
  },
  {
   "cell_type": "code",
   "execution_count": 35,
   "metadata": {},
   "outputs": [],
   "source": [
    "genrelist_df = pd.read_csv('/Users/Daniel/Code/Genre/data/genre_lists/data_ready_for_model/genre_list_{}.csv'.format(now), index_col = 'Unnamed: 0')"
   ]
  },
  {
   "cell_type": "code",
   "execution_count": 36,
   "metadata": {
    "scrolled": true
   },
   "outputs": [
    {
     "data": {
      "text/plain": [
       "(1494, 1)"
      ]
     },
     "execution_count": 36,
     "metadata": {},
     "output_type": "execute_result"
    }
   ],
   "source": [
    "genrelist_df.shape"
   ]
  },
  {
   "cell_type": "code",
   "execution_count": 37,
   "metadata": {
    "scrolled": true
   },
   "outputs": [
    {
     "name": "stdout",
     "output_type": "stream",
     "text": [
      "There are 15470 artists with genre and binary-gender labels in the total data set.\n",
      "There are 1494 unique genre labels.\n"
     ]
    }
   ],
   "source": [
    "print('There are {} artists with genre and binary-gender labels in the total data set.'.format(data.shape[0]))\n",
    "print('There are {} unique genre labels.'.format(genrelist_df.shape[0]))"
   ]
  },
  {
   "cell_type": "markdown",
   "metadata": {
    "scrolled": true
   },
   "source": [
    "Basic gender stats on full data set"
   ]
  },
  {
   "cell_type": "code",
   "execution_count": 38,
   "metadata": {
    "scrolled": true
   },
   "outputs": [
    {
     "name": "stdout",
     "output_type": "stream",
     "text": [
      "15470 total artists\n",
      "4855 female artists, or 31%\n",
      "10615 male artists, or 69%\n"
     ]
    }
   ],
   "source": [
    "data_male = data[data.gender == 'male']\n",
    "data_female = data[data.gender == 'female']\n",
    "tot = data.shape[0]\n",
    "m = data_male.shape[0]\n",
    "f = data_female.shape[0]\n",
    "fem = 100*f/(f+m)\n",
    "mal = 100*m/(f+m)\n",
    "print('{} total artists'.format(tot))\n",
    "print('{} female artists, or {:0.0f}%'.format(f, fem))\n",
    "print('{} male artists, or {:0.0f}%'.format(m, mal))"
   ]
  },
  {
   "cell_type": "markdown",
   "metadata": {},
   "source": [
    "### Count the number of times that a label occurs:"
   ]
  },
  {
   "cell_type": "code",
   "execution_count": 43,
   "metadata": {
    "scrolled": true
   },
   "outputs": [],
   "source": [
    "genre_list_1 = data.genrelist.values.tolist()\n",
    "genre_list_1 = [x for y in genre_list_1 for x in y]\n",
    "genre_counts = pd.Series(genre_list_1)\n",
    "label_value_counts = pd.DataFrame(genre_counts.value_counts())\n",
    "label_value_counts.columns = ['Frequency']"
   ]
  },
  {
   "cell_type": "code",
   "execution_count": 44,
   "metadata": {
    "scrolled": true
   },
   "outputs": [
    {
     "data": {
      "text/html": [
       "<div>\n",
       "<style scoped>\n",
       "    .dataframe tbody tr th:only-of-type {\n",
       "        vertical-align: middle;\n",
       "    }\n",
       "\n",
       "    .dataframe tbody tr th {\n",
       "        vertical-align: top;\n",
       "    }\n",
       "\n",
       "    .dataframe thead th {\n",
       "        text-align: right;\n",
       "    }\n",
       "</style>\n",
       "<table border=\"1\" class=\"dataframe\">\n",
       "  <thead>\n",
       "    <tr style=\"text-align: right;\">\n",
       "      <th></th>\n",
       "      <th>Frequency</th>\n",
       "    </tr>\n",
       "  </thead>\n",
       "  <tbody>\n",
       "    <tr>\n",
       "      <th>pop</th>\n",
       "      <td>3281</td>\n",
       "    </tr>\n",
       "    <tr>\n",
       "      <th>rock</th>\n",
       "      <td>2209</td>\n",
       "    </tr>\n",
       "    <tr>\n",
       "      <th>r_and_b</th>\n",
       "      <td>2061</td>\n",
       "    </tr>\n",
       "    <tr>\n",
       "      <th>country</th>\n",
       "      <td>2027</td>\n",
       "    </tr>\n",
       "    <tr>\n",
       "      <th>hip_hop</th>\n",
       "      <td>1395</td>\n",
       "    </tr>\n",
       "    <tr>\n",
       "      <th>soul</th>\n",
       "      <td>1305</td>\n",
       "    </tr>\n",
       "    <tr>\n",
       "      <th>folk</th>\n",
       "      <td>1288</td>\n",
       "    </tr>\n",
       "    <tr>\n",
       "      <th>jazz</th>\n",
       "      <td>1173</td>\n",
       "    </tr>\n",
       "    <tr>\n",
       "      <th>alternative_rock</th>\n",
       "      <td>1152</td>\n",
       "    </tr>\n",
       "    <tr>\n",
       "      <th>blues</th>\n",
       "      <td>1067</td>\n",
       "    </tr>\n",
       "  </tbody>\n",
       "</table>\n",
       "</div>"
      ],
      "text/plain": [
       "                  Frequency\n",
       "pop                    3281\n",
       "rock                   2209\n",
       "r_and_b                2061\n",
       "country                2027\n",
       "hip_hop                1395\n",
       "soul                   1305\n",
       "folk                   1288\n",
       "jazz                   1173\n",
       "alternative_rock       1152\n",
       "blues                  1067"
      ]
     },
     "execution_count": 44,
     "metadata": {},
     "output_type": "execute_result"
    }
   ],
   "source": [
    "label_value_counts[:10]"
   ]
  },
  {
   "cell_type": "markdown",
   "metadata": {},
   "source": [
    "Export:"
   ]
  },
  {
   "cell_type": "code",
   "execution_count": 19,
   "metadata": {
    "scrolled": true
   },
   "outputs": [],
   "source": [
    "# label_value_counts.to_csv('/Users/Daniel/Code/Genre/data/genre_lists/data_ready_for_model/genre_label_counts_TOTAL_{}.csv'.format(now))"
   ]
  },
  {
   "cell_type": "markdown",
   "metadata": {},
   "source": [
    "## Co-Occurrence"
   ]
  },
  {
   "cell_type": "markdown",
   "metadata": {},
   "source": [
    "Now we produce a Series with the counts of the appearances of genre labels in the lists that include QueryGenre"
   ]
  },
  {
   "cell_type": "code",
   "execution_count": 20,
   "metadata": {
    "scrolled": true
   },
   "outputs": [],
   "source": [
    "def coocurr(QueryGenre):\n",
    "    # set genre to query\n",
    "    QueryGenre = QueryGenre \n",
    "    # select artists whose genre list contains QueryGenre\n",
    "    artists_with_QueryGenre = data[data.genrelist.apply(lambda x: True if QueryGenre in x else False)]\n",
    "    # create a list of genre lists from all artists that have QueryGenre on their list\n",
    "    QueryGenre_CoGenres = artists_with_QueryGenre.genrelist.values.tolist()\n",
    "    # flatten\n",
    "    QueryGenre_CoGenres = [x for y in QueryGenre_CoGenres for x in y]\n",
    "    # turn it into a Series\n",
    "    QueryGenre_CoGenres = pd.Series(QueryGenre_CoGenres)\n",
    "    # make counts of appearances of the co-genres\n",
    "    QueryGenre_CoGenres_counts = QueryGenre_CoGenres.value_counts()\n",
    "    # drop the QueryGenre itself\n",
    "    QueryGenre_CoGenres_counts.drop(QueryGenre, axis = 0, inplace = True )\n",
    "    #QueryGenre_CoGenres_counts.rename_axis( 'counts', inplace = True)\n",
    "    QueryGenre_CoGenres_counts.index.name = 'genres'\n",
    "    return QueryGenre_CoGenres_counts"
   ]
  },
  {
   "cell_type": "code",
   "execution_count": 21,
   "metadata": {
    "scrolled": true
   },
   "outputs": [
    {
     "data": {
      "text/plain": [
       "genres\n",
       "hip_hop               23\n",
       "r_and_b               13\n",
       "pop                   12\n",
       "dance                  5\n",
       "soul                   2\n",
       "alternative            2\n",
       "latin_trap             1\n",
       "electronica            1\n",
       "east_coast_hip_hop     1\n",
       "soft_rock              1\n",
       "gangsta_rap            1\n",
       "mexitón                1\n",
       "funk                   1\n",
       "soca                   1\n",
       "trap                   1\n",
       "filk                   1\n",
       "reggae                 1\n",
       "latin_pop              1\n",
       "hardcore_rap           1\n",
       "house                  1\n",
       "ragga                  1\n",
       "spoken_word            1\n",
       "homo_hop               1\n",
       "big_room_house         1\n",
       "west_coast_hip_hop     1\n",
       "future_house           1\n",
       "k_pop                  1\n",
       "industrial_rock        1\n",
       "latin                  1\n",
       "electro_house          1\n",
       "parody                 1\n",
       "progressive_house      1\n",
       "future_bass            1\n",
       "dtype: int64"
      ]
     },
     "execution_count": 21,
     "metadata": {},
     "output_type": "execute_result"
    }
   ],
   "source": [
    "coocurr('rap')"
   ]
  },
  {
   "cell_type": "markdown",
   "metadata": {},
   "source": [
    "Needs to be modified:"
   ]
  },
  {
   "cell_type": "code",
   "execution_count": 22,
   "metadata": {
    "scrolled": false
   },
   "outputs": [],
   "source": [
    "# fig, ax = plt.subplots()\n",
    "\n",
    "# # hide axes\n",
    "# fig.patch.set_visible(False)\n",
    "# ax.axis('off')\n",
    "# ax.axis('tight')\n",
    "\n",
    "# ax.table(cellText = coocurr('rap').values, rowLabels = coocurr('rap').index, loc = 'center')\n",
    "\n",
    "# fig.tight_layout()\n",
    "\n",
    "# plt.show()"
   ]
  },
  {
   "cell_type": "code",
   "execution_count": null,
   "metadata": {
    "scrolled": true
   },
   "outputs": [],
   "source": []
  }
 ],
 "metadata": {
  "kernelspec": {
   "display_name": "Python 3",
   "language": "python",
   "name": "python3"
  },
  "language_info": {
   "codemirror_mode": {
    "name": "ipython",
    "version": 3
   },
   "file_extension": ".py",
   "mimetype": "text/x-python",
   "name": "python",
   "nbconvert_exporter": "python",
   "pygments_lexer": "ipython3",
   "version": "3.7.3"
  }
 },
 "nbformat": 4,
 "nbformat_minor": 4
}
