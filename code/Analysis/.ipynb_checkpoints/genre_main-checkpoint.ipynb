{
 "cells": [
  {
   "cell_type": "code",
   "execution_count": 1,
   "metadata": {},
   "outputs": [
    {
     "name": "stdout",
     "output_type": "stream",
     "text": [
      "Stored 'now' (str)\n"
     ]
    }
   ],
   "source": [
    "import numpy as np\n",
    "import pandas as pd\n",
    "from sklearn.model_selection import train_test_split \n",
    "np.random.seed(23)\n",
    "\n",
    "# the variable 'now' references the datetime that the data was saved and is referenced \n",
    "# in other notebooks so that the correct version of the cleaned data is called\n",
    "now = '2020-07-07-09-58'\n",
    "%store now"
   ]
  },
  {
   "cell_type": "markdown",
   "metadata": {},
   "source": [
    "## Data Preprocessing"
   ]
  },
  {
   "cell_type": "markdown",
   "metadata": {},
   "source": [
    "### The data set with the genders of music artists\n",
    "\n",
    "The file singers_gender.csv is from Kaggle and lists music artists and their gender: \n",
    "\n",
    "https://www.kaggle.com/rkibria/singersgender \n",
    "\n",
    "This csv file containing the name and gender of singers was used to scrape genre metadata for each artist from Wikipedia and stored in the csv file here: \n",
    "\n",
    "'../../data/genre_lists/data_to_be_cleaned/wiki-kaggle_genres_rescrape.csv/wiki-kaggle_genres_rescrape.csv'\n",
    "\n",
    "### We next clean the data. This involves \n",
    "- removing artists for which no genre information was obtained\n",
    "- removing bands (which do not have a singular gender)\n",
    "- correcting spelling irregularities for names of genres (sometimes referred to as genre labels)\n",
    "- normalizing and aggregating genres\n",
    "- organizing genres into a list (in the csv this is a string, but in the data frame it is a list)\n",
    "\n",
    "The 'cleaning' process also involved making calls about which genre labels should be considered spelling variants of a single genre. For example, 'rock n roll' and 'rock and roll' were aggregated into a single genre, but kept separate from 'rock'. The labels 'r & b' and 'r n b' were combined but kept separarte from 'rhythm and blues'.\n",
    "\n",
    "In addition to cleaning the data, a new column is added with the number of genres for each artist."
   ]
  },
  {
   "cell_type": "code",
   "execution_count": 2,
   "metadata": {},
   "outputs": [],
   "source": [
    "from genre_scripts.genre_cleaning import clean_genre_data"
   ]
  },
  {
   "cell_type": "code",
   "execution_count": 3,
   "metadata": {},
   "outputs": [],
   "source": [
    "data = clean_genre_data()"
   ]
  },
  {
   "cell_type": "code",
   "execution_count": 4,
   "metadata": {
    "scrolled": false
   },
   "outputs": [
    {
     "data": {
      "text/html": [
       "<div>\n",
       "<style scoped>\n",
       "    .dataframe tbody tr th:only-of-type {\n",
       "        vertical-align: middle;\n",
       "    }\n",
       "\n",
       "    .dataframe tbody tr th {\n",
       "        vertical-align: top;\n",
       "    }\n",
       "\n",
       "    .dataframe thead th {\n",
       "        text-align: right;\n",
       "    }\n",
       "</style>\n",
       "<table border=\"1\" class=\"dataframe\">\n",
       "  <thead>\n",
       "    <tr style=\"text-align: right;\">\n",
       "      <th></th>\n",
       "      <th>artist</th>\n",
       "      <th>gender</th>\n",
       "      <th>genrelist</th>\n",
       "      <th>genrelist_length</th>\n",
       "    </tr>\n",
       "  </thead>\n",
       "  <tbody>\n",
       "    <tr>\n",
       "      <th>1</th>\n",
       "      <td>Christopher_Willits</td>\n",
       "      <td>male</td>\n",
       "      <td>[electronic, glitch, ambient, electro_acoustic...</td>\n",
       "      <td>5</td>\n",
       "    </tr>\n",
       "    <tr>\n",
       "      <th>3</th>\n",
       "      <td>Shawn_Hook</td>\n",
       "      <td>male</td>\n",
       "      <td>[pop, electronic, rock]</td>\n",
       "      <td>3</td>\n",
       "    </tr>\n",
       "    <tr>\n",
       "      <th>4</th>\n",
       "      <td>Steve_Poltz</td>\n",
       "      <td>male</td>\n",
       "      <td>[pop_rock, indie_rock, folk_rock]</td>\n",
       "      <td>3</td>\n",
       "    </tr>\n",
       "    <tr>\n",
       "      <th>6</th>\n",
       "      <td>Marvin_Isley</td>\n",
       "      <td>male</td>\n",
       "      <td>[r_and_b, funk, soul, funk_rock]</td>\n",
       "      <td>4</td>\n",
       "    </tr>\n",
       "    <tr>\n",
       "      <th>7</th>\n",
       "      <td>Povel_Ramel</td>\n",
       "      <td>male</td>\n",
       "      <td>[vaudeville]</td>\n",
       "      <td>1</td>\n",
       "    </tr>\n",
       "  </tbody>\n",
       "</table>\n",
       "</div>"
      ],
      "text/plain": [
       "                artist gender  \\\n",
       "1  Christopher_Willits   male   \n",
       "3           Shawn_Hook   male   \n",
       "4          Steve_Poltz   male   \n",
       "6         Marvin_Isley   male   \n",
       "7          Povel_Ramel   male   \n",
       "\n",
       "                                           genrelist  genrelist_length  \n",
       "1  [electronic, glitch, ambient, electro_acoustic...                 5  \n",
       "3                            [pop, electronic, rock]                 3  \n",
       "4                  [pop_rock, indie_rock, folk_rock]                 3  \n",
       "6                   [r_and_b, funk, soul, funk_rock]                 4  \n",
       "7                                       [vaudeville]                 1  "
      ]
     },
     "execution_count": 4,
     "metadata": {},
     "output_type": "execute_result"
    }
   ],
   "source": [
    "data.head()"
   ]
  },
  {
   "cell_type": "markdown",
   "metadata": {},
   "source": [
    "### Export the cleaned data set:"
   ]
  },
  {
   "cell_type": "code",
   "execution_count": 5,
   "metadata": {},
   "outputs": [],
   "source": [
    "# today = datetime.today()\n",
    "# now = today.strftime('%Y-%m-%d-%H-%M')"
   ]
  },
  {
   "cell_type": "code",
   "execution_count": 6,
   "metadata": {},
   "outputs": [],
   "source": [
    "# data.to_csv('/Users/Daniel/Code/Genre/data/genre_lists/data_ready_for_model/wiki-kaggle_genres_gender_cleaned_{}.csv'.format(now))"
   ]
  },
  {
   "cell_type": "markdown",
   "metadata": {},
   "source": [
    "### Extract the list of unique genres:"
   ]
  },
  {
   "cell_type": "code",
   "execution_count": 7,
   "metadata": {},
   "outputs": [],
   "source": [
    "genre_list = data.genrelist.values.tolist()\n",
    "genre_list = [x for y in genre_list for x in y]\n",
    "genre_list = list(set(genre_list))\n",
    "genre_list = sorted(genre_list)"
   ]
  },
  {
   "cell_type": "markdown",
   "metadata": {},
   "source": [
    "### Export the list of genres:"
   ]
  },
  {
   "cell_type": "code",
   "execution_count": 8,
   "metadata": {},
   "outputs": [],
   "source": [
    "# genre_list_df = pd.DataFrame({'genre_list':genre_list})\n",
    "# genre_list_df.to_csv('/Users/Daniel/Code/Genre/data/genre_lists/data_ready_for_model/genre_list_{}.csv'.format(now))"
   ]
  },
  {
   "cell_type": "markdown",
   "metadata": {},
   "source": [
    "### Create the train test split\n",
    "\n",
    "This train-test split will be used for ML modeling. "
   ]
  },
  {
   "cell_type": "code",
   "execution_count": 9,
   "metadata": {},
   "outputs": [],
   "source": [
    "data = pd.read_csv('/Users/Daniel/Code/Genre/data/genre_lists/data_ready_for_model/wiki-kaggle_genres_gender_cleaned_2020-07-07-09-58.csv', index_col = ['artist'])\n",
    "data.drop(['Unnamed: 0'], axis = 1,  inplace = True)\n",
    "\n",
    "X = data[['genrelist', 'genrelist_length']]\n",
    "y = data.gender\n",
    "\n",
    "X_train, X_test, y_train, y_test = train_test_split(X, y, test_size = 0.2)\n",
    "\n",
    "# # export for further use\n",
    "# X_train.to_csv('/Users/Daniel/Code/Genre/data/genre_lists/data_ready_for_model/wiki-kaggle_X_train_{}.csv'.format(now))\n",
    "# y_train.to_csv('/Users/Daniel/Code/Genre/data/genre_lists/data_ready_for_model/wiki-kaggle_y_train_{}.csv'.format(now))\n",
    "\n",
    "# X_test.to_csv('/Users/Daniel/Code/Genre/data/genre_lists/data_ready_for_model/wiki-kaggle_X_test_{}.csv'.format(now))\n",
    "# y_test.to_csv('/Users/Daniel/Code/Genre/data/genre_lists/data_ready_for_model/wiki-kaggle_y_test_{}.csv'.format(now))"
   ]
  },
  {
   "cell_type": "markdown",
   "metadata": {},
   "source": [
    "## The basic shape of the data\n",
    "\n",
    "report basic stats"
   ]
  },
  {
   "cell_type": "code",
   "execution_count": null,
   "metadata": {},
   "outputs": [],
   "source": []
  },
  {
   "cell_type": "markdown",
   "metadata": {},
   "source": [
    "## Gender bias in the length of genre lists of artists"
   ]
  },
  {
   "cell_type": "markdown",
   "metadata": {},
   "source": [
    "How does genre list length depend on gender?\n",
    "\n",
    "Split the genre lists into two bins: those with length $\\leq 5$ and those with length $\\geq 6$. For each bin, calculate\n",
    "\n",
    "$$\\frac{\\text{actual # of male artists in bin}}{\\text{expected # of male artists in bin}}$$\n",
    "\n",
    "where the expected number of male artists in a bin is ${(\\% \\text{male in total sample)} \\cdot \\text{(total in bin)}}$. Do the same for female artists. This gives a measure of bias. \n",
    "\n",
    "We find that for genre list lengths $\\leq 5$, the ratio is close to $1$ for male and female artists. However, for list lengths $\\geq 6$, male artists are over represented and female artists are under represented.\n"
   ]
  },
  {
   "cell_type": "code",
   "execution_count": null,
   "metadata": {},
   "outputs": [],
   "source": []
  }
 ],
 "metadata": {
  "kernelspec": {
   "display_name": "Python 3",
   "language": "python",
   "name": "python3"
  },
  "language_info": {
   "codemirror_mode": {
    "name": "ipython",
    "version": 3
   },
   "file_extension": ".py",
   "mimetype": "text/x-python",
   "name": "python",
   "nbconvert_exporter": "python",
   "pygments_lexer": "ipython3",
   "version": "3.7.3"
  }
 },
 "nbformat": 4,
 "nbformat_minor": 4
}
