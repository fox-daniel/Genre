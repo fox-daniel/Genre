{
 "cells": [
  {
   "cell_type": "markdown",
   "metadata": {},
   "source": [
    "This notebook examines the basic stats and shape of the data.\n",
    "\n",
    "## Currently it needs to be updated and organized"
   ]
  },
  {
   "cell_type": "code",
   "execution_count": 62,
   "metadata": {},
   "outputs": [],
   "source": [
    "import numpy as np\n",
    "import pandas as pd\n",
    "\n",
    "import matplotlib.pyplot as plt\n",
    "import seaborn as sns; sns.set()\n",
    "\n",
    "import re"
   ]
  },
  {
   "cell_type": "markdown",
   "metadata": {},
   "source": [
    "Import the cleaned data:"
   ]
  },
  {
   "cell_type": "code",
   "execution_count": 63,
   "metadata": {},
   "outputs": [],
   "source": [
    "now = 'temp'"
   ]
  },
  {
   "cell_type": "code",
   "execution_count": 64,
   "metadata": {},
   "outputs": [],
   "source": [
    "X_train = pd.read_csv('/Users/Daniel/Code/Genre/data/genre_lists/data_ready_for_model/wiki-kaggle_X_train_{}.csv'.format(now), index_col = ['artist'])\n",
    "y_train = pd.read_csv('/Users/Daniel/Code/Genre/data/genre_lists/data_ready_for_model/wiki-kaggle_y_train_{}.csv'.format(now), index_col = ['artist'])"
   ]
  },
  {
   "cell_type": "code",
   "execution_count": 65,
   "metadata": {},
   "outputs": [
    {
     "data": {
      "text/html": [
       "<div>\n",
       "<style scoped>\n",
       "    .dataframe tbody tr th:only-of-type {\n",
       "        vertical-align: middle;\n",
       "    }\n",
       "\n",
       "    .dataframe tbody tr th {\n",
       "        vertical-align: top;\n",
       "    }\n",
       "\n",
       "    .dataframe thead th {\n",
       "        text-align: right;\n",
       "    }\n",
       "</style>\n",
       "<table border=\"1\" class=\"dataframe\">\n",
       "  <thead>\n",
       "    <tr style=\"text-align: right;\">\n",
       "      <th></th>\n",
       "      <th>genrelist</th>\n",
       "      <th>genrelist_length</th>\n",
       "    </tr>\n",
       "    <tr>\n",
       "      <th>artist</th>\n",
       "      <th></th>\n",
       "      <th></th>\n",
       "    </tr>\n",
       "  </thead>\n",
       "  <tbody>\n",
       "    <tr>\n",
       "      <th>Trish_Thuy_Trang</th>\n",
       "      <td>['Pop_music', 'Techno', 'Dance_music']</td>\n",
       "      <td>3</td>\n",
       "    </tr>\n",
       "    <tr>\n",
       "      <th>Dougie_Young</th>\n",
       "      <td>['Country_music']</td>\n",
       "      <td>1</td>\n",
       "    </tr>\n",
       "    <tr>\n",
       "      <th>Bruce_Kulick</th>\n",
       "      <td>['Hard_rock', 'Heavy_metal_music']</td>\n",
       "      <td>2</td>\n",
       "    </tr>\n",
       "    <tr>\n",
       "      <th>Steve_Vawamas</th>\n",
       "      <td>['Neoclassical_metal', 'Hard_rock', 'Heavy_met...</td>\n",
       "      <td>3</td>\n",
       "    </tr>\n",
       "    <tr>\n",
       "      <th>Will_Schwartz</th>\n",
       "      <td>['Indie_pop', 'Indie_rock', 'Alt-Rock', 'Elect...</td>\n",
       "      <td>4</td>\n",
       "    </tr>\n",
       "  </tbody>\n",
       "</table>\n",
       "</div>"
      ],
      "text/plain": [
       "                                                          genrelist  \\\n",
       "artist                                                                \n",
       "Trish_Thuy_Trang             ['Pop_music', 'Techno', 'Dance_music']   \n",
       "Dougie_Young                                      ['Country_music']   \n",
       "Bruce_Kulick                     ['Hard_rock', 'Heavy_metal_music']   \n",
       "Steve_Vawamas     ['Neoclassical_metal', 'Hard_rock', 'Heavy_met...   \n",
       "Will_Schwartz     ['Indie_pop', 'Indie_rock', 'Alt-Rock', 'Elect...   \n",
       "\n",
       "                  genrelist_length  \n",
       "artist                              \n",
       "Trish_Thuy_Trang                 3  \n",
       "Dougie_Young                     1  \n",
       "Bruce_Kulick                     2  \n",
       "Steve_Vawamas                    3  \n",
       "Will_Schwartz                    4  "
      ]
     },
     "execution_count": 65,
     "metadata": {},
     "output_type": "execute_result"
    }
   ],
   "source": [
    "X_train.head()"
   ]
  },
  {
   "cell_type": "code",
   "execution_count": 66,
   "metadata": {},
   "outputs": [
    {
     "data": {
      "text/plain": [
       "((11692, 2), (11692, 1))"
      ]
     },
     "execution_count": 66,
     "metadata": {},
     "output_type": "execute_result"
    }
   ],
   "source": [
    "X_train.shape, y_train.shape"
   ]
  },
  {
   "cell_type": "code",
   "execution_count": 67,
   "metadata": {},
   "outputs": [],
   "source": [
    "data = y_train.join( [X_train], how = 'outer')"
   ]
  },
  {
   "cell_type": "code",
   "execution_count": 68,
   "metadata": {},
   "outputs": [
    {
     "data": {
      "text/html": [
       "<div>\n",
       "<style scoped>\n",
       "    .dataframe tbody tr th:only-of-type {\n",
       "        vertical-align: middle;\n",
       "    }\n",
       "\n",
       "    .dataframe tbody tr th {\n",
       "        vertical-align: top;\n",
       "    }\n",
       "\n",
       "    .dataframe thead th {\n",
       "        text-align: right;\n",
       "    }\n",
       "</style>\n",
       "<table border=\"1\" class=\"dataframe\">\n",
       "  <thead>\n",
       "    <tr style=\"text-align: right;\">\n",
       "      <th></th>\n",
       "      <th>gender</th>\n",
       "      <th>genrelist</th>\n",
       "      <th>genrelist_length</th>\n",
       "    </tr>\n",
       "    <tr>\n",
       "      <th>artist</th>\n",
       "      <th></th>\n",
       "      <th></th>\n",
       "      <th></th>\n",
       "    </tr>\n",
       "  </thead>\n",
       "  <tbody>\n",
       "    <tr>\n",
       "      <th>Trish_Thuy_Trang</th>\n",
       "      <td>female</td>\n",
       "      <td>['Pop_music', 'Techno', 'Dance_music']</td>\n",
       "      <td>3</td>\n",
       "    </tr>\n",
       "    <tr>\n",
       "      <th>Dougie_Young</th>\n",
       "      <td>male</td>\n",
       "      <td>['Country_music']</td>\n",
       "      <td>1</td>\n",
       "    </tr>\n",
       "    <tr>\n",
       "      <th>Bruce_Kulick</th>\n",
       "      <td>male</td>\n",
       "      <td>['Hard_rock', 'Heavy_metal_music']</td>\n",
       "      <td>2</td>\n",
       "    </tr>\n",
       "    <tr>\n",
       "      <th>Steve_Vawamas</th>\n",
       "      <td>male</td>\n",
       "      <td>['Neoclassical_metal', 'Hard_rock', 'Heavy_met...</td>\n",
       "      <td>3</td>\n",
       "    </tr>\n",
       "    <tr>\n",
       "      <th>Will_Schwartz</th>\n",
       "      <td>male</td>\n",
       "      <td>['Indie_pop', 'Indie_rock', 'Alt-Rock', 'Elect...</td>\n",
       "      <td>4</td>\n",
       "    </tr>\n",
       "  </tbody>\n",
       "</table>\n",
       "</div>"
      ],
      "text/plain": [
       "                  gender                                          genrelist  \\\n",
       "artist                                                                        \n",
       "Trish_Thuy_Trang  female             ['Pop_music', 'Techno', 'Dance_music']   \n",
       "Dougie_Young        male                                  ['Country_music']   \n",
       "Bruce_Kulick        male                 ['Hard_rock', 'Heavy_metal_music']   \n",
       "Steve_Vawamas       male  ['Neoclassical_metal', 'Hard_rock', 'Heavy_met...   \n",
       "Will_Schwartz       male  ['Indie_pop', 'Indie_rock', 'Alt-Rock', 'Elect...   \n",
       "\n",
       "                  genrelist_length  \n",
       "artist                              \n",
       "Trish_Thuy_Trang                 3  \n",
       "Dougie_Young                     1  \n",
       "Bruce_Kulick                     2  \n",
       "Steve_Vawamas                    3  \n",
       "Will_Schwartz                    4  "
      ]
     },
     "execution_count": 68,
     "metadata": {},
     "output_type": "execute_result"
    }
   ],
   "source": [
    "data.head()"
   ]
  },
  {
   "cell_type": "code",
   "execution_count": 69,
   "metadata": {},
   "outputs": [
    {
     "data": {
      "text/plain": [
       "((11692, 3),\n",
       " gender              0\n",
       " genrelist           0\n",
       " genrelist_length    0\n",
       " dtype: int64)"
      ]
     },
     "execution_count": 69,
     "metadata": {},
     "output_type": "execute_result"
    }
   ],
   "source": [
    "data.shape, data.isnull().sum()"
   ]
  },
  {
   "cell_type": "markdown",
   "metadata": {},
   "source": [
    "### Genre Labels\n",
    "\n",
    "Each value of the genre column is a _string_ of comma separated genre labels using the spotify abbreviations. We want to convert it to a _list_ of strings."
   ]
  },
  {
   "cell_type": "code",
   "execution_count": 71,
   "metadata": {},
   "outputs": [],
   "source": [
    "\"\"\"This function takes in a string of the form\n",
    "appearing in the genrelist of the dataframe.\n",
    "It strips the square brackets and extra quotes and\n",
    "returns a list of strings where each string is a genre label.\"\"\"\n",
    "def genrelist(string):\n",
    "    string = string.strip(\"[\").strip(\"]\").replace(\"'\",\"\")\n",
    "    L = [s for s in string.split(',')]\n",
    "    L_new = []\n",
    "    for x in L:\n",
    "        L_new.append(x.replace(\" \",\"_\").lstrip(\"_\").rstrip(\"_\"))\n",
    "    while (str(\"\") in L_new):\n",
    "        L_new.remove(\"\")\n",
    "    return L_new"
   ]
  },
  {
   "cell_type": "markdown",
   "metadata": {},
   "source": [
    "Now we apply it to the whole column and put the lists in a new column:"
   ]
  },
  {
   "cell_type": "code",
   "execution_count": 72,
   "metadata": {},
   "outputs": [],
   "source": [
    "data['genrelist']= data['genrelist'].apply(genrelist)"
   ]
  },
  {
   "cell_type": "code",
   "execution_count": 73,
   "metadata": {},
   "outputs": [
    {
     "data": {
      "text/html": [
       "<div>\n",
       "<style scoped>\n",
       "    .dataframe tbody tr th:only-of-type {\n",
       "        vertical-align: middle;\n",
       "    }\n",
       "\n",
       "    .dataframe tbody tr th {\n",
       "        vertical-align: top;\n",
       "    }\n",
       "\n",
       "    .dataframe thead th {\n",
       "        text-align: right;\n",
       "    }\n",
       "</style>\n",
       "<table border=\"1\" class=\"dataframe\">\n",
       "  <thead>\n",
       "    <tr style=\"text-align: right;\">\n",
       "      <th></th>\n",
       "      <th>gender</th>\n",
       "      <th>genrelist</th>\n",
       "      <th>genrelist_length</th>\n",
       "    </tr>\n",
       "    <tr>\n",
       "      <th>artist</th>\n",
       "      <th></th>\n",
       "      <th></th>\n",
       "      <th></th>\n",
       "    </tr>\n",
       "  </thead>\n",
       "  <tbody>\n",
       "    <tr>\n",
       "      <th>Trish_Thuy_Trang</th>\n",
       "      <td>female</td>\n",
       "      <td>[Pop_music, Techno, Dance_music]</td>\n",
       "      <td>3</td>\n",
       "    </tr>\n",
       "    <tr>\n",
       "      <th>Dougie_Young</th>\n",
       "      <td>male</td>\n",
       "      <td>[Country_music]</td>\n",
       "      <td>1</td>\n",
       "    </tr>\n",
       "    <tr>\n",
       "      <th>Bruce_Kulick</th>\n",
       "      <td>male</td>\n",
       "      <td>[Hard_rock, Heavy_metal_music]</td>\n",
       "      <td>2</td>\n",
       "    </tr>\n",
       "    <tr>\n",
       "      <th>Steve_Vawamas</th>\n",
       "      <td>male</td>\n",
       "      <td>[Neoclassical_metal, Hard_rock, Heavy_metal_mu...</td>\n",
       "      <td>3</td>\n",
       "    </tr>\n",
       "    <tr>\n",
       "      <th>Will_Schwartz</th>\n",
       "      <td>male</td>\n",
       "      <td>[Indie_pop, Indie_rock, Alt-Rock, Electronic_d...</td>\n",
       "      <td>4</td>\n",
       "    </tr>\n",
       "  </tbody>\n",
       "</table>\n",
       "</div>"
      ],
      "text/plain": [
       "                  gender                                          genrelist  \\\n",
       "artist                                                                        \n",
       "Trish_Thuy_Trang  female                   [Pop_music, Techno, Dance_music]   \n",
       "Dougie_Young        male                                    [Country_music]   \n",
       "Bruce_Kulick        male                     [Hard_rock, Heavy_metal_music]   \n",
       "Steve_Vawamas       male  [Neoclassical_metal, Hard_rock, Heavy_metal_mu...   \n",
       "Will_Schwartz       male  [Indie_pop, Indie_rock, Alt-Rock, Electronic_d...   \n",
       "\n",
       "                  genrelist_length  \n",
       "artist                              \n",
       "Trish_Thuy_Trang                 3  \n",
       "Dougie_Young                     1  \n",
       "Bruce_Kulick                     2  \n",
       "Steve_Vawamas                    3  \n",
       "Will_Schwartz                    4  "
      ]
     },
     "execution_count": 73,
     "metadata": {},
     "output_type": "execute_result"
    }
   ],
   "source": [
    "data.head()"
   ]
  },
  {
   "cell_type": "code",
   "execution_count": null,
   "metadata": {},
   "outputs": [],
   "source": []
  },
  {
   "cell_type": "markdown",
   "metadata": {},
   "source": [
    "Extract unique genre labels:"
   ]
  },
  {
   "cell_type": "code",
   "execution_count": 74,
   "metadata": {},
   "outputs": [],
   "source": [
    "genre_list = data.genrelist.values.tolist()\n",
    "genre_list = [x for y in genre_list for x in y]\n",
    "genre_list = list(set(genre_list))"
   ]
  },
  {
   "cell_type": "code",
   "execution_count": 97,
   "metadata": {},
   "outputs": [
    {
     "data": {
      "text/plain": [
       "['Goth_rock', 'Bossa_Nova', 'Medieval_music', 'West_coast_rap', 'Anison']"
      ]
     },
     "execution_count": 97,
     "metadata": {},
     "output_type": "execute_result"
    }
   ],
   "source": [
    "genre_list[:5]"
   ]
  },
  {
   "cell_type": "code",
   "execution_count": 98,
   "metadata": {},
   "outputs": [
    {
     "data": {
      "text/plain": [
       "1616"
      ]
     },
     "execution_count": 98,
     "metadata": {},
     "output_type": "execute_result"
    }
   ],
   "source": [
    "len(genre_list)"
   ]
  },
  {
   "cell_type": "code",
   "execution_count": 99,
   "metadata": {},
   "outputs": [
    {
     "name": "stdout",
     "output_type": "stream",
     "text": [
      "There are 11692 artists with genre and binary-gender labels.\n",
      "There are 1616 unique genre labels.\n"
     ]
    }
   ],
   "source": [
    "print('There are {} artists with genre and binary-gender labels.'.format(data.shape[0]))\n",
    "print('There are {} unique genre labels.'.format(len(genre_list)))"
   ]
  },
  {
   "cell_type": "code",
   "execution_count": 76,
   "metadata": {},
   "outputs": [],
   "source": [
    "data_male = data[data.gender == 'male']\n",
    "data_female = data[data.gender == 'female']"
   ]
  },
  {
   "cell_type": "code",
   "execution_count": 77,
   "metadata": {},
   "outputs": [
    {
     "name": "stdout",
     "output_type": "stream",
     "text": [
      "11692 total artists\n",
      "3607 female artists, or 31%\n",
      "8085 male artists, or 69%\n"
     ]
    }
   ],
   "source": [
    "tot = data.shape[0]\n",
    "m = data_male.shape[0]\n",
    "f = data_female.shape[0]\n",
    "print('{} total artists'.format(tot))\n",
    "print('{} female artists, or {:0.0f}%'.format(f, 100*f/(f+m)))\n",
    "print('{} male artists, or {:0.0f}%'.format(m, 100*m/(f+m)))"
   ]
  },
  {
   "cell_type": "markdown",
   "metadata": {},
   "source": [
    "Count the min, mean, max of number of genres for male and female artists:"
   ]
  },
  {
   "cell_type": "code",
   "execution_count": 79,
   "metadata": {},
   "outputs": [
    {
     "name": "stdout",
     "output_type": "stream",
     "text": [
      "Female:\n",
      "3607 Artists.\n",
      "Mean number of genre labels: 2.56.\n",
      "STD of the number of genre labels: 1.5.\n",
      "Max number of genre labels: 11.\n"
     ]
    }
   ],
   "source": [
    "data_female = data[data.gender == 'female']\n",
    "n = data_female.shape[0]\n",
    "a,b,c = data_female.genrelist_length.mean(), data_female.genrelist_length.std(), data_female.genrelist_length.max()\n",
    "print('Female:')\n",
    "print(f'{n} Artists.')\n",
    "print(f'Mean number of genre labels: {round(a,2)}.')\n",
    "print(f'STD of the number of genre labels: {round(b,2)}.')\n",
    "print(f'Max number of genre labels: {c}.')"
   ]
  },
  {
   "cell_type": "code",
   "execution_count": 55,
   "metadata": {},
   "outputs": [],
   "source": [
    "# plt.hist(data_female.num_genres, bins = 25, density = True)\n",
    "# plt.show()"
   ]
  },
  {
   "cell_type": "code",
   "execution_count": 80,
   "metadata": {},
   "outputs": [
    {
     "name": "stdout",
     "output_type": "stream",
     "text": [
      "Male:\n",
      "8085 Artists.\n",
      "Mean number of genre labels: 2.69.\n",
      "STD of the number of genre labels: 1.95.\n",
      "Max number of genre labels: 73.\n"
     ]
    }
   ],
   "source": [
    "data_male = data[data.gender == 'male']\n",
    "m = data_male.shape[0]\n",
    "a,b,c = data_male.genrelist_length.mean(), data_male.genrelist_length.std(), data_male.genrelist_length.max()\n",
    "print('Male:')\n",
    "print(f'{m} Artists.')\n",
    "print(f'Mean number of genre labels: {round(a,2)}.')\n",
    "print(f'STD of the number of genre labels: {round(b,2)}.')\n",
    "print(f'Max number of genre labels: {c}.')"
   ]
  },
  {
   "cell_type": "code",
   "execution_count": 83,
   "metadata": {},
   "outputs": [],
   "source": [
    "# plt.hist(data_male.num_genres, bins = 25, density = True)\n",
    "# plt.show()"
   ]
  },
  {
   "cell_type": "code",
   "execution_count": 89,
   "metadata": {},
   "outputs": [],
   "source": [
    "max_num_male = 73\n",
    "max_num_female = 11"
   ]
  },
  {
   "cell_type": "markdown",
   "metadata": {},
   "source": [
    "### The histograms for genre labels for male and female artists. "
   ]
  },
  {
   "cell_type": "code",
   "execution_count": 94,
   "metadata": {},
   "outputs": [
    {
     "data": {
      "image/png": "[encoded data removed]",
      "text/plain": [
       "<Figure size 720x360 with 1 Axes>"
      ]
     },
     "metadata": {},
     "output_type": "display_data"
    }
   ],
   "source": [
    "plt.figure(figsize = (10, 5))\n",
    "plt.hist(data_male.genrelist_length, bins = range(1,max_num), density = False, color = 'orange', alpha = .5, label = 'male')\n",
    "plt.vlines(x = max_num_male, ymin = 0 , ymax = 2500, label = 'max number of genres for male', color = 'orange')\n",
    "plt.vlines(x = max_num_female, ymin = 0 , ymax = 2500, label = 'max number of genres for female', color = 'blue')\n",
    "plt.hist(data_female.genrelist_length, bins = range(1,max_num), density = False, color = 'blue', alpha = .5,label = 'female')\n",
    "plt.legend()\n",
    "plt.show()"
   ]
  },
  {
   "cell_type": "markdown",
   "metadata": {},
   "source": [
    "Here are the histograms as densities: the heights are scaled so as the sum of all heights is 1."
   ]
  },
  {
   "cell_type": "code",
   "execution_count": 95,
   "metadata": {},
   "outputs": [
    {
     "data": {
      "image/png": "[encoded data removed]",
      "text/plain": [
       "<Figure size 720x360 with 1 Axes>"
      ]
     },
     "metadata": {},
     "output_type": "display_data"
    }
   ],
   "source": [
    "plt.figure(figsize = (10, 5))\n",
    "plt.hist(data_male.genrelist_length, bins = range(1,24), density = True, color = 'orange', alpha = .5, label = 'male')\n",
    "plt.hist(data_female.genrelist_length, bins = range(1,24), density = True, color = 'blue', alpha = .5,label = 'female')\n",
    "plt.legend()\n",
    "plt.show()"
   ]
  },
  {
   "cell_type": "markdown",
   "metadata": {},
   "source": [
    "Let's look at three bins: $[1, mean)$, $[mean,2*mean)$, $[2*mean,25]$"
   ]
  },
  {
   "cell_type": "code",
   "execution_count": 96,
   "metadata": {},
   "outputs": [
    {
     "data": {
      "image/png": "[encoded data removed]",
      "text/plain": [
       "<Figure size 720x360 with 1 Axes>"
      ]
     },
     "metadata": {},
     "output_type": "display_data"
    }
   ],
   "source": [
    "plt.figure(figsize = (10, 5))\n",
    "plt.hist(data_male.genrelist_length, bins = [1,3,6,25], density = True, color = 'orange', alpha = .5, label = 'male')\n",
    "plt.hist(data_female.genrelist_length, bins = [1,3,6,25], density = True, color = 'blue', alpha = .5,label = 'female')\n",
    "plt.legend()\n",
    "plt.show()"
   ]
  },
  {
   "cell_type": "markdown",
   "metadata": {},
   "source": [
    "## What are the most common genre labels?\n",
    "\n",
    "### Count the number of times that a label occurs:"
   ]
  },
  {
   "cell_type": "code",
   "execution_count": 103,
   "metadata": {},
   "outputs": [],
   "source": [
    "genre_list_1 = data.genrelist.values.tolist()\n",
    "genre_list_1 = [x for y in genre_list_1 for x in y]\n",
    "df = pd.Series(genre_list_1)\n",
    "label_value_counts = df.value_counts()"
   ]
  },
  {
   "cell_type": "code",
   "execution_count": 108,
   "metadata": {},
   "outputs": [
    {
     "data": {
      "text/plain": [
       "Pop_music               1847\n",
       "Country_music           1518\n",
       "Rock_music              1263\n",
       "Hip_hop_music           1046\n",
       "Alternative_rock         970\n",
       "Soul_music               960\n",
       "Folk_music               955\n",
       "Contemporary_R&amp;B     848\n",
       "Jazz                     826\n",
       "Blues                    705\n",
       "Hard_rock                618\n",
       "Pop_rock                 570\n",
       "Indie_rock               483\n",
       "Heavy_metal_music        461\n",
       "Rhythm_and_blues         443\n",
       "Punk_rock                406\n",
       "Folk_rock                378\n",
       "Gospel_music             332\n",
       "Blues_rock               286\n",
       "R&amp;B                  283\n",
       "dtype: int64"
      ]
     },
     "execution_count": 108,
     "metadata": {},
     "output_type": "execute_result"
    }
   ],
   "source": [
    "label_value_counts[:20]"
   ]
  },
  {
   "cell_type": "code",
   "execution_count": 106,
   "metadata": {},
   "outputs": [
    {
     "data": {
      "text/plain": [
       "(1616,)"
      ]
     },
     "execution_count": 106,
     "metadata": {},
     "output_type": "execute_result"
    }
   ],
   "source": [
    "label_value_counts.shape"
   ]
  },
  {
   "cell_type": "markdown",
   "metadata": {},
   "source": [
    "Graph of how genres are distributed among artists"
   ]
  },
  {
   "cell_type": "code",
   "execution_count": null,
   "metadata": {},
   "outputs": [],
   "source": []
  },
  {
   "cell_type": "code",
   "execution_count": null,
   "metadata": {},
   "outputs": [],
   "source": []
  },
  {
   "cell_type": "code",
   "execution_count": null,
   "metadata": {},
   "outputs": [],
   "source": []
  },
  {
   "cell_type": "markdown",
   "metadata": {},
   "source": [
    "### Now let's count the most common genre labels for male and female... TBD"
   ]
  },
  {
   "cell_type": "markdown",
   "metadata": {},
   "source": [
    "The unique values as a list:"
   ]
  },
  {
   "cell_type": "code",
   "execution_count": 120,
   "metadata": {},
   "outputs": [
    {
     "name": "stdout",
     "output_type": "stream",
     "text": [
      "There are 1902 unique genre labels\n"
     ]
    }
   ],
   "source": [
    "genre_list = list(set(genre_list1))\n",
    "print(f'There are {len(genre_list)} unique genre labels')"
   ]
  },
  {
   "cell_type": "markdown",
   "metadata": {},
   "source": [
    "### Let's take a look at which genre labels appear when there are at least G genre labels (G to be determined)."
   ]
  },
  {
   "cell_type": "code",
   "execution_count": 121,
   "metadata": {},
   "outputs": [
    {
     "data": {
      "text/html": [
       "<div>\n",
       "<style scoped>\n",
       "    .dataframe tbody tr th:only-of-type {\n",
       "        vertical-align: middle;\n",
       "    }\n",
       "\n",
       "    .dataframe tbody tr th {\n",
       "        vertical-align: top;\n",
       "    }\n",
       "\n",
       "    .dataframe thead th {\n",
       "        text-align: right;\n",
       "    }\n",
       "</style>\n",
       "<table border=\"1\" class=\"dataframe\">\n",
       "  <thead>\n",
       "    <tr style=\"text-align: right;\">\n",
       "      <th></th>\n",
       "      <th>artist</th>\n",
       "      <th>gender</th>\n",
       "      <th>genre</th>\n",
       "      <th>genrelist</th>\n",
       "      <th>num_genres</th>\n",
       "    </tr>\n",
       "  </thead>\n",
       "  <tbody>\n",
       "    <tr>\n",
       "      <th>0</th>\n",
       "      <td>12 Gauge</td>\n",
       "      <td>male</td>\n",
       "      <td>miami bass</td>\n",
       "      <td>[miami bass]</td>\n",
       "      <td>1</td>\n",
       "    </tr>\n",
       "    <tr>\n",
       "      <th>1</th>\n",
       "      <td>1987</td>\n",
       "      <td>male</td>\n",
       "      <td>retro electro</td>\n",
       "      <td>[retro electro]</td>\n",
       "      <td>1</td>\n",
       "    </tr>\n",
       "    <tr>\n",
       "      <th>2</th>\n",
       "      <td>2 Chainz</td>\n",
       "      <td>male</td>\n",
       "      <td>atl hip hop, gangster rap, hip hop, pop rap, r...</td>\n",
       "      <td>[atl hip hop, gangster rap, hip hop, pop rap, ...</td>\n",
       "      <td>7</td>\n",
       "    </tr>\n",
       "    <tr>\n",
       "      <th>3</th>\n",
       "      <td>2 Pistols</td>\n",
       "      <td>male</td>\n",
       "      <td>dirty south rap, pop rap, southern hip hop, trap</td>\n",
       "      <td>[dirty south rap, pop rap, southern hip hop, t...</td>\n",
       "      <td>4</td>\n",
       "    </tr>\n",
       "    <tr>\n",
       "      <th>4</th>\n",
       "      <td>21 Savage</td>\n",
       "      <td>male</td>\n",
       "      <td>atl hip hop, rap, trap</td>\n",
       "      <td>[atl hip hop, rap, trap]</td>\n",
       "      <td>3</td>\n",
       "    </tr>\n",
       "  </tbody>\n",
       "</table>\n",
       "</div>"
      ],
      "text/plain": [
       "      artist gender                                              genre  \\\n",
       "0   12 Gauge   male                                         miami bass   \n",
       "1       1987   male                                      retro electro   \n",
       "2   2 Chainz   male  atl hip hop, gangster rap, hip hop, pop rap, r...   \n",
       "3  2 Pistols   male   dirty south rap, pop rap, southern hip hop, trap   \n",
       "4  21 Savage   male                             atl hip hop, rap, trap   \n",
       "\n",
       "                                           genrelist  num_genres  \n",
       "0                                       [miami bass]           1  \n",
       "1                                    [retro electro]           1  \n",
       "2  [atl hip hop, gangster rap, hip hop, pop rap, ...           7  \n",
       "3  [dirty south rap, pop rap, southern hip hop, t...           4  \n",
       "4                           [atl hip hop, rap, trap]           3  "
      ]
     },
     "execution_count": 121,
     "metadata": {},
     "output_type": "execute_result"
    }
   ],
   "source": [
    "data.head()"
   ]
  },
  {
   "cell_type": "code",
   "execution_count": 94,
   "metadata": {},
   "outputs": [],
   "source": [
    "G = 5"
   ]
  },
  {
   "cell_type": "code",
   "execution_count": 95,
   "metadata": {},
   "outputs": [],
   "source": [
    "data_many = data[data.num_genres > G]"
   ]
  },
  {
   "cell_type": "code",
   "execution_count": 96,
   "metadata": {},
   "outputs": [
    {
     "data": {
      "text/plain": [
       "(1169, 5)"
      ]
     },
     "execution_count": 96,
     "metadata": {},
     "output_type": "execute_result"
    }
   ],
   "source": [
    "data_many.shape"
   ]
  },
  {
   "cell_type": "markdown",
   "metadata": {},
   "source": [
    "### List of genre labels that appear for artists with more than 5 labels:"
   ]
  },
  {
   "cell_type": "code",
   "execution_count": 97,
   "metadata": {},
   "outputs": [],
   "source": [
    "# preliminary list of lists\n",
    "genre_list_G = data_many.genrelist.values.tolist()"
   ]
  },
  {
   "cell_type": "code",
   "execution_count": 99,
   "metadata": {},
   "outputs": [
    {
     "data": {
      "text/plain": [
       "[['atl hip hop',\n",
       "  'gangster rap',\n",
       "  'hip hop',\n",
       "  'pop rap',\n",
       "  'rap',\n",
       "  'southern hip hop',\n",
       "  'trap'],\n",
       " ['east coast hip hop',\n",
       "  'gangster rap',\n",
       "  'hip hop',\n",
       "  'pop rap',\n",
       "  'queens hip hop',\n",
       "  'rap']]"
      ]
     },
     "execution_count": 99,
     "metadata": {},
     "output_type": "execute_result"
    }
   ],
   "source": [
    "genre_list_G[:2]"
   ]
  },
  {
   "cell_type": "code",
   "execution_count": 100,
   "metadata": {},
   "outputs": [],
   "source": [
    "# flatten the list of lists to a list\n",
    "genre_list_G = [x for y in genre_list_G for x in y]"
   ]
  },
  {
   "cell_type": "markdown",
   "metadata": {},
   "source": [
    "Count the number of times that a label occurs, filter out labels that occur less than 100 times"
   ]
  },
  {
   "cell_type": "code",
   "execution_count": 109,
   "metadata": {},
   "outputs": [
    {
     "data": {
      "text/plain": [
       "rap                   177\n",
       "hip hop               160\n",
       "folk                  160\n",
       "folk rock             158\n",
       "dance pop             156\n",
       "pop rap               155\n",
       "mellow gold           148\n",
       "southern hip hop      144\n",
       "country rock          130\n",
       "gangster rap          127\n",
       "roots rock            126\n",
       "urban contemporary    122\n",
       "soft rock             119\n",
       "trap                  119\n",
       "classic rock          113\n",
       "pop                   112\n",
       "rock                  110\n",
       "traditional folk      109\n",
       "adult standards       105\n",
       "soul                  102\n",
       "r&b                   101\n",
       "dtype: int64"
      ]
     },
     "execution_count": 109,
     "metadata": {},
     "output_type": "execute_result"
    }
   ],
   "source": [
    "df = pd.Series(genre_list_G)\n",
    "df.value_counts()[df.value_counts() > 99]"
   ]
  },
  {
   "cell_type": "markdown",
   "metadata": {},
   "source": [
    "The unique values of these promiscuous genres:"
   ]
  },
  {
   "cell_type": "code",
   "execution_count": 113,
   "metadata": {},
   "outputs": [
    {
     "name": "stdout",
     "output_type": "stream",
     "text": [
      "There are 787 unique genre labels used for artists with at least 6 labels\n"
     ]
    }
   ],
   "source": [
    "genre_list_G_unique = list(set(genre_list_G))\n",
    "print(f'There are {len(genre_list_G_unique)} unique genre labels used for artists with at least 6 labels')"
   ]
  },
  {
   "cell_type": "markdown",
   "metadata": {},
   "source": [
    "We also want to look at these in terms of gender..."
   ]
  },
  {
   "cell_type": "code",
   "execution_count": null,
   "metadata": {},
   "outputs": [],
   "source": []
  },
  {
   "cell_type": "code",
   "execution_count": null,
   "metadata": {},
   "outputs": [],
   "source": []
  },
  {
   "cell_type": "code",
   "execution_count": null,
   "metadata": {},
   "outputs": [],
   "source": []
  },
  {
   "cell_type": "code",
   "execution_count": 3,
   "metadata": {},
   "outputs": [
    {
     "data": {
      "text/html": [
       "<div>\n",
       "<style scoped>\n",
       "    .dataframe tbody tr th:only-of-type {\n",
       "        vertical-align: middle;\n",
       "    }\n",
       "\n",
       "    .dataframe tbody tr th {\n",
       "        vertical-align: top;\n",
       "    }\n",
       "\n",
       "    .dataframe thead th {\n",
       "        text-align: right;\n",
       "    }\n",
       "</style>\n",
       "<table border=\"1\" class=\"dataframe\">\n",
       "  <thead>\n",
       "    <tr style=\"text-align: right;\">\n",
       "      <th></th>\n",
       "      <th>artist</th>\n",
       "      <th>genre</th>\n",
       "    </tr>\n",
       "  </thead>\n",
       "  <tbody>\n",
       "    <tr>\n",
       "      <th>0</th>\n",
       "      <td>Big Mama Thornton</td>\n",
       "      <td>acoustic blues, blues, electric blues, harmoni...</td>\n",
       "    </tr>\n",
       "    <tr>\n",
       "      <th>1</th>\n",
       "      <td>LaVern Baker</td>\n",
       "      <td>brill building pop, doo-wop, jump blues, rhyth...</td>\n",
       "    </tr>\n",
       "    <tr>\n",
       "      <th>2</th>\n",
       "      <td>Ruth Brown</td>\n",
       "      <td>jazz blues, jump blues, rhythm and blues, rock...</td>\n",
       "    </tr>\n",
       "    <tr>\n",
       "      <th>3</th>\n",
       "      <td>Etta James</td>\n",
       "      <td>adult standards, jazz blues, soul, soul blues,...</td>\n",
       "    </tr>\n",
       "    <tr>\n",
       "      <th>4</th>\n",
       "      <td>Janis Martin</td>\n",
       "      <td>rhythm and blues, rock-and-roll, rockabilly</td>\n",
       "    </tr>\n",
       "    <tr>\n",
       "      <th>...</th>\n",
       "      <td>...</td>\n",
       "      <td>...</td>\n",
       "    </tr>\n",
       "    <tr>\n",
       "      <th>121</th>\n",
       "      <td>the Donnas</td>\n",
       "      <td>candy pop, garage rock, glam punk, power-pop punk</td>\n",
       "    </tr>\n",
       "    <tr>\n",
       "      <th>122</th>\n",
       "      <td>Dolores O'Riordan</td>\n",
       "      <td>limerick indie, pop rock</td>\n",
       "    </tr>\n",
       "    <tr>\n",
       "      <th>123</th>\n",
       "      <td>Mystic</td>\n",
       "      <td>dark trap, emo rap, underground hip hop</td>\n",
       "    </tr>\n",
       "    <tr>\n",
       "      <th>124</th>\n",
       "      <td>Pink</td>\n",
       "      <td>album rock, art rock, classic rock, progressiv...</td>\n",
       "    </tr>\n",
       "    <tr>\n",
       "      <th>125</th>\n",
       "      <td>Dido</td>\n",
       "      <td>dance pop, new wave pop, pop rock</td>\n",
       "    </tr>\n",
       "  </tbody>\n",
       "</table>\n",
       "<p>126 rows × 2 columns</p>\n",
       "</div>"
      ],
      "text/plain": [
       "                artist                                              genre\n",
       "0    Big Mama Thornton  acoustic blues, blues, electric blues, harmoni...\n",
       "1         LaVern Baker  brill building pop, doo-wop, jump blues, rhyth...\n",
       "2           Ruth Brown  jazz blues, jump blues, rhythm and blues, rock...\n",
       "3           Etta James  adult standards, jazz blues, soul, soul blues,...\n",
       "4         Janis Martin        rhythm and blues, rock-and-roll, rockabilly\n",
       "..                 ...                                                ...\n",
       "121         the Donnas  candy pop, garage rock, glam punk, power-pop punk\n",
       "122  Dolores O'Riordan                           limerick indie, pop rock\n",
       "123             Mystic            dark trap, emo rap, underground hip hop\n",
       "124               Pink  album rock, art rock, classic rock, progressiv...\n",
       "125               Dido                  dance pop, new wave pop, pop rock\n",
       "\n",
       "[126 rows x 2 columns]"
      ]
     },
     "execution_count": 3,
     "metadata": {},
     "output_type": "execute_result"
    }
   ],
   "source": [
    "df = pd.read_csv('../../data/women_in_rock.csv')\n",
    "df"
   ]
  },
  {
   "cell_type": "markdown",
   "metadata": {},
   "source": [
    "Take a look at a new version of the Kaggle data:"
   ]
  },
  {
   "cell_type": "code",
   "execution_count": 17,
   "metadata": {},
   "outputs": [],
   "source": [
    "df = pd.read_csv('../../data/kaggle_genres_rough.csv',  encoding = 'latin-1')"
   ]
  },
  {
   "cell_type": "code",
   "execution_count": 18,
   "metadata": {},
   "outputs": [
    {
     "data": {
      "text/plain": [
       "(23177, 6)"
      ]
     },
     "execution_count": 18,
     "metadata": {},
     "output_type": "execute_result"
    }
   ],
   "source": [
    "df.shape"
   ]
  },
  {
   "cell_type": "code",
   "execution_count": 19,
   "metadata": {},
   "outputs": [
    {
     "data": {
      "text/html": [
       "<div>\n",
       "<style scoped>\n",
       "    .dataframe tbody tr th:only-of-type {\n",
       "        vertical-align: middle;\n",
       "    }\n",
       "\n",
       "    .dataframe tbody tr th {\n",
       "        vertical-align: top;\n",
       "    }\n",
       "\n",
       "    .dataframe thead th {\n",
       "        text-align: right;\n",
       "    }\n",
       "</style>\n",
       "<table border=\"1\" class=\"dataframe\">\n",
       "  <thead>\n",
       "    <tr style=\"text-align: right;\">\n",
       "      <th></th>\n",
       "      <th>Unnamed: 0</th>\n",
       "      <th>artist</th>\n",
       "      <th>gender</th>\n",
       "      <th>category</th>\n",
       "      <th>retrieved</th>\n",
       "      <th>genre</th>\n",
       "    </tr>\n",
       "  </thead>\n",
       "  <tbody>\n",
       "    <tr>\n",
       "      <th>0</th>\n",
       "      <td>0</td>\n",
       "      <td>12 Gauge</td>\n",
       "      <td>male</td>\n",
       "      <td>African-American_male_rappers</td>\n",
       "      <td>12 Gauge</td>\n",
       "      <td>['miami bass']</td>\n",
       "    </tr>\n",
       "    <tr>\n",
       "      <th>1</th>\n",
       "      <td>1</td>\n",
       "      <td>1987</td>\n",
       "      <td>male</td>\n",
       "      <td>Swedish_male_singers</td>\n",
       "      <td>Cartridge 1987</td>\n",
       "      <td>['retro electro']</td>\n",
       "    </tr>\n",
       "    <tr>\n",
       "      <th>2</th>\n",
       "      <td>2</td>\n",
       "      <td>2 Chainz</td>\n",
       "      <td>male</td>\n",
       "      <td>African-American_male_rappers</td>\n",
       "      <td>2 Chainz</td>\n",
       "      <td>['atl hip hop', 'gangster rap', 'hip hop', 'po...</td>\n",
       "    </tr>\n",
       "    <tr>\n",
       "      <th>3</th>\n",
       "      <td>3</td>\n",
       "      <td>2 Pistols</td>\n",
       "      <td>male</td>\n",
       "      <td>African-American_male_rappers</td>\n",
       "      <td>2 Pistols</td>\n",
       "      <td>['dirty south rap', 'pop rap', 'southern hip h...</td>\n",
       "    </tr>\n",
       "    <tr>\n",
       "      <th>4</th>\n",
       "      <td>4</td>\n",
       "      <td>21 Savage</td>\n",
       "      <td>male</td>\n",
       "      <td>African-American_male_rappers</td>\n",
       "      <td>21 Savage</td>\n",
       "      <td>['atl hip hop', 'rap', 'trap']</td>\n",
       "    </tr>\n",
       "  </tbody>\n",
       "</table>\n",
       "</div>"
      ],
      "text/plain": [
       "   Unnamed: 0     artist gender                       category  \\\n",
       "0           0   12 Gauge   male  African-American_male_rappers   \n",
       "1           1       1987   male           Swedish_male_singers   \n",
       "2           2   2 Chainz   male  African-American_male_rappers   \n",
       "3           3  2 Pistols   male  African-American_male_rappers   \n",
       "4           4  21 Savage   male  African-American_male_rappers   \n",
       "\n",
       "        retrieved                                              genre  \n",
       "0        12 Gauge                                     ['miami bass']  \n",
       "1  Cartridge 1987                                  ['retro electro']  \n",
       "2        2 Chainz  ['atl hip hop', 'gangster rap', 'hip hop', 'po...  \n",
       "3       2 Pistols  ['dirty south rap', 'pop rap', 'southern hip h...  \n",
       "4       21 Savage                     ['atl hip hop', 'rap', 'trap']  "
      ]
     },
     "execution_count": 19,
     "metadata": {},
     "output_type": "execute_result"
    }
   ],
   "source": [
    "df.head()"
   ]
  },
  {
   "cell_type": "code",
   "execution_count": 20,
   "metadata": {},
   "outputs": [
    {
     "data": {
      "text/plain": [
       "'Henry Whitter'"
      ]
     },
     "execution_count": 20,
     "metadata": {},
     "output_type": "execute_result"
    }
   ],
   "source": [
    "n = np.random.randint(df.shape[0])\n",
    "df.retrieved.iloc[n]"
   ]
  },
  {
   "cell_type": "code",
   "execution_count": 25,
   "metadata": {},
   "outputs": [],
   "source": [
    "df_with_genre = df[df.retrieved != 'none']"
   ]
  },
  {
   "cell_type": "code",
   "execution_count": 26,
   "metadata": {},
   "outputs": [
    {
     "data": {
      "text/html": [
       "<div>\n",
       "<style scoped>\n",
       "    .dataframe tbody tr th:only-of-type {\n",
       "        vertical-align: middle;\n",
       "    }\n",
       "\n",
       "    .dataframe tbody tr th {\n",
       "        vertical-align: top;\n",
       "    }\n",
       "\n",
       "    .dataframe thead th {\n",
       "        text-align: right;\n",
       "    }\n",
       "</style>\n",
       "<table border=\"1\" class=\"dataframe\">\n",
       "  <thead>\n",
       "    <tr style=\"text-align: right;\">\n",
       "      <th></th>\n",
       "      <th>Unnamed: 0</th>\n",
       "      <th>artist</th>\n",
       "      <th>gender</th>\n",
       "      <th>category</th>\n",
       "      <th>retrieved</th>\n",
       "      <th>genre</th>\n",
       "    </tr>\n",
       "  </thead>\n",
       "  <tbody>\n",
       "    <tr>\n",
       "      <th>0</th>\n",
       "      <td>0</td>\n",
       "      <td>12 Gauge</td>\n",
       "      <td>male</td>\n",
       "      <td>African-American_male_rappers</td>\n",
       "      <td>12 Gauge</td>\n",
       "      <td>['miami bass']</td>\n",
       "    </tr>\n",
       "    <tr>\n",
       "      <th>1</th>\n",
       "      <td>1</td>\n",
       "      <td>1987</td>\n",
       "      <td>male</td>\n",
       "      <td>Swedish_male_singers</td>\n",
       "      <td>Cartridge 1987</td>\n",
       "      <td>['retro electro']</td>\n",
       "    </tr>\n",
       "    <tr>\n",
       "      <th>2</th>\n",
       "      <td>2</td>\n",
       "      <td>2 Chainz</td>\n",
       "      <td>male</td>\n",
       "      <td>African-American_male_rappers</td>\n",
       "      <td>2 Chainz</td>\n",
       "      <td>['atl hip hop', 'gangster rap', 'hip hop', 'po...</td>\n",
       "    </tr>\n",
       "    <tr>\n",
       "      <th>3</th>\n",
       "      <td>3</td>\n",
       "      <td>2 Pistols</td>\n",
       "      <td>male</td>\n",
       "      <td>African-American_male_rappers</td>\n",
       "      <td>2 Pistols</td>\n",
       "      <td>['dirty south rap', 'pop rap', 'southern hip h...</td>\n",
       "    </tr>\n",
       "    <tr>\n",
       "      <th>4</th>\n",
       "      <td>4</td>\n",
       "      <td>21 Savage</td>\n",
       "      <td>male</td>\n",
       "      <td>African-American_male_rappers</td>\n",
       "      <td>21 Savage</td>\n",
       "      <td>['atl hip hop', 'rap', 'trap']</td>\n",
       "    </tr>\n",
       "  </tbody>\n",
       "</table>\n",
       "</div>"
      ],
      "text/plain": [
       "   Unnamed: 0     artist gender                       category  \\\n",
       "0           0   12 Gauge   male  African-American_male_rappers   \n",
       "1           1       1987   male           Swedish_male_singers   \n",
       "2           2   2 Chainz   male  African-American_male_rappers   \n",
       "3           3  2 Pistols   male  African-American_male_rappers   \n",
       "4           4  21 Savage   male  African-American_male_rappers   \n",
       "\n",
       "        retrieved                                              genre  \n",
       "0        12 Gauge                                     ['miami bass']  \n",
       "1  Cartridge 1987                                  ['retro electro']  \n",
       "2        2 Chainz  ['atl hip hop', 'gangster rap', 'hip hop', 'po...  \n",
       "3       2 Pistols  ['dirty south rap', 'pop rap', 'southern hip h...  \n",
       "4       21 Savage                     ['atl hip hop', 'rap', 'trap']  "
      ]
     },
     "execution_count": 26,
     "metadata": {},
     "output_type": "execute_result"
    }
   ],
   "source": [
    "df_with_genre.head()"
   ]
  },
  {
   "cell_type": "code",
   "execution_count": 34,
   "metadata": {},
   "outputs": [
    {
     "data": {
      "text/html": [
       "<div>\n",
       "<style scoped>\n",
       "    .dataframe tbody tr th:only-of-type {\n",
       "        vertical-align: middle;\n",
       "    }\n",
       "\n",
       "    .dataframe tbody tr th {\n",
       "        vertical-align: top;\n",
       "    }\n",
       "\n",
       "    .dataframe thead th {\n",
       "        text-align: right;\n",
       "    }\n",
       "</style>\n",
       "<table border=\"1\" class=\"dataframe\">\n",
       "  <thead>\n",
       "    <tr style=\"text-align: right;\">\n",
       "      <th></th>\n",
       "      <th>Unnamed: 0</th>\n",
       "      <th>artist</th>\n",
       "      <th>gender</th>\n",
       "      <th>category</th>\n",
       "      <th>retrieved</th>\n",
       "      <th>genre</th>\n",
       "    </tr>\n",
       "  </thead>\n",
       "  <tbody>\n",
       "  </tbody>\n",
       "</table>\n",
       "</div>"
      ],
      "text/plain": [
       "Empty DataFrame\n",
       "Columns: [Unnamed: 0, artist, gender, category, retrieved, genre]\n",
       "Index: []"
      ]
     },
     "execution_count": 34,
     "metadata": {},
     "output_type": "execute_result"
    }
   ],
   "source": [
    "df_with_genre[df_with_genre.retrieved == 'none']"
   ]
  },
  {
   "cell_type": "code",
   "execution_count": 35,
   "metadata": {},
   "outputs": [
    {
     "data": {
      "text/plain": [
       "(19632, 6)"
      ]
     },
     "execution_count": 35,
     "metadata": {},
     "output_type": "execute_result"
    }
   ],
   "source": [
    "df_with_genre.shape"
   ]
  },
  {
   "cell_type": "code",
   "execution_count": 36,
   "metadata": {},
   "outputs": [],
   "source": [
    "equal = (df_with_genre.retrieved == df_with_genre.artist)"
   ]
  },
  {
   "cell_type": "code",
   "execution_count": 37,
   "metadata": {},
   "outputs": [
    {
     "data": {
      "text/plain": [
       "(19632,)"
      ]
     },
     "execution_count": 37,
     "metadata": {},
     "output_type": "execute_result"
    }
   ],
   "source": [
    "equal.shape"
   ]
  },
  {
   "cell_type": "code",
   "execution_count": 38,
   "metadata": {},
   "outputs": [
    {
     "data": {
      "text/plain": [
       "16205"
      ]
     },
     "execution_count": 38,
     "metadata": {},
     "output_type": "execute_result"
    }
   ],
   "source": [
    "equal.sum()"
   ]
  },
  {
   "cell_type": "code",
   "execution_count": 39,
   "metadata": {},
   "outputs": [
    {
     "data": {
      "text/plain": [
       "(16205,)"
      ]
     },
     "execution_count": 39,
     "metadata": {},
     "output_type": "execute_result"
    }
   ],
   "source": [
    "df_equal = df_with_genre[equal]\n",
    "df_equal.artist.unique().shape"
   ]
  },
  {
   "cell_type": "code",
   "execution_count": 40,
   "metadata": {},
   "outputs": [
    {
     "data": {
      "text/plain": [
       "array([\"['miami bass']\",\n",
       "       \"['atl hip hop', 'gangster rap', 'hip hop', 'pop rap', 'rap', 'southern hip hop', 'trap']\",\n",
       "       \"['dirty south rap', 'pop rap', 'southern hip hop', 'trap']\", ...,\n",
       "       \"['chanson', 'french indie pop', 'french indietronica', 'french pop', 'french rock', 'nouvelle chanson francaise']\",\n",
       "       \"['cuban rumba', 'trova']\",\n",
       "       \"['classic norwegian pop', 'danseband', 'norwegian rock']\"],\n",
       "      dtype=object)"
      ]
     },
     "execution_count": 40,
     "metadata": {},
     "output_type": "execute_result"
    }
   ],
   "source": [
    "df_equal.genre.unique()"
   ]
  },
  {
   "cell_type": "code",
   "execution_count": 43,
   "metadata": {},
   "outputs": [
    {
     "data": {
      "text/plain": [
       "0"
      ]
     },
     "execution_count": 43,
     "metadata": {},
     "output_type": "execute_result"
    }
   ],
   "source": [
    "df_equal.genre.isnull().sum()"
   ]
  },
  {
   "cell_type": "code",
   "execution_count": null,
   "metadata": {},
   "outputs": [],
   "source": []
  }
 ],
 "metadata": {
  "kernelspec": {
   "display_name": "Python 3",
   "language": "python",
   "name": "python3"
  },
  "language_info": {
   "codemirror_mode": {
    "name": "ipython",
    "version": 3
   },
   "file_extension": ".py",
   "mimetype": "text/x-python",
   "name": "python",
   "nbconvert_exporter": "python",
   "pygments_lexer": "ipython3",
   "version": "3.7.3"
  }
 },
 "nbformat": 4,
 "nbformat_minor": 4
}
