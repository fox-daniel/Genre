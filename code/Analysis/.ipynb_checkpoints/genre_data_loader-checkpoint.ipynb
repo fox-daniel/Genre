{
 "cells": [
  {
   "cell_type": "markdown",
   "metadata": {},
   "source": [
    "# Data Loader Class\n",
    "\n",
    "This nb develops a class for loading the genre data with methods to put the genre info into different data types:\n",
    "- [ ] lists\n",
    "- [ ] sets\n",
    "- [ ] strings\n",
    "- [ ] scipy sparse vector\n",
    "- [ ] tensorflow sparse tensor"
   ]
  },
  {
   "cell_type": "code",
   "execution_count": 1,
   "metadata": {},
   "outputs": [],
   "source": [
    "# import numpy as np\n",
    "# import pandas as pd\n",
    "\n",
    "# import matplotlib.pyplot as plt\n",
    "# import seaborn as sns; sns.set()\n",
    "\n",
    "# import re"
   ]
  },
  {
   "cell_type": "code",
   "execution_count": 7,
   "metadata": {},
   "outputs": [
    {
     "data": {
      "text/plain": [
       "['a', 'b', 'c']"
      ]
     },
     "execution_count": 7,
     "metadata": {},
     "output_type": "execute_result"
    }
   ],
   "source": [
    "mylist = ['a','c','b']\n",
    "mylist.sort()\n",
    "mylist"
   ]
  },
  {
   "cell_type": "code",
   "execution_count": 34,
   "metadata": {
    "scrolled": true
   },
   "outputs": [],
   "source": [
    "# imports\n",
    "import numpy as np\n",
    "import pandas as pd\n",
    "from sklearn.feature_extraction.text import CountVectorizer\n",
    "\n",
    "\n",
    "# get currrent date for latest version of data set\n",
    "%store -r now\n",
    "\n",
    "# Functions needed\n",
    "\n",
    "\n",
    "def to_strings(string):\n",
    "    \"\"\"This function takes in a string of the form\n",
    "    appearing in the genrelist of the dataframe.\n",
    "    It strips the square brackets, commas, and extra quotes.\"\"\"\n",
    "    string = string.strip(\"[\").strip(\"]\").replace(\"'\",\"\").replace(\",\",\"\")\n",
    "    return string\n",
    "\n",
    "def to_sets(string):\n",
    "    \"\"\"This function takes in a string of the form\n",
    "    appearing in the genrelist of the dataframe.\n",
    "    It strips the square brackets and extra quotes and\n",
    "    returns a list of strings where each string is a genre label.\"\"\"\n",
    "    string = string.strip(\"[\").strip(\"]\").replace(\"'\",\"\")\n",
    "    L = [s for s in string.split(',')]\n",
    "    L_new = []\n",
    "    for x in L:\n",
    "        L_new.append(x.replace(\" \",\"_\").lstrip(\"_\").rstrip(\"_\"))\n",
    "    while (str(\"\") in L_new):\n",
    "        L_new.remove(\"\")\n",
    "    return set(L_new)\n",
    "\n",
    "\n",
    "def to_lists(string):\n",
    "    \"\"\"This function takes in a string of the form\n",
    "    appearing in the genrelist of the dataframe.\n",
    "    It strips the square brackets and extra quotes and\n",
    "    returns a list of strings where each string is a genre label.\"\"\"\n",
    "    string = string.strip(\"[\").strip(\"]\").replace(\"'\",\"\")\n",
    "    L = [s for s in string.split(',')]\n",
    "    L_new = []\n",
    "    for x in L:\n",
    "        L_new.append(x.replace(\" \",\"_\").lstrip(\"_\").rstrip(\"_\"))\n",
    "    while (str(\"\") in L_new):\n",
    "        L_new.remove(\"\")\n",
    "    return L_new\n",
    "\n",
    "# # For sparse vector rep of X\n",
    "\n",
    "# genre_list = pd.read_csv('/Users/Daniel/Code/Genre/data/genre_lists/data_ready_for_model/genre_list_{}.csv'.format(now))\n",
    "# genre_list.drop(['Unnamed: 0'], axis = 1, inplace = True)\n",
    "# genre_list['genre_id'] = list(range(1,genre_list.shape[0]+1))\n",
    "\n",
    "# #Size of the vocab:\n",
    "# vocab_size = genre_list.shape[0]\n",
    "\n",
    "# #Create a dictionary {genre_label: genre_id}\n",
    "# temp = genre_list.set_index(['genre_list'])\n",
    "# label_id_dict = temp['genre_id'].to_dict()\n",
    "\n",
    "# # set genre_id to index\n",
    "# genre_list.set_index(['genre_id'], inplace = True)\n",
    "\n",
    "# #Find max length of genre lists:\n",
    "# max_list_length = data.genrelist_length.max()\n",
    "\n",
    "\n",
    "X_path = '/Users/Daniel/Code/Genre/data/genre_lists/data_ready_for_model/wiki-kaggle_X_train_{}.csv'.format(now)\n",
    "y_path = '/Users/Daniel/Code/Genre/data/genre_lists/data_ready_for_model/wiki-kaggle_y_train_{}.csv'.format(now)\n",
    "\n",
    "\n",
    "class LoadGenreData():\n",
    "    \"\"\"Load and prepreocess the genre label data.\"\"\"\n",
    "    def __init__(self, X_path, y_path, date):\n",
    "        self.X_path = X_path\n",
    "        self.y_path = y_path\n",
    "        self.date = date\n",
    "\n",
    "        # import from CSV\n",
    "        self.X = pd.read_csv(X_path, index_col = ['artist'])\n",
    "        self.y = pd.read_csv(y_path, index_col = ['artist'])\n",
    "        \n",
    "        # assemble X,y into DF\n",
    "        self.data = self.X.join(self.y, how = 'inner', on = 'artist')\n",
    "\n",
    "    def data(self):\n",
    "        return self.data\n",
    "    \n",
    "    def as_sets(self):\n",
    "        \"\"\"Return view of data with genre labels in a set for each artist;\n",
    "        'genrelist' column is not shown\"\"\"\n",
    "        self.data['genre_set']= self.data['genrelist'].apply(to_sets)\n",
    "        # remove old version of genre labels\n",
    "        columns = self.data.columns.tolist()\n",
    "        columns.remove('genrelist')\n",
    "        #columns = pd.Index(columns)\n",
    "        return self.data[columns]\n",
    "    \n",
    "    def as_lists(self):\n",
    "        \"\"\"Return view of data with genre labels in a list for each artist;\n",
    "        'genrelist' column is not shown\"\"\"\n",
    "        self.data['genre_list']= self.data['genrelist'].apply(to_lists)\n",
    "        # remove old version of genre labels\n",
    "        columns = self.data.columns.tolist()\n",
    "        columns.remove('genrelist')\n",
    "        #columns = pd.Index(columns)\n",
    "        return self.data[columns]\n",
    "    \n",
    "    def as_strings(self):\n",
    "        \"\"\"Return view of data with genre labels as string for each artist;\n",
    "        'genrelist' column is not shown\"\"\"\n",
    "        self.data['genre_string']= self.data['genrelist'].apply(to_strings)\n",
    "        # remove old version of genre labels\n",
    "        columns = self.data.columns.tolist()\n",
    "        columns.remove('genrelist')\n",
    "        #columns = pd.Index(columns)\n",
    "        return self.data[columns]\n",
    "    \n",
    "    # WARNING: don't add a column to self.X in this method; use a temp DF instead\n",
    "    def get_list_of_genres(self):\n",
    "        \"\"\"Returns a sorted list of genres for the dataset provided to the instance.\"\"\"\n",
    "        self.X['genre_list']= self.X['genrelist'].apply(to_lists)\n",
    "        self.list_of_genres = self.X['genre_list'].values.tolist()\n",
    "        self.list_of_genres = [label for artists_labels in self.list_of_genres for label in artists_labels]\n",
    "        self.list_of_genres = list(set(self.list_of_genres))\n",
    "        self.list_of_genres.sort()\n",
    "        return self.list_of_genres\n",
    "    \n",
    "    def get_sparse_X_vector(self):\n",
    "        \"\"\"Return X as a sparse vector\n",
    "        Notes on sparse vector commands: \n",
    "        To get the number of nonzero entries: X_sparse.nnz\n",
    "        To get the nonzero entries of a row: X_sparse[n:m].nonzero() -- returns list of rows and columns with nonzero entries\n",
    "        \"\"\"\n",
    "        self.list_of_genres = self.get_list_of_genres()\n",
    "        dict_genre_to_id = dict(zip(self.list_of_genres,range(len(self.list_of_genres))))\n",
    "        vec = CountVectorizer(vocabulary = dict_genre_to_id) # uses scipy.sparse.csr_matrix representation\n",
    "        self.data_genre_strings = self.as_strings()\n",
    "        self.X_genre_string = self.data_genre_strings['genre_string']\n",
    "        self.X_sparse = vec.fit_transform(self.X_genre_string)\n",
    "        return self.X_sparse\n",
    "    \n",
    "    def get_dict_genre_to_id(self):\n",
    "        \"\"\"Return dictionary of the form {'label':id_number}\n",
    "        \"\"\"\n",
    "        self.list_of_genres = self.get_list_of_genres()\n",
    "        dict_genre_to_id = dict(zip(self.list_of_genres,range(len(self.list_of_genres))))\n",
    "        return dict_genre_to_id\n",
    "    \n",
    "    def get_dict_id_to_genre(self):\n",
    "        \"\"\"Return dictionary of the form {id_number:'label'}\n",
    "        \"\"\"\n",
    "        self.list_of_genres = self.get_list_of_genres()\n",
    "        dict_genre_to_id = dict(zip(range(len(self.list_of_genres)),self.list_of_genres))\n",
    "        return dict_genre_to_id"
   ]
  },
  {
   "cell_type": "code",
   "execution_count": 35,
   "metadata": {},
   "outputs": [],
   "source": [
    "genre_data = LoadGenreData(X_path,y_path,now)"
   ]
  },
  {
   "cell_type": "code",
   "execution_count": 36,
   "metadata": {},
   "outputs": [],
   "source": [
    "dictgid = genre_data.get_dict_genre_to_id()\n",
    "dictidg = genre_data.get_dict_id_to_genre()"
   ]
  },
  {
   "cell_type": "code",
   "execution_count": 39,
   "metadata": {},
   "outputs": [
    {
     "data": {
      "text/plain": [
       "409"
      ]
     },
     "execution_count": 39,
     "metadata": {},
     "output_type": "execute_result"
    }
   ],
   "source": [
    "dictgid[dictidg[409]]"
   ]
  },
  {
   "cell_type": "code",
   "execution_count": 26,
   "metadata": {},
   "outputs": [],
   "source": [
    "X_sparse = genre_data.get_sparse_X_vector()"
   ]
  },
  {
   "cell_type": "code",
   "execution_count": 57,
   "metadata": {},
   "outputs": [
    {
     "data": {
      "text/plain": [
       "[(6305, 301), (6305, 941), (6305, 1057), (6305, 1072)]"
      ]
     },
     "execution_count": 57,
     "metadata": {},
     "output_type": "execute_result"
    }
   ],
   "source": [
    "i = np.random.randint(genre_data.data.shape[0])\n",
    "zeros, cols = X_sparse[i].nonzero()\n",
    "rows = [i for j in range(cols.size)]\n",
    "inds = [*zip(rows, cols.tolist())]\n",
    "inds"
   ]
  },
  {
   "cell_type": "code",
   "execution_count": 33,
   "metadata": {},
   "outputs": [],
   "source": [
    "def unit_test_sparse_encoding(sparse_row_nonzero):\n",
    "    \"\"\"compare the dictionary decoded sparse vector to the entry in the data frame\"\"\"\n",
    "    pass"
   ]
  },
  {
   "cell_type": "code",
   "execution_count": null,
   "metadata": {},
   "outputs": [],
   "source": []
  },
  {
   "cell_type": "markdown",
   "metadata": {},
   "source": [
    "Create an id for each genre_set"
   ]
  },
  {
   "cell_type": "code",
   "execution_count": 14,
   "metadata": {},
   "outputs": [],
   "source": [
    "# Initialize list of genre sets and counts:\n",
    "genre_sets = [] # a list of the genre sets\n",
    "\n",
    "def set_id(row):\n",
    "    if row.genre_set_encoded in genre_sets:\n",
    "        row_id = genre_sets.index(row.genre_set_encoded)\n",
    "    else:\n",
    "        # add to list of all genre sets\n",
    "        genre_sets.append(row.genre_set_encoded)\n",
    "        row_id = genre_sets.index(row.genre_set_encoded)\n",
    "    return row_id\n",
    "\n",
    "data['set_id'] = data.apply(set_id, axis = 1)"
   ]
  },
  {
   "cell_type": "code",
   "execution_count": 15,
   "metadata": {},
   "outputs": [
    {
     "data": {
      "text/html": [
       "<div>\n",
       "<style scoped>\n",
       "    .dataframe tbody tr th:only-of-type {\n",
       "        vertical-align: middle;\n",
       "    }\n",
       "\n",
       "    .dataframe tbody tr th {\n",
       "        vertical-align: top;\n",
       "    }\n",
       "\n",
       "    .dataframe thead th {\n",
       "        text-align: right;\n",
       "    }\n",
       "</style>\n",
       "<table border=\"1\" class=\"dataframe\">\n",
       "  <thead>\n",
       "    <tr style=\"text-align: right;\">\n",
       "      <th></th>\n",
       "      <th>artist</th>\n",
       "      <th>genrelist_length</th>\n",
       "      <th>genre_set</th>\n",
       "      <th>gender</th>\n",
       "      <th>genre_set_encoded</th>\n",
       "      <th>set_id</th>\n",
       "    </tr>\n",
       "    <tr>\n",
       "      <th>artist_id</th>\n",
       "      <th></th>\n",
       "      <th></th>\n",
       "      <th></th>\n",
       "      <th></th>\n",
       "      <th></th>\n",
       "      <th></th>\n",
       "    </tr>\n",
       "  </thead>\n",
       "  <tbody>\n",
       "    <tr>\n",
       "      <th>0</th>\n",
       "      <td>Pablo_Holman</td>\n",
       "      <td>3</td>\n",
       "      <td>{emo_pop, rock, pop}</td>\n",
       "      <td>male</td>\n",
       "      <td>{794, 1007, 1431}</td>\n",
       "      <td>0</td>\n",
       "    </tr>\n",
       "    <tr>\n",
       "      <th>1</th>\n",
       "      <td>Bobby_Edwards</td>\n",
       "      <td>1</td>\n",
       "      <td>{country}</td>\n",
       "      <td>male</td>\n",
       "      <td>{465}</td>\n",
       "      <td>1</td>\n",
       "    </tr>\n",
       "    <tr>\n",
       "      <th>2</th>\n",
       "      <td>La_Palabra</td>\n",
       "      <td>4</td>\n",
       "      <td>{son_montuno, guaracha, afro_cuban_jazz, salsa...</td>\n",
       "      <td>male</td>\n",
       "      <td>{809, 1442, 1004, 1357}</td>\n",
       "      <td>2</td>\n",
       "    </tr>\n",
       "    <tr>\n",
       "      <th>3</th>\n",
       "      <td>Sherrick</td>\n",
       "      <td>2</td>\n",
       "      <td>{soul, r_and_b}</td>\n",
       "      <td>male</td>\n",
       "      <td>{1426, 359}</td>\n",
       "      <td>3</td>\n",
       "    </tr>\n",
       "    <tr>\n",
       "      <th>4</th>\n",
       "      <td>Allen_Collins</td>\n",
       "      <td>1</td>\n",
       "      <td>{southern_rock}</td>\n",
       "      <td>male</td>\n",
       "      <td>{1186}</td>\n",
       "      <td>4</td>\n",
       "    </tr>\n",
       "  </tbody>\n",
       "</table>\n",
       "</div>"
      ],
      "text/plain": [
       "                  artist  genrelist_length  \\\n",
       "artist_id                                    \n",
       "0           Pablo_Holman                 3   \n",
       "1          Bobby_Edwards                 1   \n",
       "2             La_Palabra                 4   \n",
       "3               Sherrick                 2   \n",
       "4          Allen_Collins                 1   \n",
       "\n",
       "                                                   genre_set gender  \\\n",
       "artist_id                                                             \n",
       "0                                       {emo_pop, rock, pop}   male   \n",
       "1                                                  {country}   male   \n",
       "2          {son_montuno, guaracha, afro_cuban_jazz, salsa...   male   \n",
       "3                                            {soul, r_and_b}   male   \n",
       "4                                            {southern_rock}   male   \n",
       "\n",
       "                 genre_set_encoded  set_id  \n",
       "artist_id                                   \n",
       "0                {794, 1007, 1431}       0  \n",
       "1                            {465}       1  \n",
       "2          {809, 1442, 1004, 1357}       2  \n",
       "3                      {1426, 359}       3  \n",
       "4                           {1186}       4  "
      ]
     },
     "execution_count": 15,
     "metadata": {},
     "output_type": "execute_result"
    }
   ],
   "source": [
    "data.head()"
   ]
  },
  {
   "cell_type": "code",
   "execution_count": null,
   "metadata": {},
   "outputs": [],
   "source": []
  }
 ],
 "metadata": {
  "kernelspec": {
   "display_name": "Python 3",
   "language": "python",
   "name": "python3"
  },
  "language_info": {
   "codemirror_mode": {
    "name": "ipython",
    "version": 3
   },
   "file_extension": ".py",
   "mimetype": "text/x-python",
   "name": "python",
   "nbconvert_exporter": "python",
   "pygments_lexer": "ipython3",
   "version": "3.7.3"
  }
 },
 "nbformat": 4,
 "nbformat_minor": 4
}
