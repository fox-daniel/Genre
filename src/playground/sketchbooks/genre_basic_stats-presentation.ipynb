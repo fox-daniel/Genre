{
 "cells": [
  {
   "cell_type": "markdown",
   "metadata": {},
   "source": [
    "This notebook examines the basic stats and shape of the data."
   ]
  },
  {
   "cell_type": "code",
   "execution_count": 3,
   "metadata": {},
   "outputs": [
    {
     "name": "stdout",
     "output_type": "stream",
     "text": [
      "Stored 'now' (str)\n"
     ]
    }
   ],
   "source": [
    "import numpy as np\n",
    "import pandas as pd\n",
    "from sklearn.model_selection import train_test_split \n",
    "np.random.seed(23)\n",
    "import matplotlib.pyplot as plt\n",
    "import seaborn as sns; sns.set()\n",
    "# the variable 'now' references the datetime that the data was saved. \n",
    "# Other notebooks call it to reference the most recent version of the cleaned data.\n",
    "now = '2020-07-07-09-58'\n",
    "%store now"
   ]
  },
  {
   "cell_type": "code",
   "execution_count": 4,
   "metadata": {},
   "outputs": [],
   "source": [
    "# this is only needed if the genre_data_loader.py script is not in the directory of the nb or script from which you call it\n",
    "import importlib.util\n",
    "spec = importlib.util.spec_from_file_location(\"genre_data_loader\", \"/Users/Daniel/Code/Genre/src/genre_scripts/genre_data_loader.py\")\n",
    "genre_data_loader = importlib.util.module_from_spec(spec)\n",
    "spec.loader.exec_module(genre_data_loader)\n",
    "# if the genre_data_loader.py script is in the directory in which you are calling it, only the next line is needed:\n",
    "LoadGenreData = genre_data_loader.LoadGenreData"
   ]
  },
  {
   "cell_type": "code",
   "execution_count": 5,
   "metadata": {},
   "outputs": [],
   "source": [
    "# get currrent date for latest version of data set\n",
    "# %store -r now # not needed in this nb where 'now' is defined\n",
    "\n",
    "X_path_train = '/Users/Daniel/Code/Genre/data/genre_lists/data_ready_for_model/wiki-kaggle_X_train_{}.csv'.format(now)\n",
    "y_path_train = '/Users/Daniel/Code/Genre/data/genre_lists/data_ready_for_model/wiki-kaggle_y_train_{}.csv'.format(now)\n",
    "X_path_test = '/Users/Daniel/Code/Genre/data/genre_lists/data_ready_for_model/wiki-kaggle_X_test_{}.csv'.format(now)\n",
    "y_path_test = '/Users/Daniel/Code/Genre/data/genre_lists/data_ready_for_model/wiki-kaggle_y_test_{}.csv'.format(now)"
   ]
  },
  {
   "cell_type": "code",
   "execution_count": 6,
   "metadata": {},
   "outputs": [],
   "source": [
    "# call data loader script\n",
    "genre_data = LoadGenreData(now, X_path_train = X_path_train, y_path_train = y_path_train, \n",
    "                                             X_path_test = X_path_test, y_path_test = y_path_test)\n",
    "# get currrent date for latest version of data set\n",
    "# %store -r now # not needed in this nb where 'now' is defined\n",
    "\n",
    "X_path_train = '/Users/Daniel/Code/Genre/data/genre_lists/data_ready_for_model/wiki-kaggle_X_train_{}.csv'.format(now)\n",
    "y_path_train = '/Users/Daniel/Code/Genre/data/genre_lists/data_ready_for_model/wiki-kaggle_y_train_{}.csv'.format(now)\n",
    "X_path_test = '/Users/Daniel/Code/Genre/data/genre_lists/data_ready_for_model/wiki-kaggle_X_test_{}.csv'.format(now)\n",
    "y_path_test = '/Users/Daniel/Code/Genre/data/genre_lists/data_ready_for_model/wiki-kaggle_y_test_{}.csv'.format(now)\n",
    "data = genre_data.data\n",
    "genre_list = genre_data.get_list_of_genres()"
   ]
  },
  {
   "cell_type": "code",
   "execution_count": 7,
   "metadata": {
    "scrolled": true
   },
   "outputs": [
    {
     "name": "stdout",
     "output_type": "stream",
     "text": [
      "There are 15470 artists with genre and binary-gender labels.\n",
      "There are 1491 unique genre labels.\n",
      "Previously there were 1669 unique genre lables.\n"
     ]
    }
   ],
   "source": [
    "print('There are {} artists with genre and binary-gender labels.'.format(data.shape[0]))\n",
    "print('There are {} unique genre labels.'.format(len(genre_list)))\n",
    "print('Previously there were 1669 unique genre lables.')"
   ]
  },
  {
   "cell_type": "code",
   "execution_count": 8,
   "metadata": {
    "scrolled": true
   },
   "outputs": [],
   "source": [
    "data_male = data[data.gender == 'male']\n",
    "data_female = data[data.gender == 'female']"
   ]
  },
  {
   "cell_type": "code",
   "execution_count": 9,
   "metadata": {
    "scrolled": true
   },
   "outputs": [
    {
     "name": "stdout",
     "output_type": "stream",
     "text": [
      "15470 total artists\n",
      "4855 female artists, or 31%\n",
      "10615 male artists, or 69%\n"
     ]
    }
   ],
   "source": [
    "tot = data.shape[0]\n",
    "m = data_male.shape[0]\n",
    "f = data_female.shape[0]\n",
    "print('{} total artists'.format(tot))\n",
    "print('{} female artists, or {:0.0f}%'.format(f, 100*f/(f+m)))\n",
    "print('{} male artists, or {:0.0f}%'.format(m, 100*m/(f+m)))"
   ]
  },
  {
   "cell_type": "markdown",
   "metadata": {},
   "source": [
    "### Count the min, mean, max of number of genres:"
   ]
  },
  {
   "cell_type": "code",
   "execution_count": 10,
   "metadata": {
    "scrolled": true
   },
   "outputs": [
    {
     "name": "stdout",
     "output_type": "stream",
     "text": [
      "Total:\n",
      "15470 Artists.\n",
      "Mean number of genre labels: 2.71.\n",
      "STD of the number of genre labels: 1.8.\n",
      "Max number of genre labels: 73.\n"
     ]
    }
   ],
   "source": [
    "n = data.shape[0]\n",
    "a,b,c = data.genrelist_length.mean(), data.genrelist_length.std(), data.genrelist_length.max()\n",
    "print('Total:')\n",
    "print(f'{n} Artists.')\n",
    "print(f'Mean number of genre labels: {round(a,2)}.')\n",
    "print(f'STD of the number of genre labels: {round(b,2)}.')\n",
    "print(f'Max number of genre labels: {c}.')"
   ]
  },
  {
   "cell_type": "markdown",
   "metadata": {},
   "source": [
    "### Count the min, mean, max of number of genres for male and female artists:"
   ]
  },
  {
   "cell_type": "code",
   "execution_count": 11,
   "metadata": {
    "scrolled": true
   },
   "outputs": [
    {
     "name": "stdout",
     "output_type": "stream",
     "text": [
      "Female:\n",
      "4855 Artists.\n",
      "Mean number of genre labels: 2.63.\n",
      "STD of the number of genre labels: 1.53.\n",
      "Max number of genre labels: 11.\n"
     ]
    }
   ],
   "source": [
    "data_female = data[data.gender == 'female']\n",
    "n = data_female.shape[0]\n",
    "a,b,c = data_female.genrelist_length.mean(), data_female.genrelist_length.std(), data_female.genrelist_length.max()\n",
    "print('Female:')\n",
    "print(f'{n} Artists.')\n",
    "print(f'Mean number of genre labels: {round(a,2)}.')\n",
    "print(f'STD of the number of genre labels: {round(b,2)}.')\n",
    "print(f'Max number of genre labels: {c}.')"
   ]
  },
  {
   "cell_type": "code",
   "execution_count": 10,
   "metadata": {
    "scrolled": true
   },
   "outputs": [
    {
     "data": {
      "image/png": "[encoded data removed]",
      "text/plain": [
       "<Figure size 432x288 with 1 Axes>"
      ]
     },
     "metadata": {},
     "output_type": "display_data"
    }
   ],
   "source": [
    "plt.hist(data_female.genrelist_length, bins = 25, density = True)\n",
    "plt.show()"
   ]
  },
  {
   "cell_type": "code",
   "execution_count": 11,
   "metadata": {
    "scrolled": true
   },
   "outputs": [
    {
     "name": "stdout",
     "output_type": "stream",
     "text": [
      "Male:\n",
      "10615 Artists.\n",
      "Mean number of genre labels: 2.74.\n",
      "STD of the number of genre labels: 1.92.\n",
      "Max number of genre labels: 73.\n"
     ]
    }
   ],
   "source": [
    "data_male = data[data.gender == 'male']\n",
    "m = data_male.shape[0]\n",
    "a,b,c = data_male.genrelist_length.mean(), data_male.genrelist_length.std(), data_male.genrelist_length.max()\n",
    "print('Male:')\n",
    "print(f'{m} Artists.')\n",
    "print(f'Mean number of genre labels: {round(a,2)}.')\n",
    "print(f'STD of the number of genre labels: {round(b,2)}.')\n",
    "print(f'Max number of genre labels: {c}.')"
   ]
  },
  {
   "cell_type": "code",
   "execution_count": 12,
   "metadata": {
    "scrolled": true
   },
   "outputs": [
    {
     "data": {
      "image/png": "[encoded data removed]",
      "text/plain": [
       "<Figure size 432x288 with 1 Axes>"
      ]
     },
     "metadata": {},
     "output_type": "display_data"
    }
   ],
   "source": [
    "plt.hist(data_male.genrelist_length, bins = 25, density = True)\n",
    "plt.show()"
   ]
  },
  {
   "cell_type": "markdown",
   "metadata": {},
   "source": [
    "Set variables:"
   ]
  },
  {
   "cell_type": "code",
   "execution_count": 13,
   "metadata": {
    "scrolled": true
   },
   "outputs": [],
   "source": [
    "max_num_male = 73\n",
    "max_num_female = 11\n",
    "max_num = max(max_num_female, max_num_male)"
   ]
  },
  {
   "cell_type": "markdown",
   "metadata": {},
   "source": [
    "### The histograms for genre labels. "
   ]
  },
  {
   "cell_type": "code",
   "execution_count": 14,
   "metadata": {
    "scrolled": true
   },
   "outputs": [
    {
     "data": {
      "image/png": "[encoded data removed]",
      "text/plain": [
       "<Figure size 720x360 with 1 Axes>"
      ]
     },
     "metadata": {},
     "output_type": "display_data"
    }
   ],
   "source": [
    "plt.figure(figsize = (10, 5))\n",
    "plt.hist(data.genrelist_length, bins = range(1,12), align = 'left', rwidth = .8, density = False, color = 'purple', alpha = .7, label = 'Total Artists')\n",
    "plt.legend()\n",
    "plt.xticks(range(1,12))\n",
    "plt.xlabel(\"Genre List Length\", fontsize=14)\n",
    "plt.ylabel(\"Number of Artists\", fontsize=14)\n",
    "plt.suptitle(\"Genre List Length Frequency\", fontsize = 20)\n",
    "# plt.show()\n",
    "plt.savefig(\"genre_list_length_frequency\")"
   ]
  },
  {
   "cell_type": "markdown",
   "metadata": {},
   "source": [
    "### The histograms for genre labels for male and female artists. "
   ]
  },
  {
   "cell_type": "code",
   "execution_count": 15,
   "metadata": {
    "scrolled": true
   },
   "outputs": [
    {
     "data": {
      "image/png": "[encoded data removed]",
      "text/plain": [
       "<Figure size 720x360 with 1 Axes>"
      ]
     },
     "metadata": {},
     "output_type": "display_data"
    }
   ],
   "source": [
    "plt.figure(figsize = (10, 5))\n",
    "plt.hist(data.genrelist_length, bins = range(1,max_num), density = False, color = 'pink', alpha = .5, label = 'total')\n",
    "plt.hist(data_male.genrelist_length, bins = range(1,max_num), density = False, color = 'orange', alpha = .5, label = 'male')\n",
    "plt.vlines(x = max_num_male, ymin = 0 , ymax = 5000, label = 'max number of genres for male', color = 'orange')\n",
    "plt.vlines(x = max_num_female, ymin = 0 , ymax = 5000, label = 'max number of genres for female', color = 'blue')\n",
    "plt.hist(data_female.genrelist_length, bins = range(1,max_num), density = False, color = 'blue', alpha = .5,label = 'female')\n",
    "plt.legend()\n",
    "plt.show()"
   ]
  },
  {
   "cell_type": "markdown",
   "metadata": {},
   "source": [
    "Here are the histograms as densities: the heights are scaled so as the sum of all heights is 1."
   ]
  },
  {
   "cell_type": "code",
   "execution_count": 16,
   "metadata": {
    "scrolled": false
   },
   "outputs": [
    {
     "data": {
      "image/png": "[encoded data removed]",
      "text/plain": [
       "<Figure size 720x360 with 1 Axes>"
      ]
     },
     "metadata": {},
     "output_type": "display_data"
    }
   ],
   "source": [
    "plt.figure(figsize = (10, 5))\n",
    "plt.hist(data_male.genrelist_length, bins = range(1,max_num), density = True, color = 'orange', alpha = .5, label = 'male')\n",
    "plt.vlines(x = max_num_male, ymin = 0 , ymax = .3, label = 'max number of genres for male', color = 'orange')\n",
    "plt.vlines(x = max_num_female, ymin = 0 , ymax = .3, label = 'max number of genres for female', color = 'blue')\n",
    "plt.hist(data_female.genrelist_length, bins = range(1,max_num), density = True, color = 'blue', alpha = .5,label = 'female')\n",
    "plt.legend()\n",
    "plt.show()"
   ]
  },
  {
   "cell_type": "markdown",
   "metadata": {},
   "source": [
    "Here are the histograms as densities; three bins: $[1, mean)$, $[mean,2 \\cdot mean)$, $[2 \\cdot mean,max]$"
   ]
  },
  {
   "cell_type": "code",
   "execution_count": 17,
   "metadata": {
    "scrolled": true
   },
   "outputs": [],
   "source": [
    "# plt.figure(figsize = (10, 5))\n",
    "# plt.hist(data_male.genrelist_length, bins = [0,data_male.genrelist_length.mean(),2*data_male.genrelist_length.mean(),max_num], density = False, color = 'orange', alpha = .5, label = 'male')\n",
    "# plt.hist(data_female.genrelist_length, bins = [0,data_female.genrelist_length.mean(),2*data_female.genrelist_length.mean(),max_num], density = False, color = 'blue', alpha = .5, label = 'female')\n",
    "# plt.legend()\n",
    "# plt.show()"
   ]
  },
  {
   "cell_type": "markdown",
   "metadata": {},
   "source": [
    "## What are the most common genre labels? \n",
    "\n",
    "\n",
    "\n",
    "### Count the number of times that a label occurs:"
   ]
  },
  {
   "cell_type": "markdown",
   "metadata": {},
   "source": [
    "### Take a look at the most frequent genres:"
   ]
  },
  {
   "cell_type": "code",
   "execution_count": 18,
   "metadata": {},
   "outputs": [],
   "source": [
    "# import a UDF to create a DataFrame with the frequencies of genres\n",
    "spec = importlib.util.spec_from_file_location(\"genre_frequency_by_gender\", \"/Users/Daniel/Code/Genre/src/genre_scripts/genre_frequency_by_gender.py\")\n",
    "genre_frequency_by_gender = importlib.util.module_from_spec(spec)\n",
    "spec.loader.exec_module(genre_frequency_by_gender)\n",
    "frequency_by_gender = genre_frequency_by_gender.frequency_by_gender\n",
    "# from src.genre_scripts.genre_frequency_by_gender import frequency_by_gender"
   ]
  },
  {
   "cell_type": "code",
   "execution_count": 19,
   "metadata": {},
   "outputs": [],
   "source": [
    "genre_frequencies = frequency_by_gender(genre_data.get_sparse_X_vector(), data, genre_data.get_dict_id_to_genre())\n",
    "# sort by frequences descending\n",
    "genre_frequencies.sort_values(['frequency'], ascending = False, inplace = True)\n",
    "genre_frequencies.set_index('genre', inplace = True)"
   ]
  },
  {
   "cell_type": "code",
   "execution_count": 20,
   "metadata": {},
   "outputs": [
    {
     "data": {
      "text/html": [
       "<div>\n",
       "<style scoped>\n",
       "    .dataframe tbody tr th:only-of-type {\n",
       "        vertical-align: middle;\n",
       "    }\n",
       "\n",
       "    .dataframe tbody tr th {\n",
       "        vertical-align: top;\n",
       "    }\n",
       "\n",
       "    .dataframe thead th {\n",
       "        text-align: right;\n",
       "    }\n",
       "</style>\n",
       "<table border=\"1\" class=\"dataframe\">\n",
       "  <thead>\n",
       "    <tr style=\"text-align: right;\">\n",
       "      <th></th>\n",
       "      <th>frequency</th>\n",
       "      <th>female</th>\n",
       "      <th>male</th>\n",
       "    </tr>\n",
       "    <tr>\n",
       "      <th>genre</th>\n",
       "      <th></th>\n",
       "      <th></th>\n",
       "      <th></th>\n",
       "    </tr>\n",
       "  </thead>\n",
       "  <tbody>\n",
       "    <tr>\n",
       "      <th>pop</th>\n",
       "      <td>3279</td>\n",
       "      <td>1669</td>\n",
       "      <td>1610</td>\n",
       "    </tr>\n",
       "    <tr>\n",
       "      <th>rock</th>\n",
       "      <td>2208</td>\n",
       "      <td>461</td>\n",
       "      <td>1747</td>\n",
       "    </tr>\n",
       "    <tr>\n",
       "      <th>country</th>\n",
       "      <td>2026</td>\n",
       "      <td>634</td>\n",
       "      <td>1392</td>\n",
       "    </tr>\n",
       "    <tr>\n",
       "      <th>r_and_b</th>\n",
       "      <td>1926</td>\n",
       "      <td>940</td>\n",
       "      <td>986</td>\n",
       "    </tr>\n",
       "    <tr>\n",
       "      <th>hip_hop</th>\n",
       "      <td>1395</td>\n",
       "      <td>248</td>\n",
       "      <td>1147</td>\n",
       "    </tr>\n",
       "    <tr>\n",
       "      <th>soul</th>\n",
       "      <td>1304</td>\n",
       "      <td>676</td>\n",
       "      <td>628</td>\n",
       "    </tr>\n",
       "    <tr>\n",
       "      <th>folk</th>\n",
       "      <td>1283</td>\n",
       "      <td>530</td>\n",
       "      <td>753</td>\n",
       "    </tr>\n",
       "    <tr>\n",
       "      <th>jazz</th>\n",
       "      <td>1173</td>\n",
       "      <td>489</td>\n",
       "      <td>684</td>\n",
       "    </tr>\n",
       "    <tr>\n",
       "      <th>alternative_rock</th>\n",
       "      <td>1151</td>\n",
       "      <td>242</td>\n",
       "      <td>909</td>\n",
       "    </tr>\n",
       "    <tr>\n",
       "      <th>blues</th>\n",
       "      <td>1067</td>\n",
       "      <td>245</td>\n",
       "      <td>822</td>\n",
       "    </tr>\n",
       "    <tr>\n",
       "      <th>pop_rock</th>\n",
       "      <td>801</td>\n",
       "      <td>284</td>\n",
       "      <td>517</td>\n",
       "    </tr>\n",
       "    <tr>\n",
       "      <th>hard_rock</th>\n",
       "      <td>789</td>\n",
       "      <td>55</td>\n",
       "      <td>734</td>\n",
       "    </tr>\n",
       "    <tr>\n",
       "      <th>indie_rock</th>\n",
       "      <td>612</td>\n",
       "      <td>168</td>\n",
       "      <td>444</td>\n",
       "    </tr>\n",
       "    <tr>\n",
       "      <th>heavy_metal</th>\n",
       "      <td>587</td>\n",
       "      <td>40</td>\n",
       "      <td>547</td>\n",
       "    </tr>\n",
       "    <tr>\n",
       "      <th>folk_rock</th>\n",
       "      <td>498</td>\n",
       "      <td>151</td>\n",
       "      <td>347</td>\n",
       "    </tr>\n",
       "    <tr>\n",
       "      <th>punk_rock</th>\n",
       "      <td>470</td>\n",
       "      <td>78</td>\n",
       "      <td>392</td>\n",
       "    </tr>\n",
       "    <tr>\n",
       "      <th>gospel</th>\n",
       "      <td>450</td>\n",
       "      <td>226</td>\n",
       "      <td>224</td>\n",
       "    </tr>\n",
       "    <tr>\n",
       "      <th>blues_rock</th>\n",
       "      <td>412</td>\n",
       "      <td>38</td>\n",
       "      <td>374</td>\n",
       "    </tr>\n",
       "    <tr>\n",
       "      <th>dance</th>\n",
       "      <td>388</td>\n",
       "      <td>256</td>\n",
       "      <td>132</td>\n",
       "    </tr>\n",
       "    <tr>\n",
       "      <th>funk</th>\n",
       "      <td>386</td>\n",
       "      <td>103</td>\n",
       "      <td>283</td>\n",
       "    </tr>\n",
       "  </tbody>\n",
       "</table>\n",
       "</div>"
      ],
      "text/plain": [
       "                  frequency  female  male\n",
       "genre                                    \n",
       "pop                    3279    1669  1610\n",
       "rock                   2208     461  1747\n",
       "country                2026     634  1392\n",
       "r_and_b                1926     940   986\n",
       "hip_hop                1395     248  1147\n",
       "soul                   1304     676   628\n",
       "folk                   1283     530   753\n",
       "jazz                   1173     489   684\n",
       "alternative_rock       1151     242   909\n",
       "blues                  1067     245   822\n",
       "pop_rock                801     284   517\n",
       "hard_rock               789      55   734\n",
       "indie_rock              612     168   444\n",
       "heavy_metal             587      40   547\n",
       "folk_rock               498     151   347\n",
       "punk_rock               470      78   392\n",
       "gospel                  450     226   224\n",
       "blues_rock              412      38   374\n",
       "dance                   388     256   132\n",
       "funk                    386     103   283"
      ]
     },
     "execution_count": 20,
     "metadata": {},
     "output_type": "execute_result"
    }
   ],
   "source": [
    "genre_frequencies.head(20)"
   ]
  },
  {
   "cell_type": "markdown",
   "metadata": {},
   "source": [
    "Extract longest list:"
   ]
  },
  {
   "cell_type": "code",
   "execution_count": 41,
   "metadata": {},
   "outputs": [],
   "source": [
    "data = genre_data.as_lists()"
   ]
  },
  {
   "cell_type": "code",
   "execution_count": 36,
   "metadata": {},
   "outputs": [
    {
     "data": {
      "text/html": [
       "<div>\n",
       "<style scoped>\n",
       "    .dataframe tbody tr th:only-of-type {\n",
       "        vertical-align: middle;\n",
       "    }\n",
       "\n",
       "    .dataframe tbody tr th {\n",
       "        vertical-align: top;\n",
       "    }\n",
       "\n",
       "    .dataframe thead th {\n",
       "        text-align: right;\n",
       "    }\n",
       "</style>\n",
       "<table border=\"1\" class=\"dataframe\">\n",
       "  <thead>\n",
       "    <tr style=\"text-align: right;\">\n",
       "      <th></th>\n",
       "      <th>genrelist_length</th>\n",
       "      <th>gender</th>\n",
       "      <th>genre_string</th>\n",
       "      <th>genre_list</th>\n",
       "    </tr>\n",
       "    <tr>\n",
       "      <th>artist</th>\n",
       "      <th></th>\n",
       "      <th></th>\n",
       "      <th></th>\n",
       "      <th></th>\n",
       "    </tr>\n",
       "  </thead>\n",
       "  <tbody>\n",
       "    <tr>\n",
       "      <th>Adrian_Baker</th>\n",
       "      <td>73</td>\n",
       "      <td>male</td>\n",
       "      <td>blue_eyed_soul video_game acoustic_rock breakb...</td>\n",
       "      <td>[blue_eyed_soul, video_game, acoustic_rock, br...</td>\n",
       "    </tr>\n",
       "    <tr>\n",
       "      <th>Juan_d'Anyelica</th>\n",
       "      <td>45</td>\n",
       "      <td>male</td>\n",
       "      <td>european_free_jazz cape_jazz stride afrobeat s...</td>\n",
       "      <td>[european_free_jazz, cape_jazz, stride, afrobe...</td>\n",
       "    </tr>\n",
       "    <tr>\n",
       "      <th>Amir_Derakh</th>\n",
       "      <td>15</td>\n",
       "      <td>male</td>\n",
       "      <td>dark_pop post_punk industrial noise glam_metal...</td>\n",
       "      <td>[dark_pop, post_punk, industrial, noise, glam_...</td>\n",
       "    </tr>\n",
       "    <tr>\n",
       "      <th>Tom_Bailey</th>\n",
       "      <td>15</td>\n",
       "      <td>male</td>\n",
       "      <td>post_punk house dance_pop world_beat indian du...</td>\n",
       "      <td>[post_punk, house, dance_pop, world_beat, indi...</td>\n",
       "    </tr>\n",
       "    <tr>\n",
       "      <th>James_Plotkin</th>\n",
       "      <td>15</td>\n",
       "      <td>male</td>\n",
       "      <td>industrial_hip_hop cybergrind sludge_metal ele...</td>\n",
       "      <td>[industrial_hip_hop, cybergrind, sludge_metal,...</td>\n",
       "    </tr>\n",
       "  </tbody>\n",
       "</table>\n",
       "</div>"
      ],
      "text/plain": [
       "                 genrelist_length gender  \\\n",
       "artist                                     \n",
       "Adrian_Baker                   73   male   \n",
       "Juan_d'Anyelica                45   male   \n",
       "Amir_Derakh                    15   male   \n",
       "Tom_Bailey                     15   male   \n",
       "James_Plotkin                  15   male   \n",
       "\n",
       "                                                      genre_string  \\\n",
       "artist                                                               \n",
       "Adrian_Baker     blue_eyed_soul video_game acoustic_rock breakb...   \n",
       "Juan_d'Anyelica  european_free_jazz cape_jazz stride afrobeat s...   \n",
       "Amir_Derakh      dark_pop post_punk industrial noise glam_metal...   \n",
       "Tom_Bailey       post_punk house dance_pop world_beat indian du...   \n",
       "James_Plotkin    industrial_hip_hop cybergrind sludge_metal ele...   \n",
       "\n",
       "                                                        genre_list  \n",
       "artist                                                              \n",
       "Adrian_Baker     [blue_eyed_soul, video_game, acoustic_rock, br...  \n",
       "Juan_d'Anyelica  [european_free_jazz, cape_jazz, stride, afrobe...  \n",
       "Amir_Derakh      [dark_pop, post_punk, industrial, noise, glam_...  \n",
       "Tom_Bailey       [post_punk, house, dance_pop, world_beat, indi...  \n",
       "James_Plotkin    [industrial_hip_hop, cybergrind, sludge_metal,...  "
      ]
     },
     "execution_count": 36,
     "metadata": {},
     "output_type": "execute_result"
    }
   ],
   "source": [
    "data.sort_values('genrelist_length', ascending = False).head()"
   ]
  },
  {
   "cell_type": "code",
   "execution_count": 37,
   "metadata": {},
   "outputs": [],
   "source": [
    "longest_list = data.loc[\"Adrian_Baker\"].genre_list"
   ]
  },
  {
   "cell_type": "code",
   "execution_count": 38,
   "metadata": {},
   "outputs": [
    {
     "data": {
      "text/plain": [
       "['blue_eyed_soul',\n",
       " 'video_game',\n",
       " 'acoustic_rock',\n",
       " 'breakbeat',\n",
       " 'teen_pop',\n",
       " 'hip_hop',\n",
       " 'disco',\n",
       " 'pop',\n",
       " 'indie_rock',\n",
       " 'classical',\n",
       " 'bedroom_pop',\n",
       " 'britpop',\n",
       " 'nursery_rhymes',\n",
       " 'comedy_rock',\n",
       " 'art_pop',\n",
       " 'world_fusion',\n",
       " 'bubblegum_pop',\n",
       " 'library',\n",
       " 'surf_rock',\n",
       " 'experimental',\n",
       " 'football_chant',\n",
       " 'elevator',\n",
       " 'tribute',\n",
       " 'chamber_pop',\n",
       " 'lo_fi',\n",
       " 'orchestral_pop',\n",
       " 'ambient',\n",
       " 'anthem_trance',\n",
       " 'doo_wop',\n",
       " 'electronic_rock',\n",
       " 'twee_pop',\n",
       " 'soundtrack',\n",
       " 'new_age',\n",
       " 'dance',\n",
       " 'glam_rock',\n",
       " 'easy_listening',\n",
       " 'harmony_pop',\n",
       " 'christmas',\n",
       " 'down_tempo',\n",
       " 'karaoke',\n",
       " 'new_wave',\n",
       " 'arena_rock',\n",
       " 'nightcore',\n",
       " 'middle_of_the_road',\n",
       " 'baroque_pop',\n",
       " 'musique_concrete',\n",
       " 'jingles',\n",
       " 'casiocore',\n",
       " 'acapella',\n",
       " 'indie_pop',\n",
       " 'spoken_word',\n",
       " 'nostalgia',\n",
       " 'psychedelic_pop',\n",
       " 'sunshine_pop',\n",
       " 'big_band',\n",
       " 'jangle_pop',\n",
       " 'lounge',\n",
       " 'progressive_rock',\n",
       " 'funk',\n",
       " 'instrumental_synth',\n",
       " 'reggae',\n",
       " 'hard_rock',\n",
       " 'oriented_rock',\n",
       " 'progressive_pop',\n",
       " 'art_rock',\n",
       " 'europop',\n",
       " 'synth_pop',\n",
       " 'halloween',\n",
       " 'classical_crossover',\n",
       " 'sports',\n",
       " 'soft_rock',\n",
       " 'progressive_pub',\n",
       " 'novelty']"
      ]
     },
     "execution_count": 38,
     "metadata": {},
     "output_type": "execute_result"
    }
   ],
   "source": [
    "longest_list"
   ]
  },
  {
   "cell_type": "code",
   "execution_count": 40,
   "metadata": {},
   "outputs": [
    {
     "data": {
      "text/html": [
       "<div>\n",
       "<style scoped>\n",
       "    .dataframe tbody tr th:only-of-type {\n",
       "        vertical-align: middle;\n",
       "    }\n",
       "\n",
       "    .dataframe tbody tr th {\n",
       "        vertical-align: top;\n",
       "    }\n",
       "\n",
       "    .dataframe thead th {\n",
       "        text-align: right;\n",
       "    }\n",
       "</style>\n",
       "<table border=\"1\" class=\"dataframe\">\n",
       "  <thead>\n",
       "    <tr style=\"text-align: right;\">\n",
       "      <th></th>\n",
       "      <th>genrelist_length</th>\n",
       "      <th>gender</th>\n",
       "      <th>genre_string</th>\n",
       "      <th>genre_list</th>\n",
       "    </tr>\n",
       "    <tr>\n",
       "      <th>artist</th>\n",
       "      <th></th>\n",
       "      <th></th>\n",
       "      <th></th>\n",
       "      <th></th>\n",
       "    </tr>\n",
       "  </thead>\n",
       "  <tbody>\n",
       "    <tr>\n",
       "      <th>Apollonia_Kotero</th>\n",
       "      <td>11</td>\n",
       "      <td>female</td>\n",
       "      <td>house dance funk disco pop contemporary_r_and_...</td>\n",
       "      <td>[house, dance, funk, disco, pop, contemporary_...</td>\n",
       "    </tr>\n",
       "    <tr>\n",
       "      <th>Jocelyn_Brown</th>\n",
       "      <td>11</td>\n",
       "      <td>female</td>\n",
       "      <td>house new_jack_swing acid_jazz dance disco pop...</td>\n",
       "      <td>[house, new_jack_swing, acid_jazz, dance, disc...</td>\n",
       "    </tr>\n",
       "    <tr>\n",
       "      <th>Phoebe_Snow</th>\n",
       "      <td>11</td>\n",
       "      <td>female</td>\n",
       "      <td>rock_and_roll jazz jazz_blues pop blues gospel...</td>\n",
       "      <td>[rock_and_roll, jazz, jazz_blues, pop, blues, ...</td>\n",
       "    </tr>\n",
       "    <tr>\n",
       "      <th>Yisel</th>\n",
       "      <td>11</td>\n",
       "      <td>female</td>\n",
       "      <td>world indie_pop fusion j_synth world_beat elec...</td>\n",
       "      <td>[world, indie_pop, fusion, j_synth, world_beat...</td>\n",
       "    </tr>\n",
       "    <tr>\n",
       "      <th>Annie_Lennox</th>\n",
       "      <td>11</td>\n",
       "      <td>female</td>\n",
       "      <td>blue_eyed_soul contemporary jazz pop pop_rock ...</td>\n",
       "      <td>[blue_eyed_soul, contemporary, jazz, pop, pop_...</td>\n",
       "    </tr>\n",
       "    <tr>\n",
       "      <th>...</th>\n",
       "      <td>...</td>\n",
       "      <td>...</td>\n",
       "      <td>...</td>\n",
       "      <td>...</td>\n",
       "    </tr>\n",
       "    <tr>\n",
       "      <th>La_Costa</th>\n",
       "      <td>1</td>\n",
       "      <td>female</td>\n",
       "      <td>country</td>\n",
       "      <td>[country]</td>\n",
       "    </tr>\n",
       "    <tr>\n",
       "      <th>Elsie_Carlisle</th>\n",
       "      <td>1</td>\n",
       "      <td>female</td>\n",
       "      <td>british_dance_band</td>\n",
       "      <td>[british_dance_band]</td>\n",
       "    </tr>\n",
       "    <tr>\n",
       "      <th>Audi_Y_Zentimiento</th>\n",
       "      <td>1</td>\n",
       "      <td>female</td>\n",
       "      <td>tejano</td>\n",
       "      <td>[tejano]</td>\n",
       "    </tr>\n",
       "    <tr>\n",
       "      <th>Kim_Yarbrough</th>\n",
       "      <td>1</td>\n",
       "      <td>female</td>\n",
       "      <td>r_and_b</td>\n",
       "      <td>[r_and_b]</td>\n",
       "    </tr>\n",
       "    <tr>\n",
       "      <th>Linda_Hopkins</th>\n",
       "      <td>1</td>\n",
       "      <td>female</td>\n",
       "      <td>blues</td>\n",
       "      <td>[blues]</td>\n",
       "    </tr>\n",
       "  </tbody>\n",
       "</table>\n",
       "<p>4855 rows × 4 columns</p>\n",
       "</div>"
      ],
      "text/plain": [
       "                    genrelist_length  gender  \\\n",
       "artist                                         \n",
       "Apollonia_Kotero                  11  female   \n",
       "Jocelyn_Brown                     11  female   \n",
       "Phoebe_Snow                       11  female   \n",
       "Yisel                             11  female   \n",
       "Annie_Lennox                      11  female   \n",
       "...                              ...     ...   \n",
       "La_Costa                           1  female   \n",
       "Elsie_Carlisle                     1  female   \n",
       "Audi_Y_Zentimiento                 1  female   \n",
       "Kim_Yarbrough                      1  female   \n",
       "Linda_Hopkins                      1  female   \n",
       "\n",
       "                                                         genre_string  \\\n",
       "artist                                                                  \n",
       "Apollonia_Kotero    house dance funk disco pop contemporary_r_and_...   \n",
       "Jocelyn_Brown       house new_jack_swing acid_jazz dance disco pop...   \n",
       "Phoebe_Snow         rock_and_roll jazz jazz_blues pop blues gospel...   \n",
       "Yisel               world indie_pop fusion j_synth world_beat elec...   \n",
       "Annie_Lennox        blue_eyed_soul contemporary jazz pop pop_rock ...   \n",
       "...                                                               ...   \n",
       "La_Costa                                                      country   \n",
       "Elsie_Carlisle                                     british_dance_band   \n",
       "Audi_Y_Zentimiento                                             tejano   \n",
       "Kim_Yarbrough                                                 r_and_b   \n",
       "Linda_Hopkins                                                   blues   \n",
       "\n",
       "                                                           genre_list  \n",
       "artist                                                                 \n",
       "Apollonia_Kotero    [house, dance, funk, disco, pop, contemporary_...  \n",
       "Jocelyn_Brown       [house, new_jack_swing, acid_jazz, dance, disc...  \n",
       "Phoebe_Snow         [rock_and_roll, jazz, jazz_blues, pop, blues, ...  \n",
       "Yisel               [world, indie_pop, fusion, j_synth, world_beat...  \n",
       "Annie_Lennox        [blue_eyed_soul, contemporary, jazz, pop, pop_...  \n",
       "...                                                               ...  \n",
       "La_Costa                                                    [country]  \n",
       "Elsie_Carlisle                                   [british_dance_band]  \n",
       "Audi_Y_Zentimiento                                           [tejano]  \n",
       "Kim_Yarbrough                                               [r_and_b]  \n",
       "Linda_Hopkins                                                 [blues]  \n",
       "\n",
       "[4855 rows x 4 columns]"
      ]
     },
     "execution_count": 40,
     "metadata": {},
     "output_type": "execute_result"
    }
   ],
   "source": [
    "data[data['gender'] == 'female'].sort_values('genrelist_length', ascending = False)"
   ]
  },
  {
   "cell_type": "code",
   "execution_count": 41,
   "metadata": {},
   "outputs": [
    {
     "data": {
      "text/plain": [
       "['blue_eyed_soul',\n",
       " 'contemporary',\n",
       " 'jazz',\n",
       " 'pop',\n",
       " 'pop_rock',\n",
       " 'electronica',\n",
       " 'new_wave',\n",
       " 'synth_pop',\n",
       " 'soul',\n",
       " 'rock',\n",
       " 'r_and_b']"
      ]
     },
     "execution_count": 41,
     "metadata": {},
     "output_type": "execute_result"
    }
   ],
   "source": [
    "data.loc['Annie_Lennox'].genre_list"
   ]
  },
  {
   "cell_type": "code",
   "execution_count": 39,
   "metadata": {},
   "outputs": [
    {
     "data": {
      "text/plain": [
       "(577, 'garba')"
      ]
     },
     "execution_count": 39,
     "metadata": {},
     "output_type": "execute_result"
    }
   ],
   "source": [
    "i = np.random.randint(len(genre_list))\n",
    "i, genre_list[i]"
   ]
  },
  {
   "cell_type": "code",
   "execution_count": 60,
   "metadata": {},
   "outputs": [
    {
     "data": {
      "text/plain": [
       "artist\n",
       "Sherrick                           [r_and_b, soul]\n",
       "Asher_Roth          [hip_hop, alternative_hip_hop]\n",
       "Jean-Louis_Murat              [new_wave, pop_rock]\n",
       "Frankie_DeCarlos                   [r_and_b, soul]\n",
       "Gwen_Sebastian                     [rock, country]\n",
       "                                 ...              \n",
       "David_Skinner               [psychedelic_pop, pop]\n",
       "Grant_McLennan            [alternative_rock, rock]\n",
       "Syleena_Johnson                    [r_and_b, soul]\n",
       "Skylar_Laine               [country_rock, country]\n",
       "Nikki_Yanofsky                         [jazz, pop]\n",
       "Name: genre_list, Length: 3820, dtype: object"
      ]
     },
     "execution_count": 60,
     "metadata": {},
     "output_type": "execute_result"
    }
   ],
   "source": [
    "twodata = data[data['genrelist_length'] == 2]\n",
    "twodata['genre_list']\n",
    "# twodata[twodata['genre_list'] == ['r_and_b', 'soul']]"
   ]
  },
  {
   "cell_type": "code",
   "execution_count": 73,
   "metadata": {},
   "outputs": [
    {
     "data": {
      "text/html": [
       "<div>\n",
       "<style scoped>\n",
       "    .dataframe tbody tr th:only-of-type {\n",
       "        vertical-align: middle;\n",
       "    }\n",
       "\n",
       "    .dataframe tbody tr th {\n",
       "        vertical-align: top;\n",
       "    }\n",
       "\n",
       "    .dataframe thead th {\n",
       "        text-align: right;\n",
       "    }\n",
       "</style>\n",
       "<table border=\"1\" class=\"dataframe\">\n",
       "  <thead>\n",
       "    <tr style=\"text-align: right;\">\n",
       "      <th></th>\n",
       "      <th>genre_list</th>\n",
       "      <th>gender</th>\n",
       "    </tr>\n",
       "    <tr>\n",
       "      <th>artist</th>\n",
       "      <th></th>\n",
       "      <th></th>\n",
       "    </tr>\n",
       "  </thead>\n",
       "  <tbody>\n",
       "    <tr>\n",
       "      <th>Otis_Redding</th>\n",
       "      <td>[r_and_b, soul]</td>\n",
       "      <td>male</td>\n",
       "    </tr>\n",
       "    <tr>\n",
       "      <th>Donell_Jones</th>\n",
       "      <td>[r_and_b, soul]</td>\n",
       "      <td>male</td>\n",
       "    </tr>\n",
       "    <tr>\n",
       "      <th>Blinky</th>\n",
       "      <td>[r_and_b, soul]</td>\n",
       "      <td>female</td>\n",
       "    </tr>\n",
       "  </tbody>\n",
       "</table>\n",
       "</div>"
      ],
      "text/plain": [
       "                   genre_list  gender\n",
       "artist                               \n",
       "Otis_Redding  [r_and_b, soul]    male\n",
       "Donell_Jones  [r_and_b, soul]    male\n",
       "Blinky        [r_and_b, soul]  female"
      ]
     },
     "execution_count": 73,
     "metadata": {},
     "output_type": "execute_result"
    }
   ],
   "source": [
    "mask = data.apply(lambda x: x.genre_list == ['r_and_b', 'soul'], axis = 1)\n",
    "randbandsoul = data[mask]\n",
    "excerpt = randbandsoul.iloc[2:5]\n",
    "excerpt[['genre_list', 'gender']]"
   ]
  },
  {
   "cell_type": "code",
   "execution_count": null,
   "metadata": {},
   "outputs": [],
   "source": []
  }
 ],
 "metadata": {
  "kernelspec": {
   "display_name": "Python 3",
   "language": "python",
   "name": "python3"
  },
  "language_info": {
   "codemirror_mode": {
    "name": "ipython",
    "version": 3
   },
   "file_extension": ".py",
   "mimetype": "text/x-python",
   "name": "python",
   "nbconvert_exporter": "python",
   "pygments_lexer": "ipython3",
   "version": "3.7.3"
  }
 },
 "nbformat": 4,
 "nbformat_minor": 4
}
