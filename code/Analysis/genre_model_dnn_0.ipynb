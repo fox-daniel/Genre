{
 "cells": [
  {
   "cell_type": "markdown",
   "metadata": {},
   "source": [
    "This creates a model using the training data set."
   ]
  },
  {
   "cell_type": "code",
   "execution_count": 1,
   "metadata": {},
   "outputs": [],
   "source": [
    "from __future__ import absolute_import, division, print_function, unicode_literals\n",
    "\n",
    "seed = 23\n",
    "\n",
    "import tensorflow as tf\n",
    "import tensorflow_addons as tfa\n",
    "from tensorflow import keras \n",
    "from tensorflow.keras import Input, layers\n",
    "tf.keras.backend.clear_session() # for easy reset of notebook state\n",
    "\n",
    "import numpy as np\n",
    "import pandas as pd\n",
    "\n",
    "from sklearn.model_selection import KFold\n",
    "\n",
    "from matplotlib import pyplot as plt\n",
    "from IPython import display\n",
    "import pydot\n",
    "from graphviz import Digraph\n",
    "from matplotlib import pyplot as plt\n",
    "from IPython import display"
   ]
  },
  {
   "cell_type": "code",
   "execution_count": 2,
   "metadata": {},
   "outputs": [
    {
     "data": {
      "text/plain": [
       "'2.2.0'"
      ]
     },
     "execution_count": 2,
     "metadata": {},
     "output_type": "execute_result"
    }
   ],
   "source": [
    "tf.__version__"
   ]
  },
  {
   "cell_type": "code",
   "execution_count": 3,
   "metadata": {},
   "outputs": [],
   "source": [
    "np.random.random_seed = 23"
   ]
  },
  {
   "cell_type": "markdown",
   "metadata": {},
   "source": [
    "Workflow:\n",
    "\n",
    "- [x] establish DF with columns with: list of genres, length of list, gender\n",
    "- [x] encode genres as integers (ordinal encoding) in pandas (don't use 1-num_genre_labels)\n",
    "- [x] create arrays of fixed length (max length of genre list) with integer encodings of genre labels and padded with zeros\n",
    "- [ ] NOTE: currently not using this -- using numpy arrays; load dataframe into TF Dataset with columns for codes of genre labels (num_cols = max_num genre labels), length of list, gender\n",
    "    - https://www.tensorflow.org/tutorials/load_data/pandas_dataframe\n",
    "- [x] transform gender to 0,1 -- used pd.Categorical\n",
    "- [x] split into train and validation\n",
    "- [x] define model \n",
    "    - [x] embedding layer of the genrelist columns\n",
    "    - [x] dense input for the number of genrelabels\n",
    "- [x] train\n",
    "- [x] add cross validation\n",
    "    - [x] split length and list in pandas\n",
    "    - [ ] split lengthh and list using feature columns in TF\n",
    "- [ ] tune\n",
    "    - [ ] 1-cycle\n",
    "    - [ ] regularization\n",
    "    - [ ] residual connections\n",
    "\n",
    "Other versions:\n",
    "\n",
    "- [ ] following https://www.tensorflow.org/guide/keras/functional\n",
    "     - [ ] in DataFrame have variable length tuple of genre codes \n",
    "     - [ ] use an input layer with shape = (None,)\n",
    "- [ ] get keras.utils.plot_model to work\n",
    "\n",
    "\n",
    "\n",
    "May be helpful:\n",
    "\n",
    "https://www.tensorflow.org/tutorials/structured_data/feature_columns\n",
    "\n",
    "\n",
    "Later try using sparse tensors:\n"
   ]
  },
  {
   "cell_type": "markdown",
   "metadata": {},
   "source": [
    "Work flow:\n",
    "\n",
    "Create a dataset from a pandas DataFrame:\n",
    "\n",
    "https://www.tensorflow.org/tutorials/load_data/pandas_dataframe\n",
    "\n",
    "But use sparse tensors:\n",
    "\n",
    "https://www.tensorflow.org/api_docs/python/tf/sparse/SparseTensor\n",
    "\n",
    "\n",
    "First try to go directly from the dataframe with the ordinal encoding of the genre labels to a sparse matrix by extracting the index, value info. If that doesn't work:\n",
    "\n",
    "Use the scipy sparse matrix that and convert from scipy sparse matrix to tf sparse tensor:\n",
    "\n",
    "https://stackoverflow.com/questions/40896157/scipy-sparse-csr-matrix-to-tensorflow-sparsetensor-mini-batch-gradient-descent\n",
    "\n",
    "Also read:\n",
    "\n",
    "https://www.tensorflow.org/guide/data"
   ]
  },
  {
   "cell_type": "markdown",
   "metadata": {},
   "source": [
    "\n"
   ]
  },
  {
   "cell_type": "markdown",
   "metadata": {},
   "source": [
    "Import the DF of genre lists and gender:"
   ]
  },
  {
   "cell_type": "code",
   "execution_count": 4,
   "metadata": {},
   "outputs": [],
   "source": [
    "%store -r now\n",
    "now\n",
    "X_train = pd.read_csv('/Users/Daniel/Code/Genre/data/genre_lists/data_ready_for_model/wiki-kaggle_X_train_{}.csv'.format(now), index_col = ['artist'])\n",
    "y_train = pd.read_csv('/Users/Daniel/Code/Genre/data/genre_lists/data_ready_for_model/wiki-kaggle_y_train_{}.csv'.format(now), index_col = ['artist'])"
   ]
  },
  {
   "cell_type": "markdown",
   "metadata": {},
   "source": [
    "### Genre Labels -- as a list\n",
    "\n",
    "Each value of the genre column is a _string_ of comma separated genre labels using the spotify abbreviations. We want to convert it to a _list_ of strings."
   ]
  },
  {
   "cell_type": "code",
   "execution_count": 5,
   "metadata": {},
   "outputs": [],
   "source": [
    "\"\"\"This function takes in a string of the form\n",
    "appearing in the genrelist of the dataframe.\n",
    "It strips the square brackets and extra quotes and\n",
    "returns a list of strings where each string is a genre label.\"\"\"\n",
    "def genrelist(string):\n",
    "    string = string.strip(\"[\").strip(\"]\").replace(\"'\",\"\")\n",
    "    L = [s for s in string.split(',')]\n",
    "    L_new = []\n",
    "    for x in L:\n",
    "        L_new.append(x.replace(\" \",\"_\").lstrip(\"_\").rstrip(\"_\"))\n",
    "    while (str(\"\") in L_new):\n",
    "        L_new.remove(\"\")\n",
    "    return L_new"
   ]
  },
  {
   "cell_type": "markdown",
   "metadata": {},
   "source": [
    "Now we apply\n",
    "- it to the whole column and put the lists in a new column\n",
    "- assemble X,y into DF\n",
    "-reset index to 'artist_id'"
   ]
  },
  {
   "cell_type": "code",
   "execution_count": 6,
   "metadata": {},
   "outputs": [],
   "source": [
    "X_train['genrelist']= X_train['genrelist'].apply(genrelist)\n",
    "\n",
    "data = X_train.join(y_train, how = 'inner', on = 'artist')\n",
    "\n",
    "data.reset_index(inplace = True)\n",
    "data.index.name = 'artist_id'"
   ]
  },
  {
   "cell_type": "markdown",
   "metadata": {},
   "source": [
    "Full genre_list (not just that for the training set)"
   ]
  },
  {
   "cell_type": "code",
   "execution_count": 7,
   "metadata": {},
   "outputs": [],
   "source": [
    "genre_list = pd.read_csv('/Users/Daniel/Code/Genre/data/genre_lists/data_ready_for_model/genre_list_{}.csv'.format(now))\n",
    "genre_list.drop(['Unnamed: 0'], axis = 1, inplace = True)\n",
    "genre_list['genre_id'] = list(range(1,genre_list.shape[0]+1))"
   ]
  },
  {
   "cell_type": "markdown",
   "metadata": {},
   "source": [
    "Size of the vocab:"
   ]
  },
  {
   "cell_type": "code",
   "execution_count": 8,
   "metadata": {},
   "outputs": [
    {
     "data": {
      "text/plain": [
       "1494"
      ]
     },
     "execution_count": 8,
     "metadata": {},
     "output_type": "execute_result"
    }
   ],
   "source": [
    "vocab_size = genre_list.shape[0]\n",
    "vocab_size"
   ]
  },
  {
   "cell_type": "markdown",
   "metadata": {},
   "source": [
    "Create a dictionary {genre_label: genre_id}"
   ]
  },
  {
   "cell_type": "code",
   "execution_count": 9,
   "metadata": {},
   "outputs": [],
   "source": [
    "genre_list.set_index(['genre_list'], inplace = True)\n",
    "label_id_dict = genre_list['genre_id'].to_dict()"
   ]
  },
  {
   "cell_type": "markdown",
   "metadata": {},
   "source": [
    "Find max length of genre lists:"
   ]
  },
  {
   "cell_type": "code",
   "execution_count": 10,
   "metadata": {},
   "outputs": [
    {
     "data": {
      "text/plain": [
       "73"
      ]
     },
     "execution_count": 10,
     "metadata": {},
     "output_type": "execute_result"
    }
   ],
   "source": [
    "max_list_length = data.genrelist_length.max()\n",
    "max_list_length"
   ]
  },
  {
   "cell_type": "code",
   "execution_count": 11,
   "metadata": {},
   "outputs": [],
   "source": [
    "def encode_list(row):\n",
    "    return [label_id_dict[item] for item in row.genrelist]"
   ]
  },
  {
   "cell_type": "code",
   "execution_count": 12,
   "metadata": {},
   "outputs": [],
   "source": [
    "data['genres_encoded_as_list'] = data.apply(encode_list, axis = 1)"
   ]
  },
  {
   "cell_type": "markdown",
   "metadata": {},
   "source": [
    "Check that the encoding is consistent:"
   ]
  },
  {
   "cell_type": "code",
   "execution_count": 13,
   "metadata": {
    "scrolled": true
   },
   "outputs": [
    {
     "data": {
      "text/plain": [
       "([870, 465], [870, 465])"
      ]
     },
     "execution_count": 13,
     "metadata": {},
     "output_type": "execute_result"
    }
   ],
   "source": [
    "n = np.random.randint(data.shape[0])\n",
    "[label_id_dict[item] for item in data.genrelist.iloc[n]], data.genres_encoded_as_list.iloc[n]"
   ]
  },
  {
   "cell_type": "markdown",
   "metadata": {},
   "source": [
    "Encode into new columns"
   ]
  },
  {
   "cell_type": "code",
   "execution_count": 14,
   "metadata": {},
   "outputs": [],
   "source": [
    "#create columns with zeros\n",
    "for i in range(73):\n",
    "    data['label_{}'.format(i)] = np.zeros((data.shape[0]), dtype = 'int64')"
   ]
  },
  {
   "cell_type": "code",
   "execution_count": 15,
   "metadata": {},
   "outputs": [],
   "source": [
    "def encode_columns(row):\n",
    "    for i, id in enumerate(row.genres_encoded_as_list):\n",
    "        row.loc['label_{}'.format(i)] = id\n",
    "    return row"
   ]
  },
  {
   "cell_type": "code",
   "execution_count": 16,
   "metadata": {},
   "outputs": [],
   "source": [
    "data = data.apply(encode_columns, axis = 1)"
   ]
  },
  {
   "cell_type": "markdown",
   "metadata": {},
   "source": [
    "Encode targets. The categories still appear as strings. To see the encoding use df.column.cat.codes."
   ]
  },
  {
   "cell_type": "code",
   "execution_count": 17,
   "metadata": {},
   "outputs": [],
   "source": [
    "data['gender'] = data.gender.apply(lambda x: 1 if x == 'female' else 0)"
   ]
  },
  {
   "cell_type": "markdown",
   "metadata": {},
   "source": [
    "### Scale genrelist_length\n",
    "- currently use sqrt to separate low values"
   ]
  },
  {
   "cell_type": "code",
   "execution_count": 18,
   "metadata": {},
   "outputs": [
    {
     "data": {
      "text/plain": [
       "artist_id\n",
       "11822    73\n",
       "5533     45\n",
       "8669     15\n",
       "258      15\n",
       "1226     14\n",
       "         ..\n",
       "4097      1\n",
       "4101      1\n",
       "9821      1\n",
       "9819      1\n",
       "6187      1\n",
       "Name: genrelist_length, Length: 12376, dtype: int64"
      ]
     },
     "execution_count": 18,
     "metadata": {},
     "output_type": "execute_result"
    }
   ],
   "source": [
    "data.genrelist_length.sort_values(ascending = False)"
   ]
  },
  {
   "cell_type": "markdown",
   "metadata": {},
   "source": [
    "Flatten out the outliers:"
   ]
  },
  {
   "cell_type": "code",
   "execution_count": 19,
   "metadata": {},
   "outputs": [],
   "source": [
    "def smoosh(row):\n",
    "    if row.genrelist_length > 60:\n",
    "        return 16\n",
    "    if row.genrelist_length > 14:\n",
    "        return 15\n",
    "    else:\n",
    "        return row.genrelist_length"
   ]
  },
  {
   "cell_type": "code",
   "execution_count": 20,
   "metadata": {},
   "outputs": [],
   "source": [
    "data['genrelist_length'] = data.apply(smoosh, axis = 1)"
   ]
  },
  {
   "cell_type": "code",
   "execution_count": 21,
   "metadata": {},
   "outputs": [
    {
     "data": {
      "text/plain": [
       "artist_id\n",
       "11822    16\n",
       "8669     15\n",
       "5533     15\n",
       "258      15\n",
       "1226     14\n",
       "         ..\n",
       "4097      1\n",
       "4101      1\n",
       "9821      1\n",
       "9819      1\n",
       "6187      1\n",
       "Name: genrelist_length, Length: 12376, dtype: int64"
      ]
     },
     "execution_count": 21,
     "metadata": {},
     "output_type": "execute_result"
    }
   ],
   "source": [
    "data.genrelist_length.sort_values(ascending = False)"
   ]
  },
  {
   "cell_type": "code",
   "execution_count": 22,
   "metadata": {},
   "outputs": [
    {
     "data": {
      "text/plain": [
       "<matplotlib.axes._subplots.AxesSubplot at 0x145efe790>"
      ]
     },
     "execution_count": 22,
     "metadata": {},
     "output_type": "execute_result"
    },
    {
     "data": {
      "image/png": "[encoded data removed]",
      "text/plain": [
       "<Figure size 432x288 with 1 Axes>"
      ]
     },
     "metadata": {
      "needs_background": "light"
     },
     "output_type": "display_data"
    }
   ],
   "source": [
    "data.genrelist_length.hist(bins = 10)"
   ]
  },
  {
   "cell_type": "markdown",
   "metadata": {},
   "source": [
    "Nonlinear scaling seems to be helpful!"
   ]
  },
  {
   "cell_type": "code",
   "execution_count": 23,
   "metadata": {},
   "outputs": [],
   "source": [
    "data['length_scaled'] = np.power(data['genrelist_length']/data['genrelist_length'].max(), .25)"
   ]
  },
  {
   "cell_type": "code",
   "execution_count": 24,
   "metadata": {},
   "outputs": [],
   "source": [
    "data = data.drop(['artist','genrelist', 'genres_encoded_as_list', 'genrelist_length'], axis = 1)\n"
   ]
  },
  {
   "cell_type": "code",
   "execution_count": 25,
   "metadata": {},
   "outputs": [
    {
     "data": {
      "text/html": [
       "<div>\n",
       "<style scoped>\n",
       "    .dataframe tbody tr th:only-of-type {\n",
       "        vertical-align: middle;\n",
       "    }\n",
       "\n",
       "    .dataframe tbody tr th {\n",
       "        vertical-align: top;\n",
       "    }\n",
       "\n",
       "    .dataframe thead th {\n",
       "        text-align: right;\n",
       "    }\n",
       "</style>\n",
       "<table border=\"1\" class=\"dataframe\">\n",
       "  <thead>\n",
       "    <tr style=\"text-align: right;\">\n",
       "      <th></th>\n",
       "      <th>gender</th>\n",
       "      <th>label_0</th>\n",
       "      <th>label_1</th>\n",
       "      <th>label_2</th>\n",
       "      <th>label_3</th>\n",
       "      <th>label_4</th>\n",
       "      <th>label_5</th>\n",
       "      <th>label_6</th>\n",
       "      <th>label_7</th>\n",
       "      <th>label_8</th>\n",
       "      <th>...</th>\n",
       "      <th>label_64</th>\n",
       "      <th>label_65</th>\n",
       "      <th>label_66</th>\n",
       "      <th>label_67</th>\n",
       "      <th>label_68</th>\n",
       "      <th>label_69</th>\n",
       "      <th>label_70</th>\n",
       "      <th>label_71</th>\n",
       "      <th>label_72</th>\n",
       "      <th>length_scaled</th>\n",
       "    </tr>\n",
       "    <tr>\n",
       "      <th>artist_id</th>\n",
       "      <th></th>\n",
       "      <th></th>\n",
       "      <th></th>\n",
       "      <th></th>\n",
       "      <th></th>\n",
       "      <th></th>\n",
       "      <th></th>\n",
       "      <th></th>\n",
       "      <th></th>\n",
       "      <th></th>\n",
       "      <th></th>\n",
       "      <th></th>\n",
       "      <th></th>\n",
       "      <th></th>\n",
       "      <th></th>\n",
       "      <th></th>\n",
       "      <th></th>\n",
       "      <th></th>\n",
       "      <th></th>\n",
       "      <th></th>\n",
       "      <th></th>\n",
       "    </tr>\n",
       "  </thead>\n",
       "  <tbody>\n",
       "    <tr>\n",
       "      <th>0</th>\n",
       "      <td>0</td>\n",
       "      <td>1007</td>\n",
       "      <td>1431</td>\n",
       "      <td>794</td>\n",
       "      <td>0</td>\n",
       "      <td>0</td>\n",
       "      <td>0</td>\n",
       "      <td>0</td>\n",
       "      <td>0</td>\n",
       "      <td>0</td>\n",
       "      <td>...</td>\n",
       "      <td>0</td>\n",
       "      <td>0</td>\n",
       "      <td>0</td>\n",
       "      <td>0</td>\n",
       "      <td>0</td>\n",
       "      <td>0</td>\n",
       "      <td>0</td>\n",
       "      <td>0</td>\n",
       "      <td>0</td>\n",
       "      <td>0.658037</td>\n",
       "    </tr>\n",
       "    <tr>\n",
       "      <th>1</th>\n",
       "      <td>0</td>\n",
       "      <td>465</td>\n",
       "      <td>0</td>\n",
       "      <td>0</td>\n",
       "      <td>0</td>\n",
       "      <td>0</td>\n",
       "      <td>0</td>\n",
       "      <td>0</td>\n",
       "      <td>0</td>\n",
       "      <td>0</td>\n",
       "      <td>...</td>\n",
       "      <td>0</td>\n",
       "      <td>0</td>\n",
       "      <td>0</td>\n",
       "      <td>0</td>\n",
       "      <td>0</td>\n",
       "      <td>0</td>\n",
       "      <td>0</td>\n",
       "      <td>0</td>\n",
       "      <td>0</td>\n",
       "      <td>0.500000</td>\n",
       "    </tr>\n",
       "    <tr>\n",
       "      <th>2</th>\n",
       "      <td>0</td>\n",
       "      <td>1442</td>\n",
       "      <td>1357</td>\n",
       "      <td>1004</td>\n",
       "      <td>809</td>\n",
       "      <td>0</td>\n",
       "      <td>0</td>\n",
       "      <td>0</td>\n",
       "      <td>0</td>\n",
       "      <td>0</td>\n",
       "      <td>...</td>\n",
       "      <td>0</td>\n",
       "      <td>0</td>\n",
       "      <td>0</td>\n",
       "      <td>0</td>\n",
       "      <td>0</td>\n",
       "      <td>0</td>\n",
       "      <td>0</td>\n",
       "      <td>0</td>\n",
       "      <td>0</td>\n",
       "      <td>0.707107</td>\n",
       "    </tr>\n",
       "    <tr>\n",
       "      <th>3</th>\n",
       "      <td>0</td>\n",
       "      <td>1426</td>\n",
       "      <td>359</td>\n",
       "      <td>0</td>\n",
       "      <td>0</td>\n",
       "      <td>0</td>\n",
       "      <td>0</td>\n",
       "      <td>0</td>\n",
       "      <td>0</td>\n",
       "      <td>0</td>\n",
       "      <td>...</td>\n",
       "      <td>0</td>\n",
       "      <td>0</td>\n",
       "      <td>0</td>\n",
       "      <td>0</td>\n",
       "      <td>0</td>\n",
       "      <td>0</td>\n",
       "      <td>0</td>\n",
       "      <td>0</td>\n",
       "      <td>0</td>\n",
       "      <td>0.594604</td>\n",
       "    </tr>\n",
       "    <tr>\n",
       "      <th>4</th>\n",
       "      <td>0</td>\n",
       "      <td>1186</td>\n",
       "      <td>0</td>\n",
       "      <td>0</td>\n",
       "      <td>0</td>\n",
       "      <td>0</td>\n",
       "      <td>0</td>\n",
       "      <td>0</td>\n",
       "      <td>0</td>\n",
       "      <td>0</td>\n",
       "      <td>...</td>\n",
       "      <td>0</td>\n",
       "      <td>0</td>\n",
       "      <td>0</td>\n",
       "      <td>0</td>\n",
       "      <td>0</td>\n",
       "      <td>0</td>\n",
       "      <td>0</td>\n",
       "      <td>0</td>\n",
       "      <td>0</td>\n",
       "      <td>0.500000</td>\n",
       "    </tr>\n",
       "  </tbody>\n",
       "</table>\n",
       "<p>5 rows × 75 columns</p>\n",
       "</div>"
      ],
      "text/plain": [
       "           gender  label_0  label_1  label_2  label_3  label_4  label_5  \\\n",
       "artist_id                                                                 \n",
       "0               0     1007     1431      794        0        0        0   \n",
       "1               0      465        0        0        0        0        0   \n",
       "2               0     1442     1357     1004      809        0        0   \n",
       "3               0     1426      359        0        0        0        0   \n",
       "4               0     1186        0        0        0        0        0   \n",
       "\n",
       "           label_6  label_7  label_8  ...  label_64  label_65  label_66  \\\n",
       "artist_id                             ...                                 \n",
       "0                0        0        0  ...         0         0         0   \n",
       "1                0        0        0  ...         0         0         0   \n",
       "2                0        0        0  ...         0         0         0   \n",
       "3                0        0        0  ...         0         0         0   \n",
       "4                0        0        0  ...         0         0         0   \n",
       "\n",
       "           label_67  label_68  label_69  label_70  label_71  label_72  \\\n",
       "artist_id                                                               \n",
       "0                 0         0         0         0         0         0   \n",
       "1                 0         0         0         0         0         0   \n",
       "2                 0         0         0         0         0         0   \n",
       "3                 0         0         0         0         0         0   \n",
       "4                 0         0         0         0         0         0   \n",
       "\n",
       "           length_scaled  \n",
       "artist_id                 \n",
       "0               0.658037  \n",
       "1               0.500000  \n",
       "2               0.707107  \n",
       "3               0.594604  \n",
       "4               0.500000  \n",
       "\n",
       "[5 rows x 75 columns]"
      ]
     },
     "execution_count": 25,
     "metadata": {},
     "output_type": "execute_result"
    }
   ],
   "source": [
    "data.head()"
   ]
  },
  {
   "cell_type": "code",
   "execution_count": 26,
   "metadata": {},
   "outputs": [],
   "source": [
    "cols = ['gender','length_scaled']+['label_{}'.format(i) for i in range(73)]\n",
    "cols\n",
    "data = data[cols]"
   ]
  },
  {
   "cell_type": "code",
   "execution_count": 27,
   "metadata": {},
   "outputs": [
    {
     "data": {
      "text/html": [
       "<div>\n",
       "<style scoped>\n",
       "    .dataframe tbody tr th:only-of-type {\n",
       "        vertical-align: middle;\n",
       "    }\n",
       "\n",
       "    .dataframe tbody tr th {\n",
       "        vertical-align: top;\n",
       "    }\n",
       "\n",
       "    .dataframe thead th {\n",
       "        text-align: right;\n",
       "    }\n",
       "</style>\n",
       "<table border=\"1\" class=\"dataframe\">\n",
       "  <thead>\n",
       "    <tr style=\"text-align: right;\">\n",
       "      <th></th>\n",
       "      <th>gender</th>\n",
       "      <th>length_scaled</th>\n",
       "      <th>label_0</th>\n",
       "      <th>label_1</th>\n",
       "      <th>label_2</th>\n",
       "      <th>label_3</th>\n",
       "      <th>label_4</th>\n",
       "      <th>label_5</th>\n",
       "      <th>label_6</th>\n",
       "      <th>label_7</th>\n",
       "      <th>...</th>\n",
       "      <th>label_63</th>\n",
       "      <th>label_64</th>\n",
       "      <th>label_65</th>\n",
       "      <th>label_66</th>\n",
       "      <th>label_67</th>\n",
       "      <th>label_68</th>\n",
       "      <th>label_69</th>\n",
       "      <th>label_70</th>\n",
       "      <th>label_71</th>\n",
       "      <th>label_72</th>\n",
       "    </tr>\n",
       "    <tr>\n",
       "      <th>artist_id</th>\n",
       "      <th></th>\n",
       "      <th></th>\n",
       "      <th></th>\n",
       "      <th></th>\n",
       "      <th></th>\n",
       "      <th></th>\n",
       "      <th></th>\n",
       "      <th></th>\n",
       "      <th></th>\n",
       "      <th></th>\n",
       "      <th></th>\n",
       "      <th></th>\n",
       "      <th></th>\n",
       "      <th></th>\n",
       "      <th></th>\n",
       "      <th></th>\n",
       "      <th></th>\n",
       "      <th></th>\n",
       "      <th></th>\n",
       "      <th></th>\n",
       "      <th></th>\n",
       "    </tr>\n",
       "  </thead>\n",
       "  <tbody>\n",
       "    <tr>\n",
       "      <th>0</th>\n",
       "      <td>0</td>\n",
       "      <td>0.658037</td>\n",
       "      <td>1007</td>\n",
       "      <td>1431</td>\n",
       "      <td>794</td>\n",
       "      <td>0</td>\n",
       "      <td>0</td>\n",
       "      <td>0</td>\n",
       "      <td>0</td>\n",
       "      <td>0</td>\n",
       "      <td>...</td>\n",
       "      <td>0</td>\n",
       "      <td>0</td>\n",
       "      <td>0</td>\n",
       "      <td>0</td>\n",
       "      <td>0</td>\n",
       "      <td>0</td>\n",
       "      <td>0</td>\n",
       "      <td>0</td>\n",
       "      <td>0</td>\n",
       "      <td>0</td>\n",
       "    </tr>\n",
       "    <tr>\n",
       "      <th>1</th>\n",
       "      <td>0</td>\n",
       "      <td>0.500000</td>\n",
       "      <td>465</td>\n",
       "      <td>0</td>\n",
       "      <td>0</td>\n",
       "      <td>0</td>\n",
       "      <td>0</td>\n",
       "      <td>0</td>\n",
       "      <td>0</td>\n",
       "      <td>0</td>\n",
       "      <td>...</td>\n",
       "      <td>0</td>\n",
       "      <td>0</td>\n",
       "      <td>0</td>\n",
       "      <td>0</td>\n",
       "      <td>0</td>\n",
       "      <td>0</td>\n",
       "      <td>0</td>\n",
       "      <td>0</td>\n",
       "      <td>0</td>\n",
       "      <td>0</td>\n",
       "    </tr>\n",
       "    <tr>\n",
       "      <th>2</th>\n",
       "      <td>0</td>\n",
       "      <td>0.707107</td>\n",
       "      <td>1442</td>\n",
       "      <td>1357</td>\n",
       "      <td>1004</td>\n",
       "      <td>809</td>\n",
       "      <td>0</td>\n",
       "      <td>0</td>\n",
       "      <td>0</td>\n",
       "      <td>0</td>\n",
       "      <td>...</td>\n",
       "      <td>0</td>\n",
       "      <td>0</td>\n",
       "      <td>0</td>\n",
       "      <td>0</td>\n",
       "      <td>0</td>\n",
       "      <td>0</td>\n",
       "      <td>0</td>\n",
       "      <td>0</td>\n",
       "      <td>0</td>\n",
       "      <td>0</td>\n",
       "    </tr>\n",
       "    <tr>\n",
       "      <th>3</th>\n",
       "      <td>0</td>\n",
       "      <td>0.594604</td>\n",
       "      <td>1426</td>\n",
       "      <td>359</td>\n",
       "      <td>0</td>\n",
       "      <td>0</td>\n",
       "      <td>0</td>\n",
       "      <td>0</td>\n",
       "      <td>0</td>\n",
       "      <td>0</td>\n",
       "      <td>...</td>\n",
       "      <td>0</td>\n",
       "      <td>0</td>\n",
       "      <td>0</td>\n",
       "      <td>0</td>\n",
       "      <td>0</td>\n",
       "      <td>0</td>\n",
       "      <td>0</td>\n",
       "      <td>0</td>\n",
       "      <td>0</td>\n",
       "      <td>0</td>\n",
       "    </tr>\n",
       "    <tr>\n",
       "      <th>4</th>\n",
       "      <td>0</td>\n",
       "      <td>0.500000</td>\n",
       "      <td>1186</td>\n",
       "      <td>0</td>\n",
       "      <td>0</td>\n",
       "      <td>0</td>\n",
       "      <td>0</td>\n",
       "      <td>0</td>\n",
       "      <td>0</td>\n",
       "      <td>0</td>\n",
       "      <td>...</td>\n",
       "      <td>0</td>\n",
       "      <td>0</td>\n",
       "      <td>0</td>\n",
       "      <td>0</td>\n",
       "      <td>0</td>\n",
       "      <td>0</td>\n",
       "      <td>0</td>\n",
       "      <td>0</td>\n",
       "      <td>0</td>\n",
       "      <td>0</td>\n",
       "    </tr>\n",
       "  </tbody>\n",
       "</table>\n",
       "<p>5 rows × 75 columns</p>\n",
       "</div>"
      ],
      "text/plain": [
       "           gender  length_scaled  label_0  label_1  label_2  label_3  label_4  \\\n",
       "artist_id                                                                       \n",
       "0               0       0.658037     1007     1431      794        0        0   \n",
       "1               0       0.500000      465        0        0        0        0   \n",
       "2               0       0.707107     1442     1357     1004      809        0   \n",
       "3               0       0.594604     1426      359        0        0        0   \n",
       "4               0       0.500000     1186        0        0        0        0   \n",
       "\n",
       "           label_5  label_6  label_7  ...  label_63  label_64  label_65  \\\n",
       "artist_id                             ...                                 \n",
       "0                0        0        0  ...         0         0         0   \n",
       "1                0        0        0  ...         0         0         0   \n",
       "2                0        0        0  ...         0         0         0   \n",
       "3                0        0        0  ...         0         0         0   \n",
       "4                0        0        0  ...         0         0         0   \n",
       "\n",
       "           label_66  label_67  label_68  label_69  label_70  label_71  \\\n",
       "artist_id                                                               \n",
       "0                 0         0         0         0         0         0   \n",
       "1                 0         0         0         0         0         0   \n",
       "2                 0         0         0         0         0         0   \n",
       "3                 0         0         0         0         0         0   \n",
       "4                 0         0         0         0         0         0   \n",
       "\n",
       "           label_72  \n",
       "artist_id            \n",
       "0                 0  \n",
       "1                 0  \n",
       "2                 0  \n",
       "3                 0  \n",
       "4                 0  \n",
       "\n",
       "[5 rows x 75 columns]"
      ]
     },
     "execution_count": 27,
     "metadata": {},
     "output_type": "execute_result"
    }
   ],
   "source": [
    "data.head()"
   ]
  },
  {
   "cell_type": "code",
   "execution_count": 28,
   "metadata": {
    "scrolled": true
   },
   "outputs": [
    {
     "data": {
      "text/plain": [
       "((12376, 75),\n",
       " gender             int64\n",
       " length_scaled    float64\n",
       " label_0            int64\n",
       " label_1            int64\n",
       " label_2            int64\n",
       "                   ...   \n",
       " label_68           int64\n",
       " label_69           int64\n",
       " label_70           int64\n",
       " label_71           int64\n",
       " label_72           int64\n",
       " Length: 75, dtype: object)"
      ]
     },
     "execution_count": 28,
     "metadata": {},
     "output_type": "execute_result"
    }
   ],
   "source": [
    "data.shape, data.dtypes"
   ]
  },
  {
   "cell_type": "markdown",
   "metadata": {},
   "source": [
    "Shuffle the data:"
   ]
  },
  {
   "cell_type": "code",
   "execution_count": 29,
   "metadata": {},
   "outputs": [],
   "source": [
    "data = data.sample(frac = 1)"
   ]
  },
  {
   "cell_type": "code",
   "execution_count": 30,
   "metadata": {},
   "outputs": [],
   "source": [
    "data_set_size = data.shape[0]"
   ]
  },
  {
   "cell_type": "markdown",
   "metadata": {},
   "source": [
    "Now split into X,y DFs"
   ]
  },
  {
   "cell_type": "code",
   "execution_count": 31,
   "metadata": {},
   "outputs": [],
   "source": [
    "y = data.pop('gender')\n",
    "X = data.copy()"
   ]
  },
  {
   "cell_type": "code",
   "execution_count": 32,
   "metadata": {},
   "outputs": [
    {
     "data": {
      "text/html": [
       "<div>\n",
       "<style scoped>\n",
       "    .dataframe tbody tr th:only-of-type {\n",
       "        vertical-align: middle;\n",
       "    }\n",
       "\n",
       "    .dataframe tbody tr th {\n",
       "        vertical-align: top;\n",
       "    }\n",
       "\n",
       "    .dataframe thead th {\n",
       "        text-align: right;\n",
       "    }\n",
       "</style>\n",
       "<table border=\"1\" class=\"dataframe\">\n",
       "  <thead>\n",
       "    <tr style=\"text-align: right;\">\n",
       "      <th></th>\n",
       "      <th>length_scaled</th>\n",
       "      <th>label_0</th>\n",
       "      <th>label_1</th>\n",
       "      <th>label_2</th>\n",
       "      <th>label_3</th>\n",
       "      <th>label_4</th>\n",
       "      <th>label_5</th>\n",
       "      <th>label_6</th>\n",
       "      <th>label_7</th>\n",
       "      <th>label_8</th>\n",
       "      <th>...</th>\n",
       "      <th>label_63</th>\n",
       "      <th>label_64</th>\n",
       "      <th>label_65</th>\n",
       "      <th>label_66</th>\n",
       "      <th>label_67</th>\n",
       "      <th>label_68</th>\n",
       "      <th>label_69</th>\n",
       "      <th>label_70</th>\n",
       "      <th>label_71</th>\n",
       "      <th>label_72</th>\n",
       "    </tr>\n",
       "    <tr>\n",
       "      <th>artist_id</th>\n",
       "      <th></th>\n",
       "      <th></th>\n",
       "      <th></th>\n",
       "      <th></th>\n",
       "      <th></th>\n",
       "      <th></th>\n",
       "      <th></th>\n",
       "      <th></th>\n",
       "      <th></th>\n",
       "      <th></th>\n",
       "      <th></th>\n",
       "      <th></th>\n",
       "      <th></th>\n",
       "      <th></th>\n",
       "      <th></th>\n",
       "      <th></th>\n",
       "      <th></th>\n",
       "      <th></th>\n",
       "      <th></th>\n",
       "      <th></th>\n",
       "      <th></th>\n",
       "    </tr>\n",
       "  </thead>\n",
       "  <tbody>\n",
       "    <tr>\n",
       "      <th>6103</th>\n",
       "      <td>0.500000</td>\n",
       "      <td>783</td>\n",
       "      <td>0</td>\n",
       "      <td>0</td>\n",
       "      <td>0</td>\n",
       "      <td>0</td>\n",
       "      <td>0</td>\n",
       "      <td>0</td>\n",
       "      <td>0</td>\n",
       "      <td>0</td>\n",
       "      <td>...</td>\n",
       "      <td>0</td>\n",
       "      <td>0</td>\n",
       "      <td>0</td>\n",
       "      <td>0</td>\n",
       "      <td>0</td>\n",
       "      <td>0</td>\n",
       "      <td>0</td>\n",
       "      <td>0</td>\n",
       "      <td>0</td>\n",
       "      <td>0</td>\n",
       "    </tr>\n",
       "    <tr>\n",
       "      <th>7045</th>\n",
       "      <td>0.658037</td>\n",
       "      <td>1426</td>\n",
       "      <td>1007</td>\n",
       "      <td>1063</td>\n",
       "      <td>0</td>\n",
       "      <td>0</td>\n",
       "      <td>0</td>\n",
       "      <td>0</td>\n",
       "      <td>0</td>\n",
       "      <td>0</td>\n",
       "      <td>...</td>\n",
       "      <td>0</td>\n",
       "      <td>0</td>\n",
       "      <td>0</td>\n",
       "      <td>0</td>\n",
       "      <td>0</td>\n",
       "      <td>0</td>\n",
       "      <td>0</td>\n",
       "      <td>0</td>\n",
       "      <td>0</td>\n",
       "      <td>0</td>\n",
       "    </tr>\n",
       "    <tr>\n",
       "      <th>6744</th>\n",
       "      <td>0.500000</td>\n",
       "      <td>354</td>\n",
       "      <td>0</td>\n",
       "      <td>0</td>\n",
       "      <td>0</td>\n",
       "      <td>0</td>\n",
       "      <td>0</td>\n",
       "      <td>0</td>\n",
       "      <td>0</td>\n",
       "      <td>0</td>\n",
       "      <td>...</td>\n",
       "      <td>0</td>\n",
       "      <td>0</td>\n",
       "      <td>0</td>\n",
       "      <td>0</td>\n",
       "      <td>0</td>\n",
       "      <td>0</td>\n",
       "      <td>0</td>\n",
       "      <td>0</td>\n",
       "      <td>0</td>\n",
       "      <td>0</td>\n",
       "    </tr>\n",
       "    <tr>\n",
       "      <th>8536</th>\n",
       "      <td>0.594604</td>\n",
       "      <td>650</td>\n",
       "      <td>973</td>\n",
       "      <td>0</td>\n",
       "      <td>0</td>\n",
       "      <td>0</td>\n",
       "      <td>0</td>\n",
       "      <td>0</td>\n",
       "      <td>0</td>\n",
       "      <td>0</td>\n",
       "      <td>...</td>\n",
       "      <td>0</td>\n",
       "      <td>0</td>\n",
       "      <td>0</td>\n",
       "      <td>0</td>\n",
       "      <td>0</td>\n",
       "      <td>0</td>\n",
       "      <td>0</td>\n",
       "      <td>0</td>\n",
       "      <td>0</td>\n",
       "      <td>0</td>\n",
       "    </tr>\n",
       "    <tr>\n",
       "      <th>1214</th>\n",
       "      <td>0.500000</td>\n",
       "      <td>465</td>\n",
       "      <td>0</td>\n",
       "      <td>0</td>\n",
       "      <td>0</td>\n",
       "      <td>0</td>\n",
       "      <td>0</td>\n",
       "      <td>0</td>\n",
       "      <td>0</td>\n",
       "      <td>0</td>\n",
       "      <td>...</td>\n",
       "      <td>0</td>\n",
       "      <td>0</td>\n",
       "      <td>0</td>\n",
       "      <td>0</td>\n",
       "      <td>0</td>\n",
       "      <td>0</td>\n",
       "      <td>0</td>\n",
       "      <td>0</td>\n",
       "      <td>0</td>\n",
       "      <td>0</td>\n",
       "    </tr>\n",
       "  </tbody>\n",
       "</table>\n",
       "<p>5 rows × 74 columns</p>\n",
       "</div>"
      ],
      "text/plain": [
       "           length_scaled  label_0  label_1  label_2  label_3  label_4  \\\n",
       "artist_id                                                               \n",
       "6103            0.500000      783        0        0        0        0   \n",
       "7045            0.658037     1426     1007     1063        0        0   \n",
       "6744            0.500000      354        0        0        0        0   \n",
       "8536            0.594604      650      973        0        0        0   \n",
       "1214            0.500000      465        0        0        0        0   \n",
       "\n",
       "           label_5  label_6  label_7  label_8  ...  label_63  label_64  \\\n",
       "artist_id                                      ...                       \n",
       "6103             0        0        0        0  ...         0         0   \n",
       "7045             0        0        0        0  ...         0         0   \n",
       "6744             0        0        0        0  ...         0         0   \n",
       "8536             0        0        0        0  ...         0         0   \n",
       "1214             0        0        0        0  ...         0         0   \n",
       "\n",
       "           label_65  label_66  label_67  label_68  label_69  label_70  \\\n",
       "artist_id                                                               \n",
       "6103              0         0         0         0         0         0   \n",
       "7045              0         0         0         0         0         0   \n",
       "6744              0         0         0         0         0         0   \n",
       "8536              0         0         0         0         0         0   \n",
       "1214              0         0         0         0         0         0   \n",
       "\n",
       "           label_71  label_72  \n",
       "artist_id                      \n",
       "6103              0         0  \n",
       "7045              0         0  \n",
       "6744              0         0  \n",
       "8536              0         0  \n",
       "1214              0         0  \n",
       "\n",
       "[5 rows x 74 columns]"
      ]
     },
     "execution_count": 32,
     "metadata": {},
     "output_type": "execute_result"
    }
   ],
   "source": [
    "X.head()"
   ]
  },
  {
   "cell_type": "markdown",
   "metadata": {},
   "source": [
    "## Define Model"
   ]
  },
  {
   "cell_type": "code",
   "execution_count": 33,
   "metadata": {},
   "outputs": [],
   "source": [
    "# def create_model():\n",
    "#     loss_fcn = keras.losses.BinaryCrossentropy(from_logits=True)\n",
    "#     #lr = .001\n",
    "#     initial_lr = .001\n",
    "#     lr_schedule = tf.keras.optimizers.schedules.ExponentialDecay(\n",
    "#     initial_learning_rate = initial_lr,\n",
    "#     decay_steps = 4000,\n",
    "#     decay_rate = .8,\n",
    "#     staircase = True\n",
    "#     )\n",
    "#     lam = .0001\n",
    "#     #opt = tfa.optimizers.AdamW(lr = lr, weight_decay = .001)\n",
    "#     opt = tf.keras.optimizers.Adam(learning_rate = lr_schedule)\n",
    "    \n",
    "#     reg = tf.keras.regularizers.l2(lam)\n",
    "    \n",
    "#     # the list input; use vocab_size+1 since 0 is saved to indicate no label\n",
    "#     list_input = layers.Input(shape = (max_list_length,), name = 'list_input')\n",
    "#     embed = layers.Embedding(input_dim = vocab_size+1, output_dim = 500, input_length = max_list_length, name = 'list_embed')(list_input)\n",
    "#     pool = layers.GlobalAveragePooling1D()(embed)\n",
    "#     # the length input\n",
    "#     length_input = layers.Input(shape = (1,), name = 'length_input')\n",
    "#     # concatenate two inputs\n",
    "#     x = layers.concatenate([pool, length_input])\n",
    "#     # add dense layers\n",
    "#     x = layers.Dense(64, activation = 'relu')(x)\n",
    "#     x = layers.concatenate([x, length_input])\n",
    "#     x = layers.Dropout(.4)(x)\n",
    "#     # bring length input back\n",
    "#     x = layers.Dense(64, activation = 'relu')(x)\n",
    "#     x = layers.Dropout(.4)(x)\n",
    "#     x = layers.Dense(32, activation = 'relu')(x)\n",
    "#     x = layers.Dropout(.4)(x)\n",
    "#     x = layers.Dense(32, activation = 'relu')(x)\n",
    "#     pred = layers.Dense(1, name = 'predictions')(x)\n",
    "\n",
    "#     model = keras.Model(inputs = [list_input, length_input], outputs = [pred])\n",
    "    \n",
    "    \n",
    "#     model.compile(loss=loss_fcn,\n",
    "#                   optimizer=opt,\n",
    "#                   metrics=['accuracy'])\n",
    "    \n",
    "#     return model"
   ]
  },
  {
   "cell_type": "code",
   "execution_count": 34,
   "metadata": {},
   "outputs": [],
   "source": [
    "# # achieved mean acc of 76% with std 1% using 10-fold cross validation\n",
    "# def create_model():\n",
    "#     loss_fcn = keras.losses.BinaryCrossentropy(from_logits=True)\n",
    "#     lr = .0005 # was .001\n",
    "#     initial_lr = .005\n",
    "#     lr_schedule = tf.keras.optimizers.schedules.ExponentialDecay(\n",
    "#     initial_learning_rate = initial_lr,\n",
    "#     decay_steps = 4000,\n",
    "#     decay_rate = .8,\n",
    "#     staircase = True\n",
    "#     )\n",
    "#     lam = .0001\n",
    "#     #opt = tfa.optimizers.AdamW(lr = lr, weight_decay = .001)\n",
    "#     opt = tf.keras.optimizers.Adam(learning_rate = lr)\n",
    "    \n",
    "#     reg = tf.keras.regularizers.l2(lam)\n",
    "    \n",
    "#     # the list input; use vocab_size+1 since 0 is saved to indicate no label\n",
    "#     list_input = layers.Input(shape = (max_list_length,), name = 'list_input')\n",
    "#     embed = layers.Embedding(input_dim = vocab_size+1, output_dim = 125, input_length = max_list_length, name = 'list_embed')(list_input)\n",
    "#     pool = layers.GlobalAveragePooling1D()(embed)\n",
    "#     # the length input\n",
    "#     length_input = layers.Input(shape = (1,), name = 'length_input')\n",
    "#     # concatenate two inputs\n",
    "#     x = layers.concatenate([pool, length_input])\n",
    "#     # add dense layers\n",
    "#     x = layers.Dense(64, activation = 'relu')(x)\n",
    "#     x = layers.concatenate([x, length_input])\n",
    "#     x = layers.Dropout(.5)(x)\n",
    "#     # bring length input back\n",
    "#     x = layers.Dense(64, activation = 'relu')(x)\n",
    "#     x = layers.Dropout(.5)(x)\n",
    "#     x = layers.Dense(64, activation = 'relu')(x)\n",
    "#     x = layers.Dropout(.5)(x)\n",
    "#     x = layers.Dense(64, activation = 'relu')(x) \n",
    "#     pred = layers.Dense(1, name = 'predictions')(x)\n",
    "\n",
    "#     model = keras.Model(inputs = [list_input, length_input], outputs = [pred])\n",
    "    \n",
    "    \n",
    "#     model.compile(loss=loss_fcn,\n",
    "#                   optimizer=opt,\n",
    "#                   metrics=['accuracy'])\n",
    "    \n",
    "#     return model"
   ]
  },
  {
   "cell_type": "code",
   "execution_count": 35,
   "metadata": {},
   "outputs": [],
   "source": [
    "# to fiddle with\n",
    "def create_model():\n",
    "    loss_fcn = keras.losses.BinaryCrossentropy(from_logits=True)\n",
    "    lr = .0005 # was .001\n",
    "    initial_lr = .005\n",
    "    lr_schedule = tf.keras.optimizers.schedules.ExponentialDecay(\n",
    "    initial_learning_rate = initial_lr,\n",
    "    decay_steps = 4000,\n",
    "    decay_rate = .8,\n",
    "    staircase = True\n",
    "    )\n",
    "    lam = .0001\n",
    "    #opt = tfa.optimizers.AdamW(lr = lr, weight_decay = .001)\n",
    "    opt = tf.keras.optimizers.Adam(learning_rate = lr)\n",
    "    \n",
    "    reg = tf.keras.regularizers.l2(lam)\n",
    "    \n",
    "    # the list input; use vocab_size+1 since 0 is saved to indicate no label\n",
    "    list_input = layers.Input(shape = (max_list_length,), name = 'list_input')\n",
    "    embed = layers.Embedding(input_dim = vocab_size+1, output_dim = 125, input_length = max_list_length, name = 'list_embed')(list_input)\n",
    "    pool = layers.GlobalAveragePooling1D()(embed)\n",
    "    # the length input\n",
    "    length_input = layers.Input(shape = (1,), name = 'length_input')\n",
    "    # concatenate two inputs\n",
    "    x = layers.concatenate([pool, length_input])\n",
    "    # add dense layers\n",
    "    x = layers.Dense(64, activation = 'relu')(x)\n",
    "    x = layers.concatenate([x, length_input])\n",
    "    x = layers.Dropout(.5)(x)\n",
    "    # bring length input back\n",
    "    x = layers.Dense(64, activation = 'relu')(x)\n",
    "    x = layers.Dropout(.5)(x)\n",
    "    x = layers.Dense(64, activation = 'relu')(x)\n",
    "    x = layers.Dropout(.5)(x)\n",
    "    x = layers.Dense(64, activation = 'relu')(x) # was 32\n",
    "    pred = layers.Dense(1, name = 'predictions')(x)\n",
    "\n",
    "    model = keras.Model(inputs = [list_input, length_input], outputs = [pred])\n",
    "    \n",
    "    \n",
    "    model.compile(loss=loss_fcn,\n",
    "                  optimizer=opt,\n",
    "                  metrics=['accuracy'])\n",
    "    \n",
    "    return model"
   ]
  },
  {
   "cell_type": "code",
   "execution_count": 36,
   "metadata": {
    "colab": {
     "base_uri": "https://localhost:8080/",
     "height": 422
    },
    "colab_type": "code",
    "executionInfo": {
     "elapsed": 2786,
     "status": "ok",
     "timestamp": 1585050056375,
     "user": {
      "displayName": "Daniel Fox",
      "photoUrl": "https://lh3.googleusercontent.com/a-/AOh14Giqfpm78_uU2W4ZVmP0rg5Bj14LXitAso2f15kUZA=s64",
      "userId": "16990695805219786470"
     },
     "user_tz": 240
    },
    "id": "4lGY7_a2tvfT",
    "outputId": "28154778-3110-41b4-bb5d-9ec96c111bc9"
   },
   "outputs": [],
   "source": [
    "# need to install pydot (pip) and graphviz (conda)\n",
    "#keras.utils.plot_model(model, 'dnn_0_model_graph.png', show_shapes = True)"
   ]
  },
  {
   "cell_type": "code",
   "execution_count": 37,
   "metadata": {},
   "outputs": [],
   "source": [
    "#model.summary()"
   ]
  },
  {
   "cell_type": "markdown",
   "metadata": {},
   "source": [
    "### Train Model"
   ]
  },
  {
   "cell_type": "code",
   "execution_count": 38,
   "metadata": {},
   "outputs": [
    {
     "name": "stdout",
     "output_type": "stream",
     "text": [
      "Epoch 1/5\n",
      "155/155 [==============================] - 1s 7ms/step - loss: 0.6401 - accuracy: 0.6916 - val_loss: 0.6280 - val_accuracy: 0.6785\n",
      "Epoch 2/5\n",
      "155/155 [==============================] - 1s 6ms/step - loss: 0.6215 - accuracy: 0.6918 - val_loss: 0.6259 - val_accuracy: 0.6785\n",
      "Epoch 3/5\n",
      "155/155 [==============================] - 1s 5ms/step - loss: 0.6189 - accuracy: 0.6918 - val_loss: 0.6242 - val_accuracy: 0.6785\n",
      "Epoch 4/5\n",
      "155/155 [==============================] - 1s 5ms/step - loss: 0.6144 - accuracy: 0.6918 - val_loss: 0.6138 - val_accuracy: 0.6785\n",
      "Epoch 5/5\n",
      "155/155 [==============================] - 1s 6ms/step - loss: 0.5903 - accuracy: 0.6918 - val_loss: 0.5644 - val_accuracy: 0.6785\n"
     ]
    }
   ],
   "source": [
    "X_values = X.values\n",
    "y_values = y.values\n",
    "\n",
    "X_0_train = X_values[:,0:1]\n",
    "X_1_train = X_values[:,1:74]\n",
    "y_train = np.asarray(y_values)\n",
    "\n",
    "model = create_model()\n",
    "\n",
    "history = model.fit({'list_input':X_1_train, 'length_input':X_0_train},\n",
    "                    {'predictions':y_train},\n",
    "                    batch_size=64,\n",
    "                    epochs=5,\n",
    "                    validation_split = .2,\n",
    "                    verbose = 1\n",
    "                    )"
   ]
  },
  {
   "cell_type": "code",
   "execution_count": 39,
   "metadata": {},
   "outputs": [
    {
     "data": {
      "image/png": "[encoded data removed]",
      "text/plain": [
       "<Figure size 1440x720 with 2 Axes>"
      ]
     },
     "metadata": {
      "needs_background": "light"
     },
     "output_type": "display_data"
    }
   ],
   "source": [
    "fig, axs = plt.subplots(1,2, figsize = (20,10))\n",
    "\n",
    "axs[0].plot(history.history['accuracy'], label = 'Training Accuracy')\n",
    "axs[0].plot(history.history['val_accuracy'], label = 'Validation Accuracy')\n",
    "\n",
    "axs[1].plot(history.history['loss'], label = 'Training Loss')\n",
    "axs[1].plot(history.history['val_loss'], label = 'Validation Loss')\n",
    "\n",
    "#plt.hlines(0.69,0,len(history.history['accuracy']), label = 'Random Baseline')\n",
    "#plt.ylim(0,.1)\n",
    "axs[0].legend()\n",
    "axs[1].legend()\n",
    "\n",
    "plt.show()\n",
    "#print(min(history.history['accuracy']))"
   ]
  },
  {
   "cell_type": "markdown",
   "metadata": {},
   "source": [
    "Train with cross validation:"
   ]
  },
  {
   "cell_type": "code",
   "execution_count": 103,
   "metadata": {},
   "outputs": [
    {
     "name": "stdout",
     "output_type": "stream",
     "text": [
      "Accuracy = 0.7580355405807495.\n",
      "Accuracy = 0.7590231895446777.\n",
      "Accuracy = 0.757317304611206.\n",
      "Accuracy = 0.7772490382194519.\n",
      "Accuracy = 0.757586658000946.\n",
      "Accuracy = 0.7738373279571533.\n",
      "Accuracy = 0.7435137629508972.\n",
      "Accuracy = 0.7475536465644836.\n",
      "Accuracy = 0.7737678289413452.\n",
      "Accuracy = 0.7674835920333862.\n",
      "Mean Accuracy is 0.7615 and STD of Accuracy is 0.0107\n"
     ]
    }
   ],
   "source": [
    "kf = KFold(n_splits = 10, shuffle = True, random_state = seed)\n",
    "\n",
    "cvscores_acc = []\n",
    "\n",
    "X_values = X.values\n",
    "y_values = y.values\n",
    "\n",
    "for train, test in kf.split(X_values,y_values):\n",
    "    \n",
    "    X_0_train = X_values[train,0:1]\n",
    "    X_1_train = X_values[train,1:74]\n",
    "    y_train = np.asarray(y_values[train])\n",
    "    \n",
    "    #print(X_0_train.shape, X_1_train.shape, y_train.shape)\n",
    "    \n",
    "    model = create_model()\n",
    "    \n",
    "#     dataset_length_train = tf.data.Dataset.from_tensor_slices((X_0_train, y_train)) \n",
    "#     dataset_list_train = tf.data.Dataset.from_tensor_slices((X_1_train, y_train)) \n",
    "    \n",
    "    history = model.fit({'list_input':X_1_train, 'length_input':X_0_train},\n",
    "                    {'predictions':y_train},\n",
    "                    batch_size=16,\n",
    "                    epochs=33,\n",
    "                    verbose = 0 \n",
    "                    )\n",
    "    \n",
    "    \n",
    "    X_0_test = X_values[test,0:1]\n",
    "    X_1_test = X_values[test,1:73]\n",
    "    y_test = y_values[test]\n",
    "    \n",
    "#     dataset_length_test = tf.data.Dataset.from_tensor_slices((X_0_test, y_test)) \n",
    "#     dataset_list_test = tf.data.Dataset.from_tensor_slices((X_1_test, y_test)) \n",
    "    \n",
    "    scores = model.evaluate(\n",
    "                    {'list_input':X_1_train, 'length_input':X_0_train},\n",
    "                    {'predictions':y_train},\n",
    "                    verbose = 0)\n",
    "    \n",
    "    print(f'Accuracy = {scores[1]}.')\n",
    "    cvscores_acc.append(scores[1])\n",
    "    \n",
    "\n",
    "print(f'Mean Accuracy is {np.mean(cvscores_acc):.4f} and STD of Accuracy is {np.std(cvscores_acc):.4f}')"
   ]
  },
  {
   "cell_type": "code",
   "execution_count": null,
   "metadata": {},
   "outputs": [],
   "source": []
  },
  {
   "cell_type": "markdown",
   "metadata": {},
   "source": [
    "Ignore for now: Another possibility: Create TF Dataset using the corpus from gensim as a generator: Another possibility: Create TF Dataset using the corpus from gensim as a generator:"
   ]
  },
  {
   "cell_type": "code",
   "execution_count": null,
   "metadata": {},
   "outputs": [],
   "source": [
    "def corpus_gen():\n",
    "    for i in len(corpus):\n",
    "        yield (i, corpus[i])"
   ]
  },
  {
   "cell_type": "code",
   "execution_count": null,
   "metadata": {},
   "outputs": [],
   "source": [
    "dataset = tf.data.Dataset.from_generator(\n",
    "    corpus_gen,\n",
    "    (tf.int64, --tensor_one_hot--)\n",
    ")"
   ]
  }
 ],
 "metadata": {
  "kernelspec": {
   "display_name": "tf_genre",
   "language": "python",
   "name": "tf_genre"
  },
  "language_info": {
   "codemirror_mode": {
    "name": "ipython",
    "version": 3
   },
   "file_extension": ".py",
   "mimetype": "text/x-python",
   "name": "python",
   "nbconvert_exporter": "python",
   "pygments_lexer": "ipython3",
   "version": "3.8.3"
  }
 },
 "nbformat": 4,
 "nbformat_minor": 4
}
