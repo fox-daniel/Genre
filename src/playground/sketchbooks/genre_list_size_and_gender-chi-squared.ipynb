{
 "cells": [
  {
   "cell_type": "markdown",
   "metadata": {},
   "source": [
    "This notebook examines how genre list length correlates with gender. It creates visualizations of how gender varies with genre list length and uses a chi-square test to show that the variation is extremely unlikely if there were not a correlation (bias) between genre list length and bias.\n",
    "\n",
    "For each bin (either an integer or a range of integers), calculate\n",
    "$$\\frac{\\text{actual # of male artists in bin}}{\\text{expected # of male artists in bin}}$$\n",
    "where the expected number of male artists in a bin is ${\\% \\text{male in total sample} \\cdot \\text{total in bin}}$. \n",
    "\n",
    "Other approaches:\n",
    "\n",
    "The list length counts by gender find that in the 11+ range the expected of male to female is 1. However, there are no female artists with > 11 labels. The statistics don't capture the fact that male artists have features that are not available to female artists. By switching to 12+ the inability to carry out the calculation (divide by zero) is informative. \n",
    "\n",
    "The data for lists of length > 6 needs to be dealt with carefully. It is exactly at that point that the statistical significant comes into doubt. First, using 10-fold CV to estimate the ratios there is often a zero value which makes the ratio undefined. Second, when filtering the data to only include, e.g. lengths > 5, then the mean of the error and std of the error indicate that there is not a clear effect."
   ]
  },
  {
   "cell_type": "code",
   "execution_count": 1,
   "metadata": {
    "scrolled": true
   },
   "outputs": [],
   "source": [
    "import importlib.util\n",
    "spec1 = importlib.util.spec_from_file_location(\"genre_data_loader\", \"/Users/Daniel/Code/Genre/src/genre_scripts/genre_data_loader.py\")\n",
    "\n",
    "genre_data_loader = importlib.util.module_from_spec(spec1)\n",
    "spec1.loader.exec_module(genre_data_loader)\n",
    "#LoadGenreData = genre_data_loader.LoadGenreData\n",
    "\n",
    "# import genre_scripts.genre_data_loader as genre_data_loader\n",
    "\n",
    "import numpy as np\n",
    "import pandas as pd\n",
    "from scipy.stats import chisquare\n",
    "import matplotlib.pyplot as plt\n",
    "import seaborn as sns; sns.set()\n",
    "seed = 23\n",
    "%matplotlib inline\n",
    "import re\n",
    "from functools import partial\n",
    "import plotly.graph_objects as go"
   ]
  },
  {
   "cell_type": "markdown",
   "metadata": {},
   "source": [
    "Import the cleaned data:"
   ]
  },
  {
   "cell_type": "code",
   "execution_count": 2,
   "metadata": {
    "scrolled": true
   },
   "outputs": [
    {
     "data": {
      "text/plain": [
       "'2020-07-07-09-58'"
      ]
     },
     "execution_count": 2,
     "metadata": {},
     "output_type": "execute_result"
    }
   ],
   "source": [
    "%store -r now\n",
    "now"
   ]
  },
  {
   "cell_type": "code",
   "execution_count": 3,
   "metadata": {},
   "outputs": [],
   "source": [
    "# get currrent date for latest version of data set\n",
    "%store -r now\n",
    "\n",
    "X_path_train = '/Users/Daniel/Code/Genre/data/genre_lists/data_ready_for_model/wiki-kaggle_X_train_{}.csv'.format(now)\n",
    "y_path_train = '/Users/Daniel/Code/Genre/data/genre_lists/data_ready_for_model/wiki-kaggle_y_train_{}.csv'.format(now)\n",
    "X_path_test = '/Users/Daniel/Code/Genre/data/genre_lists/data_ready_for_model/wiki-kaggle_X_test_{}.csv'.format(now)\n",
    "y_path_test = '/Users/Daniel/Code/Genre/data/genre_lists/data_ready_for_model/wiki-kaggle_y_test_{}.csv'.format(now)"
   ]
  },
  {
   "cell_type": "code",
   "execution_count": 4,
   "metadata": {},
   "outputs": [],
   "source": [
    "# call data loader script\n",
    "genre_data = genre_data_loader.LoadGenreData(now, X_path_train = X_path_train, y_path_train = y_path_train, \n",
    "                                             X_path_test = X_path_test, y_path_test = y_path_test)"
   ]
  },
  {
   "cell_type": "code",
   "execution_count": 5,
   "metadata": {},
   "outputs": [],
   "source": [
    "# load data with genre sets\n",
    "data = genre_data.as_sets()\n",
    "# create list of all genres\n",
    "list_of_genres = genre_data.get_list_of_genres()"
   ]
  },
  {
   "cell_type": "markdown",
   "metadata": {},
   "source": [
    "### Import the labels from the whole data set:"
   ]
  },
  {
   "cell_type": "code",
   "execution_count": 6,
   "metadata": {},
   "outputs": [],
   "source": [
    "genrelist = genre_data.get_list_of_genres()"
   ]
  },
  {
   "cell_type": "markdown",
   "metadata": {},
   "source": [
    "Get numbers of male and female:"
   ]
  },
  {
   "cell_type": "code",
   "execution_count": 7,
   "metadata": {},
   "outputs": [],
   "source": [
    "gender_counts = data.gender.value_counts()\n",
    "mal = gender_counts['male']\n",
    "fem = gender_counts['female']"
   ]
  },
  {
   "cell_type": "markdown",
   "metadata": {},
   "source": [
    "Get percentages of male and female:"
   ]
  },
  {
   "cell_type": "code",
   "execution_count": 8,
   "metadata": {},
   "outputs": [],
   "source": [
    "percent_fem = genre_data.get_percent_female()\n",
    "percent_mal = genre_data.get_percent_male()"
   ]
  },
  {
   "cell_type": "code",
   "execution_count": 9,
   "metadata": {},
   "outputs": [
    {
     "data": {
      "text/plain": [
       "(0.3138332255979315, 0.6861667744020685)"
      ]
     },
     "execution_count": 9,
     "metadata": {},
     "output_type": "execute_result"
    }
   ],
   "source": [
    "percent_fem, percent_mal"
   ]
  },
  {
   "cell_type": "code",
   "execution_count": 10,
   "metadata": {
    "scrolled": true
   },
   "outputs": [
    {
     "data": {
      "text/plain": [
       "(15470, 3)"
      ]
     },
     "execution_count": 10,
     "metadata": {},
     "output_type": "execute_result"
    }
   ],
   "source": [
    "data.shape"
   ]
  },
  {
   "cell_type": "code",
   "execution_count": 11,
   "metadata": {
    "scrolled": true
   },
   "outputs": [
    {
     "data": {
      "text/html": [
       "<div>\n",
       "<style scoped>\n",
       "    .dataframe tbody tr th:only-of-type {\n",
       "        vertical-align: middle;\n",
       "    }\n",
       "\n",
       "    .dataframe tbody tr th {\n",
       "        vertical-align: top;\n",
       "    }\n",
       "\n",
       "    .dataframe thead th {\n",
       "        text-align: right;\n",
       "    }\n",
       "</style>\n",
       "<table border=\"1\" class=\"dataframe\">\n",
       "  <thead>\n",
       "    <tr style=\"text-align: right;\">\n",
       "      <th></th>\n",
       "      <th>genrelist_length</th>\n",
       "      <th>gender</th>\n",
       "      <th>genre_set</th>\n",
       "    </tr>\n",
       "    <tr>\n",
       "      <th>artist</th>\n",
       "      <th></th>\n",
       "      <th></th>\n",
       "      <th></th>\n",
       "    </tr>\n",
       "  </thead>\n",
       "  <tbody>\n",
       "    <tr>\n",
       "      <th>Pablo_Holman</th>\n",
       "      <td>3</td>\n",
       "      <td>male</td>\n",
       "      <td>{emo_pop, pop, rock}</td>\n",
       "    </tr>\n",
       "    <tr>\n",
       "      <th>Bobby_Edwards</th>\n",
       "      <td>1</td>\n",
       "      <td>male</td>\n",
       "      <td>{country}</td>\n",
       "    </tr>\n",
       "    <tr>\n",
       "      <th>La_Palabra</th>\n",
       "      <td>4</td>\n",
       "      <td>male</td>\n",
       "      <td>{son_montuno, afro_cuban_jazz, salsa_romántica...</td>\n",
       "    </tr>\n",
       "    <tr>\n",
       "      <th>Sherrick</th>\n",
       "      <td>2</td>\n",
       "      <td>male</td>\n",
       "      <td>{soul, r_and_b}</td>\n",
       "    </tr>\n",
       "    <tr>\n",
       "      <th>Allen_Collins</th>\n",
       "      <td>1</td>\n",
       "      <td>male</td>\n",
       "      <td>{southern_rock}</td>\n",
       "    </tr>\n",
       "  </tbody>\n",
       "</table>\n",
       "</div>"
      ],
      "text/plain": [
       "               genrelist_length gender  \\\n",
       "artist                                   \n",
       "Pablo_Holman                  3   male   \n",
       "Bobby_Edwards                 1   male   \n",
       "La_Palabra                    4   male   \n",
       "Sherrick                      2   male   \n",
       "Allen_Collins                 1   male   \n",
       "\n",
       "                                                       genre_set  \n",
       "artist                                                            \n",
       "Pablo_Holman                                {emo_pop, pop, rock}  \n",
       "Bobby_Edwards                                          {country}  \n",
       "La_Palabra     {son_montuno, afro_cuban_jazz, salsa_romántica...  \n",
       "Sherrick                                         {soul, r_and_b}  \n",
       "Allen_Collins                                    {southern_rock}  "
      ]
     },
     "execution_count": 11,
     "metadata": {},
     "output_type": "execute_result"
    }
   ],
   "source": [
    "data.head()"
   ]
  },
  {
   "cell_type": "code",
   "execution_count": 12,
   "metadata": {
    "scrolled": true
   },
   "outputs": [
    {
     "data": {
      "text/plain": [
       "((15470, 3),\n",
       " genrelist_length    0\n",
       " gender              0\n",
       " genre_set           0\n",
       " dtype: int64)"
      ]
     },
     "execution_count": 12,
     "metadata": {},
     "output_type": "execute_result"
    }
   ],
   "source": [
    "data.shape, data.isnull().sum()"
   ]
  },
  {
   "cell_type": "code",
   "execution_count": 13,
   "metadata": {
    "scrolled": true
   },
   "outputs": [
    {
     "name": "stdout",
     "output_type": "stream",
     "text": [
      "15470 total artists\n",
      "There are 1491 unique genre labels.\n",
      "4855 female artists, or 31%\n",
      "10615 male artists, or 69%\n"
     ]
    }
   ],
   "source": [
    "tot = data.shape[0]\n",
    "print('{} total artists'.format(tot))\n",
    "print('There are {} unique genre labels.'.format(len(genrelist)))\n",
    "print('{} female artists, or {:0.0f}%'.format(fem, 100*fem/(fem+mal)))\n",
    "print('{} male artists, or {:0.0f}%'.format(mal, 100*mal/(fem+mal)))"
   ]
  },
  {
   "cell_type": "markdown",
   "metadata": {},
   "source": [
    "### This function creates a DF with the frequencies of the lengths of lists by gender for a df of the type of \"data\" above. It is used in the bin_cv_est function below."
   ]
  },
  {
   "cell_type": "code",
   "execution_count": 14,
   "metadata": {
    "scrolled": true
   },
   "outputs": [],
   "source": [
    "def create_length_counts_by_gender(df):\n",
    "    \"\"\"\n",
    "    Input: df = genre data for artists:\n",
    "        columns: 'genrelist_length','gender'\n",
    "        index: 'artist'\n",
    "    \n",
    "    Output: dataframe with counts by gender and total for each \n",
    "        length of genre list in the dataset\n",
    "    \n",
    "    Use: called to calculate chi-squared test for bias\n",
    "    \"\"\"\n",
    "    \n",
    "    df = df.copy(deep = True)\n",
    "    \n",
    "    # length counts by gender\n",
    "    df = df.groupby(['genrelist_length','gender']).count()\n",
    "    df.columns = ['artist_count']\n",
    "\n",
    "    df.reset_index(inplace = True)\n",
    "    df.set_index(['genrelist_length'], inplace = True)\n",
    "    df.index.name = 'genre list length'\n",
    "    df = df.pivot(columns = 'gender')\n",
    "    \n",
    "    #flatten index and replace with single strings\n",
    "    df.columns = df.columns.to_flat_index()\n",
    "    df.columns = [f'{name[1]} '+f'{name[0]}'.replace(\"_\",\" \") for name in df.columns]\n",
    "    df.fillna(value = 0, inplace = True)\n",
    "    #create total count\n",
    "    df['total'] = df[df.columns[0]]+df[df.columns[1]]\n",
    "    df = df.astype('int32')\n",
    "    \n",
    "    return df"
   ]
  },
  {
   "cell_type": "code",
   "execution_count": 15,
   "metadata": {
    "scrolled": true
   },
   "outputs": [],
   "source": [
    "### This function creates a DF with the frequencies of the lengths of lists by gender for a df of the type of \"data\" above. It is used in the bin_cv_est function below.\n",
    "\n",
    "def create_length_counts_by_gender(df):\n",
    "    \"\"\"\n",
    "    Input: df = genre data for artists:\n",
    "        columns: 'genrelist_length','gender'\n",
    "        index: 'artist'\n",
    "    \n",
    "    Output: dataframe with counts by gender and total for each \n",
    "        length of genre list in the dataset\n",
    "    \n",
    "    Use: called by bin_bias to calculate gender bias in two bins,\n",
    "    small (<6) and large (>5) genre list lengths\n",
    "    \"\"\"\n",
    "    \n",
    "    df = df.copy(deep = True)\n",
    "    \n",
    "    # length counts by gender\n",
    "    df = df.groupby(['genrelist_length','gender']).count()\n",
    "    df.columns = ['artist_count']\n",
    "\n",
    "    df.reset_index(inplace = True)\n",
    "    df.set_index(['genrelist_length'], inplace = True)\n",
    "    df.index.name = 'genre list length'\n",
    "    df = df.pivot(columns = 'gender')\n",
    "    \n",
    "    #flatten index and replace with single strings\n",
    "    df.columns = df.columns.to_flat_index()\n",
    "    df.columns = [f'{name[1]} '+f'{name[0]}'.replace(\"_\",\" \") for name in df.columns]\n",
    "    df.fillna(value = 0, inplace = True)\n",
    "    #create total count\n",
    "    df['total'] = df[df.columns[0]]+df[df.columns[1]]\n",
    "    df = df.astype('int32')\n",
    "    \n",
    "    return df"
   ]
  },
  {
   "cell_type": "code",
   "execution_count": 16,
   "metadata": {},
   "outputs": [],
   "source": [
    "lcbg = create_length_counts_by_gender(data)"
   ]
  },
  {
   "cell_type": "code",
   "execution_count": 17,
   "metadata": {},
   "outputs": [
    {
     "data": {
      "text/html": [
       "<div>\n",
       "<style scoped>\n",
       "    .dataframe tbody tr th:only-of-type {\n",
       "        vertical-align: middle;\n",
       "    }\n",
       "\n",
       "    .dataframe tbody tr th {\n",
       "        vertical-align: top;\n",
       "    }\n",
       "\n",
       "    .dataframe thead th {\n",
       "        text-align: right;\n",
       "    }\n",
       "</style>\n",
       "<table border=\"1\" class=\"dataframe\">\n",
       "  <thead>\n",
       "    <tr style=\"text-align: right;\">\n",
       "      <th></th>\n",
       "      <th>female artist count</th>\n",
       "      <th>male artist count</th>\n",
       "      <th>total</th>\n",
       "    </tr>\n",
       "    <tr>\n",
       "      <th>genre list length</th>\n",
       "      <th></th>\n",
       "      <th></th>\n",
       "      <th></th>\n",
       "    </tr>\n",
       "  </thead>\n",
       "  <tbody>\n",
       "    <tr>\n",
       "      <th>1</th>\n",
       "      <td>1306</td>\n",
       "      <td>3149</td>\n",
       "      <td>4455</td>\n",
       "    </tr>\n",
       "    <tr>\n",
       "      <th>2</th>\n",
       "      <td>1299</td>\n",
       "      <td>2521</td>\n",
       "      <td>3820</td>\n",
       "    </tr>\n",
       "    <tr>\n",
       "      <th>3</th>\n",
       "      <td>1072</td>\n",
       "      <td>2043</td>\n",
       "      <td>3115</td>\n",
       "    </tr>\n",
       "    <tr>\n",
       "      <th>4</th>\n",
       "      <td>629</td>\n",
       "      <td>1367</td>\n",
       "      <td>1996</td>\n",
       "    </tr>\n",
       "    <tr>\n",
       "      <th>5</th>\n",
       "      <td>305</td>\n",
       "      <td>755</td>\n",
       "      <td>1060</td>\n",
       "    </tr>\n",
       "    <tr>\n",
       "      <th>6</th>\n",
       "      <td>155</td>\n",
       "      <td>410</td>\n",
       "      <td>565</td>\n",
       "    </tr>\n",
       "    <tr>\n",
       "      <th>7</th>\n",
       "      <td>49</td>\n",
       "      <td>189</td>\n",
       "      <td>238</td>\n",
       "    </tr>\n",
       "    <tr>\n",
       "      <th>8</th>\n",
       "      <td>20</td>\n",
       "      <td>99</td>\n",
       "      <td>119</td>\n",
       "    </tr>\n",
       "    <tr>\n",
       "      <th>9</th>\n",
       "      <td>10</td>\n",
       "      <td>39</td>\n",
       "      <td>49</td>\n",
       "    </tr>\n",
       "    <tr>\n",
       "      <th>10</th>\n",
       "      <td>3</td>\n",
       "      <td>18</td>\n",
       "      <td>21</td>\n",
       "    </tr>\n",
       "    <tr>\n",
       "      <th>11</th>\n",
       "      <td>7</td>\n",
       "      <td>6</td>\n",
       "      <td>13</td>\n",
       "    </tr>\n",
       "    <tr>\n",
       "      <th>12</th>\n",
       "      <td>0</td>\n",
       "      <td>8</td>\n",
       "      <td>8</td>\n",
       "    </tr>\n",
       "    <tr>\n",
       "      <th>13</th>\n",
       "      <td>0</td>\n",
       "      <td>5</td>\n",
       "      <td>5</td>\n",
       "    </tr>\n",
       "    <tr>\n",
       "      <th>14</th>\n",
       "      <td>0</td>\n",
       "      <td>1</td>\n",
       "      <td>1</td>\n",
       "    </tr>\n",
       "    <tr>\n",
       "      <th>15</th>\n",
       "      <td>0</td>\n",
       "      <td>3</td>\n",
       "      <td>3</td>\n",
       "    </tr>\n",
       "    <tr>\n",
       "      <th>45</th>\n",
       "      <td>0</td>\n",
       "      <td>1</td>\n",
       "      <td>1</td>\n",
       "    </tr>\n",
       "    <tr>\n",
       "      <th>73</th>\n",
       "      <td>0</td>\n",
       "      <td>1</td>\n",
       "      <td>1</td>\n",
       "    </tr>\n",
       "  </tbody>\n",
       "</table>\n",
       "</div>"
      ],
      "text/plain": [
       "                   female artist count  male artist count  total\n",
       "genre list length                                               \n",
       "1                                 1306               3149   4455\n",
       "2                                 1299               2521   3820\n",
       "3                                 1072               2043   3115\n",
       "4                                  629               1367   1996\n",
       "5                                  305                755   1060\n",
       "6                                  155                410    565\n",
       "7                                   49                189    238\n",
       "8                                   20                 99    119\n",
       "9                                   10                 39     49\n",
       "10                                   3                 18     21\n",
       "11                                   7                  6     13\n",
       "12                                   0                  8      8\n",
       "13                                   0                  5      5\n",
       "14                                   0                  1      1\n",
       "15                                   0                  3      3\n",
       "45                                   0                  1      1\n",
       "73                                   0                  1      1"
      ]
     },
     "execution_count": 17,
     "metadata": {},
     "output_type": "execute_result"
    }
   ],
   "source": [
    "lcbg"
   ]
  },
  {
   "cell_type": "code",
   "execution_count": 18,
   "metadata": {},
   "outputs": [],
   "source": [
    "# bin 11+\n",
    "lcbg.loc['11+'] = lcbg.loc[11:].sum()\n",
    "inds = [*range(1,11),'11+']\n",
    "lcbg = lcbg.loc[inds]\n",
    "# expected values\n",
    "lcbg['female artist expected'] = np.ceil(lcbg['total']*percent_fem).astype(int)\n",
    "lcbg['male artist expected'] = np.floor(lcbg['total']*percent_mal).astype(int)"
   ]
  },
  {
   "cell_type": "code",
   "execution_count": 19,
   "metadata": {},
   "outputs": [
    {
     "data": {
      "text/html": [
       "<div>\n",
       "<style scoped>\n",
       "    .dataframe tbody tr th:only-of-type {\n",
       "        vertical-align: middle;\n",
       "    }\n",
       "\n",
       "    .dataframe tbody tr th {\n",
       "        vertical-align: top;\n",
       "    }\n",
       "\n",
       "    .dataframe thead th {\n",
       "        text-align: right;\n",
       "    }\n",
       "</style>\n",
       "<table border=\"1\" class=\"dataframe\">\n",
       "  <thead>\n",
       "    <tr style=\"text-align: right;\">\n",
       "      <th></th>\n",
       "      <th>female artist count</th>\n",
       "      <th>male artist count</th>\n",
       "      <th>total</th>\n",
       "      <th>female artist expected</th>\n",
       "      <th>male artist expected</th>\n",
       "    </tr>\n",
       "    <tr>\n",
       "      <th>genre list length</th>\n",
       "      <th></th>\n",
       "      <th></th>\n",
       "      <th></th>\n",
       "      <th></th>\n",
       "      <th></th>\n",
       "    </tr>\n",
       "  </thead>\n",
       "  <tbody>\n",
       "    <tr>\n",
       "      <th>1</th>\n",
       "      <td>1306</td>\n",
       "      <td>3149</td>\n",
       "      <td>4455</td>\n",
       "      <td>1399</td>\n",
       "      <td>3056</td>\n",
       "    </tr>\n",
       "    <tr>\n",
       "      <th>2</th>\n",
       "      <td>1299</td>\n",
       "      <td>2521</td>\n",
       "      <td>3820</td>\n",
       "      <td>1199</td>\n",
       "      <td>2621</td>\n",
       "    </tr>\n",
       "    <tr>\n",
       "      <th>3</th>\n",
       "      <td>1072</td>\n",
       "      <td>2043</td>\n",
       "      <td>3115</td>\n",
       "      <td>978</td>\n",
       "      <td>2137</td>\n",
       "    </tr>\n",
       "    <tr>\n",
       "      <th>4</th>\n",
       "      <td>629</td>\n",
       "      <td>1367</td>\n",
       "      <td>1996</td>\n",
       "      <td>627</td>\n",
       "      <td>1369</td>\n",
       "    </tr>\n",
       "    <tr>\n",
       "      <th>5</th>\n",
       "      <td>305</td>\n",
       "      <td>755</td>\n",
       "      <td>1060</td>\n",
       "      <td>333</td>\n",
       "      <td>727</td>\n",
       "    </tr>\n",
       "    <tr>\n",
       "      <th>6</th>\n",
       "      <td>155</td>\n",
       "      <td>410</td>\n",
       "      <td>565</td>\n",
       "      <td>178</td>\n",
       "      <td>387</td>\n",
       "    </tr>\n",
       "    <tr>\n",
       "      <th>7</th>\n",
       "      <td>49</td>\n",
       "      <td>189</td>\n",
       "      <td>238</td>\n",
       "      <td>75</td>\n",
       "      <td>163</td>\n",
       "    </tr>\n",
       "    <tr>\n",
       "      <th>8</th>\n",
       "      <td>20</td>\n",
       "      <td>99</td>\n",
       "      <td>119</td>\n",
       "      <td>38</td>\n",
       "      <td>81</td>\n",
       "    </tr>\n",
       "    <tr>\n",
       "      <th>9</th>\n",
       "      <td>10</td>\n",
       "      <td>39</td>\n",
       "      <td>49</td>\n",
       "      <td>16</td>\n",
       "      <td>33</td>\n",
       "    </tr>\n",
       "    <tr>\n",
       "      <th>10</th>\n",
       "      <td>3</td>\n",
       "      <td>18</td>\n",
       "      <td>21</td>\n",
       "      <td>7</td>\n",
       "      <td>14</td>\n",
       "    </tr>\n",
       "    <tr>\n",
       "      <th>11+</th>\n",
       "      <td>7</td>\n",
       "      <td>25</td>\n",
       "      <td>32</td>\n",
       "      <td>11</td>\n",
       "      <td>21</td>\n",
       "    </tr>\n",
       "  </tbody>\n",
       "</table>\n",
       "</div>"
      ],
      "text/plain": [
       "                   female artist count  male artist count  total  \\\n",
       "genre list length                                                  \n",
       "1                                 1306               3149   4455   \n",
       "2                                 1299               2521   3820   \n",
       "3                                 1072               2043   3115   \n",
       "4                                  629               1367   1996   \n",
       "5                                  305                755   1060   \n",
       "6                                  155                410    565   \n",
       "7                                   49                189    238   \n",
       "8                                   20                 99    119   \n",
       "9                                   10                 39     49   \n",
       "10                                   3                 18     21   \n",
       "11+                                  7                 25     32   \n",
       "\n",
       "                   female artist expected  male artist expected  \n",
       "genre list length                                                \n",
       "1                                    1399                  3056  \n",
       "2                                    1199                  2621  \n",
       "3                                     978                  2137  \n",
       "4                                     627                  1369  \n",
       "5                                     333                   727  \n",
       "6                                     178                   387  \n",
       "7                                      75                   163  \n",
       "8                                      38                    81  \n",
       "9                                      16                    33  \n",
       "10                                      7                    14  \n",
       "11+                                    11                    21  "
      ]
     },
     "execution_count": 19,
     "metadata": {},
     "output_type": "execute_result"
    }
   ],
   "source": [
    "lcbg"
   ]
  },
  {
   "cell_type": "markdown",
   "metadata": {},
   "source": [
    "Note: the expected number for each category is >= 5, so the chi-squared test is traditionally considered adequate"
   ]
  },
  {
   "cell_type": "code",
   "execution_count": 20,
   "metadata": {},
   "outputs": [],
   "source": [
    "f_exp = lcbg.loc[:,['female artist expected','male artist expected']].to_numpy()\n",
    "f_obs = lcbg.loc[:,['female artist count','male artist count']].to_numpy()"
   ]
  },
  {
   "cell_type": "code",
   "execution_count": 21,
   "metadata": {},
   "outputs": [],
   "source": [
    "chisq, p = chisquare(f_obs, f_exp)"
   ]
  },
  {
   "cell_type": "code",
   "execution_count": 22,
   "metadata": {},
   "outputs": [],
   "source": [
    "p_fem, p_mal = p[0], p[1]"
   ]
  },
  {
   "cell_type": "code",
   "execution_count": 23,
   "metadata": {},
   "outputs": [
    {
     "data": {
      "text/plain": [
       "(9.540063142395242e-08, 0.0066732169748814464)"
      ]
     },
     "execution_count": 23,
     "metadata": {},
     "output_type": "execute_result"
    }
   ],
   "source": [
    "p_fem, p_mal"
   ]
  },
  {
   "cell_type": "markdown",
   "metadata": {},
   "source": [
    "## Bar Graph of Gender Bias"
   ]
  },
  {
   "cell_type": "code",
   "execution_count": 25,
   "metadata": {},
   "outputs": [],
   "source": [
    "df_bias = pd.DataFrame(index = lcbg.index, columns = ['female', 'male'])\n",
    "df_bias['female'] = lcbg['female artist count']/lcbg['female artist expected']\n",
    "df_bias['male'] = lcbg['male artist count']/lcbg['male artist expected']"
   ]
  },
  {
   "cell_type": "code",
   "execution_count": 26,
   "metadata": {},
   "outputs": [
    {
     "data": {
      "text/html": [
       "<div>\n",
       "<style scoped>\n",
       "    .dataframe tbody tr th:only-of-type {\n",
       "        vertical-align: middle;\n",
       "    }\n",
       "\n",
       "    .dataframe tbody tr th {\n",
       "        vertical-align: top;\n",
       "    }\n",
       "\n",
       "    .dataframe thead th {\n",
       "        text-align: right;\n",
       "    }\n",
       "</style>\n",
       "<table border=\"1\" class=\"dataframe\">\n",
       "  <thead>\n",
       "    <tr style=\"text-align: right;\">\n",
       "      <th></th>\n",
       "      <th>female</th>\n",
       "      <th>male</th>\n",
       "    </tr>\n",
       "    <tr>\n",
       "      <th>genre list length</th>\n",
       "      <th></th>\n",
       "      <th></th>\n",
       "    </tr>\n",
       "  </thead>\n",
       "  <tbody>\n",
       "    <tr>\n",
       "      <th>1</th>\n",
       "      <td>0.933524</td>\n",
       "      <td>1.030432</td>\n",
       "    </tr>\n",
       "    <tr>\n",
       "      <th>2</th>\n",
       "      <td>1.083403</td>\n",
       "      <td>0.961847</td>\n",
       "    </tr>\n",
       "    <tr>\n",
       "      <th>3</th>\n",
       "      <td>1.096115</td>\n",
       "      <td>0.956013</td>\n",
       "    </tr>\n",
       "    <tr>\n",
       "      <th>4</th>\n",
       "      <td>1.003190</td>\n",
       "      <td>0.998539</td>\n",
       "    </tr>\n",
       "    <tr>\n",
       "      <th>5</th>\n",
       "      <td>0.915916</td>\n",
       "      <td>1.038514</td>\n",
       "    </tr>\n",
       "    <tr>\n",
       "      <th>6</th>\n",
       "      <td>0.870787</td>\n",
       "      <td>1.059432</td>\n",
       "    </tr>\n",
       "    <tr>\n",
       "      <th>7</th>\n",
       "      <td>0.653333</td>\n",
       "      <td>1.159509</td>\n",
       "    </tr>\n",
       "    <tr>\n",
       "      <th>8</th>\n",
       "      <td>0.526316</td>\n",
       "      <td>1.222222</td>\n",
       "    </tr>\n",
       "    <tr>\n",
       "      <th>9</th>\n",
       "      <td>0.625000</td>\n",
       "      <td>1.181818</td>\n",
       "    </tr>\n",
       "    <tr>\n",
       "      <th>10</th>\n",
       "      <td>0.428571</td>\n",
       "      <td>1.285714</td>\n",
       "    </tr>\n",
       "    <tr>\n",
       "      <th>11+</th>\n",
       "      <td>0.636364</td>\n",
       "      <td>1.190476</td>\n",
       "    </tr>\n",
       "  </tbody>\n",
       "</table>\n",
       "</div>"
      ],
      "text/plain": [
       "                     female      male\n",
       "genre list length                    \n",
       "1                  0.933524  1.030432\n",
       "2                  1.083403  0.961847\n",
       "3                  1.096115  0.956013\n",
       "4                  1.003190  0.998539\n",
       "5                  0.915916  1.038514\n",
       "6                  0.870787  1.059432\n",
       "7                  0.653333  1.159509\n",
       "8                  0.526316  1.222222\n",
       "9                  0.625000  1.181818\n",
       "10                 0.428571  1.285714\n",
       "11+                0.636364  1.190476"
      ]
     },
     "execution_count": 26,
     "metadata": {},
     "output_type": "execute_result"
    }
   ],
   "source": [
    "df_bias"
   ]
  },
  {
   "cell_type": "code",
   "execution_count": 28,
   "metadata": {},
   "outputs": [
    {
     "data": {
      "text/plain": [
       "(array([ 1,  4,  7, 10, 13, 16, 19, 22, 25, 28, 31]),\n",
       " array([ 2,  5,  8, 11, 14, 17, 20, 23, 26, 29, 32]))"
      ]
     },
     "execution_count": 28,
     "metadata": {},
     "output_type": "execute_result"
    }
   ],
   "source": [
    "ind_fem = np.arange(1, 3*df_bias.shape[0], 3)\n",
    "ind_mal = np.arange(2, 3*df_bias.shape[0], 3)\n",
    "ind_fem, ind_mal"
   ]
  },
  {
   "cell_type": "code",
   "execution_count": 48,
   "metadata": {},
   "outputs": [
    {
     "data": {
      "text/plain": [
       "array([5])"
      ]
     },
     "execution_count": 48,
     "metadata": {},
     "output_type": "execute_result"
    }
   ],
   "source": [
    "np.array([5])"
   ]
  },
  {
   "cell_type": "code",
   "execution_count": 58,
   "metadata": {},
   "outputs": [
    {
     "data": {
      "text/plain": [
       "array([ 1.5,  2.5,  3.5,  4.5,  5.5,  6.5,  7.5,  8.5,  9.5, 10.5, 11.5])"
      ]
     },
     "execution_count": 58,
     "metadata": {},
     "output_type": "execute_result"
    }
   ],
   "source": [
    "np.arange(1.5,12.5,1)"
   ]
  },
  {
   "cell_type": "code",
   "execution_count": 61,
   "metadata": {},
   "outputs": [],
   "source": [
    "def plot_gender_bias(df_bias):\n",
    "    \n",
    "    x_fem = np.arange(1, 3*df_bias.shape[0], 3)\n",
    "    x_mal = np.arange(2, 3*df_bias.shape[0], 3)\n",
    "    xticklabels = df_bias.index.to_list()\n",
    "    xlabel_pos = np.arange(1.5,12.5,1)\n",
    "    \n",
    "    fig, axs = plt.subplots(1, figsize = (14,10))\n",
    "    fig.tight_layout(pad = 6.0)\n",
    "    fig.suptitle('The ratio of actual to expected numbers of female and male artists.', fontsize = 20)\n",
    "    axs.bar(x_fem,df_bias.female, color = 'orange', label = 'female')\n",
    "    axs.bar(x_mal,df_bias.male, color = 'purple', label = 'male')\n",
    "\n",
    "    # y range\n",
    "    axs.set_ylim(0,1.7)\n",
    "\n",
    "    # styles\n",
    "    axs.set_title('Gender Bias In Genre List Length'.title(), fontsize = 14)\n",
    "\n",
    "    axs.set_xticks(xlabel_pos)\n",
    "    axs.set_xticklabels(xticklabels, fontsize = 14, rotation = 0)\n",
    "    axs.set_xlabel('Genre List Length', fontsize = 12)\n",
    "    axs.legend()\n",
    "    \n",
    "    return fig"
   ]
  },
  {
   "cell_type": "code",
   "execution_count": 62,
   "metadata": {},
   "outputs": [
    {
     "data": {
      "image/png": "[encoded data removed]",
      "text/plain": [
       "<Figure size 1008x720 with 1 Axes>"
      ]
     },
     "execution_count": 62,
     "metadata": {},
     "output_type": "execute_result"
    },
    {
     "data": {
      "image/png": "[encoded data removed]",
      "text/plain": [
       "<Figure size 1008x720 with 1 Axes>"
      ]
     },
     "metadata": {
      "needs_background": "light"
     },
     "output_type": "display_data"
    }
   ],
   "source": [
    "plot_gender_bias(df_bias)"
   ]
  },
  {
   "cell_type": "code",
   "execution_count": null,
   "metadata": {},
   "outputs": [],
   "source": []
  }
 ],
 "metadata": {
  "kernelspec": {
   "display_name": "Python 3",
   "language": "python",
   "name": "python3"
  },
  "language_info": {
   "codemirror_mode": {
    "name": "ipython",
    "version": 3
   },
   "file_extension": ".py",
   "mimetype": "text/x-python",
   "name": "python",
   "nbconvert_exporter": "python",
   "pygments_lexer": "ipython3",
   "version": "3.7.3"
  }
 },
 "nbformat": 4,
 "nbformat_minor": 4
}
