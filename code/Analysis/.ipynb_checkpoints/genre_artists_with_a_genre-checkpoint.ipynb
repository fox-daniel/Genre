{
 "cells": [
  {
   "cell_type": "markdown",
   "metadata": {},
   "source": [
    "This notebook builds a function such that:\n",
    "- input: a genre occurring in our data set\n",
    "- output: list of all artists with that genre\n",
    "\n",
    "Run all the cells leading up to the function and then you can put a genre into the function and run that cell.\n",
    "\n",
    "\n",
    "This function will be turned into a web app using streamlit for publisc exploration of the dataset"
   ]
  },
  {
   "cell_type": "code",
   "execution_count": 1,
   "metadata": {
    "scrolled": true
   },
   "outputs": [],
   "source": [
    "import numpy as np\n",
    "import pandas as pd\n",
    "\n",
    "import matplotlib.pyplot as plt\n",
    "import seaborn as sns; sns.set()\n",
    "%matplotlib inline\n",
    "#%matplotlib notebook\n",
    "\n",
    "import re\n",
    "\n",
    "from functools import partial"
   ]
  },
  {
   "cell_type": "markdown",
   "metadata": {},
   "source": [
    "Import the cleaned data:"
   ]
  },
  {
   "cell_type": "code",
   "execution_count": 2,
   "metadata": {
    "scrolled": true
   },
   "outputs": [
    {
     "name": "stdout",
     "output_type": "stream",
     "text": [
      "total 39824\r\n",
      "-rw-r--r--  1 Daniel  staff    21724 Jun  9 11:47 genre_label_counts_TOTAL_2020-05-18-10-06.csv\r\n",
      "-rw-r--r--@ 1 Daniel  staff   287510 Jun  4 13:42 genre_stats.html\r\n",
      "-rw-r--r--@ 1 Daniel  staff   911587 Jun  4 13:39 genre_set_counts.html\r\n",
      "-rw-r--r--@ 1 Daniel  staff     1845 Jun  4 13:11 female_bias_freq500.html\r\n",
      "-rw-r--r--@ 1 Daniel  staff     1459 Jun  4 13:11 male_bias_freq500.html\r\n",
      "-rw-r--r--  1 Daniel  staff    73746 May 29 10:19 genre_stats.csv\r\n",
      "-rw-r--r--  1 Daniel  staff    66235 May 21 11:00 promiscuity_table.csv\r\n",
      "-rw-r--r--  1 Daniel  staff    57474 May 20 12:47 corpus.mm.index\r\n",
      "-rw-r--r--  1 Daniel  staff   382436 May 20 12:47 corpus.mm\r\n",
      "-rw-r--r--  1 Daniel  staff    49966 May 20 12:47 genre_dictionary.dict\r\n",
      "drwxr-xr-x  5 Daniel  staff      160 May 20 10:59 \u001b[34mlogistic_model_data\u001b[m\u001b[m/\r\n",
      "-rw-r--r--  1 Daniel  staff    10926 May 18 11:10 genre_label_non-lonely_TRAINING_2020-05-18-10-06.csv\r\n",
      "-rw-r--r--  1 Daniel  staff     8664 May 18 11:09 genre_label_lonely_TRAINING_2020-05-18-10-06.csv\r\n",
      "-rw-r--r--  1 Daniel  staff    19587 May 18 11:09 genre_label_counts_TRAINING_2020-05-18-10-06.csv\r\n",
      "-rw-r--r--  1 Daniel  staff   312423 May 18 10:47 genre_lists.txt\r\n",
      "-rw-r--r--  1 Daniel  staff    19795 May 18 10:46 unique_genres.txt\r\n",
      "-rw-r--r--  1 Daniel  staff   233078 May 18 10:36 wiki-kaggle_y_train_2020-05-18-10-06.csv\r\n",
      "-rw-r--r--  1 Daniel  staff    58432 May 18 10:36 wiki-kaggle_y_test_2020-05-18-10-06.csv\r\n",
      "-rw-r--r--  1 Daniel  staff   631177 May 18 10:36 wiki-kaggle_X_train_2020-05-18-10-06.csv\r\n",
      "-rw-r--r--  1 Daniel  staff   158269 May 18 10:36 wiki-kaggle_X_test_2020-05-18-10-06.csv\r\n",
      "-rw-r--r--  1 Daniel  staff    24675 May 18 10:36 genre_list_2020-05-18-10-06.csv\r\n",
      "-rw-r--r--  1 Daniel  staff    10882 May 11 14:42 genre_label_non-lonely_TRAINING_2020-05-11-14-35.csv\r\n",
      "-rw-r--r--  1 Daniel  staff     8632 May 11 14:42 genre_label_lonely_TRAINING_2020-05-11-14-35.csv\r\n",
      "-rw-r--r--  1 Daniel  staff    19511 May 11 14:42 genre_label_counts_TRAINING_2020-05-11-14-35.csv\r\n",
      "-rw-r--r--  1 Daniel  staff    24606 May 11 14:41 genre_list_training_2020-05-11-14-35.csv\r\n",
      "-rw-r--r--  1 Daniel  staff    58432 May 11 14:35 wiki-kaggle_y_test_2020-05-11-14-35.csv\r\n",
      "-rw-r--r--  1 Daniel  staff   156249 May 11 14:35 wiki-kaggle_X_test_2020-05-11-14-35.csv\r\n",
      "-rw-r--r--  1 Daniel  staff   233078 May 11 14:35 wiki-kaggle_y_train_2020-05-11-14-35.csv\r\n",
      "-rw-r--r--  1 Daniel  staff   623021 May 11 14:35 wiki-kaggle_X_train_2020-05-11-14-35.csv\r\n",
      "-rw-r--r--  1 Daniel  staff    24591 May 11 14:34 genre_list_2020-05-11-14-34.csv\r\n",
      "-rw-r--r--  1 Daniel  staff   951681 May 11 14:34 wiki-kaggle_genres_gender_cleaned_2020-05-11-14-34.csv\r\n",
      "-rw-r--r--  1 Daniel  staff    25112 May  7 15:49 genre_list_2020-05-07-15-49.csv\r\n",
      "-rw-r--r--  1 Daniel  staff  1501714 May  7 15:49 wiki-kaggle_genres_gender_cleaned_2020-05-07-15-49.csv\r\n",
      "-rw-r--r--  1 Daniel  staff    25150 May  7 15:47 genre_list_2020-05-07-15-47.csv\r\n",
      "-rw-r--r--  1 Daniel  staff  1501728 May  7 15:47 wiki-kaggle_genres_gender_cleaned_2020-05-07-15-47.csv\r\n",
      "-rw-r--r--  1 Daniel  staff    25179 May  7 15:45 genre_list_2020-05-07-15-45.csv\r\n",
      "-rw-r--r--  1 Daniel  staff  1501719 May  7 15:45 wiki-kaggle_genres_gender_cleaned_2020-05-07-15-45.csv\r\n",
      "-rw-r--r--  1 Daniel  staff    25197 May  7 15:32 genre_list_2020-05-07-15-32.csv\r\n",
      "-rw-r--r--  1 Daniel  staff  1501722 May  7 15:32 wiki-kaggle_genres_gender_cleaned_2020-05-07-15-32.csv\r\n",
      "-rw-r--r--  1 Daniel  staff    25286 May  7 15:22 genre_list_2020-05-07-15-22.csv\r\n",
      "-rw-r--r--  1 Daniel  staff  1501698 May  7 15:22 wiki-kaggle_genres_gender_cleaned_2020-05-07-15-22.csv\r\n",
      "-rw-r--r--  1 Daniel  staff    25349 May  7 15:20 genre_list_2020-05-07-15-20.csv\r\n",
      "-rw-r--r--  1 Daniel  staff  1501692 May  7 15:20 wiki-kaggle_genres_gender_cleaned_2020-05-07-15-20.csv\r\n",
      "-rw-r--r--  1 Daniel  staff    25380 May  7 15:16 genre_list_2020-05-07-15-16.csv\r\n",
      "-rw-r--r--  1 Daniel  staff  1501704 May  7 15:16 wiki-kaggle_genres_gender_cleaned_2020-05-07-15-16.csv\r\n",
      "-rw-r--r--  1 Daniel  staff     8756 May  6 07:44 genre_list_issues.csv\r\n",
      "-rw-r--r--  1 Daniel  staff    28796 May  5 14:03 genre_list_2020-05-05-14-03.csv\r\n",
      "-rw-r--r--  1 Daniel  staff   954255 May  5 14:03 wiki-kaggle_genres_gender_cleaned_2020-05-05-14-03.csv\r\n",
      "-rw-r--r--  1 Daniel  staff    28584 May  4 13:32 genre_list_training_2020-05-04-09-42.csv\r\n",
      "-rw-r--r--  1 Daniel  staff    12435 May  4 09:48 genre_label_non-lonely_2020-05-04-09-42.csv\r\n",
      "-rw-r--r--  1 Daniel  staff    12624 May  4 09:47 genre_label_lonely_2020-05-04-09-42.csv\r\n",
      "-rw-r--r--  1 Daniel  staff    25056 May  4 09:47 genre_label_counts_2020-05-04-09-42.csv\r\n",
      "-rw-r--r--  1 Daniel  staff    58329 May  4 09:42 wiki-kaggle_y_test_2020-05-04-09-42.csv\r\n",
      "-rw-r--r--  1 Daniel  staff   158698 May  4 09:42 wiki-kaggle_X_test_2020-05-04-09-42.csv\r\n",
      "-rw-r--r--  1 Daniel  staff   233198 May  4 09:42 wiki-kaggle_y_train_2020-05-04-09-42.csv\r\n",
      "-rw-r--r--  1 Daniel  staff   629408 May  4 09:42 wiki-kaggle_X_train_2020-05-04-09-42.csv\r\n",
      "-rw-r--r--  1 Daniel  staff    31816 May  4 09:39 genre_list_2020-05-04-09-39.csv\r\n",
      "-rw-r--r--  1 Daniel  staff   960526 May  4 09:39 wiki-kaggle_genres_gender_cleaned_2020-05-04-09-39.csv\r\n",
      "-rw-r--r--  1 Daniel  staff     1508 May  1 09:19 dan_sample_to_verify_2020-05-01-09-16.csv\r\n",
      "-rw-r--r--  1 Daniel  staff     1470 May  1 09:19 tom_sample_to_verify_2020-05-01-09-16.csv\r\n",
      "-rw-r--r--  1 Daniel  staff   963617 May  1 09:16 wiki-kaggle_genres_gender_cleaned_2020-05-01-09-16.csv\r\n"
     ]
    }
   ],
   "source": [
    "%ls -lt ../../data/genre_lists/data_ready_for_model/"
   ]
  },
  {
   "cell_type": "code",
   "execution_count": 3,
   "metadata": {
    "scrolled": true
   },
   "outputs": [
    {
     "data": {
      "text/plain": [
       "'2020-05-18-10-06'"
      ]
     },
     "execution_count": 3,
     "metadata": {},
     "output_type": "execute_result"
    }
   ],
   "source": [
    "%store -r now\n",
    "now\n",
    "#now = '2020-05-11-14-35'"
   ]
  },
  {
   "cell_type": "code",
   "execution_count": 4,
   "metadata": {
    "scrolled": true
   },
   "outputs": [],
   "source": [
    "X_train = pd.read_csv('/Users/Daniel/Code/Genre/data/genre_lists/data_ready_for_model/wiki-kaggle_X_train_{}.csv'.format(now), index_col = ['artist'])\n",
    "y_train = pd.read_csv('/Users/Daniel/Code/Genre/data/genre_lists/data_ready_for_model/wiki-kaggle_y_train_{}.csv'.format(now), index_col = ['artist'])\n",
    "X_test = pd.read_csv('/Users/Daniel/Code/Genre/data/genre_lists/data_ready_for_model/wiki-kaggle_X_test_{}.csv'.format(now), index_col = ['artist'])\n",
    "y_test = pd.read_csv('/Users/Daniel/Code/Genre/data/genre_lists/data_ready_for_model/wiki-kaggle_y_test_{}.csv'.format(now), index_col = ['artist'])"
   ]
  },
  {
   "cell_type": "code",
   "execution_count": 5,
   "metadata": {
    "scrolled": true
   },
   "outputs": [],
   "source": [
    "X_tot = pd.concat([X_train,X_test])\n",
    "y_tot = pd.concat([y_train,y_test])"
   ]
  },
  {
   "cell_type": "code",
   "execution_count": 6,
   "metadata": {
    "scrolled": true
   },
   "outputs": [
    {
     "data": {
      "text/plain": [
       "((15470, 2), (15470, 1))"
      ]
     },
     "execution_count": 6,
     "metadata": {},
     "output_type": "execute_result"
    }
   ],
   "source": [
    "X_tot.shape, y_tot.shape"
   ]
  },
  {
   "cell_type": "code",
   "execution_count": 7,
   "metadata": {},
   "outputs": [],
   "source": [
    "data = y_tot.join([X_tot], how = 'outer')"
   ]
  },
  {
   "cell_type": "code",
   "execution_count": 8,
   "metadata": {
    "scrolled": true
   },
   "outputs": [
    {
     "data": {
      "text/html": [
       "<div>\n",
       "<style scoped>\n",
       "    .dataframe tbody tr th:only-of-type {\n",
       "        vertical-align: middle;\n",
       "    }\n",
       "\n",
       "    .dataframe tbody tr th {\n",
       "        vertical-align: top;\n",
       "    }\n",
       "\n",
       "    .dataframe thead th {\n",
       "        text-align: right;\n",
       "    }\n",
       "</style>\n",
       "<table border=\"1\" class=\"dataframe\">\n",
       "  <thead>\n",
       "    <tr style=\"text-align: right;\">\n",
       "      <th></th>\n",
       "      <th>gender</th>\n",
       "      <th>genrelist</th>\n",
       "      <th>genrelist_length</th>\n",
       "    </tr>\n",
       "    <tr>\n",
       "      <th>artist</th>\n",
       "      <th></th>\n",
       "      <th></th>\n",
       "      <th></th>\n",
       "    </tr>\n",
       "  </thead>\n",
       "  <tbody>\n",
       "    <tr>\n",
       "      <th>Pablo_Holman</th>\n",
       "      <td>male</td>\n",
       "      <td>['pop', 'rock', 'emo_pop']</td>\n",
       "      <td>3</td>\n",
       "    </tr>\n",
       "    <tr>\n",
       "      <th>Bobby_Edwards</th>\n",
       "      <td>male</td>\n",
       "      <td>['country']</td>\n",
       "      <td>1</td>\n",
       "    </tr>\n",
       "    <tr>\n",
       "      <th>La_Palabra</th>\n",
       "      <td>male</td>\n",
       "      <td>['afro_cuban_jazz', 'son_montuno', 'guaracha',...</td>\n",
       "      <td>4</td>\n",
       "    </tr>\n",
       "    <tr>\n",
       "      <th>Sherrick</th>\n",
       "      <td>male</td>\n",
       "      <td>['r_and_b', 'soul']</td>\n",
       "      <td>2</td>\n",
       "    </tr>\n",
       "    <tr>\n",
       "      <th>Allen_Collins</th>\n",
       "      <td>male</td>\n",
       "      <td>['southern_rock']</td>\n",
       "      <td>1</td>\n",
       "    </tr>\n",
       "  </tbody>\n",
       "</table>\n",
       "</div>"
      ],
      "text/plain": [
       "              gender                                          genrelist  \\\n",
       "artist                                                                    \n",
       "Pablo_Holman    male                         ['pop', 'rock', 'emo_pop']   \n",
       "Bobby_Edwards   male                                        ['country']   \n",
       "La_Palabra      male  ['afro_cuban_jazz', 'son_montuno', 'guaracha',...   \n",
       "Sherrick        male                                ['r_and_b', 'soul']   \n",
       "Allen_Collins   male                                  ['southern_rock']   \n",
       "\n",
       "               genrelist_length  \n",
       "artist                           \n",
       "Pablo_Holman                  3  \n",
       "Bobby_Edwards                 1  \n",
       "La_Palabra                    4  \n",
       "Sherrick                      2  \n",
       "Allen_Collins                 1  "
      ]
     },
     "execution_count": 8,
     "metadata": {},
     "output_type": "execute_result"
    }
   ],
   "source": [
    "data.head()"
   ]
  },
  {
   "cell_type": "code",
   "execution_count": 9,
   "metadata": {
    "scrolled": true
   },
   "outputs": [
    {
     "data": {
      "text/plain": [
       "((15470, 3),\n",
       " gender              0\n",
       " genrelist           0\n",
       " genrelist_length    0\n",
       " dtype: int64)"
      ]
     },
     "execution_count": 9,
     "metadata": {},
     "output_type": "execute_result"
    }
   ],
   "source": [
    "data.shape, data.isnull().sum()"
   ]
  },
  {
   "cell_type": "markdown",
   "metadata": {},
   "source": [
    "### Genre Labels\n",
    "\n",
    "Each value of the genre column is a _string_ of comma separated genre labels. We want to convert it to a _list_ of strings."
   ]
  },
  {
   "cell_type": "code",
   "execution_count": 10,
   "metadata": {
    "scrolled": true
   },
   "outputs": [],
   "source": [
    "\"\"\"This function takes in a string of the form\n",
    "appearing in the genrelist of the dataframe.\n",
    "It strips the square brackets and extra quotes and\n",
    "returns a list of strings where each string is a genre label.\"\"\"\n",
    "def genrelist(string):\n",
    "    string = string.strip(\"[\").strip(\"]\").replace(\"'\",\"\")\n",
    "    L = [s for s in string.split(',')]\n",
    "    L_new = []\n",
    "    for x in L:\n",
    "        L_new.append(x.replace(\" \",\"_\").lstrip(\"_\").rstrip(\"_\"))\n",
    "    while (str(\"\") in L_new):\n",
    "        L_new.remove(\"\")\n",
    "    return L_new"
   ]
  },
  {
   "cell_type": "markdown",
   "metadata": {},
   "source": [
    "Now we apply it to the whole column and put the lists in a new column:"
   ]
  },
  {
   "cell_type": "code",
   "execution_count": 11,
   "metadata": {
    "scrolled": true
   },
   "outputs": [],
   "source": [
    "data['genrelist']= data['genrelist'].apply(genrelist)"
   ]
  },
  {
   "cell_type": "code",
   "execution_count": 12,
   "metadata": {
    "scrolled": true
   },
   "outputs": [
    {
     "data": {
      "text/html": [
       "<div>\n",
       "<style scoped>\n",
       "    .dataframe tbody tr th:only-of-type {\n",
       "        vertical-align: middle;\n",
       "    }\n",
       "\n",
       "    .dataframe tbody tr th {\n",
       "        vertical-align: top;\n",
       "    }\n",
       "\n",
       "    .dataframe thead th {\n",
       "        text-align: right;\n",
       "    }\n",
       "</style>\n",
       "<table border=\"1\" class=\"dataframe\">\n",
       "  <thead>\n",
       "    <tr style=\"text-align: right;\">\n",
       "      <th></th>\n",
       "      <th>gender</th>\n",
       "      <th>genrelist</th>\n",
       "      <th>genrelist_length</th>\n",
       "    </tr>\n",
       "    <tr>\n",
       "      <th>artist</th>\n",
       "      <th></th>\n",
       "      <th></th>\n",
       "      <th></th>\n",
       "    </tr>\n",
       "  </thead>\n",
       "  <tbody>\n",
       "    <tr>\n",
       "      <th>Pablo_Holman</th>\n",
       "      <td>male</td>\n",
       "      <td>[pop, rock, emo_pop]</td>\n",
       "      <td>3</td>\n",
       "    </tr>\n",
       "    <tr>\n",
       "      <th>Bobby_Edwards</th>\n",
       "      <td>male</td>\n",
       "      <td>[country]</td>\n",
       "      <td>1</td>\n",
       "    </tr>\n",
       "    <tr>\n",
       "      <th>La_Palabra</th>\n",
       "      <td>male</td>\n",
       "      <td>[afro_cuban_jazz, son_montuno, guaracha, salsa...</td>\n",
       "      <td>4</td>\n",
       "    </tr>\n",
       "    <tr>\n",
       "      <th>Sherrick</th>\n",
       "      <td>male</td>\n",
       "      <td>[r_and_b, soul]</td>\n",
       "      <td>2</td>\n",
       "    </tr>\n",
       "    <tr>\n",
       "      <th>Allen_Collins</th>\n",
       "      <td>male</td>\n",
       "      <td>[southern_rock]</td>\n",
       "      <td>1</td>\n",
       "    </tr>\n",
       "  </tbody>\n",
       "</table>\n",
       "</div>"
      ],
      "text/plain": [
       "              gender                                          genrelist  \\\n",
       "artist                                                                    \n",
       "Pablo_Holman    male                               [pop, rock, emo_pop]   \n",
       "Bobby_Edwards   male                                          [country]   \n",
       "La_Palabra      male  [afro_cuban_jazz, son_montuno, guaracha, salsa...   \n",
       "Sherrick        male                                    [r_and_b, soul]   \n",
       "Allen_Collins   male                                    [southern_rock]   \n",
       "\n",
       "               genrelist_length  \n",
       "artist                           \n",
       "Pablo_Holman                  3  \n",
       "Bobby_Edwards                 1  \n",
       "La_Palabra                    4  \n",
       "Sherrick                      2  \n",
       "Allen_Collins                 1  "
      ]
     },
     "execution_count": 12,
     "metadata": {},
     "output_type": "execute_result"
    }
   ],
   "source": [
    "data.head()"
   ]
  },
  {
   "cell_type": "markdown",
   "metadata": {},
   "source": [
    "### Import the genre labels from the whole data set:"
   ]
  },
  {
   "cell_type": "code",
   "execution_count": 13,
   "metadata": {},
   "outputs": [],
   "source": [
    "genrelist_df = pd.read_csv('/Users/Daniel/Code/Genre/data/genre_lists/data_ready_for_model/genre_list_{}.csv'.format(now), index_col = 'Unnamed: 0')"
   ]
  },
  {
   "cell_type": "code",
   "execution_count": 14,
   "metadata": {
    "scrolled": true
   },
   "outputs": [
    {
     "data": {
      "text/plain": [
       "(1494, 1)"
      ]
     },
     "execution_count": 14,
     "metadata": {},
     "output_type": "execute_result"
    }
   ],
   "source": [
    "genrelist_df.shape"
   ]
  },
  {
   "cell_type": "markdown",
   "metadata": {},
   "source": [
    "## Co-Occurrence"
   ]
  },
  {
   "cell_type": "markdown",
   "metadata": {},
   "source": [
    "Function to apply to dataframe that marks a row as having a genre label:"
   ]
  },
  {
   "cell_type": "code",
   "execution_count": 33,
   "metadata": {
    "scrolled": true
   },
   "outputs": [],
   "source": [
    "def artists_with_label(row, label = 'jazz'):\n",
    "    if label in row.genrelist:\n",
    "        return True\n",
    "    else:\n",
    "        return False"
   ]
  },
  {
   "cell_type": "code",
   "execution_count": 34,
   "metadata": {
    "scrolled": true
   },
   "outputs": [],
   "source": [
    "artists_with = partial(artists_with_label,label = 'pop')"
   ]
  },
  {
   "cell_type": "code",
   "execution_count": 39,
   "metadata": {},
   "outputs": [
    {
     "data": {
      "text/plain": [
       "True"
      ]
     },
     "execution_count": 39,
     "metadata": {},
     "output_type": "execute_result"
    }
   ],
   "source": [
    "artists_with(data.iloc[0])"
   ]
  },
  {
   "cell_type": "code",
   "execution_count": 54,
   "metadata": {},
   "outputs": [
    {
     "data": {
      "text/plain": [
       "Index(['Ali_Brustofski', 'Angela_Hunte', 'Bekuh_BOOM', 'Blacko', 'Bobby_J',\n",
       "       'Bradley_McIntosh', 'CL_Smooth', 'Canardo', 'Cara_Braia',\n",
       "       'Cheryl_James', 'Chris_Landry', 'Chrome', 'Dante_Spinetta', 'Def_Jef',\n",
       "       'Divine', 'El_Da_Sensei', 'Elin_Bergman', 'Feloni', 'JAE_E', 'Jipsta',\n",
       "       'Johnny_Richter', 'Kenza_Farah', 'Koncept', 'Kristoff_Krane',\n",
       "       'Liam_Cacatian_Thomassen', 'Little_Bruce', 'Loose_Logic', 'Luke_Ski',\n",
       "       'M-Doc', 'Maestro_Harrell', 'Merlin_Bronques', 'Mr._Mack', 'Ménélik',\n",
       "       'Omega_Crosby', 'Phil_Barney', 'Playalitical', 'Produkt', 'Rampage',\n",
       "       'Rob_Pilatus', 'Rockwell_Knuckles', 'Vaï', 'Visto', 'Yarah_Bravo',\n",
       "       'Young_Scrap'],\n",
       "      dtype='object', name='artist')"
      ]
     },
     "execution_count": 54,
     "metadata": {},
     "output_type": "execute_result"
    }
   ],
   "source": [
    "label = 'rap'\n",
    "artists_with = partial(artists_with_label,label = label) # create the partial function for the selected genre\n",
    "data[label] = data.apply(artists_with, axis = 1) # select those artists with the selected genre\n",
    "data[data[label]].index.sort_values() # produce alphabetical list of artists with the selected genre"
   ]
  },
  {
   "cell_type": "code",
   "execution_count": 55,
   "metadata": {},
   "outputs": [],
   "source": [
    "def genre_artists(data, label = 'soul'):\n",
    "    artists_with = partial(artists_with_label,label = label) # create the partial function for the selected genre\n",
    "    data[label] = data.apply(artists_with, axis = 1) # select those artists with the selected genre\n",
    "    return data[data[label]].index.sort_values() # produce alphabetical list of artists with the selected genre"
   ]
  },
  {
   "cell_type": "code",
   "execution_count": 56,
   "metadata": {},
   "outputs": [
    {
     "data": {
      "text/plain": [
       "Index(['Alexander_Rocciasana', 'Alfunction', 'Barry_Donegan', 'Baz_Warne',\n",
       "       'Becky_Stark', 'Billy_Karren', 'Cass_McCombs', 'Chris_Bailey',\n",
       "       'Chris_Clavin', 'Chris_Eskola', 'Craig_Else', 'Danny_Barnes',\n",
       "       'Dave_King', 'Dave_Mello', 'Dave_Zegarac', 'David_Barbe', 'Ed_Kuepper',\n",
       "       'Efrem_Schulz', 'Exene_Cervenka', 'Fred_Negro', 'Freddie_Wadling',\n",
       "       'Jacquie_O'Sullivan', 'Jane_Wiedlin', 'Jay_Kalk', 'Jeff_Suffering',\n",
       "       'Jim_Neversink', 'Jimmy_Rip', 'John_Lydon', 'John_Otway', 'Karen_O',\n",
       "       'Kevin_Mooney', 'Kirk_Brandon', 'Lenny_Burns', 'Lew_Nottke',\n",
       "       'Matt_Fishel', 'Mya_Byrne', 'Nicholas_Bullen', 'Nick_Falcon',\n",
       "       'Nina_Hagen', 'Paul_Cunniffe', 'Paul_Hyde', 'Paul_Roberts',\n",
       "       'Paula_Frazer', 'Preston', 'RM_Hubbert', 'Regina_Zernay_Roberts',\n",
       "       'Richie_Birkenhead', 'Robb_Johnson', 'Rose_Mazzola', 'Sa'ra_Charismata',\n",
       "       'Scott_H._Biram', 'Simon_Gallup', 'Taylor_Hollingsworth',\n",
       "       'Terje_Winterstø_Røthing', 'Theo_Kogan', 'Tim_Steward', 'Tree_Carr',\n",
       "       'Vic_Ruggiero', 'Wild_Willy_Barrett'],\n",
       "      dtype='object', name='artist')"
      ]
     },
     "execution_count": 56,
     "metadata": {},
     "output_type": "execute_result"
    }
   ],
   "source": [
    "genre_artists(data, 'punk')"
   ]
  },
  {
   "cell_type": "code",
   "execution_count": null,
   "metadata": {},
   "outputs": [],
   "source": []
  }
 ],
 "metadata": {
  "kernelspec": {
   "display_name": "Python 3",
   "language": "python",
   "name": "python3"
  },
  "language_info": {
   "codemirror_mode": {
    "name": "ipython",
    "version": 3
   },
   "file_extension": ".py",
   "mimetype": "text/x-python",
   "name": "python",
   "nbconvert_exporter": "python",
   "pygments_lexer": "ipython3",
   "version": "3.7.3"
  }
 },
 "nbformat": 4,
 "nbformat_minor": 4
}
