{
 "cells": [
  {
   "cell_type": "markdown",
   "metadata": {},
   "source": [
    "This notebook (nb) explores the relationship between binary gender labels {female, male} and genre labels used by Spotify.\n",
    "\n",
    "* There are 9734 artists; 3180 femaile, 6554 male.\n",
    "* There are 1902 unique genre labels\n",
    "* The mean number of labels are 2.5 for female and 2.75 for male.\n",
    "* Density histograms show that the distribution of the number of labels per artist is fairly similar for male and female artists\n",
    "\n",
    "Three questions:\n",
    "\n",
    "1. numbers of genre labels for gender\n",
    "2. predict gender for genre\n",
    "3. predict gender from network graph\n",
    "\n",
    "Things to do:\n",
    "\n",
    "\n",
    "- [ ] Tom: looks for more data with gender - generate from female artist lists\n",
    "- [ ] Tom: will verify artist scraped and artist retrieved\n",
    "- [x] Dan: what are most common genre labels in data\n",
    "- [ ] Dan: which genres are present in genre-promiscuous artists?\n",
    "- [ ] clean data more carefully\n",
    "- [ ] Dan: random sample of 10%, give tom half and we will verify by hand\n",
    "- [ ] Dan: talk with Tom, receive from tom verified data, start building nn for predicting genre based on genre labels\n",
    "- [ ] Dan: find out input data structure for neural net to analyze graph\n",
    "- [ ] Dan: make git hub\n",
    "- [ ] be careful with stats\n",
    "\n",
    "Later: \n",
    "- [ ] carry out analysis for other platforms: wiki, tidal \n",
    "- [ ] __How does genre label interact with race?__"
   ]
  },
  {
   "cell_type": "markdown",
   "metadata": {},
   "source": [
    "### Notes from discussion on 2020-04-09\n",
    "\n",
    "Tom's script: search name, then return first results of that: sometimes gives wrong band\n",
    "\n",
    "problems with data: \n",
    "\n",
    "may not return correct band info\n",
    "\n",
    "look at >5 genre tag bins, which genre labels are in there? rock, indie? \n",
    "Can we correlate genres in high cardinality with male dominated labels?\n",
    "\n",
    "ask Horvat for data?\n",
    "\n",
    "intergenre promiscuity is higher for male dominated genre; \n",
    "link to omnivorous listeners\n",
    "\n",
    "can use network analysis to show that the genre promiscuity is artificially imposed/ superfluous : all links could be made by rock/indie rather than subgenres\n",
    "\n",
    "have to separate genre tags and recommendation system\n",
    "\n",
    "is there directionaly in genre labels: carribean + rock -> rock and not to carribean; rock attracts carribean, but \n",
    "\n",
    "could test experimentally by creating listeners?\n",
    "\n",
    "Book: Spotify Teardown\n",
    "\n",
    "Goals and Steps\n",
    "\n",
    "- clean data, verify data, get more data\n",
    "- random sample of 10%, give tom half and we will verify by hand\n",
    "- google for more artist gender data\n",
    "- reach out to Horvat? have our methodology worked out first\n",
    "- scrape incidence matrix for graph of artist network  \n",
    "\n",
    "gethi for graph analysis\n",
    "\n",
    "return to intersection of graphs of two artists later\n",
    "\n",
    "\n",
    "Three questions:\n",
    "\n",
    "1. numbers of genre labels for gender\n",
    "2. predict gender for genre\n",
    "3. predict gender from network graph\n",
    "\n",
    "How do we move beyond the musicological knowledge, or how are these biases embedded in the algorithms, algorithms not neutral...\n",
    "\n",
    "Are genders lumped together?"
   ]
  },
  {
   "cell_type": "code",
   "execution_count": 1,
   "metadata": {},
   "outputs": [],
   "source": [
    "import numpy as np\n",
    "import pandas as pd\n",
    "\n",
    "import matplotlib.pyplot as plt\n",
    "import seaborn as sns; sns.set()\n",
    "\n",
    "import re"
   ]
  },
  {
   "cell_type": "markdown",
   "metadata": {},
   "source": [
    "### From Kaggle:"
   ]
  },
  {
   "cell_type": "code",
   "execution_count": 4,
   "metadata": {},
   "outputs": [],
   "source": [
    "# kaggle_data = pd.read_csv('singers_gender.csv', encoding = 'latin-1')"
   ]
  },
  {
   "cell_type": "code",
   "execution_count": 3,
   "metadata": {},
   "outputs": [],
   "source": [
    "# kaggle_data.shape"
   ]
  },
  {
   "cell_type": "markdown",
   "metadata": {},
   "source": [
    "An interesting data set, though does not seem to have race/gender:\n",
    "\n",
    "https://musicbrainz.org/doc/MusicBrainz_Database\n",
    "\n",
    "Could compare network and genre labels to Spotify's system."
   ]
  },
  {
   "cell_type": "markdown",
   "metadata": {},
   "source": [
    "Literature\n",
    "\n",
    "- [ ] Horvatz: trained to recognize gender of artist from a song"
   ]
  },
  {
   "cell_type": "markdown",
   "metadata": {},
   "source": [
    "### Spotify genres added to the Kaggle list:"
   ]
  },
  {
   "cell_type": "code",
   "execution_count": 20,
   "metadata": {},
   "outputs": [],
   "source": [
    "data = pd.read_csv('../data/singers_gender_genres_draft.csv')"
   ]
  },
  {
   "cell_type": "code",
   "execution_count": 21,
   "metadata": {},
   "outputs": [
    {
     "data": {
      "text/html": [
       "<div>\n",
       "<style scoped>\n",
       "    .dataframe tbody tr th:only-of-type {\n",
       "        vertical-align: middle;\n",
       "    }\n",
       "\n",
       "    .dataframe tbody tr th {\n",
       "        vertical-align: top;\n",
       "    }\n",
       "\n",
       "    .dataframe thead th {\n",
       "        text-align: right;\n",
       "    }\n",
       "</style>\n",
       "<table border=\"1\" class=\"dataframe\">\n",
       "  <thead>\n",
       "    <tr style=\"text-align: right;\">\n",
       "      <th></th>\n",
       "      <th>artist</th>\n",
       "      <th>gender</th>\n",
       "      <th>category</th>\n",
       "      <th>genre</th>\n",
       "      <th>Unnamed: 4</th>\n",
       "    </tr>\n",
       "  </thead>\n",
       "  <tbody>\n",
       "    <tr>\n",
       "      <th>0</th>\n",
       "      <td>12 Gauge</td>\n",
       "      <td>male</td>\n",
       "      <td>African-American_male_rappers</td>\n",
       "      <td>miami bass</td>\n",
       "      <td>13443.0</td>\n",
       "    </tr>\n",
       "    <tr>\n",
       "      <th>1</th>\n",
       "      <td>1987</td>\n",
       "      <td>male</td>\n",
       "      <td>Swedish_male_singers</td>\n",
       "      <td>retro electro</td>\n",
       "      <td>NaN</td>\n",
       "    </tr>\n",
       "    <tr>\n",
       "      <th>2</th>\n",
       "      <td>2 Chainz</td>\n",
       "      <td>male</td>\n",
       "      <td>African-American_male_rappers</td>\n",
       "      <td>atl hip hop, gangster rap, hip hop, pop rap, r...</td>\n",
       "      <td>NaN</td>\n",
       "    </tr>\n",
       "    <tr>\n",
       "      <th>3</th>\n",
       "      <td>2 Pistols</td>\n",
       "      <td>male</td>\n",
       "      <td>African-American_male_rappers</td>\n",
       "      <td>dirty south rap, pop rap, southern hip hop, trap</td>\n",
       "      <td>NaN</td>\n",
       "    </tr>\n",
       "    <tr>\n",
       "      <th>4</th>\n",
       "      <td>21 Savage</td>\n",
       "      <td>male</td>\n",
       "      <td>African-American_male_rappers</td>\n",
       "      <td>atl hip hop, rap, trap</td>\n",
       "      <td>NaN</td>\n",
       "    </tr>\n",
       "  </tbody>\n",
       "</table>\n",
       "</div>"
      ],
      "text/plain": [
       "      artist gender                       category  \\\n",
       "0   12 Gauge   male  African-American_male_rappers   \n",
       "1       1987   male           Swedish_male_singers   \n",
       "2   2 Chainz   male  African-American_male_rappers   \n",
       "3  2 Pistols   male  African-American_male_rappers   \n",
       "4  21 Savage   male  African-American_male_rappers   \n",
       "\n",
       "                                               genre  Unnamed: 4  \n",
       "0                                         miami bass     13443.0  \n",
       "1                                      retro electro         NaN  \n",
       "2  atl hip hop, gangster rap, hip hop, pop rap, r...         NaN  \n",
       "3   dirty south rap, pop rap, southern hip hop, trap         NaN  \n",
       "4                             atl hip hop, rap, trap         NaN  "
      ]
     },
     "execution_count": 21,
     "metadata": {},
     "output_type": "execute_result"
    }
   ],
   "source": [
    "data.head()"
   ]
  },
  {
   "cell_type": "markdown",
   "metadata": {},
   "source": [
    "Take a look at category data:"
   ]
  },
  {
   "cell_type": "code",
   "execution_count": 24,
   "metadata": {},
   "outputs": [
    {
     "name": "stdout",
     "output_type": "stream",
     "text": [
      "French_female_singers\n",
      "Male_guitarists\n",
      "English_female_singers\n",
      "American_male_guitarists\n",
      "American_male_guitarists\n",
      "American_male_pop_singers\n",
      "African-American_female_singers\n",
      "American_male_singer-songwriters\n",
      "American_male_singers\n",
      "Male_guitarists\n",
      "American_country_singers\n",
      "American_female_singers\n",
      "American_country_singers\n",
      "Swedish_female_singers\n",
      "African-American_female_singer-songwriters\n"
     ]
    }
   ],
   "source": [
    "rints = np.random.randint(0,data.shape[0],15) # generate 15 random numbers from 0 to k-1, with k = # of rows\n",
    "\n",
    "for n in rints:\n",
    "    print(data.category.iloc[n])"
   ]
  },
  {
   "cell_type": "markdown",
   "metadata": {},
   "source": [
    "Doesn't look like it has much useful info as of now."
   ]
  },
  {
   "cell_type": "code",
   "execution_count": 25,
   "metadata": {},
   "outputs": [
    {
     "data": {
      "text/plain": [
       "(23177, 5)"
      ]
     },
     "execution_count": 25,
     "metadata": {},
     "output_type": "execute_result"
    }
   ],
   "source": [
    "data.shape"
   ]
  },
  {
   "cell_type": "markdown",
   "metadata": {},
   "source": [
    "Remove extraneous last column and category:"
   ]
  },
  {
   "cell_type": "code",
   "execution_count": 26,
   "metadata": {},
   "outputs": [
    {
     "data": {
      "text/plain": [
       "Index(['artist', 'gender', 'category', 'genre', 'Unnamed: 4'], dtype='object')"
      ]
     },
     "execution_count": 26,
     "metadata": {},
     "output_type": "execute_result"
    }
   ],
   "source": [
    "data.columns"
   ]
  },
  {
   "cell_type": "code",
   "execution_count": 27,
   "metadata": {},
   "outputs": [],
   "source": [
    "data.drop(['category','Unnamed: 4'], axis = 1, inplace = True)"
   ]
  },
  {
   "cell_type": "code",
   "execution_count": 28,
   "metadata": {},
   "outputs": [
    {
     "data": {
      "text/html": [
       "<div>\n",
       "<style scoped>\n",
       "    .dataframe tbody tr th:only-of-type {\n",
       "        vertical-align: middle;\n",
       "    }\n",
       "\n",
       "    .dataframe tbody tr th {\n",
       "        vertical-align: top;\n",
       "    }\n",
       "\n",
       "    .dataframe thead th {\n",
       "        text-align: right;\n",
       "    }\n",
       "</style>\n",
       "<table border=\"1\" class=\"dataframe\">\n",
       "  <thead>\n",
       "    <tr style=\"text-align: right;\">\n",
       "      <th></th>\n",
       "      <th>artist</th>\n",
       "      <th>gender</th>\n",
       "      <th>genre</th>\n",
       "    </tr>\n",
       "  </thead>\n",
       "  <tbody>\n",
       "    <tr>\n",
       "      <th>0</th>\n",
       "      <td>12 Gauge</td>\n",
       "      <td>male</td>\n",
       "      <td>miami bass</td>\n",
       "    </tr>\n",
       "    <tr>\n",
       "      <th>1</th>\n",
       "      <td>1987</td>\n",
       "      <td>male</td>\n",
       "      <td>retro electro</td>\n",
       "    </tr>\n",
       "    <tr>\n",
       "      <th>2</th>\n",
       "      <td>2 Chainz</td>\n",
       "      <td>male</td>\n",
       "      <td>atl hip hop, gangster rap, hip hop, pop rap, r...</td>\n",
       "    </tr>\n",
       "    <tr>\n",
       "      <th>3</th>\n",
       "      <td>2 Pistols</td>\n",
       "      <td>male</td>\n",
       "      <td>dirty south rap, pop rap, southern hip hop, trap</td>\n",
       "    </tr>\n",
       "    <tr>\n",
       "      <th>4</th>\n",
       "      <td>21 Savage</td>\n",
       "      <td>male</td>\n",
       "      <td>atl hip hop, rap, trap</td>\n",
       "    </tr>\n",
       "  </tbody>\n",
       "</table>\n",
       "</div>"
      ],
      "text/plain": [
       "      artist gender                                              genre\n",
       "0   12 Gauge   male                                         miami bass\n",
       "1       1987   male                                      retro electro\n",
       "2   2 Chainz   male  atl hip hop, gangster rap, hip hop, pop rap, r...\n",
       "3  2 Pistols   male   dirty south rap, pop rap, southern hip hop, trap\n",
       "4  21 Savage   male                             atl hip hop, rap, trap"
      ]
     },
     "execution_count": 28,
     "metadata": {},
     "output_type": "execute_result"
    }
   ],
   "source": [
    "data.head()"
   ]
  },
  {
   "cell_type": "markdown",
   "metadata": {},
   "source": [
    "### Remove all artists with null values for genre:"
   ]
  },
  {
   "cell_type": "code",
   "execution_count": 29,
   "metadata": {},
   "outputs": [],
   "source": [
    "data = data[data['genre'].notnull()]"
   ]
  },
  {
   "cell_type": "code",
   "execution_count": 30,
   "metadata": {},
   "outputs": [
    {
     "data": {
      "text/plain": [
       "artist    0\n",
       "gender    0\n",
       "genre     0\n",
       "dtype: int64"
      ]
     },
     "execution_count": 30,
     "metadata": {},
     "output_type": "execute_result"
    }
   ],
   "source": [
    "data.isnull().sum(axis = 0)"
   ]
  },
  {
   "cell_type": "code",
   "execution_count": 31,
   "metadata": {},
   "outputs": [
    {
     "data": {
      "text/plain": [
       "(9734, 3)"
      ]
     },
     "execution_count": 31,
     "metadata": {},
     "output_type": "execute_result"
    }
   ],
   "source": [
    "data.shape"
   ]
  },
  {
   "cell_type": "markdown",
   "metadata": {},
   "source": [
    "### Each value of the genre column is a _string_ of comma separated genre labels using the spotify abbreviations. We want to convert it to a _list_ of strings."
   ]
  },
  {
   "cell_type": "markdown",
   "metadata": {},
   "source": [
    "First we carry out the split on an example:"
   ]
  },
  {
   "cell_type": "code",
   "execution_count": 32,
   "metadata": {},
   "outputs": [],
   "source": [
    "x = data.genre.iloc[2]"
   ]
  },
  {
   "cell_type": "code",
   "execution_count": 33,
   "metadata": {},
   "outputs": [
    {
     "data": {
      "text/plain": [
       "'atl hip hop, gangster rap, hip hop, pop rap, rap, southern hip hop, trap'"
      ]
     },
     "execution_count": 33,
     "metadata": {},
     "output_type": "execute_result"
    }
   ],
   "source": [
    "x"
   ]
  },
  {
   "cell_type": "code",
   "execution_count": 34,
   "metadata": {},
   "outputs": [
    {
     "data": {
      "text/plain": [
       "['atl hip hop',\n",
       " 'gangster rap',\n",
       " 'hip hop',\n",
       " 'pop rap',\n",
       " 'rap',\n",
       " 'southern hip hop',\n",
       " 'trap']"
      ]
     },
     "execution_count": 34,
     "metadata": {},
     "output_type": "execute_result"
    }
   ],
   "source": [
    "[s.strip() for s in x.split(',')]"
   ]
  },
  {
   "cell_type": "markdown",
   "metadata": {},
   "source": [
    "Now we make a function to apply to the genre column:"
   ]
  },
  {
   "cell_type": "code",
   "execution_count": 35,
   "metadata": {},
   "outputs": [],
   "source": [
    "def genrelist(string):\n",
    "    return [s.strip() for s in string.split(',')]"
   ]
  },
  {
   "cell_type": "markdown",
   "metadata": {},
   "source": [
    "Now we apply it to the whole column and put the lists in a new column:"
   ]
  },
  {
   "cell_type": "code",
   "execution_count": 37,
   "metadata": {},
   "outputs": [],
   "source": [
    "data['genrelist']= data['genre'].apply(genrelist)"
   ]
  },
  {
   "cell_type": "code",
   "execution_count": 38,
   "metadata": {},
   "outputs": [
    {
     "data": {
      "text/html": [
       "<div>\n",
       "<style scoped>\n",
       "    .dataframe tbody tr th:only-of-type {\n",
       "        vertical-align: middle;\n",
       "    }\n",
       "\n",
       "    .dataframe tbody tr th {\n",
       "        vertical-align: top;\n",
       "    }\n",
       "\n",
       "    .dataframe thead th {\n",
       "        text-align: right;\n",
       "    }\n",
       "</style>\n",
       "<table border=\"1\" class=\"dataframe\">\n",
       "  <thead>\n",
       "    <tr style=\"text-align: right;\">\n",
       "      <th></th>\n",
       "      <th>artist</th>\n",
       "      <th>gender</th>\n",
       "      <th>genre</th>\n",
       "      <th>genrelist</th>\n",
       "    </tr>\n",
       "  </thead>\n",
       "  <tbody>\n",
       "    <tr>\n",
       "      <th>0</th>\n",
       "      <td>12 Gauge</td>\n",
       "      <td>male</td>\n",
       "      <td>miami bass</td>\n",
       "      <td>[miami bass]</td>\n",
       "    </tr>\n",
       "    <tr>\n",
       "      <th>1</th>\n",
       "      <td>1987</td>\n",
       "      <td>male</td>\n",
       "      <td>retro electro</td>\n",
       "      <td>[retro electro]</td>\n",
       "    </tr>\n",
       "    <tr>\n",
       "      <th>2</th>\n",
       "      <td>2 Chainz</td>\n",
       "      <td>male</td>\n",
       "      <td>atl hip hop, gangster rap, hip hop, pop rap, r...</td>\n",
       "      <td>[atl hip hop, gangster rap, hip hop, pop rap, ...</td>\n",
       "    </tr>\n",
       "    <tr>\n",
       "      <th>3</th>\n",
       "      <td>2 Pistols</td>\n",
       "      <td>male</td>\n",
       "      <td>dirty south rap, pop rap, southern hip hop, trap</td>\n",
       "      <td>[dirty south rap, pop rap, southern hip hop, t...</td>\n",
       "    </tr>\n",
       "    <tr>\n",
       "      <th>4</th>\n",
       "      <td>21 Savage</td>\n",
       "      <td>male</td>\n",
       "      <td>atl hip hop, rap, trap</td>\n",
       "      <td>[atl hip hop, rap, trap]</td>\n",
       "    </tr>\n",
       "  </tbody>\n",
       "</table>\n",
       "</div>"
      ],
      "text/plain": [
       "      artist gender                                              genre  \\\n",
       "0   12 Gauge   male                                         miami bass   \n",
       "1       1987   male                                      retro electro   \n",
       "2   2 Chainz   male  atl hip hop, gangster rap, hip hop, pop rap, r...   \n",
       "3  2 Pistols   male   dirty south rap, pop rap, southern hip hop, trap   \n",
       "4  21 Savage   male                             atl hip hop, rap, trap   \n",
       "\n",
       "                                           genrelist  \n",
       "0                                       [miami bass]  \n",
       "1                                    [retro electro]  \n",
       "2  [atl hip hop, gangster rap, hip hop, pop rap, ...  \n",
       "3  [dirty south rap, pop rap, southern hip hop, t...  \n",
       "4                           [atl hip hop, rap, trap]  "
      ]
     },
     "execution_count": 38,
     "metadata": {},
     "output_type": "execute_result"
    }
   ],
   "source": [
    "data.head()"
   ]
  },
  {
   "cell_type": "markdown",
   "metadata": {},
   "source": [
    "Let's count the number of labels for each artist (length of the list in genrelist column):"
   ]
  },
  {
   "cell_type": "code",
   "execution_count": 39,
   "metadata": {},
   "outputs": [],
   "source": [
    "data['num_genres'] = data['genrelist'].apply(lambda x: len(x))"
   ]
  },
  {
   "cell_type": "code",
   "execution_count": 40,
   "metadata": {},
   "outputs": [
    {
     "data": {
      "text/html": [
       "<div>\n",
       "<style scoped>\n",
       "    .dataframe tbody tr th:only-of-type {\n",
       "        vertical-align: middle;\n",
       "    }\n",
       "\n",
       "    .dataframe tbody tr th {\n",
       "        vertical-align: top;\n",
       "    }\n",
       "\n",
       "    .dataframe thead th {\n",
       "        text-align: right;\n",
       "    }\n",
       "</style>\n",
       "<table border=\"1\" class=\"dataframe\">\n",
       "  <thead>\n",
       "    <tr style=\"text-align: right;\">\n",
       "      <th></th>\n",
       "      <th>artist</th>\n",
       "      <th>gender</th>\n",
       "      <th>genre</th>\n",
       "      <th>genrelist</th>\n",
       "      <th>num_genres</th>\n",
       "    </tr>\n",
       "  </thead>\n",
       "  <tbody>\n",
       "    <tr>\n",
       "      <th>0</th>\n",
       "      <td>12 Gauge</td>\n",
       "      <td>male</td>\n",
       "      <td>miami bass</td>\n",
       "      <td>[miami bass]</td>\n",
       "      <td>1</td>\n",
       "    </tr>\n",
       "    <tr>\n",
       "      <th>1</th>\n",
       "      <td>1987</td>\n",
       "      <td>male</td>\n",
       "      <td>retro electro</td>\n",
       "      <td>[retro electro]</td>\n",
       "      <td>1</td>\n",
       "    </tr>\n",
       "    <tr>\n",
       "      <th>2</th>\n",
       "      <td>2 Chainz</td>\n",
       "      <td>male</td>\n",
       "      <td>atl hip hop, gangster rap, hip hop, pop rap, r...</td>\n",
       "      <td>[atl hip hop, gangster rap, hip hop, pop rap, ...</td>\n",
       "      <td>7</td>\n",
       "    </tr>\n",
       "    <tr>\n",
       "      <th>3</th>\n",
       "      <td>2 Pistols</td>\n",
       "      <td>male</td>\n",
       "      <td>dirty south rap, pop rap, southern hip hop, trap</td>\n",
       "      <td>[dirty south rap, pop rap, southern hip hop, t...</td>\n",
       "      <td>4</td>\n",
       "    </tr>\n",
       "    <tr>\n",
       "      <th>4</th>\n",
       "      <td>21 Savage</td>\n",
       "      <td>male</td>\n",
       "      <td>atl hip hop, rap, trap</td>\n",
       "      <td>[atl hip hop, rap, trap]</td>\n",
       "      <td>3</td>\n",
       "    </tr>\n",
       "  </tbody>\n",
       "</table>\n",
       "</div>"
      ],
      "text/plain": [
       "      artist gender                                              genre  \\\n",
       "0   12 Gauge   male                                         miami bass   \n",
       "1       1987   male                                      retro electro   \n",
       "2   2 Chainz   male  atl hip hop, gangster rap, hip hop, pop rap, r...   \n",
       "3  2 Pistols   male   dirty south rap, pop rap, southern hip hop, trap   \n",
       "4  21 Savage   male                             atl hip hop, rap, trap   \n",
       "\n",
       "                                           genrelist  num_genres  \n",
       "0                                       [miami bass]           1  \n",
       "1                                    [retro electro]           1  \n",
       "2  [atl hip hop, gangster rap, hip hop, pop rap, ...           7  \n",
       "3  [dirty south rap, pop rap, southern hip hop, t...           4  \n",
       "4                           [atl hip hop, rap, trap]           3  "
      ]
     },
     "execution_count": 40,
     "metadata": {},
     "output_type": "execute_result"
    }
   ],
   "source": [
    "data.head()"
   ]
  },
  {
   "cell_type": "markdown",
   "metadata": {},
   "source": [
    "Count the min, mean, max of number of genres for male and female artists:"
   ]
  },
  {
   "cell_type": "code",
   "execution_count": 54,
   "metadata": {},
   "outputs": [
    {
     "name": "stdout",
     "output_type": "stream",
     "text": [
      "Female:\n",
      "3180 Artists.\n",
      "Mean number of genre labels: 2.5.\n",
      "STD of the number of genre labels: 2.21.\n",
      "Max number of genre labels: 22.\n"
     ]
    }
   ],
   "source": [
    "data_female = data[data.gender == 'female']\n",
    "n = data_female.shape[0]\n",
    "a,b,c = data_female.num_genres.mean(), data_female.num_genres.std(), data_female.num_genres.max()\n",
    "print('Female:')\n",
    "print(f'{n} Artists.')\n",
    "print(f'Mean number of genre labels: {round(a,2)}.')\n",
    "print(f'STD of the number of genre labels: {round(b,2)}.')\n",
    "print(f'Max number of genre labels: {c}.')"
   ]
  },
  {
   "cell_type": "code",
   "execution_count": 55,
   "metadata": {},
   "outputs": [],
   "source": [
    "# plt.hist(data_female.num_genres, bins = 25, density = True)\n",
    "# plt.show()"
   ]
  },
  {
   "cell_type": "code",
   "execution_count": 56,
   "metadata": {},
   "outputs": [
    {
     "name": "stdout",
     "output_type": "stream",
     "text": [
      "Male:\n",
      "6554 Artists.\n",
      "Mean number of genre labels: 2.75.\n",
      "STD of the number of genre labels: 2.41.\n",
      "Max number of genre labels: 20.\n"
     ]
    }
   ],
   "source": [
    "data_male = data[data.gender == 'male']\n",
    "m = data_male.shape[0]\n",
    "a,b,c = data_male.num_genres.mean(), data_male.num_genres.std(), data_male.num_genres.max()\n",
    "print('Male:')\n",
    "print(f'{m} Artists.')\n",
    "print(f'Mean number of genre labels: {round(a,2)}.')\n",
    "print(f'STD of the number of genre labels: {round(b,2)}.')\n",
    "print(f'Max number of genre labels: {c}.')"
   ]
  },
  {
   "cell_type": "code",
   "execution_count": 57,
   "metadata": {},
   "outputs": [],
   "source": [
    "# plt.hist(data_male.num_genres, bins = 25, density = True)\n",
    "# plt.show()"
   ]
  },
  {
   "cell_type": "markdown",
   "metadata": {},
   "source": [
    "### The histograms for genre labels for male and female artists. "
   ]
  },
  {
   "cell_type": "code",
   "execution_count": 58,
   "metadata": {},
   "outputs": [
    {
     "data": {
      "image/png": "[encoded data removed]",
      "text/plain": [
       "<Figure size 720x360 with 1 Axes>"
      ]
     },
     "metadata": {},
     "output_type": "display_data"
    }
   ],
   "source": [
    "plt.figure(figsize = (10, 5))\n",
    "plt.hist(data_male.num_genres, bins = range(1,24), density = False, color = 'orange', alpha = .5, label = 'male')\n",
    "plt.hist(data_female.num_genres, bins = range(1,24), density = False, color = 'blue', alpha = .5,label = 'female')\n",
    "plt.legend()\n",
    "plt.show()"
   ]
  },
  {
   "cell_type": "markdown",
   "metadata": {},
   "source": [
    "Here are the histograms as densities: the heights are scaled so as the sum of all heights is 1."
   ]
  },
  {
   "cell_type": "code",
   "execution_count": 59,
   "metadata": {},
   "outputs": [
    {
     "data": {
      "image/png": "[encoded data removed]",
      "text/plain": [
       "<Figure size 720x360 with 1 Axes>"
      ]
     },
     "metadata": {},
     "output_type": "display_data"
    }
   ],
   "source": [
    "plt.figure(figsize = (10, 5))\n",
    "plt.hist(data_male.num_genres, bins = range(1,24), density = True, color = 'orange', alpha = .5, label = 'male')\n",
    "plt.hist(data_female.num_genres, bins = range(1,24), density = True, color = 'blue', alpha = .5,label = 'female')\n",
    "plt.legend()\n",
    "plt.show()"
   ]
  },
  {
   "cell_type": "markdown",
   "metadata": {},
   "source": [
    "Let's look at three bins: $[1, mean)$, $[mean,2*mean)$, $[2*mean,25]$"
   ]
  },
  {
   "cell_type": "code",
   "execution_count": 60,
   "metadata": {},
   "outputs": [
    {
     "data": {
      "image/png": "[encoded data removed]",
      "text/plain": [
       "<Figure size 720x360 with 1 Axes>"
      ]
     },
     "metadata": {},
     "output_type": "display_data"
    }
   ],
   "source": [
    "plt.figure(figsize = (10, 5))\n",
    "plt.hist(data_male.num_genres, bins = [1,3,6,25], density = True, color = 'orange', alpha = .5, label = 'male')\n",
    "plt.hist(data_female.num_genres, bins = [1,3,6,25], density = True, color = 'blue', alpha = .5,label = 'female')\n",
    "plt.legend()\n",
    "plt.show()"
   ]
  },
  {
   "cell_type": "markdown",
   "metadata": {},
   "source": [
    "### Extracting the unique genre labels:"
   ]
  },
  {
   "cell_type": "code",
   "execution_count": 61,
   "metadata": {},
   "outputs": [],
   "source": [
    "genre_list0 = data.genrelist.values.tolist()"
   ]
  },
  {
   "cell_type": "code",
   "execution_count": 62,
   "metadata": {},
   "outputs": [
    {
     "data": {
      "text/plain": [
       "[['miami bass'],\n",
       " ['retro electro'],\n",
       " ['atl hip hop',\n",
       "  'gangster rap',\n",
       "  'hip hop',\n",
       "  'pop rap',\n",
       "  'rap',\n",
       "  'southern hip hop',\n",
       "  'trap'],\n",
       " ['dirty south rap', 'pop rap', 'southern hip hop', 'trap'],\n",
       " ['atl hip hop', 'rap', 'trap']]"
      ]
     },
     "execution_count": 62,
     "metadata": {},
     "output_type": "execute_result"
    }
   ],
   "source": [
    "genre_list0[:5]"
   ]
  },
  {
   "cell_type": "code",
   "execution_count": 63,
   "metadata": {},
   "outputs": [
    {
     "data": {
      "text/plain": [
       "25998"
      ]
     },
     "execution_count": 63,
     "metadata": {},
     "output_type": "execute_result"
    }
   ],
   "source": [
    "genre_list1 = [x for y in genre_list0 for x in y]\n",
    "len(genre_list1)"
   ]
  },
  {
   "cell_type": "markdown",
   "metadata": {},
   "source": [
    "## What are the most common genre labels?\n",
    "\n",
    "### Count the number of times that a label occurs:"
   ]
  },
  {
   "cell_type": "code",
   "execution_count": 117,
   "metadata": {},
   "outputs": [],
   "source": [
    "df = pd.Series(genre_list1)\n",
    "label_value_counts = df.value_counts()"
   ]
  },
  {
   "cell_type": "code",
   "execution_count": 118,
   "metadata": {},
   "outputs": [
    {
     "data": {
      "text/plain": [
       "dance pop               282\n",
       "folk                    268\n",
       "pop                     258\n",
       "rap                     253\n",
       "pop rap                 250\n",
       "country rock            231\n",
       "country                 230\n",
       "urban contemporary      222\n",
       "adult standards         222\n",
       "hip hop                 217\n",
       "folk rock               202\n",
       "post-teen pop           200\n",
       "soft rock               196\n",
       "mellow gold             194\n",
       "trap                    194\n",
       "southern hip hop        187\n",
       "r&b                     177\n",
       "country road            173\n",
       "roots rock              171\n",
       "contemporary country    171\n",
       "dtype: int64"
      ]
     },
     "execution_count": 118,
     "metadata": {},
     "output_type": "execute_result"
    }
   ],
   "source": [
    "label_value_counts[:20]"
   ]
  },
  {
   "cell_type": "code",
   "execution_count": 119,
   "metadata": {},
   "outputs": [
    {
     "data": {
      "text/plain": [
       "(1902,)"
      ]
     },
     "execution_count": 119,
     "metadata": {},
     "output_type": "execute_result"
    }
   ],
   "source": [
    "label_value_counts.shape"
   ]
  },
  {
   "cell_type": "markdown",
   "metadata": {},
   "source": [
    "### Now let's count the most common genre labels for male and female... TBD"
   ]
  },
  {
   "cell_type": "markdown",
   "metadata": {},
   "source": [
    "The unique values as a list:"
   ]
  },
  {
   "cell_type": "code",
   "execution_count": 120,
   "metadata": {},
   "outputs": [
    {
     "name": "stdout",
     "output_type": "stream",
     "text": [
      "There are 1902 unique genre labels\n"
     ]
    }
   ],
   "source": [
    "genre_list = list(set(genre_list1))\n",
    "print(f'There are {len(genre_list)} unique genre labels')"
   ]
  },
  {
   "cell_type": "markdown",
   "metadata": {},
   "source": [
    "### Let's take a look at which genre labels appear when there are at least G genre labels (G to be determined)."
   ]
  },
  {
   "cell_type": "code",
   "execution_count": 121,
   "metadata": {},
   "outputs": [
    {
     "data": {
      "text/html": [
       "<div>\n",
       "<style scoped>\n",
       "    .dataframe tbody tr th:only-of-type {\n",
       "        vertical-align: middle;\n",
       "    }\n",
       "\n",
       "    .dataframe tbody tr th {\n",
       "        vertical-align: top;\n",
       "    }\n",
       "\n",
       "    .dataframe thead th {\n",
       "        text-align: right;\n",
       "    }\n",
       "</style>\n",
       "<table border=\"1\" class=\"dataframe\">\n",
       "  <thead>\n",
       "    <tr style=\"text-align: right;\">\n",
       "      <th></th>\n",
       "      <th>artist</th>\n",
       "      <th>gender</th>\n",
       "      <th>genre</th>\n",
       "      <th>genrelist</th>\n",
       "      <th>num_genres</th>\n",
       "    </tr>\n",
       "  </thead>\n",
       "  <tbody>\n",
       "    <tr>\n",
       "      <th>0</th>\n",
       "      <td>12 Gauge</td>\n",
       "      <td>male</td>\n",
       "      <td>miami bass</td>\n",
       "      <td>[miami bass]</td>\n",
       "      <td>1</td>\n",
       "    </tr>\n",
       "    <tr>\n",
       "      <th>1</th>\n",
       "      <td>1987</td>\n",
       "      <td>male</td>\n",
       "      <td>retro electro</td>\n",
       "      <td>[retro electro]</td>\n",
       "      <td>1</td>\n",
       "    </tr>\n",
       "    <tr>\n",
       "      <th>2</th>\n",
       "      <td>2 Chainz</td>\n",
       "      <td>male</td>\n",
       "      <td>atl hip hop, gangster rap, hip hop, pop rap, r...</td>\n",
       "      <td>[atl hip hop, gangster rap, hip hop, pop rap, ...</td>\n",
       "      <td>7</td>\n",
       "    </tr>\n",
       "    <tr>\n",
       "      <th>3</th>\n",
       "      <td>2 Pistols</td>\n",
       "      <td>male</td>\n",
       "      <td>dirty south rap, pop rap, southern hip hop, trap</td>\n",
       "      <td>[dirty south rap, pop rap, southern hip hop, t...</td>\n",
       "      <td>4</td>\n",
       "    </tr>\n",
       "    <tr>\n",
       "      <th>4</th>\n",
       "      <td>21 Savage</td>\n",
       "      <td>male</td>\n",
       "      <td>atl hip hop, rap, trap</td>\n",
       "      <td>[atl hip hop, rap, trap]</td>\n",
       "      <td>3</td>\n",
       "    </tr>\n",
       "  </tbody>\n",
       "</table>\n",
       "</div>"
      ],
      "text/plain": [
       "      artist gender                                              genre  \\\n",
       "0   12 Gauge   male                                         miami bass   \n",
       "1       1987   male                                      retro electro   \n",
       "2   2 Chainz   male  atl hip hop, gangster rap, hip hop, pop rap, r...   \n",
       "3  2 Pistols   male   dirty south rap, pop rap, southern hip hop, trap   \n",
       "4  21 Savage   male                             atl hip hop, rap, trap   \n",
       "\n",
       "                                           genrelist  num_genres  \n",
       "0                                       [miami bass]           1  \n",
       "1                                    [retro electro]           1  \n",
       "2  [atl hip hop, gangster rap, hip hop, pop rap, ...           7  \n",
       "3  [dirty south rap, pop rap, southern hip hop, t...           4  \n",
       "4                           [atl hip hop, rap, trap]           3  "
      ]
     },
     "execution_count": 121,
     "metadata": {},
     "output_type": "execute_result"
    }
   ],
   "source": [
    "data.head()"
   ]
  },
  {
   "cell_type": "code",
   "execution_count": 94,
   "metadata": {},
   "outputs": [],
   "source": [
    "G = 5"
   ]
  },
  {
   "cell_type": "code",
   "execution_count": 95,
   "metadata": {},
   "outputs": [],
   "source": [
    "data_many = data[data.num_genres > G]"
   ]
  },
  {
   "cell_type": "code",
   "execution_count": 96,
   "metadata": {},
   "outputs": [
    {
     "data": {
      "text/plain": [
       "(1169, 5)"
      ]
     },
     "execution_count": 96,
     "metadata": {},
     "output_type": "execute_result"
    }
   ],
   "source": [
    "data_many.shape"
   ]
  },
  {
   "cell_type": "markdown",
   "metadata": {},
   "source": [
    "### List of genre labels that appear for artists with more than 5 labels:"
   ]
  },
  {
   "cell_type": "code",
   "execution_count": 97,
   "metadata": {},
   "outputs": [],
   "source": [
    "# preliminary list of lists\n",
    "genre_list_G = data_many.genrelist.values.tolist()"
   ]
  },
  {
   "cell_type": "code",
   "execution_count": 99,
   "metadata": {},
   "outputs": [
    {
     "data": {
      "text/plain": [
       "[['atl hip hop',\n",
       "  'gangster rap',\n",
       "  'hip hop',\n",
       "  'pop rap',\n",
       "  'rap',\n",
       "  'southern hip hop',\n",
       "  'trap'],\n",
       " ['east coast hip hop',\n",
       "  'gangster rap',\n",
       "  'hip hop',\n",
       "  'pop rap',\n",
       "  'queens hip hop',\n",
       "  'rap']]"
      ]
     },
     "execution_count": 99,
     "metadata": {},
     "output_type": "execute_result"
    }
   ],
   "source": [
    "genre_list_G[:2]"
   ]
  },
  {
   "cell_type": "code",
   "execution_count": 100,
   "metadata": {},
   "outputs": [],
   "source": [
    "# flatten the list of lists to a list\n",
    "genre_list_G = [x for y in genre_list_G for x in y]"
   ]
  },
  {
   "cell_type": "markdown",
   "metadata": {},
   "source": [
    "Count the number of times that a label occurs, filter out labels that occur less than 100 times"
   ]
  },
  {
   "cell_type": "code",
   "execution_count": 109,
   "metadata": {},
   "outputs": [
    {
     "data": {
      "text/plain": [
       "rap                   177\n",
       "hip hop               160\n",
       "folk                  160\n",
       "folk rock             158\n",
       "dance pop             156\n",
       "pop rap               155\n",
       "mellow gold           148\n",
       "southern hip hop      144\n",
       "country rock          130\n",
       "gangster rap          127\n",
       "roots rock            126\n",
       "urban contemporary    122\n",
       "soft rock             119\n",
       "trap                  119\n",
       "classic rock          113\n",
       "pop                   112\n",
       "rock                  110\n",
       "traditional folk      109\n",
       "adult standards       105\n",
       "soul                  102\n",
       "r&b                   101\n",
       "dtype: int64"
      ]
     },
     "execution_count": 109,
     "metadata": {},
     "output_type": "execute_result"
    }
   ],
   "source": [
    "df = pd.Series(genre_list_G)\n",
    "df.value_counts()[df.value_counts() > 99]"
   ]
  },
  {
   "cell_type": "markdown",
   "metadata": {},
   "source": [
    "The unique values of these promiscuous genres:"
   ]
  },
  {
   "cell_type": "code",
   "execution_count": 113,
   "metadata": {},
   "outputs": [
    {
     "name": "stdout",
     "output_type": "stream",
     "text": [
      "There are 787 unique genre labels used for artists with at least 6 labels\n"
     ]
    }
   ],
   "source": [
    "genre_list_G_unique = list(set(genre_list_G))\n",
    "print(f'There are {len(genre_list_G_unique)} unique genre labels used for artists with at least 6 labels')"
   ]
  },
  {
   "cell_type": "markdown",
   "metadata": {},
   "source": [
    "We also want to look at these in terms of gender..."
   ]
  },
  {
   "cell_type": "code",
   "execution_count": null,
   "metadata": {},
   "outputs": [],
   "source": []
  }
 ],
 "metadata": {
  "kernelspec": {
   "display_name": "Python 3",
   "language": "python",
   "name": "python3"
  },
  "language_info": {
   "codemirror_mode": {
    "name": "ipython",
    "version": 3
   },
   "file_extension": ".py",
   "mimetype": "text/x-python",
   "name": "python",
   "nbconvert_exporter": "python",
   "pygments_lexer": "ipython3",
   "version": "3.7.3"
  }
 },
 "nbformat": 4,
 "nbformat_minor": 4
}
