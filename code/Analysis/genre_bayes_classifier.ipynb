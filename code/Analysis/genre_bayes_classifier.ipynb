{
 "cells": [
  {
   "cell_type": "markdown",
   "metadata": {},
   "source": [
    "# Create a Bayes Classifier as a baseline for our modeling"
   ]
  },
  {
   "cell_type": "markdown",
   "metadata": {},
   "source": [
    "- [ ] use the code below and apply to the data divided into male and female\n",
    "- [ ] multiply by priors and create bayes classifier\n",
    "- [ ] redo using CV to see scores"
   ]
  },
  {
   "cell_type": "code",
   "execution_count": 1,
   "metadata": {},
   "outputs": [],
   "source": [
    "import numpy as np\n",
    "import pandas as pd\n",
    "\n",
    "import matplotlib.pyplot as plt\n",
    "import seaborn as sns; sns.set()\n",
    "\n",
    "import re"
   ]
  },
  {
   "cell_type": "markdown",
   "metadata": {},
   "source": [
    "Import the cleaned data:"
   ]
  },
  {
   "cell_type": "code",
   "execution_count": 2,
   "metadata": {
    "scrolled": true
   },
   "outputs": [],
   "source": [
    "#%ls -lt ../../data/genre_lists/data_ready_for_model/"
   ]
  },
  {
   "cell_type": "code",
   "execution_count": 3,
   "metadata": {
    "scrolled": true
   },
   "outputs": [
    {
     "data": {
      "text/plain": [
       "'2020-05-18-10-06'"
      ]
     },
     "execution_count": 3,
     "metadata": {},
     "output_type": "execute_result"
    }
   ],
   "source": [
    "%store -r now\n",
    "now\n",
    "#now = '2020-05-11-14-35'"
   ]
  },
  {
   "cell_type": "code",
   "execution_count": 4,
   "metadata": {
    "scrolled": true
   },
   "outputs": [],
   "source": [
    "X_train = pd.read_csv('/Users/Daniel/Code/Genre/data/genre_lists/data_ready_for_model/wiki-kaggle_X_train_{}.csv'.format(now), index_col = ['artist'])\n",
    "y_train = pd.read_csv('/Users/Daniel/Code/Genre/data/genre_lists/data_ready_for_model/wiki-kaggle_y_train_{}.csv'.format(now), index_col = ['artist'])"
   ]
  },
  {
   "cell_type": "markdown",
   "metadata": {},
   "source": [
    "### Genre Labels -- as a set\n",
    "\n",
    "Each value of the genre column is a _string_ of comma separated genre labels using the spotify abbreviations. We want to convert it to a _set_ of strings."
   ]
  },
  {
   "cell_type": "code",
   "execution_count": 5,
   "metadata": {},
   "outputs": [],
   "source": [
    "\"\"\"This function takes in a string of the form\n",
    "appearing in the genrelist of the dataframe.\n",
    "It strips the square brackets and extra quotes and\n",
    "returns a list of strings where each string is a genre label.\"\"\"\n",
    "def genrelist(string):\n",
    "    string = string.strip(\"[\").strip(\"]\").replace(\"'\",\"\")\n",
    "    L = [s for s in string.split(',')]\n",
    "    L_new = []\n",
    "    for x in L:\n",
    "        L_new.append(x.replace(\" \",\"_\").lstrip(\"_\").rstrip(\"_\"))\n",
    "    while (str(\"\") in L_new):\n",
    "        L_new.remove(\"\")\n",
    "    return set(L_new)"
   ]
  },
  {
   "cell_type": "markdown",
   "metadata": {},
   "source": [
    "Now we apply\n",
    "- it to the whole column and put the lists in a new column\n",
    "- assemble X,y into DF\n",
    "-reset index to 'artist_id'"
   ]
  },
  {
   "cell_type": "code",
   "execution_count": 6,
   "metadata": {},
   "outputs": [],
   "source": [
    "X_train['genre_set']= X_train['genrelist'].apply(genrelist)\n",
    "\n",
    "data = X_train.join(y_train, how = 'inner', on = 'artist')\n",
    "\n",
    "data.reset_index(inplace = True)\n",
    "data.index.name = 'artist_id'\n",
    "data_set_size = data.shape[0]"
   ]
  },
  {
   "cell_type": "code",
   "execution_count": 7,
   "metadata": {},
   "outputs": [
    {
     "data": {
      "text/html": [
       "<div>\n",
       "<style scoped>\n",
       "    .dataframe tbody tr th:only-of-type {\n",
       "        vertical-align: middle;\n",
       "    }\n",
       "\n",
       "    .dataframe tbody tr th {\n",
       "        vertical-align: top;\n",
       "    }\n",
       "\n",
       "    .dataframe thead th {\n",
       "        text-align: right;\n",
       "    }\n",
       "</style>\n",
       "<table border=\"1\" class=\"dataframe\">\n",
       "  <thead>\n",
       "    <tr style=\"text-align: right;\">\n",
       "      <th></th>\n",
       "      <th>artist</th>\n",
       "      <th>genrelist</th>\n",
       "      <th>genrelist_length</th>\n",
       "      <th>genre_set</th>\n",
       "      <th>gender</th>\n",
       "    </tr>\n",
       "    <tr>\n",
       "      <th>artist_id</th>\n",
       "      <th></th>\n",
       "      <th></th>\n",
       "      <th></th>\n",
       "      <th></th>\n",
       "      <th></th>\n",
       "    </tr>\n",
       "  </thead>\n",
       "  <tbody>\n",
       "    <tr>\n",
       "      <th>0</th>\n",
       "      <td>Pablo_Holman</td>\n",
       "      <td>['pop', 'rock', 'emo_pop']</td>\n",
       "      <td>3</td>\n",
       "      <td>{emo_pop, pop, rock}</td>\n",
       "      <td>male</td>\n",
       "    </tr>\n",
       "    <tr>\n",
       "      <th>1</th>\n",
       "      <td>Bobby_Edwards</td>\n",
       "      <td>['country']</td>\n",
       "      <td>1</td>\n",
       "      <td>{country}</td>\n",
       "      <td>male</td>\n",
       "    </tr>\n",
       "    <tr>\n",
       "      <th>2</th>\n",
       "      <td>La_Palabra</td>\n",
       "      <td>['afro_cuban_jazz', 'son_montuno', 'guaracha',...</td>\n",
       "      <td>4</td>\n",
       "      <td>{guaracha, salsa_romántica, afro_cuban_jazz, s...</td>\n",
       "      <td>male</td>\n",
       "    </tr>\n",
       "    <tr>\n",
       "      <th>3</th>\n",
       "      <td>Sherrick</td>\n",
       "      <td>['r_and_b', 'soul']</td>\n",
       "      <td>2</td>\n",
       "      <td>{r_and_b, soul}</td>\n",
       "      <td>male</td>\n",
       "    </tr>\n",
       "    <tr>\n",
       "      <th>4</th>\n",
       "      <td>Allen_Collins</td>\n",
       "      <td>['southern_rock']</td>\n",
       "      <td>1</td>\n",
       "      <td>{southern_rock}</td>\n",
       "      <td>male</td>\n",
       "    </tr>\n",
       "  </tbody>\n",
       "</table>\n",
       "</div>"
      ],
      "text/plain": [
       "                  artist                                          genrelist  \\\n",
       "artist_id                                                                     \n",
       "0           Pablo_Holman                         ['pop', 'rock', 'emo_pop']   \n",
       "1          Bobby_Edwards                                        ['country']   \n",
       "2             La_Palabra  ['afro_cuban_jazz', 'son_montuno', 'guaracha',...   \n",
       "3               Sherrick                                ['r_and_b', 'soul']   \n",
       "4          Allen_Collins                                  ['southern_rock']   \n",
       "\n",
       "           genrelist_length  \\\n",
       "artist_id                     \n",
       "0                         3   \n",
       "1                         1   \n",
       "2                         4   \n",
       "3                         2   \n",
       "4                         1   \n",
       "\n",
       "                                                   genre_set gender  \n",
       "artist_id                                                            \n",
       "0                                       {emo_pop, pop, rock}   male  \n",
       "1                                                  {country}   male  \n",
       "2          {guaracha, salsa_romántica, afro_cuban_jazz, s...   male  \n",
       "3                                            {r_and_b, soul}   male  \n",
       "4                                            {southern_rock}   male  "
      ]
     },
     "execution_count": 7,
     "metadata": {},
     "output_type": "execute_result"
    }
   ],
   "source": [
    "data.head()"
   ]
  },
  {
   "cell_type": "markdown",
   "metadata": {},
   "source": [
    "- Full genre_list (not just that for the training set)\n",
    "- Vocab Dict and Size\n",
    "- max length of lists"
   ]
  },
  {
   "cell_type": "code",
   "execution_count": 10,
   "metadata": {},
   "outputs": [],
   "source": [
    "genre_list = pd.read_csv('/Users/Daniel/Code/Genre/data/genre_lists/data_ready_for_model/genre_list_{}.csv'.format(now))\n",
    "genre_list.drop(['Unnamed: 0'], axis = 1, inplace = True)\n",
    "genre_list['genre_id'] = list(range(1,genre_list.shape[0]+1))\n",
    "\n",
    "#Size of the vocab:\n",
    "vocab_size = genre_list.shape[0]\n",
    "\n",
    "#Create a dictionary {genre_label: genre_id}\n",
    "temp = genre_list.set_index(['genre_list'])\n",
    "label_id_dict = temp['genre_id'].to_dict()\n",
    "\n",
    "# set genre_id to index\n",
    "genre_list.set_index(['genre_id'], inplace = True)\n",
    "\n",
    "#Find max length of genre lists:\n",
    "max_list_length = data.genrelist_length.max()"
   ]
  },
  {
   "cell_type": "code",
   "execution_count": 11,
   "metadata": {},
   "outputs": [
    {
     "data": {
      "text/html": [
       "<div>\n",
       "<style scoped>\n",
       "    .dataframe tbody tr th:only-of-type {\n",
       "        vertical-align: middle;\n",
       "    }\n",
       "\n",
       "    .dataframe tbody tr th {\n",
       "        vertical-align: top;\n",
       "    }\n",
       "\n",
       "    .dataframe thead th {\n",
       "        text-align: right;\n",
       "    }\n",
       "</style>\n",
       "<table border=\"1\" class=\"dataframe\">\n",
       "  <thead>\n",
       "    <tr style=\"text-align: right;\">\n",
       "      <th></th>\n",
       "      <th>genre_list</th>\n",
       "    </tr>\n",
       "    <tr>\n",
       "      <th>genre_id</th>\n",
       "      <th></th>\n",
       "    </tr>\n",
       "  </thead>\n",
       "  <tbody>\n",
       "    <tr>\n",
       "      <th>1</th>\n",
       "      <td>chilean</td>\n",
       "    </tr>\n",
       "    <tr>\n",
       "      <th>2</th>\n",
       "      <td>zamba</td>\n",
       "    </tr>\n",
       "    <tr>\n",
       "      <th>3</th>\n",
       "      <td>afro_punk_blues</td>\n",
       "    </tr>\n",
       "    <tr>\n",
       "      <th>4</th>\n",
       "      <td>crunk</td>\n",
       "    </tr>\n",
       "    <tr>\n",
       "      <th>5</th>\n",
       "      <td>spanish_guitar</td>\n",
       "    </tr>\n",
       "    <tr>\n",
       "      <th>...</th>\n",
       "      <td>...</td>\n",
       "    </tr>\n",
       "    <tr>\n",
       "      <th>1490</th>\n",
       "      <td>british_rock</td>\n",
       "    </tr>\n",
       "    <tr>\n",
       "      <th>1491</th>\n",
       "      <td>funeral_doom_metal</td>\n",
       "    </tr>\n",
       "    <tr>\n",
       "      <th>1492</th>\n",
       "      <td>blues_soul</td>\n",
       "    </tr>\n",
       "    <tr>\n",
       "      <th>1493</th>\n",
       "      <td>mainstream</td>\n",
       "    </tr>\n",
       "    <tr>\n",
       "      <th>1494</th>\n",
       "      <td>canción</td>\n",
       "    </tr>\n",
       "  </tbody>\n",
       "</table>\n",
       "<p>1494 rows × 1 columns</p>\n",
       "</div>"
      ],
      "text/plain": [
       "                  genre_list\n",
       "genre_id                    \n",
       "1                    chilean\n",
       "2                      zamba\n",
       "3            afro_punk_blues\n",
       "4                      crunk\n",
       "5             spanish_guitar\n",
       "...                      ...\n",
       "1490            british_rock\n",
       "1491      funeral_doom_metal\n",
       "1492              blues_soul\n",
       "1493              mainstream\n",
       "1494                 canción\n",
       "\n",
       "[1494 rows x 1 columns]"
      ]
     },
     "execution_count": 11,
     "metadata": {},
     "output_type": "execute_result"
    }
   ],
   "source": [
    "genre_list"
   ]
  },
  {
   "cell_type": "code",
   "execution_count": 12,
   "metadata": {},
   "outputs": [],
   "source": [
    "# encode labels as ints within the list\n",
    "def encode_list(row):\n",
    "    return {label_id_dict[item] for item in row.genre_set}\n",
    "\n",
    "data['genre_set_encoded'] = data.apply(encode_list, axis = 1)\n",
    "\n",
    "#Check that the encoding is consistent: \n",
    "# n = np.random.randint(data.shape[0])\n",
    "# [label_id_dict[item] for item in data.genrelist.iloc[n]], data.genres_encoded_as_list.iloc[n]\n",
    "\n",
    "# Encode targets. The categories still appear as strings. To see the encoding use df.column.cat.codes.\n",
    "data['gender'] = data.gender.apply(lambda x: 1 if x == 'female' else 0)"
   ]
  },
  {
   "cell_type": "code",
   "execution_count": 13,
   "metadata": {},
   "outputs": [
    {
     "data": {
      "text/html": [
       "<div>\n",
       "<style scoped>\n",
       "    .dataframe tbody tr th:only-of-type {\n",
       "        vertical-align: middle;\n",
       "    }\n",
       "\n",
       "    .dataframe tbody tr th {\n",
       "        vertical-align: top;\n",
       "    }\n",
       "\n",
       "    .dataframe thead th {\n",
       "        text-align: right;\n",
       "    }\n",
       "</style>\n",
       "<table border=\"1\" class=\"dataframe\">\n",
       "  <thead>\n",
       "    <tr style=\"text-align: right;\">\n",
       "      <th></th>\n",
       "      <th>artist</th>\n",
       "      <th>genrelist</th>\n",
       "      <th>genrelist_length</th>\n",
       "      <th>genre_set</th>\n",
       "      <th>gender</th>\n",
       "      <th>genre_set_encoded</th>\n",
       "    </tr>\n",
       "    <tr>\n",
       "      <th>artist_id</th>\n",
       "      <th></th>\n",
       "      <th></th>\n",
       "      <th></th>\n",
       "      <th></th>\n",
       "      <th></th>\n",
       "      <th></th>\n",
       "    </tr>\n",
       "  </thead>\n",
       "  <tbody>\n",
       "    <tr>\n",
       "      <th>0</th>\n",
       "      <td>Pablo_Holman</td>\n",
       "      <td>['pop', 'rock', 'emo_pop']</td>\n",
       "      <td>3</td>\n",
       "      <td>{emo_pop, pop, rock}</td>\n",
       "      <td>0</td>\n",
       "      <td>{1431, 794, 1007}</td>\n",
       "    </tr>\n",
       "    <tr>\n",
       "      <th>1</th>\n",
       "      <td>Bobby_Edwards</td>\n",
       "      <td>['country']</td>\n",
       "      <td>1</td>\n",
       "      <td>{country}</td>\n",
       "      <td>0</td>\n",
       "      <td>{465}</td>\n",
       "    </tr>\n",
       "    <tr>\n",
       "      <th>2</th>\n",
       "      <td>La_Palabra</td>\n",
       "      <td>['afro_cuban_jazz', 'son_montuno', 'guaracha',...</td>\n",
       "      <td>4</td>\n",
       "      <td>{guaracha, salsa_romántica, afro_cuban_jazz, s...</td>\n",
       "      <td>0</td>\n",
       "      <td>{809, 1442, 1004, 1357}</td>\n",
       "    </tr>\n",
       "    <tr>\n",
       "      <th>3</th>\n",
       "      <td>Sherrick</td>\n",
       "      <td>['r_and_b', 'soul']</td>\n",
       "      <td>2</td>\n",
       "      <td>{r_and_b, soul}</td>\n",
       "      <td>0</td>\n",
       "      <td>{1426, 359}</td>\n",
       "    </tr>\n",
       "    <tr>\n",
       "      <th>4</th>\n",
       "      <td>Allen_Collins</td>\n",
       "      <td>['southern_rock']</td>\n",
       "      <td>1</td>\n",
       "      <td>{southern_rock}</td>\n",
       "      <td>0</td>\n",
       "      <td>{1186}</td>\n",
       "    </tr>\n",
       "  </tbody>\n",
       "</table>\n",
       "</div>"
      ],
      "text/plain": [
       "                  artist                                          genrelist  \\\n",
       "artist_id                                                                     \n",
       "0           Pablo_Holman                         ['pop', 'rock', 'emo_pop']   \n",
       "1          Bobby_Edwards                                        ['country']   \n",
       "2             La_Palabra  ['afro_cuban_jazz', 'son_montuno', 'guaracha',...   \n",
       "3               Sherrick                                ['r_and_b', 'soul']   \n",
       "4          Allen_Collins                                  ['southern_rock']   \n",
       "\n",
       "           genrelist_length  \\\n",
       "artist_id                     \n",
       "0                         3   \n",
       "1                         1   \n",
       "2                         4   \n",
       "3                         2   \n",
       "4                         1   \n",
       "\n",
       "                                                   genre_set  gender  \\\n",
       "artist_id                                                              \n",
       "0                                       {emo_pop, pop, rock}       0   \n",
       "1                                                  {country}       0   \n",
       "2          {guaracha, salsa_romántica, afro_cuban_jazz, s...       0   \n",
       "3                                            {r_and_b, soul}       0   \n",
       "4                                            {southern_rock}       0   \n",
       "\n",
       "                 genre_set_encoded  \n",
       "artist_id                           \n",
       "0                {1431, 794, 1007}  \n",
       "1                            {465}  \n",
       "2          {809, 1442, 1004, 1357}  \n",
       "3                      {1426, 359}  \n",
       "4                           {1186}  "
      ]
     },
     "execution_count": 13,
     "metadata": {},
     "output_type": "execute_result"
    }
   ],
   "source": [
    "data.head()"
   ]
  },
  {
   "cell_type": "markdown",
   "metadata": {},
   "source": [
    "Initialize list of genre sets and counts:"
   ]
  },
  {
   "cell_type": "code",
   "execution_count": 14,
   "metadata": {},
   "outputs": [],
   "source": [
    "genre_sets = [] # a list of the genre sets\n",
    "set_counts = {} # a dictionary of items {int id for genre set : frequency of that genre set}"
   ]
  },
  {
   "cell_type": "code",
   "execution_count": 15,
   "metadata": {},
   "outputs": [],
   "source": [
    "def set_counting(row):\n",
    "    if row.genre_set_encoded in genre_sets:\n",
    "        set_counts[genre_sets.index(row.genre_set_encoded)] += 1\n",
    "    else: \n",
    "        genre_sets.append(row.genre_set_encoded)\n",
    "        set_counts[len(set_counts)] = 1"
   ]
  },
  {
   "cell_type": "code",
   "execution_count": 16,
   "metadata": {},
   "outputs": [],
   "source": [
    "data.apply(set_counting, axis = 1);"
   ]
  },
  {
   "cell_type": "code",
   "execution_count": 17,
   "metadata": {},
   "outputs": [],
   "source": [
    "# fnc from set to count\n",
    "def set_to_count(genreset):\n",
    "    return set_counts[genre_sets.index(genreset)]"
   ]
  },
  {
   "cell_type": "code",
   "execution_count": 18,
   "metadata": {},
   "outputs": [
    {
     "data": {
      "text/plain": [
       "101"
      ]
     },
     "execution_count": 18,
     "metadata": {},
     "output_type": "execute_result"
    }
   ],
   "source": [
    "# example:\n",
    "set_to_count({1426,359})"
   ]
  },
  {
   "cell_type": "code",
   "execution_count": 19,
   "metadata": {},
   "outputs": [
    {
     "data": {
      "text/html": [
       "<div>\n",
       "<style scoped>\n",
       "    .dataframe tbody tr th:only-of-type {\n",
       "        vertical-align: middle;\n",
       "    }\n",
       "\n",
       "    .dataframe tbody tr th {\n",
       "        vertical-align: top;\n",
       "    }\n",
       "\n",
       "    .dataframe thead th {\n",
       "        text-align: right;\n",
       "    }\n",
       "</style>\n",
       "<table border=\"1\" class=\"dataframe\">\n",
       "  <thead>\n",
       "    <tr style=\"text-align: right;\">\n",
       "      <th></th>\n",
       "      <th>artist</th>\n",
       "      <th>genrelist</th>\n",
       "      <th>genrelist_length</th>\n",
       "      <th>genre_set</th>\n",
       "      <th>gender</th>\n",
       "      <th>genre_set_encoded</th>\n",
       "    </tr>\n",
       "    <tr>\n",
       "      <th>artist_id</th>\n",
       "      <th></th>\n",
       "      <th></th>\n",
       "      <th></th>\n",
       "      <th></th>\n",
       "      <th></th>\n",
       "      <th></th>\n",
       "    </tr>\n",
       "  </thead>\n",
       "  <tbody>\n",
       "    <tr>\n",
       "      <th>3</th>\n",
       "      <td>Sherrick</td>\n",
       "      <td>['r_and_b', 'soul']</td>\n",
       "      <td>2</td>\n",
       "      <td>{r_and_b, soul}</td>\n",
       "      <td>0</td>\n",
       "      <td>{1426, 359}</td>\n",
       "    </tr>\n",
       "    <tr>\n",
       "      <th>12</th>\n",
       "      <td>Frankie_DeCarlos</td>\n",
       "      <td>['r_and_b', 'soul']</td>\n",
       "      <td>2</td>\n",
       "      <td>{r_and_b, soul}</td>\n",
       "      <td>0</td>\n",
       "      <td>{1426, 359}</td>\n",
       "    </tr>\n",
       "    <tr>\n",
       "      <th>191</th>\n",
       "      <td>Otis_Redding</td>\n",
       "      <td>['soul', 'r_and_b']</td>\n",
       "      <td>2</td>\n",
       "      <td>{r_and_b, soul}</td>\n",
       "      <td>0</td>\n",
       "      <td>{1426, 359}</td>\n",
       "    </tr>\n",
       "    <tr>\n",
       "      <th>263</th>\n",
       "      <td>Donell_Jones</td>\n",
       "      <td>['r_and_b', 'soul']</td>\n",
       "      <td>2</td>\n",
       "      <td>{r_and_b, soul}</td>\n",
       "      <td>0</td>\n",
       "      <td>{1426, 359}</td>\n",
       "    </tr>\n",
       "    <tr>\n",
       "      <th>265</th>\n",
       "      <td>Blinky</td>\n",
       "      <td>['r_and_b', 'soul']</td>\n",
       "      <td>2</td>\n",
       "      <td>{r_and_b, soul}</td>\n",
       "      <td>1</td>\n",
       "      <td>{1426, 359}</td>\n",
       "    </tr>\n",
       "    <tr>\n",
       "      <th>...</th>\n",
       "      <td>...</td>\n",
       "      <td>...</td>\n",
       "      <td>...</td>\n",
       "      <td>...</td>\n",
       "      <td>...</td>\n",
       "      <td>...</td>\n",
       "    </tr>\n",
       "    <tr>\n",
       "      <th>11853</th>\n",
       "      <td>Timmy_Shaw</td>\n",
       "      <td>['r_and_b', 'soul']</td>\n",
       "      <td>2</td>\n",
       "      <td>{r_and_b, soul}</td>\n",
       "      <td>0</td>\n",
       "      <td>{1426, 359}</td>\n",
       "    </tr>\n",
       "    <tr>\n",
       "      <th>11930</th>\n",
       "      <td>Johnny_Bristol</td>\n",
       "      <td>['r_and_b', 'soul']</td>\n",
       "      <td>2</td>\n",
       "      <td>{r_and_b, soul}</td>\n",
       "      <td>0</td>\n",
       "      <td>{1426, 359}</td>\n",
       "    </tr>\n",
       "    <tr>\n",
       "      <th>11955</th>\n",
       "      <td>Tammi_Terrell</td>\n",
       "      <td>['r_and_b', 'soul']</td>\n",
       "      <td>2</td>\n",
       "      <td>{r_and_b, soul}</td>\n",
       "      <td>1</td>\n",
       "      <td>{1426, 359}</td>\n",
       "    </tr>\n",
       "    <tr>\n",
       "      <th>12107</th>\n",
       "      <td>Megan_Rochell</td>\n",
       "      <td>['r_and_b', 'soul']</td>\n",
       "      <td>2</td>\n",
       "      <td>{r_and_b, soul}</td>\n",
       "      <td>1</td>\n",
       "      <td>{1426, 359}</td>\n",
       "    </tr>\n",
       "    <tr>\n",
       "      <th>12203</th>\n",
       "      <td>Sam_Moore</td>\n",
       "      <td>['r_and_b', 'soul']</td>\n",
       "      <td>2</td>\n",
       "      <td>{r_and_b, soul}</td>\n",
       "      <td>0</td>\n",
       "      <td>{1426, 359}</td>\n",
       "    </tr>\n",
       "  </tbody>\n",
       "</table>\n",
       "<p>101 rows × 6 columns</p>\n",
       "</div>"
      ],
      "text/plain": [
       "                     artist            genrelist  genrelist_length  \\\n",
       "artist_id                                                            \n",
       "3                  Sherrick  ['r_and_b', 'soul']                 2   \n",
       "12         Frankie_DeCarlos  ['r_and_b', 'soul']                 2   \n",
       "191            Otis_Redding  ['soul', 'r_and_b']                 2   \n",
       "263            Donell_Jones  ['r_and_b', 'soul']                 2   \n",
       "265                  Blinky  ['r_and_b', 'soul']                 2   \n",
       "...                     ...                  ...               ...   \n",
       "11853            Timmy_Shaw  ['r_and_b', 'soul']                 2   \n",
       "11930        Johnny_Bristol  ['r_and_b', 'soul']                 2   \n",
       "11955         Tammi_Terrell  ['r_and_b', 'soul']                 2   \n",
       "12107         Megan_Rochell  ['r_and_b', 'soul']                 2   \n",
       "12203             Sam_Moore  ['r_and_b', 'soul']                 2   \n",
       "\n",
       "                 genre_set  gender genre_set_encoded  \n",
       "artist_id                                             \n",
       "3          {r_and_b, soul}       0       {1426, 359}  \n",
       "12         {r_and_b, soul}       0       {1426, 359}  \n",
       "191        {r_and_b, soul}       0       {1426, 359}  \n",
       "263        {r_and_b, soul}       0       {1426, 359}  \n",
       "265        {r_and_b, soul}       1       {1426, 359}  \n",
       "...                    ...     ...               ...  \n",
       "11853      {r_and_b, soul}       0       {1426, 359}  \n",
       "11930      {r_and_b, soul}       0       {1426, 359}  \n",
       "11955      {r_and_b, soul}       1       {1426, 359}  \n",
       "12107      {r_and_b, soul}       1       {1426, 359}  \n",
       "12203      {r_and_b, soul}       0       {1426, 359}  \n",
       "\n",
       "[101 rows x 6 columns]"
      ]
     },
     "execution_count": 19,
     "metadata": {},
     "output_type": "execute_result"
    }
   ],
   "source": [
    "data[data.genre_set_encoded == {1426, 359}]"
   ]
  },
  {
   "cell_type": "markdown",
   "metadata": {},
   "source": [
    "Create dataframe with the sets and their counts, using encoded and string versions of sets"
   ]
  },
  {
   "cell_type": "code",
   "execution_count": 58,
   "metadata": {},
   "outputs": [],
   "source": [
    "set_counts_df = pd.DataFrame.from_dict(set_counts, orient = 'index')\n",
    "set_counts_df.index.name = 'list_index'\n",
    "set_counts_df.columns = ['count']\n",
    "set_counts_df['genre_set'] = set_counts_df.apply(lambda x: genre_sets[x.name], axis = 1)\n",
    "\n",
    "def set_strings(row):\n",
    "    stringset = set([])\n",
    "    for id in row.genre_set:\n",
    "        stringset.add(genre_list.loc[id][0])\n",
    "    return stringset\n",
    "\n",
    "set_counts_df['genre_set_strings'] = set_counts_df.apply(set_strings, axis = 1)"
   ]
  },
  {
   "cell_type": "code",
   "execution_count": 59,
   "metadata": {},
   "outputs": [
    {
     "data": {
      "text/html": [
       "<div>\n",
       "<style scoped>\n",
       "    .dataframe tbody tr th:only-of-type {\n",
       "        vertical-align: middle;\n",
       "    }\n",
       "\n",
       "    .dataframe tbody tr th {\n",
       "        vertical-align: top;\n",
       "    }\n",
       "\n",
       "    .dataframe thead th {\n",
       "        text-align: right;\n",
       "    }\n",
       "</style>\n",
       "<table border=\"1\" class=\"dataframe\">\n",
       "  <thead>\n",
       "    <tr style=\"text-align: right;\">\n",
       "      <th></th>\n",
       "      <th>count</th>\n",
       "      <th>genre_set</th>\n",
       "      <th>genre_set_strings</th>\n",
       "    </tr>\n",
       "    <tr>\n",
       "      <th>list_index</th>\n",
       "      <th></th>\n",
       "      <th></th>\n",
       "      <th></th>\n",
       "    </tr>\n",
       "  </thead>\n",
       "  <tbody>\n",
       "    <tr>\n",
       "      <th>0</th>\n",
       "      <td>1</td>\n",
       "      <td>{1431, 794, 1007}</td>\n",
       "      <td>{emo_pop, pop, rock}</td>\n",
       "    </tr>\n",
       "    <tr>\n",
       "      <th>1</th>\n",
       "      <td>720</td>\n",
       "      <td>{465}</td>\n",
       "      <td>{country}</td>\n",
       "    </tr>\n",
       "    <tr>\n",
       "      <th>2</th>\n",
       "      <td>1</td>\n",
       "      <td>{809, 1442, 1004, 1357}</td>\n",
       "      <td>{guaracha, salsa_romántica, afro_cuban_jazz, s...</td>\n",
       "    </tr>\n",
       "    <tr>\n",
       "      <th>3</th>\n",
       "      <td>101</td>\n",
       "      <td>{1426, 359}</td>\n",
       "      <td>{r_and_b, soul}</td>\n",
       "    </tr>\n",
       "    <tr>\n",
       "      <th>4</th>\n",
       "      <td>9</td>\n",
       "      <td>{1186}</td>\n",
       "      <td>{southern_rock}</td>\n",
       "    </tr>\n",
       "  </tbody>\n",
       "</table>\n",
       "</div>"
      ],
      "text/plain": [
       "            count                genre_set  \\\n",
       "list_index                                   \n",
       "0               1        {1431, 794, 1007}   \n",
       "1             720                    {465}   \n",
       "2               1  {809, 1442, 1004, 1357}   \n",
       "3             101              {1426, 359}   \n",
       "4               9                   {1186}   \n",
       "\n",
       "                                            genre_set_strings  \n",
       "list_index                                                     \n",
       "0                                        {emo_pop, pop, rock}  \n",
       "1                                                   {country}  \n",
       "2           {guaracha, salsa_romántica, afro_cuban_jazz, s...  \n",
       "3                                             {r_and_b, soul}  \n",
       "4                                             {southern_rock}  "
      ]
     },
     "execution_count": 59,
     "metadata": {},
     "output_type": "execute_result"
    }
   ],
   "source": [
    "set_counts_df.head()"
   ]
  },
  {
   "cell_type": "code",
   "execution_count": null,
   "metadata": {},
   "outputs": [],
   "source": []
  }
 ],
 "metadata": {
  "kernelspec": {
   "display_name": "Python 3",
   "language": "python",
   "name": "python3"
  },
  "language_info": {
   "codemirror_mode": {
    "name": "ipython",
    "version": 3
   },
   "file_extension": ".py",
   "mimetype": "text/x-python",
   "name": "python",
   "nbconvert_exporter": "python",
   "pygments_lexer": "ipython3",
   "version": "3.7.3"
  }
 },
 "nbformat": 4,
 "nbformat_minor": 4
}
