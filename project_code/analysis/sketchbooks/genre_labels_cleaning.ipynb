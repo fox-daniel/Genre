{
 "cells": [
  {
   "cell_type": "markdown",
   "metadata": {},
   "source": [
    "- [ ]  the list of genres using the script is length 1493, before 1494. Find missing?"
   ]
  },
  {
   "cell_type": "markdown",
   "metadata": {},
   "source": [
    "## This notebook is used to clean and prepare the genre label data for analysis."
   ]
  },
  {
   "cell_type": "markdown",
   "metadata": {},
   "source": [
    "- [ ] switch CSV import to use dtype list\n",
    "- [ ] move individual case respells to a script\n",
    "- [ ] reformat respell function to take a dictionary of all the cases"
   ]
  },
  {
   "cell_type": "markdown",
   "metadata": {},
   "source": [
    "## Outline of Cleaning:\n",
    "\n",
    "1. - [x] remove artists for which 'retrieved' value is 'none'\n",
    "2. - [x] remove the url prefix from the retrieved artist names \n",
    "3. - [x] replace ' ' in the artist column with '_'\n",
    "4. - [x] remove the '(singer)', '(rapper)', '(musician)' designation from the 'retrieved' column\n",
    "5. - [x] remove the artists for which the retrieved-artist != searched-artist. \n",
    "    - inspect mismatches to look for typos and different versions\n",
    "6. - [x] Deal with genre label problems\n",
    "7. - [x] Normalize genre label spelling: e.g. r&b vs rhythm and blues vs rhythm & blues\n",
    "    - [x] 'rock n roll' = 'rock & roll' etc, but 'rock' separate.\n",
    "    - [x] remove _music\n",
    "    - [x] hip hop and hip--hop -> hip-hop\n",
    "    - [ ] separate lists: look at why they aren't separated\n",
    "8. - [x] convert genre column values into lists of strings\n",
    "9. - [x] remove bands (as opposed to individuals)\n",
    "10. - [x] remove old columns\n",
    "11. - [x] extract unique genres as a list"
   ]
  },
  {
   "cell_type": "code",
   "execution_count": 1,
   "metadata": {},
   "outputs": [],
   "source": [
    "import numpy as np\n",
    "np.random.seed(23)\n",
    "import pandas as pd\n",
    "import re\n",
    "from datetime import datetime"
   ]
  },
  {
   "cell_type": "code",
   "execution_count": 2,
   "metadata": {},
   "outputs": [],
   "source": [
    "# %ls -lt /Users/Daniel/Code/Genre/data/genre_lists/data_to_be_cleaned/"
   ]
  },
  {
   "cell_type": "markdown",
   "metadata": {},
   "source": [
    "### The data set with the genders of music artists\n",
    "\n",
    "The file singers_gender.csv is from Kaggle and lists music artists and their gender. "
   ]
  },
  {
   "cell_type": "code",
   "execution_count": 3,
   "metadata": {},
   "outputs": [],
   "source": [
    "# kaggle_data = pd.read_csv('singers_gender.csv', encoding = 'latin-1')"
   ]
  },
  {
   "cell_type": "code",
   "execution_count": 4,
   "metadata": {},
   "outputs": [],
   "source": [
    "from genre_scripts.genre_cleaning import clean_genre_data"
   ]
  },
  {
   "cell_type": "markdown",
   "metadata": {},
   "source": [
    "# Fixed issues \n",
    "\n",
    "1. FIXED [in respell_dict in genre_cleaning script: rhythm and blues --> r&b, which is a mistake. Look at rules from Tom]\n",
    "2. NOT ISSUE [old list has \"\\__\", but new does not]\n",
    "4. FIXED [remove \"mellow\" from \"mellow_&_acoustic_rock\"]\n",
    "5. FIXED [deal with rhythm and grime underscores]\n",
    "6. FIXED ['era' 'cuidado!' These are not genres. See https://en.wikipedia.org/wiki/Lob%C3%A3o for details.]"
   ]
  },
  {
   "cell_type": "code",
   "execution_count": 5,
   "metadata": {},
   "outputs": [],
   "source": [
    "data = clean_genre_data()"
   ]
  },
  {
   "cell_type": "code",
   "execution_count": 6,
   "metadata": {
    "scrolled": true
   },
   "outputs": [
    {
     "data": {
      "text/html": [
       "<div>\n",
       "<style scoped>\n",
       "    .dataframe tbody tr th:only-of-type {\n",
       "        vertical-align: middle;\n",
       "    }\n",
       "\n",
       "    .dataframe tbody tr th {\n",
       "        vertical-align: top;\n",
       "    }\n",
       "\n",
       "    .dataframe thead th {\n",
       "        text-align: right;\n",
       "    }\n",
       "</style>\n",
       "<table border=\"1\" class=\"dataframe\">\n",
       "  <thead>\n",
       "    <tr style=\"text-align: right;\">\n",
       "      <th></th>\n",
       "      <th>artist</th>\n",
       "      <th>gender</th>\n",
       "      <th>genrelist</th>\n",
       "      <th>genrelist_length</th>\n",
       "    </tr>\n",
       "  </thead>\n",
       "  <tbody>\n",
       "    <tr>\n",
       "      <th>1</th>\n",
       "      <td>Christopher_Willits</td>\n",
       "      <td>male</td>\n",
       "      <td>[electronic, glitch, ambient, electro_acoustic...</td>\n",
       "      <td>5</td>\n",
       "    </tr>\n",
       "    <tr>\n",
       "      <th>3</th>\n",
       "      <td>Shawn_Hook</td>\n",
       "      <td>male</td>\n",
       "      <td>[pop, electronic, rock]</td>\n",
       "      <td>3</td>\n",
       "    </tr>\n",
       "    <tr>\n",
       "      <th>4</th>\n",
       "      <td>Steve_Poltz</td>\n",
       "      <td>male</td>\n",
       "      <td>[pop_rock, indie_rock, folk_rock]</td>\n",
       "      <td>3</td>\n",
       "    </tr>\n",
       "    <tr>\n",
       "      <th>6</th>\n",
       "      <td>Marvin_Isley</td>\n",
       "      <td>male</td>\n",
       "      <td>[r_and_b, funk, soul, funk_rock]</td>\n",
       "      <td>4</td>\n",
       "    </tr>\n",
       "    <tr>\n",
       "      <th>7</th>\n",
       "      <td>Povel_Ramel</td>\n",
       "      <td>male</td>\n",
       "      <td>[vaudeville]</td>\n",
       "      <td>1</td>\n",
       "    </tr>\n",
       "  </tbody>\n",
       "</table>\n",
       "</div>"
      ],
      "text/plain": [
       "                artist gender  \\\n",
       "1  Christopher_Willits   male   \n",
       "3           Shawn_Hook   male   \n",
       "4          Steve_Poltz   male   \n",
       "6         Marvin_Isley   male   \n",
       "7          Povel_Ramel   male   \n",
       "\n",
       "                                           genrelist  genrelist_length  \n",
       "1  [electronic, glitch, ambient, electro_acoustic...                 5  \n",
       "3                            [pop, electronic, rock]                 3  \n",
       "4                  [pop_rock, indie_rock, folk_rock]                 3  \n",
       "6                   [r_and_b, funk, soul, funk_rock]                 4  \n",
       "7                                       [vaudeville]                 1  "
      ]
     },
     "execution_count": 6,
     "metadata": {},
     "output_type": "execute_result"
    }
   ],
   "source": [
    "data.head()"
   ]
  },
  {
   "cell_type": "markdown",
   "metadata": {},
   "source": [
    "### Extracting the unique genre labels:"
   ]
  },
  {
   "cell_type": "code",
   "execution_count": 7,
   "metadata": {},
   "outputs": [],
   "source": [
    "genre_list = data.genrelist.values.tolist()\n",
    "genre_list = [x for y in genre_list for x in y]\n",
    "genre_list = list(set(genre_list))\n",
    "genre_list = sorted(genre_list)"
   ]
  },
  {
   "cell_type": "code",
   "execution_count": 8,
   "metadata": {},
   "outputs": [
    {
     "data": {
      "text/plain": [
       "['1960s', '2_step', '2_step_garage', '2_tone', 'a_cappella']"
      ]
     },
     "execution_count": 8,
     "metadata": {},
     "output_type": "execute_result"
    }
   ],
   "source": [
    "genre_list[:5]"
   ]
  },
  {
   "cell_type": "code",
   "execution_count": 9,
   "metadata": {},
   "outputs": [
    {
     "data": {
      "text/plain": [
       "1491"
      ]
     },
     "execution_count": 9,
     "metadata": {},
     "output_type": "execute_result"
    }
   ],
   "source": [
    "len(genre_list)"
   ]
  },
  {
   "cell_type": "markdown",
   "metadata": {},
   "source": [
    "Previous list of genres had 1494. Let's import that and compare."
   ]
  },
  {
   "cell_type": "code",
   "execution_count": 10,
   "metadata": {},
   "outputs": [],
   "source": [
    "genre_list_old = pd.read_csv('../../data/genre_lists/data_ready_for_model/genre_list_2020-05-18-10-06.csv')\n",
    "genre_list_old = genre_list_old.genre_list.tolist()\n",
    "genre_list_old = sorted(genre_list_old)"
   ]
  },
  {
   "cell_type": "code",
   "execution_count": 11,
   "metadata": {},
   "outputs": [],
   "source": [
    "genre_set = set(genre_list)\n",
    "genre_set_old = set(genre_list_old)\n",
    "nmo = genre_set.difference(genre_set_old)\n",
    "omn = genre_set_old.difference(genre_set)"
   ]
  },
  {
   "cell_type": "code",
   "execution_count": 12,
   "metadata": {},
   "outputs": [
    {
     "data": {
      "text/plain": [
       "(4, 7)"
      ]
     },
     "execution_count": 12,
     "metadata": {},
     "output_type": "execute_result"
    }
   ],
   "source": [
    "len(nmo), len(omn)"
   ]
  },
  {
   "cell_type": "code",
   "execution_count": 13,
   "metadata": {},
   "outputs": [
    {
     "name": "stdout",
     "output_type": "stream",
     "text": [
      "There are 15470 artists with genre and binary-gender labels.\n",
      "There are 1491 unique genre labels.\n"
     ]
    }
   ],
   "source": [
    "print('There are {} artists with genre and binary-gender labels.'.format(data.shape[0]))\n",
    "print('There are {} unique genre labels.'.format(len(genre_list)))"
   ]
  },
  {
   "cell_type": "code",
   "execution_count": null,
   "metadata": {},
   "outputs": [],
   "source": []
  },
  {
   "cell_type": "code",
   "execution_count": null,
   "metadata": {},
   "outputs": [],
   "source": []
  },
  {
   "cell_type": "markdown",
   "metadata": {},
   "source": [
    "### Export full data set for further use:"
   ]
  },
  {
   "cell_type": "code",
   "execution_count": 14,
   "metadata": {},
   "outputs": [],
   "source": [
    "today = datetime.today()\n",
    "now = today.strftime('%Y-%m-%d-%H-%M')\n",
    "#now = 'temp'"
   ]
  },
  {
   "cell_type": "code",
   "execution_count": 15,
   "metadata": {},
   "outputs": [],
   "source": [
    "data.to_csv('/Users/Daniel/Code/Genre/data/genre_lists/data_ready_for_model/wiki-kaggle_genres_gender_cleaned_{}.csv'.format(now))"
   ]
  },
  {
   "cell_type": "markdown",
   "metadata": {},
   "source": [
    "### Export the list of genres:"
   ]
  },
  {
   "cell_type": "code",
   "execution_count": 16,
   "metadata": {},
   "outputs": [],
   "source": [
    "genre_list_df = pd.DataFrame({'genre_list':genre_list})"
   ]
  },
  {
   "cell_type": "code",
   "execution_count": 17,
   "metadata": {},
   "outputs": [],
   "source": [
    "genre_list_df.to_csv('/Users/Daniel/Code/Genre/data/genre_lists/data_ready_for_model/genre_list_{}.csv'.format(now))"
   ]
  },
  {
   "cell_type": "code",
   "execution_count": 19,
   "metadata": {},
   "outputs": [],
   "source": [
    "# %ls -lt ../../data/genre_lists/data_ready_for_model/"
   ]
  },
  {
   "cell_type": "code",
   "execution_count": null,
   "metadata": {},
   "outputs": [],
   "source": []
  },
  {
   "cell_type": "code",
   "execution_count": null,
   "metadata": {},
   "outputs": [],
   "source": []
  },
  {
   "cell_type": "raw",
   "metadata": {},
   "source": []
  }
 ],
 "metadata": {
  "kernelspec": {
   "display_name": "Python 3",
   "language": "python",
   "name": "python3"
  },
  "language_info": {
   "codemirror_mode": {
    "name": "ipython",
    "version": 3
   },
   "file_extension": ".py",
   "mimetype": "text/x-python",
   "name": "python",
   "nbconvert_exporter": "python",
   "pygments_lexer": "ipython3",
   "version": "3.7.3"
  }
 },
 "nbformat": 4,
 "nbformat_minor": 4
}
