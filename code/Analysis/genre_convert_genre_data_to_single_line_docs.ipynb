{
 "cells": [
  {
   "cell_type": "code",
   "execution_count": 26,
   "metadata": {},
   "outputs": [],
   "source": [
    "import pandas as pd\n",
    "import numpy as np"
   ]
  },
  {
   "cell_type": "code",
   "execution_count": 4,
   "metadata": {},
   "outputs": [],
   "source": [
    "genres = pd.read_csv('/Users/Daniel/Code/Genre/data/genre_lists/data_ready_for_model/genre_list_2020-05-11-14-34.csv', index_col = 'Unnamed: 0')"
   ]
  },
  {
   "cell_type": "code",
   "execution_count": 5,
   "metadata": {},
   "outputs": [
    {
     "data": {
      "text/html": [
       "<div>\n",
       "<style scoped>\n",
       "    .dataframe tbody tr th:only-of-type {\n",
       "        vertical-align: middle;\n",
       "    }\n",
       "\n",
       "    .dataframe tbody tr th {\n",
       "        vertical-align: top;\n",
       "    }\n",
       "\n",
       "    .dataframe thead th {\n",
       "        text-align: right;\n",
       "    }\n",
       "</style>\n",
       "<table border=\"1\" class=\"dataframe\">\n",
       "  <thead>\n",
       "    <tr style=\"text-align: right;\">\n",
       "      <th></th>\n",
       "      <th>genre_list</th>\n",
       "    </tr>\n",
       "  </thead>\n",
       "  <tbody>\n",
       "    <tr>\n",
       "      <th>0</th>\n",
       "      <td>twee_pop</td>\n",
       "    </tr>\n",
       "    <tr>\n",
       "      <th>1</th>\n",
       "      <td>chanson_française</td>\n",
       "    </tr>\n",
       "    <tr>\n",
       "      <th>2</th>\n",
       "      <td>venezuelan_folk</td>\n",
       "    </tr>\n",
       "    <tr>\n",
       "      <th>3</th>\n",
       "      <td>east_coast_blues</td>\n",
       "    </tr>\n",
       "    <tr>\n",
       "      <th>4</th>\n",
       "      <td>power_pop</td>\n",
       "    </tr>\n",
       "    <tr>\n",
       "      <th>...</th>\n",
       "      <td>...</td>\n",
       "    </tr>\n",
       "    <tr>\n",
       "      <th>1489</th>\n",
       "      <td>hip_house</td>\n",
       "    </tr>\n",
       "    <tr>\n",
       "      <th>1490</th>\n",
       "      <td>indi_pop</td>\n",
       "    </tr>\n",
       "    <tr>\n",
       "      <th>1491</th>\n",
       "      <td>performance_poetry</td>\n",
       "    </tr>\n",
       "    <tr>\n",
       "      <th>1492</th>\n",
       "      <td>future_soul</td>\n",
       "    </tr>\n",
       "    <tr>\n",
       "      <th>1493</th>\n",
       "      <td>music_of_colombia</td>\n",
       "    </tr>\n",
       "  </tbody>\n",
       "</table>\n",
       "<p>1494 rows × 1 columns</p>\n",
       "</div>"
      ],
      "text/plain": [
       "              genre_list\n",
       "0               twee_pop\n",
       "1      chanson_française\n",
       "2        venezuelan_folk\n",
       "3       east_coast_blues\n",
       "4              power_pop\n",
       "...                  ...\n",
       "1489           hip_house\n",
       "1490            indi_pop\n",
       "1491  performance_poetry\n",
       "1492         future_soul\n",
       "1493   music_of_colombia\n",
       "\n",
       "[1494 rows x 1 columns]"
      ]
     },
     "execution_count": 5,
     "metadata": {},
     "output_type": "execute_result"
    }
   ],
   "source": [
    "genres"
   ]
  },
  {
   "cell_type": "code",
   "execution_count": 7,
   "metadata": {},
   "outputs": [],
   "source": [
    "genrelist = genres.genre_list.to_list()"
   ]
  },
  {
   "cell_type": "code",
   "execution_count": 19,
   "metadata": {},
   "outputs": [],
   "source": [
    "MyFile = open('/Users/Daniel/Code/Genre/data/genre_lists/data_ready_for_model/unique_genres.txt', 'w')\n",
    "#MyFile.writelines(genre + \\s for genre in genrelist)\n",
    "MyFile.writelines(r'\\s'.join(genrelist))\n",
    "MyFile.close()"
   ]
  },
  {
   "cell_type": "markdown",
   "metadata": {},
   "source": [
    "Now import the genre data:"
   ]
  },
  {
   "cell_type": "code",
   "execution_count": 20,
   "metadata": {},
   "outputs": [],
   "source": [
    "data = pd.read_csv('/Users/Daniel/Code/Genre/data/genre_lists/data_ready_for_model/wiki-kaggle_X_train_2020-05-11-14-35.csv')"
   ]
  },
  {
   "cell_type": "code",
   "execution_count": 21,
   "metadata": {},
   "outputs": [
    {
     "data": {
      "text/html": [
       "<div>\n",
       "<style scoped>\n",
       "    .dataframe tbody tr th:only-of-type {\n",
       "        vertical-align: middle;\n",
       "    }\n",
       "\n",
       "    .dataframe tbody tr th {\n",
       "        vertical-align: top;\n",
       "    }\n",
       "\n",
       "    .dataframe thead th {\n",
       "        text-align: right;\n",
       "    }\n",
       "</style>\n",
       "<table border=\"1\" class=\"dataframe\">\n",
       "  <thead>\n",
       "    <tr style=\"text-align: right;\">\n",
       "      <th></th>\n",
       "      <th>artist</th>\n",
       "      <th>genrelist</th>\n",
       "      <th>genrelist_length</th>\n",
       "    </tr>\n",
       "  </thead>\n",
       "  <tbody>\n",
       "    <tr>\n",
       "      <th>0</th>\n",
       "      <td>Pablo_Holman</td>\n",
       "      <td>['pop', 'rock', 'emo_pop']</td>\n",
       "      <td>3</td>\n",
       "    </tr>\n",
       "    <tr>\n",
       "      <th>1</th>\n",
       "      <td>Bobby_Edwards</td>\n",
       "      <td>['country']</td>\n",
       "      <td>1</td>\n",
       "    </tr>\n",
       "    <tr>\n",
       "      <th>2</th>\n",
       "      <td>La_Palabra</td>\n",
       "      <td>['afro_cuban_jazz', 'son_montuno', 'guaracha',...</td>\n",
       "      <td>4</td>\n",
       "    </tr>\n",
       "    <tr>\n",
       "      <th>3</th>\n",
       "      <td>Sherrick</td>\n",
       "      <td>['r&amp;b', 'soul']</td>\n",
       "      <td>2</td>\n",
       "    </tr>\n",
       "    <tr>\n",
       "      <th>4</th>\n",
       "      <td>Allen_Collins</td>\n",
       "      <td>['southern_rock']</td>\n",
       "      <td>1</td>\n",
       "    </tr>\n",
       "    <tr>\n",
       "      <th>...</th>\n",
       "      <td>...</td>\n",
       "      <td>...</td>\n",
       "      <td>...</td>\n",
       "    </tr>\n",
       "    <tr>\n",
       "      <th>12371</th>\n",
       "      <td>Steve_Gaines</td>\n",
       "      <td>['blues', 'southern_rock']</td>\n",
       "      <td>2</td>\n",
       "    </tr>\n",
       "    <tr>\n",
       "      <th>12372</th>\n",
       "      <td>Dan_Hoerner</td>\n",
       "      <td>['emo', 'alternative_rock', 'indie_rock']</td>\n",
       "      <td>3</td>\n",
       "    </tr>\n",
       "    <tr>\n",
       "      <th>12373</th>\n",
       "      <td>Detail</td>\n",
       "      <td>['hip_hop', 'r&amp;b']</td>\n",
       "      <td>2</td>\n",
       "    </tr>\n",
       "    <tr>\n",
       "      <th>12374</th>\n",
       "      <td>Billy_Woods</td>\n",
       "      <td>['hip_hop']</td>\n",
       "      <td>1</td>\n",
       "    </tr>\n",
       "    <tr>\n",
       "      <th>12375</th>\n",
       "      <td>Dani_Filth</td>\n",
       "      <td>['extreme_metal', 'black_metal', 'gothic_metal...</td>\n",
       "      <td>4</td>\n",
       "    </tr>\n",
       "  </tbody>\n",
       "</table>\n",
       "<p>12376 rows × 3 columns</p>\n",
       "</div>"
      ],
      "text/plain": [
       "              artist                                          genrelist  \\\n",
       "0       Pablo_Holman                         ['pop', 'rock', 'emo_pop']   \n",
       "1      Bobby_Edwards                                        ['country']   \n",
       "2         La_Palabra  ['afro_cuban_jazz', 'son_montuno', 'guaracha',...   \n",
       "3           Sherrick                                    ['r&b', 'soul']   \n",
       "4      Allen_Collins                                  ['southern_rock']   \n",
       "...              ...                                                ...   \n",
       "12371   Steve_Gaines                         ['blues', 'southern_rock']   \n",
       "12372    Dan_Hoerner          ['emo', 'alternative_rock', 'indie_rock']   \n",
       "12373         Detail                                 ['hip_hop', 'r&b']   \n",
       "12374    Billy_Woods                                        ['hip_hop']   \n",
       "12375     Dani_Filth  ['extreme_metal', 'black_metal', 'gothic_metal...   \n",
       "\n",
       "       genrelist_length  \n",
       "0                     3  \n",
       "1                     1  \n",
       "2                     4  \n",
       "3                     2  \n",
       "4                     1  \n",
       "...                 ...  \n",
       "12371                 2  \n",
       "12372                 3  \n",
       "12373                 2  \n",
       "12374                 1  \n",
       "12375                 4  \n",
       "\n",
       "[12376 rows x 3 columns]"
      ]
     },
     "execution_count": 21,
     "metadata": {},
     "output_type": "execute_result"
    }
   ],
   "source": [
    "data"
   ]
  },
  {
   "cell_type": "markdown",
   "metadata": {},
   "source": [
    "Remove brackets and quotes and commas:"
   ]
  },
  {
   "cell_type": "code",
   "execution_count": 28,
   "metadata": {},
   "outputs": [],
   "source": [
    "\"\"\"\n",
    "This function strips the square brackets and quotes and\n",
    "returns a string with space separated items.\"\"\"\n",
    "def genrelist(string):\n",
    "    string = string.strip(\"[\").strip(\"]\").replace(\",\",\"\").replace(\"'\",\"\")\n",
    "    return string"
   ]
  },
  {
   "cell_type": "code",
   "execution_count": 29,
   "metadata": {},
   "outputs": [],
   "source": [
    "data['genrelist']= data['genrelist'].apply(genrelist)"
   ]
  },
  {
   "cell_type": "code",
   "execution_count": 45,
   "metadata": {},
   "outputs": [
    {
     "data": {
      "text/plain": [
       "3854                                   rock&roll jazz r&b\n",
       "3855                                                  r&b\n",
       "3856                                latin_pop bachata r&b\n",
       "3857                             rock&roll reggae r&b pop\n",
       "3858                               contemporary_christian\n",
       "3859                               rock british_folk_rock\n",
       "3860    progressive_death_metal melodic_death_metal he...\n",
       "3861                                        soul jazz pop\n",
       "3862    rock blues americana delta_blues instrumental_...\n",
       "3863    alternative_rock grunge hardcore_punk hard_roc...\n",
       "Name: genrelist, dtype: object"
      ]
     },
     "execution_count": 45,
     "metadata": {},
     "output_type": "execute_result"
    }
   ],
   "source": [
    "n = np.random.randint(data.shape[0]-10)\n",
    "data.genrelist.iloc[n:n+10]"
   ]
  },
  {
   "cell_type": "markdown",
   "metadata": {},
   "source": [
    "Write the list of genre lists to a .txt file to use with gensim API:"
   ]
  },
  {
   "cell_type": "code",
   "execution_count": 46,
   "metadata": {},
   "outputs": [],
   "source": [
    "MyFile = open('/Users/Daniel/Code/Genre/data/genre_lists/data_ready_for_model/genre_lists.txt', 'w')\n",
    "MyFile.writelines(genrelist+'\\n' for genrelist in data.genrelist.to_list())\n",
    "MyFile.close()"
   ]
  },
  {
   "cell_type": "code",
   "execution_count": 62,
   "metadata": {},
   "outputs": [],
   "source": [
    "genre_lists_import = pd.read_csv('/Users/Daniel/Code/Genre/data/genre_lists/data_ready_for_model/genre_lists.txt', header = None)"
   ]
  },
  {
   "cell_type": "code",
   "execution_count": 63,
   "metadata": {},
   "outputs": [
    {
     "data": {
      "text/plain": [
       "0    r&b soul\n",
       "Name: 3, dtype: object"
      ]
     },
     "execution_count": 63,
     "metadata": {},
     "output_type": "execute_result"
    }
   ],
   "source": [
    "genre_lists_import.iloc[3]"
   ]
  },
  {
   "cell_type": "code",
   "execution_count": null,
   "metadata": {},
   "outputs": [],
   "source": []
  }
 ],
 "metadata": {
  "kernelspec": {
   "display_name": "Python 3",
   "language": "python",
   "name": "python3"
  },
  "language_info": {
   "codemirror_mode": {
    "name": "ipython",
    "version": 3
   },
   "file_extension": ".py",
   "mimetype": "text/x-python",
   "name": "python",
   "nbconvert_exporter": "python",
   "pygments_lexer": "ipython3",
   "version": "3.7.3"
  }
 },
 "nbformat": 4,
 "nbformat_minor": 4
}
