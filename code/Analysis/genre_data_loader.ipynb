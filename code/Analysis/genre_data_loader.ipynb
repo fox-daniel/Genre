{
 "cells": [
  {
   "cell_type": "markdown",
   "metadata": {},
   "source": [
    "# Data Loader Class\n",
    "\n",
    "This nb develops a class for loading the genre data with methods to put the genre info into different data types:\n",
    "- [x] lists\n",
    "- [x] sets\n",
    "- [x] strings\n",
    "- [x] scipy sparse vector\n",
    "- [ ] tensorflow sparse tensor"
   ]
  },
  {
   "cell_type": "code",
   "execution_count": 1,
   "metadata": {},
   "outputs": [],
   "source": [
    "# import numpy as np\n",
    "# import pandas as pd\n",
    "\n",
    "# import matplotlib.pyplot as plt\n",
    "# import seaborn as sns; sns.set()\n",
    "\n",
    "# import re"
   ]
  },
  {
   "cell_type": "code",
   "execution_count": 7,
   "metadata": {},
   "outputs": [
    {
     "data": {
      "text/plain": [
       "['a', 'b', 'c']"
      ]
     },
     "execution_count": 7,
     "metadata": {},
     "output_type": "execute_result"
    }
   ],
   "source": [
    "mylist = ['a','c','b']\n",
    "mylist.sort()\n",
    "mylist"
   ]
  },
  {
   "cell_type": "code",
   "execution_count": 204,
   "metadata": {
    "scrolled": true
   },
   "outputs": [],
   "source": [
    "# imports\n",
    "import numpy as np\n",
    "import pandas as pd\n",
    "from sklearn.feature_extraction.text import CountVectorizer\n",
    "import string\n",
    "\n",
    "def remove_punctuation_from_word(word):\n",
    "    # remove '!'\n",
    "    table = str.maketrans('', '', '!')\n",
    "    stripped = word.translate(table) \n",
    "    print(stripped)\n",
    "\n",
    "# get currrent date for latest version of data set\n",
    "%store -r now\n",
    "\n",
    "# Functions needed\n",
    "\n",
    "def to_strings(string):\n",
    "    \"\"\"This function takes in a string of the form\n",
    "    appearing in the genrelist of the dataframe.\n",
    "    It strips the square brackets, commas, and extra quotes.\"\"\"\n",
    "    string = string.strip(\"[\").strip(\"]\").replace(\"'\",\"\").replace(\",\",\"\").strip(\"!\")\n",
    "    return string\n",
    "\n",
    "def to_sets(string):\n",
    "    \"\"\"This function takes in a string of the form\n",
    "    appearing in the genrelist of the dataframe.\n",
    "    It strips the square brackets and extra quotes and\n",
    "    returns a list of strings where each string is a genre label.\"\"\"\n",
    "    string = string.strip(\"[\").strip(\"]\").replace(\"'\",\"\")\n",
    "    L = [s for s in string.split(',')]\n",
    "    L_new = []\n",
    "    for x in L:\n",
    "        L_new.append(x.replace(\" \",\"_\").lstrip(\"_\").rstrip(\"_\").strip(\"!\"))\n",
    "    while (str(\"\") in L_new):\n",
    "        L_new.remove(\"\")\n",
    "    return set(L_new)\n",
    "\n",
    "\n",
    "def to_lists(string):\n",
    "    \"\"\"This function takes in a string of the form\n",
    "    appearing in the genrelist of the dataframe.\n",
    "    It strips the square brackets and extra quotes and\n",
    "    returns a list of strings where each string is a genre label.\"\"\"\n",
    "    string = string.strip(\"[\").strip(\"]\").replace(\"'\",\"\")\n",
    "    L = [s for s in string.split(',')]\n",
    "    L_new = []\n",
    "    for x in L:\n",
    "        L_new.append(x.replace(\" \",\"_\").lstrip(\"_\").rstrip(\"_\").strip(\"!\"))\n",
    "    while (str(\"\") in L_new):\n",
    "        L_new.remove(\"\")\n",
    "    return L_new\n",
    "\n",
    "# # For sparse vector rep of X\n",
    "\n",
    "# genre_list = pd.read_csv('/Users/Daniel/Code/Genre/data/genre_lists/data_ready_for_model/genre_list_{}.csv'.format(now))\n",
    "# genre_list.drop(['Unnamed: 0'], axis = 1, inplace = True)\n",
    "# genre_list['genre_id'] = list(range(1,genre_list.shape[0]+1))\n",
    "\n",
    "# #Size of the vocab:\n",
    "# vocab_size = genre_list.shape[0]\n",
    "\n",
    "# #Create a dictionary {genre_label: genre_id}\n",
    "# temp = genre_list.set_index(['genre_list'])\n",
    "# label_id_dict = temp['genre_id'].to_dict()\n",
    "\n",
    "# # set genre_id to index\n",
    "# genre_list.set_index(['genre_id'], inplace = True)\n",
    "\n",
    "# #Find max length of genre lists:\n",
    "# max_list_length = data.genrelist_length.max()\n",
    "\n",
    "\n",
    "X_path = '/Users/Daniel/Code/Genre/data/genre_lists/data_ready_for_model/wiki-kaggle_X_train_{}.csv'.format(now)\n",
    "y_path = '/Users/Daniel/Code/Genre/data/genre_lists/data_ready_for_model/wiki-kaggle_y_train_{}.csv'.format(now)\n",
    "\n",
    "\n",
    "class LoadGenreData():\n",
    "    \"\"\"Load and prepreocess the genre label data.\n",
    "    NOTE: \"!\" are removed from genre labels. This affects \"oi!\" and \"cuidado!\"\n",
    "    \"\"\"\n",
    "    def __init__(self, X_path, y_path, date):\n",
    "        self.X_path = X_path\n",
    "        self.y_path = y_path\n",
    "        self.date = date\n",
    "\n",
    "        # import from CSV\n",
    "        self.X = pd.read_csv(X_path, index_col = ['artist'])\n",
    "        self.y = pd.read_csv(y_path, index_col = ['artist'])\n",
    "        \n",
    "        # assemble X,y into DF\n",
    "        self.data = self.X.join(self.y, how = 'inner', on = 'artist')\n",
    "\n",
    "    def data(self):\n",
    "        return self.data\n",
    "    \n",
    "    def as_sets(self):\n",
    "        \"\"\"Return view of data with genre labels in a set for each artist;\n",
    "        'genrelist' column is not shown\"\"\"\n",
    "        self.data['genre_set']= self.data['genrelist'].apply(to_sets)\n",
    "        # remove old version of genre labels\n",
    "        columns = self.data.columns.tolist()\n",
    "        columns.remove('genrelist')\n",
    "        #columns = pd.Index(columns)\n",
    "        return self.data[columns]\n",
    "    \n",
    "    def as_lists(self):\n",
    "        \"\"\"Return view of data with genre labels in a list for each artist;\n",
    "        'genrelist' column is not shown\"\"\"\n",
    "        self.data['genre_list']= self.data['genrelist'].apply(to_lists)\n",
    "        # remove old version of genre labels\n",
    "        columns = self.data.columns.tolist()\n",
    "        columns.remove('genrelist')\n",
    "        #columns = pd.Index(columns)\n",
    "        return self.data[columns]\n",
    "    \n",
    "    def as_strings(self):\n",
    "        \"\"\"Return view of data with genre labels as string for each artist;\n",
    "        'genrelist' column is not shown\"\"\"\n",
    "        self.data['genre_string']= self.data['genrelist'].apply(to_strings)\n",
    "        # remove old version of genre labels\n",
    "        columns = self.data.columns.tolist()\n",
    "        columns.remove('genrelist')\n",
    "        #columns = pd.Index(columns)\n",
    "        return self.data[columns]\n",
    "    \n",
    "    # WARNING: don't add a column to self.X in this method; use a temp DF instead\n",
    "    def get_list_of_genres(self):\n",
    "        \"\"\"Returns a sorted list of genres for the dataset provided to the instance.\"\"\"\n",
    "        self.X['genre_list']= self.X['genrelist'].apply(to_lists)\n",
    "        self.list_of_genres = self.X['genre_list'].values.tolist()\n",
    "        self.list_of_genres = [label for artists_labels in self.list_of_genres for label in artists_labels]\n",
    "        self.list_of_genres = list(set(self.list_of_genres))\n",
    "        self.list_of_genres.sort()\n",
    "        return self.list_of_genres\n",
    "    \n",
    "    def get_sparse_X_vector(self):\n",
    "        \"\"\"Return X as a sparse vector with a 1 in the entry (row, id) if the artist has the label with id\n",
    "        Notes on sparse vector commands: \n",
    "        To get the number of nonzero entries: X_sparse.nnz\n",
    "        To get the nonzero entries of a row: X_sparse[n:m].nonzero() -- returns list of rows and columns with nonzero entries\n",
    "        \"\"\"\n",
    "        self.list_of_genres = self.get_list_of_genres()\n",
    "        dict_genre_to_id = dict(zip(self.list_of_genres,range(len(self.list_of_genres))))\n",
    "        vec = CountVectorizer(vocabulary = dict_genre_to_id) # uses scipy.sparse.csr_matrix representation\n",
    "        self.data_genre_strings = self.as_strings()\n",
    "        self.X_genre_string = self.data_genre_strings['genre_string']\n",
    "        self.X_sparse = vec.fit_transform(self.X_genre_string)\n",
    "        return self.X_sparse\n",
    "    \n",
    "    def get_dict_genre_to_id(self):\n",
    "        \"\"\"Return dictionary of the form {'label':id_number}\n",
    "        \"\"\"\n",
    "        self.list_of_genres = self.get_list_of_genres()\n",
    "        dict_genre_to_id = dict(zip(self.list_of_genres,range(len(self.list_of_genres))))\n",
    "        return dict_genre_to_id\n",
    "    \n",
    "    def get_dict_id_to_genre(self):\n",
    "        \"\"\"Return dictionary of the form {id_number:'label'}\n",
    "        \"\"\"\n",
    "        self.list_of_genres = self.get_list_of_genres()\n",
    "        dict_genre_to_id = dict(zip(range(len(self.list_of_genres)),self.list_of_genres))\n",
    "        return dict_genre_to_id"
   ]
  },
  {
   "cell_type": "code",
   "execution_count": 205,
   "metadata": {},
   "outputs": [],
   "source": [
    "genre_data = LoadGenreData(X_path,y_path,now)"
   ]
  },
  {
   "cell_type": "code",
   "execution_count": 206,
   "metadata": {},
   "outputs": [],
   "source": [
    "dictgid = genre_data.get_dict_genre_to_id()\n",
    "dictidg = genre_data.get_dict_id_to_genre()"
   ]
  },
  {
   "cell_type": "markdown",
   "metadata": {},
   "source": [
    "Create Unit tests for the sparse encoding:"
   ]
  },
  {
   "cell_type": "code",
   "execution_count": 207,
   "metadata": {},
   "outputs": [],
   "source": [
    "def unit_test_sparse_encoding(loadgenredata_instance, row_number):\n",
    "    \"\"\"compare the dictionary decoded sparse vector to the entry in the data frame\"\"\"\n",
    "    X_sparse = loadgenredata_instance.get_sparse_X_vector()\n",
    "    data = loadgenredata_instance.as_lists()\n",
    "    dictidg = loadgenredata_instance.get_dict_id_to_genre()\n",
    "    \n",
    "    zeros, cols = X_sparse[row_number].nonzero()\n",
    "    cols_labels = [dictidg[ind] for ind in cols]\n",
    "    cols_labels.sort()\n",
    "    if (set(cols_labels) != set(data.iloc[row_number].genre_list)): \n",
    "        print('False')\n",
    "        return cols_labels\n",
    "    else:\n",
    "        return 'True'"
   ]
  },
  {
   "cell_type": "code",
   "execution_count": 208,
   "metadata": {},
   "outputs": [],
   "source": [
    "def unit_test_sparse_encoding_batch(loadgenredata_instance):\n",
    "    \"\"\"compare the dictionary decoded sparse vector to the entry in the data frame\"\"\"\n",
    "    X_sparse = loadgenredata_instance.get_sparse_X_vector()\n",
    "    data = loadgenredata_instance.as_lists()\n",
    "    dictidg = loadgenredata_instance.get_dict_id_to_genre()\n",
    "\n",
    "    row_errors = []\n",
    "    errors = 0\n",
    "    for num in range(data.shape[0]):\n",
    "        zeros, cols = X_sparse[num].nonzero()\n",
    "        cols_labels = [dictidg[ind] for ind in cols]\n",
    "        cols_labels.sort()\n",
    "        if (set(cols_labels) != set(data.iloc[num].genre_list)): \n",
    "            errors += 1\n",
    "            row_errors.append(num)\n",
    "    return errors, row_errors"
   ]
  },
  {
   "cell_type": "code",
   "execution_count": 209,
   "metadata": {},
   "outputs": [],
   "source": [
    "num_errors, error_list = unit_test_sparse_encoding_batch(genre_data)"
   ]
  },
  {
   "cell_type": "code",
   "execution_count": 210,
   "metadata": {},
   "outputs": [
    {
     "data": {
      "text/plain": [
       "[]"
      ]
     },
     "execution_count": 210,
     "metadata": {},
     "output_type": "execute_result"
    }
   ],
   "source": [
    "error_list"
   ]
  },
  {
   "cell_type": "code",
   "execution_count": 211,
   "metadata": {},
   "outputs": [],
   "source": [
    "def decode_sparse_list(X_sparse, row_number):\n",
    "    zeros, cols = X_sparse[row_number].nonzero()\n",
    "    cols_labels = [dictidg[ind] for ind in cols]\n",
    "    cols_labels.sort()\n",
    "    return cols_labels"
   ]
  }
 ],
 "metadata": {
  "kernelspec": {
   "display_name": "Python 3",
   "language": "python",
   "name": "python3"
  },
  "language_info": {
   "codemirror_mode": {
    "name": "ipython",
    "version": 3
   },
   "file_extension": ".py",
   "mimetype": "text/x-python",
   "name": "python",
   "nbconvert_exporter": "python",
   "pygments_lexer": "ipython3",
   "version": "3.7.3"
  }
 },
 "nbformat": 4,
 "nbformat_minor": 4
}
