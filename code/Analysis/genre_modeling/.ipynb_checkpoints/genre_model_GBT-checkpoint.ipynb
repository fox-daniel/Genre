{
 "cells": [
  {
   "cell_type": "markdown",
   "metadata": {},
   "source": [
    "# Currently: the order of the genres in the string is not fixed, so we don't match if labels are permuted"
   ]
  },
  {
   "cell_type": "markdown",
   "metadata": {},
   "source": [
    "# Switch terminology to lower bound on error!\n",
    "\n",
    "- [ ] introduce tests to make sure all versions of data (sparse, DF, etc) align"
   ]
  },
  {
   "cell_type": "markdown",
   "metadata": {},
   "source": [
    "This nb builds a classifier to predict gender from genre using a random forest model.\n",
    "\n",
    "We look at the following encoding/embeddings:\n",
    "- [ ] BOW\n",
    "- [ ] TFIDF\n",
    "- [ ] LSI\n",
    "- [ ] LDA\n",
    "- [ ] Word2Vec"
   ]
  },
  {
   "cell_type": "code",
   "execution_count": 1,
   "metadata": {},
   "outputs": [],
   "source": [
    "import numpy as np\n",
    "import pandas as pd\n",
    "\n",
    "from scipy import sparse\n",
    "from sklearn.ensemble import GradientBoostingClassifier\n",
    "from sklearn import preprocessing\n",
    "from sklearn.feature_extraction.text import CountVectorizer\n",
    "from sklearn.model_selection import KFold\n",
    "from sklearn.metrics import confusion_matrix\n",
    "\n",
    "import genre_data_loader, genre_upperbound\n",
    "\n",
    "# import matplotlib.pyplot as plt\n",
    "# import seaborn as sns; sns.set()\n",
    "\n",
    "# import re\n",
    "\n",
    "# import os\n",
    "# from gensim import corpora\n",
    "# from gensim.corpora import MmCorpus\n",
    "# from gensim.models import TfidfModel, LsiModel\n",
    "# from gensim.matutils import corpus2dense\n",
    "\n",
    "# import json\n",
    "\n",
    "seed = 23"
   ]
  },
  {
   "cell_type": "code",
   "execution_count": 2,
   "metadata": {},
   "outputs": [],
   "source": [
    "# get currrent date for latest version of data set\n",
    "%store -r now\n",
    "\n",
    "X_path_train = '/Users/Daniel/Code/Genre/data/genre_lists/data_ready_for_model/wiki-kaggle_X_train_{}.csv'.format(now)\n",
    "y_path_train = '/Users/Daniel/Code/Genre/data/genre_lists/data_ready_for_model/wiki-kaggle_y_train_{}.csv'.format(now)\n",
    "X_path_test = '/Users/Daniel/Code/Genre/data/genre_lists/data_ready_for_model/wiki-kaggle_X_test_{}.csv'.format(now)\n",
    "y_path_test = '/Users/Daniel/Code/Genre/data/genre_lists/data_ready_for_model/wiki-kaggle_y_test_{}.csv'.format(now)\n",
    "\n",
    "# call data loader script for training data\n",
    "genre_data = genre_data_loader.LoadGenreData(now, X_path_train = X_path_train, y_path_train = y_path_train,\n",
    "                                                  X_path_test = X_path_test, y_path_test = y_path_test)\n",
    "# call it for train data\n",
    "genre_data_train = genre_data_loader.LoadGenreData(now, X_path_train = X_path_train, y_path_train = y_path_train)\n",
    "# call it for test data\n",
    "genre_data_test = genre_data_loader.LoadGenreData(now, X_path_train = X_path_test, y_path_train = y_path_test)\n",
    "\n",
    "# load data with genre sets\n",
    "data_train = genre_data_train.as_strings()\n",
    "data_train = genre_data_train.as_lists()\n",
    "data_train = genre_data_train.as_sets()\n",
    "data_test = genre_data_test.as_strings()\n",
    "data = genre_data.as_strings()\n",
    "data = genre_data.as_sets()\n",
    "\n",
    "# create list of all genres\n",
    "list_of_genres = genre_data.get_list_of_genres()\n",
    "\n",
    "# Create a dictionary of {genre : genre_id}\n",
    "dict_gid = genre_data.get_dict_genre_to_id()\n",
    "dict_idg = genre_data.get_dict_id_to_genre()"
   ]
  },
  {
   "cell_type": "code",
   "execution_count": 3,
   "metadata": {},
   "outputs": [
    {
     "data": {
      "text/plain": [
       "((12376, 5), (3094, 3), (15470, 4))"
      ]
     },
     "execution_count": 3,
     "metadata": {},
     "output_type": "execute_result"
    }
   ],
   "source": [
    "data_train.shape, data_test.shape, data.shape"
   ]
  },
  {
   "cell_type": "markdown",
   "metadata": {},
   "source": [
    "Now create a sparse data structure encoding of the genre labels:"
   ]
  },
  {
   "cell_type": "code",
   "execution_count": 4,
   "metadata": {},
   "outputs": [],
   "source": [
    "vec = CountVectorizer(vocabulary = dict_gid) # uses scipy.sparse.csr_matrix representation\n",
    "# create sparse matrix of training features NOTE: cannot use .get_sparse_matrix() method of genre_data_loader:\n",
    "# that will use a dict_gid built from the list of genres only from training data \n",
    "X_train = vec.fit_transform(data_train.genre_string)\n",
    "\n",
    "# Encode labels:\n",
    "# le = preprocessing.LabelEncoder()\n",
    "# le.fit(['male', 'female'])\n",
    "# #le.classes_\n",
    "# y_train = le.transform(data_train.gender.values)\n",
    "# # le.transform(['female'])\n",
    "# # le.inverse_transform([1,0,1])\n",
    "\n",
    "# Encode Labels with UDF so can control encoding:\n",
    "def encode_targets(row):\n",
    "    if row.gender == 'female':\n",
    "        return 1\n",
    "    else:\n",
    "        return 0\n",
    "    \n",
    "y_train = data_train.apply(encode_targets, axis = 1)\n",
    "y_train = y_train.values"
   ]
  },
  {
   "cell_type": "markdown",
   "metadata": {},
   "source": [
    "Test alignment of data, X, y"
   ]
  },
  {
   "cell_type": "markdown",
   "metadata": {},
   "source": [
    "From genre_data_loader.ipynb:"
   ]
  },
  {
   "cell_type": "code",
   "execution_count": 5,
   "metadata": {},
   "outputs": [],
   "source": [
    "def decode_sparse_list(X_sparse, row_number):\n",
    "    zeros, cols = X_sparse[row_number].nonzero()\n",
    "    cols_labels = [dict_idg[ind] for ind in cols]\n",
    "    cols_labels.sort()\n",
    "    return cols_labels"
   ]
  },
  {
   "cell_type": "markdown",
   "metadata": {},
   "source": [
    "### Check alignment of data_train and (X_train, y_train)"
   ]
  },
  {
   "cell_type": "code",
   "execution_count": 6,
   "metadata": {},
   "outputs": [
    {
     "data": {
      "text/plain": [
       "(['country', 'rockabilly'], ['country', 'rockabilly'])"
      ]
     },
     "execution_count": 6,
     "metadata": {},
     "output_type": "execute_result"
    }
   ],
   "source": [
    "n = np.random.randint(data_train.shape[0])\n",
    "sorted(decode_sparse_list(X_train, n)), sorted(data_train.genre_list.iloc[n])"
   ]
  },
  {
   "cell_type": "code",
   "execution_count": 7,
   "metadata": {},
   "outputs": [
    {
     "data": {
      "text/plain": [
       "(1, 'female')"
      ]
     },
     "execution_count": 7,
     "metadata": {},
     "output_type": "execute_result"
    }
   ],
   "source": [
    "n = np.random.randint(data_train.shape[0])\n",
    "y_train[n], data_train.gender.iloc[n]"
   ]
  },
  {
   "cell_type": "markdown",
   "metadata": {},
   "source": [
    "### Normalization\n",
    "Convert inputs to a numpy array and then create a scaler class to normalize the feature values that can be applied to training and test data."
   ]
  },
  {
   "cell_type": "code",
   "execution_count": 8,
   "metadata": {},
   "outputs": [],
   "source": [
    "# #scaler = preprocessing.StandardScaler(with_mean = False).fit(X_sparse) # need with_mean = False for sparse data\n",
    "# # transformer\n",
    "# transformer = preprocessing.MaxAbsScaler(copy = False).fit(X_train)\n",
    "# transformer.scale_.max(), transformer.max_abs_.max()\n",
    "# Apply the scaler to the training data:\n",
    "# X_scaled = transformer.transform(X_sparse)"
   ]
  },
  {
   "cell_type": "markdown",
   "metadata": {},
   "source": [
    "## Ceate the model: GBT"
   ]
  },
  {
   "cell_type": "code",
   "execution_count": 9,
   "metadata": {},
   "outputs": [],
   "source": [
    "model = GradientBoostingClassifier(n_estimators = 100, learning_rate = 0.1, random_state = seed)"
   ]
  },
  {
   "cell_type": "code",
   "execution_count": 10,
   "metadata": {},
   "outputs": [
    {
     "name": "stdout",
     "output_type": "stream",
     "text": [
      "Accuracy on the training set is 0.7385261797026503.\n",
      "Upper bound to accuracy on the training set is 0.734762\n"
     ]
    }
   ],
   "source": [
    "model.fit(X_train,y_train)\n",
    "print(f'Accuracy on the training set is {model.score(X_train, y_train)}.')\n",
    "uppers, err = genre_upperbound.UpperBound(data_train)\n",
    "print(f'Upper bound to accuracy on the training set is {1-err}')"
   ]
  },
  {
   "cell_type": "markdown",
   "metadata": {},
   "source": [
    "# Caution!\n",
    "The upper bound is lower than the accuracy of the model -><-"
   ]
  },
  {
   "cell_type": "markdown",
   "metadata": {},
   "source": [
    "- [x] calculate score from model.predict\n",
    "- [x] Create new columns in upper with model_predictions\n",
    "- [ ] Calculate upperbound classifier\n",
    "- [ ] Create new columns in data_train with:\n",
    "    - [x] model_prediction\n",
    "    - [ ] upperbound prediction\n",
    "\n",
    "Then compare.\n",
    "\n"
   ]
  },
  {
   "cell_type": "markdown",
   "metadata": {},
   "source": [
    "### Comparing upperbound and model score using uppers:"
   ]
  },
  {
   "cell_type": "code",
   "execution_count": 11,
   "metadata": {},
   "outputs": [],
   "source": [
    "model_predictions = model.predict(X_train)"
   ]
  },
  {
   "cell_type": "code",
   "execution_count": 12,
   "metadata": {},
   "outputs": [
    {
     "data": {
      "text/plain": [
       "0.7385261797026503"
      ]
     },
     "execution_count": 12,
     "metadata": {},
     "output_type": "execute_result"
    }
   ],
   "source": [
    "# create column with encoded genders\n",
    "data_train['gender_codes'] = data_train.gender.apply(lambda x: 0 if x == 'male' else 1)\n",
    "\n",
    "# Calculate model accuracy by hand; is same as model.score:\n",
    "model_error = np.sum(data_train.gender_codes.values != model_predictions)\n",
    "(data_train.shape[0]-model_error)/data_train.shape[0]"
   ]
  },
  {
   "cell_type": "code",
   "execution_count": 13,
   "metadata": {},
   "outputs": [],
   "source": [
    "# Add a column to uppers with the model predictions and errors\n",
    "\n",
    "#convert uppers genre into string\n",
    "\n",
    "def set_to_string(row):\n",
    "    \"\"\"This function takes in a set and produces a string.\"\"\"\n",
    "    L_new = list(row.genre_set)\n",
    "    L_string = \" \".join(L_new)\n",
    "    return L_string\n",
    "\n",
    "uppers['genre_string'] = uppers.apply(set_to_string, axis = 1)\n",
    "\n",
    "# apply vec.fit_transform to create sparse matrix \n",
    "uppers_encoded_sets = vec.fit_transform(uppers.genre_string.values)\n",
    "\n",
    "# apply model.predict to uppers_encoded_sets\n",
    "uppers_model_predictions = model.predict(uppers_encoded_sets)\n",
    "# put predictions of model into new column in uppers\n",
    "uppers_model_preds = pd.DataFrame({'model_predictions':uppers_model_predictions}, index = uppers.index)\n",
    "\n",
    "# join to uppers\n",
    "uppers = uppers.join(uppers_model_preds)\n",
    "\n",
    "# calculate model error on each set\n",
    "def model_error(row):\n",
    "    if row.model_predictions == 0:\n",
    "        return row.female\n",
    "    else:\n",
    "        return row.male\n",
    "    \n",
    "uppers['model_errors'] = uppers.apply(model_error, axis = 1)\n",
    "\n",
    "uppers = uppers[['genre_set', 'genre_string', 'total', 'female', 'male',  'classifier', \n",
    "                 'error_bound',  'model_predictions', 'model_errors']]"
   ]
  },
  {
   "cell_type": "code",
   "execution_count": 14,
   "metadata": {},
   "outputs": [],
   "source": [
    "# discrepency = uppers[uppers.classifier != uppers.model_predictions]\n",
    "# discrepency.shape\n",
    "# discrepency.columns\n",
    "# discrepency[['total', 'female', 'male', 'genre_string', 'classifier','model_predictions', 'model_errors', 'error_bound']]"
   ]
  },
  {
   "cell_type": "code",
   "execution_count": 15,
   "metadata": {},
   "outputs": [
    {
     "data": {
      "text/html": [
       "<div>\n",
       "<style scoped>\n",
       "    .dataframe tbody tr th:only-of-type {\n",
       "        vertical-align: middle;\n",
       "    }\n",
       "\n",
       "    .dataframe tbody tr th {\n",
       "        vertical-align: top;\n",
       "    }\n",
       "\n",
       "    .dataframe thead th {\n",
       "        text-align: right;\n",
       "    }\n",
       "</style>\n",
       "<table border=\"1\" class=\"dataframe\">\n",
       "  <thead>\n",
       "    <tr style=\"text-align: right;\">\n",
       "      <th></th>\n",
       "      <th>genre_set</th>\n",
       "      <th>genre_string</th>\n",
       "      <th>total</th>\n",
       "      <th>female</th>\n",
       "      <th>male</th>\n",
       "      <th>classifier</th>\n",
       "      <th>error_bound</th>\n",
       "      <th>model_predictions</th>\n",
       "      <th>model_errors</th>\n",
       "    </tr>\n",
       "    <tr>\n",
       "      <th>set_id</th>\n",
       "      <th></th>\n",
       "      <th></th>\n",
       "      <th></th>\n",
       "      <th></th>\n",
       "      <th></th>\n",
       "      <th></th>\n",
       "      <th></th>\n",
       "      <th></th>\n",
       "      <th></th>\n",
       "    </tr>\n",
       "  </thead>\n",
       "  <tbody>\n",
       "  </tbody>\n",
       "</table>\n",
       "</div>"
      ],
      "text/plain": [
       "Empty DataFrame\n",
       "Columns: [genre_set, genre_string, total, female, male, classifier, error_bound, model_predictions, model_errors]\n",
       "Index: []"
      ]
     },
     "execution_count": 15,
     "metadata": {},
     "output_type": "execute_result"
    }
   ],
   "source": [
    "uppers[uppers.model_errors < uppers.error_bound]"
   ]
  },
  {
   "cell_type": "markdown",
   "metadata": {},
   "source": [
    "It appears that the upperbound should not be exceeded because the model never has less error:"
   ]
  },
  {
   "cell_type": "code",
   "execution_count": 16,
   "metadata": {},
   "outputs": [
    {
     "data": {
      "text/plain": [
       "(1658, 3236)"
      ]
     },
     "execution_count": 16,
     "metadata": {},
     "output_type": "execute_result"
    }
   ],
   "source": [
    "x = uppers.error_bound.sum()\n",
    "y = uppers.model_errors.sum()\n",
    "x, y"
   ]
  },
  {
   "cell_type": "markdown",
   "metadata": {},
   "source": [
    "Putting predictions in data_train:"
   ]
  },
  {
   "cell_type": "code",
   "execution_count": 17,
   "metadata": {},
   "outputs": [],
   "source": [
    "model_preds = pd.DataFrame({'model_predictions':model_predictions}, index = data_train.index)"
   ]
  },
  {
   "cell_type": "code",
   "execution_count": 18,
   "metadata": {},
   "outputs": [],
   "source": [
    "#data_train.drop(['model_predictions'], axis = 1, inplace = True)\n",
    "data_train = data_train.join(model_preds)"
   ]
  },
  {
   "cell_type": "markdown",
   "metadata": {},
   "source": [
    "Putting upperbound predictions in data_train"
   ]
  },
  {
   "cell_type": "code",
   "execution_count": 19,
   "metadata": {},
   "outputs": [
    {
     "data": {
      "text/html": [
       "<div>\n",
       "<style scoped>\n",
       "    .dataframe tbody tr th:only-of-type {\n",
       "        vertical-align: middle;\n",
       "    }\n",
       "\n",
       "    .dataframe tbody tr th {\n",
       "        vertical-align: top;\n",
       "    }\n",
       "\n",
       "    .dataframe thead th {\n",
       "        text-align: right;\n",
       "    }\n",
       "</style>\n",
       "<table border=\"1\" class=\"dataframe\">\n",
       "  <thead>\n",
       "    <tr style=\"text-align: right;\">\n",
       "      <th></th>\n",
       "      <th>genre_set</th>\n",
       "      <th>genre_string</th>\n",
       "      <th>total</th>\n",
       "      <th>female</th>\n",
       "      <th>male</th>\n",
       "      <th>classifier</th>\n",
       "      <th>error_bound</th>\n",
       "      <th>model_predictions</th>\n",
       "      <th>model_errors</th>\n",
       "    </tr>\n",
       "    <tr>\n",
       "      <th>set_id</th>\n",
       "      <th></th>\n",
       "      <th></th>\n",
       "      <th></th>\n",
       "      <th></th>\n",
       "      <th></th>\n",
       "      <th></th>\n",
       "      <th></th>\n",
       "      <th></th>\n",
       "      <th></th>\n",
       "    </tr>\n",
       "  </thead>\n",
       "  <tbody>\n",
       "    <tr>\n",
       "      <th>0</th>\n",
       "      <td>{emo_pop, rock, pop}</td>\n",
       "      <td>emo_pop rock pop</td>\n",
       "      <td>1</td>\n",
       "      <td>0</td>\n",
       "      <td>1</td>\n",
       "      <td>0</td>\n",
       "      <td>0</td>\n",
       "      <td>0</td>\n",
       "      <td>0</td>\n",
       "    </tr>\n",
       "    <tr>\n",
       "      <th>1</th>\n",
       "      <td>{country}</td>\n",
       "      <td>country</td>\n",
       "      <td>720</td>\n",
       "      <td>218</td>\n",
       "      <td>502</td>\n",
       "      <td>0</td>\n",
       "      <td>218</td>\n",
       "      <td>0</td>\n",
       "      <td>218</td>\n",
       "    </tr>\n",
       "    <tr>\n",
       "      <th>2</th>\n",
       "      <td>{afro_cuban_jazz, son_montuno, salsa_romántica...</td>\n",
       "      <td>afro_cuban_jazz son_montuno salsa_romántica gu...</td>\n",
       "      <td>1</td>\n",
       "      <td>0</td>\n",
       "      <td>1</td>\n",
       "      <td>0</td>\n",
       "      <td>0</td>\n",
       "      <td>0</td>\n",
       "      <td>0</td>\n",
       "    </tr>\n",
       "    <tr>\n",
       "      <th>3</th>\n",
       "      <td>{r_and_b, soul}</td>\n",
       "      <td>r_and_b soul</td>\n",
       "      <td>94</td>\n",
       "      <td>45</td>\n",
       "      <td>49</td>\n",
       "      <td>0</td>\n",
       "      <td>45</td>\n",
       "      <td>0</td>\n",
       "      <td>45</td>\n",
       "    </tr>\n",
       "    <tr>\n",
       "      <th>4</th>\n",
       "      <td>{southern_rock}</td>\n",
       "      <td>southern_rock</td>\n",
       "      <td>9</td>\n",
       "      <td>2</td>\n",
       "      <td>7</td>\n",
       "      <td>0</td>\n",
       "      <td>2</td>\n",
       "      <td>0</td>\n",
       "      <td>2</td>\n",
       "    </tr>\n",
       "  </tbody>\n",
       "</table>\n",
       "</div>"
      ],
      "text/plain": [
       "                                                genre_set  \\\n",
       "set_id                                                      \n",
       "0                                    {emo_pop, rock, pop}   \n",
       "1                                               {country}   \n",
       "2       {afro_cuban_jazz, son_montuno, salsa_romántica...   \n",
       "3                                         {r_and_b, soul}   \n",
       "4                                         {southern_rock}   \n",
       "\n",
       "                                             genre_string  total  female  \\\n",
       "set_id                                                                     \n",
       "0                                        emo_pop rock pop      1       0   \n",
       "1                                                 country    720     218   \n",
       "2       afro_cuban_jazz son_montuno salsa_romántica gu...      1       0   \n",
       "3                                            r_and_b soul     94      45   \n",
       "4                                           southern_rock      9       2   \n",
       "\n",
       "        male  classifier  error_bound  model_predictions  model_errors  \n",
       "set_id                                                                  \n",
       "0          1           0            0                  0             0  \n",
       "1        502           0          218                  0           218  \n",
       "2          1           0            0                  0             0  \n",
       "3         49           0           45                  0            45  \n",
       "4          7           0            2                  0             2  "
      ]
     },
     "execution_count": 19,
     "metadata": {},
     "output_type": "execute_result"
    }
   ],
   "source": [
    "uppers.head()"
   ]
  },
  {
   "cell_type": "code",
   "execution_count": 20,
   "metadata": {},
   "outputs": [
    {
     "data": {
      "text/html": [
       "<div>\n",
       "<style scoped>\n",
       "    .dataframe tbody tr th:only-of-type {\n",
       "        vertical-align: middle;\n",
       "    }\n",
       "\n",
       "    .dataframe tbody tr th {\n",
       "        vertical-align: top;\n",
       "    }\n",
       "\n",
       "    .dataframe thead th {\n",
       "        text-align: right;\n",
       "    }\n",
       "</style>\n",
       "<table border=\"1\" class=\"dataframe\">\n",
       "  <thead>\n",
       "    <tr style=\"text-align: right;\">\n",
       "      <th></th>\n",
       "      <th>genrelist_length</th>\n",
       "      <th>gender</th>\n",
       "      <th>genre_string</th>\n",
       "      <th>genre_list</th>\n",
       "      <th>genre_set</th>\n",
       "      <th>gender_codes</th>\n",
       "      <th>model_predictions</th>\n",
       "    </tr>\n",
       "    <tr>\n",
       "      <th>artist</th>\n",
       "      <th></th>\n",
       "      <th></th>\n",
       "      <th></th>\n",
       "      <th></th>\n",
       "      <th></th>\n",
       "      <th></th>\n",
       "      <th></th>\n",
       "    </tr>\n",
       "  </thead>\n",
       "  <tbody>\n",
       "    <tr>\n",
       "      <th>Pablo_Holman</th>\n",
       "      <td>3</td>\n",
       "      <td>male</td>\n",
       "      <td>emo_pop rock pop</td>\n",
       "      <td>[emo_pop, rock, pop]</td>\n",
       "      <td>{emo_pop, rock, pop}</td>\n",
       "      <td>0</td>\n",
       "      <td>0</td>\n",
       "    </tr>\n",
       "    <tr>\n",
       "      <th>Bobby_Edwards</th>\n",
       "      <td>1</td>\n",
       "      <td>male</td>\n",
       "      <td>country</td>\n",
       "      <td>[country]</td>\n",
       "      <td>{country}</td>\n",
       "      <td>0</td>\n",
       "      <td>0</td>\n",
       "    </tr>\n",
       "    <tr>\n",
       "      <th>La_Palabra</th>\n",
       "      <td>4</td>\n",
       "      <td>male</td>\n",
       "      <td>afro_cuban_jazz son_montuno salsa_romántica gu...</td>\n",
       "      <td>[afro_cuban_jazz, son_montuno, salsa_romántica...</td>\n",
       "      <td>{afro_cuban_jazz, son_montuno, salsa_romántica...</td>\n",
       "      <td>0</td>\n",
       "      <td>0</td>\n",
       "    </tr>\n",
       "    <tr>\n",
       "      <th>Sherrick</th>\n",
       "      <td>2</td>\n",
       "      <td>male</td>\n",
       "      <td>r_and_b soul</td>\n",
       "      <td>[r_and_b, soul]</td>\n",
       "      <td>{r_and_b, soul}</td>\n",
       "      <td>0</td>\n",
       "      <td>0</td>\n",
       "    </tr>\n",
       "    <tr>\n",
       "      <th>Allen_Collins</th>\n",
       "      <td>1</td>\n",
       "      <td>male</td>\n",
       "      <td>southern_rock</td>\n",
       "      <td>[southern_rock]</td>\n",
       "      <td>{southern_rock}</td>\n",
       "      <td>0</td>\n",
       "      <td>0</td>\n",
       "    </tr>\n",
       "    <tr>\n",
       "      <th>...</th>\n",
       "      <td>...</td>\n",
       "      <td>...</td>\n",
       "      <td>...</td>\n",
       "      <td>...</td>\n",
       "      <td>...</td>\n",
       "      <td>...</td>\n",
       "      <td>...</td>\n",
       "    </tr>\n",
       "    <tr>\n",
       "      <th>Steve_Gaines</th>\n",
       "      <td>2</td>\n",
       "      <td>male</td>\n",
       "      <td>southern_rock blues</td>\n",
       "      <td>[southern_rock, blues]</td>\n",
       "      <td>{southern_rock, blues}</td>\n",
       "      <td>0</td>\n",
       "      <td>0</td>\n",
       "    </tr>\n",
       "    <tr>\n",
       "      <th>Dan_Hoerner</th>\n",
       "      <td>3</td>\n",
       "      <td>male</td>\n",
       "      <td>alternative_rock emo indie_rock</td>\n",
       "      <td>[alternative_rock, emo, indie_rock]</td>\n",
       "      <td>{alternative_rock, emo, indie_rock}</td>\n",
       "      <td>0</td>\n",
       "      <td>0</td>\n",
       "    </tr>\n",
       "    <tr>\n",
       "      <th>Detail</th>\n",
       "      <td>2</td>\n",
       "      <td>male</td>\n",
       "      <td>r_and_b hip_hop</td>\n",
       "      <td>[r_and_b, hip_hop]</td>\n",
       "      <td>{r_and_b, hip_hop}</td>\n",
       "      <td>0</td>\n",
       "      <td>0</td>\n",
       "    </tr>\n",
       "    <tr>\n",
       "      <th>Billy_Woods</th>\n",
       "      <td>1</td>\n",
       "      <td>male</td>\n",
       "      <td>hip_hop</td>\n",
       "      <td>[hip_hop]</td>\n",
       "      <td>{hip_hop}</td>\n",
       "      <td>0</td>\n",
       "      <td>0</td>\n",
       "    </tr>\n",
       "    <tr>\n",
       "      <th>Dani_Filth</th>\n",
       "      <td>4</td>\n",
       "      <td>male</td>\n",
       "      <td>gothic_metal symphonic_metal black_metal extre...</td>\n",
       "      <td>[gothic_metal, symphonic_metal, black_metal, e...</td>\n",
       "      <td>{gothic_metal, symphonic_metal, black_metal, e...</td>\n",
       "      <td>0</td>\n",
       "      <td>0</td>\n",
       "    </tr>\n",
       "  </tbody>\n",
       "</table>\n",
       "<p>12376 rows × 7 columns</p>\n",
       "</div>"
      ],
      "text/plain": [
       "               genrelist_length gender  \\\n",
       "artist                                   \n",
       "Pablo_Holman                  3   male   \n",
       "Bobby_Edwards                 1   male   \n",
       "La_Palabra                    4   male   \n",
       "Sherrick                      2   male   \n",
       "Allen_Collins                 1   male   \n",
       "...                         ...    ...   \n",
       "Steve_Gaines                  2   male   \n",
       "Dan_Hoerner                   3   male   \n",
       "Detail                        2   male   \n",
       "Billy_Woods                   1   male   \n",
       "Dani_Filth                    4   male   \n",
       "\n",
       "                                                    genre_string  \\\n",
       "artist                                                             \n",
       "Pablo_Holman                                    emo_pop rock pop   \n",
       "Bobby_Edwards                                            country   \n",
       "La_Palabra     afro_cuban_jazz son_montuno salsa_romántica gu...   \n",
       "Sherrick                                            r_and_b soul   \n",
       "Allen_Collins                                      southern_rock   \n",
       "...                                                          ...   \n",
       "Steve_Gaines                                 southern_rock blues   \n",
       "Dan_Hoerner                      alternative_rock emo indie_rock   \n",
       "Detail                                           r_and_b hip_hop   \n",
       "Billy_Woods                                              hip_hop   \n",
       "Dani_Filth     gothic_metal symphonic_metal black_metal extre...   \n",
       "\n",
       "                                                      genre_list  \\\n",
       "artist                                                             \n",
       "Pablo_Holman                                [emo_pop, rock, pop]   \n",
       "Bobby_Edwards                                          [country]   \n",
       "La_Palabra     [afro_cuban_jazz, son_montuno, salsa_romántica...   \n",
       "Sherrick                                         [r_and_b, soul]   \n",
       "Allen_Collins                                    [southern_rock]   \n",
       "...                                                          ...   \n",
       "Steve_Gaines                              [southern_rock, blues]   \n",
       "Dan_Hoerner                  [alternative_rock, emo, indie_rock]   \n",
       "Detail                                        [r_and_b, hip_hop]   \n",
       "Billy_Woods                                            [hip_hop]   \n",
       "Dani_Filth     [gothic_metal, symphonic_metal, black_metal, e...   \n",
       "\n",
       "                                                       genre_set  \\\n",
       "artist                                                             \n",
       "Pablo_Holman                                {emo_pop, rock, pop}   \n",
       "Bobby_Edwards                                          {country}   \n",
       "La_Palabra     {afro_cuban_jazz, son_montuno, salsa_romántica...   \n",
       "Sherrick                                         {r_and_b, soul}   \n",
       "Allen_Collins                                    {southern_rock}   \n",
       "...                                                          ...   \n",
       "Steve_Gaines                              {southern_rock, blues}   \n",
       "Dan_Hoerner                  {alternative_rock, emo, indie_rock}   \n",
       "Detail                                        {r_and_b, hip_hop}   \n",
       "Billy_Woods                                            {hip_hop}   \n",
       "Dani_Filth     {gothic_metal, symphonic_metal, black_metal, e...   \n",
       "\n",
       "               gender_codes  model_predictions  \n",
       "artist                                          \n",
       "Pablo_Holman              0                  0  \n",
       "Bobby_Edwards             0                  0  \n",
       "La_Palabra                0                  0  \n",
       "Sherrick                  0                  0  \n",
       "Allen_Collins             0                  0  \n",
       "...                     ...                ...  \n",
       "Steve_Gaines              0                  0  \n",
       "Dan_Hoerner               0                  0  \n",
       "Detail                    0                  0  \n",
       "Billy_Woods               0                  0  \n",
       "Dani_Filth                0                  0  \n",
       "\n",
       "[12376 rows x 7 columns]"
      ]
     },
     "execution_count": 20,
     "metadata": {},
     "output_type": "execute_result"
    }
   ],
   "source": [
    "data_train"
   ]
  },
  {
   "cell_type": "code",
   "execution_count": 21,
   "metadata": {},
   "outputs": [],
   "source": [
    "# function that returns the upper bound prediction for each row of data_train\n",
    "# currently there are some genre sets which generate no prediction, thus we have to account for\n",
    "# empty array as output; currently there are no missing predictions\n",
    "def upper_prediction(row):\n",
    "    arr = uppers.classifier[uppers.genre_set == row.genre_set].values\n",
    "    if arr.shape[0] == 1:\n",
    "        return arr[0]\n",
    "    else:\n",
    "        return -1"
   ]
  },
  {
   "cell_type": "code",
   "execution_count": 22,
   "metadata": {},
   "outputs": [],
   "source": [
    "data_train['upper_bound_prediction'] = data_train.apply(upper_prediction, axis = 1)"
   ]
  },
  {
   "cell_type": "code",
   "execution_count": 23,
   "metadata": {},
   "outputs": [
    {
     "data": {
      "text/html": [
       "<div>\n",
       "<style scoped>\n",
       "    .dataframe tbody tr th:only-of-type {\n",
       "        vertical-align: middle;\n",
       "    }\n",
       "\n",
       "    .dataframe tbody tr th {\n",
       "        vertical-align: top;\n",
       "    }\n",
       "\n",
       "    .dataframe thead th {\n",
       "        text-align: right;\n",
       "    }\n",
       "</style>\n",
       "<table border=\"1\" class=\"dataframe\">\n",
       "  <thead>\n",
       "    <tr style=\"text-align: right;\">\n",
       "      <th></th>\n",
       "      <th>genrelist_length</th>\n",
       "      <th>gender</th>\n",
       "      <th>genre_string</th>\n",
       "      <th>genre_list</th>\n",
       "      <th>genre_set</th>\n",
       "      <th>gender_codes</th>\n",
       "      <th>model_predictions</th>\n",
       "      <th>upper_bound_prediction</th>\n",
       "    </tr>\n",
       "    <tr>\n",
       "      <th>artist</th>\n",
       "      <th></th>\n",
       "      <th></th>\n",
       "      <th></th>\n",
       "      <th></th>\n",
       "      <th></th>\n",
       "      <th></th>\n",
       "      <th></th>\n",
       "      <th></th>\n",
       "    </tr>\n",
       "  </thead>\n",
       "  <tbody>\n",
       "  </tbody>\n",
       "</table>\n",
       "</div>"
      ],
      "text/plain": [
       "Empty DataFrame\n",
       "Columns: [genrelist_length, gender, genre_string, genre_list, genre_set, gender_codes, model_predictions, upper_bound_prediction]\n",
       "Index: []"
      ]
     },
     "execution_count": 23,
     "metadata": {},
     "output_type": "execute_result"
    }
   ],
   "source": [
    "data_train[data_train.upper_bound_prediction < 0]"
   ]
  },
  {
   "cell_type": "code",
   "execution_count": 24,
   "metadata": {},
   "outputs": [
    {
     "data": {
      "text/html": [
       "<div>\n",
       "<style scoped>\n",
       "    .dataframe tbody tr th:only-of-type {\n",
       "        vertical-align: middle;\n",
       "    }\n",
       "\n",
       "    .dataframe tbody tr th {\n",
       "        vertical-align: top;\n",
       "    }\n",
       "\n",
       "    .dataframe thead th {\n",
       "        text-align: right;\n",
       "    }\n",
       "</style>\n",
       "<table border=\"1\" class=\"dataframe\">\n",
       "  <thead>\n",
       "    <tr style=\"text-align: right;\">\n",
       "      <th></th>\n",
       "      <th>genrelist_length</th>\n",
       "      <th>gender</th>\n",
       "      <th>genre_string</th>\n",
       "      <th>genre_list</th>\n",
       "      <th>genre_set</th>\n",
       "      <th>gender_codes</th>\n",
       "      <th>model_predictions</th>\n",
       "      <th>upper_bound_prediction</th>\n",
       "    </tr>\n",
       "    <tr>\n",
       "      <th>artist</th>\n",
       "      <th></th>\n",
       "      <th></th>\n",
       "      <th></th>\n",
       "      <th></th>\n",
       "      <th></th>\n",
       "      <th></th>\n",
       "      <th></th>\n",
       "      <th></th>\n",
       "    </tr>\n",
       "  </thead>\n",
       "  <tbody>\n",
       "    <tr>\n",
       "      <th>Pablo_Holman</th>\n",
       "      <td>3</td>\n",
       "      <td>male</td>\n",
       "      <td>emo_pop rock pop</td>\n",
       "      <td>[emo_pop, rock, pop]</td>\n",
       "      <td>{emo_pop, rock, pop}</td>\n",
       "      <td>0</td>\n",
       "      <td>0</td>\n",
       "      <td>0</td>\n",
       "    </tr>\n",
       "    <tr>\n",
       "      <th>Bobby_Edwards</th>\n",
       "      <td>1</td>\n",
       "      <td>male</td>\n",
       "      <td>country</td>\n",
       "      <td>[country]</td>\n",
       "      <td>{country}</td>\n",
       "      <td>0</td>\n",
       "      <td>0</td>\n",
       "      <td>0</td>\n",
       "    </tr>\n",
       "    <tr>\n",
       "      <th>La_Palabra</th>\n",
       "      <td>4</td>\n",
       "      <td>male</td>\n",
       "      <td>afro_cuban_jazz son_montuno salsa_romántica gu...</td>\n",
       "      <td>[afro_cuban_jazz, son_montuno, salsa_romántica...</td>\n",
       "      <td>{afro_cuban_jazz, son_montuno, salsa_romántica...</td>\n",
       "      <td>0</td>\n",
       "      <td>0</td>\n",
       "      <td>0</td>\n",
       "    </tr>\n",
       "    <tr>\n",
       "      <th>Sherrick</th>\n",
       "      <td>2</td>\n",
       "      <td>male</td>\n",
       "      <td>r_and_b soul</td>\n",
       "      <td>[r_and_b, soul]</td>\n",
       "      <td>{r_and_b, soul}</td>\n",
       "      <td>0</td>\n",
       "      <td>0</td>\n",
       "      <td>0</td>\n",
       "    </tr>\n",
       "    <tr>\n",
       "      <th>Allen_Collins</th>\n",
       "      <td>1</td>\n",
       "      <td>male</td>\n",
       "      <td>southern_rock</td>\n",
       "      <td>[southern_rock]</td>\n",
       "      <td>{southern_rock}</td>\n",
       "      <td>0</td>\n",
       "      <td>0</td>\n",
       "      <td>0</td>\n",
       "    </tr>\n",
       "  </tbody>\n",
       "</table>\n",
       "</div>"
      ],
      "text/plain": [
       "               genrelist_length gender  \\\n",
       "artist                                   \n",
       "Pablo_Holman                  3   male   \n",
       "Bobby_Edwards                 1   male   \n",
       "La_Palabra                    4   male   \n",
       "Sherrick                      2   male   \n",
       "Allen_Collins                 1   male   \n",
       "\n",
       "                                                    genre_string  \\\n",
       "artist                                                             \n",
       "Pablo_Holman                                    emo_pop rock pop   \n",
       "Bobby_Edwards                                            country   \n",
       "La_Palabra     afro_cuban_jazz son_montuno salsa_romántica gu...   \n",
       "Sherrick                                            r_and_b soul   \n",
       "Allen_Collins                                      southern_rock   \n",
       "\n",
       "                                                      genre_list  \\\n",
       "artist                                                             \n",
       "Pablo_Holman                                [emo_pop, rock, pop]   \n",
       "Bobby_Edwards                                          [country]   \n",
       "La_Palabra     [afro_cuban_jazz, son_montuno, salsa_romántica...   \n",
       "Sherrick                                         [r_and_b, soul]   \n",
       "Allen_Collins                                    [southern_rock]   \n",
       "\n",
       "                                                       genre_set  \\\n",
       "artist                                                             \n",
       "Pablo_Holman                                {emo_pop, rock, pop}   \n",
       "Bobby_Edwards                                          {country}   \n",
       "La_Palabra     {afro_cuban_jazz, son_montuno, salsa_romántica...   \n",
       "Sherrick                                         {r_and_b, soul}   \n",
       "Allen_Collins                                    {southern_rock}   \n",
       "\n",
       "               gender_codes  model_predictions  upper_bound_prediction  \n",
       "artist                                                                  \n",
       "Pablo_Holman              0                  0                       0  \n",
       "Bobby_Edwards             0                  0                       0  \n",
       "La_Palabra                0                  0                       0  \n",
       "Sherrick                  0                  0                       0  \n",
       "Allen_Collins             0                  0                       0  "
      ]
     },
     "execution_count": 24,
     "metadata": {},
     "output_type": "execute_result"
    }
   ],
   "source": [
    "data_train.head()"
   ]
  },
  {
   "cell_type": "code",
   "execution_count": 25,
   "metadata": {},
   "outputs": [],
   "source": [
    "majority_vote_errors = data_train[data_train.upper_bound_prediction != data_train.gender_codes]"
   ]
  },
  {
   "cell_type": "code",
   "execution_count": 26,
   "metadata": {},
   "outputs": [
    {
     "data": {
      "text/plain": [
       "1658"
      ]
     },
     "execution_count": 26,
     "metadata": {},
     "output_type": "execute_result"
    }
   ],
   "source": [
    "mv_err = majority_vote_errors.shape[0]\n",
    "mv_err"
   ]
  },
  {
   "cell_type": "code",
   "execution_count": 27,
   "metadata": {},
   "outputs": [
    {
     "data": {
      "text/plain": [
       "0.8660310277957337"
      ]
     },
     "execution_count": 27,
     "metadata": {},
     "output_type": "execute_result"
    }
   ],
   "source": [
    "(data_train.shape[0]-mv_err)/data_train.shape[0]"
   ]
  },
  {
   "cell_type": "code",
   "execution_count": null,
   "metadata": {},
   "outputs": [],
   "source": []
  },
  {
   "cell_type": "code",
   "execution_count": null,
   "metadata": {},
   "outputs": [],
   "source": []
  },
  {
   "cell_type": "code",
   "execution_count": null,
   "metadata": {},
   "outputs": [],
   "source": []
  },
  {
   "cell_type": "code",
   "execution_count": null,
   "metadata": {},
   "outputs": [],
   "source": []
  },
  {
   "cell_type": "markdown",
   "metadata": {},
   "source": [
    "### Cross validation."
   ]
  },
  {
   "cell_type": "code",
   "execution_count": 28,
   "metadata": {},
   "outputs": [],
   "source": [
    "def train_validate(x_data, y_data, data):\n",
    "    \"\"\"This function takes X,y, data and returns\n",
    "    Input:\n",
    "        X - sparse matrix representing features: genre labels\n",
    "        y - list of genders\n",
    "        data - DataFrame of the full data set used for the upperbound calculation\n",
    "    Output:\n",
    "        cvscores - list of cvscores, \n",
    "        cms - list of confusion matrices, \n",
    "        vals - list of validation set indices. \n",
    "    It also prints basic stats.\n",
    "    \"\"\"\n",
    "\n",
    "    kf = KFold(n_splits = 5, shuffle = True, random_state = seed)\n",
    "\n",
    "    cvscores = []\n",
    "    cms = []\n",
    "    vals = []\n",
    "    \n",
    "    for train, val in kf.split(x_data,y_data):\n",
    "        X_train = x_data[train]\n",
    "        y_train = y_data[train]\n",
    "\n",
    "        model.fit(X_train, y_train);\n",
    "\n",
    "        X_val = x_data[val]\n",
    "        y_val = y_data[val]\n",
    "\n",
    "        score = model.score(X_val, y_val)\n",
    "        cvscores.append(round(score,3))\n",
    "\n",
    "        # compute confusion matrices and store them in a list\n",
    "        y_pred = model.predict(X_val)\n",
    "        cms.append(confusion_matrix(y_val, y_pred))\n",
    "        \n",
    "        vals.append(val)\n",
    "\n",
    "    print(f'Mean accuracy is {100*np.mean(cvscores):.2f}% and 100*STD is {100*np.std(cvscores):.2f}%')\n",
    "    print(f'This is a {100*(100*np.mean(cvscores)-69)/69:.2f}% improvement over a random guess.')\n",
    "        \n",
    "        \n",
    "    #data_val = data.iloc[val]\n",
    "    #upper = genre_upperbound.UpperBound()\n",
    "        \n",
    "    return cvscores, cms, vals"
   ]
  },
  {
   "cell_type": "code",
   "execution_count": null,
   "metadata": {},
   "outputs": [],
   "source": [
    "cvscores, cms, vals = train_validate(X_train, y_train, data_train)"
   ]
  },
  {
   "cell_type": "markdown",
   "metadata": {},
   "source": [
    "Calculate upper bounds on accuracy for each validation set:"
   ]
  },
  {
   "cell_type": "code",
   "execution_count": null,
   "metadata": {},
   "outputs": [],
   "source": [
    "def upper_bounds(vals, data):\n",
    "    \"\"\"Create a list of the upper bounds on accuracy for each validation set.\"\"\"\n",
    "    uppers = []\n",
    "    for val in vals:\n",
    "        data_val = data.iloc[val] \n",
    "        upper, error = genre_upperbound.UpperBound(data_val)\n",
    "        uppers.append(round(1-error,3))\n",
    "    return uppers"
   ]
  },
  {
   "cell_type": "code",
   "execution_count": null,
   "metadata": {},
   "outputs": [],
   "source": [
    "uppers = upper_bounds(vals, data_train)"
   ]
  },
  {
   "cell_type": "code",
   "execution_count": null,
   "metadata": {},
   "outputs": [],
   "source": [
    "print(uppers)\n",
    "print(cvscores)\n",
    "print(np.array(uppers)-np.array(cvscores))"
   ]
  },
  {
   "cell_type": "code",
   "execution_count": null,
   "metadata": {},
   "outputs": [],
   "source": [
    "# check alignment of genders\n",
    "# n = np.random.randint(y_val0.shape[0])\n",
    "# print('y_val')\n",
    "# print(y_val0[n])\n",
    "# print('data_val')\n",
    "# print(data_val0.gender.iloc[n])"
   ]
  },
  {
   "cell_type": "code",
   "execution_count": null,
   "metadata": {},
   "outputs": [],
   "source": []
  },
  {
   "cell_type": "code",
   "execution_count": null,
   "metadata": {},
   "outputs": [],
   "source": []
  },
  {
   "cell_type": "code",
   "execution_count": 24,
   "metadata": {},
   "outputs": [],
   "source": [
    "def code_to_gender(row):\n",
    "    return le.transform([row.gender])[0]\n",
    "\n",
    "data_train['gender_code'] = data_train.apply(code_to_gender, axis = 1)"
   ]
  },
  {
   "cell_type": "code",
   "execution_count": 60,
   "metadata": {},
   "outputs": [],
   "source": [
    "# convert uppers gender code to same as used in X,y\n",
    "def convert_gender_code(row):\n",
    "    code = row.classifier\n",
    "    if code == 0:\n",
    "        gender = 'male'\n",
    "    else: \n",
    "        gender = 'female'\n",
    "    code = le.transform([gender])[0]\n",
    "    return code"
   ]
  },
  {
   "cell_type": "code",
   "execution_count": null,
   "metadata": {},
   "outputs": [],
   "source": []
  },
  {
   "cell_type": "markdown",
   "metadata": {},
   "source": [
    "### Use tf-idf and then LSA in scikit learn"
   ]
  }
 ],
 "metadata": {
  "kernelspec": {
   "display_name": "Python 3",
   "language": "python",
   "name": "python3"
  },
  "language_info": {
   "codemirror_mode": {
    "name": "ipython",
    "version": 3
   },
   "file_extension": ".py",
   "mimetype": "text/x-python",
   "name": "python",
   "nbconvert_exporter": "python",
   "pygments_lexer": "ipython3",
   "version": "3.7.3"
  }
 },
 "nbformat": 4,
 "nbformat_minor": 4
}
