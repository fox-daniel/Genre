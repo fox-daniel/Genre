{
 "cells": [
  {
   "cell_type": "markdown",
   "metadata": {},
   "source": [
    "This notebook examines how genre list length correlates with gender.\n",
    "\n",
    "The list length counts by gender find that in the 11+ range the expected of male to female is 1. However, there are no female artists with > 11 labels. The statistics don't capture the fact that male artists have features that are not available to female artists. By switching to 12+ the inability to carry out the calculation (divide by zero) is informative. "
   ]
  },
  {
   "cell_type": "code",
   "execution_count": 1,
   "metadata": {
    "scrolled": true
   },
   "outputs": [],
   "source": [
    "import numpy as np\n",
    "import pandas as pd\n",
    "\n",
    "seed = 23\n",
    "\n",
    "import matplotlib.pyplot as plt\n",
    "import seaborn as sns; sns.set()\n",
    "%matplotlib inline\n",
    "#%matplotlib notebook\n",
    "\n",
    "from sklearn.model_selection import KFold\n",
    "\n",
    "import re\n",
    "\n",
    "from functools import partial\n",
    "\n",
    "import plotly.graph_objects as go"
   ]
  },
  {
   "cell_type": "markdown",
   "metadata": {},
   "source": [
    "Import the cleaned data:"
   ]
  },
  {
   "cell_type": "code",
   "execution_count": 2,
   "metadata": {
    "scrolled": true
   },
   "outputs": [
    {
     "name": "stdout",
     "output_type": "stream",
     "text": [
      "total 38072\r\n",
      "-rw-r--r--@ 1 Daniel  staff   287510 May 31 05:35 genre_stats.html\r\n",
      "-rw-r--r--@ 1 Daniel  staff     6110 May 29 11:30 female_skew_freq100.html\r\n",
      "-rw-r--r--  1 Daniel  staff     9315 May 29 11:30 male_skew_freq100.html\r\n",
      "-rw-r--r--  1 Daniel  staff     9778 May 29 11:30 femaleness_freq50.html\r\n",
      "-rw-r--r--  1 Daniel  staff    16374 May 29 11:30 maleness_freq50.html\r\n",
      "-rw-r--r--  1 Daniel  staff    73746 May 29 10:19 genre_stats.csv\r\n",
      "-rw-r--r--  1 Daniel  staff    66235 May 21 11:00 promiscuity_table.csv\r\n",
      "-rw-r--r--  1 Daniel  staff    57474 May 20 12:47 corpus.mm.index\r\n",
      "-rw-r--r--  1 Daniel  staff   382436 May 20 12:47 corpus.mm\r\n",
      "-rw-r--r--  1 Daniel  staff    49966 May 20 12:47 genre_dictionary.dict\r\n",
      "drwxr-xr-x  5 Daniel  staff      160 May 20 10:59 \u001b[34mlogistic_model_data\u001b[m\u001b[m/\r\n",
      "-rw-r--r--  1 Daniel  staff    10926 May 18 11:10 genre_label_non-lonely_TRAINING_2020-05-18-10-06.csv\r\n",
      "-rw-r--r--  1 Daniel  staff     8664 May 18 11:09 genre_label_lonely_TRAINING_2020-05-18-10-06.csv\r\n",
      "-rw-r--r--  1 Daniel  staff    19587 May 18 11:09 genre_label_counts_TRAINING_2020-05-18-10-06.csv\r\n",
      "-rw-r--r--  1 Daniel  staff   312423 May 18 10:47 genre_lists.txt\r\n",
      "-rw-r--r--  1 Daniel  staff    19795 May 18 10:46 unique_genres.txt\r\n",
      "-rw-r--r--  1 Daniel  staff   233078 May 18 10:36 wiki-kaggle_y_train_2020-05-18-10-06.csv\r\n",
      "-rw-r--r--  1 Daniel  staff    58432 May 18 10:36 wiki-kaggle_y_test_2020-05-18-10-06.csv\r\n",
      "-rw-r--r--  1 Daniel  staff   631177 May 18 10:36 wiki-kaggle_X_train_2020-05-18-10-06.csv\r\n",
      "-rw-r--r--  1 Daniel  staff   158269 May 18 10:36 wiki-kaggle_X_test_2020-05-18-10-06.csv\r\n",
      "-rw-r--r--  1 Daniel  staff    24675 May 18 10:36 genre_list_2020-05-18-10-06.csv\r\n",
      "-rw-r--r--  1 Daniel  staff    10882 May 11 14:42 genre_label_non-lonely_TRAINING_2020-05-11-14-35.csv\r\n",
      "-rw-r--r--  1 Daniel  staff     8632 May 11 14:42 genre_label_lonely_TRAINING_2020-05-11-14-35.csv\r\n",
      "-rw-r--r--  1 Daniel  staff    19511 May 11 14:42 genre_label_counts_TRAINING_2020-05-11-14-35.csv\r\n",
      "-rw-r--r--  1 Daniel  staff    24606 May 11 14:41 genre_list_training_2020-05-11-14-35.csv\r\n",
      "-rw-r--r--  1 Daniel  staff    58432 May 11 14:35 wiki-kaggle_y_test_2020-05-11-14-35.csv\r\n",
      "-rw-r--r--  1 Daniel  staff   156249 May 11 14:35 wiki-kaggle_X_test_2020-05-11-14-35.csv\r\n",
      "-rw-r--r--  1 Daniel  staff   233078 May 11 14:35 wiki-kaggle_y_train_2020-05-11-14-35.csv\r\n",
      "-rw-r--r--  1 Daniel  staff   623021 May 11 14:35 wiki-kaggle_X_train_2020-05-11-14-35.csv\r\n",
      "-rw-r--r--  1 Daniel  staff    24591 May 11 14:34 genre_list_2020-05-11-14-34.csv\r\n",
      "-rw-r--r--  1 Daniel  staff   951681 May 11 14:34 wiki-kaggle_genres_gender_cleaned_2020-05-11-14-34.csv\r\n",
      "-rw-r--r--  1 Daniel  staff    25112 May  7 15:49 genre_list_2020-05-07-15-49.csv\r\n",
      "-rw-r--r--  1 Daniel  staff  1501714 May  7 15:49 wiki-kaggle_genres_gender_cleaned_2020-05-07-15-49.csv\r\n",
      "-rw-r--r--  1 Daniel  staff    25150 May  7 15:47 genre_list_2020-05-07-15-47.csv\r\n",
      "-rw-r--r--  1 Daniel  staff  1501728 May  7 15:47 wiki-kaggle_genres_gender_cleaned_2020-05-07-15-47.csv\r\n",
      "-rw-r--r--  1 Daniel  staff    25179 May  7 15:45 genre_list_2020-05-07-15-45.csv\r\n",
      "-rw-r--r--  1 Daniel  staff  1501719 May  7 15:45 wiki-kaggle_genres_gender_cleaned_2020-05-07-15-45.csv\r\n",
      "-rw-r--r--  1 Daniel  staff    25197 May  7 15:32 genre_list_2020-05-07-15-32.csv\r\n",
      "-rw-r--r--  1 Daniel  staff  1501722 May  7 15:32 wiki-kaggle_genres_gender_cleaned_2020-05-07-15-32.csv\r\n",
      "-rw-r--r--  1 Daniel  staff    25286 May  7 15:22 genre_list_2020-05-07-15-22.csv\r\n",
      "-rw-r--r--  1 Daniel  staff  1501698 May  7 15:22 wiki-kaggle_genres_gender_cleaned_2020-05-07-15-22.csv\r\n",
      "-rw-r--r--  1 Daniel  staff    25349 May  7 15:20 genre_list_2020-05-07-15-20.csv\r\n",
      "-rw-r--r--  1 Daniel  staff  1501692 May  7 15:20 wiki-kaggle_genres_gender_cleaned_2020-05-07-15-20.csv\r\n",
      "-rw-r--r--  1 Daniel  staff    25380 May  7 15:16 genre_list_2020-05-07-15-16.csv\r\n",
      "-rw-r--r--  1 Daniel  staff  1501704 May  7 15:16 wiki-kaggle_genres_gender_cleaned_2020-05-07-15-16.csv\r\n",
      "-rw-r--r--  1 Daniel  staff     8756 May  6 07:44 genre_list_issues.csv\r\n",
      "-rw-r--r--  1 Daniel  staff    28796 May  5 14:03 genre_list_2020-05-05-14-03.csv\r\n",
      "-rw-r--r--  1 Daniel  staff   954255 May  5 14:03 wiki-kaggle_genres_gender_cleaned_2020-05-05-14-03.csv\r\n",
      "-rw-r--r--  1 Daniel  staff    28584 May  4 13:32 genre_list_training_2020-05-04-09-42.csv\r\n",
      "-rw-r--r--  1 Daniel  staff    12435 May  4 09:48 genre_label_non-lonely_2020-05-04-09-42.csv\r\n",
      "-rw-r--r--  1 Daniel  staff    12624 May  4 09:47 genre_label_lonely_2020-05-04-09-42.csv\r\n",
      "-rw-r--r--  1 Daniel  staff    25056 May  4 09:47 genre_label_counts_2020-05-04-09-42.csv\r\n",
      "-rw-r--r--  1 Daniel  staff    58329 May  4 09:42 wiki-kaggle_y_test_2020-05-04-09-42.csv\r\n",
      "-rw-r--r--  1 Daniel  staff   158698 May  4 09:42 wiki-kaggle_X_test_2020-05-04-09-42.csv\r\n",
      "-rw-r--r--  1 Daniel  staff   233198 May  4 09:42 wiki-kaggle_y_train_2020-05-04-09-42.csv\r\n",
      "-rw-r--r--  1 Daniel  staff   629408 May  4 09:42 wiki-kaggle_X_train_2020-05-04-09-42.csv\r\n",
      "-rw-r--r--  1 Daniel  staff    31816 May  4 09:39 genre_list_2020-05-04-09-39.csv\r\n",
      "-rw-r--r--  1 Daniel  staff   960526 May  4 09:39 wiki-kaggle_genres_gender_cleaned_2020-05-04-09-39.csv\r\n",
      "-rw-r--r--  1 Daniel  staff     1508 May  1 09:19 dan_sample_to_verify_2020-05-01-09-16.csv\r\n",
      "-rw-r--r--  1 Daniel  staff     1470 May  1 09:19 tom_sample_to_verify_2020-05-01-09-16.csv\r\n",
      "-rw-r--r--  1 Daniel  staff   963617 May  1 09:16 wiki-kaggle_genres_gender_cleaned_2020-05-01-09-16.csv\r\n"
     ]
    }
   ],
   "source": [
    "%ls -lt ../../data/genre_lists/data_ready_for_model/"
   ]
  },
  {
   "cell_type": "code",
   "execution_count": 3,
   "metadata": {
    "scrolled": true
   },
   "outputs": [
    {
     "data": {
      "text/plain": [
       "'2020-05-18-10-06'"
      ]
     },
     "execution_count": 3,
     "metadata": {},
     "output_type": "execute_result"
    }
   ],
   "source": [
    "%store -r now\n",
    "now\n",
    "#now = '2020-05-11-14-35'"
   ]
  },
  {
   "cell_type": "code",
   "execution_count": 4,
   "metadata": {
    "scrolled": true
   },
   "outputs": [],
   "source": [
    "X_train = pd.read_csv('/Users/Daniel/Code/Genre/data/genre_lists/data_ready_for_model/wiki-kaggle_X_train_{}.csv'.format(now), index_col = ['artist'])\n",
    "y_train = pd.read_csv('/Users/Daniel/Code/Genre/data/genre_lists/data_ready_for_model/wiki-kaggle_y_train_{}.csv'.format(now), index_col = ['artist'])"
   ]
  },
  {
   "cell_type": "code",
   "execution_count": 5,
   "metadata": {
    "scrolled": true
   },
   "outputs": [
    {
     "data": {
      "text/html": [
       "<div>\n",
       "<style scoped>\n",
       "    .dataframe tbody tr th:only-of-type {\n",
       "        vertical-align: middle;\n",
       "    }\n",
       "\n",
       "    .dataframe tbody tr th {\n",
       "        vertical-align: top;\n",
       "    }\n",
       "\n",
       "    .dataframe thead th {\n",
       "        text-align: right;\n",
       "    }\n",
       "</style>\n",
       "<table border=\"1\" class=\"dataframe\">\n",
       "  <thead>\n",
       "    <tr style=\"text-align: right;\">\n",
       "      <th></th>\n",
       "      <th>genrelist</th>\n",
       "      <th>genrelist_length</th>\n",
       "    </tr>\n",
       "    <tr>\n",
       "      <th>artist</th>\n",
       "      <th></th>\n",
       "      <th></th>\n",
       "    </tr>\n",
       "  </thead>\n",
       "  <tbody>\n",
       "    <tr>\n",
       "      <th>Pablo_Holman</th>\n",
       "      <td>['pop', 'rock', 'emo_pop']</td>\n",
       "      <td>3</td>\n",
       "    </tr>\n",
       "    <tr>\n",
       "      <th>Bobby_Edwards</th>\n",
       "      <td>['country']</td>\n",
       "      <td>1</td>\n",
       "    </tr>\n",
       "    <tr>\n",
       "      <th>La_Palabra</th>\n",
       "      <td>['afro_cuban_jazz', 'son_montuno', 'guaracha',...</td>\n",
       "      <td>4</td>\n",
       "    </tr>\n",
       "    <tr>\n",
       "      <th>Sherrick</th>\n",
       "      <td>['r_and_b', 'soul']</td>\n",
       "      <td>2</td>\n",
       "    </tr>\n",
       "    <tr>\n",
       "      <th>Allen_Collins</th>\n",
       "      <td>['southern_rock']</td>\n",
       "      <td>1</td>\n",
       "    </tr>\n",
       "  </tbody>\n",
       "</table>\n",
       "</div>"
      ],
      "text/plain": [
       "                                                       genrelist  \\\n",
       "artist                                                             \n",
       "Pablo_Holman                          ['pop', 'rock', 'emo_pop']   \n",
       "Bobby_Edwards                                        ['country']   \n",
       "La_Palabra     ['afro_cuban_jazz', 'son_montuno', 'guaracha',...   \n",
       "Sherrick                                     ['r_and_b', 'soul']   \n",
       "Allen_Collins                                  ['southern_rock']   \n",
       "\n",
       "               genrelist_length  \n",
       "artist                           \n",
       "Pablo_Holman                  3  \n",
       "Bobby_Edwards                 1  \n",
       "La_Palabra                    4  \n",
       "Sherrick                      2  \n",
       "Allen_Collins                 1  "
      ]
     },
     "execution_count": 5,
     "metadata": {},
     "output_type": "execute_result"
    }
   ],
   "source": [
    "X_train.head()"
   ]
  },
  {
   "cell_type": "code",
   "execution_count": 6,
   "metadata": {
    "scrolled": true
   },
   "outputs": [
    {
     "data": {
      "text/plain": [
       "((12376, 2), (12376, 1))"
      ]
     },
     "execution_count": 6,
     "metadata": {},
     "output_type": "execute_result"
    }
   ],
   "source": [
    "X_train.shape, y_train.shape"
   ]
  },
  {
   "cell_type": "code",
   "execution_count": 7,
   "metadata": {
    "scrolled": true
   },
   "outputs": [],
   "source": [
    "data = y_train.join( [X_train], how = 'outer')"
   ]
  },
  {
   "cell_type": "code",
   "execution_count": 8,
   "metadata": {
    "scrolled": true
   },
   "outputs": [
    {
     "data": {
      "text/html": [
       "<div>\n",
       "<style scoped>\n",
       "    .dataframe tbody tr th:only-of-type {\n",
       "        vertical-align: middle;\n",
       "    }\n",
       "\n",
       "    .dataframe tbody tr th {\n",
       "        vertical-align: top;\n",
       "    }\n",
       "\n",
       "    .dataframe thead th {\n",
       "        text-align: right;\n",
       "    }\n",
       "</style>\n",
       "<table border=\"1\" class=\"dataframe\">\n",
       "  <thead>\n",
       "    <tr style=\"text-align: right;\">\n",
       "      <th></th>\n",
       "      <th>gender</th>\n",
       "      <th>genrelist</th>\n",
       "      <th>genrelist_length</th>\n",
       "    </tr>\n",
       "    <tr>\n",
       "      <th>artist</th>\n",
       "      <th></th>\n",
       "      <th></th>\n",
       "      <th></th>\n",
       "    </tr>\n",
       "  </thead>\n",
       "  <tbody>\n",
       "    <tr>\n",
       "      <th>Pablo_Holman</th>\n",
       "      <td>male</td>\n",
       "      <td>['pop', 'rock', 'emo_pop']</td>\n",
       "      <td>3</td>\n",
       "    </tr>\n",
       "    <tr>\n",
       "      <th>Bobby_Edwards</th>\n",
       "      <td>male</td>\n",
       "      <td>['country']</td>\n",
       "      <td>1</td>\n",
       "    </tr>\n",
       "    <tr>\n",
       "      <th>La_Palabra</th>\n",
       "      <td>male</td>\n",
       "      <td>['afro_cuban_jazz', 'son_montuno', 'guaracha',...</td>\n",
       "      <td>4</td>\n",
       "    </tr>\n",
       "    <tr>\n",
       "      <th>Sherrick</th>\n",
       "      <td>male</td>\n",
       "      <td>['r_and_b', 'soul']</td>\n",
       "      <td>2</td>\n",
       "    </tr>\n",
       "    <tr>\n",
       "      <th>Allen_Collins</th>\n",
       "      <td>male</td>\n",
       "      <td>['southern_rock']</td>\n",
       "      <td>1</td>\n",
       "    </tr>\n",
       "  </tbody>\n",
       "</table>\n",
       "</div>"
      ],
      "text/plain": [
       "              gender                                          genrelist  \\\n",
       "artist                                                                    \n",
       "Pablo_Holman    male                         ['pop', 'rock', 'emo_pop']   \n",
       "Bobby_Edwards   male                                        ['country']   \n",
       "La_Palabra      male  ['afro_cuban_jazz', 'son_montuno', 'guaracha',...   \n",
       "Sherrick        male                                ['r_and_b', 'soul']   \n",
       "Allen_Collins   male                                  ['southern_rock']   \n",
       "\n",
       "               genrelist_length  \n",
       "artist                           \n",
       "Pablo_Holman                  3  \n",
       "Bobby_Edwards                 1  \n",
       "La_Palabra                    4  \n",
       "Sherrick                      2  \n",
       "Allen_Collins                 1  "
      ]
     },
     "execution_count": 8,
     "metadata": {},
     "output_type": "execute_result"
    }
   ],
   "source": [
    "data.head()"
   ]
  },
  {
   "cell_type": "code",
   "execution_count": 9,
   "metadata": {
    "scrolled": true
   },
   "outputs": [
    {
     "data": {
      "text/plain": [
       "((12376, 3),\n",
       " gender              0\n",
       " genrelist           0\n",
       " genrelist_length    0\n",
       " dtype: int64)"
      ]
     },
     "execution_count": 9,
     "metadata": {},
     "output_type": "execute_result"
    }
   ],
   "source": [
    "data.shape, data.isnull().sum()"
   ]
  },
  {
   "cell_type": "markdown",
   "metadata": {},
   "source": [
    "### Genre Labels\n",
    "\n",
    "Each value of the genre column is a _string_ of comma separated genre labels. We want to convert it to a _list_ of strings."
   ]
  },
  {
   "cell_type": "code",
   "execution_count": 10,
   "metadata": {
    "scrolled": true
   },
   "outputs": [],
   "source": [
    "\"\"\"This function takes in a string of the form\n",
    "appearing in the genrelist of the dataframe.\n",
    "It strips the square brackets and extra quotes and\n",
    "returns a list of strings where each string is a genre label.\"\"\"\n",
    "def genrelist(string):\n",
    "    string = string.strip(\"[\").strip(\"]\").replace(\"'\",\"\")\n",
    "    L = [s for s in string.split(',')]\n",
    "    L_new = []\n",
    "    for x in L:\n",
    "        L_new.append(x.replace(\" \",\"_\").lstrip(\"_\").rstrip(\"_\"))\n",
    "    while (str(\"\") in L_new):\n",
    "        L_new.remove(\"\")\n",
    "    return L_new"
   ]
  },
  {
   "cell_type": "markdown",
   "metadata": {},
   "source": [
    "Now we apply it to the whole column and put the lists in a new column:"
   ]
  },
  {
   "cell_type": "code",
   "execution_count": 11,
   "metadata": {
    "scrolled": true
   },
   "outputs": [],
   "source": [
    "data['genrelist']= data['genrelist'].apply(genrelist)"
   ]
  },
  {
   "cell_type": "code",
   "execution_count": 12,
   "metadata": {
    "scrolled": true
   },
   "outputs": [
    {
     "data": {
      "text/html": [
       "<div>\n",
       "<style scoped>\n",
       "    .dataframe tbody tr th:only-of-type {\n",
       "        vertical-align: middle;\n",
       "    }\n",
       "\n",
       "    .dataframe tbody tr th {\n",
       "        vertical-align: top;\n",
       "    }\n",
       "\n",
       "    .dataframe thead th {\n",
       "        text-align: right;\n",
       "    }\n",
       "</style>\n",
       "<table border=\"1\" class=\"dataframe\">\n",
       "  <thead>\n",
       "    <tr style=\"text-align: right;\">\n",
       "      <th></th>\n",
       "      <th>gender</th>\n",
       "      <th>genrelist</th>\n",
       "      <th>genrelist_length</th>\n",
       "    </tr>\n",
       "    <tr>\n",
       "      <th>artist</th>\n",
       "      <th></th>\n",
       "      <th></th>\n",
       "      <th></th>\n",
       "    </tr>\n",
       "  </thead>\n",
       "  <tbody>\n",
       "    <tr>\n",
       "      <th>Pablo_Holman</th>\n",
       "      <td>male</td>\n",
       "      <td>[pop, rock, emo_pop]</td>\n",
       "      <td>3</td>\n",
       "    </tr>\n",
       "    <tr>\n",
       "      <th>Bobby_Edwards</th>\n",
       "      <td>male</td>\n",
       "      <td>[country]</td>\n",
       "      <td>1</td>\n",
       "    </tr>\n",
       "    <tr>\n",
       "      <th>La_Palabra</th>\n",
       "      <td>male</td>\n",
       "      <td>[afro_cuban_jazz, son_montuno, guaracha, salsa...</td>\n",
       "      <td>4</td>\n",
       "    </tr>\n",
       "    <tr>\n",
       "      <th>Sherrick</th>\n",
       "      <td>male</td>\n",
       "      <td>[r_and_b, soul]</td>\n",
       "      <td>2</td>\n",
       "    </tr>\n",
       "    <tr>\n",
       "      <th>Allen_Collins</th>\n",
       "      <td>male</td>\n",
       "      <td>[southern_rock]</td>\n",
       "      <td>1</td>\n",
       "    </tr>\n",
       "  </tbody>\n",
       "</table>\n",
       "</div>"
      ],
      "text/plain": [
       "              gender                                          genrelist  \\\n",
       "artist                                                                    \n",
       "Pablo_Holman    male                               [pop, rock, emo_pop]   \n",
       "Bobby_Edwards   male                                          [country]   \n",
       "La_Palabra      male  [afro_cuban_jazz, son_montuno, guaracha, salsa...   \n",
       "Sherrick        male                                    [r_and_b, soul]   \n",
       "Allen_Collins   male                                    [southern_rock]   \n",
       "\n",
       "               genrelist_length  \n",
       "artist                           \n",
       "Pablo_Holman                  3  \n",
       "Bobby_Edwards                 1  \n",
       "La_Palabra                    4  \n",
       "Sherrick                      2  \n",
       "Allen_Collins                 1  "
      ]
     },
     "execution_count": 12,
     "metadata": {},
     "output_type": "execute_result"
    }
   ],
   "source": [
    "data.head()"
   ]
  },
  {
   "cell_type": "markdown",
   "metadata": {},
   "source": [
    "### Extract unique genre labels: \n",
    "\n",
    "### This is for the training set:"
   ]
  },
  {
   "cell_type": "code",
   "execution_count": 13,
   "metadata": {
    "scrolled": true
   },
   "outputs": [],
   "source": [
    "# genre_list = data.genrelist.values.tolist()\n",
    "# genre_list = [x for y in genre_list for x in y]\n",
    "# genre_list = list(set(genre_list))"
   ]
  },
  {
   "cell_type": "markdown",
   "metadata": {},
   "source": [
    "### Import the labels from the whole data set:"
   ]
  },
  {
   "cell_type": "code",
   "execution_count": 14,
   "metadata": {},
   "outputs": [],
   "source": [
    "then = '2020-05-11-14-34'"
   ]
  },
  {
   "cell_type": "code",
   "execution_count": 15,
   "metadata": {},
   "outputs": [],
   "source": [
    "genrelist_df = pd.read_csv('/Users/Daniel/Code/Genre/data/genre_lists/data_ready_for_model/genre_list_{}.csv'.format(now), index_col = 'Unnamed: 0')"
   ]
  },
  {
   "cell_type": "code",
   "execution_count": 16,
   "metadata": {
    "scrolled": true
   },
   "outputs": [],
   "source": [
    "data_male = data[data.gender == 'male']\n",
    "data_female = data[data.gender == 'female']"
   ]
  },
  {
   "cell_type": "code",
   "execution_count": 17,
   "metadata": {
    "scrolled": true
   },
   "outputs": [
    {
     "name": "stdout",
     "output_type": "stream",
     "text": [
      "12376 total artists\n",
      "There are 1494 unique genre labels.\n",
      "3847 female artists, or 31%\n",
      "8529 male artists, or 69%\n"
     ]
    }
   ],
   "source": [
    "tot = data.shape[0]\n",
    "mal = data_male.shape[0]\n",
    "fem = data_female.shape[0]\n",
    "print('{} total artists'.format(tot))\n",
    "print('There are {} unique genre labels.'.format(genrelist_df.shape[0]))\n",
    "print('{} female artists, or {:0.0f}%'.format(fem, 100*fem/(fem+mal)))\n",
    "print('{} male artists, or {:0.0f}%'.format(mal, 100*mal/(fem+mal)))"
   ]
  },
  {
   "cell_type": "markdown",
   "metadata": {},
   "source": [
    "### This function creates a DF with the frequencies of the lengths of lists by gender for a df of the type of \"data\" above:"
   ]
  },
  {
   "cell_type": "code",
   "execution_count": 64,
   "metadata": {
    "scrolled": true
   },
   "outputs": [],
   "source": [
    "def create_length_counts_by_gender(df):\n",
    "    \"\"\"df is \"\"\"\n",
    "    \n",
    "    #length counts total\n",
    "    dft = df.groupby(['genrelist_length']).count()\n",
    "    dft.drop(['gender'], axis = 1, inplace = True)\n",
    "    dft.columns = ['artist_count']\n",
    "    \n",
    "    # length counts by gender\n",
    "    df = df.groupby(['genrelist_length','gender']).count()\n",
    "    df.columns = ['artist_count']\n",
    "\n",
    "    df.reset_index(inplace = True)\n",
    "    df.set_index(['genrelist_length'], inplace = True)\n",
    "    df = df.pivot(columns = 'gender')\n",
    "    \n",
    "    #combine total count with gender counts\n",
    "    dft.columns = pd.MultiIndex.from_tuples([('artist_count','total')])\n",
    "    df = dft.join(df, how = 'outer')\n",
    "    \n",
    "    # bin 12 count and above\n",
    "    df.at['12+'] = df.iloc[11:,:].sum()\n",
    "    \n",
    "    # calculated columns: relative and ratios\n",
    "    df[('artist_count','female_relative')] = \\\n",
    "                                                round(df[('artist_count', 'female')]/fem,3)\n",
    "    df[('artist_count','male_relative')] = \\\n",
    "                                                round(df[('artist_count', 'male')]/mal,3)\n",
    "\n",
    "    df[('artist_count','male_to_female_relative_ratio')] = \\\n",
    "                 round(df[('artist_count', 'male_relative')]/ \\\n",
    "                 df[('artist_count', 'female_relative')],3)\n",
    "\n",
    "    df.fillna(value = {('artist_count', 'female'): 0}, inplace = True)\n",
    "    \n",
    "    \n",
    "    \n",
    "    return df"
   ]
  },
  {
   "cell_type": "code",
   "execution_count": 65,
   "metadata": {
    "scrolled": true
   },
   "outputs": [],
   "source": [
    "lcbg = create_length_counts_by_gender(data)"
   ]
  },
  {
   "cell_type": "code",
   "execution_count": 66,
   "metadata": {},
   "outputs": [
    {
     "data": {
      "text/html": [
       "<div>\n",
       "<style scoped>\n",
       "    .dataframe tbody tr th:only-of-type {\n",
       "        vertical-align: middle;\n",
       "    }\n",
       "\n",
       "    .dataframe tbody tr th {\n",
       "        vertical-align: top;\n",
       "    }\n",
       "\n",
       "    .dataframe thead tr th {\n",
       "        text-align: left;\n",
       "    }\n",
       "\n",
       "    .dataframe thead tr:last-of-type th {\n",
       "        text-align: right;\n",
       "    }\n",
       "</style>\n",
       "<table border=\"1\" class=\"dataframe\">\n",
       "  <thead>\n",
       "    <tr>\n",
       "      <th></th>\n",
       "      <th colspan=\"6\" halign=\"left\">artist_count</th>\n",
       "    </tr>\n",
       "    <tr>\n",
       "      <th></th>\n",
       "      <th>total</th>\n",
       "      <th>female</th>\n",
       "      <th>male</th>\n",
       "      <th>female_relative</th>\n",
       "      <th>male_relative</th>\n",
       "      <th>male_to_female_relative_ratio</th>\n",
       "    </tr>\n",
       "    <tr>\n",
       "      <th>genrelist_length</th>\n",
       "      <th></th>\n",
       "      <th></th>\n",
       "      <th></th>\n",
       "      <th></th>\n",
       "      <th></th>\n",
       "      <th></th>\n",
       "    </tr>\n",
       "  </thead>\n",
       "  <tbody>\n",
       "    <tr>\n",
       "      <th>1</th>\n",
       "      <td>3561.0</td>\n",
       "      <td>1031.0</td>\n",
       "      <td>2530.0</td>\n",
       "      <td>0.268</td>\n",
       "      <td>0.297</td>\n",
       "      <td>1.108</td>\n",
       "    </tr>\n",
       "    <tr>\n",
       "      <th>2</th>\n",
       "      <td>3067.0</td>\n",
       "      <td>1030.0</td>\n",
       "      <td>2037.0</td>\n",
       "      <td>0.268</td>\n",
       "      <td>0.239</td>\n",
       "      <td>0.892</td>\n",
       "    </tr>\n",
       "    <tr>\n",
       "      <th>3</th>\n",
       "      <td>2488.0</td>\n",
       "      <td>854.0</td>\n",
       "      <td>1634.0</td>\n",
       "      <td>0.222</td>\n",
       "      <td>0.192</td>\n",
       "      <td>0.865</td>\n",
       "    </tr>\n",
       "    <tr>\n",
       "      <th>4</th>\n",
       "      <td>1594.0</td>\n",
       "      <td>502.0</td>\n",
       "      <td>1092.0</td>\n",
       "      <td>0.130</td>\n",
       "      <td>0.128</td>\n",
       "      <td>0.985</td>\n",
       "    </tr>\n",
       "    <tr>\n",
       "      <th>5</th>\n",
       "      <td>850.0</td>\n",
       "      <td>243.0</td>\n",
       "      <td>607.0</td>\n",
       "      <td>0.063</td>\n",
       "      <td>0.071</td>\n",
       "      <td>1.127</td>\n",
       "    </tr>\n",
       "    <tr>\n",
       "      <th>6</th>\n",
       "      <td>462.0</td>\n",
       "      <td>127.0</td>\n",
       "      <td>335.0</td>\n",
       "      <td>0.033</td>\n",
       "      <td>0.039</td>\n",
       "      <td>1.182</td>\n",
       "    </tr>\n",
       "    <tr>\n",
       "      <th>7</th>\n",
       "      <td>181.0</td>\n",
       "      <td>27.0</td>\n",
       "      <td>154.0</td>\n",
       "      <td>0.007</td>\n",
       "      <td>0.018</td>\n",
       "      <td>2.571</td>\n",
       "    </tr>\n",
       "    <tr>\n",
       "      <th>8</th>\n",
       "      <td>92.0</td>\n",
       "      <td>15.0</td>\n",
       "      <td>77.0</td>\n",
       "      <td>0.004</td>\n",
       "      <td>0.009</td>\n",
       "      <td>2.250</td>\n",
       "    </tr>\n",
       "    <tr>\n",
       "      <th>9</th>\n",
       "      <td>37.0</td>\n",
       "      <td>9.0</td>\n",
       "      <td>28.0</td>\n",
       "      <td>0.002</td>\n",
       "      <td>0.003</td>\n",
       "      <td>1.500</td>\n",
       "    </tr>\n",
       "    <tr>\n",
       "      <th>10</th>\n",
       "      <td>19.0</td>\n",
       "      <td>3.0</td>\n",
       "      <td>16.0</td>\n",
       "      <td>0.001</td>\n",
       "      <td>0.002</td>\n",
       "      <td>2.000</td>\n",
       "    </tr>\n",
       "    <tr>\n",
       "      <th>11</th>\n",
       "      <td>11.0</td>\n",
       "      <td>6.0</td>\n",
       "      <td>5.0</td>\n",
       "      <td>0.002</td>\n",
       "      <td>0.001</td>\n",
       "      <td>0.500</td>\n",
       "    </tr>\n",
       "    <tr>\n",
       "      <th>12</th>\n",
       "      <td>7.0</td>\n",
       "      <td>0.0</td>\n",
       "      <td>7.0</td>\n",
       "      <td>NaN</td>\n",
       "      <td>0.001</td>\n",
       "      <td>NaN</td>\n",
       "    </tr>\n",
       "    <tr>\n",
       "      <th>13</th>\n",
       "      <td>2.0</td>\n",
       "      <td>0.0</td>\n",
       "      <td>2.0</td>\n",
       "      <td>NaN</td>\n",
       "      <td>0.000</td>\n",
       "      <td>NaN</td>\n",
       "    </tr>\n",
       "    <tr>\n",
       "      <th>14</th>\n",
       "      <td>1.0</td>\n",
       "      <td>0.0</td>\n",
       "      <td>1.0</td>\n",
       "      <td>NaN</td>\n",
       "      <td>0.000</td>\n",
       "      <td>NaN</td>\n",
       "    </tr>\n",
       "    <tr>\n",
       "      <th>15</th>\n",
       "      <td>2.0</td>\n",
       "      <td>0.0</td>\n",
       "      <td>2.0</td>\n",
       "      <td>NaN</td>\n",
       "      <td>0.000</td>\n",
       "      <td>NaN</td>\n",
       "    </tr>\n",
       "    <tr>\n",
       "      <th>45</th>\n",
       "      <td>1.0</td>\n",
       "      <td>0.0</td>\n",
       "      <td>1.0</td>\n",
       "      <td>NaN</td>\n",
       "      <td>0.000</td>\n",
       "      <td>NaN</td>\n",
       "    </tr>\n",
       "    <tr>\n",
       "      <th>73</th>\n",
       "      <td>1.0</td>\n",
       "      <td>0.0</td>\n",
       "      <td>1.0</td>\n",
       "      <td>NaN</td>\n",
       "      <td>0.000</td>\n",
       "      <td>NaN</td>\n",
       "    </tr>\n",
       "    <tr>\n",
       "      <th>12+</th>\n",
       "      <td>14.0</td>\n",
       "      <td>0.0</td>\n",
       "      <td>14.0</td>\n",
       "      <td>0.000</td>\n",
       "      <td>0.002</td>\n",
       "      <td>inf</td>\n",
       "    </tr>\n",
       "  </tbody>\n",
       "</table>\n",
       "</div>"
      ],
      "text/plain": [
       "                 artist_count                                                \\\n",
       "                        total  female    male female_relative male_relative   \n",
       "genrelist_length                                                              \n",
       "1                      3561.0  1031.0  2530.0           0.268         0.297   \n",
       "2                      3067.0  1030.0  2037.0           0.268         0.239   \n",
       "3                      2488.0   854.0  1634.0           0.222         0.192   \n",
       "4                      1594.0   502.0  1092.0           0.130         0.128   \n",
       "5                       850.0   243.0   607.0           0.063         0.071   \n",
       "6                       462.0   127.0   335.0           0.033         0.039   \n",
       "7                       181.0    27.0   154.0           0.007         0.018   \n",
       "8                        92.0    15.0    77.0           0.004         0.009   \n",
       "9                        37.0     9.0    28.0           0.002         0.003   \n",
       "10                       19.0     3.0    16.0           0.001         0.002   \n",
       "11                       11.0     6.0     5.0           0.002         0.001   \n",
       "12                        7.0     0.0     7.0             NaN         0.001   \n",
       "13                        2.0     0.0     2.0             NaN         0.000   \n",
       "14                        1.0     0.0     1.0             NaN         0.000   \n",
       "15                        2.0     0.0     2.0             NaN         0.000   \n",
       "45                        1.0     0.0     1.0             NaN         0.000   \n",
       "73                        1.0     0.0     1.0             NaN         0.000   \n",
       "12+                      14.0     0.0    14.0           0.000         0.002   \n",
       "\n",
       "                                                \n",
       "                 male_to_female_relative_ratio  \n",
       "genrelist_length                                \n",
       "1                                        1.108  \n",
       "2                                        0.892  \n",
       "3                                        0.865  \n",
       "4                                        0.985  \n",
       "5                                        1.127  \n",
       "6                                        1.182  \n",
       "7                                        2.571  \n",
       "8                                        2.250  \n",
       "9                                        1.500  \n",
       "10                                       2.000  \n",
       "11                                       0.500  \n",
       "12                                         NaN  \n",
       "13                                         NaN  \n",
       "14                                         NaN  \n",
       "15                                         NaN  \n",
       "45                                         NaN  \n",
       "73                                         NaN  \n",
       "12+                                        inf  "
      ]
     },
     "execution_count": 66,
     "metadata": {},
     "output_type": "execute_result"
    }
   ],
   "source": [
    "lcbg"
   ]
  },
  {
   "cell_type": "markdown",
   "metadata": {},
   "source": [
    "Version without hierarchical column names:"
   ]
  },
  {
   "cell_type": "code",
   "execution_count": 82,
   "metadata": {
    "scrolled": true
   },
   "outputs": [],
   "source": [
    "def create_length_counts_by_gender(df):\n",
    "    \"\"\"df is \"\"\"\n",
    "    \n",
    "    #length counts total\n",
    "    dft = df.groupby(['genrelist_length']).count()\n",
    "    dft.drop(['gender'], axis = 1, inplace = True)\n",
    "    dft.columns = ['artist_count']\n",
    "    \n",
    "    # length counts by gender\n",
    "    df = df.groupby(['genrelist_length','gender']).count()\n",
    "    df.columns = ['artist_count']\n",
    "\n",
    "    df.reset_index(inplace = True)\n",
    "    df.set_index(['genrelist_length'], inplace = True)\n",
    "    df = df.pivot(columns = 'gender')\n",
    "    \n",
    "    #flatten index and replace with single strings\n",
    "    df.columns = df.columns.to_flat_index()\n",
    "    df.columns = [name[1] for name in df.columns]\n",
    "    #combine total count with gender counts\n",
    "    dft.columns = ['total']\n",
    "    df = dft.join(df, how = 'outer')\n",
    "    \n",
    "    # bin 12 count and above\n",
    "    df.at['12+'] = df.iloc[11:,:].sum()\n",
    "    \n",
    "    # calculated columns: relative and ratios\n",
    "    df['female_relative'] = \\\n",
    "                                                round(df['female']/fem,3)\n",
    "    df['male_relative'] = \\\n",
    "                                                round(df['male']/mal,3)\n",
    "\n",
    "    df['male_to_female_relative_ratio'] = \\\n",
    "                 round(df['male_relative']/ \\\n",
    "                 df['female_relative'],3)\n",
    "\n",
    "    df.fillna(value = {'female': 0}, inplace = True)\n",
    "    \n",
    "    \n",
    "    \n",
    "    return df"
   ]
  },
  {
   "cell_type": "code",
   "execution_count": 83,
   "metadata": {
    "scrolled": true
   },
   "outputs": [],
   "source": [
    "lcbg = create_length_counts_by_gender(data)"
   ]
  },
  {
   "cell_type": "code",
   "execution_count": 84,
   "metadata": {},
   "outputs": [
    {
     "data": {
      "text/html": [
       "<div>\n",
       "<style scoped>\n",
       "    .dataframe tbody tr th:only-of-type {\n",
       "        vertical-align: middle;\n",
       "    }\n",
       "\n",
       "    .dataframe tbody tr th {\n",
       "        vertical-align: top;\n",
       "    }\n",
       "\n",
       "    .dataframe thead th {\n",
       "        text-align: right;\n",
       "    }\n",
       "</style>\n",
       "<table border=\"1\" class=\"dataframe\">\n",
       "  <thead>\n",
       "    <tr style=\"text-align: right;\">\n",
       "      <th></th>\n",
       "      <th>total</th>\n",
       "      <th>female</th>\n",
       "      <th>male</th>\n",
       "      <th>female_relative</th>\n",
       "      <th>male_relative</th>\n",
       "      <th>male_to_female_relative_ratio</th>\n",
       "    </tr>\n",
       "    <tr>\n",
       "      <th>genrelist_length</th>\n",
       "      <th></th>\n",
       "      <th></th>\n",
       "      <th></th>\n",
       "      <th></th>\n",
       "      <th></th>\n",
       "      <th></th>\n",
       "    </tr>\n",
       "  </thead>\n",
       "  <tbody>\n",
       "    <tr>\n",
       "      <th>1</th>\n",
       "      <td>3561.0</td>\n",
       "      <td>1031.0</td>\n",
       "      <td>2530.0</td>\n",
       "      <td>0.268</td>\n",
       "      <td>0.297</td>\n",
       "      <td>1.108</td>\n",
       "    </tr>\n",
       "    <tr>\n",
       "      <th>2</th>\n",
       "      <td>3067.0</td>\n",
       "      <td>1030.0</td>\n",
       "      <td>2037.0</td>\n",
       "      <td>0.268</td>\n",
       "      <td>0.239</td>\n",
       "      <td>0.892</td>\n",
       "    </tr>\n",
       "    <tr>\n",
       "      <th>3</th>\n",
       "      <td>2488.0</td>\n",
       "      <td>854.0</td>\n",
       "      <td>1634.0</td>\n",
       "      <td>0.222</td>\n",
       "      <td>0.192</td>\n",
       "      <td>0.865</td>\n",
       "    </tr>\n",
       "    <tr>\n",
       "      <th>4</th>\n",
       "      <td>1594.0</td>\n",
       "      <td>502.0</td>\n",
       "      <td>1092.0</td>\n",
       "      <td>0.130</td>\n",
       "      <td>0.128</td>\n",
       "      <td>0.985</td>\n",
       "    </tr>\n",
       "    <tr>\n",
       "      <th>5</th>\n",
       "      <td>850.0</td>\n",
       "      <td>243.0</td>\n",
       "      <td>607.0</td>\n",
       "      <td>0.063</td>\n",
       "      <td>0.071</td>\n",
       "      <td>1.127</td>\n",
       "    </tr>\n",
       "    <tr>\n",
       "      <th>6</th>\n",
       "      <td>462.0</td>\n",
       "      <td>127.0</td>\n",
       "      <td>335.0</td>\n",
       "      <td>0.033</td>\n",
       "      <td>0.039</td>\n",
       "      <td>1.182</td>\n",
       "    </tr>\n",
       "    <tr>\n",
       "      <th>7</th>\n",
       "      <td>181.0</td>\n",
       "      <td>27.0</td>\n",
       "      <td>154.0</td>\n",
       "      <td>0.007</td>\n",
       "      <td>0.018</td>\n",
       "      <td>2.571</td>\n",
       "    </tr>\n",
       "    <tr>\n",
       "      <th>8</th>\n",
       "      <td>92.0</td>\n",
       "      <td>15.0</td>\n",
       "      <td>77.0</td>\n",
       "      <td>0.004</td>\n",
       "      <td>0.009</td>\n",
       "      <td>2.250</td>\n",
       "    </tr>\n",
       "    <tr>\n",
       "      <th>9</th>\n",
       "      <td>37.0</td>\n",
       "      <td>9.0</td>\n",
       "      <td>28.0</td>\n",
       "      <td>0.002</td>\n",
       "      <td>0.003</td>\n",
       "      <td>1.500</td>\n",
       "    </tr>\n",
       "    <tr>\n",
       "      <th>10</th>\n",
       "      <td>19.0</td>\n",
       "      <td>3.0</td>\n",
       "      <td>16.0</td>\n",
       "      <td>0.001</td>\n",
       "      <td>0.002</td>\n",
       "      <td>2.000</td>\n",
       "    </tr>\n",
       "    <tr>\n",
       "      <th>11</th>\n",
       "      <td>11.0</td>\n",
       "      <td>6.0</td>\n",
       "      <td>5.0</td>\n",
       "      <td>0.002</td>\n",
       "      <td>0.001</td>\n",
       "      <td>0.500</td>\n",
       "    </tr>\n",
       "    <tr>\n",
       "      <th>12</th>\n",
       "      <td>7.0</td>\n",
       "      <td>0.0</td>\n",
       "      <td>7.0</td>\n",
       "      <td>NaN</td>\n",
       "      <td>0.001</td>\n",
       "      <td>NaN</td>\n",
       "    </tr>\n",
       "    <tr>\n",
       "      <th>13</th>\n",
       "      <td>2.0</td>\n",
       "      <td>0.0</td>\n",
       "      <td>2.0</td>\n",
       "      <td>NaN</td>\n",
       "      <td>0.000</td>\n",
       "      <td>NaN</td>\n",
       "    </tr>\n",
       "    <tr>\n",
       "      <th>14</th>\n",
       "      <td>1.0</td>\n",
       "      <td>0.0</td>\n",
       "      <td>1.0</td>\n",
       "      <td>NaN</td>\n",
       "      <td>0.000</td>\n",
       "      <td>NaN</td>\n",
       "    </tr>\n",
       "    <tr>\n",
       "      <th>15</th>\n",
       "      <td>2.0</td>\n",
       "      <td>0.0</td>\n",
       "      <td>2.0</td>\n",
       "      <td>NaN</td>\n",
       "      <td>0.000</td>\n",
       "      <td>NaN</td>\n",
       "    </tr>\n",
       "    <tr>\n",
       "      <th>45</th>\n",
       "      <td>1.0</td>\n",
       "      <td>0.0</td>\n",
       "      <td>1.0</td>\n",
       "      <td>NaN</td>\n",
       "      <td>0.000</td>\n",
       "      <td>NaN</td>\n",
       "    </tr>\n",
       "    <tr>\n",
       "      <th>73</th>\n",
       "      <td>1.0</td>\n",
       "      <td>0.0</td>\n",
       "      <td>1.0</td>\n",
       "      <td>NaN</td>\n",
       "      <td>0.000</td>\n",
       "      <td>NaN</td>\n",
       "    </tr>\n",
       "    <tr>\n",
       "      <th>12+</th>\n",
       "      <td>14.0</td>\n",
       "      <td>0.0</td>\n",
       "      <td>14.0</td>\n",
       "      <td>0.000</td>\n",
       "      <td>0.002</td>\n",
       "      <td>inf</td>\n",
       "    </tr>\n",
       "  </tbody>\n",
       "</table>\n",
       "</div>"
      ],
      "text/plain": [
       "                   total  female    male  female_relative  male_relative  \\\n",
       "genrelist_length                                                           \n",
       "1                 3561.0  1031.0  2530.0            0.268          0.297   \n",
       "2                 3067.0  1030.0  2037.0            0.268          0.239   \n",
       "3                 2488.0   854.0  1634.0            0.222          0.192   \n",
       "4                 1594.0   502.0  1092.0            0.130          0.128   \n",
       "5                  850.0   243.0   607.0            0.063          0.071   \n",
       "6                  462.0   127.0   335.0            0.033          0.039   \n",
       "7                  181.0    27.0   154.0            0.007          0.018   \n",
       "8                   92.0    15.0    77.0            0.004          0.009   \n",
       "9                   37.0     9.0    28.0            0.002          0.003   \n",
       "10                  19.0     3.0    16.0            0.001          0.002   \n",
       "11                  11.0     6.0     5.0            0.002          0.001   \n",
       "12                   7.0     0.0     7.0              NaN          0.001   \n",
       "13                   2.0     0.0     2.0              NaN          0.000   \n",
       "14                   1.0     0.0     1.0              NaN          0.000   \n",
       "15                   2.0     0.0     2.0              NaN          0.000   \n",
       "45                   1.0     0.0     1.0              NaN          0.000   \n",
       "73                   1.0     0.0     1.0              NaN          0.000   \n",
       "12+                 14.0     0.0    14.0            0.000          0.002   \n",
       "\n",
       "                  male_to_female_relative_ratio  \n",
       "genrelist_length                                 \n",
       "1                                         1.108  \n",
       "2                                         0.892  \n",
       "3                                         0.865  \n",
       "4                                         0.985  \n",
       "5                                         1.127  \n",
       "6                                         1.182  \n",
       "7                                         2.571  \n",
       "8                                         2.250  \n",
       "9                                         1.500  \n",
       "10                                        2.000  \n",
       "11                                        0.500  \n",
       "12                                          NaN  \n",
       "13                                          NaN  \n",
       "14                                          NaN  \n",
       "15                                          NaN  \n",
       "45                                          NaN  \n",
       "73                                          NaN  \n",
       "12+                                         inf  "
      ]
     },
     "execution_count": 84,
     "metadata": {},
     "output_type": "execute_result"
    }
   ],
   "source": [
    "lcbg"
   ]
  },
  {
   "cell_type": "code",
   "execution_count": 21,
   "metadata": {
    "scrolled": true
   },
   "outputs": [],
   "source": [
    "#list_length_counts_gender.to_html('/Users/Daniel/Code/Genre/visualizations/genrelist_length_likelihoods.html')"
   ]
  },
  {
   "cell_type": "markdown",
   "metadata": {},
   "source": [
    "Estimate using cross validation:"
   ]
  },
  {
   "cell_type": "code",
   "execution_count": 31,
   "metadata": {},
   "outputs": [
    {
     "data": {
      "text/plain": [
       "array([3, 1, 4, ..., 2, 1, 4])"
      ]
     },
     "execution_count": 31,
     "metadata": {},
     "output_type": "execute_result"
    }
   ],
   "source": [
    "data.genrelist_length.values"
   ]
  },
  {
   "cell_type": "code",
   "execution_count": 57,
   "metadata": {},
   "outputs": [],
   "source": [
    "# data_copy = data.copy(deep = True)\n",
    "# y = data_copy.pop('gender').values\n",
    "# X = data.values\n",
    "\n",
    "ratios = pd.DataFrame({('artist_count','remove'):lcbg[('artist_count', 'male_to_female_relative_ratio')]}, index = lcbg.index)\n",
    "\n",
    "kf = KFold(n_splits = 2, shuffle = True, random_state = seed)\n",
    "\n",
    "for train, test in kf.split(data.genrelist_length.values): #use any column to define the train, test index sets\n",
    "    data_train = data.iloc[train]\n",
    "    data_test = data.iloc[test]\n",
    "    #print(data_train.iloc[:4])\n",
    "    length_counts = create_length_counts_by_gender(data_train)\n",
    "    ratios.join(length_counts[('artist_count', 'male_to_female_relative_ratio')], how = 'outer')\n",
    "    ratios.columns"
   ]
  },
  {
   "cell_type": "code",
   "execution_count": 62,
   "metadata": {},
   "outputs": [],
   "source": [
    "ratios.columns = [('artist_count', 'move')]"
   ]
  },
  {
   "cell_type": "code",
   "execution_count": 63,
   "metadata": {},
   "outputs": [
    {
     "data": {
      "text/html": [
       "<div>\n",
       "<style scoped>\n",
       "    .dataframe tbody tr th:only-of-type {\n",
       "        vertical-align: middle;\n",
       "    }\n",
       "\n",
       "    .dataframe tbody tr th {\n",
       "        vertical-align: top;\n",
       "    }\n",
       "\n",
       "    .dataframe thead th {\n",
       "        text-align: right;\n",
       "    }\n",
       "</style>\n",
       "<table border=\"1\" class=\"dataframe\">\n",
       "  <thead>\n",
       "    <tr style=\"text-align: right;\">\n",
       "      <th></th>\n",
       "      <th>(artist_count, move)</th>\n",
       "    </tr>\n",
       "    <tr>\n",
       "      <th>genrelist_length</th>\n",
       "      <th></th>\n",
       "    </tr>\n",
       "  </thead>\n",
       "  <tbody>\n",
       "    <tr>\n",
       "      <th>1</th>\n",
       "      <td>1.108</td>\n",
       "    </tr>\n",
       "    <tr>\n",
       "      <th>2</th>\n",
       "      <td>0.892</td>\n",
       "    </tr>\n",
       "    <tr>\n",
       "      <th>3</th>\n",
       "      <td>0.865</td>\n",
       "    </tr>\n",
       "    <tr>\n",
       "      <th>4</th>\n",
       "      <td>0.985</td>\n",
       "    </tr>\n",
       "    <tr>\n",
       "      <th>5</th>\n",
       "      <td>1.127</td>\n",
       "    </tr>\n",
       "    <tr>\n",
       "      <th>6</th>\n",
       "      <td>1.182</td>\n",
       "    </tr>\n",
       "    <tr>\n",
       "      <th>7</th>\n",
       "      <td>2.571</td>\n",
       "    </tr>\n",
       "    <tr>\n",
       "      <th>8</th>\n",
       "      <td>2.250</td>\n",
       "    </tr>\n",
       "    <tr>\n",
       "      <th>9</th>\n",
       "      <td>1.500</td>\n",
       "    </tr>\n",
       "    <tr>\n",
       "      <th>10</th>\n",
       "      <td>2.000</td>\n",
       "    </tr>\n",
       "    <tr>\n",
       "      <th>11</th>\n",
       "      <td>0.500</td>\n",
       "    </tr>\n",
       "    <tr>\n",
       "      <th>12</th>\n",
       "      <td>NaN</td>\n",
       "    </tr>\n",
       "    <tr>\n",
       "      <th>13</th>\n",
       "      <td>NaN</td>\n",
       "    </tr>\n",
       "    <tr>\n",
       "      <th>14</th>\n",
       "      <td>NaN</td>\n",
       "    </tr>\n",
       "    <tr>\n",
       "      <th>15</th>\n",
       "      <td>NaN</td>\n",
       "    </tr>\n",
       "    <tr>\n",
       "      <th>45</th>\n",
       "      <td>NaN</td>\n",
       "    </tr>\n",
       "    <tr>\n",
       "      <th>73</th>\n",
       "      <td>NaN</td>\n",
       "    </tr>\n",
       "    <tr>\n",
       "      <th>12+</th>\n",
       "      <td>inf</td>\n",
       "    </tr>\n",
       "  </tbody>\n",
       "</table>\n",
       "</div>"
      ],
      "text/plain": [
       "                  (artist_count, move)\n",
       "genrelist_length                      \n",
       "1                                1.108\n",
       "2                                0.892\n",
       "3                                0.865\n",
       "4                                0.985\n",
       "5                                1.127\n",
       "6                                1.182\n",
       "7                                2.571\n",
       "8                                2.250\n",
       "9                                1.500\n",
       "10                               2.000\n",
       "11                               0.500\n",
       "12                                 NaN\n",
       "13                                 NaN\n",
       "14                                 NaN\n",
       "15                                 NaN\n",
       "45                                 NaN\n",
       "73                                 NaN\n",
       "12+                                inf"
      ]
     },
     "execution_count": 63,
     "metadata": {},
     "output_type": "execute_result"
    }
   ],
   "source": [
    "ratios"
   ]
  },
  {
   "cell_type": "code",
   "execution_count": null,
   "metadata": {},
   "outputs": [],
   "source": []
  },
  {
   "cell_type": "code",
   "execution_count": null,
   "metadata": {},
   "outputs": [],
   "source": []
  },
  {
   "cell_type": "markdown",
   "metadata": {},
   "source": [
    "A table in plotly:"
   ]
  },
  {
   "cell_type": "code",
   "execution_count": 55,
   "metadata": {},
   "outputs": [],
   "source": [
    "df = list_length_counts_gender"
   ]
  },
  {
   "cell_type": "code",
   "execution_count": 56,
   "metadata": {
    "scrolled": true
   },
   "outputs": [],
   "source": [
    "# fig = go.Figure(data=[go.Table(\n",
    "#     header=dict(values=[list_length_counts_gender.index.name]+list(df.columns),\n",
    "#                 fill_color='paleturquoise',\n",
    "#                 align='left'),\n",
    "#     cells=dict(values=[df.index, \\\n",
    "#                        df[('artist_count','female')], \\\n",
    "#                        df[('artist_count','male')], \\\n",
    "#                        df[('artist_count','female_relative')], \\\n",
    "#                        df[('artist_count','male_relative')], \\\n",
    "#                        df[('artist_count','male_to_female_relative_ratio')]\\\n",
    "#                       ], \\\n",
    "#                fill_color='lavender',\n",
    "#                align='left'))\n",
    "# ])\n",
    "\n",
    "# fig.show()"
   ]
  },
  {
   "cell_type": "code",
   "execution_count": 57,
   "metadata": {
    "scrolled": true
   },
   "outputs": [],
   "source": [
    "#fig.write_image('/Users/Daniel/Code/Genre/visualizations/genrelist_length_likelihoods.pdf')"
   ]
  },
  {
   "cell_type": "markdown",
   "metadata": {},
   "source": [
    "### Now let's count the most common genre labels for male and female... TBD"
   ]
  }
 ],
 "metadata": {
  "kernelspec": {
   "display_name": "Python 3",
   "language": "python",
   "name": "python3"
  }
 },
 "nbformat": 4,
 "nbformat_minor": 4
}
