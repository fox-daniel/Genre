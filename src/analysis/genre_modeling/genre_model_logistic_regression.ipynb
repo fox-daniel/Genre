{
 "cells": [
  {
   "cell_type": "markdown",
   "metadata": {},
   "source": [
    "## Currently switching to using sparse matrix representations of the genres\n",
    "\n",
    "Train a logistic model to classify the gender of an artist based on the list of genre labels. This approach uses sparse matrices to one-hot encode the genre labels of each artist. The features are used with and without normalization; there is no significant difference.\n",
    "\n",
    "- [ ] supervised PCA?\n",
    "- [ ] use dimension reduction through word embeddings - USE Scikit-learn LSA, etc\n",
    "    - [ ] LSI\n",
    "    - [ ] LDA\n",
    "    - [ ] HDP\n",
    "- [ ] introduce length of the genre list as a new feature? or save for NN model"
   ]
  },
  {
   "cell_type": "code",
   "execution_count": 1,
   "metadata": {},
   "outputs": [],
   "source": [
    "import numpy as np\n",
    "import pandas as pd\n",
    "\n",
    "from scipy import sparse\n",
    "\n",
    "from sklearn.linear_model import LogisticRegression\n",
    "from sklearn import preprocessing\n",
    "\n",
    "from sklearn.feature_extraction.text import CountVectorizer\n",
    "\n",
    "from sklearn.model_selection import KFold\n",
    "from sklearn.metrics import confusion_matrix\n",
    "\n",
    "import genre_data_loader, genre_upperbound\n",
    "\n",
    "import matplotlib.pyplot as plt\n",
    "import seaborn as sns; sns.set()\n",
    "\n",
    "import re\n",
    "\n",
    "import os\n",
    "\n",
    "import csv\n",
    "\n",
    "seed = 23"
   ]
  },
  {
   "cell_type": "code",
   "execution_count": 2,
   "metadata": {},
   "outputs": [],
   "source": [
    "%store -r now\n",
    "X_path_train = '/Users/Daniel/Code/Genre/data/genre_lists/data_ready_for_model/wiki-kaggle_X_train_{}.csv'.format(now)\n",
    "y_path_train = '/Users/Daniel/Code/Genre/data/genre_lists/data_ready_for_model/wiki-kaggle_y_train_{}.csv'.format(now)\n",
    "X_path_test = '/Users/Daniel/Code/Genre/data/genre_lists/data_ready_for_model/wiki-kaggle_X_test_{}.csv'.format(now)\n",
    "y_path_test = '/Users/Daniel/Code/Genre/data/genre_lists/data_ready_for_model/wiki-kaggle_y_test_{}.csv'.format(now)"
   ]
  },
  {
   "cell_type": "code",
   "execution_count": 3,
   "metadata": {},
   "outputs": [],
   "source": [
    "genre_data = genre_data_loader.LoadGenreData(now, X_path_train = X_path_train,  y_path_train = y_path_train)"
   ]
  },
  {
   "cell_type": "markdown",
   "metadata": {},
   "source": [
    "Format genre labels as a string"
   ]
  },
  {
   "cell_type": "code",
   "execution_count": 4,
   "metadata": {},
   "outputs": [],
   "source": [
    "data = genre_data.as_strings()"
   ]
  },
  {
   "cell_type": "code",
   "execution_count": 5,
   "metadata": {},
   "outputs": [
    {
     "data": {
      "text/html": [
       "<div>\n",
       "<style scoped>\n",
       "    .dataframe tbody tr th:only-of-type {\n",
       "        vertical-align: middle;\n",
       "    }\n",
       "\n",
       "    .dataframe tbody tr th {\n",
       "        vertical-align: top;\n",
       "    }\n",
       "\n",
       "    .dataframe thead th {\n",
       "        text-align: right;\n",
       "    }\n",
       "</style>\n",
       "<table border=\"1\" class=\"dataframe\">\n",
       "  <thead>\n",
       "    <tr style=\"text-align: right;\">\n",
       "      <th></th>\n",
       "      <th>genrelist_length</th>\n",
       "      <th>gender</th>\n",
       "      <th>genre_string</th>\n",
       "    </tr>\n",
       "    <tr>\n",
       "      <th>artist</th>\n",
       "      <th></th>\n",
       "      <th></th>\n",
       "      <th></th>\n",
       "    </tr>\n",
       "  </thead>\n",
       "  <tbody>\n",
       "    <tr>\n",
       "      <th>Pablo_Holman</th>\n",
       "      <td>3</td>\n",
       "      <td>male</td>\n",
       "      <td>rock emo_pop pop</td>\n",
       "    </tr>\n",
       "    <tr>\n",
       "      <th>Bobby_Edwards</th>\n",
       "      <td>1</td>\n",
       "      <td>male</td>\n",
       "      <td>country</td>\n",
       "    </tr>\n",
       "    <tr>\n",
       "      <th>La_Palabra</th>\n",
       "      <td>4</td>\n",
       "      <td>male</td>\n",
       "      <td>afro_cuban_jazz guaracha son_montuno salsa_rom...</td>\n",
       "    </tr>\n",
       "    <tr>\n",
       "      <th>Sherrick</th>\n",
       "      <td>2</td>\n",
       "      <td>male</td>\n",
       "      <td>r_and_b soul</td>\n",
       "    </tr>\n",
       "    <tr>\n",
       "      <th>Allen_Collins</th>\n",
       "      <td>1</td>\n",
       "      <td>male</td>\n",
       "      <td>southern_rock</td>\n",
       "    </tr>\n",
       "  </tbody>\n",
       "</table>\n",
       "</div>"
      ],
      "text/plain": [
       "               genrelist_length gender  \\\n",
       "artist                                   \n",
       "Pablo_Holman                  3   male   \n",
       "Bobby_Edwards                 1   male   \n",
       "La_Palabra                    4   male   \n",
       "Sherrick                      2   male   \n",
       "Allen_Collins                 1   male   \n",
       "\n",
       "                                                    genre_string  \n",
       "artist                                                            \n",
       "Pablo_Holman                                    rock emo_pop pop  \n",
       "Bobby_Edwards                                            country  \n",
       "La_Palabra     afro_cuban_jazz guaracha son_montuno salsa_rom...  \n",
       "Sherrick                                            r_and_b soul  \n",
       "Allen_Collins                                      southern_rock  "
      ]
     },
     "execution_count": 5,
     "metadata": {},
     "output_type": "execute_result"
    }
   ],
   "source": [
    "data.head()"
   ]
  },
  {
   "cell_type": "code",
   "execution_count": 6,
   "metadata": {},
   "outputs": [],
   "source": [
    "data.reset_index(inplace = True)\n",
    "data.index.name = 'artist_id'"
   ]
  },
  {
   "cell_type": "code",
   "execution_count": 7,
   "metadata": {},
   "outputs": [
    {
     "data": {
      "text/html": [
       "<div>\n",
       "<style scoped>\n",
       "    .dataframe tbody tr th:only-of-type {\n",
       "        vertical-align: middle;\n",
       "    }\n",
       "\n",
       "    .dataframe tbody tr th {\n",
       "        vertical-align: top;\n",
       "    }\n",
       "\n",
       "    .dataframe thead th {\n",
       "        text-align: right;\n",
       "    }\n",
       "</style>\n",
       "<table border=\"1\" class=\"dataframe\">\n",
       "  <thead>\n",
       "    <tr style=\"text-align: right;\">\n",
       "      <th></th>\n",
       "      <th>artist</th>\n",
       "      <th>genrelist_length</th>\n",
       "      <th>gender</th>\n",
       "      <th>genre_string</th>\n",
       "    </tr>\n",
       "    <tr>\n",
       "      <th>artist_id</th>\n",
       "      <th></th>\n",
       "      <th></th>\n",
       "      <th></th>\n",
       "      <th></th>\n",
       "    </tr>\n",
       "  </thead>\n",
       "  <tbody>\n",
       "    <tr>\n",
       "      <th>0</th>\n",
       "      <td>Pablo_Holman</td>\n",
       "      <td>3</td>\n",
       "      <td>male</td>\n",
       "      <td>rock emo_pop pop</td>\n",
       "    </tr>\n",
       "    <tr>\n",
       "      <th>1</th>\n",
       "      <td>Bobby_Edwards</td>\n",
       "      <td>1</td>\n",
       "      <td>male</td>\n",
       "      <td>country</td>\n",
       "    </tr>\n",
       "    <tr>\n",
       "      <th>2</th>\n",
       "      <td>La_Palabra</td>\n",
       "      <td>4</td>\n",
       "      <td>male</td>\n",
       "      <td>afro_cuban_jazz guaracha son_montuno salsa_rom...</td>\n",
       "    </tr>\n",
       "    <tr>\n",
       "      <th>3</th>\n",
       "      <td>Sherrick</td>\n",
       "      <td>2</td>\n",
       "      <td>male</td>\n",
       "      <td>r_and_b soul</td>\n",
       "    </tr>\n",
       "    <tr>\n",
       "      <th>4</th>\n",
       "      <td>Allen_Collins</td>\n",
       "      <td>1</td>\n",
       "      <td>male</td>\n",
       "      <td>southern_rock</td>\n",
       "    </tr>\n",
       "  </tbody>\n",
       "</table>\n",
       "</div>"
      ],
      "text/plain": [
       "                  artist  genrelist_length gender  \\\n",
       "artist_id                                           \n",
       "0           Pablo_Holman                 3   male   \n",
       "1          Bobby_Edwards                 1   male   \n",
       "2             La_Palabra                 4   male   \n",
       "3               Sherrick                 2   male   \n",
       "4          Allen_Collins                 1   male   \n",
       "\n",
       "                                                genre_string  \n",
       "artist_id                                                     \n",
       "0                                           rock emo_pop pop  \n",
       "1                                                    country  \n",
       "2          afro_cuban_jazz guaracha son_montuno salsa_rom...  \n",
       "3                                               r_and_b soul  \n",
       "4                                              southern_rock  "
      ]
     },
     "execution_count": 7,
     "metadata": {},
     "output_type": "execute_result"
    }
   ],
   "source": [
    "data.head()"
   ]
  },
  {
   "cell_type": "markdown",
   "metadata": {},
   "source": [
    "Use data_loader to get full list of genres:"
   ]
  },
  {
   "cell_type": "code",
   "execution_count": 8,
   "metadata": {},
   "outputs": [],
   "source": [
    "# genre_data_full = genre_data_loader.LoadGenreData(now, X_path_train = X_path_train,  y_path_train = y_path_train, \n",
    "#                                              X_path_test = X_path_test,  y_path_test = y_path_test)"
   ]
  },
  {
   "cell_type": "code",
   "execution_count": 9,
   "metadata": {},
   "outputs": [],
   "source": [
    "# list_of_genres = genre_data_full.get_list_of_genres()"
   ]
  },
  {
   "cell_type": "code",
   "execution_count": 10,
   "metadata": {},
   "outputs": [],
   "source": [
    "# genre_list_full_df = pd.DataFrame(list_of_genres)\n",
    "# genre_list_full_df.head()"
   ]
  },
  {
   "cell_type": "markdown",
   "metadata": {},
   "source": [
    "Sparse data structure:"
   ]
  },
  {
   "cell_type": "code",
   "execution_count": 11,
   "metadata": {},
   "outputs": [],
   "source": [
    "X_sparse = genre_data.get_sparse_X_vector()"
   ]
  },
  {
   "cell_type": "code",
   "execution_count": 12,
   "metadata": {},
   "outputs": [
    {
     "data": {
      "text/plain": [
       "<12376x1353 sparse matrix of type '<class 'numpy.int64'>'\n",
       "\twith 33463 stored elements in Compressed Sparse Row format>"
      ]
     },
     "execution_count": 12,
     "metadata": {},
     "output_type": "execute_result"
    }
   ],
   "source": [
    "X_sparse"
   ]
  },
  {
   "cell_type": "code",
   "execution_count": 13,
   "metadata": {},
   "outputs": [
    {
     "data": {
      "text/plain": [
       "33463"
      ]
     },
     "execution_count": 13,
     "metadata": {},
     "output_type": "execute_result"
    }
   ],
   "source": [
    "X_sparse.nnz #number of stored values"
   ]
  },
  {
   "cell_type": "markdown",
   "metadata": {},
   "source": [
    "Encode labels:"
   ]
  },
  {
   "cell_type": "code",
   "execution_count": 14,
   "metadata": {},
   "outputs": [
    {
     "data": {
      "text/plain": [
       "array(['female', 'male'], dtype='<U6')"
      ]
     },
     "execution_count": 14,
     "metadata": {},
     "output_type": "execute_result"
    }
   ],
   "source": [
    "le = preprocessing.LabelEncoder()\n",
    "le.fit(['male', 'female'])\n",
    "le.classes_"
   ]
  },
  {
   "cell_type": "code",
   "execution_count": 15,
   "metadata": {},
   "outputs": [],
   "source": [
    "# le.transform(['female'])"
   ]
  },
  {
   "cell_type": "code",
   "execution_count": 16,
   "metadata": {},
   "outputs": [],
   "source": [
    "# le.inverse_transform([1,0,1])"
   ]
  },
  {
   "cell_type": "code",
   "execution_count": 17,
   "metadata": {},
   "outputs": [],
   "source": [
    "y = le.transform(data.gender.values)"
   ]
  },
  {
   "cell_type": "markdown",
   "metadata": {},
   "source": [
    "### Normalization\n",
    "Convert inputs to a numpy array and then create a scaler class to normalize the feature values that can be applied to training and test data.\n",
    "\n",
    "### Currently not needed; all features are 1/0"
   ]
  },
  {
   "cell_type": "code",
   "execution_count": 18,
   "metadata": {},
   "outputs": [],
   "source": [
    "#scaler = preprocessing.StandardScaler(with_mean = False).fit(X_sparse) # need with_mean = False for sparse data\n",
    "transformer = preprocessing.MaxAbsScaler(copy = False).fit(X_sparse)"
   ]
  },
  {
   "cell_type": "code",
   "execution_count": 19,
   "metadata": {},
   "outputs": [],
   "source": [
    "scale, maxabs = transformer.scale_, transformer.max_abs_"
   ]
  },
  {
   "cell_type": "code",
   "execution_count": 20,
   "metadata": {},
   "outputs": [
    {
     "data": {
      "text/plain": [
       "(0, 1.0, 0, 1.0)"
      ]
     },
     "execution_count": 20,
     "metadata": {},
     "output_type": "execute_result"
    }
   ],
   "source": [
    "np.argmax(scale), np.max(scale), np.argmax(maxabs), np.max(maxabs)"
   ]
  },
  {
   "cell_type": "markdown",
   "metadata": {},
   "source": [
    "Apply the scaler to the training data:"
   ]
  },
  {
   "cell_type": "code",
   "execution_count": 21,
   "metadata": {},
   "outputs": [],
   "source": [
    "X_scaled = transformer.transform(X_sparse)"
   ]
  },
  {
   "cell_type": "code",
   "execution_count": 22,
   "metadata": {},
   "outputs": [
    {
     "data": {
      "text/plain": [
       "(12376, 1353)"
      ]
     },
     "execution_count": 22,
     "metadata": {},
     "output_type": "execute_result"
    }
   ],
   "source": [
    "X_scaled.shape"
   ]
  },
  {
   "cell_type": "markdown",
   "metadata": {},
   "source": [
    "### Create the Model"
   ]
  },
  {
   "cell_type": "markdown",
   "metadata": {},
   "source": [
    "Define the class of models.\n",
    "\n",
    "Needed to increase max_iter for it to converge. A high value of C (>1) helps the score a little bit. Recall, C controls the amount of regularization: low C imples strong regularization, high C implies weak regularization. Using l1_ratio between 0 and 1 gives a combination of l1 and l2; l1_ration = 1 is pure l1."
   ]
  },
  {
   "cell_type": "code",
   "execution_count": 23,
   "metadata": {},
   "outputs": [],
   "source": [
    "model = LogisticRegression(\n",
    "    l1_ratio = .5,\n",
    "    penalty =  'elasticnet', # 'l1',\n",
    "    solver = 'saga', \n",
    "    random_state = 0, \n",
    "    max_iter = 10000, \n",
    "    C = 5 \n",
    "    )"
   ]
  },
  {
   "cell_type": "markdown",
   "metadata": {},
   "source": [
    "Train the model on the training data:"
   ]
  },
  {
   "cell_type": "code",
   "execution_count": 24,
   "metadata": {},
   "outputs": [
    {
     "name": "stdout",
     "output_type": "stream",
     "text": [
      "The accuracy is 0.7711700064641241.\n"
     ]
    }
   ],
   "source": [
    "#model.fit(X_sparse,y)\n",
    "model.fit(X_scaled,y)\n",
    "\n",
    "# Can look at predictions:\n",
    "#model.predict(X_sparse[:3,:])\n",
    "#model.predict(X_scaled[:3,:])\n",
    "\n",
    "#model.score(X_sparse,y)\n",
    "print(f'The accuracy is {model.score(X_scaled,y)}.')"
   ]
  },
  {
   "cell_type": "code",
   "execution_count": 25,
   "metadata": {},
   "outputs": [
    {
     "name": "stdout",
     "output_type": "stream",
     "text": [
      "The percentage of male artists in the training set is 69.0%.\n"
     ]
    }
   ],
   "source": [
    "print('The percentage of male artists in the training set is {}%.'.format(round(100*y.sum()/y.shape[0])))"
   ]
  },
  {
   "cell_type": "markdown",
   "metadata": {},
   "source": [
    "We see that it is a little better than the baseline of .69 obtained by always predicting that the artist is male."
   ]
  },
  {
   "cell_type": "markdown",
   "metadata": {},
   "source": [
    "### Cross validation."
   ]
  },
  {
   "cell_type": "markdown",
   "metadata": {},
   "source": [
    "This function can be run on the normalized and un-normalized data:"
   ]
  },
  {
   "cell_type": "code",
   "execution_count": 32,
   "metadata": {},
   "outputs": [
    {
     "data": {
      "text/html": [
       "<div>\n",
       "<style scoped>\n",
       "    .dataframe tbody tr th:only-of-type {\n",
       "        vertical-align: middle;\n",
       "    }\n",
       "\n",
       "    .dataframe tbody tr th {\n",
       "        vertical-align: top;\n",
       "    }\n",
       "\n",
       "    .dataframe thead th {\n",
       "        text-align: right;\n",
       "    }\n",
       "</style>\n",
       "<table border=\"1\" class=\"dataframe\">\n",
       "  <thead>\n",
       "    <tr style=\"text-align: right;\">\n",
       "      <th></th>\n",
       "      <th>genrelist_length</th>\n",
       "      <th>gender</th>\n",
       "      <th>genre_string</th>\n",
       "      <th>genre_set</th>\n",
       "    </tr>\n",
       "    <tr>\n",
       "      <th>artist</th>\n",
       "      <th></th>\n",
       "      <th></th>\n",
       "      <th></th>\n",
       "      <th></th>\n",
       "    </tr>\n",
       "  </thead>\n",
       "  <tbody>\n",
       "    <tr>\n",
       "      <th>Pablo_Holman</th>\n",
       "      <td>3</td>\n",
       "      <td>male</td>\n",
       "      <td>rock emo_pop pop</td>\n",
       "      <td>{rock, emo_pop, pop}</td>\n",
       "    </tr>\n",
       "    <tr>\n",
       "      <th>Bobby_Edwards</th>\n",
       "      <td>1</td>\n",
       "      <td>male</td>\n",
       "      <td>country</td>\n",
       "      <td>{country}</td>\n",
       "    </tr>\n",
       "    <tr>\n",
       "      <th>La_Palabra</th>\n",
       "      <td>4</td>\n",
       "      <td>male</td>\n",
       "      <td>afro_cuban_jazz guaracha son_montuno salsa_rom...</td>\n",
       "      <td>{afro_cuban_jazz, guaracha, son_montuno, salsa...</td>\n",
       "    </tr>\n",
       "    <tr>\n",
       "      <th>Sherrick</th>\n",
       "      <td>2</td>\n",
       "      <td>male</td>\n",
       "      <td>r_and_b soul</td>\n",
       "      <td>{r_and_b, soul}</td>\n",
       "    </tr>\n",
       "    <tr>\n",
       "      <th>Allen_Collins</th>\n",
       "      <td>1</td>\n",
       "      <td>male</td>\n",
       "      <td>southern_rock</td>\n",
       "      <td>{southern_rock}</td>\n",
       "    </tr>\n",
       "    <tr>\n",
       "      <th>...</th>\n",
       "      <td>...</td>\n",
       "      <td>...</td>\n",
       "      <td>...</td>\n",
       "      <td>...</td>\n",
       "    </tr>\n",
       "    <tr>\n",
       "      <th>Steve_Gaines</th>\n",
       "      <td>2</td>\n",
       "      <td>male</td>\n",
       "      <td>blues southern_rock</td>\n",
       "      <td>{blues, southern_rock}</td>\n",
       "    </tr>\n",
       "    <tr>\n",
       "      <th>Dan_Hoerner</th>\n",
       "      <td>3</td>\n",
       "      <td>male</td>\n",
       "      <td>emo indie_rock alternative_rock</td>\n",
       "      <td>{emo, indie_rock, alternative_rock}</td>\n",
       "    </tr>\n",
       "    <tr>\n",
       "      <th>Detail</th>\n",
       "      <td>2</td>\n",
       "      <td>male</td>\n",
       "      <td>r_and_b hip_hop</td>\n",
       "      <td>{r_and_b, hip_hop}</td>\n",
       "    </tr>\n",
       "    <tr>\n",
       "      <th>Billy_Woods</th>\n",
       "      <td>1</td>\n",
       "      <td>male</td>\n",
       "      <td>hip_hop</td>\n",
       "      <td>{hip_hop}</td>\n",
       "    </tr>\n",
       "    <tr>\n",
       "      <th>Dani_Filth</th>\n",
       "      <td>4</td>\n",
       "      <td>male</td>\n",
       "      <td>gothic_metal symphonic_metal extreme_metal bla...</td>\n",
       "      <td>{gothic_metal, symphonic_metal, extreme_metal,...</td>\n",
       "    </tr>\n",
       "  </tbody>\n",
       "</table>\n",
       "<p>12376 rows × 4 columns</p>\n",
       "</div>"
      ],
      "text/plain": [
       "               genrelist_length gender  \\\n",
       "artist                                   \n",
       "Pablo_Holman                  3   male   \n",
       "Bobby_Edwards                 1   male   \n",
       "La_Palabra                    4   male   \n",
       "Sherrick                      2   male   \n",
       "Allen_Collins                 1   male   \n",
       "...                         ...    ...   \n",
       "Steve_Gaines                  2   male   \n",
       "Dan_Hoerner                   3   male   \n",
       "Detail                        2   male   \n",
       "Billy_Woods                   1   male   \n",
       "Dani_Filth                    4   male   \n",
       "\n",
       "                                                    genre_string  \\\n",
       "artist                                                             \n",
       "Pablo_Holman                                    rock emo_pop pop   \n",
       "Bobby_Edwards                                            country   \n",
       "La_Palabra     afro_cuban_jazz guaracha son_montuno salsa_rom...   \n",
       "Sherrick                                            r_and_b soul   \n",
       "Allen_Collins                                      southern_rock   \n",
       "...                                                          ...   \n",
       "Steve_Gaines                                 blues southern_rock   \n",
       "Dan_Hoerner                      emo indie_rock alternative_rock   \n",
       "Detail                                           r_and_b hip_hop   \n",
       "Billy_Woods                                              hip_hop   \n",
       "Dani_Filth     gothic_metal symphonic_metal extreme_metal bla...   \n",
       "\n",
       "                                                       genre_set  \n",
       "artist                                                            \n",
       "Pablo_Holman                                {rock, emo_pop, pop}  \n",
       "Bobby_Edwards                                          {country}  \n",
       "La_Palabra     {afro_cuban_jazz, guaracha, son_montuno, salsa...  \n",
       "Sherrick                                         {r_and_b, soul}  \n",
       "Allen_Collins                                    {southern_rock}  \n",
       "...                                                          ...  \n",
       "Steve_Gaines                              {blues, southern_rock}  \n",
       "Dan_Hoerner                  {emo, indie_rock, alternative_rock}  \n",
       "Detail                                        {r_and_b, hip_hop}  \n",
       "Billy_Woods                                            {hip_hop}  \n",
       "Dani_Filth     {gothic_metal, symphonic_metal, extreme_metal,...  \n",
       "\n",
       "[12376 rows x 4 columns]"
      ]
     },
     "execution_count": 32,
     "metadata": {},
     "output_type": "execute_result"
    }
   ],
   "source": [
    "data = genre_data.as_sets()\n",
    "data"
   ]
  },
  {
   "cell_type": "code",
   "execution_count": 34,
   "metadata": {},
   "outputs": [
    {
     "data": {
      "text/plain": [
       "0.127193"
      ]
     },
     "execution_count": 34,
     "metadata": {},
     "output_type": "execute_result"
    }
   ],
   "source": [
    "genre_upperbound.UpperBound(data.iloc[:1000])[1]"
   ]
  },
  {
   "cell_type": "code",
   "execution_count": 43,
   "metadata": {},
   "outputs": [],
   "source": [
    "def train_validate(x_data, y_data):\n",
    "    \"\"\"This function takes X,y data and returns \n",
    "    (list of cvscores, list of confusion matrices). It\n",
    "    prints basic stats.\n",
    "    \n",
    "    It also returns the lowerbounds for errors for any model on the validation sets\n",
    "    for which the scores are provided.\n",
    "    \"\"\"\n",
    "\n",
    "    kf = KFold(n_splits = 2, shuffle = True, random_state = seed)\n",
    "\n",
    "    cvscores = []\n",
    "    #cms = []\n",
    "    error_lower_bounds = []\n",
    "    for train, val in kf.split(x_data,y_data):\n",
    "\n",
    "    #CODE BELOW NEEDS TO BE ADAPTED TO THIS NB\n",
    "        X_train = x_data[train]\n",
    "        y_train = y_data[train]\n",
    "\n",
    "        model.fit(X_train, y_train);\n",
    "\n",
    "        X_val = x_data[val]\n",
    "        y_val = y_data[val]\n",
    "\n",
    "        score = model.score(X_val, y_val)\n",
    "        cvscores.append(score)\n",
    "\n",
    "        # compute confusion matrices and store them in a list\n",
    "        y_pred = model.predict(X_val)\n",
    "        #cms.append(confusion_matrix(y_val, y_pred))\n",
    "        \n",
    "        err = genre_upperbound.UpperBound(data.iloc[val])[1]\n",
    "        error_lower_bounds.append(err)\n",
    "\n",
    "    print(f'Mean accuracy is {100*np.mean(cvscores):.2f}% and 100*STD is {100*np.std(cvscores):.2f}%')\n",
    "    print(f'This is a {100*(100*np.mean(cvscores)-69)/69:.2f}% improvement over a random guess.')\n",
    "    return cvscores, error_lower_bounds"
   ]
  },
  {
   "cell_type": "markdown",
   "metadata": {},
   "source": [
    "Without normalization:"
   ]
  },
  {
   "cell_type": "code",
   "execution_count": 44,
   "metadata": {},
   "outputs": [
    {
     "name": "stdout",
     "output_type": "stream",
     "text": [
      "Mean accuracy is 72.70% and 100*STD is 0.82%\n",
      "This is a 5.36% improvement over a random guess.\n"
     ]
    }
   ],
   "source": [
    "cvscores, error_bounds = train_validate(X_sparse, y)"
   ]
  },
  {
   "cell_type": "code",
   "execution_count": 46,
   "metadata": {},
   "outputs": [
    {
     "data": {
      "text/plain": [
       "[0.7188106011635423, 0.7351325145442793]"
      ]
     },
     "execution_count": 46,
     "metadata": {},
     "output_type": "execute_result"
    }
   ],
   "source": [
    "cvscores"
   ]
  },
  {
   "cell_type": "code",
   "execution_count": 45,
   "metadata": {},
   "outputs": [
    {
     "data": {
      "text/plain": [
       "[0.217041, 0.222157]"
      ]
     },
     "execution_count": 45,
     "metadata": {},
     "output_type": "execute_result"
    }
   ],
   "source": [
    "error_bounds"
   ]
  }
 ],
 "metadata": {
  "kernelspec": {
   "display_name": "Python 3",
   "language": "python",
   "name": "python3"
  },
  "language_info": {
   "codemirror_mode": {
    "name": "ipython",
    "version": 3
   },
   "file_extension": ".py",
   "mimetype": "text/x-python",
   "name": "python",
   "nbconvert_exporter": "python",
   "pygments_lexer": "ipython3",
   "version": "3.7.3"
  }
 },
 "nbformat": 4,
 "nbformat_minor": 4
}
