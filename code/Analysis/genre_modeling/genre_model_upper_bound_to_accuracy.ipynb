{
 "cells": [
  {
   "cell_type": "markdown",
   "metadata": {},
   "source": [
    "# Calculate the upper bound for accuracy of any model trained on our training data. Or calculate the lower bound for error.\n",
    "\n",
    "\n",
    "    - for the DNN classifier the 10-fold CV accuracy has a mean of 76% with std 1%. This is better than my supposed upperbound. This is because the error decreases on random subsets of the data. See below.\n",
    "    - for the DNN classifier the training accuracy can be close to 80%. How? I suspect this is again from using subsets where the data mean error is smaller.\n",
    "\n",
    "The data is of the form $(X,y)$ with $X_i \\in \\left\\{ 0, 1 \\right\\}^{\\times p}$ ($p=1494$), and $y \\in  \\left\\{ 0, 1 \\right\\}$. There are 12376 training samples. Let $\\left\\{\\bar{X}_a \\right\\}_{1 \\leq a \\leq  6230}$ be unique representatives of the inputs in the training set; That is, for all $i$ there exists $a$ such that $X_i = \\bar{X_a}$. For each $\\bar{X}_a$ the number of female artists ($\\text{fem}\\left( \\bar{X}_a \\right)$) and male artists $\\left( \\text{mal}(\\bar{X}_a) \\right)$ with $X_i = \\bar{X}_a$ are calculated. Define a classifier on the set of training data $f_0: \\left\\{ X_i \\right\\}_{i=1}^{12376} \\to \\left\\{ 0, 1 \\right\\}$ as \n",
    "$$ $$\n",
    "$$ f(X_i) = \\text{argmax}_{\\left\\{ \\text{male},\\text{female}\\right\\}} \\left\\{ \\text{mal}(\\bar{X}_a), \\text{fem}(\\bar{X}_a)\\right\\} \\; \\text{if} \\; X_i = \\bar{X}_a$$\n",
    "$$ $$\n",
    "Then extend $f_0$ to $f: \\left\\{ 0, 1 \\right\\}^{\\times p} \\to \\left\\{ 0, 1 \\right\\}$. When $f$ is only used on the training data, the extension from $f_0$ to $f$ is irrevelant, and $f_0$ gives rise to an optimal classifier. However, to generalize to data which includes points in $\\left\\{ 0, 1 \\right\\}^{\\times p}$ that were not in the training set, a rule is needed to make the extension.\n",
    "\n",
    "This notebook shows that even on the training data $f_0$ has an expected error of 26.8%, or an accuracy of 73.2%.\n",
    "\n",
    "It further shows that on subsets of the data, as the size of the subset decreases so does the error."
   ]
  },
  {
   "cell_type": "code",
   "execution_count": 1,
   "metadata": {},
   "outputs": [],
   "source": [
    "import genre_data_loader, genre_upperbound"
   ]
  },
  {
   "cell_type": "code",
   "execution_count": 2,
   "metadata": {},
   "outputs": [],
   "source": [
    "# get currrent date for latest version of data set\n",
    "%store -r now\n",
    "\n",
    "X_path_train = '/Users/Daniel/Code/Genre/data/genre_lists/data_ready_for_model/wiki-kaggle_X_train_{}.csv'.format(now)\n",
    "y_path_train = '/Users/Daniel/Code/Genre/data/genre_lists/data_ready_for_model/wiki-kaggle_y_train_{}.csv'.format(now)\n",
    "X_path_test = '/Users/Daniel/Code/Genre/data/genre_lists/data_ready_for_model/wiki-kaggle_X_test_{}.csv'.format(now)\n",
    "y_path_test = '/Users/Daniel/Code/Genre/data/genre_lists/data_ready_for_model/wiki-kaggle_y_test_{}.csv'.format(now)"
   ]
  },
  {
   "cell_type": "code",
   "execution_count": 3,
   "metadata": {},
   "outputs": [],
   "source": [
    "# call data loader script\n",
    "genre_data = genre_data_loader.LoadGenreData(now, X_path_train, y_path_train, X_path_test, y_path_test)"
   ]
  },
  {
   "cell_type": "code",
   "execution_count": 4,
   "metadata": {},
   "outputs": [],
   "source": [
    "# load data with genre sets\n",
    "data = genre_data.as_sets()\n",
    "# create list of all genres\n",
    "list_of_genres = genre_data.get_list_of_genres()"
   ]
  },
  {
   "cell_type": "code",
   "execution_count": 5,
   "metadata": {
    "scrolled": true
   },
   "outputs": [
    {
     "data": {
      "text/html": [
       "<div>\n",
       "<style scoped>\n",
       "    .dataframe tbody tr th:only-of-type {\n",
       "        vertical-align: middle;\n",
       "    }\n",
       "\n",
       "    .dataframe tbody tr th {\n",
       "        vertical-align: top;\n",
       "    }\n",
       "\n",
       "    .dataframe thead th {\n",
       "        text-align: right;\n",
       "    }\n",
       "</style>\n",
       "<table border=\"1\" class=\"dataframe\">\n",
       "  <thead>\n",
       "    <tr style=\"text-align: right;\">\n",
       "      <th></th>\n",
       "      <th>genrelist_length</th>\n",
       "      <th>gender</th>\n",
       "      <th>genre_set</th>\n",
       "    </tr>\n",
       "    <tr>\n",
       "      <th>artist</th>\n",
       "      <th></th>\n",
       "      <th></th>\n",
       "      <th></th>\n",
       "    </tr>\n",
       "  </thead>\n",
       "  <tbody>\n",
       "    <tr>\n",
       "      <th>Pablo_Holman</th>\n",
       "      <td>3</td>\n",
       "      <td>male</td>\n",
       "      <td>{rock, pop, emo_pop}</td>\n",
       "    </tr>\n",
       "    <tr>\n",
       "      <th>Bobby_Edwards</th>\n",
       "      <td>1</td>\n",
       "      <td>male</td>\n",
       "      <td>{country}</td>\n",
       "    </tr>\n",
       "    <tr>\n",
       "      <th>La_Palabra</th>\n",
       "      <td>4</td>\n",
       "      <td>male</td>\n",
       "      <td>{salsa_romántica, son_montuno, afro_cuban_jazz...</td>\n",
       "    </tr>\n",
       "    <tr>\n",
       "      <th>Sherrick</th>\n",
       "      <td>2</td>\n",
       "      <td>male</td>\n",
       "      <td>{soul, r_and_b}</td>\n",
       "    </tr>\n",
       "    <tr>\n",
       "      <th>Allen_Collins</th>\n",
       "      <td>1</td>\n",
       "      <td>male</td>\n",
       "      <td>{southern_rock}</td>\n",
       "    </tr>\n",
       "  </tbody>\n",
       "</table>\n",
       "</div>"
      ],
      "text/plain": [
       "               genrelist_length gender  \\\n",
       "artist                                   \n",
       "Pablo_Holman                  3   male   \n",
       "Bobby_Edwards                 1   male   \n",
       "La_Palabra                    4   male   \n",
       "Sherrick                      2   male   \n",
       "Allen_Collins                 1   male   \n",
       "\n",
       "                                                       genre_set  \n",
       "artist                                                            \n",
       "Pablo_Holman                                {rock, pop, emo_pop}  \n",
       "Bobby_Edwards                                          {country}  \n",
       "La_Palabra     {salsa_romántica, son_montuno, afro_cuban_jazz...  \n",
       "Sherrick                                         {soul, r_and_b}  \n",
       "Allen_Collins                                    {southern_rock}  "
      ]
     },
     "execution_count": 5,
     "metadata": {},
     "output_type": "execute_result"
    }
   ],
   "source": [
    "data.head()"
   ]
  },
  {
   "cell_type": "markdown",
   "metadata": {},
   "source": [
    "### Calculate lower bound on error (implies upperbounda on accuracy) \n",
    "\n",
    "This uses the function in genre_upperbound.py"
   ]
  },
  {
   "cell_type": "code",
   "execution_count": 6,
   "metadata": {},
   "outputs": [],
   "source": [
    "set_counts, error = genre_upperbound.UpperBound(data)"
   ]
  },
  {
   "cell_type": "code",
   "execution_count": 7,
   "metadata": {
    "scrolled": true
   },
   "outputs": [
    {
     "name": "stdout",
     "output_type": "stream",
     "text": [
      "The error of any classifier trained on this data is at least 0.287216.\n",
      "The accuracy of any classifier trained on this data is less than 0.712784.\n"
     ]
    }
   ],
   "source": [
    "print(f'The error of any classifier trained on this data is at least {error}.')\n",
    "print(f'The accuracy of any classifier trained on this data is less than {1-error}.')"
   ]
  },
  {
   "cell_type": "markdown",
   "metadata": {},
   "source": [
    "## this has been spun off into the script genre_upperbound.py"
   ]
  },
  {
   "cell_type": "code",
   "execution_count": 9,
   "metadata": {},
   "outputs": [],
   "source": [
    "# import numpy as np\n",
    "# import pandas as pd\n",
    "\n",
    "# def UpperBound(df_input):\n",
    "#     \"\"\"Function Description: input is a dataframe \n",
    "#     with the type of 'data' above. It returns (DataFrame, float):\n",
    "#     DataFrame: a dataframe with the counts for female/male\n",
    "#     and a column classifying by majority vote\n",
    "#     and the error for that input type;\n",
    "#     float: the error of the classifier, which is the smallest\n",
    "#     error of any classifier on this data\"\"\"\n",
    "    \n",
    "#     # Initialize list of genre sets and counts:\n",
    "#     genre_sets = [] # a list of the genre sets\n",
    "\n",
    "#     df = df_input.copy(deep = True)\n",
    "\n",
    "#     def set_id(row):\n",
    "#         if row.genre_set in genre_sets:\n",
    "#             row_id = genre_sets.index(row.genre_set)\n",
    "#         else:\n",
    "#             # add to list of all genre sets\n",
    "#             genre_sets.append(row.genre_set)\n",
    "#             row_id = genre_sets.index(row.genre_set)\n",
    "#         return row_id\n",
    "\n",
    "\n",
    "#     df['set_id'] = df.apply(set_id, axis = 1)\n",
    "    \n",
    "#     df.reset_index(inplace = True)\n",
    "\n",
    "#     set_counts = pd.pivot_table(df, index = 'set_id', columns = 'gender', values = 'artist', aggfunc = 'count', fill_value = 0)\n",
    "#     set_counts['genre_set_encoded'] = set_counts.apply(lambda x: genre_sets[int(x.name)], axis = 1)\n",
    "#     set_counts['total'] = set_counts.female + set_counts.male\n",
    "#     set_counts = set_counts[['total','female','male','genre_set_encoded']]\n",
    "\n",
    "#     # Calculate a column that classifies by majority vote for each genre set\n",
    "#     def classify(row):\n",
    "#         if row.female < row.male:\n",
    "#             return 0 # male = 0\n",
    "#         else:\n",
    "#             return 1 # female = 1\n",
    "    \n",
    "#     # indicate class\n",
    "#     set_counts['classifier'] = set_counts.apply(classify, axis = 1)\n",
    "    \n",
    "#     # Create a column with the error of the classifier for that genre_set\n",
    "#     set_counts['error_bound'] = set_counts.apply(\n",
    "#         lambda x: x.female if x.classifier == 0 else x.male, axis = 1)\n",
    "    \n",
    "#     # Calculate the total error of the model\n",
    "#     error = round(set_counts.error_bound.sum()/set_counts.shape[0],6)\n",
    "    \n",
    "\n",
    "#     return set_counts, error"
   ]
  },
  {
   "cell_type": "code",
   "execution_count": 10,
   "metadata": {},
   "outputs": [],
   "source": [
    "# set_counts, error= UpperBound(data)"
   ]
  }
 ],
 "metadata": {
  "kernelspec": {
   "display_name": "Python 3",
   "language": "python",
   "name": "python3"
  },
  "language_info": {
   "codemirror_mode": {
    "name": "ipython",
    "version": 3
   },
   "file_extension": ".py",
   "mimetype": "text/x-python",
   "name": "python",
   "nbconvert_exporter": "python",
   "pygments_lexer": "ipython3",
   "version": "3.7.3"
  }
 },
 "nbformat": 4,
 "nbformat_minor": 4
}
