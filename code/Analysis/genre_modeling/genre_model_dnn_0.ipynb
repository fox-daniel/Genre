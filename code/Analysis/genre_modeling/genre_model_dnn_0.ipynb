{
 "cells": [
  {
   "cell_type": "markdown",
   "metadata": {},
   "source": [
    "This creates a model using the training data set."
   ]
  },
  {
   "cell_type": "code",
   "execution_count": 18,
   "metadata": {},
   "outputs": [],
   "source": [
    "from __future__ import absolute_import, division, print_function, unicode_literals\n",
    "\n",
    "seed = 23\n",
    "\n",
    "import tensorflow as tf\n",
    "import tensorflow_addons as tfa\n",
    "from tensorflow import keras \n",
    "from tensorflow.keras import Input, layers\n",
    "tf.keras.backend.clear_session() # for easy reset of notebook state\n",
    "\n",
    "import numpy as np\n",
    "np.random.random_seed = 23\n",
    "import pandas as pd\n",
    "\n",
    "from sklearn.model_selection import KFold\n",
    "\n",
    "from matplotlib import pyplot as plt\n",
    "from IPython import display\n",
    "import pydot\n",
    "from graphviz import Digraph\n",
    "from matplotlib import pyplot as plt\n",
    "from IPython import display"
   ]
  },
  {
   "cell_type": "markdown",
   "metadata": {},
   "source": [
    "Notes:"
   ]
  },
  {
   "cell_type": "markdown",
   "metadata": {},
   "source": [
    "Import the DF of genre lists and gender:"
   ]
  },
  {
   "cell_type": "code",
   "execution_count": 19,
   "metadata": {},
   "outputs": [],
   "source": [
    "%store -r now\n",
    "now\n",
    "X_train = pd.read_csv('/Users/Daniel/Code/Genre/data/genre_lists/data_ready_for_model/wiki-kaggle_X_train_{}.csv'.format(now), index_col = ['artist'])\n",
    "y_train = pd.read_csv('/Users/Daniel/Code/Genre/data/genre_lists/data_ready_for_model/wiki-kaggle_y_train_{}.csv'.format(now), index_col = ['artist'])"
   ]
  },
  {
   "cell_type": "markdown",
   "metadata": {},
   "source": [
    "### Genre Labels -- as a list\n",
    "\n",
    "Each value of the genre column is a _string_ of comma separated genre labels using the spotify abbreviations. We want to convert it to a _list_ of strings."
   ]
  },
  {
   "cell_type": "code",
   "execution_count": 20,
   "metadata": {},
   "outputs": [],
   "source": [
    "\"\"\"This function takes in a string of the form\n",
    "appearing in the genrelist of the dataframe.\n",
    "It strips the square brackets and extra quotes and\n",
    "returns a list of strings where each string is a genre label.\"\"\"\n",
    "def genrelist(string):\n",
    "    string = string.strip(\"[\").strip(\"]\").replace(\"'\",\"\")\n",
    "    L = [s for s in string.split(',')]\n",
    "    L_new = []\n",
    "    for x in L:\n",
    "        L_new.append(x.replace(\" \",\"_\").lstrip(\"_\").rstrip(\"_\"))\n",
    "    while (str(\"\") in L_new):\n",
    "        L_new.remove(\"\")\n",
    "    return L_new"
   ]
  },
  {
   "cell_type": "markdown",
   "metadata": {},
   "source": [
    "Now we apply\n",
    "- it to the whole column and put the lists in a new column\n",
    "- assemble X,y into DF\n",
    "-reset index to 'artist_id'"
   ]
  },
  {
   "cell_type": "code",
   "execution_count": 21,
   "metadata": {},
   "outputs": [],
   "source": [
    "X_train['genrelist']= X_train['genrelist'].apply(genrelist)\n",
    "\n",
    "data = X_train.join(y_train, how = 'inner', on = 'artist')\n",
    "\n",
    "data.reset_index(inplace = True)\n",
    "data.index.name = 'artist_id'\n",
    "data_set_size = data.shape[0]"
   ]
  },
  {
   "cell_type": "markdown",
   "metadata": {},
   "source": [
    "- Full genre_list (not just that for the training set)\n",
    "- Vocab Dict and Size\n",
    "- max length of lists"
   ]
  },
  {
   "cell_type": "code",
   "execution_count": 22,
   "metadata": {},
   "outputs": [],
   "source": [
    "genre_list = pd.read_csv('/Users/Daniel/Code/Genre/data/genre_lists/data_ready_for_model/genre_list_{}.csv'.format(now))\n",
    "genre_list.drop(['Unnamed: 0'], axis = 1, inplace = True)\n",
    "genre_list['genre_id'] = list(range(1,genre_list.shape[0]+1))\n",
    "\n",
    "#Size of the vocab:\n",
    "vocab_size = genre_list.shape[0]\n",
    "\n",
    "#Create a dictionary {genre_label: genre_id}\n",
    "genre_list.set_index(['genre_list'], inplace = True)\n",
    "label_id_dict = genre_list['genre_id'].to_dict()\n",
    "\n",
    "#Find max length of genre lists:\n",
    "max_list_length = data.genrelist_length.max()"
   ]
  },
  {
   "cell_type": "code",
   "execution_count": 23,
   "metadata": {},
   "outputs": [],
   "source": [
    "# encode labels as ints within the list\n",
    "def encode_list(row):\n",
    "    return [label_id_dict[item] for item in row.genrelist]\n",
    "\n",
    "data['genres_encoded_as_list'] = data.apply(encode_list, axis = 1)\n",
    "\n",
    "#Check that the encoding is consistent: \n",
    "# n = np.random.randint(data.shape[0])\n",
    "# [label_id_dict[item] for item in data.genrelist.iloc[n]], data.genres_encoded_as_list.iloc[n]\n",
    "\n",
    "#Encode into new columns\n",
    "\n",
    "#create columns with zeros\n",
    "for i in range(73):\n",
    "    data['label_{}'.format(i)] = np.zeros((data.shape[0]), dtype = 'int64')\n",
    "    \n",
    "def encode_columns(row):\n",
    "    for i, id in enumerate(row.genres_encoded_as_list):\n",
    "        row.loc['label_{}'.format(i)] = id\n",
    "    return row\n",
    "\n",
    "data = data.apply(encode_columns, axis = 1)\n",
    "\n",
    "# Encode targets. The categories still appear as strings. To see the encoding use df.column.cat.codes.\n",
    "data['gender'] = data.gender.apply(lambda x: 1 if x == 'female' else 0)"
   ]
  },
  {
   "cell_type": "markdown",
   "metadata": {},
   "source": [
    "### Scale genrelist_length\n",
    "- currently use sqrt to separate low values"
   ]
  },
  {
   "cell_type": "code",
   "execution_count": 24,
   "metadata": {},
   "outputs": [
    {
     "data": {
      "text/plain": [
       "artist_id\n",
       "11822    73\n",
       "5533     45\n",
       "8669     15\n",
       "258      15\n",
       "1226     14\n",
       "Name: genrelist_length, dtype: int64"
      ]
     },
     "execution_count": 24,
     "metadata": {},
     "output_type": "execute_result"
    }
   ],
   "source": [
    "data.genrelist_length.sort_values(ascending = False).head()"
   ]
  },
  {
   "cell_type": "markdown",
   "metadata": {},
   "source": [
    "Flatten out the outliers:"
   ]
  },
  {
   "cell_type": "code",
   "execution_count": 25,
   "metadata": {},
   "outputs": [],
   "source": [
    "def smoosh(row):\n",
    "    if row.genrelist_length > 60:\n",
    "        return 16\n",
    "    if row.genrelist_length > 14:\n",
    "        return 15\n",
    "    else:\n",
    "        return row.genrelist_length\n",
    "\n",
    "data['genrelist_length'] = data.apply(smoosh, axis = 1)\n",
    "#data.genrelist_length.sort_values(ascending = False)"
   ]
  },
  {
   "cell_type": "code",
   "execution_count": 26,
   "metadata": {
    "scrolled": true
   },
   "outputs": [
    {
     "data": {
      "text/plain": [
       "<matplotlib.axes._subplots.AxesSubplot at 0x10dd8e190>"
      ]
     },
     "execution_count": 26,
     "metadata": {},
     "output_type": "execute_result"
    },
    {
     "data": {
      "image/png": "[encoded data removed]",
      "text/plain": [
       "<Figure size 432x288 with 1 Axes>"
      ]
     },
     "metadata": {
      "needs_background": "light"
     },
     "output_type": "display_data"
    }
   ],
   "source": [
    "data.genrelist_length.hist(bins = 16)"
   ]
  },
  {
   "cell_type": "markdown",
   "metadata": {},
   "source": [
    "Normalize on copy of data:"
   ]
  },
  {
   "cell_type": "code",
   "execution_count": 27,
   "metadata": {},
   "outputs": [],
   "source": [
    "data_norm = data.copy()"
   ]
  },
  {
   "cell_type": "markdown",
   "metadata": {},
   "source": [
    "### Nonlinear scaling seems to be helpful!"
   ]
  },
  {
   "cell_type": "code",
   "execution_count": 28,
   "metadata": {},
   "outputs": [],
   "source": [
    "# this is chosen to match the min, max of the untrained embedding layer\n",
    "def normalize_length(x):\n",
    "    #x = .1*np.power(x/x.max(),1)-.05\n",
    "    x = .1*np.power(x/x.max(),.5)-.05\n",
    "    return x"
   ]
  },
  {
   "cell_type": "code",
   "execution_count": 29,
   "metadata": {},
   "outputs": [
    {
     "data": {
      "text/plain": [
       "array([-0.05      , -0.02418011, -0.01348516, -0.00527864,  0.00163978,\n",
       "        0.00773503,  0.01324555,  0.01831301,  0.02302967,  0.02745967,\n",
       "        0.03164966,  0.03563488,  0.03944272,  0.04309493,  0.04660918,\n",
       "        0.05      ])"
      ]
     },
     "execution_count": 29,
     "metadata": {},
     "output_type": "execute_result"
    }
   ],
   "source": [
    "normalize_length(np.array(range(16)))"
   ]
  },
  {
   "cell_type": "code",
   "execution_count": 30,
   "metadata": {},
   "outputs": [],
   "source": [
    "data_norm['length_scaled'] = normalize_length(data_norm['genrelist_length'])"
   ]
  },
  {
   "cell_type": "code",
   "execution_count": 31,
   "metadata": {},
   "outputs": [],
   "source": [
    "data_norm = data_norm.drop(['artist','genrelist', 'genres_encoded_as_list', 'genrelist_length'], axis = 1)\n",
    "cols = ['gender','length_scaled']+['label_{}'.format(i) for i in range(73)]\n",
    "cols\n",
    "data_norm = data_norm[cols]\n",
    "# Shuffle the data:\n",
    "data_norm = data_norm.sample(frac = 1)"
   ]
  },
  {
   "cell_type": "code",
   "execution_count": 32,
   "metadata": {},
   "outputs": [
    {
     "data": {
      "text/html": [
       "<div>\n",
       "<style scoped>\n",
       "    .dataframe tbody tr th:only-of-type {\n",
       "        vertical-align: middle;\n",
       "    }\n",
       "\n",
       "    .dataframe tbody tr th {\n",
       "        vertical-align: top;\n",
       "    }\n",
       "\n",
       "    .dataframe thead th {\n",
       "        text-align: right;\n",
       "    }\n",
       "</style>\n",
       "<table border=\"1\" class=\"dataframe\">\n",
       "  <thead>\n",
       "    <tr style=\"text-align: right;\">\n",
       "      <th></th>\n",
       "      <th>gender</th>\n",
       "      <th>length_scaled</th>\n",
       "      <th>label_0</th>\n",
       "      <th>label_1</th>\n",
       "      <th>label_2</th>\n",
       "      <th>label_3</th>\n",
       "      <th>label_4</th>\n",
       "      <th>label_5</th>\n",
       "      <th>label_6</th>\n",
       "      <th>label_7</th>\n",
       "      <th>...</th>\n",
       "      <th>label_63</th>\n",
       "      <th>label_64</th>\n",
       "      <th>label_65</th>\n",
       "      <th>label_66</th>\n",
       "      <th>label_67</th>\n",
       "      <th>label_68</th>\n",
       "      <th>label_69</th>\n",
       "      <th>label_70</th>\n",
       "      <th>label_71</th>\n",
       "      <th>label_72</th>\n",
       "    </tr>\n",
       "    <tr>\n",
       "      <th>artist_id</th>\n",
       "      <th></th>\n",
       "      <th></th>\n",
       "      <th></th>\n",
       "      <th></th>\n",
       "      <th></th>\n",
       "      <th></th>\n",
       "      <th></th>\n",
       "      <th></th>\n",
       "      <th></th>\n",
       "      <th></th>\n",
       "      <th></th>\n",
       "      <th></th>\n",
       "      <th></th>\n",
       "      <th></th>\n",
       "      <th></th>\n",
       "      <th></th>\n",
       "      <th></th>\n",
       "      <th></th>\n",
       "      <th></th>\n",
       "      <th></th>\n",
       "      <th></th>\n",
       "    </tr>\n",
       "  </thead>\n",
       "  <tbody>\n",
       "    <tr>\n",
       "      <th>9373</th>\n",
       "      <td>1</td>\n",
       "      <td>-0.006699</td>\n",
       "      <td>1025</td>\n",
       "      <td>1007</td>\n",
       "      <td>629</td>\n",
       "      <td>0</td>\n",
       "      <td>0</td>\n",
       "      <td>0</td>\n",
       "      <td>0</td>\n",
       "      <td>0</td>\n",
       "      <td>...</td>\n",
       "      <td>0</td>\n",
       "      <td>0</td>\n",
       "      <td>0</td>\n",
       "      <td>0</td>\n",
       "      <td>0</td>\n",
       "      <td>0</td>\n",
       "      <td>0</td>\n",
       "      <td>0</td>\n",
       "      <td>0</td>\n",
       "      <td>0</td>\n",
       "    </tr>\n",
       "    <tr>\n",
       "      <th>7065</th>\n",
       "      <td>1</td>\n",
       "      <td>-0.014645</td>\n",
       "      <td>465</td>\n",
       "      <td>368</td>\n",
       "      <td>0</td>\n",
       "      <td>0</td>\n",
       "      <td>0</td>\n",
       "      <td>0</td>\n",
       "      <td>0</td>\n",
       "      <td>0</td>\n",
       "      <td>...</td>\n",
       "      <td>0</td>\n",
       "      <td>0</td>\n",
       "      <td>0</td>\n",
       "      <td>0</td>\n",
       "      <td>0</td>\n",
       "      <td>0</td>\n",
       "      <td>0</td>\n",
       "      <td>0</td>\n",
       "      <td>0</td>\n",
       "      <td>0</td>\n",
       "    </tr>\n",
       "    <tr>\n",
       "      <th>2827</th>\n",
       "      <td>0</td>\n",
       "      <td>-0.006699</td>\n",
       "      <td>1481</td>\n",
       "      <td>1270</td>\n",
       "      <td>227</td>\n",
       "      <td>0</td>\n",
       "      <td>0</td>\n",
       "      <td>0</td>\n",
       "      <td>0</td>\n",
       "      <td>0</td>\n",
       "      <td>...</td>\n",
       "      <td>0</td>\n",
       "      <td>0</td>\n",
       "      <td>0</td>\n",
       "      <td>0</td>\n",
       "      <td>0</td>\n",
       "      <td>0</td>\n",
       "      <td>0</td>\n",
       "      <td>0</td>\n",
       "      <td>0</td>\n",
       "      <td>0</td>\n",
       "    </tr>\n",
       "    <tr>\n",
       "      <th>306</th>\n",
       "      <td>0</td>\n",
       "      <td>-0.025000</td>\n",
       "      <td>465</td>\n",
       "      <td>0</td>\n",
       "      <td>0</td>\n",
       "      <td>0</td>\n",
       "      <td>0</td>\n",
       "      <td>0</td>\n",
       "      <td>0</td>\n",
       "      <td>0</td>\n",
       "      <td>...</td>\n",
       "      <td>0</td>\n",
       "      <td>0</td>\n",
       "      <td>0</td>\n",
       "      <td>0</td>\n",
       "      <td>0</td>\n",
       "      <td>0</td>\n",
       "      <td>0</td>\n",
       "      <td>0</td>\n",
       "      <td>0</td>\n",
       "      <td>0</td>\n",
       "    </tr>\n",
       "    <tr>\n",
       "      <th>444</th>\n",
       "      <td>0</td>\n",
       "      <td>-0.006699</td>\n",
       "      <td>264</td>\n",
       "      <td>1431</td>\n",
       "      <td>653</td>\n",
       "      <td>0</td>\n",
       "      <td>0</td>\n",
       "      <td>0</td>\n",
       "      <td>0</td>\n",
       "      <td>0</td>\n",
       "      <td>...</td>\n",
       "      <td>0</td>\n",
       "      <td>0</td>\n",
       "      <td>0</td>\n",
       "      <td>0</td>\n",
       "      <td>0</td>\n",
       "      <td>0</td>\n",
       "      <td>0</td>\n",
       "      <td>0</td>\n",
       "      <td>0</td>\n",
       "      <td>0</td>\n",
       "    </tr>\n",
       "  </tbody>\n",
       "</table>\n",
       "<p>5 rows × 75 columns</p>\n",
       "</div>"
      ],
      "text/plain": [
       "           gender  length_scaled  label_0  label_1  label_2  label_3  label_4  \\\n",
       "artist_id                                                                       \n",
       "9373            1      -0.006699     1025     1007      629        0        0   \n",
       "7065            1      -0.014645      465      368        0        0        0   \n",
       "2827            0      -0.006699     1481     1270      227        0        0   \n",
       "306             0      -0.025000      465        0        0        0        0   \n",
       "444             0      -0.006699      264     1431      653        0        0   \n",
       "\n",
       "           label_5  label_6  label_7  ...  label_63  label_64  label_65  \\\n",
       "artist_id                             ...                                 \n",
       "9373             0        0        0  ...         0         0         0   \n",
       "7065             0        0        0  ...         0         0         0   \n",
       "2827             0        0        0  ...         0         0         0   \n",
       "306              0        0        0  ...         0         0         0   \n",
       "444              0        0        0  ...         0         0         0   \n",
       "\n",
       "           label_66  label_67  label_68  label_69  label_70  label_71  \\\n",
       "artist_id                                                               \n",
       "9373              0         0         0         0         0         0   \n",
       "7065              0         0         0         0         0         0   \n",
       "2827              0         0         0         0         0         0   \n",
       "306               0         0         0         0         0         0   \n",
       "444               0         0         0         0         0         0   \n",
       "\n",
       "           label_72  \n",
       "artist_id            \n",
       "9373              0  \n",
       "7065              0  \n",
       "2827              0  \n",
       "306               0  \n",
       "444               0  \n",
       "\n",
       "[5 rows x 75 columns]"
      ]
     },
     "execution_count": 32,
     "metadata": {},
     "output_type": "execute_result"
    }
   ],
   "source": [
    "data_norm.head()"
   ]
  },
  {
   "cell_type": "markdown",
   "metadata": {},
   "source": [
    "Now split into X,y DFs"
   ]
  },
  {
   "cell_type": "code",
   "execution_count": 33,
   "metadata": {},
   "outputs": [],
   "source": [
    "y = data_norm.pop('gender')\n",
    "X = data_norm.copy()"
   ]
  },
  {
   "cell_type": "markdown",
   "metadata": {},
   "source": [
    "## Define Models"
   ]
  },
  {
   "cell_type": "code",
   "execution_count": 35,
   "metadata": {},
   "outputs": [],
   "source": [
    "# def create_model():\n",
    "#     loss_fcn = keras.losses.BinaryCrossentropy(from_logits=True)\n",
    "#     #lr = .001\n",
    "#     initial_lr = .001\n",
    "#     lr_schedule = tf.keras.optimizers.schedules.ExponentialDecay(\n",
    "#     initial_learning_rate = initial_lr,\n",
    "#     decay_steps = 4000,\n",
    "#     decay_rate = .8,\n",
    "#     staircase = True\n",
    "#     )\n",
    "#     lam = .0001\n",
    "#     #opt = tfa.optimizers.AdamW(lr = lr, weight_decay = .001)\n",
    "#     opt = tf.keras.optimizers.Adam(learning_rate = lr_schedule)\n",
    "    \n",
    "#     reg = tf.keras.regularizers.l2(lam)\n",
    "    \n",
    "#     # the list input; use vocab_size+1 since 0 is saved to indicate no label\n",
    "#     list_input = layers.Input(shape = (max_list_length,), name = 'list_input')\n",
    "#     embed = layers.Embedding(input_dim = vocab_size+1, output_dim = 500, input_length = max_list_length, name = 'list_embed')(list_input)\n",
    "#     pool = layers.GlobalAveragePooling1D()(embed)\n",
    "#     # the length input\n",
    "#     length_input = layers.Input(shape = (1,), name = 'length_input')\n",
    "#     # concatenate two inputs\n",
    "#     x = layers.concatenate([pool, length_input])\n",
    "#     # add dense layers\n",
    "#     x = layers.Dense(64, activation = 'relu')(x)\n",
    "#     x = layers.concatenate([x, length_input])\n",
    "#     x = layers.Dropout(.4)(x)\n",
    "#     # bring length input back\n",
    "#     x = layers.Dense(64, activation = 'relu')(x)\n",
    "#     x = layers.Dropout(.4)(x)\n",
    "#     x = layers.Dense(32, activation = 'relu')(x)\n",
    "#     x = layers.Dropout(.4)(x)\n",
    "#     x = layers.Dense(32, activation = 'relu')(x)\n",
    "#     pred = layers.Dense(1, name = 'predictions')(x)\n",
    "\n",
    "#     model = keras.Model(inputs = [list_input, length_input], outputs = [pred])\n",
    "    \n",
    "    \n",
    "#     model.compile(loss=loss_fcn,\n",
    "#                   optimizer=opt,\n",
    "#                   metrics=['accuracy'])\n",
    "    \n",
    "#     return model"
   ]
  },
  {
   "cell_type": "code",
   "execution_count": 34,
   "metadata": {},
   "outputs": [],
   "source": [
    "# achieved mean acc of 76% with std 1% using 10-fold cross validation\n",
    "def create_model():\n",
    "    loss_fcn = keras.losses.BinaryCrossentropy(from_logits=True)\n",
    "    lr = .0005 # was .001\n",
    "    initial_lr = .005\n",
    "    lr_schedule = tf.keras.optimizers.schedules.ExponentialDecay(\n",
    "    initial_learning_rate = initial_lr,\n",
    "    decay_steps = 4000,\n",
    "    decay_rate = .8,\n",
    "    staircase = True\n",
    "    )\n",
    "    lam = .0001\n",
    "    #opt = tfa.optimizers.AdamW(lr = lr, weight_decay = .001)\n",
    "    opt = tf.keras.optimizers.Adam(learning_rate = lr)\n",
    "    \n",
    "    reg = tf.keras.regularizers.l2(lam)\n",
    "    \n",
    "    # the list input; use vocab_size+1 since 0 is saved to indicate no label\n",
    "    list_input = layers.Input(shape = (max_list_length,), name = 'list_input')\n",
    "    embed = layers.Embedding(input_dim = vocab_size+1, output_dim = 125, input_length = max_list_length, name = 'list_embed')(list_input)\n",
    "    pool = layers.GlobalAveragePooling1D()(embed)\n",
    "    # the length input\n",
    "    length_input = layers.Input(shape = (1,), name = 'length_input')\n",
    "    # concatenate two inputs\n",
    "    x = layers.concatenate([pool, length_input])\n",
    "    # add dense layers\n",
    "    x = layers.Dense(64, activation = 'relu')(x)\n",
    "    x = layers.concatenate([x, length_input])\n",
    "    x = layers.Dropout(.5)(x)\n",
    "    # bring length input back\n",
    "    x = layers.Dense(64, activation = 'relu')(x)\n",
    "    x = layers.Dropout(.5)(x)\n",
    "    x = layers.Dense(64, activation = 'relu')(x)\n",
    "    x = layers.Dropout(.5)(x)\n",
    "    x = layers.Dense(64, activation = 'relu')(x) \n",
    "    pred = layers.Dense(1, name = 'predictions')(x)\n",
    "\n",
    "    model = keras.Model(inputs = [list_input, length_input], outputs = [pred])\n",
    "    \n",
    "    \n",
    "    model.compile(loss=loss_fcn,\n",
    "                  optimizer=opt,\n",
    "                  metrics=['accuracy'])\n",
    "    \n",
    "    return model"
   ]
  },
  {
   "cell_type": "markdown",
   "metadata": {},
   "source": [
    "GlobalAveragePooling or Flatten?"
   ]
  },
  {
   "cell_type": "code",
   "execution_count": 37,
   "metadata": {},
   "outputs": [],
   "source": [
    "# # to fiddle with\n",
    "# def create_model():\n",
    "    \n",
    "#     # the list input; use vocab_size+1 since 0 is saved to indicate no label\n",
    "#     list_input = layers.Input(shape = (max_list_length,), name = 'list_input')\n",
    "#     embed = layers.Embedding(input_dim = vocab_size+1, output_dim = 125, input_length = max_list_length, name = 'list_embed')(list_input)\n",
    "#     pool = layers.GlobalAveragePooling1D()(embed)\n",
    "#     #pool = layers.Flatten()(embed)\n",
    "#     # the length input\n",
    "#     length_input = layers.Input(shape = (1,), name = 'length_input')\n",
    "#     # concatenate two inputs\n",
    "#     x = layers.concatenate([pool, length_input])\n",
    "#     # add dense layers\n",
    "#     x = layers.Dense(64, activation = 'relu')(x)\n",
    "#     x = layers.concatenate([x, length_input])\n",
    "#     x = layers.Dropout(.5)(x)\n",
    "#     # bring length input back\n",
    "#     x = layers.Dense(64, activation = 'relu')(x)\n",
    "#     x = layers.Dropout(.5)(x)\n",
    "#     x = layers.Dense(64, activation = 'relu')(x)\n",
    "#     x = layers.Dropout(.5)(x)\n",
    "#     x = layers.Dense(64, activation = 'relu')(x) # was 32\n",
    "#     pred = layers.Dense(1, name = 'predictions')(x)\n",
    "\n",
    "#     model = keras.Model(inputs = [list_input, length_input], outputs = [pred])\n",
    "    \n",
    "#     return model"
   ]
  },
  {
   "cell_type": "code",
   "execution_count": 38,
   "metadata": {
    "colab": {
     "base_uri": "https://localhost:8080/",
     "height": 422
    },
    "colab_type": "code",
    "executionInfo": {
     "elapsed": 2786,
     "status": "ok",
     "timestamp": 1585050056375,
     "user": {
      "displayName": "Daniel Fox",
      "photoUrl": "https://lh3.googleusercontent.com/a-/AOh14Giqfpm78_uU2W4ZVmP0rg5Bj14LXitAso2f15kUZA=s64",
      "userId": "16990695805219786470"
     },
     "user_tz": 240
    },
    "id": "4lGY7_a2tvfT",
    "outputId": "28154778-3110-41b4-bb5d-9ec96c111bc9"
   },
   "outputs": [],
   "source": [
    "# need to install pydot (pip) and graphviz (conda)\n",
    "#keras.utils.plot_model(model, 'dnn_0_model_graph.png', show_shapes = True)"
   ]
  },
  {
   "cell_type": "code",
   "execution_count": 39,
   "metadata": {},
   "outputs": [],
   "source": [
    "#model.summary()"
   ]
  },
  {
   "cell_type": "code",
   "execution_count": 40,
   "metadata": {},
   "outputs": [],
   "source": [
    "# embed = layers.Embedding(input_dim = vocab_size+1, output_dim = 125, input_length = max_list_length, name = 'list_embed')\n",
    "\n",
    "# X_values = X.values\n",
    "\n",
    "# X_0_train = X_values[:,0:1]\n",
    "# X_1_train = X_values[:,1:74]"
   ]
  },
  {
   "cell_type": "code",
   "execution_count": 42,
   "metadata": {},
   "outputs": [],
   "source": [
    "# min([embed(X_1_train[i]).numpy().min() for i in range(X_1_train.shape[0])]), max([embed(X_1_train[i]).numpy().max() for i in range(X_1_train.shape[0])])"
   ]
  },
  {
   "cell_type": "markdown",
   "metadata": {},
   "source": [
    "### Train Model"
   ]
  },
  {
   "cell_type": "code",
   "execution_count": 35,
   "metadata": {},
   "outputs": [
    {
     "name": "stdout",
     "output_type": "stream",
     "text": [
      "Epoch 1/40\n",
      "155/155 [==============================] - 1s 7ms/step - loss: 0.6372 - accuracy: 0.6873 - val_loss: 0.6163 - val_accuracy: 0.6967\n",
      "Epoch 2/40\n",
      "155/155 [==============================] - 1s 5ms/step - loss: 0.6227 - accuracy: 0.6873 - val_loss: 0.6093 - val_accuracy: 0.6967\n",
      "Epoch 3/40\n",
      "155/155 [==============================] - 1s 6ms/step - loss: 0.6124 - accuracy: 0.6873 - val_loss: 0.5900 - val_accuracy: 0.6967\n",
      "Epoch 4/40\n",
      "155/155 [==============================] - 1s 6ms/step - loss: 0.5740 - accuracy: 0.6873 - val_loss: 0.5318 - val_accuracy: 0.6967\n",
      "Epoch 5/40\n",
      "155/155 [==============================] - 1s 6ms/step - loss: 0.5395 - accuracy: 0.6873 - val_loss: 0.5170 - val_accuracy: 0.6967\n",
      "Epoch 6/40\n",
      "155/155 [==============================] - 1s 6ms/step - loss: 0.5203 - accuracy: 0.6886 - val_loss: 0.5300 - val_accuracy: 0.6967\n",
      "Epoch 7/40\n",
      "155/155 [==============================] - 1s 6ms/step - loss: 0.5162 - accuracy: 0.6889 - val_loss: 0.5130 - val_accuracy: 0.6967\n",
      "Epoch 8/40\n",
      "155/155 [==============================] - 1s 6ms/step - loss: 0.5134 - accuracy: 0.6924 - val_loss: 0.5093 - val_accuracy: 0.6967\n",
      "Epoch 9/40\n",
      "155/155 [==============================] - 1s 6ms/step - loss: 0.5073 - accuracy: 0.6971 - val_loss: 0.5239 - val_accuracy: 0.7007\n",
      "Epoch 10/40\n",
      "155/155 [==============================] - 1s 6ms/step - loss: 0.5013 - accuracy: 0.7022 - val_loss: 0.5238 - val_accuracy: 0.7189\n",
      "Epoch 11/40\n",
      "155/155 [==============================] - 1s 6ms/step - loss: 0.4995 - accuracy: 0.7100 - val_loss: 0.5100 - val_accuracy: 0.7185\n",
      "Epoch 12/40\n",
      "155/155 [==============================] - 1s 6ms/step - loss: 0.4994 - accuracy: 0.7054 - val_loss: 0.5156 - val_accuracy: 0.7060\n",
      "Epoch 13/40\n",
      "155/155 [==============================] - 1s 6ms/step - loss: 0.4952 - accuracy: 0.7088 - val_loss: 0.5289 - val_accuracy: 0.7464\n",
      "Epoch 14/40\n",
      "155/155 [==============================] - 1s 6ms/step - loss: 0.4917 - accuracy: 0.7182 - val_loss: 0.5078 - val_accuracy: 0.7403\n",
      "Epoch 15/40\n",
      "155/155 [==============================] - 1s 6ms/step - loss: 0.4893 - accuracy: 0.7187 - val_loss: 0.5163 - val_accuracy: 0.7488\n",
      "Epoch 16/40\n",
      "155/155 [==============================] - 1s 6ms/step - loss: 0.4847 - accuracy: 0.7260 - val_loss: 0.5261 - val_accuracy: 0.7488\n",
      "Epoch 17/40\n",
      "155/155 [==============================] - 1s 6ms/step - loss: 0.4821 - accuracy: 0.7295 - val_loss: 0.5143 - val_accuracy: 0.7342\n",
      "Epoch 18/40\n",
      "155/155 [==============================] - 1s 6ms/step - loss: 0.4839 - accuracy: 0.7265 - val_loss: 0.5048 - val_accuracy: 0.7419\n",
      "Epoch 19/40\n",
      "155/155 [==============================] - 1s 6ms/step - loss: 0.4799 - accuracy: 0.7359 - val_loss: 0.5057 - val_accuracy: 0.7443\n",
      "Epoch 20/40\n",
      "155/155 [==============================] - 1s 6ms/step - loss: 0.4802 - accuracy: 0.7348 - val_loss: 0.5053 - val_accuracy: 0.7443\n",
      "Epoch 21/40\n",
      "155/155 [==============================] - 1s 5ms/step - loss: 0.4778 - accuracy: 0.7388 - val_loss: 0.5098 - val_accuracy: 0.7314\n",
      "Epoch 22/40\n",
      "155/155 [==============================] - 1s 5ms/step - loss: 0.4751 - accuracy: 0.7394 - val_loss: 0.5091 - val_accuracy: 0.7452\n",
      "Epoch 23/40\n",
      "155/155 [==============================] - 1s 5ms/step - loss: 0.4791 - accuracy: 0.7401 - val_loss: 0.5103 - val_accuracy: 0.7500\n",
      "Epoch 24/40\n",
      "155/155 [==============================] - 1s 6ms/step - loss: 0.4734 - accuracy: 0.7408 - val_loss: 0.5187 - val_accuracy: 0.7411\n",
      "Epoch 25/40\n",
      "155/155 [==============================] - 1s 6ms/step - loss: 0.4732 - accuracy: 0.7419 - val_loss: 0.5082 - val_accuracy: 0.7298\n",
      "Epoch 26/40\n",
      "155/155 [==============================] - 1s 6ms/step - loss: 0.4678 - accuracy: 0.7464 - val_loss: 0.5093 - val_accuracy: 0.7407\n",
      "Epoch 27/40\n",
      "155/155 [==============================] - 1s 6ms/step - loss: 0.4667 - accuracy: 0.7422 - val_loss: 0.5134 - val_accuracy: 0.7447\n",
      "Epoch 28/40\n",
      "155/155 [==============================] - 1s 6ms/step - loss: 0.4663 - accuracy: 0.7481 - val_loss: 0.5089 - val_accuracy: 0.7399\n",
      "Epoch 29/40\n",
      "155/155 [==============================] - 1s 6ms/step - loss: 0.4666 - accuracy: 0.7472 - val_loss: 0.5191 - val_accuracy: 0.7496\n",
      "Epoch 30/40\n",
      "155/155 [==============================] - 1s 6ms/step - loss: 0.4686 - accuracy: 0.7477 - val_loss: 0.5103 - val_accuracy: 0.7342\n",
      "Epoch 31/40\n",
      "155/155 [==============================] - 1s 6ms/step - loss: 0.4606 - accuracy: 0.7546 - val_loss: 0.5176 - val_accuracy: 0.7528\n",
      "Epoch 32/40\n",
      "155/155 [==============================] - 1s 6ms/step - loss: 0.4629 - accuracy: 0.7514 - val_loss: 0.5129 - val_accuracy: 0.7371\n",
      "Epoch 33/40\n",
      "155/155 [==============================] - 1s 6ms/step - loss: 0.4593 - accuracy: 0.7545 - val_loss: 0.5197 - val_accuracy: 0.7395\n",
      "Epoch 34/40\n",
      "155/155 [==============================] - 1s 6ms/step - loss: 0.4609 - accuracy: 0.7542 - val_loss: 0.5324 - val_accuracy: 0.7443\n",
      "Epoch 35/40\n",
      "155/155 [==============================] - 1s 6ms/step - loss: 0.4573 - accuracy: 0.7565 - val_loss: 0.5245 - val_accuracy: 0.7480\n",
      "Epoch 36/40\n",
      "155/155 [==============================] - 1s 6ms/step - loss: 0.4568 - accuracy: 0.7568 - val_loss: 0.5213 - val_accuracy: 0.7423\n",
      "Epoch 37/40\n",
      "155/155 [==============================] - 1s 5ms/step - loss: 0.4562 - accuracy: 0.7607 - val_loss: 0.5175 - val_accuracy: 0.7447\n",
      "Epoch 38/40\n",
      "155/155 [==============================] - 1s 7ms/step - loss: 0.4509 - accuracy: 0.7614 - val_loss: 0.5189 - val_accuracy: 0.7363\n",
      "Epoch 39/40\n",
      "155/155 [==============================] - 1s 6ms/step - loss: 0.4546 - accuracy: 0.7560 - val_loss: 0.5837 - val_accuracy: 0.7246\n",
      "Epoch 40/40\n",
      "155/155 [==============================] - 1s 5ms/step - loss: 0.4590 - accuracy: 0.7560 - val_loss: 0.5175 - val_accuracy: 0.7246\n"
     ]
    }
   ],
   "source": [
    "X_values = X.values\n",
    "y_values = y.values\n",
    "\n",
    "X_0_train = X_values[:,0:1]\n",
    "X_1_train = X_values[:,1:74]\n",
    "y_train = np.asarray(y_values)\n",
    "\n",
    "model = create_model()\n",
    "\n",
    "history = model.fit({'list_input':X_1_train, 'length_input':X_0_train},\n",
    "                    {'predictions':y_train},\n",
    "                    batch_size=64,\n",
    "                    epochs=40,\n",
    "                    validation_split = .2,\n",
    "                    verbose = 1\n",
    "                    )"
   ]
  },
  {
   "cell_type": "code",
   "execution_count": 36,
   "metadata": {},
   "outputs": [
    {
     "data": {
      "image/png": "[encoded data removed]",
      "text/plain": [
       "<Figure size 1440x720 with 2 Axes>"
      ]
     },
     "metadata": {
      "needs_background": "light"
     },
     "output_type": "display_data"
    }
   ],
   "source": [
    "fig, axs = plt.subplots(1,2, figsize = (20,10))\n",
    "\n",
    "axs[0].plot(history.history['accuracy'], label = 'Training Accuracy')\n",
    "axs[0].plot(history.history['val_accuracy'], label = 'Validation Accuracy')\n",
    "\n",
    "axs[1].plot(history.history['loss'], label = 'Training Loss')\n",
    "axs[1].plot(history.history['val_loss'], label = 'Validation Loss')\n",
    "\n",
    "axs[0].hlines(0.69,0,len(history.history['accuracy']), label = 'Random Baseline')\n",
    "#plt.ylim(0,.1)\n",
    "axs[0].legend()\n",
    "axs[1].legend()\n",
    "\n",
    "plt.show()\n",
    "#print(min(history.history['accuracy']))"
   ]
  },
  {
   "cell_type": "markdown",
   "metadata": {},
   "source": [
    "Train with cross validation:"
   ]
  },
  {
   "cell_type": "code",
   "execution_count": 103,
   "metadata": {},
   "outputs": [
    {
     "name": "stdout",
     "output_type": "stream",
     "text": [
      "Accuracy = 0.7580355405807495.\n",
      "Accuracy = 0.7590231895446777.\n",
      "Accuracy = 0.757317304611206.\n",
      "Accuracy = 0.7772490382194519.\n",
      "Accuracy = 0.757586658000946.\n",
      "Accuracy = 0.7738373279571533.\n",
      "Accuracy = 0.7435137629508972.\n",
      "Accuracy = 0.7475536465644836.\n",
      "Accuracy = 0.7737678289413452.\n",
      "Accuracy = 0.7674835920333862.\n",
      "Mean Accuracy is 0.7615 and STD of Accuracy is 0.0107\n"
     ]
    }
   ],
   "source": [
    "kf = KFold(n_splits = 10, shuffle = True, random_state = seed)\n",
    "\n",
    "cvscores_acc = []\n",
    "\n",
    "X_values = X.values\n",
    "y_values = y.values\n",
    "\n",
    "for train, test in kf.split(X_values,y_values):\n",
    "    \n",
    "    X_0_train = X_values[train,0:1]\n",
    "    X_1_train = X_values[train,1:74]\n",
    "    y_train = np.asarray(y_values[train])\n",
    "    \n",
    "    #print(X_0_train.shape, X_1_train.shape, y_train.shape)\n",
    "    \n",
    "    model = create_model()\n",
    "    \n",
    "#     dataset_length_train = tf.data.Dataset.from_tensor_slices((X_0_train, y_train)) \n",
    "#     dataset_list_train = tf.data.Dataset.from_tensor_slices((X_1_train, y_train)) \n",
    "    \n",
    "    history = model.fit({'list_input':X_1_train, 'length_input':X_0_train},\n",
    "                    {'predictions':y_train},\n",
    "                    batch_size=16,\n",
    "                    epochs=33,\n",
    "                    verbose = 0 \n",
    "                    )\n",
    "    \n",
    "    \n",
    "    X_0_test = X_values[test,0:1]\n",
    "    X_1_test = X_values[test,1:73]\n",
    "    y_test = y_values[test]\n",
    "    \n",
    "#     dataset_length_test = tf.data.Dataset.from_tensor_slices((X_0_test, y_test)) \n",
    "#     dataset_list_test = tf.data.Dataset.from_tensor_slices((X_1_test, y_test)) \n",
    "    \n",
    "    scores = model.evaluate(\n",
    "                    {'list_input':X_1_train, 'length_input':X_0_train},\n",
    "                    {'predictions':y_train},\n",
    "                    verbose = 0)\n",
    "    \n",
    "    print(f'Accuracy = {scores[1]}.')\n",
    "    cvscores_acc.append(scores[1])\n",
    "    \n",
    "\n",
    "print(f'Mean Accuracy is {np.mean(cvscores_acc):.4f} and STD of Accuracy is {np.std(cvscores_acc):.4f}')"
   ]
  },
  {
   "cell_type": "code",
   "execution_count": null,
   "metadata": {},
   "outputs": [],
   "source": []
  },
  {
   "cell_type": "markdown",
   "metadata": {},
   "source": [
    "Ignore for now: Another possibility: Create TF Dataset using the corpus from gensim as a generator: Another possibility: Create TF Dataset using the corpus from gensim as a generator:"
   ]
  },
  {
   "cell_type": "code",
   "execution_count": null,
   "metadata": {},
   "outputs": [],
   "source": [
    "def corpus_gen():\n",
    "    for i in len(corpus):\n",
    "        yield (i, corpus[i])"
   ]
  },
  {
   "cell_type": "code",
   "execution_count": null,
   "metadata": {},
   "outputs": [],
   "source": [
    "dataset = tf.data.Dataset.from_generator(\n",
    "    corpus_gen,\n",
    "    (tf.int64, --tensor_one_hot--)\n",
    ")"
   ]
  }
 ],
 "metadata": {
  "kernelspec": {
   "display_name": "tf_genre",
   "language": "python",
   "name": "tf_genre"
  },
  "language_info": {
   "codemirror_mode": {
    "name": "ipython",
    "version": 3
   },
   "file_extension": ".py",
   "mimetype": "text/x-python",
   "name": "python",
   "nbconvert_exporter": "python",
   "pygments_lexer": "ipython3",
   "version": "3.8.3"
  }
 },
 "nbformat": 4,
 "nbformat_minor": 4
}
